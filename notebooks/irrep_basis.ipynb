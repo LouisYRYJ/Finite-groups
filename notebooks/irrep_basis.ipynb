{
 "cells": [
  {
   "cell_type": "code",
   "execution_count": 1,
   "id": "8293bd26-5402-4955-a9c6-ed25d4b90d4f",
   "metadata": {},
   "outputs": [],
   "source": [
    "import sys\n",
    "import torch as t\n",
    "import torch\n",
    "import numpy as np\n",
    "from matplotlib import pyplot as plt\n",
    "import json\n",
    "from itertools import product\n",
    "sys.path.append('/workspace/wilson/Finite-groups/src')\n",
    "from model import MLP3, MLP4, InstancedModule\n",
    "from utils import *\n",
    "from group_data import *\n",
    "from model_utils import *\n",
    "from group_utils import *\n",
    "from jaxtyping import Float\n",
    "from typing import Union\n",
    "from einops import repeat\n",
    "from torch.utils.data import DataLoader\n",
    "from tqdm.notebook import tqdm\n",
    "import plotly.graph_objects as go\n",
    "import copy\n",
    "import math\n",
    "from itertools import product\n",
    "from llc import *\n",
    "import pandas as pd\n",
    "%load_ext autoreload\n",
    "%autoreload 2"
   ]
  },
  {
   "cell_type": "code",
   "execution_count": 106,
   "id": "b5cbe6c1-ecf8-4748-bf1c-c1d2de5ec249",
   "metadata": {},
   "outputs": [],
   "source": [
    "#path = '/workspace/models/2024-08-14_21-24-30_gapS_5_'\n",
    "# path = '/workspace/models/2024-08-16_20-45-42_F11_MLP3_256'\n",
    "#path = '/workspace/models/2024-08-16_22-14-00_F11_MLP3_256_wd2e-4'\n",
    "path = '/workspace/models/2024-08-16_22-53-29_SL2_5_MLP3_256'\n",
    "#path = '/workspace/models/2024-08-22_00-54-00_SL2_5_MLP3_512'\n",
    "\n",
    "models, params = load_models(path, sel='final')"
   ]
  },
  {
   "cell_type": "code",
   "execution_count": 107,
   "id": "05584495-c4c4-445b-903a-a0f942f5d73f",
   "metadata": {},
   "outputs": [
    {
     "name": "stdout",
     "output_type": "stream",
     "text": [
      "Intersection size: 14400/14400 (1.00)\n",
      "Added 14400 elements from intersection\n",
      "Added 0 elements from group 0: smallgrp(120, 5)\n",
      "Taking random subset: 5760/14400 (0.40)\n",
      "Train set size: 5760/14400 (0.40)\n"
     ]
    }
   ],
   "source": [
    "data = GroupData(params)"
   ]
  },
  {
   "cell_type": "code",
   "execution_count": 108,
   "id": "ccb4a6de-eabe-4535-9d3f-df78a05f3633",
   "metadata": {},
   "outputs": [],
   "source": [
    "loss_dict = test_loss(models[-1].to(device), data)"
   ]
  },
  {
   "cell_type": "code",
   "execution_count": 109,
   "id": "dfbeeb98-3651-45bb-a81b-b5c2b959a2a0",
   "metadata": {},
   "outputs": [
    {
     "data": {
      "text/plain": [
       "(0.05674691125750542, 19)"
      ]
     },
     "execution_count": 109,
     "metadata": {},
     "output_type": "execute_result"
    }
   ],
   "source": [
    "loss_dict['G0_loss'].min().item(), loss_dict['G0_loss'].argmin().item()"
   ]
  },
  {
   "cell_type": "code",
   "execution_count": 110,
   "id": "0c849b59-7b89-4ace-b012-60bfe353dc3e",
   "metadata": {},
   "outputs": [],
   "source": [
    "instance = loss_dict['G0_loss'].argmin().item()"
   ]
  },
  {
   "cell_type": "code",
   "execution_count": 111,
   "id": "1b3e1c90-45f9-43dc-b2bf-6fa305d7d196",
   "metadata": {},
   "outputs": [],
   "source": [
    "model = models[-1][instance].to(device)\n",
    "lneurons, rneurons = model.get_neurons()\n",
    "unembed = model.unembedding.data.detach()\n",
    "lneurons, rneurons, unembed = lneurons.squeeze(0).to('cpu'), rneurons.squeeze(0).to('cpu'), unembed.squeeze(0).to('cpu')"
   ]
  },
  {
   "cell_type": "code",
   "execution_count": 112,
   "id": "04184b29-932c-4ecd-8632-babcb5da92d3",
   "metadata": {},
   "outputs": [],
   "source": [
    "irreps = data.groups[0].get_real_irreps()"
   ]
  },
  {
   "cell_type": "code",
   "execution_count": 113,
   "id": "3976e018-0b72-4509-addf-fef74191123c",
   "metadata": {},
   "outputs": [
    {
     "data": {
      "text/plain": [
       "dict_keys(['1d-0', '4d-0', '4d-1', '3d-0', '3d-1', '4d-2', '8d-0', '5d-0', '12d-0'])"
      ]
     },
     "execution_count": 113,
     "metadata": {},
     "output_type": "execute_result"
    }
   ],
   "source": [
    "irreps.keys()"
   ]
  },
  {
   "cell_type": "code",
   "execution_count": 114,
   "id": "75ab5326-1736-4637-ab95-33c059fe4a3c",
   "metadata": {},
   "outputs": [],
   "source": [
    "irrep_bases = dict()\n",
    "for name, irrep in irreps.items():\n",
    "    irrep = einops.rearrange(irrep, 'N d1 d2 -> N (d1 d2)')\n",
    "    U, S, V = torch.svd(irrep)\n",
    "    nonzero = S > 1e-5\n",
    "    irrep_bases[name] = U[:,nonzero]"
   ]
  },
  {
   "cell_type": "code",
   "execution_count": 115,
   "id": "a10c3cdc-8e18-4e90-b678-254f32a19692",
   "metadata": {},
   "outputs": [
    {
     "name": "stdout",
     "output_type": "stream",
     "text": [
      "1d-0 torch.Size([120, 1])\n",
      "4d-0 torch.Size([120, 4])\n",
      "4d-1 torch.Size([120, 4])\n",
      "3d-0 torch.Size([120, 9])\n",
      "3d-1 torch.Size([120, 9])\n",
      "4d-2 torch.Size([120, 16])\n",
      "8d-0 torch.Size([120, 16])\n",
      "5d-0 torch.Size([120, 25])\n",
      "12d-0 torch.Size([120, 36])\n"
     ]
    }
   ],
   "source": [
    "for k, v in irrep_bases.items():\n",
    "    print(k, v.shape)"
   ]
  },
  {
   "cell_type": "code",
   "execution_count": 116,
   "id": "e92d87e1-4c79-4e07-b4ab-f498c8decf67",
   "metadata": {},
   "outputs": [],
   "source": [
    "lexpl = dict()\n",
    "for name, basis in irrep_bases.items():\n",
    "    proj = basis.T @ lneurons\n",
    "    lexpl[name] = proj.norm(dim=0)**2 / (lneurons.norm(dim=0)**2 + 1e-8)\n",
    "    #lexpl[name] = lexpl[name].nan_to_num(-1.)"
   ]
  },
  {
   "cell_type": "code",
   "execution_count": 117,
   "id": "f924df90-7cff-4ef7-9aa3-ba25ed20f41a",
   "metadata": {},
   "outputs": [],
   "source": [
    "lexpl_total, lirrep = t.stack(list(lexpl.values()), dim=0).max(dim=0)"
   ]
  },
  {
   "cell_type": "code",
   "execution_count": 118,
   "id": "2491041c-1a7b-4769-8cee-7431d1c44c23",
   "metadata": {},
   "outputs": [
    {
     "data": {
      "text/plain": [
       "tensor([9.6526e-01, 9.6479e-01, 9.9998e-01, 2.1284e-12, 9.9998e-01, 4.3271e-07,\n",
       "        1.3073e-03, 9.9999e-01, 2.3386e-10, 0.0000e+00, 9.9993e-01, 1.0090e-07,\n",
       "        9.9999e-01, 1.8392e-05, 9.9998e-01, 9.9998e-01, 9.6624e-01, 9.6942e-01,\n",
       "        9.6445e-01, 9.9999e-01, 2.9427e-36, 9.9998e-01, 9.7221e-01, 1.5505e-01,\n",
       "        2.0718e-08, 9.9999e-01, 9.6206e-01, 0.0000e+00, 1.4253e-02, 0.0000e+00,\n",
       "        9.6459e-01, 5.8649e-27, 9.6874e-01, 9.6685e-01, 7.1095e-03, 9.6357e-01,\n",
       "        9.4334e-01, 9.7287e-01, 9.6502e-01, 9.6088e-01, 9.7725e-01, 9.6819e-01,\n",
       "        7.0039e-18, 9.6431e-01, 9.9999e-01, 9.3428e-07, 0.0000e+00, 9.6488e-01,\n",
       "        9.7382e-15, 9.6426e-01, 9.9998e-01, 9.7209e-01, 9.9998e-01, 9.9996e-01,\n",
       "        1.1178e-32, 9.9999e-01, 8.7067e-32, 3.6153e-06, 9.6504e-01, 8.9453e-27,\n",
       "        9.7123e-01, 2.6629e-02, 1.8293e-03, 0.0000e+00, 5.1622e-01, 9.9999e-01,\n",
       "        9.6935e-01, 9.6175e-01, 9.9998e-01, 1.3225e-02, 9.6642e-01, 9.6330e-01,\n",
       "        9.9999e-01, 9.7611e-01, 9.6535e-01, 9.6719e-01, 0.0000e+00, 9.6934e-01,\n",
       "        4.0572e-28, 9.9999e-01, 9.7591e-01, 9.6472e-01, 9.6144e-01, 9.7017e-01,\n",
       "        9.6540e-01, 9.6982e-01, 9.6637e-01, 9.6573e-01, 9.6913e-01, 9.6811e-01,\n",
       "        9.6822e-01, 9.7881e-01, 9.9999e-01, 9.6393e-01, 1.1099e-02, 9.7051e-01,\n",
       "        9.9998e-01, 9.6404e-01, 1.0550e-06, 9.7393e-01, 9.5724e-01, 9.6910e-01,\n",
       "        9.6750e-01, 9.6849e-01, 4.9064e-17, 5.4398e-04, 6.6549e-31, 9.7249e-18,\n",
       "        9.6552e-01, 9.6839e-01, 9.6356e-01, 4.9256e-22, 9.6107e-01, 3.0219e-31,\n",
       "        9.6030e-01, 9.7039e-01, 9.6556e-01, 9.7365e-01, 9.9998e-01, 9.9999e-01,\n",
       "        9.6845e-01, 8.7721e-35, 9.7084e-01, 9.7328e-01, 9.6055e-01, 1.5175e-01,\n",
       "        9.5924e-01, 9.6636e-01, 9.9998e-01, 9.6194e-01, 9.6464e-01, 9.6921e-01,\n",
       "        9.9998e-01, 9.7079e-01, 9.6666e-01, 9.5799e-01, 9.9999e-01, 9.6548e-01,\n",
       "        5.0360e-33, 9.9999e-01, 9.7085e-01, 9.6873e-01, 9.9998e-01, 9.9997e-01,\n",
       "        9.9995e-01, 1.1340e-02, 1.5672e-05, 3.8426e-25, 9.9999e-01, 9.9997e-01,\n",
       "        9.5277e-02, 6.5014e-10, 9.6171e-01, 9.9999e-01, 9.6659e-01, 9.5714e-01,\n",
       "        9.6751e-01, 9.6775e-01, 9.6958e-01, 9.5892e-01, 9.6297e-01, 9.6725e-01,\n",
       "        9.6065e-01, 6.7427e-01, 1.1757e-08, 9.6607e-01, 9.6175e-01, 9.1957e-01,\n",
       "        9.7556e-01, 9.6248e-01, 9.7040e-01, 9.6576e-01, 1.4482e-04, 9.5912e-01,\n",
       "        1.1045e-30, 9.5824e-01, 9.6985e-01, 9.6488e-01, 9.9999e-01, 9.6557e-01,\n",
       "        4.4929e-29, 9.7585e-01, 9.6767e-01, 9.6750e-01, 9.6442e-01, 9.6569e-01,\n",
       "        9.6406e-01, 0.0000e+00, 9.7101e-01, 9.6791e-01, 6.7189e-01, 9.4576e-01,\n",
       "        9.6992e-01, 9.4588e-01, 9.6026e-01, 9.7238e-01, 9.5750e-01, 9.9999e-01,\n",
       "        9.9985e-01, 9.6912e-01, 9.9998e-01, 9.7620e-01, 9.7661e-01, 9.6098e-01,\n",
       "        6.0643e-01, 9.9998e-01, 9.7136e-01, 9.9998e-01, 1.4949e-12, 9.9999e-01,\n",
       "        9.2607e-01, 9.9999e-01, 9.6516e-01, 9.9996e-01, 9.9998e-01, 9.9998e-01,\n",
       "        9.6876e-01, 9.9999e-01, 9.6509e-01, 9.6017e-01, 9.5896e-01, 3.3520e-03,\n",
       "        9.9999e-01, 9.7134e-01, 3.6748e-15, 2.2697e-06, 9.9999e-01, 9.6837e-01,\n",
       "        9.9998e-01, 3.5916e-08, 4.3886e-12, 3.9511e-07, 9.6669e-01, 9.6867e-01,\n",
       "        1.0169e-02, 9.9996e-01, 9.6852e-01, 9.6768e-01, 9.6527e-01, 1.8060e-32,\n",
       "        9.6334e-01, 8.2086e-23, 2.3234e-19, 0.0000e+00, 9.9999e-01, 2.2210e-06,\n",
       "        9.6563e-01, 9.6315e-01, 6.3009e-07, 2.3103e-16, 9.6115e-01, 0.0000e+00,\n",
       "        9.9999e-01, 9.6545e-01, 9.9997e-01, 9.7130e-01])"
      ]
     },
     "execution_count": 118,
     "metadata": {},
     "output_type": "execute_result"
    }
   ],
   "source": [
    "lexpl_total"
   ]
  },
  {
   "cell_type": "code",
   "execution_count": 119,
   "id": "d27a9f1f-6390-4481-9c5c-f2a47e0115a3",
   "metadata": {},
   "outputs": [],
   "source": [
    "irrep_counts = defaultdict(lambda: 0)\n",
    "for i in range(lexpl_total.shape[0]):\n",
    "    if t.isnan(lexpl_total[i]):\n",
    "        irrep_counts['dead'] += 1\n",
    "    elif lexpl_total[i] < 0.95:\n",
    "        irrep_counts['none'] += 1\n",
    "    else:\n",
    "        irrep_counts[list(lexpl.keys())[lirrep[i]]] += 1\n"
   ]
  },
  {
   "cell_type": "code",
   "execution_count": 131,
   "id": "758eaafa-53f3-4666-bc4b-cfdf22a4843a",
   "metadata": {},
   "outputs": [
    {
     "data": {
      "text/plain": [
       "'2,4,7,10,12,14,15,19,21,25,44,50,52,53,55,65,68,72,79,92,96,118,119,128,132,136,139,142,143,144,148,149,153,178,197,200,205,207,209,211,213,214,215,217,222,226,228,235,244,252,254'"
      ]
     },
     "execution_count": 131,
     "metadata": {},
     "output_type": "execute_result"
    }
   ],
   "source": [
    "','.join(map(str, (lexpl['4d-2'] > 0.9999).nonzero().flatten().tolist()))"
   ]
  },
  {
   "cell_type": "code",
   "execution_count": 125,
   "id": "3fbb6381-9448-4ba7-930a-4cd42800bb0b",
   "metadata": {},
   "outputs": [
    {
     "data": {
      "text/plain": [
       "tensor(1.0000)"
      ]
     },
     "execution_count": 125,
     "metadata": {},
     "output_type": "execute_result"
    }
   ],
   "source": [
    "lexpl['4d-2'][7]"
   ]
  },
  {
   "cell_type": "code",
   "execution_count": 126,
   "id": "1b0327cc-1850-4940-9258-f4edff159c7b",
   "metadata": {},
   "outputs": [
    {
     "data": {
      "text/plain": [
       "defaultdict(<function __main__.<lambda>()>,\n",
       "            {'4d-1': 129, '4d-2': 52, 'none': 75})"
      ]
     },
     "execution_count": 126,
     "metadata": {},
     "output_type": "execute_result"
    }
   ],
   "source": [
    "irrep_counts"
   ]
  },
  {
   "cell_type": "code",
   "execution_count": 97,
   "id": "defec7bf-8ff4-4b56-8dd1-8cdc6eec15a7",
   "metadata": {},
   "outputs": [],
   "source": [
    "irrep1_neurons = [i for i in range(lneurons.shape[-1]) if lexpl['4d-1'][i].item() > 0.95]"
   ]
  },
  {
   "cell_type": "code",
   "execution_count": 98,
   "id": "65249003-3b06-490f-8c5c-53674b16a559",
   "metadata": {},
   "outputs": [],
   "source": [
    "irrep2_neurons = [i for i in range(lneurons.shape[-1]) if lexpl['4d-2'][i].item() > 0.95]"
   ]
  },
  {
   "cell_type": "code",
   "execution_count": 99,
   "id": "fbec1159-3c4b-4434-b163-11b0c88192df",
   "metadata": {},
   "outputs": [],
   "source": [
    "none_neurons = [i for i in range(lneurons.shape[-1]) if  lexpl['4d-1'][i].item() < 0.90 and  lexpl['4d-2'][i].item() < 0.90]"
   ]
  },
  {
   "cell_type": "code",
   "execution_count": null,
   "id": "5193f035-257f-4ad1-8361-bab450950c0c",
   "metadata": {},
   "outputs": [],
   "source": []
  },
  {
   "cell_type": "code",
   "execution_count": 100,
   "id": "7c3d656a-ab1d-4a82-98d1-7ba811563bb5",
   "metadata": {},
   "outputs": [
    {
     "data": {
      "text/plain": [
       "tensor(7.8797)"
      ]
     },
     "execution_count": 100,
     "metadata": {},
     "output_type": "execute_result"
    }
   ],
   "source": [
    "lneurons[:,irrep1_neurons].norm(dim=0).mean()  # 4d-1"
   ]
  },
  {
   "cell_type": "code",
   "execution_count": 101,
   "id": "472ee453-849d-48f6-824f-4df149dcc375",
   "metadata": {},
   "outputs": [
    {
     "data": {
      "text/plain": [
       "tensor(19.2476)"
      ]
     },
     "execution_count": 101,
     "metadata": {},
     "output_type": "execute_result"
    }
   ],
   "source": [
    "lneurons[:,irrep2_neurons].norm(dim=0).mean()  # 4d-2"
   ]
  },
  {
   "cell_type": "code",
   "execution_count": 102,
   "id": "42a4415d-d6dd-4e85-b9cb-e4dbe7a09fb5",
   "metadata": {},
   "outputs": [
    {
     "data": {
      "text/plain": [
       "tensor(0.0084)"
      ]
     },
     "execution_count": 102,
     "metadata": {},
     "output_type": "execute_result"
    }
   ],
   "source": [
    "lneurons[:,none_neurons].norm(dim=0).mean()  # none"
   ]
  },
  {
   "cell_type": "code",
   "execution_count": null,
   "id": "d41b8851-f650-4961-9c9a-9e6d4ede77e2",
   "metadata": {},
   "outputs": [],
   "source": []
  },
  {
   "cell_type": "code",
   "execution_count": 25,
   "id": "7dc59f10-3804-414f-91fe-845b31b50b6b",
   "metadata": {},
   "outputs": [
    {
     "data": {
      "text/plain": [
       "287"
      ]
     },
     "execution_count": 25,
     "metadata": {},
     "output_type": "execute_result"
    }
   ],
   "source": [
    "len(none_neurons)"
   ]
  },
  {
   "cell_type": "code",
   "execution_count": 26,
   "id": "f28bc482-98d3-4e9d-829a-006f58522892",
   "metadata": {},
   "outputs": [
    {
     "data": {
      "text/plain": [
       "(tensor([0.0547], device='cuda:0'), tensor([0.0547], device='cuda:0'))"
      ]
     },
     "execution_count": 26,
     "metadata": {},
     "output_type": "execute_result"
    }
   ],
   "source": [
    "ablate_model = copy.deepcopy(model)\n",
    "ablate_model.unembedding.data[0,none_neurons,:] = 0.\n",
    "loss_dict = test_loss(model.to(device), data)\n",
    "ablate_loss_dict = test_loss(ablate_model.to(device), data)\n",
    "loss_dict['G0_loss'], ablate_loss_dict['G0_loss']"
   ]
  },
  {
   "cell_type": "code",
   "execution_count": 44,
   "id": "f6ec78d8-4fca-4119-8e23-5a97dadd1e0a",
   "metadata": {},
   "outputs": [
    {
     "data": {
      "text/plain": [
       "tensor(0.9998)"
      ]
     },
     "execution_count": 44,
     "metadata": {},
     "output_type": "execute_result"
    }
   ],
   "source": [
    "lexpl['10d-0'][lexpl['10d-0'] > 0.9].min()"
   ]
  },
  {
   "cell_type": "code",
   "execution_count": 27,
   "id": "c94da501-8bbf-4846-946e-0efa13960cfc",
   "metadata": {},
   "outputs": [
    {
     "data": {
      "text/plain": [
       "[0, 1, 2, 3, 4, 5, 6, 7, 8, 9]"
      ]
     },
     "execution_count": 27,
     "metadata": {},
     "output_type": "execute_result"
    }
   ],
   "source": [
    "none_neurons[:10]"
   ]
  },
  {
   "cell_type": "code",
   "execution_count": 32,
   "id": "966b989c-d0c8-4c9b-996b-f3fc2e5c29e6",
   "metadata": {},
   "outputs": [
    {
     "data": {
      "text/plain": [
       "[10, 12, 20, 27, 29, 32, 33, 36, 41, 50]"
      ]
     },
     "execution_count": 32,
     "metadata": {},
     "output_type": "execute_result"
    }
   ],
   "source": [
    "irrep1_neurons[:10]"
   ]
  },
  {
   "cell_type": "code",
   "execution_count": 33,
   "id": "1e51a601-75fa-4062-8542-e5eb14c9e34e",
   "metadata": {},
   "outputs": [
    {
     "data": {
      "text/plain": [
       "tensor([ 0.4543, -0.3215, -0.3866,  0.0658,  0.2849,  0.7146, -0.7001, -0.3519,\n",
       "        -0.0293,  0.4451,  0.3903, -0.2266, -0.3949,  0.0404,  0.0277,  0.4426,\n",
       "        -0.6026,  0.3797,  0.1790, -0.2919,  0.2380, -0.6539,  0.3580,  0.8155,\n",
       "        -0.7410, -0.1023,  0.5109, -0.3375, -0.7893,  0.7420, -0.1855,  0.1518,\n",
       "        -0.0982, -0.1477,  0.2011, -0.7619,  0.6268,  0.4548, -0.0048, -0.3954,\n",
       "        -0.4225,  0.3286,  0.2775, -0.1781,  0.0290,  0.5364,  0.0485,  0.7303,\n",
       "        -0.8946, -0.3909,  0.1954, -0.7090, -0.6683,  0.7218,  0.4182, -0.2136,\n",
       "         0.5629,  0.4081,  0.0235, -0.6883, -0.3297,  0.3457,  0.0522,  0.0737,\n",
       "         0.0315,  0.6407, -0.5912,  0.1984, -0.5789,  0.2211, -0.6088,  0.4773,\n",
       "        -0.0368, -0.3619,  0.7157, -0.9290, -0.1772, -0.3477,  0.6074,  0.6088,\n",
       "        -0.5665,  0.3696, -0.3070,  0.1151,  0.5380, -0.0693,  0.0309, -0.3814,\n",
       "         0.2836,  0.1523,  0.3601,  0.2906, -0.1990, -0.0784, -0.4478, -0.3114,\n",
       "         0.5049,  0.5742, -0.6757, -0.0480,  0.6064,  0.1887,  0.2825, -0.6303,\n",
       "        -0.5781,  0.6030,  0.3211, -0.5657,  0.0799, -0.6164, -0.6848, -0.1522,\n",
       "         0.5089,  0.4886, -0.1322,  0.1884, -0.3874, -0.5664,  0.5354,  0.1950])"
      ]
     },
     "execution_count": 33,
     "metadata": {},
     "output_type": "execute_result"
    }
   ],
   "source": [
    "lneurons[:,10]"
   ]
  },
  {
   "cell_type": "code",
   "execution_count": null,
   "id": "1b21623e-4ec7-4955-8e66-e3b079fcf43c",
   "metadata": {},
   "outputs": [],
   "source": []
  }
 ],
 "metadata": {
  "kernelspec": {
   "display_name": "Python 3 (ipykernel)",
   "language": "python",
   "name": "python3"
  },
  "language_info": {
   "codemirror_mode": {
    "name": "ipython",
    "version": 3
   },
   "file_extension": ".py",
   "mimetype": "text/x-python",
   "name": "python",
   "nbconvert_exporter": "python",
   "pygments_lexer": "ipython3",
   "version": "3.10.12"
  }
 },
 "nbformat": 4,
 "nbformat_minor": 5
}
