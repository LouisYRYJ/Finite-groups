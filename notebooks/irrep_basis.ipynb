{
 "cells": [
  {
   "cell_type": "code",
   "execution_count": 1,
   "id": "8293bd26-5402-4955-a9c6-ed25d4b90d4f",
   "metadata": {},
   "outputs": [],
   "source": [
    "import sys\n",
    "import torch as t\n",
    "import torch\n",
    "import numpy as np\n",
    "from matplotlib import pyplot as plt\n",
    "import json\n",
    "from itertools import product\n",
    "sys.path.append('/workspace/wilson/Finite-groups/src')\n",
    "from model import MLP3, MLP4, InstancedModule\n",
    "from utils import *\n",
    "from group_data import *\n",
    "from model_utils import *\n",
    "from group_utils import *\n",
    "from jaxtyping import Float\n",
    "from typing import Union\n",
    "from einops import repeat\n",
    "from torch.utils.data import DataLoader\n",
    "from tqdm.notebook import tqdm\n",
    "import plotly.graph_objects as go\n",
    "import copy\n",
    "import math\n",
    "from itertools import product\n",
    "from llc import *\n",
    "import pandas as pd\n",
    "%load_ext autoreload\n",
    "%autoreload 2"
   ]
  },
  {
   "cell_type": "code",
   "execution_count": 17,
   "id": "b5cbe6c1-ecf8-4748-bf1c-c1d2de5ec249",
   "metadata": {},
   "outputs": [],
   "source": [
    "#path = '/workspace/models/2024-08-14_21-24-30_gapS_5_'\n",
    "# path = '/workspace/models/2024-08-16_20-45-42_F11_MLP3_256'\n",
    "#path = '/workspace/models/2024-08-16_22-14-00_F11_MLP3_256_wd2e-4'\n",
    "path = '/workspace/models/2024-08-16_22-53-29_SL2_5_MLP3_256'\n",
    "models, params = load_models(path)"
   ]
  },
  {
   "cell_type": "code",
   "execution_count": 18,
   "id": "05584495-c4c4-445b-903a-a0f942f5d73f",
   "metadata": {},
   "outputs": [
    {
     "name": "stdout",
     "output_type": "stream",
     "text": [
      "Intersection size: 14400/14400 (1.00)\n",
      "Added 14400 elements from intersection\n",
      "Added 0 elements from group 0: smallgrp(120, 5)\n",
      "Taking random subset: 5760/14400 (0.40)\n",
      "Train set size: 5760/14400 (0.40)\n"
     ]
    }
   ],
   "source": [
    "data = GroupData(params)"
   ]
  },
  {
   "cell_type": "code",
   "execution_count": 19,
   "id": "ccb4a6de-eabe-4535-9d3f-df78a05f3633",
   "metadata": {},
   "outputs": [],
   "source": [
    "loss_dict = test_loss(models[-1].to(device), data)"
   ]
  },
  {
   "cell_type": "code",
   "execution_count": 20,
   "id": "dfbeeb98-3651-45bb-a81b-b5c2b959a2a0",
   "metadata": {},
   "outputs": [
    {
     "data": {
      "text/plain": [
       "(0.05674691125750542, 19)"
      ]
     },
     "execution_count": 20,
     "metadata": {},
     "output_type": "execute_result"
    }
   ],
   "source": [
    "loss_dict['G0_loss'].min().item(), loss_dict['G0_loss'].argmin().item()"
   ]
  },
  {
   "cell_type": "code",
   "execution_count": 21,
   "id": "0c849b59-7b89-4ace-b012-60bfe353dc3e",
   "metadata": {},
   "outputs": [],
   "source": [
    "instance = loss_dict['G0_loss'].argmin().item()"
   ]
  },
  {
   "cell_type": "code",
   "execution_count": 22,
   "id": "1b3e1c90-45f9-43dc-b2bf-6fa305d7d196",
   "metadata": {},
   "outputs": [],
   "source": [
    "model = models[-1][instance].to(device)\n",
    "lneurons, rneurons = model.get_neurons()\n",
    "unembed = model.unembedding.data.detach()\n",
    "lneurons, rneurons, unembed = lneurons.squeeze(0).to('cpu'), rneurons.squeeze(0).to('cpu'), unembed.squeeze(0).to('cpu')"
   ]
  },
  {
   "cell_type": "code",
   "execution_count": 23,
   "id": "04184b29-932c-4ecd-8632-babcb5da92d3",
   "metadata": {},
   "outputs": [],
   "source": [
    "irreps = data.groups[0].get_real_irreps()"
   ]
  },
  {
   "cell_type": "code",
   "execution_count": 24,
   "id": "3976e018-0b72-4509-addf-fef74191123c",
   "metadata": {},
   "outputs": [
    {
     "data": {
      "text/plain": [
       "dict_keys(['1d-0', '4d-0', '4d-1', '3d-0', '3d-1', '4d-2', '8d-0', '5d-0', '12d-0'])"
      ]
     },
     "execution_count": 24,
     "metadata": {},
     "output_type": "execute_result"
    }
   ],
   "source": [
    "irreps.keys()"
   ]
  },
  {
   "cell_type": "code",
   "execution_count": 25,
   "id": "75ab5326-1736-4637-ab95-33c059fe4a3c",
   "metadata": {},
   "outputs": [],
   "source": [
    "irrep_bases = dict()\n",
    "for name, irrep in irreps.items():\n",
    "    irrep = einops.rearrange(irrep, 'N d1 d2 -> N (d1 d2)')\n",
    "    U, S, V = torch.svd(irrep)\n",
    "    nonzero = S > 1e-5\n",
    "    irrep_bases[name] = U[:,nonzero]"
   ]
  },
  {
   "cell_type": "code",
   "execution_count": 26,
   "id": "a10c3cdc-8e18-4e90-b678-254f32a19692",
   "metadata": {},
   "outputs": [
    {
     "name": "stdout",
     "output_type": "stream",
     "text": [
      "1d-0 torch.Size([120, 1])\n",
      "4d-0 torch.Size([120, 4])\n",
      "4d-1 torch.Size([120, 4])\n",
      "3d-0 torch.Size([120, 9])\n",
      "3d-1 torch.Size([120, 9])\n",
      "4d-2 torch.Size([120, 16])\n",
      "8d-0 torch.Size([120, 16])\n",
      "5d-0 torch.Size([120, 25])\n",
      "12d-0 torch.Size([120, 36])\n"
     ]
    }
   ],
   "source": [
    "for k, v in irrep_bases.items():\n",
    "    print(k, v.shape)"
   ]
  },
  {
   "cell_type": "code",
   "execution_count": 27,
   "id": "e92d87e1-4c79-4e07-b4ab-f498c8decf67",
   "metadata": {},
   "outputs": [],
   "source": [
    "lexpl = dict()\n",
    "for name, basis in irrep_bases.items():\n",
    "    proj = basis.T @ lneurons\n",
    "    lexpl[name] = proj.norm(dim=0)**2 / lneurons.norm(dim=0)**2\n",
    "    #lexpl[name] = lexpl[name].nan_to_num(-1.)"
   ]
  },
  {
   "cell_type": "code",
   "execution_count": 28,
   "id": "f924df90-7cff-4ef7-9aa3-ba25ed20f41a",
   "metadata": {},
   "outputs": [],
   "source": [
    "lexpl_total, lirrep = t.stack(list(lexpl.values()), dim=0).max(dim=0)"
   ]
  },
  {
   "cell_type": "code",
   "execution_count": 29,
   "id": "2491041c-1a7b-4769-8cee-7431d1c44c23",
   "metadata": {},
   "outputs": [
    {
     "data": {
      "text/plain": [
       "tensor([0.9653, 0.9648, 1.0000, 0.9718, 1.0000, 0.9315, 0.9656, 1.0000, 0.8626,\n",
       "           nan, 0.9999, 0.9543, 1.0000, 0.9564, 1.0000, 1.0000, 0.9662, 0.9694,\n",
       "        0.9645, 1.0000, 2.6250, 1.0000, 0.9722, 0.9590, 0.9625, 1.0000, 0.9621,\n",
       "           nan, 0.9601,    nan, 0.9646, 0.9591, 0.9687, 0.9668, 0.9626, 0.9636,\n",
       "        0.9433, 0.9729, 0.9650, 0.9609, 0.9772, 0.9682, 0.9649, 0.9643, 1.0000,\n",
       "        0.9648,    nan, 0.9649, 0.9610, 0.9643, 1.0000, 0.9721, 1.0000, 1.0000,\n",
       "        0.9689, 1.0000, 0.9651, 0.9406, 0.9650, 0.9604, 0.9712, 0.9592, 0.9573,\n",
       "           nan, 0.9654, 1.0000, 0.9693, 0.9617, 1.0000, 0.9703, 0.9664, 0.9633,\n",
       "        1.0000, 0.9761, 0.9653, 0.9672,    nan, 0.9693, 0.9355, 1.0000, 0.9759,\n",
       "        0.9647, 0.9614, 0.9702, 0.9654, 0.9698, 0.9664, 0.9657, 0.9691, 0.9681,\n",
       "        0.9682, 0.9788, 1.0000, 0.9639, 0.9591, 0.9705, 1.0000, 0.9640, 0.9612,\n",
       "        0.9739, 0.9572, 0.9691, 0.9675, 0.9685, 0.9566, 0.9462, 0.9761, 0.9674,\n",
       "        0.9655, 0.9684, 0.9636, 0.9610, 0.9619, 0.9681, 0.9603, 0.9704, 0.9656,\n",
       "        0.9736, 1.0000, 1.0000, 0.9684, 0.9705, 0.9708, 0.9733, 0.9605, 0.9504,\n",
       "        0.9592, 0.9664, 1.0000, 0.9619, 0.9646, 0.9692, 1.0000, 0.9708, 0.9667,\n",
       "        0.9580, 1.0000, 0.9655, 0.9620, 1.0000, 0.9708, 0.9687, 1.0000, 1.0000,\n",
       "        0.9999, 0.9596, 0.9506, 0.9697, 1.0000, 1.0000, 0.9537, 0.8685, 0.9617,\n",
       "        1.0000, 0.9666, 0.9571, 0.9675, 0.9678, 0.9696, 0.9589, 0.9630, 0.9673,\n",
       "        0.9606, 0.9717, 0.9647, 0.9661, 0.9665, 0.9616, 0.9756, 0.9625, 0.9704,\n",
       "        0.9658, 0.9726, 0.9591, 0.9619, 0.9582, 0.9699, 0.9649, 1.0000, 0.9656,\n",
       "        0.9542, 0.9758, 0.9677, 0.9675, 0.9644, 0.9657, 0.9641,    nan, 0.9710,\n",
       "        0.9679, 0.9221, 0.9458, 0.9699, 0.9459, 0.9603, 0.9724, 0.9575, 1.0000,\n",
       "        0.9998, 0.9691, 1.0000, 0.9762, 0.9766, 0.9610, 0.9664, 1.0000, 0.9714,\n",
       "        1.0000, 0.9699, 1.0000, 0.9435, 1.0000, 0.9652, 1.0000, 1.0000, 1.0000,\n",
       "        0.9688, 1.0000, 0.9651, 0.9602, 0.9590, 0.9557, 1.0000, 0.9713, 0.9569,\n",
       "        0.9546, 1.0000, 0.9684, 1.0000, 0.9701, 0.9596, 0.9555, 0.9667, 0.9687,\n",
       "        0.9552, 1.0000, 0.9685, 0.9677, 0.9653, 0.9603, 0.9633, 0.9686, 0.9570,\n",
       "           nan, 1.0000, 0.9490, 0.9656, 0.9636, 0.9629, 0.9323, 0.9722,    nan,\n",
       "        1.0000, 0.9654, 1.0000, 0.9713])"
      ]
     },
     "execution_count": 29,
     "metadata": {},
     "output_type": "execute_result"
    }
   ],
   "source": [
    "lexpl_total"
   ]
  },
  {
   "cell_type": "code",
   "execution_count": 30,
   "id": "d27a9f1f-6390-4481-9c5c-f2a47e0115a3",
   "metadata": {},
   "outputs": [],
   "source": [
    "irrep_counts = defaultdict(lambda: 0)\n",
    "for i in range(lexpl_total.shape[0]):\n",
    "    if t.isnan(lexpl_total[i]):\n",
    "        irrep_counts['dead'] += 1\n",
    "    elif lexpl_total[i] < 0.95:\n",
    "        irrep_counts['none'] += 1\n",
    "    else:\n",
    "        irrep_counts[list(lexpl.keys())[lirrep[i]]] += 1\n"
   ]
  },
  {
   "cell_type": "code",
   "execution_count": 31,
   "id": "1b0327cc-1850-4940-9258-f4edff159c7b",
   "metadata": {},
   "outputs": [
    {
     "data": {
      "text/plain": [
       "defaultdict(<function __main__.<lambda>()>,\n",
       "            {'4d-1': 182, '4d-2': 52, 'none': 13, 'dead': 9})"
      ]
     },
     "execution_count": 31,
     "metadata": {},
     "output_type": "execute_result"
    }
   ],
   "source": [
    "irrep_counts"
   ]
  },
  {
   "cell_type": "code",
   "execution_count": 43,
   "id": "defec7bf-8ff4-4b56-8dd1-8cdc6eec15a7",
   "metadata": {},
   "outputs": [],
   "source": [
    "irrep1_neurons = [i for i in range(lneurons.shape[-1]) if lexpl['4d-1'][i].item() > 0.95]"
   ]
  },
  {
   "cell_type": "code",
   "execution_count": 40,
   "id": "65249003-3b06-490f-8c5c-53674b16a559",
   "metadata": {},
   "outputs": [],
   "source": [
    "irrep2_neurons = [i for i in range(lneurons.shape[-1]) if lexpl['4d-2'][i].item() > 0.95]"
   ]
  },
  {
   "cell_type": "code",
   "execution_count": null,
   "id": "942c9fd0-f5a6-4831-b40b-cd46c16886c2",
   "metadata": {},
   "outputs": [],
   "source": [
    "len(irrep1_neu"
   ]
  },
  {
   "cell_type": "code",
   "execution_count": 45,
   "id": "db9f2a9c-678a-4bf4-a347-9ffbe6181b59",
   "metadata": {},
   "outputs": [
    {
     "data": {
      "text/plain": [
       "'0,1,3,6,11,13,16,17,18,20,22,23,24,26,28,30,31,32,33,34,35,37,38,39,40,41,42,43,45,47,48,49,51,54,56,58,59,60,61,62,64,66,67,69,70,71,73,74,75,77,80,81,82,83,84,85,86,87,88,89,90,91,93,94,95,97,98,99,100,101,102,103,104,106,107,108,109,110,111,112,113,114,115,116,117,120,121,122,123,124,125,126,127,129,130,131,133,134,135,137,138,140,141,145,146,147,150,152,154,155,156,157,158,159,160,161,162,163,164,165,166,167,168,169,170,171,172,173,174,175,176,177,179,180,181,182,183,184,185,186,188,189,192,194,195,196,199,201,202,203,204,206,208,212,216,218,219,220,221,223,224,225,227,229,230,231,232,233,234,236,237,238,239,240,241,242,246,247,248,250,253,255'"
      ]
     },
     "execution_count": 45,
     "metadata": {},
     "output_type": "execute_result"
    }
   ],
   "source": [
    "','.join(map(str, irrep1_neurons))"
   ]
  },
  {
   "cell_type": "code",
   "execution_count": 34,
   "id": "aca103e1-5181-4bb6-a179-6406ccc908b0",
   "metadata": {},
   "outputs": [
    {
     "data": {
      "text/plain": [
       "tensor([0.0085, 0.0055, 1.0000, 0.0044, 1.0000, 0.0419, 0.0011, 1.0000, 0.1167,\n",
       "           nan, 0.9999, 0.0250, 1.0000, 0.0179, 1.0000, 1.0000, 0.0071, 0.0021,\n",
       "        0.0056, 1.0000, 0.0000, 1.0000, 0.0013, 0.0229, 0.0133, 1.0000, 0.0154,\n",
       "           nan, 0.0056,    nan, 0.0052, 0.0068, 0.0052, 0.0074, 0.0039, 0.0024,\n",
       "        0.0203, 0.0053, 0.0054, 0.0065, 0.0025, 0.0036, 0.0096, 0.0041, 1.0000,\n",
       "        0.0076,    nan, 0.0074, 0.0061, 0.0063, 1.0000, 0.0051, 1.0000, 1.0000,\n",
       "        0.0019, 1.0000, 0.0095, 0.0353, 0.0044, 0.0109, 0.0043, 0.0114, 0.0097,\n",
       "           nan, 0.0058, 1.0000, 0.0033, 0.0050, 1.0000, 0.0020, 0.0033, 0.0045,\n",
       "        1.0000, 0.0045, 0.0052, 0.0027,    nan, 0.0058, 0.0404, 1.0000, 0.0046,\n",
       "        0.0038, 0.0118, 0.0034, 0.0057, 0.0043, 0.0084, 0.0108, 0.0047, 0.0011,\n",
       "        0.0031, 0.0020, 1.0000, 0.0076, 0.0191, 0.0051, 1.0000, 0.0091, 0.0062,\n",
       "        0.0031, 0.0133, 0.0046, 0.0059, 0.0068, 0.0184, 0.0243, 0.0018, 0.0051,\n",
       "        0.0051, 0.0088, 0.0145, 0.0161, 0.0109, 0.0012, 0.0130, 0.0077, 0.0041,\n",
       "        0.0029, 1.0000, 1.0000, 0.0022, 0.0047, 0.0032, 0.0049, 0.0099, 0.0231,\n",
       "        0.0095, 0.0042, 1.0000, 0.0059, 0.0056, 0.0034, 1.0000, 0.0035, 0.0056,\n",
       "        0.0073, 1.0000, 0.0093, 0.0113, 1.0000, 0.0043, 0.0090, 1.0000, 1.0000,\n",
       "        0.9999, 0.0162, 0.0174, 0.0069, 1.0000, 1.0000, 0.0191, 0.1063, 0.0018,\n",
       "        1.0000, 0.0083, 0.0054, 0.0104, 0.0057, 0.0074, 0.0157, 0.0036, 0.0036,\n",
       "        0.0142, 0.0044, 0.0047, 0.0054, 0.0054, 0.0199, 0.0030, 0.0072, 0.0029,\n",
       "        0.0080, 0.0057, 0.0077, 0.0167, 0.0136, 0.0036, 0.0090, 1.0000, 0.0042,\n",
       "        0.0154, 0.0028, 0.0028, 0.0039, 0.0050, 0.0069, 0.0073,    nan, 0.0030,\n",
       "        0.0012, 0.0478, 0.0260, 0.0014, 0.0187, 0.0153, 0.0023, 0.0187, 1.0000,\n",
       "        0.9998, 0.0053, 1.0000, 0.0023, 0.0011, 0.0089, 0.0099, 1.0000, 0.0024,\n",
       "        1.0000, 0.0055, 1.0000, 0.0345, 1.0000, 0.0028, 1.0000, 1.0000, 1.0000,\n",
       "        0.0053, 1.0000, 0.0030, 0.0130, 0.0085, 0.0153, 1.0000, 0.0022, 0.0134,\n",
       "        0.0123, 1.0000, 0.0042, 1.0000, 0.0046, 0.0129, 0.0214, 0.0057, 0.0082,\n",
       "        0.0221, 1.0000, 0.0044, 0.0069, 0.0071, 0.0108, 0.0058, 0.0036, 0.0136,\n",
       "           nan, 1.0000, 0.0263, 0.0043, 0.0080, 0.0091, 0.0399, 0.0099,    nan,\n",
       "        1.0000, 0.0028, 1.0000, 0.0041])"
      ]
     },
     "execution_count": 34,
     "metadata": {},
     "output_type": "execute_result"
    }
   ],
   "source": [
    "lexpl['4d-2']"
   ]
  },
  {
   "cell_type": "code",
   "execution_count": null,
   "id": "7dc59f10-3804-414f-91fe-845b31b50b6b",
   "metadata": {},
   "outputs": [],
   "source": []
  },
  {
   "cell_type": "code",
   "execution_count": 41,
   "id": "f28bc482-98d3-4e9d-829a-006f58522892",
   "metadata": {},
   "outputs": [
    {
     "data": {
      "text/plain": [
       "Parameters(instances=100, embed_dim=256, hidden_size=256, epochs=10000, batch_size=64, batched=False, activation='relu', weight_decay=0.001, lr=0.01, beta1=0.9, beta2=0.98, optimizer='adam', checkpoint=3, name='smallgrp(110, 1)', seed=42, group_string='smallgrp(110, 1)', intersect_frac=1.0, delta_frac=[0.0], train_frac=0.4, save_weights=False, load_weights='', wandb=True, thresh_grok=0.95, project='group generalization', model='MLP3', unembed_bias=False, init_func='kaiming_uniform', correct_embed=False)"
      ]
     },
     "execution_count": 41,
     "metadata": {},
     "output_type": "execute_result"
    }
   ],
   "source": [
    "params"
   ]
  },
  {
   "cell_type": "code",
   "execution_count": 44,
   "id": "f6ec78d8-4fca-4119-8e23-5a97dadd1e0a",
   "metadata": {},
   "outputs": [
    {
     "data": {
      "text/plain": [
       "tensor(0.9998)"
      ]
     },
     "execution_count": 44,
     "metadata": {},
     "output_type": "execute_result"
    }
   ],
   "source": [
    "lexpl['10d-0'][lexpl['10d-0'] > 0.9].min()"
   ]
  },
  {
   "cell_type": "code",
   "execution_count": null,
   "id": "c94da501-8bbf-4846-946e-0efa13960cfc",
   "metadata": {},
   "outputs": [],
   "source": []
  }
 ],
 "metadata": {
  "kernelspec": {
   "display_name": "Python 3 (ipykernel)",
   "language": "python",
   "name": "python3"
  },
  "language_info": {
   "codemirror_mode": {
    "name": "ipython",
    "version": 3
   },
   "file_extension": ".py",
   "mimetype": "text/x-python",
   "name": "python",
   "nbconvert_exporter": "python",
   "pygments_lexer": "ipython3",
   "version": "3.10.12"
  }
 },
 "nbformat": 4,
 "nbformat_minor": 5
}
