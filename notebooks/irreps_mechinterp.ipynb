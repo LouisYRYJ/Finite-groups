{
 "cells": [
  {
   "cell_type": "markdown",
   "id": "5398ebd2-48ab-423a-b560-92e9d2374a0b",
   "metadata": {},
   "source": [
    "### Setup"
   ]
  },
  {
   "cell_type": "code",
   "execution_count": 2,
   "id": "aeaec889-8f37-480c-861d-8a434e24fe26",
   "metadata": {},
   "outputs": [],
   "source": [
    "import os, sys\n",
    "HOME = os.environ['HOME']  # change if necessary\n",
    "sys.path.append(f'{HOME}/Finite-groups/src')"
   ]
  },
  {
   "cell_type": "code",
   "execution_count": 3,
   "id": "8293bd26-5402-4955-a9c6-ed25d4b90d4f",
   "metadata": {},
   "outputs": [
    {
     "name": "stderr",
     "output_type": "stream",
     "text": [
      "Syntax warning: Unbound global variable in /usr/share/gap/pkg/browse/PackageIn\\\n",
      "fo.g:73\n",
      "  if not IsKernelExtensionAvailable(\"Browse\", \"ncurses\") then\n",
      "         ^^^^^^^^^^^^^^^^^^^^^^^^^^\n",
      "Syntax warning: Unbound global variable in /usr/share/gap/pkg/edim/PackageInfo\\\n",
      ".g:60\n",
      "  if not IsKernelExtensionAvailable(\"EDIM\",\"ediv\") then\n",
      "         ^^^^^^^^^^^^^^^^^^^^^^^^^^\n"
     ]
    }
   ],
   "source": [
    "import torch as t\n",
    "import numpy as np\n",
    "from matplotlib import pyplot as plt\n",
    "import json\n",
    "from itertools import product\n",
    "from jaxtyping import Float\n",
    "from torch.utils.data import DataLoader\n",
    "from tqdm.notebook import tqdm\n",
    "import plotly.graph_objects as go\n",
    "import copy\n",
    "import math\n",
    "from itertools import product\n",
    "import pandas as pd\n",
    "from typing import Union\n",
    "from einops import repeat\n",
    "from huggingface_hub import snapshot_download\n",
    "from huggingface_hub.utils import disable_progress_bars\n",
    "\n",
    "\n",
    "from model import MLP3, MLP4, InstancedModule\n",
    "from utils import *\n",
    "from group_data import *\n",
    "from model_utils import *\n",
    "from group_utils import *\n",
    "%load_ext autoreload\n",
    "%autoreload 2"
   ]
  },
  {
   "cell_type": "code",
   "execution_count": 26,
   "id": "0f473f11-9236-4bbf-b401-c6e92cd35923",
   "metadata": {},
   "outputs": [
    {
     "name": "stdout",
     "output_type": "stream",
     "text": [
      "Intersection size: 3600/3600 (1.00)\n",
      "Added 3600 elements from intersection\n",
      "Added 0 elements from group 0: smallgrp(60,5)\n",
      "Taking random subset: 1440/3600 (0.40)\n",
      "Train set size: 1440/3600 (0.40)\n"
     ]
    },
    {
     "name": "stderr",
     "output_type": "stream",
     "text": [
      "/home/wilson/Finite-groups/src/model_utils.py:50: FutureWarning: You are using `torch.load` with `weights_only=False` (the current default value), which uses the default pickle module implicitly. It is possible to construct malicious pickle data which will execute arbitrary code during unpickling (See https://github.com/pytorch/pytorch/blob/main/SECURITY.md#untrusted-models for more details). In a future release, the default value for `weights_only` will be flipped to `True`. This limits the functions that could be executed during unpickling. Arbitrary objects will no longer be allowed to be loaded via this mode unless they are explicitly allowlisted by the user via `torch.serialization.add_safe_globals`. We recommend you start setting `weights_only=True` for any use case where you don't have full control of the loaded file. Please open an issue on GitHub for any issues related to this experimental feature.\n",
      "  model.load_state_dict(t.load(model_path, map_location=device))\n"
     ]
    }
   ],
   "source": [
    "device = t.device(\"cuda\" if t.cuda.is_available() else \"cpu\")\n",
    "# MODEL_DIR = '2024-08-16_22-53-29_SL2_5_MLP3_256'\n",
    "# MODEL_DIR = '2024-08-14_21-24-30_gapS_5_'\n",
    "# MODEL_DIR = '2024-09-18_23-59-00_gapS5_MLP2_128_wd2e-4_ubias'\n",
    "MODEL_DIR ='2024-09-22_21-21-06_gapA5_MLP2_128_wd1e-4'\n",
    "# MODEL_DIR = '2024-09-18_03-03-59_gapS5_MLP2_64_wd2e-4_ubias_train1_0'\n",
    "# MODEL_DIR = '2024-09-18_03-21-55_gapS5_MLP2_64_wd2e-4_ubias_train1_0'\n",
    "# MODEL_DIR = '2024-09-17_21-48-39_gapS5_MLP3_128_wd2e-4_betafix'\n",
    "# MODEL_DIkR = '2024-09-17_05-20-44_gapS5_MLP3_128_wd2e-4'\n",
    "# MODEL_DIR = '2024-09-16_05-00-33_gapS5_MLP2_128_adamw_wd1'\n",
    "# MODEL_DIR = '2024-08-27_16-32-46_Dic30_MLP3_128'\n",
    "# MODEL_DIR = '2024-08-27_23-16-05_F11_MLP3_256'\n",
    "# MODEL_DIR = '2024-09-02_18-17-20_smallgrp_54_8_MLP3_256_0_6'\n",
    "# MODEL_DIR = '2024-09-05_15-22-58_smallgrp_54_8_MLP3_1024_0_6'\n",
    "# MODEL_DIR = '2024-09-05_20-47-44_smallgrp_54_8_MLP3_1024_0_6_wd1e-6'\n",
    "# MODEL_DIR = '2024-09-02_18-51-29_smallgrp_96_71_MLP3_256_0_6'\n",
    "# MODEL_DIR = '2024-09-03_17-28-20_smallgrp_192_1025_MLP3_512_0_6'\n",
    "# MODEL_DIR = '2024-09-03_21-09-07_Z_59_128'\n",
    "disable_progress_bars()\n",
    "local_dir = f'{HOME}/models/{MODEL_DIR}'\n",
    "if not os.path.exists(local_dir):\n",
    "    snapshot_download(repo_id=f'wiwu2390/{MODEL_DIR}', local_dir=local_dir)\n",
    "models, params = load_models(local_dir, sel='final')\n",
    "data = GroupData(params)\n",
    "group = data.groups[0]"
   ]
  },
  {
   "cell_type": "markdown",
   "id": "f0f21317-778f-4e55-970c-1ec604f95930",
   "metadata": {},
   "source": [
    "`models` (returned from `load_models`) is a list of InstancedModule objects, one for each training checkpoint that we chose to save. For most runs, we only save the final checkpoints, so `len(models)==1`\n",
    "\n",
    "For efficiency during training, the InstancedModule object contains 100 different instances starting from different random initializations. \n",
    "\n",
    "Here, we look only at the one with best test accuracy."
   ]
  },
  {
   "cell_type": "code",
   "execution_count": 27,
   "id": "ccb4a6de-eabe-4535-9d3f-df78a05f3633",
   "metadata": {},
   "outputs": [],
   "source": [
    "loss_dict = test_loss(models[0].to(device), data)"
   ]
  },
  {
   "cell_type": "code",
   "execution_count": 28,
   "id": "bb7037fe",
   "metadata": {},
   "outputs": [
    {
     "name": "stdout",
     "output_type": "stream",
     "text": [
      "tensor(0.0100) tensor(1.) 92\n"
     ]
    }
   ],
   "source": [
    "# instance = loss_dict['G0_acc'].argmax().item()\n",
    "instance = loss_dict['G0_loss'].argmin().item()\n",
    "# instance = (loss_dict['G0_acc'] > 0.999).nonzero()[11]\n",
    "# instance = 33\n",
    "print(loss_dict[f'G0_loss'][instance], loss_dict[f'G0_acc'][instance], instance)\n",
    "model = models[-1][instance].to(device)\n",
    "# print(model.embedding_left.norm() + model.embedding_right.norm() + model.linear.norm() + model.unembedding.norm())"
   ]
  },
  {
   "cell_type": "markdown",
   "id": "2e3f6194-2716-46ca-972f-a88fe0f49de4",
   "metadata": {},
   "source": [
    "`MLP3` architecture is\n",
    "$$f(z\\mid x, y) = W_u(z)\\cdot\\text{ReLU}[W_h(W_l(x)+W_r(y))]] = \\sum_i w_u^i(z) \\text{ReLU}[w_l^i(x)+w_r^i(y)]$$\n",
    "where $w_u^i, w_l^i, w_r^i\\in\\mathbb{R}^G$ are the columns of $W_u, (W_hW_l)^{\\top}, (W_hW_r)^{\\top}$ respectively."
   ]
  },
  {
   "cell_type": "code",
   "execution_count": 29,
   "id": "1b3e1c90-45f9-43dc-b2bf-6fa305d7d196",
   "metadata": {},
   "outputs": [
    {
     "data": {
      "text/plain": [
       "(torch.Size([60, 128]), torch.Size([60, 128]), torch.Size([60, 128]))"
      ]
     },
     "execution_count": 29,
     "metadata": {},
     "output_type": "execute_result"
    }
   ],
   "source": [
    "COMPLEX = False\n",
    "\n",
    "# model.get_neurons() folds the linear map into the embeddings\n",
    "lneurons, rneurons, uneurons = model.get_neurons(squeeze=True)\n",
    "if COMPLEX:\n",
    "    lneurons = t.complex(lneurons, t.zeros_like(lneurons))\n",
    "    rneurons = t.complex(rneurons, t.zeros_like(rneurons))\n",
    "    uneurons = t.complex(uneurons, t.zeros_like(uneurons))\n",
    "# lneurons = t.complex(t.zeros_like(lneurons), lneurons)\n",
    "# rneurons = t.complex(t.zeros_like(rneurons), rneurons)\n",
    "# uneurons = t.complex(t.zeros_like(uneurons), uneurons)\n",
    "lneurons.shape, rneurons.shape, uneurons.shape"
   ]
  },
  {
   "cell_type": "code",
   "execution_count": 30,
   "id": "ddbd2806",
   "metadata": {},
   "outputs": [],
   "source": [
    "def ablate_loss(ln, rn, un):\n",
    "    ablate_model = copy.deepcopy(model)\n",
    "    if not isinstance(ablate_model, MLP4):\n",
    "        ablate_model = ablate_model.fold_linear()\n",
    "    ablate_model.embedding_left.data = ln.unsqueeze(0)\n",
    "    ablate_model.embedding_right.data = rn.unsqueeze(0)\n",
    "    ablate_model.unembedding.data = un.unsqueeze(0).mT\n",
    "    return test_loss(ablate_model.to(device), data)\n",
    "\n",
    "def ablate_idx_loss(idxs):\n",
    "    ln, rn= model.get_neurons()\n",
    "    un = model.unembedding.data.detach()\n",
    "    ln, rn, un = ln.squeeze(0).to('cpu'), rn.squeeze(0).to('cpu'), un.squeeze(0).to('cpu').T\n",
    "    ln, rn, un = ln[:, idxs], rn[:, idxs], un[:, idxs]\n",
    "    return ablate_loss(ln, rn, un)"
   ]
  },
  {
   "cell_type": "markdown",
   "id": "9fa29f76-c012-4918-be8e-e761813b918d",
   "metadata": {},
   "source": [
    "### Neurons are irrep-sparse"
   ]
  },
  {
   "cell_type": "markdown",
   "id": "81da1cb7-4ee6-4e51-a1b8-872b3b594e1c",
   "metadata": {},
   "source": [
    "I.e., each neuron is a linear combination of matrix entries of some irrep.\n",
    "\n",
    "That is, for each $i$, there exists an irrep $\\rho_i\\colon G\\to\\text{GL}(\\mathbb{R}^d)$ such that, for some $A_i,B_i,C_i$,\n",
    "$$w_l^i(x) \\approx \\text{tr}(\\rho_i(x) A_i)$$\n",
    "$$w_r^i(y) \\approx \\text{tr}(\\rho_i(y) B_i)$$\n",
    "$$w_u^i(z) \\approx \\text{tr}(\\rho_i(z) C_i)$$\n",
    "\n",
    "(This was first noticed by Chughtai et al.)"
   ]
  },
  {
   "cell_type": "markdown",
   "id": "9decac2b-f6c2-4a90-9ea8-99016c469344",
   "metadata": {},
   "source": [
    "**Notation**: 4d-0 is the 1st degree 4 irrep, 4d-1 is the 2nd, etc. Ordering is arbitrary but is consistent between runs (I think)"
   ]
  },
  {
   "cell_type": "code",
   "execution_count": 31,
   "id": "a38ffde5-1654-45e2-8494-0c7103391bb6",
   "metadata": {},
   "outputs": [
    {
     "name": "stdout",
     "output_type": "stream",
     "text": [
      "dict_keys(['1d-0', '3d-0', '3d-1', '4d-0', '5d-0'])\n"
     ]
    }
   ],
   "source": [
    "if COMPLEX:\n",
    "    irreps = group.get_complex_irreps()\n",
    "else:\n",
    "    irreps = group.get_real_irreps(verbose=True)\n",
    "print(irreps.keys())"
   ]
  },
  {
   "cell_type": "code",
   "execution_count": 32,
   "id": "103c47dc-865a-4fbe-b9be-1e9d2b63a7e4",
   "metadata": {},
   "outputs": [
    {
     "name": "stdout",
     "output_type": "stream",
     "text": [
      "1d-0 torch.Size([60, 1])\n",
      "3d-0 torch.Size([60, 9])\n",
      "3d-1 torch.Size([60, 9])\n",
      "4d-0 torch.Size([60, 16])\n",
      "5d-0 torch.Size([60, 25])\n"
     ]
    }
   ],
   "source": [
    "# Get orthogonal basis for each irrep\n",
    "irrep_bases = dict()\n",
    "for name, irrep in irreps.items():\n",
    "    irrep = einops.rearrange(irrep, 'N d1 d2 -> N (d1 d2)')\n",
    "    U, S, V = t.svd(irrep)\n",
    "    nonzero = S > 1e-5\n",
    "    irrep_bases[name] = U[:,nonzero]\n",
    "\n",
    "# Dimension of subspace spanned by each irrep\n",
    "for k, v in irrep_bases.items():\n",
    "    print(k, v.shape)"
   ]
  },
  {
   "cell_type": "code",
   "execution_count": 33,
   "id": "3d32e6f1-297a-4e02-9a48-0d01e2dfb32a",
   "metadata": {},
   "outputs": [],
   "source": [
    "# Proportion of variance explained by each irrep, for each neuron\n",
    "lexpl, rexpl, uexpl = dict(), dict(), dict()\n",
    "\n",
    "for name, basis in irrep_bases.items():\n",
    "    lexpl[name] = (basis.H @ lneurons).norm(dim=0)**2 / (lneurons.norm(dim=0)**2 + 1e-8)\n",
    "    rexpl[name] = (basis.H @ rneurons).norm(dim=0)**2 / (rneurons.norm(dim=0)**2 + 1e-8)\n",
    "    uexpl[name] = (basis.H @ uneurons).norm(dim=0)**2 / (uneurons.norm(dim=0)**2 + 1e-8)\n",
    "\n",
    "lexpl_max, lirrep = t.stack(list(lexpl.values()), dim=0).max(dim=0)\n",
    "rexpl_max, rirrep = t.stack(list(rexpl.values()), dim=0).max(dim=0)\n",
    "uexpl_max, uirrep = t.stack(list(uexpl.values()), dim=0).max(dim=0)\n",
    "\n",
    "to_P = lambda basis: basis @ basis.H\n",
    "\n",
    "ln_proj = t.stack([to_P(list(irrep_bases.values())[lirrep[i]]) @ lneurons[:,[i]] for i in range(lneurons.shape[1])], dim=1).squeeze(-1)\n",
    "rn_proj = t.stack([to_P(list(irrep_bases.values())[rirrep[i]]) @ rneurons[:,[i]] for i in range(rneurons.shape[1])], dim=1).squeeze(-1)\n",
    "un_proj = t.stack([to_P(list(irrep_bases.values())[uirrep[i]]) @ uneurons[:,[i]] for i in range(uneurons.shape[1])], dim=1).squeeze(-1)"
   ]
  },
  {
   "cell_type": "code",
   "execution_count": 34,
   "id": "644f5325",
   "metadata": {},
   "outputs": [
    {
     "ename": "KeyError",
     "evalue": "'4d-1'",
     "output_type": "error",
     "traceback": [
      "\u001b[0;31m---------------------------------------------------------------------------\u001b[0m",
      "\u001b[0;31mKeyError\u001b[0m                                  Traceback (most recent call last)",
      "Cell \u001b[0;32mIn[34], line 1\u001b[0m\n\u001b[0;32m----> 1\u001b[0m basis \u001b[38;5;241m=\u001b[39m \u001b[43mirrep_bases\u001b[49m\u001b[43m[\u001b[49m\u001b[38;5;124;43m'\u001b[39;49m\u001b[38;5;124;43m4d-1\u001b[39;49m\u001b[38;5;124;43m'\u001b[39;49m\u001b[43m]\u001b[49m\n\u001b[1;32m      2\u001b[0m P \u001b[38;5;241m=\u001b[39m basis \u001b[38;5;241m@\u001b[39m basis\u001b[38;5;241m.\u001b[39mT\n\u001b[1;32m      3\u001b[0m ablate_loss(lneurons, rneurons, uneurons), ablate_loss(ln_proj, rn_proj, uneurons), ablate_loss(lneurons, rneurons, un_proj), ablate_loss(ln_proj, rn_proj, un_proj)\n",
      "\u001b[0;31mKeyError\u001b[0m: '4d-1'"
     ]
    }
   ],
   "source": [
    "basis = irrep_bases['4d-1']\n",
    "P = basis @ basis.T\n",
    "ablate_loss(lneurons, rneurons, uneurons), ablate_loss(ln_proj, rn_proj, uneurons), ablate_loss(lneurons, rneurons, un_proj), ablate_loss(ln_proj, rn_proj, un_proj)"
   ]
  },
  {
   "cell_type": "code",
   "execution_count": 16,
   "id": "3392505a",
   "metadata": {},
   "outputs": [],
   "source": [
    "ures_expl = dict()\n",
    "ubias_expl = dict()\n",
    "for name, basis in irrep_bases.items():\n",
    "    ures_expl[name] = (basis.H @ ures).norm(dim=0)**2 / (ures.norm(dim=0)**2 + 1e-8)\n",
    "    ubias_expl[name] = (basis.H @ ubias).norm(dim=0)**2 / (ubias.norm(dim=0)**2 + 1e-8)"
   ]
  },
  {
   "cell_type": "code",
   "execution_count": 19,
   "id": "04e00c4c",
   "metadata": {},
   "outputs": [
    {
     "data": {
      "text/plain": [
       "tensor(1.5561)"
      ]
     },
     "execution_count": 19,
     "metadata": {},
     "output_type": "execute_result"
    }
   ],
   "source": [
    "ubias.norm()"
   ]
  },
  {
   "cell_type": "code",
   "execution_count": 22,
   "id": "2e8d9ba7",
   "metadata": {},
   "outputs": [
    {
     "data": {
      "text/plain": [
       "<matplotlib.collections.PathCollection at 0x7e9a9407d6c0>"
      ]
     },
     "execution_count": 22,
     "metadata": {},
     "output_type": "execute_result"
    },
    {
     "data": {
      "image/png": "[encoded data removed]",
      "text/plain": [
       "<Figure size 640x480 with 1 Axes>"
      ]
     },
     "metadata": {},
     "output_type": "display_data"
    }
   ],
   "source": [
    "plt.scatter(lexpl['4d-1'].numpy(), uexpl['1d-0'].numpy(), alpha=0.3)"
   ]
  },
  {
   "cell_type": "code",
   "execution_count": 35,
   "id": "8b5e3ad3-02ca-4de7-ba65-fffdab7d4169",
   "metadata": {},
   "outputs": [
    {
     "data": {
      "image/png": "[encoded data removed]",
      "text/plain": [
       "<Figure size 640x480 with 1 Axes>"
      ]
     },
     "metadata": {},
     "output_type": "display_data"
    },
    {
     "data": {
      "image/png": "[encoded data removed]",
      "text/plain": [
       "<Figure size 640x480 with 1 Axes>"
      ]
     },
     "metadata": {},
     "output_type": "display_data"
    },
    {
     "data": {
      "image/png": "[encoded data removed]",
      "text/plain": [
       "<Figure size 640x480 with 1 Axes>"
      ]
     },
     "metadata": {},
     "output_type": "display_data"
    }
   ],
   "source": [
    "for name, expl in [('left', lexpl_max), ('right', rexpl_max), ('unembed', uexpl_max)]:\n",
    "    plt.hist(expl.tolist())\n",
    "    plt.title(f'{name} neurons: variance explained by best irrep')\n",
    "    plt.show()"
   ]
  },
  {
   "cell_type": "code",
   "execution_count": 21,
   "id": "fed5a553",
   "metadata": {},
   "outputs": [
    {
     "data": {
      "text/plain": [
       "tensor([0.3711, 0.4333, 0.9707, 0.4687, 0.5165, 0.6259, 0.4453, 0.6202, 0.5481,\n",
       "        0.4392, 0.4080, 0.3320, 0.3811, 0.4462, 0.5292, 0.9982, 0.5538, 0.3760,\n",
       "        0.3792, 0.3899, 0.9966, 0.4964, 0.5372, 0.4954, 0.3822, 0.3652, 0.3714,\n",
       "        0.6179, 0.4040, 0.4139, 0.3535, 0.4483, 0.6180, 0.9976, 0.3723, 0.9970,\n",
       "        0.9975, 0.9975, 0.9954, 0.3553, 0.4121, 0.5248, 0.4742, 0.5227, 0.5251,\n",
       "        0.4114, 0.4691, 0.5387, 0.5518, 0.4721, 0.4643, 0.5580, 0.4386, 0.3976,\n",
       "        0.4702, 0.4169, 0.4397, 0.3848, 0.5080, 0.9966, 0.9965, 0.9750, 0.5067,\n",
       "        0.9981, 0.4518, 0.4088, 0.9968, 0.9966, 0.4561, 0.5339, 0.9981, 0.9974,\n",
       "        0.4323, 0.4062, 0.9969, 0.9966, 0.4445, 0.5452, 0.6565, 0.9967, 0.4653,\n",
       "        0.9966, 0.9963, 0.5646, 0.9975, 0.9981, 0.5413, 0.4933, 0.3985, 0.5692,\n",
       "        0.6609, 0.3660, 0.4937, 0.4382, 0.9972, 0.3424, 0.3755, 0.5743, 0.9975,\n",
       "        0.5202, 0.9976, 0.4430, 0.3830, 0.9589, 0.4852, 0.4573, 0.4042, 0.3596,\n",
       "        0.9961, 0.5382, 0.4384, 0.9974, 0.5043, 0.4595, 0.4910, 0.3082, 0.9968,\n",
       "        0.9971, 0.4538, 0.4029, 0.3886, 0.9973, 0.9981, 0.4371, 0.4641, 0.4467,\n",
       "        0.3341, 0.3415])"
      ]
     },
     "execution_count": 21,
     "metadata": {},
     "output_type": "execute_result"
    }
   ],
   "source": [
    "uexpl_max"
   ]
  },
  {
   "cell_type": "code",
   "execution_count": 22,
   "id": "b260c80c",
   "metadata": {},
   "outputs": [
    {
     "data": {
      "text/plain": [
       "tensor([0.9999, 1.0000, 1.0000, 0.9999, 0.9999, 0.9999, 1.0000, 0.9998, 0.9999,\n",
       "        1.0000, 1.0000, 0.9999, 0.9999, 1.0000, 0.9999, 1.0000, 1.0000, 1.0000,\n",
       "        1.0000, 1.0000, 1.0000, 1.0000, 0.9999, 1.0000, 0.9999, 0.9999, 0.9999,\n",
       "        1.0000, 1.0000, 0.9999, 0.9999, 1.0000, 1.0000, 1.0000, 1.0000, 1.0000,\n",
       "        1.0000, 1.0000, 1.0000, 1.0000, 1.0000, 0.9999, 0.9999, 0.9999, 0.9999,\n",
       "        1.0000, 0.9997, 1.0000, 1.0000, 0.9999, 0.9999, 0.9999, 0.9999, 0.9999,\n",
       "        0.9995, 1.0000, 1.0000, 0.9999, 0.9999, 1.0000, 1.0000, 1.0000, 0.9999,\n",
       "        1.0000, 0.9999, 1.0000, 1.0000, 1.0000, 1.0000, 0.9999, 1.0000, 1.0000,\n",
       "        0.9997, 1.0000, 1.0000, 1.0000, 1.0000, 1.0000, 0.9999, 1.0000, 0.9999,\n",
       "        1.0000, 1.0000, 1.0000, 1.0000, 1.0000, 0.9999, 1.0000, 0.9999, 1.0000,\n",
       "        1.0000, 1.0000, 1.0000, 0.9997, 1.0000, 0.9999, 0.9998, 0.9996, 1.0000,\n",
       "        0.9999, 1.0000, 0.9999, 1.0000, 1.0000, 1.0000, 0.9999, 0.9999, 0.9999,\n",
       "        1.0000, 0.9999, 0.9999, 1.0000, 1.0000, 0.9999, 0.9999, 1.0000, 1.0000,\n",
       "        1.0000, 1.0000, 1.0000, 1.0000, 1.0000, 1.0000, 1.0000, 1.0000, 0.9999,\n",
       "        0.9999, 1.0000])"
      ]
     },
     "execution_count": 22,
     "metadata": {},
     "output_type": "execute_result"
    }
   ],
   "source": [
    "lexpl_max"
   ]
  },
  {
   "cell_type": "code",
   "execution_count": 23,
   "id": "391db712-4bde-4137-be62-73ae274463ac",
   "metadata": {},
   "outputs": [
    {
     "name": "stdout",
     "output_type": "stream",
     "text": [
      "1d-0 1\n",
      "3d-0 1\n",
      "3d-1 1\n",
      "4d-0 1\n",
      "5d-0 1\n"
     ]
    }
   ],
   "source": [
    "# Get Frobenius-Schur indicators\n",
    "# +1 means real irrep. Otherwise, complex.\n",
    "for name, irrep in irreps.items():\n",
    "    print(name, group.get_frobenius_schur(irrep))"
   ]
  },
  {
   "cell_type": "code",
   "execution_count": 24,
   "id": "782267d3-ec8a-4a4b-b9b3-7fbbd2fcf0e6",
   "metadata": {},
   "outputs": [
    {
     "name": "stdout",
     "output_type": "stream",
     "text": [
      "1d-0 0\n",
      "3d-0 0\n",
      "3d-1 0\n",
      "4d-0 33\n",
      "5d-0 0\n",
      "none 95\n"
     ]
    }
   ],
   "source": [
    "thresh = 0.95\n",
    "norm_thresh = 1\n",
    "irrep_idx_dict = {\n",
    "    name: [\n",
    "        i for i in range(lneurons.shape[-1]) \n",
    "        if lexpl[name][i].item() > thresh and lneurons[:,i].norm() > norm_thresh\n",
    "    ]\n",
    "    for name in irreps\n",
    "}\n",
    "irrep_idx_dict['none'] = [\n",
    "    i for i in range(lneurons.shape[-1])\n",
    "    if all(lexpl[name][i].item() <= thresh for name in irreps) or lneurons[:,i].norm() < norm_thresh \n",
    "]\n",
    "for k, v in irrep_idx_dict.items():\n",
    "    print(k, len(v))"
   ]
  },
  {
   "cell_type": "code",
   "execution_count": 25,
   "id": "3445aca7",
   "metadata": {},
   "outputs": [
    {
     "name": "stdout",
     "output_type": "stream",
     "text": [
      "4d-0\n"
     ]
    },
    {
     "data": {
      "image/png": "[encoded data removed]",
      "text/plain": [
       "<Figure size 640x480 with 1 Axes>"
      ]
     },
     "metadata": {},
     "output_type": "display_data"
    },
    {
     "name": "stdout",
     "output_type": "stream",
     "text": [
      "none\n"
     ]
    },
    {
     "data": {
      "image/png": "[encoded data removed]",
      "text/plain": [
       "<Figure size 640x480 with 1 Axes>"
      ]
     },
     "metadata": {},
     "output_type": "display_data"
    }
   ],
   "source": [
    "for k, v in irrep_idx_dict.items():\n",
    "    if not v:\n",
    "        continue\n",
    "    print(k)\n",
    "    plt.hist((lneurons[:,irrep_idx_dict[k]] + 1e-8).norm(dim=0).log10().tolist())\n",
    "    plt.show()"
   ]
  },
  {
   "cell_type": "code",
   "execution_count": 30,
   "id": "b617a2bc-2715-427d-97a9-8e9b5686aaaa",
   "metadata": {},
   "outputs": [],
   "source": [
    "irrep_name = '4d-1'\n",
    "irrep_d = irreps[irrep_name].shape[-1]\n",
    "irrep = irreps[irrep_name]\n",
    "irrep_idxs = irrep_idx_dict[irrep_name]\n",
    "irrep_lneurons = lneurons[:, irrep_idxs]\n",
    "irrep_rneurons = rneurons[:, irrep_idxs]\n",
    "irrep_uneurons = uneurons[:, irrep_idxs]\n",
    "irrep_frobschur = np.sign(group.get_frobenius_schur(irrep)).item()"
   ]
  },
  {
   "cell_type": "code",
   "execution_count": 31,
   "id": "4ae58edd-7e10-4c4d-996d-354758bfed8a",
   "metadata": {},
   "outputs": [
    {
     "name": "stdout",
     "output_type": "stream",
     "text": [
      "A and B norm diff 1.2218926030982402e-06\n"
     ]
    },
    {
     "data": {
      "text/plain": [
       "(torch.Size([25, 4, 4]), torch.Size([25, 4, 4]), torch.Size([25, 4, 4]))"
      ]
     },
     "execution_count": 31,
     "metadata": {},
     "output_type": "execute_result"
    }
   ],
   "source": [
    "flat_irrep = einops.rearrange(irrep, 'n d1 d2 -> n (d1 d2)')\n",
    "rcond = t.linalg.matrix_rank(flat_irrep)\n",
    "# Project neurons onto subspace spanned by flat_irrep\n",
    "A_flat = t.linalg.lstsq(flat_irrep, irrep_lneurons, driver='gelsd').solution\n",
    "B_flat = t.linalg.lstsq(flat_irrep, irrep_rneurons, driver='gelsd').solution\n",
    "C_flat = t.linalg.lstsq(flat_irrep, irrep_uneurons, driver='gelsd').solution\n",
    "# A_flat = (t.linalg.inv(flat_irrep.H @ flat_irrep) @ flat_irrep.H @ irrep_lneurons)\n",
    "# B_flat = (t.linalg.inv(flat_irrep.H @ flat_irrep) @ flat_irrep.H @ irrep_rneurons)\n",
    "# C_flat = (t.linalg.inv(flat_irrep.H @ flat_irrep) @ flat_irrep.H @ irrep_uneurons)\n",
    "A = einops.rearrange(A_flat, '(d1 d2) m -> m d1 d2', d1=irrep_d, d2=irrep_d).mH\n",
    "B = einops.rearrange(B_flat, '(d1 d2) m -> m d1 d2', d1=irrep_d, d2=irrep_d).mH\n",
    "C = einops.rearrange(C_flat, '(d1 d2) m -> m d1 d2', d1=irrep_d, d2=irrep_d).mH\n",
    "\n",
    "A_norm = t.linalg.matrix_norm(A)\n",
    "B_norm = t.linalg.matrix_norm(B)\n",
    "print('A and B norm diff', ((A_norm - B_norm).norm()**2 / B_norm.norm()**2).item())\n",
    "\n",
    "# Normalize A and B to have unit Frobenius norm\n",
    "A = A / A_norm.unsqueeze(1).unsqueeze(1)\n",
    "B = B / A_norm.unsqueeze(1).unsqueeze(1)\n",
    "C = C * ( (A_norm + B_norm) / 2).unsqueeze(1).unsqueeze(1)\n",
    "\n",
    "A.shape, B.shape, C.shape"
   ]
  },
  {
   "cell_type": "markdown",
   "id": "335055bf-39b9-4916-85a1-be957d7602f3",
   "metadata": {},
   "source": [
    "### $C_i\\approx B_iA_i$"
   ]
  },
  {
   "cell_type": "code",
   "execution_count": 25,
   "id": "cdc2e8fe-d9f0-4409-9c32-6e64b7212967",
   "metadata": {},
   "outputs": [
    {
     "data": {
      "image/png": "[encoded data removed]",
      "text/plain": [
       "<Figure size 640x480 with 1 Axes>"
      ]
     },
     "metadata": {},
     "output_type": "display_data"
    }
   ],
   "source": [
    "x = einops.rearrange(B @ A, 'm d1 d2 -> m (d1 d2)')\n",
    "y = einops.rearrange(C, 'm d1 d2 -> m (d1 d2)')\n",
    "coef = (x.conj() * y).sum(dim=-1) / (x.conj() * x).sum(dim=-1)\n",
    "yhat = coef.unsqueeze(1) * x\n",
    "r2 = (yhat - y).norm(dim=-1).pow(2) / y.norm(dim=-1).pow(2)\n",
    "plt.hist(r2.tolist(), bins=100)\n",
    "plt.title('1-R^2(C, BA)')\n",
    "plt.show()\n",
    "good = r2 < 0.3\n",
    "\n",
    "# Restrict to good neurons\n",
    "A, B, C, coef = A[good], B[good], C[good], coef[good]"
   ]
  },
  {
   "cell_type": "code",
   "execution_count": 26,
   "id": "37c20aa6-e889-4139-b4fb-c41e3c588860",
   "metadata": {},
   "outputs": [
    {
     "data": {
      "image/png": "[encoded data removed]",
      "text/plain": [
       "<Figure size 640x480 with 1 Axes>"
      ]
     },
     "metadata": {},
     "output_type": "display_data"
    }
   ],
   "source": [
    "plt.hist(coef.tolist(), bins=100)\n",
    "plt.show()"
   ]
  },
  {
   "cell_type": "markdown",
   "id": "03a5ce16-cce0-4d24-8355-e59da2f73ea9",
   "metadata": {},
   "source": [
    "### $A_i, B_i, C_i$ are low rank"
   ]
  },
  {
   "cell_type": "markdown",
   "id": "675c54bf",
   "metadata": {},
   "source": [
    "To be specific,\n",
    "$$\n",
    "\\text{rank}(A)=\\text{rank}(B)=\\begin{cases}1 & \\iota=1 \\\\ 2 & \\iota=0 \\\\ 4 & \\iota=-1,\\end{cases}\n",
    "$$\n",
    "where $\\iota$ is the Frobenius-Schur indicator. (+1 is real irrep, 0 is complex, and -1 is quaternionic.) "
   ]
  },
  {
   "cell_type": "markdown",
   "id": "feb3c117-a0ce-456c-810d-64ff01175faf",
   "metadata": {},
   "source": [
    "In the real case, we can write\n",
    "$$A_i\\approx a_ib_i^\\top$$\n",
    "$$B_i\\approx c_id_i^\\top$$\n",
    "$$C_i\\approx A_iB_i\\approx \\langle b_i, c_i\\rangle a_i d_i^\\top$$"
   ]
  },
  {
   "cell_type": "code",
   "execution_count": 27,
   "id": "56746b1c-9f5b-47cd-b7fa-11f9e84739d7",
   "metadata": {},
   "outputs": [],
   "source": [
    "rank = {\n",
    "    1: 1,\n",
    "    0: 2,\n",
    "    -1: 4\n",
    "}[irrep_frobschur]\n",
    "\n",
    "if irrep_frobschur == 1:\n",
    "    a, b, c, d, Ss = [], [], [], [], []\n",
    "    for i in range(A.shape[0]):\n",
    "        lU, lS, lV = t.linalg.svd(A[i])\n",
    "        rU, rS, rV = t.linalg.svd(B[i])\n",
    "        Ss.append(lS[0])\n",
    "        a.append(lU[:,0])\n",
    "        b.append(lV[0])\n",
    "        c.append(rU[:,0])\n",
    "        d.append(rV[0])\n",
    "        assert lS[0]**2 / lS.norm()**2 > 0.95, lS[0]**2 / lS.norm()**2\n",
    "        assert rS[0]**2 / rS.norm()**2 > 0.95, rS[0]**2 / rS.norm()**2\n",
    "    a, b, c, d = t.stack(a, dim=0), t.stack(b, dim=0), t.stack(c, dim=0), t.stack(d, dim=0)\n",
    "    a_sign = t.sgn(a[:,0])\n",
    "    a = t.diag(a_sign) @ a\n",
    "    b = t.diag(a_sign) @ b\n",
    "    d_sign = t.sgn(d[:,0])\n",
    "    c = t.diag(d_sign) @ c\n",
    "    d = t.diag(d_sign) @ d\n",
    "    Ss = t.stack(Ss, dim=0)\n",
    "else:\n",
    "    # Our guess is that left singular vectors of A are const across neurons\n",
    "    # and same for right singular vectors of B (up to sign, etc)\n",
    "    # So we use the first neuron to get the relevant singular vectors\n",
    "    # and share them across all neurons\n",
    "    lU0 = t.linalg.svd(A[0])[0]\n",
    "    # rV0 = t.linalg.svd(B[0])[2]\n",
    "    rV0 = lU0.T\n",
    "    lUs, lVs, rUs, rVs, Ss = [], [], [], [], []\n",
    "    for i in range(A.shape[0]):\n",
    "        lS = t.linalg.svd(A[i])[1]\n",
    "        rS = t.linalg.svd(B[i])[1]\n",
    "        assert (lS[0] - rS[0])**2 / lS[0]**2 < 1e-2\n",
    "        Ss.append(lS[0])\n",
    "        assert lS[:rank].norm()**2 / lS.norm()**2 > 1-1e-2\n",
    "        assert rS[:rank].norm()**2 / rS.norm()**2 > 1-1e-2\n",
    "        lS_inv, rS_inv = t.zeros_like(lS), t.zeros_like(rS)\n",
    "        lS_inv[:rank] = 1 / lS[:rank]\n",
    "        rS_inv[:rank] = 1 / rS[:rank]\n",
    "        lV = t.diag(lS_inv) @ lU0.T @ A[i]\n",
    "        rU = B[i] @ rV0.T @ t.diag(rS_inv)\n",
    "        # check that lV and rU are orthogonal,\n",
    "        # i.e. that lU0 and rV0 are valid left/right singular vectors\n",
    "        assert ((lV @ lV.T)[:rank,:rank] - t.eye(rank)).norm() < 1e-2\n",
    "        assert ((rU.T @ rU)[:rank,:rank] - t.eye(rank)).norm() < 1e-2\n",
    "        lUs.append(lU0)\n",
    "        rUs.append(rU)\n",
    "        lVs.append(lV)\n",
    "        rVs.append(rV0)\n",
    "\n",
    "    rUs = t.stack(rUs, dim=0)\n",
    "    rVs = t.stack(rVs, dim=0)\n",
    "    lUs = t.stack(lUs, dim=0)\n",
    "    lVs = t.stack(lVs, dim=0)\n",
    "    Ss = t.stack(Ss, dim=0)\n",
    "    a, b, c, d = lUs[:,:,0], lVs[:,0], rUs[:,:,0], rVs[:,0]"
   ]
  },
  {
   "cell_type": "markdown",
   "id": "67fc899f-9cce-4086-a556-ed4bf41b3714",
   "metadata": {},
   "source": [
    "### $a_i,d_i$ are approx. constant and equal"
   ]
  },
  {
   "cell_type": "code",
   "execution_count": 219,
   "id": "7343ec70-fa6b-40eb-95cc-5d9ebd5f16ad",
   "metadata": {},
   "outputs": [
    {
     "name": "stdout",
     "output_type": "stream",
     "text": [
      "tensor(3.2843e-07)\n",
      "tensor(0.9889)\n",
      "tensor(0.9771)\n",
      "tensor(3.4830e-07)\n"
     ]
    }
   ],
   "source": [
    "for v in [a, b, c, d]:\n",
    "    print((v - v.mean(dim=0)).norm()**2 / v.norm()**2)"
   ]
  },
  {
   "cell_type": "code",
   "execution_count": 220,
   "id": "adf7c32b",
   "metadata": {},
   "outputs": [
    {
     "data": {
      "text/plain": [
       "tensor(1.0895e-05)"
      ]
     },
     "execution_count": 220,
     "metadata": {},
     "output_type": "execute_result"
    }
   ],
   "source": [
    "(a - d).norm()**2 / a.norm()**2"
   ]
  },
  {
   "cell_type": "code",
   "execution_count": 221,
   "id": "517308bb",
   "metadata": {},
   "outputs": [],
   "source": [
    "a2 = t.concat([a, -a], dim=0)\n",
    "U, S, V = t.linalg.svd(a2)"
   ]
  },
  {
   "cell_type": "code",
   "execution_count": 28,
   "id": "33f351d8",
   "metadata": {},
   "outputs": [
    {
     "data": {
      "text/plain": [
       "<matplotlib.collections.PathCollection at 0x707a75105fc0>"
      ]
     },
     "execution_count": 28,
     "metadata": {},
     "output_type": "execute_result"
    },
    {
     "data": {
      "image/png": "[encoded data removed]",
      "text/plain": [
       "<Figure size 640x480 with 1 Axes>"
      ]
     },
     "metadata": {},
     "output_type": "display_data"
    }
   ],
   "source": [
    "plt.scatter(a2 @ V[[0]].T, a2 @ V[[1]].T)"
   ]
  },
  {
   "cell_type": "markdown",
   "id": "1fe30a8c",
   "metadata": {},
   "source": [
    "#### 3d stuff"
   ]
  },
  {
   "cell_type": "code",
   "execution_count": 29,
   "id": "2277b850",
   "metadata": {},
   "outputs": [],
   "source": [
    "full_a = einops.einsum(a, irrep, 'neuron d1, G d1 d2 -> neuron G d2').flatten(0, 1)\n",
    "full_d = einops.einsum(d, irrep, 'neuron d1, G d1 d2 -> neuron G d2').flatten(0, 1)"
   ]
  },
  {
   "cell_type": "code",
   "execution_count": 229,
   "id": "1acac9f6",
   "metadata": {},
   "outputs": [
    {
     "data": {
      "application/vnd.plotly.v1+json": {
       "config": {
        "plotlyServerURL": "https://plot.ly"
       },
       "data": [
        {
         "hovertemplate": "x=%{x}<br>y=%{y}<br>z=%{z}<extra></extra>",
         "legendgroup": "",
         "marker": {
          "color": "#636efa",
          "symbol": "circle"
         },
         "mode": "markers",
         "name": "",
         "scene": "scene",
         "showlegend": false,
         "type": "scatter3d",
         "x": [
          0.08552535623311996,
          0.09587357938289642,
          0.11160409450531006,
          0.2504841983318329,
          0.19631050527095795,
          0.25010204315185547,
          0.0028107240796089172,
          0.09119558334350586,
          0.18992553651332855,
          0.11508920043706894,
          0.18711824715137482,
          0.1091359406709671,
          0.10818810760974884,
          0.17474570870399475,
          0.044975679367780685,
          0.09319933503866196,
          0.09898428618907928,
          0.19418637454509735,
          0.085341677069664,
          0.044101532548666,
          0.11425572633743286,
          0.06721283495426178,
          0.09372628480195999,
          0.11169487982988358,
          0.2086831033229828,
          0.25010383129119873,
          0.09112394601106644,
          0.193996399641037,
          0.09602455049753189,
          0.1781371533870697,
          0.17960847914218903,
          0.10916323959827423,
          0.11360318958759308,
          0.09610450267791748,
          0.10912863910198212,
          0.2514687478542328,
          0.19154219329357147,
          0.19144774973392487,
          0.19265079498291016,
          0.0438358336687088,
          0.25148144364356995,
          0.18461325764656067,
          0.20913948118686676,
          0.08507619798183441,
          0.10088981688022614,
          0.19623658061027527,
          0.07335517555475235,
          0.09372211992740631,
          0.04351254925131798,
          0.045074138790369034,
          0.08336286246776581,
          0.0931670144200325,
          0.1913234442472458,
          0.0708523839712143,
          0.19114632904529572,
          0.18750105798244476,
          0.250548779964447,
          0.20894171297550201,
          0.25080808997154236,
          0.11280523985624313,
          0.1089734211564064,
          0.10922452807426453,
          0.18793007731437683,
          0.18731684982776642,
          0.10878857225179672,
          0.25035977363586426,
          0.17373569309711456,
          0.03482971340417862,
          0.20800341665744781,
          0.19584433734416962,
          0.19449198246002197,
          0.0885087326169014,
          0.1739945411682129,
          0.10324922949075699,
          0.0031904703937470913,
          0.04450372979044914,
          0.1940702199935913,
          0.25028669834136963,
          0.11582698673009872,
          0.10590461641550064,
          0.0880228728055954,
          0.08514907956123352,
          0.09043407440185547,
          0.04560863971710205,
          0.18538251519203186,
          0.18985971808433533,
          0.04464202746748924,
          0.17585180699825287,
          0.2494579553604126,
          0.08943212032318115,
          0.24959300458431244,
          0.04865962639451027,
          0.09873121231794357,
          0.2509155571460724,
          0.2516095042228699,
          0.11431533843278885,
          0.09673517197370529,
          0.09520025551319122,
          0.210399329662323,
          0.08810919523239136,
          0.08812786638736725,
          0.18496038019657135,
          0.10911446809768677,
          0.20766732096672058,
          0.19062544405460358,
          0.08833450824022293,
          0.09653078019618988,
          0.25049740076065063,
          0.07338787615299225,
          0.21356596052646637,
          0.19529731571674347,
          0.20568756759166718,
          0.18465939164161682,
          0.10078593343496323,
          0.045403387397527695,
          0.24834826588630676
         ],
         "y": [
          0.2765994668006897,
          0.30851835012435913,
          0.35400131344795227,
          0.809562623500824,
          0.6301161050796509,
          0.8087812662124634,
          0.017690883949398994,
          0.2857823371887207,
          0.6150411367416382,
          0.36443662643432617,
          0.607384204864502,
          0.3463796079158783,
          0.344067245721817,
          0.5674036145210266,
          0.15426048636436462,
          0.29247015714645386,
          0.3179399073123932,
          0.6312281489372253,
          0.27596569061279297,
          0.14969901740550995,
          0.36237645149230957,
          0.21896538138389587,
          0.29410669207572937,
          0.3542889356613159,
          0.6747332215309143,
          0.8087930679321289,
          0.28555330634117126,
          0.6291447281837463,
          0.300592839717865,
          0.5767139792442322,
          0.5815708041191101,
          0.3471817374229431,
          0.3603573441505432,
          0.3019341230392456,
          0.3464280664920807,
          0.811332643032074,
          0.6242982149124146,
          0.6239987015724182,
          0.6283354759216309,
          0.14893153309822083,
          0.8110734224319458,
          0.5950499773025513,
          0.6778059005737305,
          0.2750982344150543,
          0.31648874282836914,
          0.636033296585083,
          0.23954825103282928,
          0.29412126541137695,
          0.14786545932292938,
          0.15460838377475739,
          0.27122247219085693,
          0.2919897139072418,
          0.6236066818237305,
          0.23567987978458405,
          0.6298033595085144,
          0.6085865497589111,
          0.8081988096237183,
          0.6756454110145569,
          0.8113805651664734,
          0.35748329758644104,
          0.34659281373023987,
          0.34741130471229553,
          0.6142184138298035,
          0.6080136299133301,
          0.3460162878036499,
          0.810231626033783,
          0.5623886585235596,
          0.11469864845275879,
          0.6708958745002747,
          0.6342834830284119,
          0.640823245048523,
          0.2746214270591736,
          0.5636726021766663,
          0.33397138118743896,
          0.018998943269252777,
          0.1528310626745224,
          0.6293820142745972,
          0.81130051612854,
          0.36678799986839294,
          0.3320026397705078,
          0.2783423960208893,
          0.2753095030784607,
          0.2833522856235504,
          0.15628692507743835,
          0.5973167419433594,
          0.6148642897605896,
          0.1531926989555359,
          0.5725342035293579,
          0.8101851344108582,
          0.277042418718338,
          0.8094766139984131,
          0.15869386494159698,
          0.3172590136528015,
          0.8090423941612244,
          0.8102243542671204,
          0.3627345561981201,
          0.31133660674095154,
          0.3036820888519287,
          0.6814200282096863,
          0.2807665169239044,
          0.2807438373565674,
          0.5959165692329407,
          0.3470417559146881,
          0.6712038516998291,
          0.6204259991645813,
          0.2735168933868408,
          0.3029671013355255,
          0.809548556804657,
          0.23961277306079865,
          0.6895968914031982,
          0.6340355277061462,
          0.664481520652771,
          0.5952721238136292,
          0.31611868739128113,
          0.1556384414434433,
          0.7958154678344727
         ],
         "z": [
          0.09791533648967743,
          0.07227649539709091,
          0.029637513682246208,
          -0.4854971766471863,
          -0.21362951397895813,
          -0.497297078371048,
          -0.30114760994911194,
          0.08794065564870834,
          -0.5699260234832764,
          0.023532433435320854,
          -0.5700845122337341,
          0.04060453176498413,
          0.038644012063741684,
          -0.5595461130142212,
          -0.38232457637786865,
          0.08197362720966339,
          0.06503051519393921,
          -0.576097846031189,
          0.09841389209032059,
          -0.3794851005077362,
          0.02732720784842968,
          -0.4138529598712921,
          0.08068722486495972,
          0.029419144615530968,
          -0.26533016562461853,
          -0.49731317162513733,
          0.08810923993587494,
          -0.5747585296630859,
          0.07473303377628326,
          -0.5627189874649048,
          -0.56401526927948,
          0.03604568541049957,
          0.02899409644305706,
          0.07629720121622086,
          0.04058748856186867,
          -0.5115098357200623,
          -0.5721606612205505,
          -0.5720993280410767,
          -0.5758587121963501,
          -0.37906280159950256,
          -0.5097453594207764,
          -0.5678504705429077,
          -0.5821845531463623,
          0.09905317425727844,
          0.06273903697729111,
          -0.5777841210365295,
          -0.4246666133403778,
          0.08226296305656433,
          -0.37846842408180237,
          -0.3825242519378662,
          0.10164935886859894,
          0.08192469924688339,
          -0.5720013380050659,
          -0.4214901924133301,
          -0.21424616873264313,
          -0.570351779460907,
          -0.4868755340576172,
          -0.5830585956573486,
          -0.4972708523273468,
          0.029705455526709557,
          0.03654643893241882,
          0.0358646884560585,
          -0.5723118185997009,
          -0.5702196359634399,
          0.03698068484663963,
          -0.5082459449768066,
          -0.5587722063064575,
          -0.356863796710968,
          -0.5838552713394165,
          -0.5762417316436768,
          -0.2253858596086502,
          0.09697259962558746,
          -0.5577877163887024,
          0.050749581307172775,
          -0.301967978477478,
          -0.3815557658672333,
          -0.5748024582862854,
          -0.49707067012786865,
          0.021605422720313072,
          0.05303656682372093,
          0.09627427905797958,
          0.09887794405221939,
          0.08978322893381119,
          -0.3834352195262909,
          -0.5688269138336182,
          -0.5699118971824646,
          -0.38172292709350586,
          -0.5607114434242249,
          -0.49428892135620117,
          0.09471076726913452,
          -0.4837231934070587,
          -0.3810375928878784,
          0.06552816927433014,
          -0.5000210404396057,
          -0.5112181901931763,
          0.02708577737212181,
          0.0700828805565834,
          0.07657050341367722,
          -0.5827483534812927,
          0.0939275249838829,
          0.09390830993652344,
          -0.5684999227523804,
          0.036155425012111664,
          -0.5829766988754272,
          -0.5735301375389099,
          0.09740366041660309,
          0.07393083721399307,
          -0.48538506031036377,
          -0.4247017502784729,
          -0.5834755897521973,
          -0.5744110345840454,
          -0.5825443863868713,
          -0.5678632259368896,
          0.06301131844520569,
          -0.38306912779808044,
          -0.4414922297000885
         ]
        }
       ],
       "layout": {
        "legend": {
         "tracegroupgap": 0
        },
        "margin": {
         "t": 60
        },
        "scene": {
         "domain": {
          "x": [
           0,
           1
          ],
          "y": [
           0,
           1
          ]
         },
         "xaxis": {
          "title": {
           "text": "x"
          }
         },
         "yaxis": {
          "title": {
           "text": "y"
          }
         },
         "zaxis": {
          "title": {
           "text": "z"
          }
         }
        },
        "template": {
         "data": {
          "bar": [
           {
            "error_x": {
             "color": "#2a3f5f"
            },
            "error_y": {
             "color": "#2a3f5f"
            },
            "marker": {
             "line": {
              "color": "#E5ECF6",
              "width": 0.5
             },
             "pattern": {
              "fillmode": "overlay",
              "size": 10,
              "solidity": 0.2
             }
            },
            "type": "bar"
           }
          ],
          "barpolar": [
           {
            "marker": {
             "line": {
              "color": "#E5ECF6",
              "width": 0.5
             },
             "pattern": {
              "fillmode": "overlay",
              "size": 10,
              "solidity": 0.2
             }
            },
            "type": "barpolar"
           }
          ],
          "carpet": [
           {
            "aaxis": {
             "endlinecolor": "#2a3f5f",
             "gridcolor": "white",
             "linecolor": "white",
             "minorgridcolor": "white",
             "startlinecolor": "#2a3f5f"
            },
            "baxis": {
             "endlinecolor": "#2a3f5f",
             "gridcolor": "white",
             "linecolor": "white",
             "minorgridcolor": "white",
             "startlinecolor": "#2a3f5f"
            },
            "type": "carpet"
           }
          ],
          "choropleth": [
           {
            "colorbar": {
             "outlinewidth": 0,
             "ticks": ""
            },
            "type": "choropleth"
           }
          ],
          "contour": [
           {
            "colorbar": {
             "outlinewidth": 0,
             "ticks": ""
            },
            "colorscale": [
             [
              0,
              "#0d0887"
             ],
             [
              0.1111111111111111,
              "#46039f"
             ],
             [
              0.2222222222222222,
              "#7201a8"
             ],
             [
              0.3333333333333333,
              "#9c179e"
             ],
             [
              0.4444444444444444,
              "#bd3786"
             ],
             [
              0.5555555555555556,
              "#d8576b"
             ],
             [
              0.6666666666666666,
              "#ed7953"
             ],
             [
              0.7777777777777778,
              "#fb9f3a"
             ],
             [
              0.8888888888888888,
              "#fdca26"
             ],
             [
              1,
              "#f0f921"
             ]
            ],
            "type": "contour"
           }
          ],
          "contourcarpet": [
           {
            "colorbar": {
             "outlinewidth": 0,
             "ticks": ""
            },
            "type": "contourcarpet"
           }
          ],
          "heatmap": [
           {
            "colorbar": {
             "outlinewidth": 0,
             "ticks": ""
            },
            "colorscale": [
             [
              0,
              "#0d0887"
             ],
             [
              0.1111111111111111,
              "#46039f"
             ],
             [
              0.2222222222222222,
              "#7201a8"
             ],
             [
              0.3333333333333333,
              "#9c179e"
             ],
             [
              0.4444444444444444,
              "#bd3786"
             ],
             [
              0.5555555555555556,
              "#d8576b"
             ],
             [
              0.6666666666666666,
              "#ed7953"
             ],
             [
              0.7777777777777778,
              "#fb9f3a"
             ],
             [
              0.8888888888888888,
              "#fdca26"
             ],
             [
              1,
              "#f0f921"
             ]
            ],
            "type": "heatmap"
           }
          ],
          "heatmapgl": [
           {
            "colorbar": {
             "outlinewidth": 0,
             "ticks": ""
            },
            "colorscale": [
             [
              0,
              "#0d0887"
             ],
             [
              0.1111111111111111,
              "#46039f"
             ],
             [
              0.2222222222222222,
              "#7201a8"
             ],
             [
              0.3333333333333333,
              "#9c179e"
             ],
             [
              0.4444444444444444,
              "#bd3786"
             ],
             [
              0.5555555555555556,
              "#d8576b"
             ],
             [
              0.6666666666666666,
              "#ed7953"
             ],
             [
              0.7777777777777778,
              "#fb9f3a"
             ],
             [
              0.8888888888888888,
              "#fdca26"
             ],
             [
              1,
              "#f0f921"
             ]
            ],
            "type": "heatmapgl"
           }
          ],
          "histogram": [
           {
            "marker": {
             "pattern": {
              "fillmode": "overlay",
              "size": 10,
              "solidity": 0.2
             }
            },
            "type": "histogram"
           }
          ],
          "histogram2d": [
           {
            "colorbar": {
             "outlinewidth": 0,
             "ticks": ""
            },
            "colorscale": [
             [
              0,
              "#0d0887"
             ],
             [
              0.1111111111111111,
              "#46039f"
             ],
             [
              0.2222222222222222,
              "#7201a8"
             ],
             [
              0.3333333333333333,
              "#9c179e"
             ],
             [
              0.4444444444444444,
              "#bd3786"
             ],
             [
              0.5555555555555556,
              "#d8576b"
             ],
             [
              0.6666666666666666,
              "#ed7953"
             ],
             [
              0.7777777777777778,
              "#fb9f3a"
             ],
             [
              0.8888888888888888,
              "#fdca26"
             ],
             [
              1,
              "#f0f921"
             ]
            ],
            "type": "histogram2d"
           }
          ],
          "histogram2dcontour": [
           {
            "colorbar": {
             "outlinewidth": 0,
             "ticks": ""
            },
            "colorscale": [
             [
              0,
              "#0d0887"
             ],
             [
              0.1111111111111111,
              "#46039f"
             ],
             [
              0.2222222222222222,
              "#7201a8"
             ],
             [
              0.3333333333333333,
              "#9c179e"
             ],
             [
              0.4444444444444444,
              "#bd3786"
             ],
             [
              0.5555555555555556,
              "#d8576b"
             ],
             [
              0.6666666666666666,
              "#ed7953"
             ],
             [
              0.7777777777777778,
              "#fb9f3a"
             ],
             [
              0.8888888888888888,
              "#fdca26"
             ],
             [
              1,
              "#f0f921"
             ]
            ],
            "type": "histogram2dcontour"
           }
          ],
          "mesh3d": [
           {
            "colorbar": {
             "outlinewidth": 0,
             "ticks": ""
            },
            "type": "mesh3d"
           }
          ],
          "parcoords": [
           {
            "line": {
             "colorbar": {
              "outlinewidth": 0,
              "ticks": ""
             }
            },
            "type": "parcoords"
           }
          ],
          "pie": [
           {
            "automargin": true,
            "type": "pie"
           }
          ],
          "scatter": [
           {
            "fillpattern": {
             "fillmode": "overlay",
             "size": 10,
             "solidity": 0.2
            },
            "type": "scatter"
           }
          ],
          "scatter3d": [
           {
            "line": {
             "colorbar": {
              "outlinewidth": 0,
              "ticks": ""
             }
            },
            "marker": {
             "colorbar": {
              "outlinewidth": 0,
              "ticks": ""
             }
            },
            "type": "scatter3d"
           }
          ],
          "scattercarpet": [
           {
            "marker": {
             "colorbar": {
              "outlinewidth": 0,
              "ticks": ""
             }
            },
            "type": "scattercarpet"
           }
          ],
          "scattergeo": [
           {
            "marker": {
             "colorbar": {
              "outlinewidth": 0,
              "ticks": ""
             }
            },
            "type": "scattergeo"
           }
          ],
          "scattergl": [
           {
            "marker": {
             "colorbar": {
              "outlinewidth": 0,
              "ticks": ""
             }
            },
            "type": "scattergl"
           }
          ],
          "scattermapbox": [
           {
            "marker": {
             "colorbar": {
              "outlinewidth": 0,
              "ticks": ""
             }
            },
            "type": "scattermapbox"
           }
          ],
          "scatterpolar": [
           {
            "marker": {
             "colorbar": {
              "outlinewidth": 0,
              "ticks": ""
             }
            },
            "type": "scatterpolar"
           }
          ],
          "scatterpolargl": [
           {
            "marker": {
             "colorbar": {
              "outlinewidth": 0,
              "ticks": ""
             }
            },
            "type": "scatterpolargl"
           }
          ],
          "scatterternary": [
           {
            "marker": {
             "colorbar": {
              "outlinewidth": 0,
              "ticks": ""
             }
            },
            "type": "scatterternary"
           }
          ],
          "surface": [
           {
            "colorbar": {
             "outlinewidth": 0,
             "ticks": ""
            },
            "colorscale": [
             [
              0,
              "#0d0887"
             ],
             [
              0.1111111111111111,
              "#46039f"
             ],
             [
              0.2222222222222222,
              "#7201a8"
             ],
             [
              0.3333333333333333,
              "#9c179e"
             ],
             [
              0.4444444444444444,
              "#bd3786"
             ],
             [
              0.5555555555555556,
              "#d8576b"
             ],
             [
              0.6666666666666666,
              "#ed7953"
             ],
             [
              0.7777777777777778,
              "#fb9f3a"
             ],
             [
              0.8888888888888888,
              "#fdca26"
             ],
             [
              1,
              "#f0f921"
             ]
            ],
            "type": "surface"
           }
          ],
          "table": [
           {
            "cells": {
             "fill": {
              "color": "#EBF0F8"
             },
             "line": {
              "color": "white"
             }
            },
            "header": {
             "fill": {
              "color": "#C8D4E3"
             },
             "line": {
              "color": "white"
             }
            },
            "type": "table"
           }
          ]
         },
         "layout": {
          "annotationdefaults": {
           "arrowcolor": "#2a3f5f",
           "arrowhead": 0,
           "arrowwidth": 1
          },
          "autotypenumbers": "strict",
          "coloraxis": {
           "colorbar": {
            "outlinewidth": 0,
            "ticks": ""
           }
          },
          "colorscale": {
           "diverging": [
            [
             0,
             "#8e0152"
            ],
            [
             0.1,
             "#c51b7d"
            ],
            [
             0.2,
             "#de77ae"
            ],
            [
             0.3,
             "#f1b6da"
            ],
            [
             0.4,
             "#fde0ef"
            ],
            [
             0.5,
             "#f7f7f7"
            ],
            [
             0.6,
             "#e6f5d0"
            ],
            [
             0.7,
             "#b8e186"
            ],
            [
             0.8,
             "#7fbc41"
            ],
            [
             0.9,
             "#4d9221"
            ],
            [
             1,
             "#276419"
            ]
           ],
           "sequential": [
            [
             0,
             "#0d0887"
            ],
            [
             0.1111111111111111,
             "#46039f"
            ],
            [
             0.2222222222222222,
             "#7201a8"
            ],
            [
             0.3333333333333333,
             "#9c179e"
            ],
            [
             0.4444444444444444,
             "#bd3786"
            ],
            [
             0.5555555555555556,
             "#d8576b"
            ],
            [
             0.6666666666666666,
             "#ed7953"
            ],
            [
             0.7777777777777778,
             "#fb9f3a"
            ],
            [
             0.8888888888888888,
             "#fdca26"
            ],
            [
             1,
             "#f0f921"
            ]
           ],
           "sequentialminus": [
            [
             0,
             "#0d0887"
            ],
            [
             0.1111111111111111,
             "#46039f"
            ],
            [
             0.2222222222222222,
             "#7201a8"
            ],
            [
             0.3333333333333333,
             "#9c179e"
            ],
            [
             0.4444444444444444,
             "#bd3786"
            ],
            [
             0.5555555555555556,
             "#d8576b"
            ],
            [
             0.6666666666666666,
             "#ed7953"
            ],
            [
             0.7777777777777778,
             "#fb9f3a"
            ],
            [
             0.8888888888888888,
             "#fdca26"
            ],
            [
             1,
             "#f0f921"
            ]
           ]
          },
          "colorway": [
           "#636efa",
           "#EF553B",
           "#00cc96",
           "#ab63fa",
           "#FFA15A",
           "#19d3f3",
           "#FF6692",
           "#B6E880",
           "#FF97FF",
           "#FECB52"
          ],
          "font": {
           "color": "#2a3f5f"
          },
          "geo": {
           "bgcolor": "white",
           "lakecolor": "white",
           "landcolor": "#E5ECF6",
           "showlakes": true,
           "showland": true,
           "subunitcolor": "white"
          },
          "hoverlabel": {
           "align": "left"
          },
          "hovermode": "closest",
          "mapbox": {
           "style": "light"
          },
          "paper_bgcolor": "white",
          "plot_bgcolor": "#E5ECF6",
          "polar": {
           "angularaxis": {
            "gridcolor": "white",
            "linecolor": "white",
            "ticks": ""
           },
           "bgcolor": "#E5ECF6",
           "radialaxis": {
            "gridcolor": "white",
            "linecolor": "white",
            "ticks": ""
           }
          },
          "scene": {
           "xaxis": {
            "backgroundcolor": "#E5ECF6",
            "gridcolor": "white",
            "gridwidth": 2,
            "linecolor": "white",
            "showbackground": true,
            "ticks": "",
            "zerolinecolor": "white"
           },
           "yaxis": {
            "backgroundcolor": "#E5ECF6",
            "gridcolor": "white",
            "gridwidth": 2,
            "linecolor": "white",
            "showbackground": true,
            "ticks": "",
            "zerolinecolor": "white"
           },
           "zaxis": {
            "backgroundcolor": "#E5ECF6",
            "gridcolor": "white",
            "gridwidth": 2,
            "linecolor": "white",
            "showbackground": true,
            "ticks": "",
            "zerolinecolor": "white"
           }
          },
          "shapedefaults": {
           "line": {
            "color": "#2a3f5f"
           }
          },
          "ternary": {
           "aaxis": {
            "gridcolor": "white",
            "linecolor": "white",
            "ticks": ""
           },
           "baxis": {
            "gridcolor": "white",
            "linecolor": "white",
            "ticks": ""
           },
           "bgcolor": "#E5ECF6",
           "caxis": {
            "gridcolor": "white",
            "linecolor": "white",
            "ticks": ""
           }
          },
          "title": {
           "x": 0.05
          },
          "xaxis": {
           "automargin": true,
           "gridcolor": "white",
           "linecolor": "white",
           "ticks": "",
           "title": {
            "standoff": 15
           },
           "zerolinecolor": "white",
           "zerolinewidth": 2
          },
          "yaxis": {
           "automargin": true,
           "gridcolor": "white",
           "linecolor": "white",
           "ticks": "",
           "title": {
            "standoff": 15
           },
           "zerolinecolor": "white",
           "zerolinewidth": 2
          }
         }
        }
       }
      }
     },
     "metadata": {},
     "output_type": "display_data"
    }
   ],
   "source": [
    "import plotly.express as px\n",
    "fig = px.scatter_3d(x=d[:,0].tolist(), y=d[:,1].tolist(), z=d[:,2].tolist())\n",
    "fig.show()\n",
    "# fig.write_html('/home/wilson/a.html')\n",
    "\n",
    "# fig = plt.figure()\n",
    "# ax = fig.add_subplot(projection='3d')\n",
    "# ax.scatter(a[:,0].tolist(), a[:,1].tolist(), a[:,2].tolist(), c='b', alpha=1.)\n",
    "# ax.scatter(full_a[:,0].tolist(), full_a[:,1].tolist(), full_a[:,2].tolist(), c='b', alpha=0.1)\n",
    "# plt.show()\n",
    "# plt.scatter(d[:,0].tolist(), d[:,1].tolist())"
   ]
  },
  {
   "cell_type": "code",
   "execution_count": 155,
   "id": "f99f8a4b",
   "metadata": {},
   "outputs": [],
   "source": [
    "a2 = t.concat([a, -a], dim=0)\n",
    "U, S, V = t.linalg.svd(a2)"
   ]
  },
  {
   "cell_type": "code",
   "execution_count": 156,
   "id": "42317772",
   "metadata": {},
   "outputs": [
    {
     "data": {
      "text/plain": [
       "torch.Size([121, 4])"
      ]
     },
     "execution_count": 156,
     "metadata": {},
     "output_type": "execute_result"
    }
   ],
   "source": [
    "a.shape"
   ]
  },
  {
   "cell_type": "code",
   "execution_count": 93,
   "id": "84fd349d",
   "metadata": {},
   "outputs": [],
   "source": [
    "# num_as=1\n",
    "# ahat = t.concat(\n",
    "#     [einops.repeat(a[i], 'd -> m d', m=a.shape[0]//num_as) for i in range(num_as-1)]\n",
    "#     + [einops.repeat(a[num_as-1], 'd -> m d', m=a.shape[0]-(num_as-1) * (a.shape[0]//num_as))], \n",
    "#     dim=0\n",
    "# )\n",
    "# ahat = a[t.randperm(a.shape[0])]\n",
    "# ahat = einops.repeat(b[1] - b[0], 'd -> m d', m=a.shape[0])\n",
    "# ahat = ahat / ahat.norm(dim=-1).unsqueeze(-1)\n",
    "ahat = a\n",
    "Ahat = einops.einsum(ahat, b, 'm d1, m d2 -> m d1 d2')\n",
    "Bhat = einops.einsum(c, ahat, 'm d1, m d2 -> m d1 d2')\n",
    "ln = einops.einsum(irrep, Ahat.mT, 'G d1 d2, neuron d1 d2 -> G neuron') * A_norm\n",
    "rn = einops.einsum(irrep, Bhat.mT, 'G d1 d2, neuron d1 d2 -> G neuron') * B_norm\n",
    "Chat = einops.einsum(coef, Bhat @ Ahat, 'm, m d1 d2 -> m d1 d2')\n",
    "un = einops.einsum(irrep, Chat.mT, 'G d1 d2, neuron d1 d2 -> G neuron') / (A_norm + B_norm) * 2"
   ]
  },
  {
   "cell_type": "code",
   "execution_count": 99,
   "id": "af855964",
   "metadata": {},
   "outputs": [],
   "source": [
    "# losses = []\n",
    "# for num_as in range(2, a.shape[0]):\n",
    "#     ahat = t.concat(\n",
    "#         [einops.repeat(a[i], 'd -> m d', m=a.shape[0]//num_as) for i in range(num_as-1)]\n",
    "#         + [einops.repeat(a[num_as-1], 'd -> m d', m=a.shape[0]-(num_as-1) * (a.shape[0]//num_as))], \n",
    "#         dim=0\n",
    "#     )\n",
    "#     Ahat = einops.einsum(ahat, b, 'm d1, m d2 -> m d1 d2')\n",
    "#     Bhat = einops.einsum(c, ahat, 'm d1, m d2 -> m d1 d2')\n",
    "#     ln = einops.einsum(irrep, Ahat.mT, 'G d1 d2, neuron d1 d2 -> G neuron') * A_norm\n",
    "#     rn = einops.einsum(irrep, Bhat.mT, 'G d1 d2, neuron d1 d2 -> G neuron') * B_norm\n",
    "#     Chat = einops.einsum(coef, Bhat @ Ahat, 'm, m d1 d2 -> m d1 d2')\n",
    "#     un = einops.einsum(irrep, Chat.mT, 'G d1 d2, neuron d1 d2 -> G neuron') / (A_norm + B_norm) * 2\n",
    "#     losses.append(ablate_loss(t.concat([ln, other_lneurons], dim=-1), t.concat([rn, other_rneurons], dim=-1), t.concat([un, other_uneurons], dim=-1))['G0_loss'].item())"
   ]
  },
  {
   "cell_type": "code",
   "execution_count": 100,
   "id": "40adaeac",
   "metadata": {},
   "outputs": [
    {
     "data": {
      "text/plain": [
       "(tensor(1.4664), tensor(1.4686), tensor(0.0232))"
      ]
     },
     "execution_count": 100,
     "metadata": {},
     "output_type": "execute_result"
    }
   ],
   "source": [
    "(ln - irrep_lneurons).norm()**2 / irrep_lneurons.norm()**2, (rn - irrep_rneurons).norm()**2 / irrep_rneurons.norm()**2, (un - irrep_uneurons).norm()**2 / irrep_uneurons.norm()**2"
   ]
  },
  {
   "cell_type": "code",
   "execution_count": 94,
   "id": "d2b01f62",
   "metadata": {},
   "outputs": [
    {
     "name": "stdout",
     "output_type": "stream",
     "text": [
      "{'G0_loss': tensor([4.4469]), 'G0_acc': tensor([0.0087])} {'G0_loss': tensor([0.8187]), 'G0_acc': tensor([0.7269])}\n",
      "{'G0_loss': tensor([0.0327]), 'G0_acc': tensor([1.])}\n",
      "{'G0_loss': tensor([0.1025]), 'G0_acc': tensor([1.])}\n",
      "{'G0_loss': tensor([0.1737]), 'G0_acc': tensor([1.])}\n"
     ]
    }
   ],
   "source": [
    "other = [i for i in range(lneurons.shape[-1]) if i not in irrep_idxs]\n",
    "other_lneurons, other_rneurons, other_uneurons= lneurons[:, other], rneurons[:, other], uneurons[:, other]\n",
    "print(ablate_loss(other_lneurons, other_rneurons, other_uneurons), ablate_loss(irrep_lneurons, irrep_rneurons, irrep_uneurons))\n",
    "print(ablate_loss(t.concat([irrep_lneurons, other_lneurons], dim=-1), t.concat([irrep_rneurons, other_rneurons], dim=-1), t.concat([irrep_uneurons, other_uneurons], dim=-1)))\n",
    "print(ablate_loss(t.concat([ln, other_lneurons], dim=-1), t.concat([rn, other_rneurons], dim=-1), t.concat([un, other_uneurons], dim=-1)))\n",
    "print(ablate_loss(ln, rn, un))"
   ]
  },
  {
   "cell_type": "code",
   "execution_count": null,
   "id": "a4d1993d",
   "metadata": {},
   "outputs": [],
   "source": [
    "# {'G0_loss': tensor([4.4466]), 'G0_acc': tensor([0.0083])} {'G0_loss': tensor([0.9043]), 'G0_acc': tensor([0.5908])}"
   ]
  },
  {
   "cell_type": "code",
   "execution_count": 64,
   "id": "316ac7f4",
   "metadata": {},
   "outputs": [
    {
     "data": {
      "text/plain": [
       "torch.Size([120, 7])"
      ]
     },
     "execution_count": 64,
     "metadata": {},
     "output_type": "execute_result"
    }
   ],
   "source": [
    "other_lneurons.shape"
   ]
  },
  {
   "cell_type": "code",
   "execution_count": 65,
   "id": "f8ca2a6f-c31c-478f-9662-69295609de0b",
   "metadata": {},
   "outputs": [
    {
     "data": {
      "text/plain": [
       "tensor(1.9314e-05)"
      ]
     },
     "execution_count": 65,
     "metadata": {},
     "output_type": "execute_result"
    }
   ],
   "source": [
    "(a.mean(dim=0) - d.mean(dim=0)).norm()**2 / a.mean(dim=0).norm()**2"
   ]
  },
  {
   "cell_type": "code",
   "execution_count": 88,
   "id": "3a69106b",
   "metadata": {},
   "outputs": [
    {
     "data": {
      "application/vnd.plotly.v1+json": {
       "config": {
        "plotlyServerURL": "https://plot.ly"
       },
       "data": [
        {
         "marker": {
          "color": "red",
          "opacity": 0.5,
          "size": 6
         },
         "mode": "markers",
         "name": "a",
         "type": "scatter3d",
         "x": [
          0.4053468108177185,
          0.7761740684509277,
          0.702725350856781,
          0.7033148407936096,
          0.9198043346405029,
          0.4415106475353241,
          0.4031219482421875,
          0.42490801215171814,
          0.30198386311531067,
          0.6899560689926147,
          0.6683205962181091,
          0.9557587504386902,
          0.8424152731895447,
          0.6994860172271729,
          0.6649494171142578,
          0.8011266589164734,
          0.8368542790412903,
          0.9452037811279297,
          0.859697163105011,
          0.3977195918560028,
          0.6990962028503418,
          0.4034164845943451,
          0.8330041766166687,
          0.8585454821586609,
          0.8274090886116028,
          0.6520777344703674,
          0.6489424109458923,
          0.6574922204017639,
          0.9507604241371155,
          0.8357617259025574,
          0.6459828019142151,
          0.6950246095657349,
          0.9517328143119812,
          0.6540442705154419,
          0.28538525104522705,
          0.6558090448379517,
          0.6323975920677185,
          0.8341056108474731,
          0.6633614301681519,
          0.44864001870155334,
          0.7290332317352295,
          0.823923647403717,
          0.4333823621273041,
          0.9487178325653076,
          0.7415062189102173,
          0.840151846408844,
          0.8340527415275574,
          0.6470853686332703,
          0.8400223255157471,
          0.3564683794975281,
          0.834157407283783,
          0.5512372255325317,
          0.9594857096672058,
          0.6756159663200378,
          0.9176051616668701,
          0.5679943561553955,
          0.9488824605941772,
          0.44774141907691956,
          0.5769966840744019,
          0.8409174084663391,
          0.8389912247657776,
          0.9539110660552979,
          0.3541684150695801,
          0.9473583698272705,
          0.8585055470466614,
          0.9599977731704712,
          0.9615298509597778,
          0.6433809995651245,
          0.7194843292236328,
          0.8245670795440674,
          0.3087485730648041,
          0.40961793065071106,
          0.955188512802124,
          0.9624272584915161,
          0.9569177031517029,
          0.4429602026939392,
          0.44906437397003174,
          0.8340404033660889,
          0.8377776145935059,
          0.4533978998661041,
          0.8572880029678345,
          0.6429948210716248,
          0.4256688058376312,
          0.8314392566680908,
          0.7707704305648804,
          0.5971255302429199,
          0.30057162046432495,
          0.455670565366745,
          0.6673269271850586,
          0.45045006275177,
          0.4403831362724304,
          0.439165860414505,
          0.6456677913665771,
          0.8604577779769897,
          0.9535814523696899,
          0.8364130258560181,
          0.4523952901363373,
          0.6147152185440063,
          0.5945906043052673,
          0.8394960165023804,
          0.7190420627593994,
          0.4370507597923279,
          0.9478757977485657,
          0.5841119885444641,
          0.6384589672088623,
          0.4181986451148987,
          0.6210752129554749,
          0.7964496612548828,
          0.4091329276561737,
          0.956602931022644,
          0.5952142477035522,
          0.9531999230384827,
          0.9488541483879089,
          -0.4053468108177185,
          -0.7761740684509277,
          -0.702725350856781,
          -0.7033148407936096,
          -0.9198043346405029,
          -0.4415106475353241,
          -0.4031219482421875,
          -0.42490801215171814,
          -0.30198386311531067,
          -0.6899560689926147,
          -0.6683205962181091,
          -0.9557587504386902,
          -0.8424152731895447,
          -0.6994860172271729,
          -0.6649494171142578,
          -0.8011266589164734,
          -0.8368542790412903,
          -0.9452037811279297,
          -0.859697163105011,
          -0.3977195918560028,
          -0.6990962028503418,
          -0.4034164845943451,
          -0.8330041766166687,
          -0.8585454821586609,
          -0.8274090886116028,
          -0.6520777344703674,
          -0.6489424109458923,
          -0.6574922204017639,
          -0.9507604241371155,
          -0.8357617259025574,
          -0.6459828019142151,
          -0.6950246095657349,
          -0.9517328143119812,
          -0.6540442705154419,
          -0.28538525104522705,
          -0.6558090448379517,
          -0.6323975920677185,
          -0.8341056108474731,
          -0.6633614301681519,
          -0.44864001870155334,
          -0.7290332317352295,
          -0.823923647403717,
          -0.4333823621273041,
          -0.9487178325653076,
          -0.7415062189102173,
          -0.840151846408844,
          -0.8340527415275574,
          -0.6470853686332703,
          -0.8400223255157471,
          -0.3564683794975281,
          -0.834157407283783,
          -0.5512372255325317,
          -0.9594857096672058,
          -0.6756159663200378,
          -0.9176051616668701,
          -0.5679943561553955,
          -0.9488824605941772,
          -0.44774141907691956,
          -0.5769966840744019,
          -0.8409174084663391,
          -0.8389912247657776,
          -0.9539110660552979,
          -0.3541684150695801,
          -0.9473583698272705,
          -0.8585055470466614,
          -0.9599977731704712,
          -0.9615298509597778,
          -0.6433809995651245,
          -0.7194843292236328,
          -0.8245670795440674,
          -0.3087485730648041,
          -0.40961793065071106,
          -0.955188512802124,
          -0.9624272584915161,
          -0.9569177031517029,
          -0.4429602026939392,
          -0.44906437397003174,
          -0.8340404033660889,
          -0.8377776145935059,
          -0.4533978998661041,
          -0.8572880029678345,
          -0.6429948210716248,
          -0.4256688058376312,
          -0.8314392566680908,
          -0.7707704305648804,
          -0.5971255302429199,
          -0.30057162046432495,
          -0.455670565366745,
          -0.6673269271850586,
          -0.45045006275177,
          -0.4403831362724304,
          -0.439165860414505,
          -0.6456677913665771,
          -0.8604577779769897,
          -0.9535814523696899,
          -0.8364130258560181,
          -0.4523952901363373,
          -0.6147152185440063,
          -0.5945906043052673,
          -0.8394960165023804,
          -0.7190420627593994,
          -0.4370507597923279,
          -0.9478757977485657,
          -0.5841119885444641,
          -0.6384589672088623,
          -0.4181986451148987,
          -0.6210752129554749,
          -0.7964496612548828,
          -0.4091329276561737,
          -0.956602931022644,
          -0.5952142477035522,
          -0.9531999230384827,
          -0.9488541483879089
         ],
         "y": [
          0.5086837410926819,
          0.23376251757144928,
          -0.5798833966255188,
          -0.5804092288017273,
          -0.37436389923095703,
          0.48969003558158875,
          0.5098020434379578,
          0.49846625328063965,
          0.5555514097213745,
          -0.5869786739349365,
          0.3367253839969635,
          -0.0980297327041626,
          -0.47928881645202637,
          -0.5818765163421631,
          0.33996233344078064,
          -0.516901433467865,
          -0.48478081822395325,
          -0.05421729013323784,
          -0.461296409368515,
          0.5123084187507629,
          -0.5824477672576904,
          0.50951087474823,
          -0.48884183168411255,
          -0.46258795261383057,
          -0.494105726480484,
          -0.6040900945663452,
          0.3526725172996521,
          -0.6018914580345154,
          -0.07553912699222565,
          -0.48623552918434143,
          -0.6061099767684937,
          -0.5844659209251404,
          -0.07917957007884979,
          0.34853512048721313,
          0.5625405311584473,
          0.34693387150764465,
          0.36587095260620117,
          -0.4878007173538208,
          -0.5993942022323608,
          0.48607444763183594,
          0.28190651535987854,
          -0.4972856640815735,
          0.4938245415687561,
          -0.06723853200674057,
          0.2697463035583496,
          -0.4817425310611725,
          -0.48749059438705444,
          0.3539959788322449,
          -0.4818701148033142,
          0.5326200127601624,
          -0.48775073885917664,
          -0.6386377811431885,
          -0.11944612860679626,
          -0.5933664441108704,
          -0.37853947281837463,
          0.4125722050666809,
          -0.0681038573384285,
          0.48656776547431946,
          0.4066394865512848,
          -0.4812442660331726,
          -0.48323389887809753,
          -0.08964160084724426,
          0.5336807370185852,
          -0.06295960396528244,
          -0.4626322388648987,
          -0.12293833494186401,
          -0.1336265653371811,
          0.35716554522514343,
          -0.5716308355331421,
          -0.49675142765045166,
          0.5533921122550964,
          0.506291925907135,
          -0.09493463486433029,
          -0.14249829947948456,
          -0.10286004841327667,
          0.48888322710990906,
          0.48597174882888794,
          -0.4878975749015808,
          -0.48438793420791626,
          0.4830200672149658,
          -0.4639820456504822,
          0.35697346925735474,
          0.4983566105365753,
          -0.4903753101825714,
          0.23861204087734222,
          0.39232081174850464,
          0.5571020245552063,
          0.4822036325931549,
          0.3375627100467682,
          0.48521316051483154,
          0.4902828633785248,
          0.4909377694129944,
          0.3553435504436493,
          -0.46050944924354553,
          -0.08731848746538162,
          -0.4856050908565521,
          0.4839824438095093,
          0.37927207350730896,
          0.3941521644592285,
          -0.48273369669914246,
          -0.5712647438049316,
          0.49216702580451965,
          -0.06488955765962601,
          0.4014204442501068,
          0.3605625331401825,
          0.502106785774231,
          0.37447482347488403,
          -0.520483136177063,
          0.507178544998169,
          -0.1025647521018982,
          0.3937036991119385,
          -0.08580764383077621,
          -0.06738871335983276,
          -0.5086837410926819,
          -0.23376251757144928,
          0.5798833966255188,
          0.5804092288017273,
          0.37436389923095703,
          -0.48969003558158875,
          -0.5098020434379578,
          -0.49846625328063965,
          -0.5555514097213745,
          0.5869786739349365,
          -0.3367253839969635,
          0.0980297327041626,
          0.47928881645202637,
          0.5818765163421631,
          -0.33996233344078064,
          0.516901433467865,
          0.48478081822395325,
          0.05421729013323784,
          0.461296409368515,
          -0.5123084187507629,
          0.5824477672576904,
          -0.50951087474823,
          0.48884183168411255,
          0.46258795261383057,
          0.494105726480484,
          0.6040900945663452,
          -0.3526725172996521,
          0.6018914580345154,
          0.07553912699222565,
          0.48623552918434143,
          0.6061099767684937,
          0.5844659209251404,
          0.07917957007884979,
          -0.34853512048721313,
          -0.5625405311584473,
          -0.34693387150764465,
          -0.36587095260620117,
          0.4878007173538208,
          0.5993942022323608,
          -0.48607444763183594,
          -0.28190651535987854,
          0.4972856640815735,
          -0.4938245415687561,
          0.06723853200674057,
          -0.2697463035583496,
          0.4817425310611725,
          0.48749059438705444,
          -0.3539959788322449,
          0.4818701148033142,
          -0.5326200127601624,
          0.48775073885917664,
          0.6386377811431885,
          0.11944612860679626,
          0.5933664441108704,
          0.37853947281837463,
          -0.4125722050666809,
          0.0681038573384285,
          -0.48656776547431946,
          -0.4066394865512848,
          0.4812442660331726,
          0.48323389887809753,
          0.08964160084724426,
          -0.5336807370185852,
          0.06295960396528244,
          0.4626322388648987,
          0.12293833494186401,
          0.1336265653371811,
          -0.35716554522514343,
          0.5716308355331421,
          0.49675142765045166,
          -0.5533921122550964,
          -0.506291925907135,
          0.09493463486433029,
          0.14249829947948456,
          0.10286004841327667,
          -0.48888322710990906,
          -0.48597174882888794,
          0.4878975749015808,
          0.48438793420791626,
          -0.4830200672149658,
          0.4639820456504822,
          -0.35697346925735474,
          -0.4983566105365753,
          0.4903753101825714,
          -0.23861204087734222,
          -0.39232081174850464,
          -0.5571020245552063,
          -0.4822036325931549,
          -0.3375627100467682,
          -0.48521316051483154,
          -0.4902828633785248,
          -0.4909377694129944,
          -0.3553435504436493,
          0.46050944924354553,
          0.08731848746538162,
          0.4856050908565521,
          -0.4839824438095093,
          -0.37927207350730896,
          -0.3941521644592285,
          0.48273369669914246,
          0.5712647438049316,
          -0.49216702580451965,
          0.06488955765962601,
          -0.4014204442501068,
          -0.3605625331401825,
          -0.502106785774231,
          -0.37447482347488403,
          0.520483136177063,
          -0.507178544998169,
          0.1025647521018982,
          -0.3937036991119385,
          0.08580764383077621,
          0.06738871335983276
         ],
         "z": [
          -0.7594302296638489,
          -0.5830053687095642,
          0.4041021764278412,
          0.4025524854660034,
          0.07486633211374283,
          -0.7516107559204102,
          -0.7598665952682495,
          -0.7554426789283752,
          -0.7746891379356384,
          0.4161483347415924,
          -0.66189044713974,
          -0.2646135687828064,
          0.22981968522071838,
          0.4069685637950897,
          -0.6637166142463684,
          0.2891616225242615,
          0.23847615718841553,
          -0.3117789626121521,
          0.2008717954158783,
          -0.7610264420509338,
          0.4069281220436096,
          -0.7598827481269836,
          0.2440667599439621,
          0.20283867418766022,
          0.25238680839538574,
          0.4515552818775177,
          -0.6729093790054321,
          0.44665855169296265,
          -0.2891975939273834,
          0.23953475058078766,
          0.45751646161079407,
          0.41115814447402954,
          -0.2849714457988739,
          -0.6700654029846191,
          -0.775947630405426,
          -0.6691778898239136,
          -0.6817081570625305,
          0.24229498207569122,
          0.44109708070755005,
          -0.7497261762619019,
          -0.6216777563095093,
          0.2576128840446472,
          -0.7536644339561462,
          -0.29802340269088745,
          -0.6121781468391418,
          0.23345868289470673,
          0.24277664721012115,
          -0.6740152835845947,
          0.2336631715297699,
          -0.7675816416740417,
          0.24221548438072205,
          0.532355785369873,
          -0.24090084433555603,
          0.4303457736968994,
          0.0806610956788063,
          -0.7114344239234924,
          -0.29725539684295654,
          -0.7499458193778992,
          -0.7075838446617126,
          0.23137512803077698,
          0.23433776199817657,
          -0.2741186320781708,
          -0.7679117321968079,
          -0.30312007665634155,
          0.2029060423374176,
          -0.2370135486125946,
          -0.22483643889427185,
          -0.6759116649627686,
          0.38600847125053406,
          0.25636255741119385,
          -0.7735685706138611,
          -0.7587119936943054,
          -0.26787400245666504,
          -0.21449369192123413,
          -0.25838297605514526,
          -0.7512778043746948,
          -0.7495415806770325,
          0.24229076504707336,
          0.2362210899591446,
          -0.7488225698471069,
          0.20498956739902496,
          -0.6763834953308105,
          -0.7551023364067078,
          0.2460852563381195,
          -0.5881336331367493,
          -0.6988043785095215,
          -0.7741321325302124,
          -0.7479649186134338,
          -0.6624860167503357,
          -0.7491979598999023,
          -0.7518873810768127,
          -0.7521750926971436,
          -0.6746746301651001,
          0.19949018955230713,
          -0.2761184275150299,
          0.23864878714084625,
          -0.7488256096839905,
          -0.6905348300933838,
          -0.6999481320381165,
          0.23355098068714142,
          0.38743534684181213,
          -0.7526020407676697,
          -0.30105772614479065,
          -0.7046535611152649,
          -0.6788028478622437,
          -0.7567819952964783,
          -0.6874164342880249,
          0.2956036925315857,
          -0.7583898901939392,
          -0.25926315784454346,
          -0.6996668577194214,
          -0.2779642939567566,
          -0.2972325384616852,
          0.7594302296638489,
          0.5830053687095642,
          -0.4041021764278412,
          -0.4025524854660034,
          -0.07486633211374283,
          0.7516107559204102,
          0.7598665952682495,
          0.7554426789283752,
          0.7746891379356384,
          -0.4161483347415924,
          0.66189044713974,
          0.2646135687828064,
          -0.22981968522071838,
          -0.4069685637950897,
          0.6637166142463684,
          -0.2891616225242615,
          -0.23847615718841553,
          0.3117789626121521,
          -0.2008717954158783,
          0.7610264420509338,
          -0.4069281220436096,
          0.7598827481269836,
          -0.2440667599439621,
          -0.20283867418766022,
          -0.25238680839538574,
          -0.4515552818775177,
          0.6729093790054321,
          -0.44665855169296265,
          0.2891975939273834,
          -0.23953475058078766,
          -0.45751646161079407,
          -0.41115814447402954,
          0.2849714457988739,
          0.6700654029846191,
          0.775947630405426,
          0.6691778898239136,
          0.6817081570625305,
          -0.24229498207569122,
          -0.44109708070755005,
          0.7497261762619019,
          0.6216777563095093,
          -0.2576128840446472,
          0.7536644339561462,
          0.29802340269088745,
          0.6121781468391418,
          -0.23345868289470673,
          -0.24277664721012115,
          0.6740152835845947,
          -0.2336631715297699,
          0.7675816416740417,
          -0.24221548438072205,
          -0.532355785369873,
          0.24090084433555603,
          -0.4303457736968994,
          -0.0806610956788063,
          0.7114344239234924,
          0.29725539684295654,
          0.7499458193778992,
          0.7075838446617126,
          -0.23137512803077698,
          -0.23433776199817657,
          0.2741186320781708,
          0.7679117321968079,
          0.30312007665634155,
          -0.2029060423374176,
          0.2370135486125946,
          0.22483643889427185,
          0.6759116649627686,
          -0.38600847125053406,
          -0.25636255741119385,
          0.7735685706138611,
          0.7587119936943054,
          0.26787400245666504,
          0.21449369192123413,
          0.25838297605514526,
          0.7512778043746948,
          0.7495415806770325,
          -0.24229076504707336,
          -0.2362210899591446,
          0.7488225698471069,
          -0.20498956739902496,
          0.6763834953308105,
          0.7551023364067078,
          -0.2460852563381195,
          0.5881336331367493,
          0.6988043785095215,
          0.7741321325302124,
          0.7479649186134338,
          0.6624860167503357,
          0.7491979598999023,
          0.7518873810768127,
          0.7521750926971436,
          0.6746746301651001,
          -0.19949018955230713,
          0.2761184275150299,
          -0.23864878714084625,
          0.7488256096839905,
          0.6905348300933838,
          0.6999481320381165,
          -0.23355098068714142,
          -0.38743534684181213,
          0.7526020407676697,
          0.30105772614479065,
          0.7046535611152649,
          0.6788028478622437,
          0.7567819952964783,
          0.6874164342880249,
          -0.2956036925315857,
          0.7583898901939392,
          0.25926315784454346,
          0.6996668577194214,
          0.2779642939567566,
          0.2972325384616852
         ]
        },
        {
         "marker": {
          "color": "blue",
          "opacity": 0.5,
          "size": 6
         },
         "mode": "markers",
         "name": "b",
         "type": "scatter3d",
         "x": [
          -0.3594655394554138,
          -0.3162279725074768,
          -0.644738495349884,
          0.27299031615257263,
          -0.6324556469917297,
          -0.5892181992530823,
          -0.917728841304779,
          -0.27299028635025024,
          0.28527313470840454,
          0.32851070165634155,
          0.9177287817001343,
          0.644738495349884,
          -0.04323755204677582,
          -0.32851070165634155,
          0.5892181396484375,
          0.3162279427051544,
          0.04323756694793701,
          -0.28527313470840454,
          0.632455587387085,
          0.3594655394554138
         ],
         "y": [
          0.6447382569313049,
          0.6324554681777954,
          0.6879756450653076,
          0.9609661102294922,
          -0.3162277042865753,
          -0.328510582447052,
          -0.2729901671409607,
          -0.9609661102294922,
          -0.0432376004755497,
          -0.055520400404930115,
          0.2729901969432831,
          -0.6879756450653076,
          0.012282789684832096,
          0.05552039295434952,
          0.3285106122493744,
          -0.6324554085731506,
          -0.012282800860702991,
          0.04323761537671089,
          0.3162277638912201,
          -0.6447382569313049
         ],
         "z": [
          -0.5892179608345032,
          -0.3162277638912201,
          0.32851067185401917,
          0.04323762655258179,
          -0.6324553489685059,
          -0.3594653308391571,
          0.28527313470840454,
          -0.04323762655258179,
          -0.9177287220954895,
          -0.644738495349884,
          -0.2852731943130493,
          -0.32851073145866394,
          -0.2729901373386383,
          0.6447384357452393,
          0.3594653308391571,
          0.3162277340888977,
          0.272990345954895,
          0.9177287220954895,
          0.6324554681777954,
          0.5892180800437927
         ]
        }
       ],
       "layout": {
        "template": {
         "data": {
          "bar": [
           {
            "error_x": {
             "color": "#2a3f5f"
            },
            "error_y": {
             "color": "#2a3f5f"
            },
            "marker": {
             "line": {
              "color": "#E5ECF6",
              "width": 0.5
             },
             "pattern": {
              "fillmode": "overlay",
              "size": 10,
              "solidity": 0.2
             }
            },
            "type": "bar"
           }
          ],
          "barpolar": [
           {
            "marker": {
             "line": {
              "color": "#E5ECF6",
              "width": 0.5
             },
             "pattern": {
              "fillmode": "overlay",
              "size": 10,
              "solidity": 0.2
             }
            },
            "type": "barpolar"
           }
          ],
          "carpet": [
           {
            "aaxis": {
             "endlinecolor": "#2a3f5f",
             "gridcolor": "white",
             "linecolor": "white",
             "minorgridcolor": "white",
             "startlinecolor": "#2a3f5f"
            },
            "baxis": {
             "endlinecolor": "#2a3f5f",
             "gridcolor": "white",
             "linecolor": "white",
             "minorgridcolor": "white",
             "startlinecolor": "#2a3f5f"
            },
            "type": "carpet"
           }
          ],
          "choropleth": [
           {
            "colorbar": {
             "outlinewidth": 0,
             "ticks": ""
            },
            "type": "choropleth"
           }
          ],
          "contour": [
           {
            "colorbar": {
             "outlinewidth": 0,
             "ticks": ""
            },
            "colorscale": [
             [
              0,
              "#0d0887"
             ],
             [
              0.1111111111111111,
              "#46039f"
             ],
             [
              0.2222222222222222,
              "#7201a8"
             ],
             [
              0.3333333333333333,
              "#9c179e"
             ],
             [
              0.4444444444444444,
              "#bd3786"
             ],
             [
              0.5555555555555556,
              "#d8576b"
             ],
             [
              0.6666666666666666,
              "#ed7953"
             ],
             [
              0.7777777777777778,
              "#fb9f3a"
             ],
             [
              0.8888888888888888,
              "#fdca26"
             ],
             [
              1,
              "#f0f921"
             ]
            ],
            "type": "contour"
           }
          ],
          "contourcarpet": [
           {
            "colorbar": {
             "outlinewidth": 0,
             "ticks": ""
            },
            "type": "contourcarpet"
           }
          ],
          "heatmap": [
           {
            "colorbar": {
             "outlinewidth": 0,
             "ticks": ""
            },
            "colorscale": [
             [
              0,
              "#0d0887"
             ],
             [
              0.1111111111111111,
              "#46039f"
             ],
             [
              0.2222222222222222,
              "#7201a8"
             ],
             [
              0.3333333333333333,
              "#9c179e"
             ],
             [
              0.4444444444444444,
              "#bd3786"
             ],
             [
              0.5555555555555556,
              "#d8576b"
             ],
             [
              0.6666666666666666,
              "#ed7953"
             ],
             [
              0.7777777777777778,
              "#fb9f3a"
             ],
             [
              0.8888888888888888,
              "#fdca26"
             ],
             [
              1,
              "#f0f921"
             ]
            ],
            "type": "heatmap"
           }
          ],
          "heatmapgl": [
           {
            "colorbar": {
             "outlinewidth": 0,
             "ticks": ""
            },
            "colorscale": [
             [
              0,
              "#0d0887"
             ],
             [
              0.1111111111111111,
              "#46039f"
             ],
             [
              0.2222222222222222,
              "#7201a8"
             ],
             [
              0.3333333333333333,
              "#9c179e"
             ],
             [
              0.4444444444444444,
              "#bd3786"
             ],
             [
              0.5555555555555556,
              "#d8576b"
             ],
             [
              0.6666666666666666,
              "#ed7953"
             ],
             [
              0.7777777777777778,
              "#fb9f3a"
             ],
             [
              0.8888888888888888,
              "#fdca26"
             ],
             [
              1,
              "#f0f921"
             ]
            ],
            "type": "heatmapgl"
           }
          ],
          "histogram": [
           {
            "marker": {
             "pattern": {
              "fillmode": "overlay",
              "size": 10,
              "solidity": 0.2
             }
            },
            "type": "histogram"
           }
          ],
          "histogram2d": [
           {
            "colorbar": {
             "outlinewidth": 0,
             "ticks": ""
            },
            "colorscale": [
             [
              0,
              "#0d0887"
             ],
             [
              0.1111111111111111,
              "#46039f"
             ],
             [
              0.2222222222222222,
              "#7201a8"
             ],
             [
              0.3333333333333333,
              "#9c179e"
             ],
             [
              0.4444444444444444,
              "#bd3786"
             ],
             [
              0.5555555555555556,
              "#d8576b"
             ],
             [
              0.6666666666666666,
              "#ed7953"
             ],
             [
              0.7777777777777778,
              "#fb9f3a"
             ],
             [
              0.8888888888888888,
              "#fdca26"
             ],
             [
              1,
              "#f0f921"
             ]
            ],
            "type": "histogram2d"
           }
          ],
          "histogram2dcontour": [
           {
            "colorbar": {
             "outlinewidth": 0,
             "ticks": ""
            },
            "colorscale": [
             [
              0,
              "#0d0887"
             ],
             [
              0.1111111111111111,
              "#46039f"
             ],
             [
              0.2222222222222222,
              "#7201a8"
             ],
             [
              0.3333333333333333,
              "#9c179e"
             ],
             [
              0.4444444444444444,
              "#bd3786"
             ],
             [
              0.5555555555555556,
              "#d8576b"
             ],
             [
              0.6666666666666666,
              "#ed7953"
             ],
             [
              0.7777777777777778,
              "#fb9f3a"
             ],
             [
              0.8888888888888888,
              "#fdca26"
             ],
             [
              1,
              "#f0f921"
             ]
            ],
            "type": "histogram2dcontour"
           }
          ],
          "mesh3d": [
           {
            "colorbar": {
             "outlinewidth": 0,
             "ticks": ""
            },
            "type": "mesh3d"
           }
          ],
          "parcoords": [
           {
            "line": {
             "colorbar": {
              "outlinewidth": 0,
              "ticks": ""
             }
            },
            "type": "parcoords"
           }
          ],
          "pie": [
           {
            "automargin": true,
            "type": "pie"
           }
          ],
          "scatter": [
           {
            "fillpattern": {
             "fillmode": "overlay",
             "size": 10,
             "solidity": 0.2
            },
            "type": "scatter"
           }
          ],
          "scatter3d": [
           {
            "line": {
             "colorbar": {
              "outlinewidth": 0,
              "ticks": ""
             }
            },
            "marker": {
             "colorbar": {
              "outlinewidth": 0,
              "ticks": ""
             }
            },
            "type": "scatter3d"
           }
          ],
          "scattercarpet": [
           {
            "marker": {
             "colorbar": {
              "outlinewidth": 0,
              "ticks": ""
             }
            },
            "type": "scattercarpet"
           }
          ],
          "scattergeo": [
           {
            "marker": {
             "colorbar": {
              "outlinewidth": 0,
              "ticks": ""
             }
            },
            "type": "scattergeo"
           }
          ],
          "scattergl": [
           {
            "marker": {
             "colorbar": {
              "outlinewidth": 0,
              "ticks": ""
             }
            },
            "type": "scattergl"
           }
          ],
          "scattermapbox": [
           {
            "marker": {
             "colorbar": {
              "outlinewidth": 0,
              "ticks": ""
             }
            },
            "type": "scattermapbox"
           }
          ],
          "scatterpolar": [
           {
            "marker": {
             "colorbar": {
              "outlinewidth": 0,
              "ticks": ""
             }
            },
            "type": "scatterpolar"
           }
          ],
          "scatterpolargl": [
           {
            "marker": {
             "colorbar": {
              "outlinewidth": 0,
              "ticks": ""
             }
            },
            "type": "scatterpolargl"
           }
          ],
          "scatterternary": [
           {
            "marker": {
             "colorbar": {
              "outlinewidth": 0,
              "ticks": ""
             }
            },
            "type": "scatterternary"
           }
          ],
          "surface": [
           {
            "colorbar": {
             "outlinewidth": 0,
             "ticks": ""
            },
            "colorscale": [
             [
              0,
              "#0d0887"
             ],
             [
              0.1111111111111111,
              "#46039f"
             ],
             [
              0.2222222222222222,
              "#7201a8"
             ],
             [
              0.3333333333333333,
              "#9c179e"
             ],
             [
              0.4444444444444444,
              "#bd3786"
             ],
             [
              0.5555555555555556,
              "#d8576b"
             ],
             [
              0.6666666666666666,
              "#ed7953"
             ],
             [
              0.7777777777777778,
              "#fb9f3a"
             ],
             [
              0.8888888888888888,
              "#fdca26"
             ],
             [
              1,
              "#f0f921"
             ]
            ],
            "type": "surface"
           }
          ],
          "table": [
           {
            "cells": {
             "fill": {
              "color": "#EBF0F8"
             },
             "line": {
              "color": "white"
             }
            },
            "header": {
             "fill": {
              "color": "#C8D4E3"
             },
             "line": {
              "color": "white"
             }
            },
            "type": "table"
           }
          ]
         },
         "layout": {
          "annotationdefaults": {
           "arrowcolor": "#2a3f5f",
           "arrowhead": 0,
           "arrowwidth": 1
          },
          "autotypenumbers": "strict",
          "coloraxis": {
           "colorbar": {
            "outlinewidth": 0,
            "ticks": ""
           }
          },
          "colorscale": {
           "diverging": [
            [
             0,
             "#8e0152"
            ],
            [
             0.1,
             "#c51b7d"
            ],
            [
             0.2,
             "#de77ae"
            ],
            [
             0.3,
             "#f1b6da"
            ],
            [
             0.4,
             "#fde0ef"
            ],
            [
             0.5,
             "#f7f7f7"
            ],
            [
             0.6,
             "#e6f5d0"
            ],
            [
             0.7,
             "#b8e186"
            ],
            [
             0.8,
             "#7fbc41"
            ],
            [
             0.9,
             "#4d9221"
            ],
            [
             1,
             "#276419"
            ]
           ],
           "sequential": [
            [
             0,
             "#0d0887"
            ],
            [
             0.1111111111111111,
             "#46039f"
            ],
            [
             0.2222222222222222,
             "#7201a8"
            ],
            [
             0.3333333333333333,
             "#9c179e"
            ],
            [
             0.4444444444444444,
             "#bd3786"
            ],
            [
             0.5555555555555556,
             "#d8576b"
            ],
            [
             0.6666666666666666,
             "#ed7953"
            ],
            [
             0.7777777777777778,
             "#fb9f3a"
            ],
            [
             0.8888888888888888,
             "#fdca26"
            ],
            [
             1,
             "#f0f921"
            ]
           ],
           "sequentialminus": [
            [
             0,
             "#0d0887"
            ],
            [
             0.1111111111111111,
             "#46039f"
            ],
            [
             0.2222222222222222,
             "#7201a8"
            ],
            [
             0.3333333333333333,
             "#9c179e"
            ],
            [
             0.4444444444444444,
             "#bd3786"
            ],
            [
             0.5555555555555556,
             "#d8576b"
            ],
            [
             0.6666666666666666,
             "#ed7953"
            ],
            [
             0.7777777777777778,
             "#fb9f3a"
            ],
            [
             0.8888888888888888,
             "#fdca26"
            ],
            [
             1,
             "#f0f921"
            ]
           ]
          },
          "colorway": [
           "#636efa",
           "#EF553B",
           "#00cc96",
           "#ab63fa",
           "#FFA15A",
           "#19d3f3",
           "#FF6692",
           "#B6E880",
           "#FF97FF",
           "#FECB52"
          ],
          "font": {
           "color": "#2a3f5f"
          },
          "geo": {
           "bgcolor": "white",
           "lakecolor": "white",
           "landcolor": "#E5ECF6",
           "showlakes": true,
           "showland": true,
           "subunitcolor": "white"
          },
          "hoverlabel": {
           "align": "left"
          },
          "hovermode": "closest",
          "mapbox": {
           "style": "light"
          },
          "paper_bgcolor": "white",
          "plot_bgcolor": "#E5ECF6",
          "polar": {
           "angularaxis": {
            "gridcolor": "white",
            "linecolor": "white",
            "ticks": ""
           },
           "bgcolor": "#E5ECF6",
           "radialaxis": {
            "gridcolor": "white",
            "linecolor": "white",
            "ticks": ""
           }
          },
          "scene": {
           "xaxis": {
            "backgroundcolor": "#E5ECF6",
            "gridcolor": "white",
            "gridwidth": 2,
            "linecolor": "white",
            "showbackground": true,
            "ticks": "",
            "zerolinecolor": "white"
           },
           "yaxis": {
            "backgroundcolor": "#E5ECF6",
            "gridcolor": "white",
            "gridwidth": 2,
            "linecolor": "white",
            "showbackground": true,
            "ticks": "",
            "zerolinecolor": "white"
           },
           "zaxis": {
            "backgroundcolor": "#E5ECF6",
            "gridcolor": "white",
            "gridwidth": 2,
            "linecolor": "white",
            "showbackground": true,
            "ticks": "",
            "zerolinecolor": "white"
           }
          },
          "shapedefaults": {
           "line": {
            "color": "#2a3f5f"
           }
          },
          "ternary": {
           "aaxis": {
            "gridcolor": "white",
            "linecolor": "white",
            "ticks": ""
           },
           "baxis": {
            "gridcolor": "white",
            "linecolor": "white",
            "ticks": ""
           },
           "bgcolor": "#E5ECF6",
           "caxis": {
            "gridcolor": "white",
            "linecolor": "white",
            "ticks": ""
           }
          },
          "title": {
           "x": 0.05
          },
          "xaxis": {
           "automargin": true,
           "gridcolor": "white",
           "linecolor": "white",
           "ticks": "",
           "title": {
            "standoff": 15
           },
           "zerolinecolor": "white",
           "zerolinewidth": 2
          },
          "yaxis": {
           "automargin": true,
           "gridcolor": "white",
           "linecolor": "white",
           "ticks": "",
           "title": {
            "standoff": 15
           },
           "zerolinecolor": "white",
           "zerolinewidth": 2
          }
         }
        }
       }
      }
     },
     "metadata": {},
     "output_type": "display_data"
    }
   ],
   "source": [
    "import plotly.express as px\n",
    "import plotly.graph_objects as go\n",
    "# Create the figure\n",
    "fig = go.Figure()\n",
    "\n",
    "\n",
    "# fig.px.scatter_3d(\n",
    "#     x=b[:,0].tolist(), y=b[:,1].tolist(), z=b[:,2].tolist(), opacity=0.3, \n",
    "#     marker=dict(\n",
    "#         size=4,\n",
    "#         color='blue',\n",
    "#         opacity=0.3\n",
    "#     ),\n",
    "# )\n",
    "# fig = px.scatter_3d(\n",
    "#     x=full_b[:,0].tolist(), y=full_b[:,1].tolist(), z=full_b[:,2].tolist(), opacity=0.03, \n",
    "#     marker=dict(\n",
    "#         size=4,\n",
    "#         color='blue',\n",
    "#         opacity=0.3\n",
    "#     ),\n",
    "# )\n",
    "\n",
    "# Add the second scatter plot (full_b) in red\n",
    "# fig.add_trace(go.Scatter3d(\n",
    "#     x=full_b[:,0].tolist(),\n",
    "#     y=full_b[:,1].tolist(),\n",
    "#     z=full_b[:,2].tolist(),\n",
    "#     mode='markers',\n",
    "#     marker=dict(\n",
    "#         size=4,\n",
    "#         color='red',\n",
    "#         opacity=0.00,\n",
    "#     ),\n",
    "#     name='full_b'\n",
    "# ))\n",
    "\n",
    "\n",
    "fig.add_trace(go.Scatter3d(\n",
    "    x=a2[:,0].tolist(),\n",
    "    y=a2[:,1].tolist(),\n",
    "    z=a2[:,2].tolist(),\n",
    "    mode='markers',\n",
    "    marker=dict(\n",
    "        size=6,\n",
    "        color='red',\n",
    "        opacity=.5,\n",
    "    ),\n",
    "    name='a'\n",
    "))\n",
    "\n",
    "\n",
    "fig.add_trace(go.Scatter3d(\n",
    "    # x=full_b[:,0].tolist(),\n",
    "    # y=full_b[:,1].tolist(),\n",
    "    # z=full_b[:,2].tolist(),\n",
    "    x=bc_pair[:,0].tolist(),\n",
    "    y=bc_pair[:,1].tolist(),\n",
    "    z=bc_pair[:,3].tolist(),\n",
    "    mode='markers',\n",
    "    marker=dict(\n",
    "        size=6,\n",
    "        color='blue',\n",
    "        opacity=.5,\n",
    "    ),\n",
    "    name='b'\n",
    "))\n",
    "\n",
    "\n",
    "\n",
    "fig.show()\n",
    "fig.write_html('/home/wilson/ab.html')"
   ]
  },
  {
   "cell_type": "code",
   "execution_count": null,
   "id": "6e1ea252",
   "metadata": {},
   "outputs": [],
   "source": []
  },
  {
   "cell_type": "code",
   "execution_count": 67,
   "id": "e5b988e5",
   "metadata": {},
   "outputs": [
    {
     "data": {
      "text/plain": [
       "torch.Size([121, 4, 4])"
      ]
     },
     "execution_count": 67,
     "metadata": {},
     "output_type": "execute_result"
    }
   ],
   "source": [
    "A.shape"
   ]
  },
  {
   "cell_type": "code",
   "execution_count": 68,
   "id": "8738f05a",
   "metadata": {},
   "outputs": [
    {
     "data": {
      "text/plain": [
       "[(-0.7605388164520264, -0.7517490386962891),\n",
       " (-0.7564507126808167, -0.747555136680603),\n",
       " (-0.7527337074279785, -0.7391642332077026),\n",
       " (-0.7501431703567505, -0.7050055265426636),\n",
       " (-0.7494484782218933, -0.7049088478088379),\n",
       " (-0.7477362751960754, -0.6938212513923645),\n",
       " (-0.7458003759384155, -0.6931061744689941),\n",
       " (-0.7449398040771484, -0.6928953528404236),\n",
       " (-0.7448825240135193, -0.6925239562988281),\n",
       " (-0.7396479845046997, -0.6924957036972046),\n",
       " (-0.7380285859107971, -0.6911870241165161),\n",
       " (-0.7106956243515015, -0.6891772747039795),\n",
       " (-0.7045552730560303, -0.6849766969680786),\n",
       " (-0.7041484117507935, -0.6834962964057922),\n",
       " (-0.6977403163909912, -0.6787872910499573),\n",
       " (-0.6936909556388855, -0.6764672994613647),\n",
       " (-0.6933076977729797, -0.6731046438217163),\n",
       " (-0.6929901838302612, -0.6723490357398987),\n",
       " (-0.6929565072059631, -0.668040931224823),\n",
       " (-0.6925817728042603, -0.6598889827728271),\n",
       " (-0.6923143267631531, -0.6504643559455872),\n",
       " (-0.6914838552474976, -0.6501554250717163),\n",
       " (-0.6910746097564697, -0.6489174962043762),\n",
       " (-0.6831184029579163, -0.6481380462646484),\n",
       " (-0.6716967821121216, -0.6480188369750977),\n",
       " (-0.6692564487457275, -0.6322489380836487),\n",
       " (-0.6664983630180359, -0.6288014650344849),\n",
       " (-0.6211503744125366, -0.6284612417221069),\n",
       " (-0.4584316611289978, -0.4588101804256439),\n",
       " (-0.4559488296508789, -0.4397428035736084),\n",
       " (-0.45476096868515015, -0.43869346380233765),\n",
       " (-0.4539618492126465, -0.4365282952785492),\n",
       " (-0.4516914188861847, -0.43651098012924194),\n",
       " (-0.4424040913581848, -0.42247283458709717),\n",
       " (-0.44169479608535767, -0.35224318504333496),\n",
       " (-0.4406638443470001, -0.34633830189704895),\n",
       " (-0.4373222589492798, -0.3455742597579956),\n",
       " (-0.4268741011619568, -0.3447605073451996),\n",
       " (-0.41804754734039307, -0.3374190628528595),\n",
       " (-0.41706669330596924, -0.32644426822662354),\n",
       " (-0.4167006313800812, -0.3149489760398865),\n",
       " (-0.4070878028869629, -0.31361865997314453),\n",
       " (-0.39188867807388306, -0.3133907914161682),\n",
       " (-0.3446615934371948, -0.31105712056159973),\n",
       " (-0.32298970222473145, -0.31041431427001953),\n",
       " (-0.3224572539329529, -0.3086512088775635),\n",
       " (-0.32033881545066833, -0.30689162015914917),\n",
       " (-0.3058731257915497, -0.30561336874961853),\n",
       " (-0.30173835158348083, -0.3004722595214844),\n",
       " (-0.2208394557237625, -0.29260629415512085),\n",
       " (-0.21803170442581177, -0.28649359941482544),\n",
       " (-0.16967403888702393, -0.27577486634254456),\n",
       " (-0.14120477437973022, -0.2710898816585541),\n",
       " (-0.14119307696819305, -0.25680112838745117),\n",
       " (-0.13990628719329834, -0.2228630781173706),\n",
       " (-0.07353734970092773, -0.21653369069099426),\n",
       " (-0.06410850584506989, -0.21634572744369507),\n",
       " (-0.05317956209182739, -0.13916024565696716),\n",
       " (-0.02462957054376602, -0.13793614506721497),\n",
       " (-0.020150095224380493, -0.13584010303020477),\n",
       " (-0.0022593140602111816, -0.12902913987636566),\n",
       " (0.005334675312042236, -0.07439124584197998),\n",
       " (0.018876656889915466, -0.0456942617893219),\n",
       " (0.03444726765155792, -0.040863037109375),\n",
       " (0.059186577796936035, -0.021041452884674072),\n",
       " (0.06550028920173645, -0.018074102699756622),\n",
       " (0.07008946686983109, -0.014308273792266846),\n",
       " (0.07627309113740921, -0.0043909549713134766),\n",
       " (0.22996893525123596, -0.0028938651084899902),\n",
       " (0.24639901518821716, -0.001294642686843872),\n",
       " (0.25732794404029846, -0.0008042752742767334),\n",
       " (0.26012516021728516, 0.018738597631454468),\n",
       " (0.299089252948761, 0.021011173725128174),\n",
       " (0.29931414127349854, 0.021128833293914795),\n",
       " (0.3023514747619629, 0.028101354837417603),\n",
       " (0.3045464754104614, 0.04175537824630737),\n",
       " (0.3049173951148987, 0.05649517476558685),\n",
       " (0.3082054853439331, 0.05967250466346741),\n",
       " (0.3146076798439026, 0.06392502784729004),\n",
       " (0.32265979051589966, 0.11406469345092773),\n",
       " (0.32380861043930054, 0.1146640032529831),\n",
       " (0.3326585590839386, 0.1215621829032898),\n",
       " (0.3330746591091156, 0.14830872416496277),\n",
       " (0.3332251310348511, 0.26289963722229004),\n",
       " (0.3346264362335205, 0.2925422787666321),\n",
       " (0.34479594230651855, 0.3010880947113037),\n",
       " (0.3465501070022583, 0.30562901496887207),\n",
       " (0.3465532064437866, 0.30801716446876526),\n",
       " (0.3803846538066864, 0.31567031145095825),\n",
       " (0.3893861174583435, 0.3274328112602234),\n",
       " (0.3930756747722626, 0.345195472240448),\n",
       " (0.4050106406211853, 0.3462394177913666),\n",
       " (0.4069657623767853, 0.3731444478034973),\n",
       " (0.41032087802886963, 0.38971585035324097),\n",
       " (0.41046082973480225, 0.42524170875549316),\n",
       " (0.4299667477607727, 0.4443719685077667),\n",
       " (0.598361611366272, 0.44855648279190063),\n",
       " (0.6067137122154236, 0.46210652589797974),\n",
       " (0.6194890141487122, 0.5065102577209473),\n",
       " (0.666831374168396, 0.6457641124725342),\n",
       " (0.6915897727012634, 0.6753920912742615),\n",
       " (0.6916677951812744, 0.6852821111679077),\n",
       " (0.6917755603790283, 0.6861052513122559),\n",
       " (0.6927329897880554, 0.6874397993087769),\n",
       " (0.6930686235427856, 0.6879092454910278),\n",
       " (0.6941561102867126, 0.6905103921890259),\n",
       " (0.6970922946929932, 0.6909317374229431),\n",
       " (0.6981993913650513, 0.6909691691398621),\n",
       " (0.7000455856323242, 0.6912083029747009),\n",
       " (0.7002428770065308, 0.691461443901062),\n",
       " (0.7004263997077942, 0.6914979815483093),\n",
       " (0.7029052972793579, 0.6925814151763916),\n",
       " (0.7046946883201599, 0.696178674697876),\n",
       " (0.7397283315658569, 0.6962716579437256),\n",
       " (0.740928053855896, 0.7003254294395447),\n",
       " (0.7459142208099365, 0.7393674254417419),\n",
       " (0.7470102310180664, 0.7405316829681396),\n",
       " (0.7511167526245117, 0.7471336722373962),\n",
       " (0.7518215775489807, 0.7488696575164795),\n",
       " (0.7524945139884949, 0.7533378005027771),\n",
       " (0.7542814016342163, 0.7600260376930237)]"
      ]
     },
     "execution_count": 68,
     "metadata": {},
     "output_type": "execute_result"
    }
   ],
   "source": [
    "rho = irrep[10]\n",
    "\n",
    "trace_rho_A = einops.einsum(rho, A, 'd1 d2, m d2 d1 -> m')\n",
    "trace_A = einops.einsum(A, 'm d1 d1 -> m')\n",
    "list(zip(sorted(trace_rho_A.tolist()), sorted(trace_A.tolist())))"
   ]
  },
  {
   "cell_type": "code",
   "execution_count": null,
   "id": "38c80f01",
   "metadata": {},
   "outputs": [],
   "source": []
  },
  {
   "cell_type": "markdown",
   "id": "7070552f",
   "metadata": {},
   "source": [
    "### Plot $b_i$'s"
   ]
  },
  {
   "cell_type": "code",
   "execution_count": 222,
   "id": "438e309e",
   "metadata": {},
   "outputs": [],
   "source": [
    "full_b = einops.einsum(b, irrep, 'neuron d2, G d1 d2 -> neuron G d1').flatten(0, 1)\n",
    "full_c = einops.einsum(c, irrep, 'neuron d2, G d1 d2 -> neuron G d1').flatten(0, 1)"
   ]
  },
  {
   "cell_type": "code",
   "execution_count": 223,
   "id": "531f5cef-60b3-4cc5-83e4-0d8a260e4f1d",
   "metadata": {},
   "outputs": [
    {
     "name": "stdout",
     "output_type": "stream",
     "text": [
      "0 1\n"
     ]
    },
    {
     "data": {
      "image/png": "[encoded data removed]",
      "text/plain": [
       "<Figure size 640x480 with 1 Axes>"
      ]
     },
     "metadata": {},
     "output_type": "display_data"
    },
    {
     "name": "stdout",
     "output_type": "stream",
     "text": [
      "0 2\n"
     ]
    },
    {
     "data": {
      "image/png": "[encoded data removed]",
      "text/plain": [
       "<Figure size 640x480 with 1 Axes>"
      ]
     },
     "metadata": {},
     "output_type": "display_data"
    },
    {
     "name": "stdout",
     "output_type": "stream",
     "text": [
      "0 3\n"
     ]
    },
    {
     "data": {
      "image/png": "[encoded data removed]",
      "text/plain": [
       "<Figure size 640x480 with 1 Axes>"
      ]
     },
     "metadata": {},
     "output_type": "display_data"
    },
    {
     "name": "stdout",
     "output_type": "stream",
     "text": [
      "1 2\n"
     ]
    },
    {
     "data": {
      "image/png": "[encoded data removed]",
      "text/plain": [
       "<Figure size 640x480 with 1 Axes>"
      ]
     },
     "metadata": {},
     "output_type": "display_data"
    },
    {
     "name": "stdout",
     "output_type": "stream",
     "text": [
      "1 3\n"
     ]
    },
    {
     "data": {
      "image/png": "[encoded data removed]",
      "text/plain": [
       "<Figure size 640x480 with 1 Axes>"
      ]
     },
     "metadata": {},
     "output_type": "display_data"
    },
    {
     "name": "stdout",
     "output_type": "stream",
     "text": [
      "2 3\n"
     ]
    },
    {
     "data": {
      "image/png": "[encoded data removed]",
      "text/plain": [
       "<Figure size 640x480 with 1 Axes>"
      ]
     },
     "metadata": {},
     "output_type": "display_data"
    }
   ],
   "source": [
    "for i, j in list(product(range(irrep_d), repeat=2)):\n",
    "    if i >= j:\n",
    "        continue\n",
    "    print(i, j)\n",
    "    # plt.scatter(c[:,i].tolist(), c[:,j].tolist(), alpha=1., c='r')\n",
    "    # plt.scatter(full_b[:,i].tolist(), full_b[:,j].tolist(), alpha=0.01, c='b')\n",
    "    plt.scatter(b[:,i].tolist(), b[:,j].tolist(), alpha=.1, c='r')\n",
    "    # plt.scatter(full_c[:,i].tolist(), full_c[:,j].tolist(), alpha=0.01, c='r')\n",
    "    plt.show()"
   ]
  },
  {
   "cell_type": "code",
   "execution_count": 227,
   "id": "1b28e1f1",
   "metadata": {},
   "outputs": [],
   "source": [
    "X = sum(max(0, t.dot(a[i], b[i] + c[i]).item()) * (c[i].unsqueeze(1) @ b[i].unsqueeze(1).T) for i in range(a.shape[0]))"
   ]
  },
  {
   "cell_type": "code",
   "execution_count": 229,
   "id": "1811f4a9",
   "metadata": {},
   "outputs": [
    {
     "data": {
      "text/plain": [
       "tensor([[ 1.3264,  0.3489,  0.3925, -0.9783],\n",
       "        [-0.0428,  1.3047, -0.5520,  0.2231],\n",
       "        [-0.8919,  1.5203,  0.7868, -0.3573],\n",
       "        [-0.2105, -1.2000, -0.2221,  1.1326]])"
      ]
     },
     "execution_count": 229,
     "metadata": {},
     "output_type": "execute_result"
    }
   ],
   "source": [
    "X"
   ]
  },
  {
   "cell_type": "code",
   "execution_count": 230,
   "id": "7e7857c5",
   "metadata": {},
   "outputs": [
    {
     "data": {
      "image/png": "[encoded data removed]",
      "text/plain": [
       "<Figure size 640x480 with 1 Axes>"
      ]
     },
     "metadata": {},
     "output_type": "display_data"
    }
   ],
   "source": [
    "plt.imshow(X.numpy())\n",
    "plt.show()"
   ]
  },
  {
   "cell_type": "code",
   "execution_count": null,
   "id": "cd453922",
   "metadata": {},
   "outputs": [],
   "source": [
    "axis1 = t.randn((irrep_d ,1))\n",
    "axis2 = t.randn((irrep_d, 1))\n",
    "plt.scatter(full_c @ axis1, full_c @ axis2, alpha=0.5)\n",
    "plt.scatter(full_b @ axis1, full_b @ axis2, alpha=1.0)\n",
    "plt.show()"
   ]
  },
  {
   "cell_type": "markdown",
   "id": "4caf4a34-481d-48a8-9a66-5489f3bbe1cd",
   "metadata": {},
   "source": [
    "### b_i and c_i are clustered"
   ]
  },
  {
   "cell_type": "code",
   "execution_count": 171,
   "id": "c65a5e65",
   "metadata": {},
   "outputs": [],
   "source": [
    "full_a = einops.einsum(a[[0]], irrep, 'neuron d1, G d1 d2 -> neuron G d2').flatten(0, 1)"
   ]
  },
  {
   "cell_type": "code",
   "execution_count": 172,
   "id": "ae6c0d25",
   "metadata": {},
   "outputs": [
    {
     "data": {
      "text/plain": [
       "tensor(1)"
      ]
     },
     "execution_count": 172,
     "metadata": {},
     "output_type": "execute_result"
    }
   ],
   "source": [
    "((full_a @ a[[0]].T) > 0.95).sum()"
   ]
  },
  {
   "cell_type": "code",
   "execution_count": 173,
   "id": "23fee94d",
   "metadata": {},
   "outputs": [],
   "source": [
    "full_b = einops.einsum(b, irrep, 'neuron d1, G d1 d2 -> neuron G d2').flatten(0, 1)\n",
    "full_c = einops.einsum(c, irrep, 'neuron d1, G d1 d2 -> neuron G d2').flatten(0, 1)"
   ]
  },
  {
   "cell_type": "code",
   "execution_count": 174,
   "id": "bbe06438",
   "metadata": {},
   "outputs": [],
   "source": [
    "from sklearn.cluster import KMeans\n",
    "\n",
    "def cluster(vecs, num_seeds=30, thresh=1, max=1000):\n",
    "    n_clusters = 1\n",
    "    losses = []\n",
    "    while not losses or losses[-1] > thresh:\n",
    "        n_clusters += 1\n",
    "        kmeans = min(\n",
    "            (KMeans(n_clusters=n_clusters, random_state=seed).fit(vecs.numpy())\n",
    "            for seed in range(num_seeds)),\n",
    "            key=lambda k: k.inertia_\n",
    "        )\n",
    "        losses.append(kmeans.inertia_)\n",
    "        if len(losses) > 1 and losses[-2] / losses[-1] > 10:\n",
    "            break\n",
    "        if n_clusters >= max:\n",
    "            break\n",
    "        print(n_clusters, losses[-1])\n",
    "    return kmeans, n_clusters, losses"
   ]
  },
  {
   "cell_type": "code",
   "execution_count": 175,
   "id": "236ed28d",
   "metadata": {},
   "outputs": [
    {
     "name": "stdout",
     "output_type": "stream",
     "text": [
      "2 2250.00146484375\n",
      "3 1500.001708984375\n",
      "4 750.0036010742188\n",
      "2 2250.000732421875\n",
      "3 1500.0018310546875\n",
      "4 750.00390625\n"
     ]
    },
    {
     "data": {
      "text/plain": [
       "(5, 5)"
      ]
     },
     "execution_count": 175,
     "metadata": {},
     "output_type": "execute_result"
    }
   ],
   "source": [
    "b_kmeans, b_clusters, b_losses = cluster(full_b,) #max=10)\n",
    "c_kmeans, c_clusters, c_losses = cluster(full_c,) #max=10)\n",
    "b_labels, c_labels = b_kmeans.predict(b.numpy()), c_kmeans.predict(c.numpy())\n",
    "b_mean, c_mean = b_kmeans.cluster_centers_, c_kmeans.cluster_centers_\n",
    "b_clusters, c_clusters"
   ]
  },
  {
   "cell_type": "code",
   "execution_count": 112,
   "id": "6114e6e9",
   "metadata": {},
   "outputs": [
    {
     "data": {
      "text/plain": [
       "tensor([[-0.3412],\n",
       "        [ 0.7130],\n",
       "        [-0.0011],\n",
       "        [ 0.3421],\n",
       "        [-0.7128]])"
      ]
     },
     "execution_count": 112,
     "metadata": {},
     "output_type": "execute_result"
    }
   ],
   "source": [
    "t.tensor(b_mean[b_parts[0]]) @ a[[0]].T"
   ]
  },
  {
   "cell_type": "code",
   "execution_count": 85,
   "id": "39dff0df",
   "metadata": {},
   "outputs": [
    {
     "name": "stdout",
     "output_type": "stream",
     "text": [
      "0 0\n",
      "(array([ 0, 24, 57]),)\n",
      "b dot c 0.24999824166297913\n",
      "tensor([[ 0.4053,  0.5087, -0.7594, -0.0142],\n",
      "        [ 0.6521, -0.6041,  0.4516, -0.0773],\n",
      "        [ 0.5770,  0.4066, -0.7076, -0.0323]])\n",
      "\n",
      "0 3\n",
      "(array([50, 87]),)\n",
      "b dot c 0.2499980628490448\n",
      "tensor([[ 0.5512, -0.6386,  0.5324, -0.0698],\n",
      "        [ 0.6673,  0.3376, -0.6625, -0.0429]])\n",
      "\n",
      "0 7\n",
      "(array([37, 78]),)\n",
      "b dot c 0.24999822676181793\n",
      "tensor([[ 0.6634, -0.5994,  0.4411, -0.0782],\n",
      "        [ 0.4534,  0.4830, -0.7488, -0.0197]])\n",
      "\n",
      "0 8\n",
      "(array([61]),)\n",
      "b dot c 0.2499983012676239\n",
      "tensor([[ 0.3542,  0.5337, -0.7679, -0.0078]])\n",
      "\n",
      "0 9\n",
      "(array([34, 68]),)\n",
      "b dot c -0.9999929070472717\n",
      "tensor([[ 0.6558,  0.3469, -0.6692, -0.0419],\n",
      "        [ 0.8246, -0.4968,  0.2564, -0.0872]])\n",
      "\n",
      "1 1\n",
      "(array([31]),)\n",
      "b dot c 0.24999737739562988\n",
      "tensor([[ 0.9517, -0.0792, -0.2850, -0.0820]])\n",
      "\n",
      "1 2\n",
      "(array([28, 46, 60, 70]),)\n",
      "b dot c -0.9999895691871643\n",
      "tensor([[ 0.8358, -0.4862,  0.2395, -0.0878],\n",
      "        [ 0.6471,  0.3540, -0.6740, -0.0409],\n",
      "        [ 0.9539, -0.0896, -0.2741, -0.0829],\n",
      "        [ 0.4096,  0.5063, -0.7587, -0.0154]])\n",
      "\n",
      "1 4\n",
      "(array([53]),)\n",
      "b dot c 0.24999719858169556\n",
      "tensor([[ 0.9176, -0.3785,  0.0807, -0.0906]])\n",
      "\n",
      "1 5\n",
      "(array([ 62, 101]),)\n",
      "b dot c 0.24999749660491943\n",
      "tensor([[ 0.9474, -0.0630, -0.3031, -0.0816],\n",
      "        [ 0.9479, -0.0649, -0.3011, -0.0818]])\n",
      "\n",
      "1 6\n",
      "(array([48]),)\n",
      "b dot c 0.24999743700027466\n",
      "tensor([[ 0.3565,  0.5326, -0.7676, -0.0081]])\n",
      "\n",
      "2 1\n",
      "(array([ 32,  59, 104]),)\n",
      "b dot c 0.24999786913394928\n",
      "tensor([[ 0.6540,  0.3485, -0.6701, -0.0420],\n",
      "        [ 0.8390, -0.4832,  0.2343, -0.0875],\n",
      "        [ 0.4182,  0.5021, -0.7568, -0.0167]])\n",
      "\n",
      "2 2\n",
      "(array([ 36,  49, 103]),)\n",
      "b dot c 0.24999718368053436\n",
      "tensor([[ 0.8341, -0.4878,  0.2423, -0.0872],\n",
      "        [ 0.8342, -0.4878,  0.2422, -0.0872],\n",
      "        [ 0.6385,  0.3606, -0.6788, -0.0399]])\n",
      "\n",
      "2 4\n",
      "(array([ 19,  81,  82, 110]),)\n",
      "b dot c -0.9999892711639404\n",
      "tensor([[ 0.6991, -0.5824,  0.4069, -0.0802],\n",
      "        [ 0.4257,  0.4984, -0.7551, -0.0163],\n",
      "        [ 0.8314, -0.4904,  0.2461, -0.0877],\n",
      "        [ 0.9532, -0.0858, -0.2780, -0.0824]])\n",
      "\n",
      "2 5\n",
      "(array([25, 94]),)\n",
      "b dot c 0.24999722838401794\n",
      "tensor([[ 0.6489,  0.3527, -0.6729, -0.0411],\n",
      "        [ 0.8364, -0.4856,  0.2386, -0.0875]])\n",
      "\n",
      "2 6\n",
      "(array([ 7, 17, 22, 63, 79]),)\n",
      "b dot c 0.2499970644712448\n",
      "tensor([[ 0.3020,  0.5556, -0.7747, -0.0050],\n",
      "        [ 0.8597, -0.4613,  0.2009, -0.0882],\n",
      "        [ 0.8585, -0.4626,  0.2028, -0.0881],\n",
      "        [ 0.8585, -0.4626,  0.2029, -0.0881],\n",
      "        [ 0.8573, -0.4640,  0.2050, -0.0881]])\n",
      "\n",
      "3 1\n",
      "(array([39]),)\n",
      "b dot c -0.9999898672103882\n",
      "tensor([[ 0.7290,  0.2819, -0.6217, -0.0506]])\n",
      "\n",
      "3 2\n",
      "(array([  2, 111]),)\n",
      "b dot c 0.24999739229679108\n",
      "tensor([[ 0.7027, -0.5799,  0.4041, -0.0813],\n",
      "        [ 0.9489, -0.0674, -0.2972, -0.0824]])\n",
      "\n",
      "3 4\n",
      "(array([15, 18, 91]),)\n",
      "b dot c 0.2499978393316269\n",
      "tensor([[ 0.8369, -0.4848,  0.2385, -0.0883],\n",
      "        [ 0.3977,  0.5123, -0.7610, -0.0141],\n",
      "        [ 0.6457,  0.3553, -0.6747, -0.0407]])\n",
      "\n",
      "3 5\n",
      "(array([52, 54]),)\n",
      "b dot c 0.24999724328517914\n",
      "tensor([[ 0.6756, -0.5934,  0.4303, -0.0791],\n",
      "        [ 0.5680,  0.4126, -0.7114, -0.0321]])\n",
      "\n",
      "3 6\n",
      "(array([ 12,  20,  96, 105]),)\n",
      "b dot c 0.24999742209911346\n",
      "tensor([[ 0.6995, -0.5819,  0.4070, -0.0807],\n",
      "        [ 0.4034,  0.5095, -0.7599, -0.0152],\n",
      "        [ 0.6147,  0.3793, -0.6905, -0.0379],\n",
      "        [ 0.6211,  0.3745, -0.6874, -0.0386]])\n",
      "\n",
      "4 1\n",
      "(array([ 5, 35, 51, 64]),)\n",
      "b dot c 0.24999713897705078\n",
      "tensor([[ 0.4031,  0.5098, -0.7599, -0.0140],\n",
      "        [ 0.6324,  0.3659, -0.6817, -0.0385],\n",
      "        [ 0.9595, -0.1194, -0.2409, -0.0842],\n",
      "        [ 0.9600, -0.1229, -0.2370, -0.0844]])\n",
      "\n",
      "4 2\n",
      "(array([ 14, 107]),)\n",
      "b dot c 0.24999740719795227\n",
      "tensor([[ 0.8011, -0.5169,  0.2892, -0.0860],\n",
      "        [ 0.4091,  0.5072, -0.7584, -0.0150]])\n",
      "\n",
      "4 4\n",
      "(array([43]),)\n",
      "b dot c 0.24999724328517914\n",
      "tensor([[ 0.7415,  0.2697, -0.6122, -0.0514]])\n",
      "\n",
      "4 5\n",
      "(array([38, 77, 86]),)\n",
      "b dot c -0.9999895691871643\n",
      "tensor([[ 0.4486,  0.4861, -0.7497, -0.0191],\n",
      "        [ 0.8378, -0.4844,  0.2362, -0.0877],\n",
      "        [ 0.4557,  0.4822, -0.7480, -0.0198]])\n",
      "\n",
      "4 6\n",
      "(array([71, 88]),)\n",
      "b dot c 0.2499978244304657\n",
      "tensor([[ 0.9552, -0.0949, -0.2679, -0.0827],\n",
      "        [ 0.4505,  0.4852, -0.7492, -0.0191]])\n",
      "\n",
      "5 0\n",
      "(array([ 98, 100]),)\n",
      "b dot c 0.24999871850013733\n",
      "tensor([[ 0.8395, -0.4827,  0.2336, -0.0876],\n",
      "        [ 0.4371,  0.4922, -0.7526, -0.0187]])\n",
      "\n",
      "5 3\n",
      "(array([10]),)\n",
      "b dot c -0.9999927878379822\n",
      "tensor([[ 0.9558, -0.0980, -0.2646, -0.0830]])\n",
      "\n",
      "5 7\n",
      "(array([ 4,  8, 27, 30, 76]),)\n",
      "b dot c 0.24999810755252838\n",
      "tensor([[ 0.4415,  0.4897, -0.7516, -0.0188],\n",
      "        [ 0.6900, -0.5870,  0.4161, -0.0790],\n",
      "        [ 0.9508, -0.0755, -0.2892, -0.0819],\n",
      "        [ 0.6950, -0.5845,  0.4112, -0.0793],\n",
      "        [ 0.8340, -0.4879,  0.2423, -0.0873]])\n",
      "\n",
      "5 8\n",
      "(array([83]),)\n",
      "b dot c 0.24999788403511047\n",
      "tensor([[ 0.7708,  0.2386, -0.5881, -0.0555]])\n",
      "\n",
      "5 9\n",
      "(array([23, 80]),)\n",
      "b dot c 0.249998077750206\n",
      "tensor([[ 0.8274, -0.4941,  0.2524, -0.0869],\n",
      "        [ 0.6430,  0.3570, -0.6764, -0.0404]])\n",
      "\n",
      "6 1\n",
      "(array([16]),)\n",
      "b dot c 0.2499975860118866\n",
      "tensor([[ 0.9452, -0.0542, -0.3118, -0.0803]])\n",
      "\n",
      "6 2\n",
      "(array([65, 85, 92]),)\n",
      "b dot c 0.24999743700027466\n",
      "tensor([[ 0.9615, -0.1336, -0.2248, -0.0840],\n",
      "        [ 0.3006,  0.5571, -0.7741, -0.0037],\n",
      "        [ 0.8605, -0.4605,  0.1995, -0.0880]])\n",
      "\n",
      "6 4\n",
      "(array([ 6, 21, 42]),)\n",
      "b dot c 0.2499968409538269\n",
      "tensor([[ 0.4249,  0.4985, -0.7554, -0.0171],\n",
      "        [ 0.8330, -0.4888,  0.2441, -0.0870],\n",
      "        [ 0.9487, -0.0672, -0.2980, -0.0812]])\n",
      "\n",
      "6 5\n",
      "(array([13, 44]),)\n",
      "b dot c 0.2499978095293045\n",
      "tensor([[ 0.6649,  0.3400, -0.6637, -0.0418],\n",
      "        [ 0.8402, -0.4817,  0.2335, -0.0870]])\n",
      "\n",
      "6 6\n",
      "(array([73, 90]),)\n",
      "b dot c -0.9999896883964539\n",
      "tensor([[ 0.9569, -0.1029, -0.2584, -0.0835],\n",
      "        [ 0.4392,  0.4909, -0.7522, -0.0186]])\n",
      "\n",
      "7 0\n",
      "(array([26]),)\n",
      "b dot c 0.2499983310699463\n",
      "tensor([[ 0.6575, -0.6019,  0.4467, -0.0770]])\n",
      "\n",
      "7 3\n",
      "(array([ 9, 40]),)\n",
      "b dot c 0.2499978244304657\n",
      "tensor([[ 0.6683,  0.3367, -0.6619, -0.0432],\n",
      "        [ 0.8239, -0.4973,  0.2576, -0.0866]])\n",
      "\n",
      "7 7\n",
      "(array([47, 95]),)\n",
      "b dot c 0.24999867379665375\n",
      "tensor([[ 0.8400, -0.4819,  0.2337, -0.0870],\n",
      "        [ 0.4524,  0.4840, -0.7488, -0.0190]])\n",
      "\n",
      "7 8\n",
      "(array([74, 89, 99]),)\n",
      "b dot c -0.9999931454658508\n",
      "tensor([[ 0.4430,  0.4889, -0.7513, -0.0190],\n",
      "        [ 0.4404,  0.4903, -0.7519, -0.0187],\n",
      "        [ 0.7190, -0.5713,  0.3874, -0.0808]])\n",
      "\n",
      "7 9\n",
      "(array([1]),)\n",
      "b dot c 0.2499983310699463\n",
      "tensor([[ 0.7762,  0.2338, -0.5830, -0.0549]])\n",
      "\n",
      "8 0\n",
      "(array([ 84,  97, 106, 109]),)\n",
      "b dot c 0.24999801814556122\n",
      "tensor([[ 0.5971,  0.3923, -0.6988, -0.0346],\n",
      "        [ 0.5946,  0.3942, -0.6999, -0.0343],\n",
      "        [ 0.7964, -0.5205,  0.2956, -0.0859],\n",
      "        [ 0.5952,  0.3937, -0.6997, -0.0344]])\n",
      "\n",
      "8 3\n",
      "(array([58, 69]),)\n",
      "b dot c 0.24999816715717316\n",
      "tensor([[ 0.8409, -0.4812,  0.2314, -0.0879],\n",
      "        [ 0.3087,  0.5534, -0.7736, -0.0048]])\n",
      "\n",
      "8 7\n",
      "(array([ 3, 55, 56]),)\n",
      "b dot c -0.999993085861206\n",
      "tensor([[ 0.7033, -0.5804,  0.4026, -0.0802],\n",
      "        [ 0.9489, -0.0681, -0.2973, -0.0814],\n",
      "        [ 0.4477,  0.4866, -0.7499, -0.0190]])\n",
      "\n",
      "8 8\n",
      "(array([67, 75]),)\n",
      "b dot c 0.24999868869781494\n",
      "tensor([[ 0.7195, -0.5716,  0.3860, -0.0811],\n",
      "        [ 0.4491,  0.4860, -0.7495, -0.0190]])\n",
      "\n",
      "8 9\n",
      "(array([93]),)\n",
      "b dot c 0.2499983012676239\n",
      "tensor([[ 0.9536, -0.0873, -0.2761, -0.0826]])\n",
      "\n",
      "9 0\n",
      "(array([11, 33]),)\n",
      "b dot c -0.9999933838844299\n",
      "tensor([[ 0.8424, -0.4793,  0.2298, -0.0883],\n",
      "        [ 0.2854,  0.5625, -0.7759, -0.0030]])\n",
      "\n",
      "9 3\n",
      "(array([45, 66]),)\n",
      "b dot c 0.2499987930059433\n",
      "tensor([[ 0.8341, -0.4875,  0.2428, -0.0881],\n",
      "        [ 0.6434,  0.3572, -0.6759, -0.0405]])\n",
      "\n",
      "9 7\n",
      "(array([72]),)\n",
      "b dot c 0.24999800324440002\n",
      "tensor([[ 0.9624, -0.1425, -0.2145, -0.0861]])\n",
      "\n",
      "9 8\n",
      "(array([108]),)\n",
      "b dot c 0.24999842047691345\n",
      "tensor([[ 0.9566, -0.1026, -0.2593, -0.0847]])\n",
      "\n",
      "9 9\n",
      "(array([ 29,  41, 102]),)\n",
      "b dot c 0.24999822676181793\n",
      "tensor([[ 0.6460, -0.6061,  0.4575, -0.0776],\n",
      "        [ 0.4334,  0.4938, -0.7537, -0.0175],\n",
      "        [ 0.5841,  0.4014, -0.7047, -0.0337]])\n",
      "\n"
     ]
    }
   ],
   "source": [
    "for i, j in product(range(b_clusters), range(c_clusters)):\n",
    "    ij_mask = (b_labels == i) & (c_labels == j)\n",
    "    if not ij_mask.any():\n",
    "        continue\n",
    "    print(i, j)\n",
    "    print(ij_mask.nonzero())\n",
    "    print('b dot c', np.dot(b_mean[i], c_mean[j]).item())\n",
    "    print(a[ij_mask])\n",
    "    print()"
   ]
  },
  {
   "cell_type": "code",
   "execution_count": 84,
   "id": "c55bb1dd",
   "metadata": {},
   "outputs": [
    {
     "data": {
      "text/plain": [
       "tensor([0.1261, 0.0956, 0.0662, 0.0646, 0.0916, 0.0878, 0.1284, 0.1053, 0.1185,\n",
       "        0.0830, 0.1767, 0.1664, 0.1590, 0.0704, 0.1717, 0.0849, 0.1483, 0.1508,\n",
       "        0.1938, 0.1337, 0.0706, 0.1276, 0.1416, 0.1914, 0.1312, 0.1331, 0.1519,\n",
       "        0.1260, 0.1704, 0.1467, 0.1413, 0.0761, 0.1739, 0.1585, 0.1111, 0.1607,\n",
       "        0.1308, 0.1436, 0.1185, 0.0805, 0.1537, 0.1249, 0.0964, 0.1627, 0.1388,\n",
       "        0.1550, 0.1431, 0.1497, 0.1547, 0.1461, 0.1437, 0.1036, 0.1465, 0.1027,\n",
       "        0.0971, 0.0534, 0.1635, 0.0815, 0.0636, 0.1566, 0.1530, 0.1740, 0.1450,\n",
       "        0.1588, 0.1914, 0.1432, 0.1332, 0.1449, 0.0419, 0.1260, 0.1226, 0.1213,\n",
       "        0.1692, 0.1247, 0.1619, 0.0862, 0.0802, 0.1435, 0.1507, 0.0751, 0.1889,\n",
       "        0.1447, 0.1050, 0.1386, 0.1027, 0.0877, 0.1192, 0.0730, 0.1753, 0.0787,\n",
       "        0.0890, 0.0903, 0.1477, 0.1955, 0.1762, 0.1480, 0.0766, 0.1095, 0.0846,\n",
       "        0.1540, 0.0428, 0.0925, 0.1606, 0.0724, 0.1390, 0.1123, 0.1173, 0.0768,\n",
       "        0.1223, 0.1621, 0.0854, 0.1776, 0.1641])"
      ]
     },
     "execution_count": 84,
     "metadata": {},
     "output_type": "execute_result"
    }
   ],
   "source": [
    "bc_pair = t.stack([\n",
    "    t.tensor(b_mean[i] + c_mean[j]) for i, j in product(b_parts[0], c_parts[0])\n",
    "    if np.abs(np.dot(b_mean[i], c_mean[j])) < 0.5\n",
    "], dim=0)\n",
    "bc_pair = bc_pair / bc_pair.norm(dim=1).unsqueeze(1)\n",
    "(a @ (bc_pair).T).abs().min(dim=1).values"
   ]
  },
  {
   "cell_type": "code",
   "execution_count": 85,
   "id": "4c5756fe",
   "metadata": {},
   "outputs": [
    {
     "data": {
      "text/plain": [
       "tensor([2.2361, 2.2361, 2.2361, 2.2361])"
      ]
     },
     "execution_count": 85,
     "metadata": {},
     "output_type": "execute_result"
    }
   ],
   "source": [
    "t.svd(bc_pair)[1]"
   ]
  },
  {
   "cell_type": "code",
   "execution_count": 83,
   "id": "174bf3cb",
   "metadata": {},
   "outputs": [
    {
     "data": {
      "text/plain": [
       "tensor([2.5197, 2.5025, 2.4898, 2.4878])"
      ]
     },
     "execution_count": 83,
     "metadata": {},
     "output_type": "execute_result"
    }
   ],
   "source": [
    "t.svd(bc_pair)[1]"
   ]
  },
  {
   "cell_type": "code",
   "execution_count": 77,
   "id": "4e0de51c",
   "metadata": {},
   "outputs": [
    {
     "data": {
      "text/plain": [
       "torch.Size([121, 25])"
      ]
     },
     "execution_count": 77,
     "metadata": {},
     "output_type": "execute_result"
    }
   ],
   "source": [
    "(a @ (bc_pair).T).shape"
   ]
  },
  {
   "cell_type": "code",
   "execution_count": 215,
   "id": "cf6987d8",
   "metadata": {},
   "outputs": [
    {
     "name": "stdout",
     "output_type": "stream",
     "text": [
      "b=0\n",
      "c=[]\n",
      "\n",
      "b=1\n",
      "c=[]\n",
      "\n",
      "b=2\n",
      "c=[1, 1]\n",
      "\n",
      "b=3\n",
      "c=[]\n",
      "\n",
      "b=4\n",
      "c=[]\n",
      "\n",
      "b=5\n",
      "c=[]\n",
      "\n",
      "b=6\n",
      "c=[8, 8, 8, 8]\n",
      "\n",
      "b=7\n",
      "c=[]\n",
      "\n",
      "b=8\n",
      "c=[]\n",
      "\n",
      "b=9\n",
      "c=[]\n",
      "\n"
     ]
    }
   ],
   "source": [
    "for i in range(b_clusters):\n",
    "    print(f'b={i}')\n",
    "    print(f'c={c_labels[b_labels==i].tolist()}')\n",
    "    # print(f'coef={(coef[b_labels==i]*100).round().int().tolist()}')\n",
    "    print()"
   ]
  },
  {
   "cell_type": "code",
   "execution_count": 111,
   "id": "ff84fdca-0025-45de-ba42-fa38cba0e789",
   "metadata": {},
   "outputs": [
    {
     "name": "stdout",
     "output_type": "stream",
     "text": [
      "b=0, c=[0, 6, 7, 8]\n",
      "b=1, c=[1, 2, 3, 4, 5]\n",
      "b=2, c=[1, 2, 3, 4, 5]\n",
      "b=3, c=[1, 2, 3, 4, 5]\n",
      "b=4, c=[1, 2, 3, 4, 5]\n",
      "b=5, c=[1, 2, 3, 4, 5]\n",
      "b=6, c=[0, 6, 7, 9]\n",
      "b=7, c=[0, 6, 7, 8, 9]\n",
      "b=8, c=[0, 6, 7, 8]\n",
      "b=9, c=[0, 6, 7, 8, 9]\n",
      "[[0, 6, 7, 8, 9], [1, 2, 3, 4, 5]]\n",
      "[[0, 6, 7, 8, 9], [1, 2, 3, 4, 5]]\n"
     ]
    }
   ],
   "source": [
    "b_parts = []\n",
    "c_parts = []\n",
    "for i in range(b_clusters):\n",
    "    c_set = set(c_labels[b_labels == i].tolist())\n",
    "    if not c_set:\n",
    "        continue\n",
    "    done = False\n",
    "    for j in range(len(c_parts)):\n",
    "        if len(c_set & c_parts[j]) > 0:\n",
    "            c_parts[j] = c_set.union(c_parts[j])\n",
    "            b_parts[j].add(i)\n",
    "            done = True\n",
    "            break\n",
    "    if not done:\n",
    "        c_parts.append(c_set)\n",
    "        b_parts.append({i})\n",
    "    print(f'b={i}, c={sorted(c_set)}')\n",
    "\n",
    "# for b_part1, b_part2 in product(b_parts, repeat=2):\n",
    "#     assert b_part1==b_part2 or not b_part1 & b_part2\n",
    "# for c_part1, c_part2 in product(c_parts, repeat=2):\n",
    "#     assert c_part1==c_part2 or not c_part1 & c_part2\n",
    "b_parts = list(map(sorted, map(list, b_parts)))\n",
    "c_parts = list(map(sorted, map(list, c_parts)))\n",
    "print(b_parts)\n",
    "print(c_parts)\n"
   ]
  },
  {
   "cell_type": "code",
   "execution_count": 62,
   "id": "3f3ddb92",
   "metadata": {},
   "outputs": [],
   "source": [
    "# Check that irrep is G-action on each partition of b's clusters\n",
    "for b_part in b_parts:\n",
    "    T = einops.einsum(b_mean[b_part], irrep, b_mean[b_part], 'm1 d1, G d1 d2, m2 d2 -> G m1 m2')\n",
    "    T = (T > 0.95).astype(float)\n",
    "    assert (T.sum(axis=1) == 1).all() and (T.sum(axis=2) == 1).all()"
   ]
  },
  {
   "cell_type": "code",
   "execution_count": 63,
   "id": "4ad72b20",
   "metadata": {},
   "outputs": [],
   "source": [
    "# Check that irrep is G-action on each partition of c's clusters\n",
    "for c_part in c_parts:\n",
    "    T = einops.einsum(c_mean[c_part], irrep, c_mean[c_part], 'm1 d1, G d1 d2, m2 d2 -> G m1 m2')\n",
    "    T = (T > 0.95).astype(float)\n",
    "    assert (T.sum(axis=1) == 1).all() and (T.sum(axis=2) == 1).all()"
   ]
  },
  {
   "cell_type": "code",
   "execution_count": 64,
   "id": "62c5a49e",
   "metadata": {},
   "outputs": [],
   "source": [
    "# Check that {b_i} = {-c_i} over all points\n",
    "S = b_mean @ -c_mean.T\n",
    "S = (S > 0.95).astype(float)\n",
    "assert (S.sum(axis=0) == 1).all() and (S.sum(axis=1) == 1).all()"
   ]
  },
  {
   "cell_type": "code",
   "execution_count": 65,
   "id": "31de1e23",
   "metadata": {},
   "outputs": [],
   "source": [
    "# Check that {b_i} = {-c_i} within each partition\n",
    "for b_part, c_part in zip(b_parts, c_parts):\n",
    "    # S = t.concat([b_mean[b_part], -b_mean[b_part]]) @ t.concat([-c_mean[c_part], c_mean[c_part]]).T\n",
    "    S = b_mean[b_part] @ -c_mean[c_part].T\n",
    "    S = (S > 0.95).astype(float)\n",
    "    assert (S.sum(axis=0) == 1).all() and (S.sum(axis=1) == 1).all()"
   ]
  },
  {
   "cell_type": "code",
   "execution_count": 66,
   "id": "f5b90738",
   "metadata": {},
   "outputs": [],
   "source": [
    "# Check that there are two partitions, and that they are antipodal\n",
    "assert len(b_parts) == 2\n",
    "T = b_mean[b_parts[0]] @ -b_mean[b_parts[1]].T\n",
    "T = (T > 1 - 1e-2).astype(float)\n",
    "assert (T.sum(axis=0) == 1).all() and (T.sum(axis=1) == 1).all()"
   ]
  },
  {
   "cell_type": "code",
   "execution_count": 67,
   "id": "cd25d113",
   "metadata": {},
   "outputs": [
    {
     "name": "stdout",
     "output_type": "stream",
     "text": [
      "size=14.581692695617676, variance=0.041072290390729904\n",
      "[2.9271507263183594, 3.0301852226257324, 2.947442054748535, 3.7306771278381348, 3.6133885383605957, 2.9927361011505127, 3.7859277725219727, 2.257120370864868, 2.655984401702881, 3.1560397148132324, 3.634443521499634, 2.2718491554260254, 2.205812692642212, 3.7508420944213867, 2.9436421394348145, 2.0772361755371094, 3.068580150604248, 2.210176467895508, 2.24330472946167, 1.8649656772613525, 3.2062294483184814, 3.5749683380126953, 2.653846025466919, 2.479753017425537, 2.113205909729004]\n",
      "size=13.402325630187988, variance=0.05738019198179245\n",
      "[2.6255760192871094, 2.7415590286254883, 1.6819978952407837, 1.9438964128494263, 2.556933641433716, 1.918022871017456, 3.153902530670166, 1.9036931991577148, 2.5628561973571777, 3.305253744125366, 3.5791714191436768, 3.5385055541992188, 1.5172001123428345, 3.618938446044922, 2.810096502304077, 2.682288646697998, 2.0427472591400146, 3.1616780757904053, 2.6220152378082275, 1.554329752922058, 2.333005666732788, 2.927609443664551, 3.239436388015747, 3.165828227996826, 1.8741176128387451]\n"
     ]
    }
   ],
   "source": [
    "# check that coefs are uniform over {b_i}x{c_i}\n",
    "for b_part, c_part in zip(b_parts, c_parts):\n",
    "    coef_sum = t.tensor([\n",
    "        coef[(b_labels == i) & (c_labels == j)].sum().item()\n",
    "        for i, j in product(b_part, c_part)\n",
    "    ])\n",
    "    print(f'size={coef_sum.norm()}, variance={(coef_sum - coef_sum.mean()).norm()**2/coef_sum.norm()**2}')\n",
    "    print(coef_sum.tolist())"
   ]
  },
  {
   "cell_type": "code",
   "execution_count": 185,
   "id": "3b44779a",
   "metadata": {},
   "outputs": [
    {
     "data": {
      "text/plain": [
       "tensor([2.6256, 1.6820, 1.9439, 2.5569, 2.7416, 1.9180, 1.9037, 2.5629, 3.3053,\n",
       "        3.1539, 2.6823, 3.1617, 2.6220, 1.5543, 2.0427, 2.3330, 3.2394, 3.1658,\n",
       "        1.8741, 2.9276, 3.5792, 1.5172, 3.6189, 2.8101, 3.5385])"
      ]
     },
     "execution_count": 185,
     "metadata": {},
     "output_type": "execute_result"
    }
   ],
   "source": [
    "coef_sum"
   ]
  },
  {
   "cell_type": "markdown",
   "id": "c00edddf-6ece-4254-8daa-2edcda98ed63",
   "metadata": {},
   "source": [
    "### Activations are clustered"
   ]
  },
  {
   "cell_type": "code",
   "execution_count": 61,
   "id": "652e3ada-3f49-4b25-b0be-f151d3643db8",
   "metadata": {},
   "outputs": [],
   "source": [
    "embedding_left = model.embedding_left.squeeze(0)\n",
    "embedding_right = model.embedding_right.squeeze(0)\n",
    "linear = model.linear.squeeze(0)\n",
    "unembedding = model.unembedding.squeeze(0).T\n",
    "# There's a degree of freedom with embedding/unembedding norm.\n",
    "# Rescale so that each unembedding column is norm 1\n",
    "u_norm = unembedding.norm(dim=0)\n",
    "unembedding = unembedding / u_norm\n",
    "linear = linear * u_norm"
   ]
  },
  {
   "cell_type": "code",
   "execution_count": 62,
   "id": "983e5927-3ff9-491d-bc03-60ad4c265c9a",
   "metadata": {},
   "outputs": [],
   "source": [
    "N = len(group)\n",
    "inputs = t.tensor(list(product(range(N), repeat=2)), device=device)\n",
    "l_in, r_in = inputs[..., 0], inputs[..., 1]\n",
    "l_onehot = F.one_hot(l_in, num_classes=N).float()\n",
    "r_onehot = F.one_hot(r_in, num_classes=N).float()\n",
    "l_embed = einops.einsum(l_onehot, embedding_left, 'batch group, group embed -> batch embed')\n",
    "r_embed = einops.einsum(r_onehot, embedding_right, 'batch group, group embed -> batch embed')\n",
    "l_act = einops.einsum(l_embed, linear, 'batch embed, embed hid -> batch hid')\n",
    "r_act = einops.einsum(r_embed, linear, 'batch embed, embed hid -> batch hid')\n",
    "l_act = l_act[:, irrep_idxs]\n",
    "r_act = r_act[:, irrep_idxs]\n",
    "pre_act = l_act + r_act\n",
    "act = t.maximum(t.zeros_like(l_act), l_act + r_act)\n",
    "lin_logits = einops.einsum(pre_act, unembedding[:, irrep_idxs], 'batch hid, group hid-> batch group')\n",
    "logits = einops.einsum(act, unembedding[:, irrep_idxs], 'batch hid, group hid-> batch group')"
   ]
  },
  {
   "cell_type": "code",
   "execution_count": 63,
   "id": "445e30de",
   "metadata": {},
   "outputs": [
    {
     "data": {
      "text/plain": [
       "tensor(0.9876, grad_fn=<DivBackward0>)"
      ]
     },
     "execution_count": 63,
     "metadata": {},
     "output_type": "execute_result"
    }
   ],
   "source": [
    "# 0, 24, 57 are same (i, j)\n",
    "(act[:,0] - act[:,24]).norm()**2 / act[:,0].norm()**2"
   ]
  },
  {
   "cell_type": "code",
   "execution_count": 64,
   "id": "e04616ea",
   "metadata": {},
   "outputs": [
    {
     "data": {
      "text/plain": [
       "torch.Size([14400, 74])"
      ]
     },
     "execution_count": 64,
     "metadata": {},
     "output_type": "execute_result"
    }
   ],
   "source": [
    "act.shape"
   ]
  },
  {
   "cell_type": "code",
   "execution_count": 65,
   "id": "3d909e8b",
   "metadata": {},
   "outputs": [
    {
     "data": {
      "text/plain": [
       "(tensor(5932.1118, grad_fn=<LinalgVectorNormBackward0>),\n",
       " tensor(459.0746, grad_fn=<LinalgVectorNormBackward0>))"
      ]
     },
     "execution_count": 65,
     "metadata": {},
     "output_type": "execute_result"
    }
   ],
   "source": [
    "logits.norm(), lin_logits.norm()"
   ]
  },
  {
   "cell_type": "code",
   "execution_count": 66,
   "id": "dbb533c7-f398-4029-a40d-7982277c0e5b",
   "metadata": {},
   "outputs": [
    {
     "data": {
      "image/png": "[encoded data removed]",
      "text/plain": [
       "<Figure size 640x480 with 1 Axes>"
      ]
     },
     "metadata": {},
     "output_type": "display_data"
    },
    {
     "data": {
      "image/png": "[encoded data removed]",
      "text/plain": [
       "<Figure size 640x480 with 1 Axes>"
      ]
     },
     "metadata": {},
     "output_type": "display_data"
    },
    {
     "data": {
      "image/png": "[encoded data removed]",
      "text/plain": [
       "<Figure size 640x480 with 1 Axes>"
      ]
     },
     "metadata": {},
     "output_type": "display_data"
    },
    {
     "data": {
      "image/png": "[encoded data removed]",
      "text/plain": [
       "<Figure size 640x480 with 1 Axes>"
      ]
     },
     "metadata": {},
     "output_type": "display_data"
    },
    {
     "data": {
      "image/png": "[encoded data removed]",
      "text/plain": [
       "<Figure size 640x480 with 1 Axes>"
      ]
     },
     "metadata": {},
     "output_type": "display_data"
    },
    {
     "data": {
      "image/png": "[encoded data removed]",
      "text/plain": [
       "<Figure size 640x480 with 1 Axes>"
      ]
     },
     "metadata": {},
     "output_type": "display_data"
    },
    {
     "data": {
      "image/png": "[encoded data removed]",
      "text/plain": [
       "<Figure size 640x480 with 1 Axes>"
      ]
     },
     "metadata": {},
     "output_type": "display_data"
    },
    {
     "data": {
      "image/png": "[encoded data removed]",
      "text/plain": [
       "<Figure size 640x480 with 1 Axes>"
      ]
     },
     "metadata": {},
     "output_type": "display_data"
    },
    {
     "data": {
      "image/png": "[encoded data removed]",
      "text/plain": [
       "<Figure size 640x480 with 1 Axes>"
      ]
     },
     "metadata": {},
     "output_type": "display_data"
    },
    {
     "data": {
      "image/png": "[encoded data removed]",
      "text/plain": [
       "<Figure size 640x480 with 1 Axes>"
      ]
     },
     "metadata": {},
     "output_type": "display_data"
    },
    {
     "data": {
      "image/png": "[encoded data removed]",
      "text/plain": [
       "<Figure size 640x480 with 1 Axes>"
      ]
     },
     "metadata": {},
     "output_type": "display_data"
    },
    {
     "data": {
      "image/png": "[encoded data removed]",
      "text/plain": [
       "<Figure size 640x480 with 1 Axes>"
      ]
     },
     "metadata": {},
     "output_type": "display_data"
    },
    {
     "data": {
      "image/png": "[encoded data removed]",
      "text/plain": [
       "<Figure size 640x480 with 1 Axes>"
      ]
     },
     "metadata": {},
     "output_type": "display_data"
    },
    {
     "data": {
      "image/png": "[encoded data removed]",
      "text/plain": [
       "<Figure size 640x480 with 1 Axes>"
      ]
     },
     "metadata": {},
     "output_type": "display_data"
    },
    {
     "data": {
      "image/png": "[encoded data removed]",
      "text/plain": [
       "<Figure size 640x480 with 1 Axes>"
      ]
     },
     "metadata": {},
     "output_type": "display_data"
    }
   ],
   "source": [
    "for i in range(15):\n",
    "    plt.hist(l_act[:,i].tolist(), alpha=0.4, bins=20)\n",
    "    plt.hist(r_act[:,i].tolist(), alpha=0.4, bins=20)\n",
    "    plt.show()"
   ]
  },
  {
   "cell_type": "code",
   "execution_count": 70,
   "id": "50ccb435",
   "metadata": {},
   "outputs": [
    {
     "data": {
      "image/png": "[encoded data removed]",
      "text/plain": [
       "<Figure size 640x480 with 1 Axes>"
      ]
     },
     "metadata": {},
     "output_type": "display_data"
    }
   ],
   "source": [
    "plt.scatter(coef.tolist(), l_act.max(dim=0)[0].tolist())\n",
    "plt.show()"
   ]
  },
  {
   "cell_type": "code",
   "execution_count": null,
   "id": "dfb92c44",
   "metadata": {},
   "outputs": [],
   "source": [
    "big_neurons = (l_act.max(dim=0)[0] > 15).nonzero()"
   ]
  },
  {
   "cell_type": "code",
   "execution_count": null,
   "id": "fbdc8d34",
   "metadata": {},
   "outputs": [
    {
     "data": {
      "text/plain": [
       "[0, 1, 3, 4, 9]"
      ]
     },
     "execution_count": 82,
     "metadata": {},
     "output_type": "execute_result"
    }
   ],
   "source": [
    "b_part1"
   ]
  },
  {
   "cell_type": "code",
   "execution_count": null,
   "id": "0aa6d40b",
   "metadata": {},
   "outputs": [
    {
     "data": {
      "text/plain": [
       "array([[4],\n",
       "       [5],\n",
       "       [6],\n",
       "       [2],\n",
       "       [6],\n",
       "       [4],\n",
       "       [2],\n",
       "       [6],\n",
       "       [0],\n",
       "       [0],\n",
       "       [6],\n",
       "       [2],\n",
       "       [5],\n",
       "       [5],\n",
       "       [4],\n",
       "       [4],\n",
       "       [2],\n",
       "       [4],\n",
       "       [0],\n",
       "       [5],\n",
       "       [6],\n",
       "       [0],\n",
       "       [0]], dtype=int32)"
      ]
     },
     "execution_count": 83,
     "metadata": {},
     "output_type": "execute_result"
    }
   ],
   "source": [
    "b_labels[big_neurons]"
   ]
  },
  {
   "cell_type": "code",
   "execution_count": null,
   "id": "a3f5be04",
   "metadata": {},
   "outputs": [],
   "source": [
    "def ablate_loss(ln, rn, un):\n",
    "    ablate_model = copy.deepcopy(model)\n",
    "    ablate_model.linear.data = t.eye(ln.shape[1]).unsqueeze(0)\n",
    "    ablate_model.embedding_left.data = ln.unsqueeze(0)\n",
    "    ablate_model.embedding_right.data = rn.unsqueeze(0)\n",
    "    ablate_model.unembedding.data = un.unsqueeze(0).mT\n",
    "    return test_loss(ablate_model.to(device), data)"
   ]
  },
  {
   "cell_type": "code",
   "execution_count": null,
   "id": "6e5c5b50",
   "metadata": {},
   "outputs": [],
   "source": [
    "big_mask = l_act.max(dim=0)[0] > 15\n",
    "small_mask = l_act.max(dim=0)[0] < 3\n",
    "part1_mask = t.tensor([i in b_part1 for i in b_labels], device=device)\n",
    "part2_mask = t.tensor([i in b_part2 for i in b_labels], device=device)"
   ]
  },
  {
   "cell_type": "code",
   "execution_count": null,
   "id": "ff4e03fb",
   "metadata": {},
   "outputs": [
    {
     "name": "stdout",
     "output_type": "stream",
     "text": [
      "{'G0_loss': tensor([0.8658]), 'G0_acc': tensor([0.5001])}\n",
      "{'G0_loss': tensor([1.4867]), 'G0_acc': tensor([0.3433])}\n",
      "{'G0_loss': tensor([4.2793]), 'G0_acc': tensor([0.3035])}\n",
      "{'G0_loss': tensor([3.3410]), 'G0_acc': tensor([0.1060])}\n",
      "{'G0_loss': tensor([2.6429]), 'G0_acc': tensor([0.1717])}\n",
      "{'G0_loss': tensor([3.5448]), 'G0_acc': tensor([0.0409])}\n",
      "{'G0_loss': tensor([4.5008]), 'G0_acc': tensor([0.0628])}\n",
      "{'G0_loss': tensor([3.2302]), 'G0_acc': tensor([0.0570])}\n",
      "{'G0_loss': tensor([4.5770]), 'G0_acc': tensor([0.0439])}\n"
     ]
    }
   ],
   "source": [
    "print(ablate_loss(irrep_lneurons, irrep_rneurons, irrep_uneurons))\n",
    "print(ablate_loss(irrep_lneurons[:,big_mask], irrep_rneurons[:,big_mask], irrep_uneurons[:,big_mask]))\n",
    "print(ablate_loss(irrep_lneurons[:,small_mask], irrep_rneurons[:,small_mask], irrep_uneurons[:,small_mask]))\n",
    "print(ablate_loss(irrep_lneurons[:,part1_mask], irrep_rneurons[:,part1_mask], irrep_uneurons[:,part1_mask]))\n",
    "print(ablate_loss(irrep_lneurons[:,part2_mask], irrep_rneurons[:,part2_mask], irrep_uneurons[:,part2_mask]))\n",
    "print(ablate_loss(irrep_lneurons[:,part1_mask & big_mask], irrep_rneurons[:,part1_mask & big_mask], irrep_uneurons[:,part1_mask & big_mask]))\n",
    "print(ablate_loss(irrep_lneurons[:,part1_mask & small_mask], irrep_rneurons[:,part1_mask & small_mask], irrep_uneurons[:,part1_mask & small_mask]))\n",
    "print(ablate_loss(irrep_lneurons[:,part2_mask & big_mask], irrep_rneurons[:,part2_mask & big_mask], irrep_uneurons[:,part2_mask & big_mask]))\n",
    "print(ablate_loss(irrep_lneurons[:,part2_mask & small_mask], irrep_rneurons[:,part2_mask & small_mask], irrep_uneurons[:,part2_mask & small_mask]))\n"
   ]
  },
  {
   "cell_type": "code",
   "execution_count": null,
   "id": "117958d7",
   "metadata": {},
   "outputs": [
    {
     "data": {
      "text/plain": [
       "{'G0_loss': tensor([29.3090]), 'G0_acc': tensor([0.5001])}"
      ]
     },
     "execution_count": 103,
     "metadata": {},
     "output_type": "execute_result"
    }
   ],
   "source": [
    "ablate_loss(10*irrep_lneurons, 10*irrep_rneurons, 10*irrep_uneurons)"
   ]
  },
  {
   "cell_type": "code",
   "execution_count": null,
   "id": "9607b4c8",
   "metadata": {},
   "outputs": [
    {
     "data": {
      "text/plain": [
       "torch.Size([120, 52])"
      ]
     },
     "execution_count": 94,
     "metadata": {},
     "output_type": "execute_result"
    }
   ],
   "source": [
    "irrep_lneurons.shape"
   ]
  },
  {
   "cell_type": "code",
   "execution_count": null,
   "id": "92c393d7",
   "metadata": {},
   "outputs": [
    {
     "data": {
      "text/plain": [
       "(tensor(23), tensor(25))"
      ]
     },
     "execution_count": 101,
     "metadata": {},
     "output_type": "execute_result"
    }
   ],
   "source": [
    "big_mask.sum(), small_mask.sum() "
   ]
  },
  {
   "cell_type": "code",
   "execution_count": null,
   "id": "a71abab3",
   "metadata": {},
   "outputs": [],
   "source": []
  }
 ],
 "metadata": {
  "kernelspec": {
   "display_name": "Python 3 (ipykernel)",
   "language": "python",
   "name": "python3"
  },
  "language_info": {
   "codemirror_mode": {
    "name": "ipython",
    "version": 3
   },
   "file_extension": ".py",
   "mimetype": "text/x-python",
   "name": "python",
   "nbconvert_exporter": "python",
   "pygments_lexer": "ipython3",
   "version": "3.10.12"
  }
 },
 "nbformat": 4,
 "nbformat_minor": 5
}
