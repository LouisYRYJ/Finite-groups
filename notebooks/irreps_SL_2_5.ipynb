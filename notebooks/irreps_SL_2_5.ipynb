{
 "cells": [
  {
   "cell_type": "markdown",
   "id": "5398ebd2-48ab-423a-b560-92e9d2374a0b",
   "metadata": {},
   "source": [
    "### Setup"
   ]
  },
  {
   "cell_type": "code",
   "execution_count": 3,
   "id": "aeaec889-8f37-480c-861d-8a434e24fe26",
   "metadata": {},
   "outputs": [],
   "source": [
    "import os, sys\n",
    "HOME = os.environ['HOME']  # change if necessary\n",
    "sys.path.append(f'{HOME}/Finite-groups/src')"
   ]
  },
  {
   "cell_type": "code",
   "execution_count": 4,
   "id": "8293bd26-5402-4955-a9c6-ed25d4b90d4f",
   "metadata": {},
   "outputs": [
    {
     "name": "stderr",
     "output_type": "stream",
     "text": [
      "Syntax warning: Unbound global variable in /usr/share/gap/pkg/browse/PackageIn\\\n",
      "fo.g:73\n",
      "  if not IsKernelExtensionAvailable(\"Browse\", \"ncurses\") then\n",
      "         ^^^^^^^^^^^^^^^^^^^^^^^^^^\n",
      "Syntax warning: Unbound global variable in /usr/share/gap/pkg/edim/PackageInfo\\\n",
      ".g:60\n",
      "  if not IsKernelExtensionAvailable(\"EDIM\",\"ediv\") then\n",
      "         ^^^^^^^^^^^^^^^^^^^^^^^^^^\n"
     ]
    }
   ],
   "source": [
    "import torch as t\n",
    "import numpy as np\n",
    "from matplotlib import pyplot as plt\n",
    "import json\n",
    "from itertools import product\n",
    "from jaxtyping import Float\n",
    "from torch.utils.data import DataLoader\n",
    "from tqdm.notebook import tqdm\n",
    "import plotly.graph_objects as go\n",
    "import copy\n",
    "import math\n",
    "from itertools import product\n",
    "import pandas as pd\n",
    "from typing import Union\n",
    "from einops import repeat\n",
    "from huggingface_hub import snapshot_download\n",
    "from huggingface_hub.utils import disable_progress_bars\n",
    "\n",
    "\n",
    "from model import MLP3, MLP4, InstancedModule\n",
    "from utils import *\n",
    "from group_data import *\n",
    "from model_utils import *\n",
    "from group_utils import *\n",
    "%load_ext autoreload\n",
    "%autoreload 2"
   ]
  },
  {
   "cell_type": "code",
   "execution_count": 5,
   "id": "0f473f11-9236-4bbf-b401-c6e92cd35923",
   "metadata": {},
   "outputs": [
    {
     "name": "stdout",
     "output_type": "stream",
     "text": [
      "Intersection size: 14400/14400 (1.00)\n",
      "Added 14400 elements from intersection\n",
      "Added 0 elements from group 0: smallgrp(120, 5)\n",
      "Taking random subset: 5760/14400 (0.40)\n",
      "Train set size: 5760/14400 (0.40)\n"
     ]
    },
    {
     "name": "stderr",
     "output_type": "stream",
     "text": [
      "/home/wilson/Finite-groups/src/model_utils.py:48: FutureWarning: You are using `torch.load` with `weights_only=False` (the current default value), which uses the default pickle module implicitly. It is possible to construct malicious pickle data which will execute arbitrary code during unpickling (See https://github.com/pytorch/pytorch/blob/main/SECURITY.md#untrusted-models for more details). In a future release, the default value for `weights_only` will be flipped to `True`. This limits the functions that could be executed during unpickling. Arbitrary objects will no longer be allowed to be loaded via this mode unless they are explicitly allowlisted by the user via `torch.serialization.add_safe_globals`. We recommend you start setting `weights_only=True` for any use case where you don't have full control of the loaded file. Please open an issue on GitHub for any issues related to this experimental feature.\n",
      "  model.load_state_dict(t.load(model_path, map_location=device))\n"
     ]
    }
   ],
   "source": [
    "MODEL_DIR = '2024-08-16_22-53-29_SL2_5_MLP3_256'\n",
    "disable_progress_bars()\n",
    "local_dir = f'{HOME}/models/{MODEL_DIR}'\n",
    "snapshot_download(repo_id=f'wiwu2390/{MODEL_DIR}', local_dir=local_dir)\n",
    "models, params = load_models(local_dir)\n",
    "data = GroupData(params)\n",
    "group = data.groups[0]"
   ]
  },
  {
   "cell_type": "markdown",
   "id": "f0f21317-778f-4e55-970c-1ec604f95930",
   "metadata": {},
   "source": [
    "`models` (returned from `load_models`) is a list of InstancedModule objects, one for each training checkpoint that we chose to save. For most runs, we only save the final checkpoints, so `len(models)==1`\n",
    "\n",
    "For efficiency during training, the InstancedModule object contains 100 different instances starting from different random initializations. \n",
    "\n",
    "Here, we look only at the one with best test accuracy."
   ]
  },
  {
   "cell_type": "code",
   "execution_count": 6,
   "id": "ccb4a6de-eabe-4535-9d3f-df78a05f3633",
   "metadata": {},
   "outputs": [
    {
     "name": "stdout",
     "output_type": "stream",
     "text": [
      "tensor(0.0567) tensor(19)\n"
     ]
    }
   ],
   "source": [
    "loss_dict = test_loss(models[-1].to(device), data)\n",
    "print(loss_dict['G0_loss'].min(), loss_dict['G0_loss'].argmin())\n",
    "instance = loss_dict['G0_loss'].argmin().item()\n",
    "model = models[-1][instance].to(device)"
   ]
  },
  {
   "cell_type": "markdown",
   "id": "2e3f6194-2716-46ca-972f-a88fe0f49de4",
   "metadata": {},
   "source": [
    "\"MLP3\" architecture is\n",
    "$$f(z\\mid x, y) = W_u(z)\\cdot\\text{ReLU}[W_h(W_l(x)+W_r(y))]] = \\sum_i w_u^i(z) \\text{ReLU}[w_l^i(x)+w_r^i(y)]$$\n",
    "where $w_u^i, w_l^i, w_r^i\\in\\mathbb{R}^G$ are the columns of $W_u, (W_hW_l)^{\\top}, (W_hW_r)^{\\top}$ respectively."
   ]
  },
  {
   "cell_type": "code",
   "execution_count": 24,
   "id": "1b3e1c90-45f9-43dc-b2bf-6fa305d7d196",
   "metadata": {},
   "outputs": [
    {
     "data": {
      "text/plain": [
       "(torch.Size([120, 256]), torch.Size([120, 256]), torch.Size([120, 256]))"
      ]
     },
     "execution_count": 24,
     "metadata": {},
     "output_type": "execute_result"
    }
   ],
   "source": [
    "lneurons, rneurons = model.get_neurons()\n",
    "uneurons = model.unembedding.data.detach()\n",
    "lneurons, rneurons, uneurons = lneurons.squeeze(0).to('cpu'), rneurons.squeeze(0).to('cpu'), uneurons.squeeze(0).to('cpu').T\n",
    "lneurons.shape, rneurons.shape, uneurons.shape"
   ]
  },
  {
   "cell_type": "markdown",
   "id": "9fa29f76-c012-4918-be8e-e761813b918d",
   "metadata": {},
   "source": [
    "### Observation 0: Neurons are irrep-sparse"
   ]
  },
  {
   "cell_type": "markdown",
   "id": "81da1cb7-4ee6-4e51-a1b8-872b3b594e1c",
   "metadata": {},
   "source": [
    "I.e., each neuron is a linear combination of matrix entries of some irrep.\n",
    "\n",
    "That is, for each $i$, there exists an irrep $\\rho_i\\colon G\\to\\text{GL}(\\mathbb{R}^d)$ such that, for some $A_i,B_i,C_i$,\n",
    "$$w_l^i(x) \\approx \\text{tr}(\\rho_i(x) A_i)$$\n",
    "$$w_r^i(y) \\approx \\text{tr}(\\rho_i(y) B_i)$$\n",
    "$$w_u^i(z) \\approx \\text{tr}(\\rho_i(z) C_i)$$\n",
    "\n",
    "(This was first noticed by Chughtai et al.)"
   ]
  },
  {
   "cell_type": "markdown",
   "id": "9decac2b-f6c2-4a90-9ea8-99016c469344",
   "metadata": {},
   "source": [
    "**Notation**: 4d-0 is the 1st degree 4 irrep, 4d-1 is the 2nd, etc. Ordering is arbitrary but is consistent between runs (I think)\n",
    "\n",
    "Note that 4d-2 is a real irrep (Frobenius-Schur indicator = 1) and thus has entries orthogonal over $\\mathbb{R}^G$. This is not true of 4d-0 or 4d-1."
   ]
  },
  {
   "cell_type": "code",
   "execution_count": 8,
   "id": "a38ffde5-1654-45e2-8494-0c7103391bb6",
   "metadata": {},
   "outputs": [
    {
     "name": "stdout",
     "output_type": "stream",
     "text": [
      "Complex irrep 2d-0 -> real irrep 4d-0\n",
      "Complex irrep 2d-1 -> real irrep 4d-1\n",
      "Complex irrep 4d-1 -> real irrep 8d-0\n",
      "Complex irrep 6d-0 -> real irrep 12d-0\n",
      "dict_keys(['1d-0', '4d-0', '4d-1', '3d-0', '3d-1', '4d-2', '8d-0', '5d-0', '12d-0'])\n"
     ]
    }
   ],
   "source": [
    "irreps = group.get_real_irreps(verbose=True)\n",
    "print(irreps.keys())"
   ]
  },
  {
   "cell_type": "code",
   "execution_count": 10,
   "id": "103c47dc-865a-4fbe-b9be-1e9d2b63a7e4",
   "metadata": {},
   "outputs": [
    {
     "name": "stdout",
     "output_type": "stream",
     "text": [
      "1d-0 torch.Size([120, 1])\n",
      "4d-0 torch.Size([120, 4])\n",
      "4d-1 torch.Size([120, 4])\n",
      "3d-0 torch.Size([120, 9])\n",
      "3d-1 torch.Size([120, 9])\n",
      "4d-2 torch.Size([120, 16])\n",
      "8d-0 torch.Size([120, 16])\n",
      "5d-0 torch.Size([120, 25])\n",
      "12d-0 torch.Size([120, 36])\n"
     ]
    }
   ],
   "source": [
    "# Get orthogonal basis for each irrep\n",
    "irrep_bases = dict()\n",
    "for name, irrep in irreps.items():\n",
    "    irrep = einops.rearrange(irrep, 'N d1 d2 -> N (d1 d2)')\n",
    "    U, S, V = t.svd(irrep)\n",
    "    nonzero = S > 1e-5\n",
    "    irrep_bases[name] = U[:,nonzero]\n",
    "\n",
    "# Dimension of subspace spanned by each irrep\n",
    "for k, v in irrep_bases.items():\n",
    "    print(k, v.shape)"
   ]
  },
  {
   "cell_type": "code",
   "execution_count": 21,
   "id": "3d32e6f1-297a-4e02-9a48-0d01e2dfb32a",
   "metadata": {},
   "outputs": [],
   "source": [
    "# Proportion of variance explained by each irrep, for each neuron\n",
    "lexpl, rexpl, uexpl = dict(), dict(), dict()\n",
    "\n",
    "for name, basis in irrep_bases.items():\n",
    "    lproj = basis.T @ lneurons\n",
    "    lexpl[name] = (basis.T @ lneurons).norm(dim=0)**2 / (lneurons.norm(dim=0)**2 + 1e-8)\n",
    "    rexpl[name] = (basis.T @ rneurons).norm(dim=0)**2 / (rneurons.norm(dim=0)**2 + 1e-8)\n",
    "    uexpl[name] = (basis.T @ uneurons).norm(dim=0)**2 / (uneurons.norm(dim=0)**2 + 1e-8)"
   ]
  },
  {
   "cell_type": "code",
   "execution_count": 16,
   "id": "ae375548-655a-488c-a388-3ac1e32a400b",
   "metadata": {},
   "outputs": [],
   "source": [
    "lexpl_max, lirrep = t.stack(list(lexpl.values()), dim=0).max(dim=0)"
   ]
  },
  {
   "cell_type": "code",
   "execution_count": 18,
   "id": "8b5e3ad3-02ca-4de7-ba65-fffdab7d4169",
   "metadata": {},
   "outputs": [
    {
     "data": {
      "image/png": "[encoded data removed]",
      "text/plain": [
       "<Figure size 640x480 with 1 Axes>"
      ]
     },
     "metadata": {},
     "output_type": "display_data"
    }
   ],
   "source": [
    "plt.hist(lexpl_max.tolist())\n",
    "plt.title('Left neurons: variance explained by best irrep')\n",
    "plt.show()"
   ]
  },
  {
   "cell_type": "markdown",
   "id": "c050d7dd-8df0-4bee-b30a-5267a357a65c",
   "metadata": {},
   "source": [
    "Because 4d-0 and 4d-1 are real irreps and so do not obey Schur orthogonality, there is ambiguity in the $A_i,B_i,C_i$ coefficients.\n",
    "\n",
    "Thus, for simplicity, let's look at 4d-2 first."
   ]
  },
  {
   "cell_type": "code",
   "execution_count": 38,
   "id": "65bbb8cb-68d6-4f89-8bdd-dc855ee15fa6",
   "metadata": {},
   "outputs": [
    {
     "data": {
      "text/plain": [
       "torch.Size([120, 256])"
      ]
     },
     "execution_count": 38,
     "metadata": {},
     "output_type": "execute_result"
    }
   ],
   "source": [
    "lneurons.shape"
   ]
  },
  {
   "cell_type": "code",
   "execution_count": 49,
   "id": "782267d3-ec8a-4a4b-b9b3-7fbbd2fcf0e6",
   "metadata": {},
   "outputs": [
    {
     "name": "stdout",
     "output_type": "stream",
     "text": [
      "51\n"
     ]
    }
   ],
   "source": [
    "irrep_idxs = [\n",
    "    i for i in range(lneurons.shape[-1]) \n",
    "    if lexpl['4d-2'][i].item() > 0.9999 and lneurons[:,i].norm() > 1e-4\n",
    "]\n",
    "print(len(irrep_idxs))\n",
    "irrep_lneurons = lneurons[:, irrep_idxs]\n",
    "irrep_rneurons = rneurons[:, irrep_idxs]\n",
    "irrep_uneurons = uneurons[:, irrep_idxs]\n",
    "irrep = irreps['4d-2']"
   ]
  },
  {
   "cell_type": "code",
   "execution_count": 51,
   "id": "4ae58edd-7e10-4c4d-996d-354758bfed8a",
   "metadata": {},
   "outputs": [
    {
     "data": {
      "text/plain": [
       "(torch.Size([51, 4, 4]), torch.Size([51, 4, 4]), torch.Size([51, 4, 4]))"
      ]
     },
     "execution_count": 51,
     "metadata": {},
     "output_type": "execute_result"
    }
   ],
   "source": [
    "flat_irrep = einops.rearrange(irrep, 'n d1 d2 -> n (d1 d2)')\n",
    "# Project neurons onto subspace spanned by flat_irrep\n",
    "A_flat = (t.linalg.inv(flat_irrep.T @ flat_irrep) @ flat_irrep.T @ irrep_lneurons)\n",
    "B_flat = (t.linalg.inv(flat_irrep.T @ flat_irrep) @ flat_irrep.T @ irrep_rneurons)\n",
    "C_flat = (t.linalg.inv(flat_irrep.T @ flat_irrep) @ flat_irrep.T @ irrep_uneurons)\n",
    "A = einops.rearrange(A_flat, '(d1 d2) m -> m d1 d2', d1=4, d2=4).mT\n",
    "B = einops.rearrange(B_flat, '(d1 d2) m -> m d1 d2', d1=4, d2=4).mT\n",
    "C = einops.rearrange(C_flat, '(d1 d2) m -> m d1 d2', d1=4, d2=4).mT\n",
    "A.shape, B.shape, C.shape"
   ]
  },
  {
   "cell_type": "markdown",
   "id": "335055bf-39b9-4916-85a1-be957d7602f3",
   "metadata": {},
   "source": [
    "### Observation 1: $C_i\\approx A_iB_i$"
   ]
  },
  {
   "cell_type": "code",
   "execution_count": 58,
   "id": "cdc2e8fe-d9f0-4409-9c32-6e64b7212967",
   "metadata": {},
   "outputs": [
    {
     "data": {
      "image/png": "[encoded data removed]",
      "text/plain": [
       "<Figure size 640x480 with 1 Axes>"
      ]
     },
     "metadata": {},
     "output_type": "display_data"
    }
   ],
   "source": [
    "x = einops.rearrange(A @ B, 'm d1 d2 -> m (d1 d2)')\n",
    "y = einops.rearrange(C, 'm d1 d2 -> m (d1 d2)')\n",
    "coef = (x * y).sum(dim=-1) / (x * x).sum(dim=-1)\n",
    "yhat = coef.unsqueeze(1) * x\n",
    "r2 = (yhat - y).norm(dim=-1).pow(2) / y.norm(dim=-1).pow(2)\n",
    "plt.hist(r2.tolist())\n",
    "plt.title('R^2(C, AB)')\n",
    "plt.show()"
   ]
  },
  {
   "cell_type": "markdown",
   "id": "03a5ce16-cce0-4d24-8355-e59da2f73ea9",
   "metadata": {},
   "source": [
    "### Observation 2: $A_i, B_i, C_i$ are almost rank 1"
   ]
  },
  {
   "cell_type": "markdown",
   "id": "feb3c117-a0ce-456c-810d-64ff01175faf",
   "metadata": {},
   "source": [
    "Thus, we can write\n",
    "$$A_i\\approx a_ib_i^\\top$$\n",
    "$$B_i\\approx c_id_i^\\top$$\n",
    "$$C_i\\approx A_iB_i\\approx \\langle b_i, c_i\\rangle a_i d_i^\\top$$"
   ]
  },
  {
   "cell_type": "code",
   "execution_count": 124,
   "id": "56746b1c-9f5b-47cd-b7fa-11f9e84739d7",
   "metadata": {},
   "outputs": [
    {
     "data": {
      "text/plain": [
       "(tensor(1.0000), tensor(1.0000))"
      ]
     },
     "execution_count": 124,
     "metadata": {},
     "output_type": "execute_result"
    }
   ],
   "source": [
    "a, b, c, d, A_expl, B_expl = [], [], [], [], [], []\n",
    "for i in range(len(irrep_idxs)):\n",
    "    lu, ls, lv = t.svd(A[i])\n",
    "    ru, rs, rv = t.svd(B[i])\n",
    "    a.append(lu[:,0])\n",
    "    b.append(lv[0])\n",
    "    c.append(ru[:,0])\n",
    "    d.append(rv[0])\n",
    "    A_expl.append(ls[0].pow(2) / ls.pow(2).sum())\n",
    "    B_expl.append(rs[0].pow(2) / rs.pow(2).sum())\n",
    "a, b, c, d = t.stack(a, dim=0), t.stack(b, dim=0), t.stack(c, dim=0), t.stack(d, dim=0)\n",
    "min(A_expl), min(B_expl)"
   ]
  },
  {
   "cell_type": "markdown",
   "id": "67fc899f-9cce-4086-a556-ed4bf41b3714",
   "metadata": {},
   "source": [
    "### Observation 3: $a_i$ is constant and $c_i$ are clustered"
   ]
  },
  {
   "cell_type": "code",
   "execution_count": 125,
   "id": "7343ec70-fa6b-40eb-95cc-5d9ebd5f16ad",
   "metadata": {},
   "outputs": [
    {
     "data": {
      "text/plain": [
       "tensor(0.0006)"
      ]
     },
     "execution_count": 125,
     "metadata": {},
     "output_type": "execute_result"
    }
   ],
   "source": [
    "a_mean = a.mean(dim=0)\n",
    "(a - a_mean).norm() / a.norm()"
   ]
  },
  {
   "cell_type": "code",
   "execution_count": 126,
   "id": "b1b0106f-36d2-4297-a8a8-c00013b49b0b",
   "metadata": {},
   "outputs": [
    {
     "name": "stdout",
     "output_type": "stream",
     "text": [
      "0.0003687285352498293\n"
     ]
    },
    {
     "data": {
      "text/plain": [
       "torch.Size([5, 4])"
      ]
     },
     "execution_count": 126,
     "metadata": {},
     "output_type": "execute_result"
    }
   ],
   "source": [
    "from sklearn.cluster import KMeans\n",
    "kmeans = KMeans(n_clusters=5).fit(c.numpy())\n",
    "print(-kmeans.score(c.numpy()))\n",
    "c_mean = t.tensor(kmeans.cluster_centers_)\n",
    "c_mean.shape"
   ]
  },
  {
   "cell_type": "code",
   "execution_count": 127,
   "id": "61b7d453-9e7a-4834-84aa-3922f2b898b8",
   "metadata": {},
   "outputs": [
    {
     "data": {
      "text/plain": [
       "tensor([[ 1.0000,  0.2494,  0.2507, -0.2499, -0.2496],\n",
       "        [ 0.2494,  1.0000, -0.2530,  0.2492,  0.2508],\n",
       "        [ 0.2507, -0.2530,  1.0000,  0.2492,  0.2475],\n",
       "        [-0.2499,  0.2492,  0.2492,  1.0000, -0.2505],\n",
       "        [-0.2496,  0.2508,  0.2475, -0.2505,  1.0000]])"
      ]
     },
     "execution_count": 127,
     "metadata": {},
     "output_type": "execute_result"
    }
   ],
   "source": [
    "corr = c_mean @ c_mean.T\n",
    "corr"
   ]
  },
  {
   "cell_type": "markdown",
   "id": "7e06a7ab-9c96-45ba-9364-4067dac9eb8f",
   "metadata": {},
   "source": [
    "**Note:** 5 unit vectors evenly spaced in 4 dimensions will all have pairwise inner product = -1/4.\n",
    "\n",
    "The +1/4 inner products above are due to ambiguity in the sign of singular vectors.\n",
    "\n",
    "Let's transform the $c_i$ and $d_i$ to make everything -1/4"
   ]
  },
  {
   "cell_type": "code",
   "execution_count": 128,
   "id": "990280d2-9a81-4055-8368-a6e18ccecce8",
   "metadata": {},
   "outputs": [
    {
     "data": {
      "text/plain": [
       "tensor([[ 1.0000, -0.2494, -0.2507, -0.2499, -0.2496],\n",
       "        [-0.2494,  1.0000, -0.2530, -0.2492, -0.2508],\n",
       "        [-0.2507, -0.2530,  1.0000, -0.2492, -0.2475],\n",
       "        [-0.2499, -0.2492, -0.2492,  1.0000, -0.2505],\n",
       "        [-0.2496, -0.2508, -0.2475, -0.2505,  1.0000]])"
      ]
     },
     "execution_count": 128,
     "metadata": {},
     "output_type": "execute_result"
    }
   ],
   "source": [
    "sign_mean = t.tensor(\n",
    "    [1.] + t.sign(-corr[0,1:]).tolist()\n",
    ")\n",
    "t.diag(sign_mean) @ c_mean @ c_mean.T @ t.diag(sign_mean)"
   ]
  },
  {
   "cell_type": "code",
   "execution_count": 129,
   "id": "e0cb97fc-f9e4-405f-b203-3d944fdbab0a",
   "metadata": {},
   "outputs": [
    {
     "name": "stdout",
     "output_type": "stream",
     "text": [
      "0.0003687285352498293\n"
     ]
    },
    {
     "data": {
      "text/plain": [
       "tensor([[ 1.0000, -0.2492, -0.2530, -0.2507, -0.2475],\n",
       "        [-0.2492,  1.0000, -0.2492, -0.2499, -0.2505],\n",
       "        [-0.2530, -0.2492,  1.0000, -0.2494, -0.2508],\n",
       "        [-0.2507, -0.2499, -0.2494,  1.0000, -0.2496],\n",
       "        [-0.2475, -0.2505, -0.2508, -0.2496,  1.0000]])"
      ]
     },
     "execution_count": 129,
     "metadata": {},
     "output_type": "execute_result"
    }
   ],
   "source": [
    "sign = t.zeros(c.shape[0])\n",
    "for i in range(c.shape[0]):\n",
    "    sign[i] = sign_mean[kmeans.labels_[i]]\n",
    "c = t.diag(sign) @ c\n",
    "d = t.diag(sign) @ d\n",
    "kmeans = KMeans(n_clusters=5).fit(c.numpy())\n",
    "print(-kmeans.score(c.numpy()))\n",
    "c_mean = t.tensor(kmeans.cluster_centers_)\n",
    "c_mean.shape\n",
    "corr = c_mean @ c_mean.T\n",
    "corr"
   ]
  },
  {
   "cell_type": "code",
   "execution_count": null,
   "id": "d57d44f5-f5e7-40eb-b39e-1bcf1839738e",
   "metadata": {},
   "outputs": [],
   "source": []
  }
 ],
 "metadata": {
  "kernelspec": {
   "display_name": "Python 3 (ipykernel)",
   "language": "python",
   "name": "python3"
  },
  "language_info": {
   "codemirror_mode": {
    "name": "ipython",
    "version": 3
   },
   "file_extension": ".py",
   "mimetype": "text/x-python",
   "name": "python",
   "nbconvert_exporter": "python",
   "pygments_lexer": "ipython3",
   "version": "3.10.12"
  }
 },
 "nbformat": 4,
 "nbformat_minor": 5
}
