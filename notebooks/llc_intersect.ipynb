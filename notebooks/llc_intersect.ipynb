{
 "cells": [
  {
   "cell_type": "markdown",
   "id": "bf3ce2f9-ead8-4406-971f-9dab5efb13e7",
   "metadata": {},
   "source": [
    "Train separate models on 0.4 iid training set sampled from each of G1 and G2; evaluate LLC on intersection of G1 and G2's multiplication tables"
   ]
  },
  {
   "cell_type": "code",
   "execution_count": 1,
   "id": "c23518de-6044-49c0-8385-3fc1d07e536d",
   "metadata": {},
   "outputs": [],
   "source": [
    "import sys\n",
    "import torch as t\n",
    "import numpy as np\n",
    "from matplotlib import pyplot as plt\n",
    "import json\n",
    "from itertools import product\n",
    "sys.path.append('/workspace/wilson/Finite-groups/src')\n",
    "from model import MLP3, MLP4, InstancedModule\n",
    "from utils import *\n",
    "from group_data import *\n",
    "from model_utils import *\n",
    "from group_utils import *\n",
    "from jaxtyping import Float\n",
    "from typing import Union\n",
    "from einops import repeat\n",
    "from torch.utils.data import DataLoader\n",
    "from tqdm.notebook import tqdm\n",
    "import plotly.graph_objects as go\n",
    "import copy\n",
    "import math\n",
    "from itertools import product\n",
    "from llc import *\n",
    "%load_ext autoreload\n",
    "%autoreload 2"
   ]
  },
  {
   "cell_type": "code",
   "execution_count": 2,
   "id": "228d863a-5bfa-439c-acff-4a7d1d871654",
   "metadata": {},
   "outputs": [],
   "source": [
    "llc_params = {\n",
    "    'eps': 8e-4,\n",
    "    'beta': 1e3,\n",
    "    'gamma': 1.,\n",
    "    'chains': 5,\n",
    "    'cbatch_size': 5,\n",
    "    'replacement': False,\n",
    "    'behavioral': True,\n",
    "    'epochs': 3000,\n",
    "}"
   ]
  },
  {
   "cell_type": "code",
   "execution_count": 14,
   "id": "46bfb7fa-202f-4932-bd9c-f9bd1daa16f1",
   "metadata": {},
   "outputs": [],
   "source": [
    "# paths = {\n",
    "#     'Z(48,2)': '/workspace/models/2024_07_31_03_48_41_Z_48_2__long',\n",
    "#     'twZ(48)': '/workspace/models/2024_07_31_04_29_56_twZ_48__long'\n",
    "# }\n",
    "# paths = {\n",
    "#     'S(5)': '/workspace/models/2024-08-12_20-25-17_S_5_',\n",
    "#     'times(A(5),Z(2))': '/workspace/models/2024-08-12_20-49-30_times_A_5__Z_2__',\n",
    "# }\n",
    "# paths = {\n",
    "#     'Z(100)': '/workspace/models/2024-08-12_21-54-36_Z_100_',\n",
    "#     'Z(50,2)': '/workspace/models/2024-08-12_21-58-28_Z_50_2_',\n",
    "# }\n",
    "paths = {\n",
    "    'abFam(5,7)[0]': '/workspace/models/2024-08-12_23-40-42_abFam_5_7__0_',\n",
    "    'abFam(5,7)[1]': '/workspace/models/2024-08-12_23-55-03_abFam_5_7__1_',\n",
    "}\n"
   ]
  },
  {
   "cell_type": "code",
   "execution_count": 15,
   "id": "887033a9-ec06-47d4-b3ea-298bfa3a9b2b",
   "metadata": {},
   "outputs": [
    {
     "name": "stdout",
     "output_type": "stream",
     "text": [
      "Found r=6 and s=34 of order 2\n",
      "Found r=6 and s=34 of order 2\n"
     ]
    }
   ],
   "source": [
    "model_dict = {}\n",
    "for k, path in paths.items():\n",
    "    models, params = load_models(path)\n",
    "    model_dict[k] = models[-1]"
   ]
  },
  {
   "cell_type": "code",
   "execution_count": 16,
   "id": "ce536b0b-4911-4864-b640-b697bb57f2b2",
   "metadata": {},
   "outputs": [
    {
     "name": "stdout",
     "output_type": "stream",
     "text": [
      "Found r=6 and s=34 of order 2\n",
      "Found r=6 and s=34 of order 2\n",
      "Intersection size: 2940/4900 (0.60)\n",
      "Added 2940 elements from intersection\n",
      "Added 0 elements from group 0: abFam(5,7)[0]\n",
      "Added 0 elements from group 1: abFam(5,7)[1]\n",
      "Train set size: 2940/4900 (0.60)\n"
     ]
    }
   ],
   "source": [
    "params.group_string = ';'.join(paths.keys())\n",
    "params.train_frac = 1.\n",
    "params.delta_frac = [0.] * len(model_dict)\n",
    "dataset = GroupData(params)"
   ]
  },
  {
   "cell_type": "code",
   "execution_count": 17,
   "id": "e3ba8eb4-845d-4c8d-880f-a38516cda677",
   "metadata": {},
   "outputs": [
    {
     "data": {
      "application/vnd.jupyter.widget-view+json": {
       "model_id": "dba4040ce8524938b4da807b9f407ce5",
       "version_major": 2,
       "version_minor": 0
      },
      "text/plain": [
       "SGLD:   0%|          | 0/3000 [00:00<?, ?it/s]"
      ]
     },
     "metadata": {},
     "output_type": "display_data"
    },
    {
     "data": {
      "application/vnd.jupyter.widget-view+json": {
       "model_id": "b5e8c26e48b3422995715bfaf154cea4",
       "version_major": 2,
       "version_minor": 0
      },
      "text/plain": [
       "SGLD:   0%|          | 0/3000 [00:00<?, ?it/s]"
      ]
     },
     "metadata": {},
     "output_type": "display_data"
    }
   ],
   "source": [
    "llc_dict = {k: get_llc(model.to(device), dataset, **llc_params)[0] for k, model in model_dict.items()}"
   ]
  },
  {
   "cell_type": "code",
   "execution_count": 18,
   "id": "9a0eca4f-1f9b-4b2f-afc5-273623bcdb9e",
   "metadata": {},
   "outputs": [],
   "source": [
    "loss_dict = {k: full_train_loss(model, dataset) for k, model in model_dict.items()}"
   ]
  },
  {
   "cell_type": "code",
   "execution_count": 19,
   "id": "33952fe1-6959-4d41-a5ff-fc534a436521",
   "metadata": {},
   "outputs": [],
   "source": [
    "min_llc = min([llc.min() for llc in llc_dict.values()]).item()\n",
    "max_llc = max([llc.max() for llc in llc_dict.values()]).item()\n",
    "min_loss = min([loss.min() for loss in loss_dict.values()]).item()\n",
    "max_loss = max([loss.max() for loss in loss_dict.values()]).item()"
   ]
  },
  {
   "cell_type": "code",
   "execution_count": 20,
   "id": "c9164c65-479d-435a-a821-7b92f6e62d1e",
   "metadata": {},
   "outputs": [
    {
     "data": {
      "text/plain": [
       "(1159.332763671875,\n",
       " 3677.515869140625,\n",
       " 0.027009079232811928,\n",
       " 0.28202390670776367)"
      ]
     },
     "execution_count": 20,
     "metadata": {},
     "output_type": "execute_result"
    }
   ],
   "source": [
    "min_llc, max_llc, min_loss, max_loss"
   ]
  },
  {
   "cell_type": "code",
   "execution_count": 21,
   "id": "43b80cc2-a76a-45f8-a50e-d7152360051d",
   "metadata": {},
   "outputs": [],
   "source": [
    "llc_xbins = dict(\n",
    "    start=min_llc,\n",
    "    end=max_llc,\n",
    "    size=100,\n",
    ")\n",
    "loss_xbins = dict(\n",
    "    start=min_loss,\n",
    "    end=max_loss,\n",
    "    size=1e-2,\n",
    ")\n",
    "llc_data = []\n",
    "loss_data = []\n",
    "colors = ['blue', 'red', 'green', 'orange', 'magenta', 'yellow']\n",
    "for color, (k, llc), (l, loss) in zip(colors, llc_dict.items(), loss_dict.items()):\n",
    "    llc_data.append(go.Histogram(\n",
    "        x=llc.tolist(),\n",
    "        opacity=0.5,\n",
    "        name=k,\n",
    "        marker=dict(color=color),\n",
    "        xbins=llc_xbins,\n",
    "    ))\n",
    "    loss_data.append(go.Histogram(\n",
    "        x=loss.tolist(),\n",
    "        opacity=0.5,\n",
    "        name=l,\n",
    "        marker=dict(color=color),\n",
    "        xbins=loss_xbins,\n",
    "    ))\n",
    "\n",
    "llc_layout = go.Layout(\n",
    "    title='intersect bLLCs',\n",
    "    barmode='overlay'\n",
    ")\n",
    "loss_layout = go.Layout(\n",
    "    title='intersect loss',\n",
    "    barmode='overlay'\n",
    ")\n",
    "llc_fig = go.Figure(data=llc_data, layout=llc_layout)\n",
    "loss_fig = go.Figure(data=loss_data, layout=loss_layout)"
   ]
  },
  {
   "cell_type": "code",
   "execution_count": 22,
   "id": "71dee72f-757e-488f-a704-2c29a812bcac",
   "metadata": {},
   "outputs": [
    {
     "data": {
      "application/vnd.plotly.v1+json": {
       "config": {
        "plotlyServerURL": "https://plot.ly"
       },
       "data": [
        {
         "marker": {
          "color": "blue"
         },
         "name": "abFam(5,7)[0]",
         "opacity": 0.5,
         "type": "histogram",
         "x": [
          1164.2725830078125,
          1252.259521484375,
          1393.3580322265625,
          1159.332763671875,
          1172.064208984375,
          1243.6513671875,
          1252.50732421875,
          1238.8468017578125,
          1170.78173828125,
          1175.0384521484375,
          1396.5438232421875,
          1387.344970703125,
          1336.935302734375,
          1423.9803466796875,
          1312.354736328125,
          1479.7938232421875,
          1323.9754638671875,
          1284.518310546875,
          1244.0086669921875,
          1314.3759765625,
          1332.0517578125,
          1294.2164306640625,
          1363.081298828125,
          1435.623046875,
          1396.123046875,
          1421.528076171875,
          1368.4971923828125,
          1262.0673828125,
          1275.6480712890625,
          1370.3206787109375,
          1452.89599609375,
          1391.0784912109375,
          1369.0499267578125,
          1239.15673828125,
          1398.8218994140625,
          1282.8857421875,
          1206.64208984375,
          1198.8197021484375,
          1330.9471435546875,
          1321.0498046875,
          1445.05859375,
          1208.0733642578125,
          1278.546142578125,
          1374.9373779296875,
          1240.548583984375,
          1252.1292724609375,
          1435.3970947265625,
          1219.6019287109375,
          1302.7703857421875,
          1450.3138427734375,
          1317.771484375,
          1202.361083984375,
          1205.6455078125,
          1163.2919921875,
          1398.52197265625,
          1206.7813720703125,
          1598.9254150390625,
          1388.47216796875,
          1186.4248046875,
          1166.8389892578125,
          1260.5047607421875,
          1259.532470703125,
          1184.5303955078125,
          1451.9271240234375,
          1301.498291015625,
          1461.05029296875,
          1486.3179931640625,
          1431.0618896484375,
          1427.2841796875,
          1199.954833984375,
          1493.0966796875,
          1403.293212890625,
          1297.3214111328125,
          1182.9326171875,
          1269.5185546875,
          1424.2529296875,
          1213.25439453125,
          1267.339111328125,
          1296.098876953125,
          1166.0025634765625,
          1379.766845703125,
          1265.6734619140625,
          1294.7720947265625,
          1247.727294921875,
          1410.9215087890625,
          1351.5205078125,
          1188.510986328125,
          1368.9180908203125,
          1386.3419189453125,
          1455.648193359375,
          1281.7125244140625,
          1365.766357421875,
          1271.64892578125,
          1248.2957763671875,
          1227.40966796875,
          1232.7716064453125,
          1358.2459716796875,
          1163.85986328125,
          1432.0831298828125,
          1306.9442138671875
         ],
         "xbins": {
          "end": 3677.515869140625,
          "size": 100,
          "start": 1159.332763671875
         }
        },
        {
         "marker": {
          "color": "red"
         },
         "name": "abFam(5,7)[1]",
         "opacity": 0.5,
         "type": "histogram",
         "x": [
          1630.9814453125,
          2045.2908935546875,
          2287.595947265625,
          1867.341796875,
          2373.01171875,
          1860.9549560546875,
          1682.7303466796875,
          2511.330078125,
          3347.69091796875,
          1595.5675048828125,
          3014.49853515625,
          2537.852783203125,
          3070.796142578125,
          1878.6641845703125,
          3152.176025390625,
          3425.452880859375,
          2226.882568359375,
          1479.4366455078125,
          1651.4700927734375,
          1647.884765625,
          3636.427978515625,
          2030.484619140625,
          2492.83740234375,
          2367.845947265625,
          1819.631591796875,
          3280.052978515625,
          2027.8792724609375,
          1699.2977294921875,
          1501.7994384765625,
          1947.5350341796875,
          3431.757080078125,
          2802.8740234375,
          1862.7679443359375,
          2856.05078125,
          1838.220703125,
          1452.522216796875,
          1685.0721435546875,
          2953.358642578125,
          2581.062744140625,
          1932.5264892578125,
          2004.9068603515625,
          2019.92041015625,
          2032.7513427734375,
          3205.560791015625,
          3422.380859375,
          2603.681396484375,
          1713.9451904296875,
          2077.24267578125,
          1757.7894287109375,
          3030.704833984375,
          1757.89990234375,
          1565.586669921875,
          3676.91943359375,
          2373.566650390625,
          2746.63818359375,
          1975.0509033203125,
          3677.515869140625,
          3449.6591796875,
          1819.546142578125,
          2128.368408203125,
          1571.2017822265625,
          3350.376953125,
          3402.496337890625,
          2538.8671875,
          2302.62744140625,
          2534.27099609375,
          2604.172607421875,
          3333.02294921875,
          1893.2589111328125,
          2678.259521484375,
          2110.876220703125,
          1697.646240234375,
          2832.652587890625,
          2033.1651611328125,
          1857.830078125,
          3657.409423828125,
          3300.27734375,
          2890.753662109375,
          1875.962158203125,
          2399.78271484375,
          2904.6328125,
          1897.9024658203125,
          2126.408935546875,
          2819.6689453125,
          2258.557373046875,
          1488.7164306640625,
          1716.3419189453125,
          2459.84619140625,
          1785.7369384765625,
          2558.55615234375,
          1737.2127685546875,
          2309.7060546875,
          2533.796142578125,
          2502.37109375,
          2910.483154296875,
          3619.503173828125,
          3369.4443359375,
          3074.138671875,
          3001.8671875,
          2021.7210693359375
         ],
         "xbins": {
          "end": 3677.515869140625,
          "size": 100,
          "start": 1159.332763671875
         }
        }
       ],
       "layout": {
        "autosize": true,
        "barmode": "overlay",
        "template": {
         "data": {
          "bar": [
           {
            "error_x": {
             "color": "#2a3f5f"
            },
            "error_y": {
             "color": "#2a3f5f"
            },
            "marker": {
             "line": {
              "color": "#E5ECF6",
              "width": 0.5
             },
             "pattern": {
              "fillmode": "overlay",
              "size": 10,
              "solidity": 0.2
             }
            },
            "type": "bar"
           }
          ],
          "barpolar": [
           {
            "marker": {
             "line": {
              "color": "#E5ECF6",
              "width": 0.5
             },
             "pattern": {
              "fillmode": "overlay",
              "size": 10,
              "solidity": 0.2
             }
            },
            "type": "barpolar"
           }
          ],
          "carpet": [
           {
            "aaxis": {
             "endlinecolor": "#2a3f5f",
             "gridcolor": "white",
             "linecolor": "white",
             "minorgridcolor": "white",
             "startlinecolor": "#2a3f5f"
            },
            "baxis": {
             "endlinecolor": "#2a3f5f",
             "gridcolor": "white",
             "linecolor": "white",
             "minorgridcolor": "white",
             "startlinecolor": "#2a3f5f"
            },
            "type": "carpet"
           }
          ],
          "choropleth": [
           {
            "colorbar": {
             "outlinewidth": 0,
             "ticks": ""
            },
            "type": "choropleth"
           }
          ],
          "contour": [
           {
            "colorbar": {
             "outlinewidth": 0,
             "ticks": ""
            },
            "colorscale": [
             [
              0,
              "#0d0887"
             ],
             [
              0.1111111111111111,
              "#46039f"
             ],
             [
              0.2222222222222222,
              "#7201a8"
             ],
             [
              0.3333333333333333,
              "#9c179e"
             ],
             [
              0.4444444444444444,
              "#bd3786"
             ],
             [
              0.5555555555555556,
              "#d8576b"
             ],
             [
              0.6666666666666666,
              "#ed7953"
             ],
             [
              0.7777777777777778,
              "#fb9f3a"
             ],
             [
              0.8888888888888888,
              "#fdca26"
             ],
             [
              1,
              "#f0f921"
             ]
            ],
            "type": "contour"
           }
          ],
          "contourcarpet": [
           {
            "colorbar": {
             "outlinewidth": 0,
             "ticks": ""
            },
            "type": "contourcarpet"
           }
          ],
          "heatmap": [
           {
            "colorbar": {
             "outlinewidth": 0,
             "ticks": ""
            },
            "colorscale": [
             [
              0,
              "#0d0887"
             ],
             [
              0.1111111111111111,
              "#46039f"
             ],
             [
              0.2222222222222222,
              "#7201a8"
             ],
             [
              0.3333333333333333,
              "#9c179e"
             ],
             [
              0.4444444444444444,
              "#bd3786"
             ],
             [
              0.5555555555555556,
              "#d8576b"
             ],
             [
              0.6666666666666666,
              "#ed7953"
             ],
             [
              0.7777777777777778,
              "#fb9f3a"
             ],
             [
              0.8888888888888888,
              "#fdca26"
             ],
             [
              1,
              "#f0f921"
             ]
            ],
            "type": "heatmap"
           }
          ],
          "heatmapgl": [
           {
            "colorbar": {
             "outlinewidth": 0,
             "ticks": ""
            },
            "colorscale": [
             [
              0,
              "#0d0887"
             ],
             [
              0.1111111111111111,
              "#46039f"
             ],
             [
              0.2222222222222222,
              "#7201a8"
             ],
             [
              0.3333333333333333,
              "#9c179e"
             ],
             [
              0.4444444444444444,
              "#bd3786"
             ],
             [
              0.5555555555555556,
              "#d8576b"
             ],
             [
              0.6666666666666666,
              "#ed7953"
             ],
             [
              0.7777777777777778,
              "#fb9f3a"
             ],
             [
              0.8888888888888888,
              "#fdca26"
             ],
             [
              1,
              "#f0f921"
             ]
            ],
            "type": "heatmapgl"
           }
          ],
          "histogram": [
           {
            "marker": {
             "pattern": {
              "fillmode": "overlay",
              "size": 10,
              "solidity": 0.2
             }
            },
            "type": "histogram"
           }
          ],
          "histogram2d": [
           {
            "colorbar": {
             "outlinewidth": 0,
             "ticks": ""
            },
            "colorscale": [
             [
              0,
              "#0d0887"
             ],
             [
              0.1111111111111111,
              "#46039f"
             ],
             [
              0.2222222222222222,
              "#7201a8"
             ],
             [
              0.3333333333333333,
              "#9c179e"
             ],
             [
              0.4444444444444444,
              "#bd3786"
             ],
             [
              0.5555555555555556,
              "#d8576b"
             ],
             [
              0.6666666666666666,
              "#ed7953"
             ],
             [
              0.7777777777777778,
              "#fb9f3a"
             ],
             [
              0.8888888888888888,
              "#fdca26"
             ],
             [
              1,
              "#f0f921"
             ]
            ],
            "type": "histogram2d"
           }
          ],
          "histogram2dcontour": [
           {
            "colorbar": {
             "outlinewidth": 0,
             "ticks": ""
            },
            "colorscale": [
             [
              0,
              "#0d0887"
             ],
             [
              0.1111111111111111,
              "#46039f"
             ],
             [
              0.2222222222222222,
              "#7201a8"
             ],
             [
              0.3333333333333333,
              "#9c179e"
             ],
             [
              0.4444444444444444,
              "#bd3786"
             ],
             [
              0.5555555555555556,
              "#d8576b"
             ],
             [
              0.6666666666666666,
              "#ed7953"
             ],
             [
              0.7777777777777778,
              "#fb9f3a"
             ],
             [
              0.8888888888888888,
              "#fdca26"
             ],
             [
              1,
              "#f0f921"
             ]
            ],
            "type": "histogram2dcontour"
           }
          ],
          "mesh3d": [
           {
            "colorbar": {
             "outlinewidth": 0,
             "ticks": ""
            },
            "type": "mesh3d"
           }
          ],
          "parcoords": [
           {
            "line": {
             "colorbar": {
              "outlinewidth": 0,
              "ticks": ""
             }
            },
            "type": "parcoords"
           }
          ],
          "pie": [
           {
            "automargin": true,
            "type": "pie"
           }
          ],
          "scatter": [
           {
            "fillpattern": {
             "fillmode": "overlay",
             "size": 10,
             "solidity": 0.2
            },
            "type": "scatter"
           }
          ],
          "scatter3d": [
           {
            "line": {
             "colorbar": {
              "outlinewidth": 0,
              "ticks": ""
             }
            },
            "marker": {
             "colorbar": {
              "outlinewidth": 0,
              "ticks": ""
             }
            },
            "type": "scatter3d"
           }
          ],
          "scattercarpet": [
           {
            "marker": {
             "colorbar": {
              "outlinewidth": 0,
              "ticks": ""
             }
            },
            "type": "scattercarpet"
           }
          ],
          "scattergeo": [
           {
            "marker": {
             "colorbar": {
              "outlinewidth": 0,
              "ticks": ""
             }
            },
            "type": "scattergeo"
           }
          ],
          "scattergl": [
           {
            "marker": {
             "colorbar": {
              "outlinewidth": 0,
              "ticks": ""
             }
            },
            "type": "scattergl"
           }
          ],
          "scattermapbox": [
           {
            "marker": {
             "colorbar": {
              "outlinewidth": 0,
              "ticks": ""
             }
            },
            "type": "scattermapbox"
           }
          ],
          "scatterpolar": [
           {
            "marker": {
             "colorbar": {
              "outlinewidth": 0,
              "ticks": ""
             }
            },
            "type": "scatterpolar"
           }
          ],
          "scatterpolargl": [
           {
            "marker": {
             "colorbar": {
              "outlinewidth": 0,
              "ticks": ""
             }
            },
            "type": "scatterpolargl"
           }
          ],
          "scatterternary": [
           {
            "marker": {
             "colorbar": {
              "outlinewidth": 0,
              "ticks": ""
             }
            },
            "type": "scatterternary"
           }
          ],
          "surface": [
           {
            "colorbar": {
             "outlinewidth": 0,
             "ticks": ""
            },
            "colorscale": [
             [
              0,
              "#0d0887"
             ],
             [
              0.1111111111111111,
              "#46039f"
             ],
             [
              0.2222222222222222,
              "#7201a8"
             ],
             [
              0.3333333333333333,
              "#9c179e"
             ],
             [
              0.4444444444444444,
              "#bd3786"
             ],
             [
              0.5555555555555556,
              "#d8576b"
             ],
             [
              0.6666666666666666,
              "#ed7953"
             ],
             [
              0.7777777777777778,
              "#fb9f3a"
             ],
             [
              0.8888888888888888,
              "#fdca26"
             ],
             [
              1,
              "#f0f921"
             ]
            ],
            "type": "surface"
           }
          ],
          "table": [
           {
            "cells": {
             "fill": {
              "color": "#EBF0F8"
             },
             "line": {
              "color": "white"
             }
            },
            "header": {
             "fill": {
              "color": "#C8D4E3"
             },
             "line": {
              "color": "white"
             }
            },
            "type": "table"
           }
          ]
         },
         "layout": {
          "annotationdefaults": {
           "arrowcolor": "#2a3f5f",
           "arrowhead": 0,
           "arrowwidth": 1
          },
          "autotypenumbers": "strict",
          "coloraxis": {
           "colorbar": {
            "outlinewidth": 0,
            "ticks": ""
           }
          },
          "colorscale": {
           "diverging": [
            [
             0,
             "#8e0152"
            ],
            [
             0.1,
             "#c51b7d"
            ],
            [
             0.2,
             "#de77ae"
            ],
            [
             0.3,
             "#f1b6da"
            ],
            [
             0.4,
             "#fde0ef"
            ],
            [
             0.5,
             "#f7f7f7"
            ],
            [
             0.6,
             "#e6f5d0"
            ],
            [
             0.7,
             "#b8e186"
            ],
            [
             0.8,
             "#7fbc41"
            ],
            [
             0.9,
             "#4d9221"
            ],
            [
             1,
             "#276419"
            ]
           ],
           "sequential": [
            [
             0,
             "#0d0887"
            ],
            [
             0.1111111111111111,
             "#46039f"
            ],
            [
             0.2222222222222222,
             "#7201a8"
            ],
            [
             0.3333333333333333,
             "#9c179e"
            ],
            [
             0.4444444444444444,
             "#bd3786"
            ],
            [
             0.5555555555555556,
             "#d8576b"
            ],
            [
             0.6666666666666666,
             "#ed7953"
            ],
            [
             0.7777777777777778,
             "#fb9f3a"
            ],
            [
             0.8888888888888888,
             "#fdca26"
            ],
            [
             1,
             "#f0f921"
            ]
           ],
           "sequentialminus": [
            [
             0,
             "#0d0887"
            ],
            [
             0.1111111111111111,
             "#46039f"
            ],
            [
             0.2222222222222222,
             "#7201a8"
            ],
            [
             0.3333333333333333,
             "#9c179e"
            ],
            [
             0.4444444444444444,
             "#bd3786"
            ],
            [
             0.5555555555555556,
             "#d8576b"
            ],
            [
             0.6666666666666666,
             "#ed7953"
            ],
            [
             0.7777777777777778,
             "#fb9f3a"
            ],
            [
             0.8888888888888888,
             "#fdca26"
            ],
            [
             1,
             "#f0f921"
            ]
           ]
          },
          "colorway": [
           "#636efa",
           "#EF553B",
           "#00cc96",
           "#ab63fa",
           "#FFA15A",
           "#19d3f3",
           "#FF6692",
           "#B6E880",
           "#FF97FF",
           "#FECB52"
          ],
          "font": {
           "color": "#2a3f5f"
          },
          "geo": {
           "bgcolor": "white",
           "lakecolor": "white",
           "landcolor": "#E5ECF6",
           "showlakes": true,
           "showland": true,
           "subunitcolor": "white"
          },
          "hoverlabel": {
           "align": "left"
          },
          "hovermode": "closest",
          "mapbox": {
           "style": "light"
          },
          "paper_bgcolor": "white",
          "plot_bgcolor": "#E5ECF6",
          "polar": {
           "angularaxis": {
            "gridcolor": "white",
            "linecolor": "white",
            "ticks": ""
           },
           "bgcolor": "#E5ECF6",
           "radialaxis": {
            "gridcolor": "white",
            "linecolor": "white",
            "ticks": ""
           }
          },
          "scene": {
           "xaxis": {
            "backgroundcolor": "#E5ECF6",
            "gridcolor": "white",
            "gridwidth": 2,
            "linecolor": "white",
            "showbackground": true,
            "ticks": "",
            "zerolinecolor": "white"
           },
           "yaxis": {
            "backgroundcolor": "#E5ECF6",
            "gridcolor": "white",
            "gridwidth": 2,
            "linecolor": "white",
            "showbackground": true,
            "ticks": "",
            "zerolinecolor": "white"
           },
           "zaxis": {
            "backgroundcolor": "#E5ECF6",
            "gridcolor": "white",
            "gridwidth": 2,
            "linecolor": "white",
            "showbackground": true,
            "ticks": "",
            "zerolinecolor": "white"
           }
          },
          "shapedefaults": {
           "line": {
            "color": "#2a3f5f"
           }
          },
          "ternary": {
           "aaxis": {
            "gridcolor": "white",
            "linecolor": "white",
            "ticks": ""
           },
           "baxis": {
            "gridcolor": "white",
            "linecolor": "white",
            "ticks": ""
           },
           "bgcolor": "#E5ECF6",
           "caxis": {
            "gridcolor": "white",
            "linecolor": "white",
            "ticks": ""
           }
          },
          "title": {
           "x": 0.05
          },
          "xaxis": {
           "automargin": true,
           "gridcolor": "white",
           "linecolor": "white",
           "ticks": "",
           "title": {
            "standoff": 15
           },
           "zerolinecolor": "white",
           "zerolinewidth": 2
          },
          "yaxis": {
           "automargin": true,
           "gridcolor": "white",
           "linecolor": "white",
           "ticks": "",
           "title": {
            "standoff": 15
           },
           "zerolinecolor": "white",
           "zerolinewidth": 2
          }
         }
        },
        "title": {
         "text": "intersect bLLCs"
        },
        "xaxis": {
         "autorange": true,
         "range": [
          1159.332763671875,
          3759.332763671875
         ],
         "type": "linear"
        },
        "yaxis": {
         "autorange": true,
         "range": [
          0,
          35.78947368421053
         ]
        }
       }
      },
      "image/png": "[encoded data removed]",
      "text/html": [
       "<div>                            <div id=\"ebe631f4-a716-4613-a262-85e3db5f6ac2\" class=\"plotly-graph-div\" style=\"height:525px; width:100%;\"></div>            <script type=\"text/javascript\">                require([\"plotly\"], function(Plotly) {                    window.PLOTLYENV=window.PLOTLYENV || {};                                    if (document.getElementById(\"ebe631f4-a716-4613-a262-85e3db5f6ac2\")) {                    Plotly.newPlot(                        \"ebe631f4-a716-4613-a262-85e3db5f6ac2\",                        [{\"marker\":{\"color\":\"blue\"},\"name\":\"abFam(5,7)[0]\",\"opacity\":0.5,\"x\":[1164.2725830078125,1252.259521484375,1393.3580322265625,1159.332763671875,1172.064208984375,1243.6513671875,1252.50732421875,1238.8468017578125,1170.78173828125,1175.0384521484375,1396.5438232421875,1387.344970703125,1336.935302734375,1423.9803466796875,1312.354736328125,1479.7938232421875,1323.9754638671875,1284.518310546875,1244.0086669921875,1314.3759765625,1332.0517578125,1294.2164306640625,1363.081298828125,1435.623046875,1396.123046875,1421.528076171875,1368.4971923828125,1262.0673828125,1275.6480712890625,1370.3206787109375,1452.89599609375,1391.0784912109375,1369.0499267578125,1239.15673828125,1398.8218994140625,1282.8857421875,1206.64208984375,1198.8197021484375,1330.9471435546875,1321.0498046875,1445.05859375,1208.0733642578125,1278.546142578125,1374.9373779296875,1240.548583984375,1252.1292724609375,1435.3970947265625,1219.6019287109375,1302.7703857421875,1450.3138427734375,1317.771484375,1202.361083984375,1205.6455078125,1163.2919921875,1398.52197265625,1206.7813720703125,1598.9254150390625,1388.47216796875,1186.4248046875,1166.8389892578125,1260.5047607421875,1259.532470703125,1184.5303955078125,1451.9271240234375,1301.498291015625,1461.05029296875,1486.3179931640625,1431.0618896484375,1427.2841796875,1199.954833984375,1493.0966796875,1403.293212890625,1297.3214111328125,1182.9326171875,1269.5185546875,1424.2529296875,1213.25439453125,1267.339111328125,1296.098876953125,1166.0025634765625,1379.766845703125,1265.6734619140625,1294.7720947265625,1247.727294921875,1410.9215087890625,1351.5205078125,1188.510986328125,1368.9180908203125,1386.3419189453125,1455.648193359375,1281.7125244140625,1365.766357421875,1271.64892578125,1248.2957763671875,1227.40966796875,1232.7716064453125,1358.2459716796875,1163.85986328125,1432.0831298828125,1306.9442138671875],\"xbins\":{\"end\":3677.515869140625,\"size\":100,\"start\":1159.332763671875},\"type\":\"histogram\"},{\"marker\":{\"color\":\"red\"},\"name\":\"abFam(5,7)[1]\",\"opacity\":0.5,\"x\":[1630.9814453125,2045.2908935546875,2287.595947265625,1867.341796875,2373.01171875,1860.9549560546875,1682.7303466796875,2511.330078125,3347.69091796875,1595.5675048828125,3014.49853515625,2537.852783203125,3070.796142578125,1878.6641845703125,3152.176025390625,3425.452880859375,2226.882568359375,1479.4366455078125,1651.4700927734375,1647.884765625,3636.427978515625,2030.484619140625,2492.83740234375,2367.845947265625,1819.631591796875,3280.052978515625,2027.8792724609375,1699.2977294921875,1501.7994384765625,1947.5350341796875,3431.757080078125,2802.8740234375,1862.7679443359375,2856.05078125,1838.220703125,1452.522216796875,1685.0721435546875,2953.358642578125,2581.062744140625,1932.5264892578125,2004.9068603515625,2019.92041015625,2032.7513427734375,3205.560791015625,3422.380859375,2603.681396484375,1713.9451904296875,2077.24267578125,1757.7894287109375,3030.704833984375,1757.89990234375,1565.586669921875,3676.91943359375,2373.566650390625,2746.63818359375,1975.0509033203125,3677.515869140625,3449.6591796875,1819.546142578125,2128.368408203125,1571.2017822265625,3350.376953125,3402.496337890625,2538.8671875,2302.62744140625,2534.27099609375,2604.172607421875,3333.02294921875,1893.2589111328125,2678.259521484375,2110.876220703125,1697.646240234375,2832.652587890625,2033.1651611328125,1857.830078125,3657.409423828125,3300.27734375,2890.753662109375,1875.962158203125,2399.78271484375,2904.6328125,1897.9024658203125,2126.408935546875,2819.6689453125,2258.557373046875,1488.7164306640625,1716.3419189453125,2459.84619140625,1785.7369384765625,2558.55615234375,1737.2127685546875,2309.7060546875,2533.796142578125,2502.37109375,2910.483154296875,3619.503173828125,3369.4443359375,3074.138671875,3001.8671875,2021.7210693359375],\"xbins\":{\"end\":3677.515869140625,\"size\":100,\"start\":1159.332763671875},\"type\":\"histogram\"}],                        {\"barmode\":\"overlay\",\"title\":{\"text\":\"intersect bLLCs\"},\"template\":{\"data\":{\"histogram2dcontour\":[{\"type\":\"histogram2dcontour\",\"colorbar\":{\"outlinewidth\":0,\"ticks\":\"\"},\"colorscale\":[[0.0,\"#0d0887\"],[0.1111111111111111,\"#46039f\"],[0.2222222222222222,\"#7201a8\"],[0.3333333333333333,\"#9c179e\"],[0.4444444444444444,\"#bd3786\"],[0.5555555555555556,\"#d8576b\"],[0.6666666666666666,\"#ed7953\"],[0.7777777777777778,\"#fb9f3a\"],[0.8888888888888888,\"#fdca26\"],[1.0,\"#f0f921\"]]}],\"choropleth\":[{\"type\":\"choropleth\",\"colorbar\":{\"outlinewidth\":0,\"ticks\":\"\"}}],\"histogram2d\":[{\"type\":\"histogram2d\",\"colorbar\":{\"outlinewidth\":0,\"ticks\":\"\"},\"colorscale\":[[0.0,\"#0d0887\"],[0.1111111111111111,\"#46039f\"],[0.2222222222222222,\"#7201a8\"],[0.3333333333333333,\"#9c179e\"],[0.4444444444444444,\"#bd3786\"],[0.5555555555555556,\"#d8576b\"],[0.6666666666666666,\"#ed7953\"],[0.7777777777777778,\"#fb9f3a\"],[0.8888888888888888,\"#fdca26\"],[1.0,\"#f0f921\"]]}],\"heatmap\":[{\"type\":\"heatmap\",\"colorbar\":{\"outlinewidth\":0,\"ticks\":\"\"},\"colorscale\":[[0.0,\"#0d0887\"],[0.1111111111111111,\"#46039f\"],[0.2222222222222222,\"#7201a8\"],[0.3333333333333333,\"#9c179e\"],[0.4444444444444444,\"#bd3786\"],[0.5555555555555556,\"#d8576b\"],[0.6666666666666666,\"#ed7953\"],[0.7777777777777778,\"#fb9f3a\"],[0.8888888888888888,\"#fdca26\"],[1.0,\"#f0f921\"]]}],\"heatmapgl\":[{\"type\":\"heatmapgl\",\"colorbar\":{\"outlinewidth\":0,\"ticks\":\"\"},\"colorscale\":[[0.0,\"#0d0887\"],[0.1111111111111111,\"#46039f\"],[0.2222222222222222,\"#7201a8\"],[0.3333333333333333,\"#9c179e\"],[0.4444444444444444,\"#bd3786\"],[0.5555555555555556,\"#d8576b\"],[0.6666666666666666,\"#ed7953\"],[0.7777777777777778,\"#fb9f3a\"],[0.8888888888888888,\"#fdca26\"],[1.0,\"#f0f921\"]]}],\"contourcarpet\":[{\"type\":\"contourcarpet\",\"colorbar\":{\"outlinewidth\":0,\"ticks\":\"\"}}],\"contour\":[{\"type\":\"contour\",\"colorbar\":{\"outlinewidth\":0,\"ticks\":\"\"},\"colorscale\":[[0.0,\"#0d0887\"],[0.1111111111111111,\"#46039f\"],[0.2222222222222222,\"#7201a8\"],[0.3333333333333333,\"#9c179e\"],[0.4444444444444444,\"#bd3786\"],[0.5555555555555556,\"#d8576b\"],[0.6666666666666666,\"#ed7953\"],[0.7777777777777778,\"#fb9f3a\"],[0.8888888888888888,\"#fdca26\"],[1.0,\"#f0f921\"]]}],\"surface\":[{\"type\":\"surface\",\"colorbar\":{\"outlinewidth\":0,\"ticks\":\"\"},\"colorscale\":[[0.0,\"#0d0887\"],[0.1111111111111111,\"#46039f\"],[0.2222222222222222,\"#7201a8\"],[0.3333333333333333,\"#9c179e\"],[0.4444444444444444,\"#bd3786\"],[0.5555555555555556,\"#d8576b\"],[0.6666666666666666,\"#ed7953\"],[0.7777777777777778,\"#fb9f3a\"],[0.8888888888888888,\"#fdca26\"],[1.0,\"#f0f921\"]]}],\"mesh3d\":[{\"type\":\"mesh3d\",\"colorbar\":{\"outlinewidth\":0,\"ticks\":\"\"}}],\"scatter\":[{\"fillpattern\":{\"fillmode\":\"overlay\",\"size\":10,\"solidity\":0.2},\"type\":\"scatter\"}],\"parcoords\":[{\"type\":\"parcoords\",\"line\":{\"colorbar\":{\"outlinewidth\":0,\"ticks\":\"\"}}}],\"scatterpolargl\":[{\"type\":\"scatterpolargl\",\"marker\":{\"colorbar\":{\"outlinewidth\":0,\"ticks\":\"\"}}}],\"bar\":[{\"error_x\":{\"color\":\"#2a3f5f\"},\"error_y\":{\"color\":\"#2a3f5f\"},\"marker\":{\"line\":{\"color\":\"#E5ECF6\",\"width\":0.5},\"pattern\":{\"fillmode\":\"overlay\",\"size\":10,\"solidity\":0.2}},\"type\":\"bar\"}],\"scattergeo\":[{\"type\":\"scattergeo\",\"marker\":{\"colorbar\":{\"outlinewidth\":0,\"ticks\":\"\"}}}],\"scatterpolar\":[{\"type\":\"scatterpolar\",\"marker\":{\"colorbar\":{\"outlinewidth\":0,\"ticks\":\"\"}}}],\"histogram\":[{\"marker\":{\"pattern\":{\"fillmode\":\"overlay\",\"size\":10,\"solidity\":0.2}},\"type\":\"histogram\"}],\"scattergl\":[{\"type\":\"scattergl\",\"marker\":{\"colorbar\":{\"outlinewidth\":0,\"ticks\":\"\"}}}],\"scatter3d\":[{\"type\":\"scatter3d\",\"line\":{\"colorbar\":{\"outlinewidth\":0,\"ticks\":\"\"}},\"marker\":{\"colorbar\":{\"outlinewidth\":0,\"ticks\":\"\"}}}],\"scattermapbox\":[{\"type\":\"scattermapbox\",\"marker\":{\"colorbar\":{\"outlinewidth\":0,\"ticks\":\"\"}}}],\"scatterternary\":[{\"type\":\"scatterternary\",\"marker\":{\"colorbar\":{\"outlinewidth\":0,\"ticks\":\"\"}}}],\"scattercarpet\":[{\"type\":\"scattercarpet\",\"marker\":{\"colorbar\":{\"outlinewidth\":0,\"ticks\":\"\"}}}],\"carpet\":[{\"aaxis\":{\"endlinecolor\":\"#2a3f5f\",\"gridcolor\":\"white\",\"linecolor\":\"white\",\"minorgridcolor\":\"white\",\"startlinecolor\":\"#2a3f5f\"},\"baxis\":{\"endlinecolor\":\"#2a3f5f\",\"gridcolor\":\"white\",\"linecolor\":\"white\",\"minorgridcolor\":\"white\",\"startlinecolor\":\"#2a3f5f\"},\"type\":\"carpet\"}],\"table\":[{\"cells\":{\"fill\":{\"color\":\"#EBF0F8\"},\"line\":{\"color\":\"white\"}},\"header\":{\"fill\":{\"color\":\"#C8D4E3\"},\"line\":{\"color\":\"white\"}},\"type\":\"table\"}],\"barpolar\":[{\"marker\":{\"line\":{\"color\":\"#E5ECF6\",\"width\":0.5},\"pattern\":{\"fillmode\":\"overlay\",\"size\":10,\"solidity\":0.2}},\"type\":\"barpolar\"}],\"pie\":[{\"automargin\":true,\"type\":\"pie\"}]},\"layout\":{\"autotypenumbers\":\"strict\",\"colorway\":[\"#636efa\",\"#EF553B\",\"#00cc96\",\"#ab63fa\",\"#FFA15A\",\"#19d3f3\",\"#FF6692\",\"#B6E880\",\"#FF97FF\",\"#FECB52\"],\"font\":{\"color\":\"#2a3f5f\"},\"hovermode\":\"closest\",\"hoverlabel\":{\"align\":\"left\"},\"paper_bgcolor\":\"white\",\"plot_bgcolor\":\"#E5ECF6\",\"polar\":{\"bgcolor\":\"#E5ECF6\",\"angularaxis\":{\"gridcolor\":\"white\",\"linecolor\":\"white\",\"ticks\":\"\"},\"radialaxis\":{\"gridcolor\":\"white\",\"linecolor\":\"white\",\"ticks\":\"\"}},\"ternary\":{\"bgcolor\":\"#E5ECF6\",\"aaxis\":{\"gridcolor\":\"white\",\"linecolor\":\"white\",\"ticks\":\"\"},\"baxis\":{\"gridcolor\":\"white\",\"linecolor\":\"white\",\"ticks\":\"\"},\"caxis\":{\"gridcolor\":\"white\",\"linecolor\":\"white\",\"ticks\":\"\"}},\"coloraxis\":{\"colorbar\":{\"outlinewidth\":0,\"ticks\":\"\"}},\"colorscale\":{\"sequential\":[[0.0,\"#0d0887\"],[0.1111111111111111,\"#46039f\"],[0.2222222222222222,\"#7201a8\"],[0.3333333333333333,\"#9c179e\"],[0.4444444444444444,\"#bd3786\"],[0.5555555555555556,\"#d8576b\"],[0.6666666666666666,\"#ed7953\"],[0.7777777777777778,\"#fb9f3a\"],[0.8888888888888888,\"#fdca26\"],[1.0,\"#f0f921\"]],\"sequentialminus\":[[0.0,\"#0d0887\"],[0.1111111111111111,\"#46039f\"],[0.2222222222222222,\"#7201a8\"],[0.3333333333333333,\"#9c179e\"],[0.4444444444444444,\"#bd3786\"],[0.5555555555555556,\"#d8576b\"],[0.6666666666666666,\"#ed7953\"],[0.7777777777777778,\"#fb9f3a\"],[0.8888888888888888,\"#fdca26\"],[1.0,\"#f0f921\"]],\"diverging\":[[0,\"#8e0152\"],[0.1,\"#c51b7d\"],[0.2,\"#de77ae\"],[0.3,\"#f1b6da\"],[0.4,\"#fde0ef\"],[0.5,\"#f7f7f7\"],[0.6,\"#e6f5d0\"],[0.7,\"#b8e186\"],[0.8,\"#7fbc41\"],[0.9,\"#4d9221\"],[1,\"#276419\"]]},\"xaxis\":{\"gridcolor\":\"white\",\"linecolor\":\"white\",\"ticks\":\"\",\"title\":{\"standoff\":15},\"zerolinecolor\":\"white\",\"automargin\":true,\"zerolinewidth\":2},\"yaxis\":{\"gridcolor\":\"white\",\"linecolor\":\"white\",\"ticks\":\"\",\"title\":{\"standoff\":15},\"zerolinecolor\":\"white\",\"automargin\":true,\"zerolinewidth\":2},\"scene\":{\"xaxis\":{\"backgroundcolor\":\"#E5ECF6\",\"gridcolor\":\"white\",\"linecolor\":\"white\",\"showbackground\":true,\"ticks\":\"\",\"zerolinecolor\":\"white\",\"gridwidth\":2},\"yaxis\":{\"backgroundcolor\":\"#E5ECF6\",\"gridcolor\":\"white\",\"linecolor\":\"white\",\"showbackground\":true,\"ticks\":\"\",\"zerolinecolor\":\"white\",\"gridwidth\":2},\"zaxis\":{\"backgroundcolor\":\"#E5ECF6\",\"gridcolor\":\"white\",\"linecolor\":\"white\",\"showbackground\":true,\"ticks\":\"\",\"zerolinecolor\":\"white\",\"gridwidth\":2}},\"shapedefaults\":{\"line\":{\"color\":\"#2a3f5f\"}},\"annotationdefaults\":{\"arrowcolor\":\"#2a3f5f\",\"arrowhead\":0,\"arrowwidth\":1},\"geo\":{\"bgcolor\":\"white\",\"landcolor\":\"#E5ECF6\",\"subunitcolor\":\"white\",\"showland\":true,\"showlakes\":true,\"lakecolor\":\"white\"},\"title\":{\"x\":0.05},\"mapbox\":{\"style\":\"light\"}}}},                        {\"responsive\": true}                    ).then(function(){\n",
       "                            \n",
       "var gd = document.getElementById('ebe631f4-a716-4613-a262-85e3db5f6ac2');\n",
       "var x = new MutationObserver(function (mutations, observer) {{\n",
       "        var display = window.getComputedStyle(gd).display;\n",
       "        if (!display || display === 'none') {{\n",
       "            console.log([gd, 'removed!']);\n",
       "            Plotly.purge(gd);\n",
       "            observer.disconnect();\n",
       "        }}\n",
       "}});\n",
       "\n",
       "// Listen for the removal of the full notebook cells\n",
       "var notebookContainer = gd.closest('#notebook-container');\n",
       "if (notebookContainer) {{\n",
       "    x.observe(notebookContainer, {childList: true});\n",
       "}}\n",
       "\n",
       "// Listen for the clearing of the current output cell\n",
       "var outputEl = gd.closest('.output');\n",
       "if (outputEl) {{\n",
       "    x.observe(outputEl, {childList: true});\n",
       "}}\n",
       "\n",
       "                        })                };                });            </script>        </div>"
      ]
     },
     "metadata": {},
     "output_type": "display_data"
    }
   ],
   "source": [
    "llc_fig.show()"
   ]
  },
  {
   "cell_type": "code",
   "execution_count": 23,
   "id": "e74829e5-2848-416f-b9d8-de2d62fa5d90",
   "metadata": {},
   "outputs": [
    {
     "data": {
      "application/vnd.plotly.v1+json": {
       "config": {
        "plotlyServerURL": "https://plot.ly"
       },
       "data": [
        {
         "marker": {
          "color": "blue"
         },
         "name": "abFam(5,7)[0]",
         "opacity": 0.5,
         "type": "histogram",
         "x": [
          0.033091817051172256,
          0.056598056107759476,
          0.03448036313056946,
          0.029587410390377045,
          0.029822340235114098,
          0.05894191563129425,
          0.06326455622911453,
          0.04575560614466667,
          0.03892994672060013,
          0.040182966738939285,
          0.04233083873987198,
          0.10950079560279846,
          0.05305987596511841,
          0.0371321439743042,
          0.06304585933685303,
          0.03804739564657211,
          0.03214547410607338,
          0.027702562510967255,
          0.050167474895715714,
          0.0489058792591095,
          0.04084361344575882,
          0.055452682077884674,
          0.06213593855500221,
          0.027244526892900467,
          0.05182725191116333,
          0.0496436208486557,
          0.038449231535196304,
          0.0601586177945137,
          0.08536183834075928,
          0.04795980080962181,
          0.03713884949684143,
          0.03334059566259384,
          0.02826322801411152,
          0.04870006442070007,
          0.039024434983730316,
          0.03034932166337967,
          0.030644232407212257,
          0.03447233885526657,
          0.06393653899431229,
          0.03750539943575859,
          0.027009079232811928,
          0.03836332634091377,
          0.028518719598650932,
          0.07934562861919403,
          0.10624350607395172,
          0.0524304136633873,
          0.02784012258052826,
          0.03160235285758972,
          0.030371908098459244,
          0.0328325480222702,
          0.04868023842573166,
          0.03164071962237358,
          0.03387917950749397,
          0.03716970607638359,
          0.06054651364684105,
          0.04753252863883972,
          0.18219348788261414,
          0.03755874186754227,
          0.03173675015568733,
          0.049459703266620636,
          0.05207915976643562,
          0.04620097205042839,
          0.09754793345928192,
          0.03241564333438873,
          0.04025159031152725,
          0.049141451716423035,
          0.03107708878815174,
          0.04567330330610275,
          0.03645765036344528,
          0.03289291262626648,
          0.034305792301893234,
          0.04870783910155296,
          0.05172424763441086,
          0.04976970702409744,
          0.05475810542702675,
          0.07761581242084503,
          0.05169937387108803,
          0.0577886588871479,
          0.048157237470149994,
          0.041501883417367935,
          0.02702796272933483,
          0.039467982947826385,
          0.048845890909433365,
          0.04693307727575302,
          0.05101078748703003,
          0.028925001621246338,
          0.08184551447629929,
          0.09716823697090149,
          0.06063302233815193,
          0.048668667674064636,
          0.03736567869782448,
          0.028927503153681755,
          0.05887467786669731,
          0.0457482673227787,
          0.03295837715268135,
          0.03225444257259369,
          0.03158106654882431,
          0.029018625617027283,
          0.034573521465063095,
          0.06033824384212494
         ],
         "xbins": {
          "end": 0.28202390670776367,
          "size": 0.01,
          "start": 0.027009079232811928
         }
        },
        {
         "marker": {
          "color": "red"
         },
         "name": "abFam(5,7)[1]",
         "opacity": 0.5,
         "type": "histogram",
         "x": [
          0.07959399372339249,
          0.13077642023563385,
          0.15793520212173462,
          0.1241445541381836,
          0.13810905814170837,
          0.09624490886926651,
          0.09591119736433029,
          0.1772318333387375,
          0.14428360760211945,
          0.10210513323545456,
          0.1771961897611618,
          0.15137720108032227,
          0.1756107211112976,
          0.10504204779863358,
          0.15802551805973053,
          0.15004147589206696,
          0.14298813045024872,
          0.07211324572563171,
          0.10483210533857346,
          0.11166197061538696,
          0.22951340675354004,
          0.1136389747262001,
          0.10383273661136627,
          0.14197349548339844,
          0.1015884280204773,
          0.2559266686439514,
          0.12678296864032745,
          0.0909121185541153,
          0.08332816511392593,
          0.10429003834724426,
          0.2466515451669693,
          0.22254244983196259,
          0.09855905175209045,
          0.21385209262371063,
          0.1223791241645813,
          0.05392713099718094,
          0.0834822803735733,
          0.18288792669773102,
          0.13369178771972656,
          0.11661630123853683,
          0.12806212902069092,
          0.11338069289922714,
          0.12015171349048615,
          0.21129682660102844,
          0.22600798308849335,
          0.15928031504154205,
          0.07294882833957672,
          0.13379952311515808,
          0.093300461769104,
          0.1292211264371872,
          0.11253392696380615,
          0.09226103127002716,
          0.19083082675933838,
          0.17314428091049194,
          0.21385270357131958,
          0.12423760443925858,
          0.1910102665424347,
          0.17675085365772247,
          0.1512119174003601,
          0.0923347920179367,
          0.0915861502289772,
          0.20568983256816864,
          0.28202390670776367,
          0.16416992247104645,
          0.13594913482666016,
          0.15785107016563416,
          0.1557212620973587,
          0.21320419013500214,
          0.1279599815607071,
          0.13182559609413147,
          0.12830619513988495,
          0.08487226068973541,
          0.1689915955066681,
          0.11622193455696106,
          0.07778670638799667,
          0.20852148532867432,
          0.1626858413219452,
          0.17055465281009674,
          0.10211559385061264,
          0.14767998456954956,
          0.22651080787181854,
          0.14238156378269196,
          0.10398227721452713,
          0.16484716534614563,
          0.13653984665870667,
          0.0461856871843338,
          0.10380075871944427,
          0.20879249274730682,
          0.10539983958005905,
          0.1717621237039566,
          0.1045285165309906,
          0.12830744683742523,
          0.15759775042533875,
          0.1538216918706894,
          0.19066916406154633,
          0.22056379914283752,
          0.22323693335056305,
          0.19679643213748932,
          0.18035303056240082,
          0.12054625898599625
         ],
         "xbins": {
          "end": 0.28202390670776367,
          "size": 0.01,
          "start": 0.027009079232811928
         }
        }
       ],
       "layout": {
        "autosize": true,
        "barmode": "overlay",
        "dragmode": "zoom",
        "template": {
         "data": {
          "bar": [
           {
            "error_x": {
             "color": "#2a3f5f"
            },
            "error_y": {
             "color": "#2a3f5f"
            },
            "marker": {
             "line": {
              "color": "#E5ECF6",
              "width": 0.5
             },
             "pattern": {
              "fillmode": "overlay",
              "size": 10,
              "solidity": 0.2
             }
            },
            "type": "bar"
           }
          ],
          "barpolar": [
           {
            "marker": {
             "line": {
              "color": "#E5ECF6",
              "width": 0.5
             },
             "pattern": {
              "fillmode": "overlay",
              "size": 10,
              "solidity": 0.2
             }
            },
            "type": "barpolar"
           }
          ],
          "carpet": [
           {
            "aaxis": {
             "endlinecolor": "#2a3f5f",
             "gridcolor": "white",
             "linecolor": "white",
             "minorgridcolor": "white",
             "startlinecolor": "#2a3f5f"
            },
            "baxis": {
             "endlinecolor": "#2a3f5f",
             "gridcolor": "white",
             "linecolor": "white",
             "minorgridcolor": "white",
             "startlinecolor": "#2a3f5f"
            },
            "type": "carpet"
           }
          ],
          "choropleth": [
           {
            "colorbar": {
             "outlinewidth": 0,
             "ticks": ""
            },
            "type": "choropleth"
           }
          ],
          "contour": [
           {
            "colorbar": {
             "outlinewidth": 0,
             "ticks": ""
            },
            "colorscale": [
             [
              0,
              "#0d0887"
             ],
             [
              0.1111111111111111,
              "#46039f"
             ],
             [
              0.2222222222222222,
              "#7201a8"
             ],
             [
              0.3333333333333333,
              "#9c179e"
             ],
             [
              0.4444444444444444,
              "#bd3786"
             ],
             [
              0.5555555555555556,
              "#d8576b"
             ],
             [
              0.6666666666666666,
              "#ed7953"
             ],
             [
              0.7777777777777778,
              "#fb9f3a"
             ],
             [
              0.8888888888888888,
              "#fdca26"
             ],
             [
              1,
              "#f0f921"
             ]
            ],
            "type": "contour"
           }
          ],
          "contourcarpet": [
           {
            "colorbar": {
             "outlinewidth": 0,
             "ticks": ""
            },
            "type": "contourcarpet"
           }
          ],
          "heatmap": [
           {
            "colorbar": {
             "outlinewidth": 0,
             "ticks": ""
            },
            "colorscale": [
             [
              0,
              "#0d0887"
             ],
             [
              0.1111111111111111,
              "#46039f"
             ],
             [
              0.2222222222222222,
              "#7201a8"
             ],
             [
              0.3333333333333333,
              "#9c179e"
             ],
             [
              0.4444444444444444,
              "#bd3786"
             ],
             [
              0.5555555555555556,
              "#d8576b"
             ],
             [
              0.6666666666666666,
              "#ed7953"
             ],
             [
              0.7777777777777778,
              "#fb9f3a"
             ],
             [
              0.8888888888888888,
              "#fdca26"
             ],
             [
              1,
              "#f0f921"
             ]
            ],
            "type": "heatmap"
           }
          ],
          "heatmapgl": [
           {
            "colorbar": {
             "outlinewidth": 0,
             "ticks": ""
            },
            "colorscale": [
             [
              0,
              "#0d0887"
             ],
             [
              0.1111111111111111,
              "#46039f"
             ],
             [
              0.2222222222222222,
              "#7201a8"
             ],
             [
              0.3333333333333333,
              "#9c179e"
             ],
             [
              0.4444444444444444,
              "#bd3786"
             ],
             [
              0.5555555555555556,
              "#d8576b"
             ],
             [
              0.6666666666666666,
              "#ed7953"
             ],
             [
              0.7777777777777778,
              "#fb9f3a"
             ],
             [
              0.8888888888888888,
              "#fdca26"
             ],
             [
              1,
              "#f0f921"
             ]
            ],
            "type": "heatmapgl"
           }
          ],
          "histogram": [
           {
            "marker": {
             "pattern": {
              "fillmode": "overlay",
              "size": 10,
              "solidity": 0.2
             }
            },
            "type": "histogram"
           }
          ],
          "histogram2d": [
           {
            "colorbar": {
             "outlinewidth": 0,
             "ticks": ""
            },
            "colorscale": [
             [
              0,
              "#0d0887"
             ],
             [
              0.1111111111111111,
              "#46039f"
             ],
             [
              0.2222222222222222,
              "#7201a8"
             ],
             [
              0.3333333333333333,
              "#9c179e"
             ],
             [
              0.4444444444444444,
              "#bd3786"
             ],
             [
              0.5555555555555556,
              "#d8576b"
             ],
             [
              0.6666666666666666,
              "#ed7953"
             ],
             [
              0.7777777777777778,
              "#fb9f3a"
             ],
             [
              0.8888888888888888,
              "#fdca26"
             ],
             [
              1,
              "#f0f921"
             ]
            ],
            "type": "histogram2d"
           }
          ],
          "histogram2dcontour": [
           {
            "colorbar": {
             "outlinewidth": 0,
             "ticks": ""
            },
            "colorscale": [
             [
              0,
              "#0d0887"
             ],
             [
              0.1111111111111111,
              "#46039f"
             ],
             [
              0.2222222222222222,
              "#7201a8"
             ],
             [
              0.3333333333333333,
              "#9c179e"
             ],
             [
              0.4444444444444444,
              "#bd3786"
             ],
             [
              0.5555555555555556,
              "#d8576b"
             ],
             [
              0.6666666666666666,
              "#ed7953"
             ],
             [
              0.7777777777777778,
              "#fb9f3a"
             ],
             [
              0.8888888888888888,
              "#fdca26"
             ],
             [
              1,
              "#f0f921"
             ]
            ],
            "type": "histogram2dcontour"
           }
          ],
          "mesh3d": [
           {
            "colorbar": {
             "outlinewidth": 0,
             "ticks": ""
            },
            "type": "mesh3d"
           }
          ],
          "parcoords": [
           {
            "line": {
             "colorbar": {
              "outlinewidth": 0,
              "ticks": ""
             }
            },
            "type": "parcoords"
           }
          ],
          "pie": [
           {
            "automargin": true,
            "type": "pie"
           }
          ],
          "scatter": [
           {
            "fillpattern": {
             "fillmode": "overlay",
             "size": 10,
             "solidity": 0.2
            },
            "type": "scatter"
           }
          ],
          "scatter3d": [
           {
            "line": {
             "colorbar": {
              "outlinewidth": 0,
              "ticks": ""
             }
            },
            "marker": {
             "colorbar": {
              "outlinewidth": 0,
              "ticks": ""
             }
            },
            "type": "scatter3d"
           }
          ],
          "scattercarpet": [
           {
            "marker": {
             "colorbar": {
              "outlinewidth": 0,
              "ticks": ""
             }
            },
            "type": "scattercarpet"
           }
          ],
          "scattergeo": [
           {
            "marker": {
             "colorbar": {
              "outlinewidth": 0,
              "ticks": ""
             }
            },
            "type": "scattergeo"
           }
          ],
          "scattergl": [
           {
            "marker": {
             "colorbar": {
              "outlinewidth": 0,
              "ticks": ""
             }
            },
            "type": "scattergl"
           }
          ],
          "scattermapbox": [
           {
            "marker": {
             "colorbar": {
              "outlinewidth": 0,
              "ticks": ""
             }
            },
            "type": "scattermapbox"
           }
          ],
          "scatterpolar": [
           {
            "marker": {
             "colorbar": {
              "outlinewidth": 0,
              "ticks": ""
             }
            },
            "type": "scatterpolar"
           }
          ],
          "scatterpolargl": [
           {
            "marker": {
             "colorbar": {
              "outlinewidth": 0,
              "ticks": ""
             }
            },
            "type": "scatterpolargl"
           }
          ],
          "scatterternary": [
           {
            "marker": {
             "colorbar": {
              "outlinewidth": 0,
              "ticks": ""
             }
            },
            "type": "scatterternary"
           }
          ],
          "surface": [
           {
            "colorbar": {
             "outlinewidth": 0,
             "ticks": ""
            },
            "colorscale": [
             [
              0,
              "#0d0887"
             ],
             [
              0.1111111111111111,
              "#46039f"
             ],
             [
              0.2222222222222222,
              "#7201a8"
             ],
             [
              0.3333333333333333,
              "#9c179e"
             ],
             [
              0.4444444444444444,
              "#bd3786"
             ],
             [
              0.5555555555555556,
              "#d8576b"
             ],
             [
              0.6666666666666666,
              "#ed7953"
             ],
             [
              0.7777777777777778,
              "#fb9f3a"
             ],
             [
              0.8888888888888888,
              "#fdca26"
             ],
             [
              1,
              "#f0f921"
             ]
            ],
            "type": "surface"
           }
          ],
          "table": [
           {
            "cells": {
             "fill": {
              "color": "#EBF0F8"
             },
             "line": {
              "color": "white"
             }
            },
            "header": {
             "fill": {
              "color": "#C8D4E3"
             },
             "line": {
              "color": "white"
             }
            },
            "type": "table"
           }
          ]
         },
         "layout": {
          "annotationdefaults": {
           "arrowcolor": "#2a3f5f",
           "arrowhead": 0,
           "arrowwidth": 1
          },
          "autotypenumbers": "strict",
          "coloraxis": {
           "colorbar": {
            "outlinewidth": 0,
            "ticks": ""
           }
          },
          "colorscale": {
           "diverging": [
            [
             0,
             "#8e0152"
            ],
            [
             0.1,
             "#c51b7d"
            ],
            [
             0.2,
             "#de77ae"
            ],
            [
             0.3,
             "#f1b6da"
            ],
            [
             0.4,
             "#fde0ef"
            ],
            [
             0.5,
             "#f7f7f7"
            ],
            [
             0.6,
             "#e6f5d0"
            ],
            [
             0.7,
             "#b8e186"
            ],
            [
             0.8,
             "#7fbc41"
            ],
            [
             0.9,
             "#4d9221"
            ],
            [
             1,
             "#276419"
            ]
           ],
           "sequential": [
            [
             0,
             "#0d0887"
            ],
            [
             0.1111111111111111,
             "#46039f"
            ],
            [
             0.2222222222222222,
             "#7201a8"
            ],
            [
             0.3333333333333333,
             "#9c179e"
            ],
            [
             0.4444444444444444,
             "#bd3786"
            ],
            [
             0.5555555555555556,
             "#d8576b"
            ],
            [
             0.6666666666666666,
             "#ed7953"
            ],
            [
             0.7777777777777778,
             "#fb9f3a"
            ],
            [
             0.8888888888888888,
             "#fdca26"
            ],
            [
             1,
             "#f0f921"
            ]
           ],
           "sequentialminus": [
            [
             0,
             "#0d0887"
            ],
            [
             0.1111111111111111,
             "#46039f"
            ],
            [
             0.2222222222222222,
             "#7201a8"
            ],
            [
             0.3333333333333333,
             "#9c179e"
            ],
            [
             0.4444444444444444,
             "#bd3786"
            ],
            [
             0.5555555555555556,
             "#d8576b"
            ],
            [
             0.6666666666666666,
             "#ed7953"
            ],
            [
             0.7777777777777778,
             "#fb9f3a"
            ],
            [
             0.8888888888888888,
             "#fdca26"
            ],
            [
             1,
             "#f0f921"
            ]
           ]
          },
          "colorway": [
           "#636efa",
           "#EF553B",
           "#00cc96",
           "#ab63fa",
           "#FFA15A",
           "#19d3f3",
           "#FF6692",
           "#B6E880",
           "#FF97FF",
           "#FECB52"
          ],
          "font": {
           "color": "#2a3f5f"
          },
          "geo": {
           "bgcolor": "white",
           "lakecolor": "white",
           "landcolor": "#E5ECF6",
           "showlakes": true,
           "showland": true,
           "subunitcolor": "white"
          },
          "hoverlabel": {
           "align": "left"
          },
          "hovermode": "closest",
          "mapbox": {
           "style": "light"
          },
          "paper_bgcolor": "white",
          "plot_bgcolor": "#E5ECF6",
          "polar": {
           "angularaxis": {
            "gridcolor": "white",
            "linecolor": "white",
            "ticks": ""
           },
           "bgcolor": "#E5ECF6",
           "radialaxis": {
            "gridcolor": "white",
            "linecolor": "white",
            "ticks": ""
           }
          },
          "scene": {
           "xaxis": {
            "backgroundcolor": "#E5ECF6",
            "gridcolor": "white",
            "gridwidth": 2,
            "linecolor": "white",
            "showbackground": true,
            "ticks": "",
            "zerolinecolor": "white"
           },
           "yaxis": {
            "backgroundcolor": "#E5ECF6",
            "gridcolor": "white",
            "gridwidth": 2,
            "linecolor": "white",
            "showbackground": true,
            "ticks": "",
            "zerolinecolor": "white"
           },
           "zaxis": {
            "backgroundcolor": "#E5ECF6",
            "gridcolor": "white",
            "gridwidth": 2,
            "linecolor": "white",
            "showbackground": true,
            "ticks": "",
            "zerolinecolor": "white"
           }
          },
          "shapedefaults": {
           "line": {
            "color": "#2a3f5f"
           }
          },
          "ternary": {
           "aaxis": {
            "gridcolor": "white",
            "linecolor": "white",
            "ticks": ""
           },
           "baxis": {
            "gridcolor": "white",
            "linecolor": "white",
            "ticks": ""
           },
           "bgcolor": "#E5ECF6",
           "caxis": {
            "gridcolor": "white",
            "linecolor": "white",
            "ticks": ""
           }
          },
          "title": {
           "x": 0.05
          },
          "xaxis": {
           "automargin": true,
           "gridcolor": "white",
           "linecolor": "white",
           "ticks": "",
           "title": {
            "standoff": 15
           },
           "zerolinecolor": "white",
           "zerolinewidth": 2
          },
          "yaxis": {
           "automargin": true,
           "gridcolor": "white",
           "linecolor": "white",
           "ticks": "",
           "title": {
            "standoff": 15
           },
           "zerolinecolor": "white",
           "zerolinewidth": 2
          }
         }
        },
        "title": {
         "text": "intersect loss"
        },
        "xaxis": {
         "autorange": true,
         "range": [
          0.02700907923281194,
          0.28700907923281194
         ],
         "type": "linear"
        },
        "yaxis": {
         "autorange": true,
         "range": [
          0,
          35.78947368421053
         ]
        }
       }
      },
      "image/png": "[encoded data removed]",
      "text/html": [
       "<div>                            <div id=\"99f5b6c2-8bec-4830-9867-213e8b804236\" class=\"plotly-graph-div\" style=\"height:525px; width:100%;\"></div>            <script type=\"text/javascript\">                require([\"plotly\"], function(Plotly) {                    window.PLOTLYENV=window.PLOTLYENV || {};                                    if (document.getElementById(\"99f5b6c2-8bec-4830-9867-213e8b804236\")) {                    Plotly.newPlot(                        \"99f5b6c2-8bec-4830-9867-213e8b804236\",                        [{\"marker\":{\"color\":\"blue\"},\"name\":\"abFam(5,7)[0]\",\"opacity\":0.5,\"x\":[0.033091817051172256,0.056598056107759476,0.03448036313056946,0.029587410390377045,0.029822340235114098,0.05894191563129425,0.06326455622911453,0.04575560614466667,0.03892994672060013,0.040182966738939285,0.04233083873987198,0.10950079560279846,0.05305987596511841,0.0371321439743042,0.06304585933685303,0.03804739564657211,0.03214547410607338,0.027702562510967255,0.050167474895715714,0.0489058792591095,0.04084361344575882,0.055452682077884674,0.06213593855500221,0.027244526892900467,0.05182725191116333,0.0496436208486557,0.038449231535196304,0.0601586177945137,0.08536183834075928,0.04795980080962181,0.03713884949684143,0.03334059566259384,0.02826322801411152,0.04870006442070007,0.039024434983730316,0.03034932166337967,0.030644232407212257,0.03447233885526657,0.06393653899431229,0.03750539943575859,0.027009079232811928,0.03836332634091377,0.028518719598650932,0.07934562861919403,0.10624350607395172,0.0524304136633873,0.02784012258052826,0.03160235285758972,0.030371908098459244,0.0328325480222702,0.04868023842573166,0.03164071962237358,0.03387917950749397,0.03716970607638359,0.06054651364684105,0.04753252863883972,0.18219348788261414,0.03755874186754227,0.03173675015568733,0.049459703266620636,0.05207915976643562,0.04620097205042839,0.09754793345928192,0.03241564333438873,0.04025159031152725,0.049141451716423035,0.03107708878815174,0.04567330330610275,0.03645765036344528,0.03289291262626648,0.034305792301893234,0.04870783910155296,0.05172424763441086,0.04976970702409744,0.05475810542702675,0.07761581242084503,0.05169937387108803,0.0577886588871479,0.048157237470149994,0.041501883417367935,0.02702796272933483,0.039467982947826385,0.048845890909433365,0.04693307727575302,0.05101078748703003,0.028925001621246338,0.08184551447629929,0.09716823697090149,0.06063302233815193,0.048668667674064636,0.03736567869782448,0.028927503153681755,0.05887467786669731,0.0457482673227787,0.03295837715268135,0.03225444257259369,0.03158106654882431,0.029018625617027283,0.034573521465063095,0.06033824384212494],\"xbins\":{\"end\":0.28202390670776367,\"size\":0.01,\"start\":0.027009079232811928},\"type\":\"histogram\"},{\"marker\":{\"color\":\"red\"},\"name\":\"abFam(5,7)[1]\",\"opacity\":0.5,\"x\":[0.07959399372339249,0.13077642023563385,0.15793520212173462,0.1241445541381836,0.13810905814170837,0.09624490886926651,0.09591119736433029,0.1772318333387375,0.14428360760211945,0.10210513323545456,0.1771961897611618,0.15137720108032227,0.1756107211112976,0.10504204779863358,0.15802551805973053,0.15004147589206696,0.14298813045024872,0.07211324572563171,0.10483210533857346,0.11166197061538696,0.22951340675354004,0.1136389747262001,0.10383273661136627,0.14197349548339844,0.1015884280204773,0.2559266686439514,0.12678296864032745,0.0909121185541153,0.08332816511392593,0.10429003834724426,0.2466515451669693,0.22254244983196259,0.09855905175209045,0.21385209262371063,0.1223791241645813,0.05392713099718094,0.0834822803735733,0.18288792669773102,0.13369178771972656,0.11661630123853683,0.12806212902069092,0.11338069289922714,0.12015171349048615,0.21129682660102844,0.22600798308849335,0.15928031504154205,0.07294882833957672,0.13379952311515808,0.093300461769104,0.1292211264371872,0.11253392696380615,0.09226103127002716,0.19083082675933838,0.17314428091049194,0.21385270357131958,0.12423760443925858,0.1910102665424347,0.17675085365772247,0.1512119174003601,0.0923347920179367,0.0915861502289772,0.20568983256816864,0.28202390670776367,0.16416992247104645,0.13594913482666016,0.15785107016563416,0.1557212620973587,0.21320419013500214,0.1279599815607071,0.13182559609413147,0.12830619513988495,0.08487226068973541,0.1689915955066681,0.11622193455696106,0.07778670638799667,0.20852148532867432,0.1626858413219452,0.17055465281009674,0.10211559385061264,0.14767998456954956,0.22651080787181854,0.14238156378269196,0.10398227721452713,0.16484716534614563,0.13653984665870667,0.0461856871843338,0.10380075871944427,0.20879249274730682,0.10539983958005905,0.1717621237039566,0.1045285165309906,0.12830744683742523,0.15759775042533875,0.1538216918706894,0.19066916406154633,0.22056379914283752,0.22323693335056305,0.19679643213748932,0.18035303056240082,0.12054625898599625],\"xbins\":{\"end\":0.28202390670776367,\"size\":0.01,\"start\":0.027009079232811928},\"type\":\"histogram\"}],                        {\"barmode\":\"overlay\",\"title\":{\"text\":\"intersect loss\"},\"template\":{\"data\":{\"histogram2dcontour\":[{\"type\":\"histogram2dcontour\",\"colorbar\":{\"outlinewidth\":0,\"ticks\":\"\"},\"colorscale\":[[0.0,\"#0d0887\"],[0.1111111111111111,\"#46039f\"],[0.2222222222222222,\"#7201a8\"],[0.3333333333333333,\"#9c179e\"],[0.4444444444444444,\"#bd3786\"],[0.5555555555555556,\"#d8576b\"],[0.6666666666666666,\"#ed7953\"],[0.7777777777777778,\"#fb9f3a\"],[0.8888888888888888,\"#fdca26\"],[1.0,\"#f0f921\"]]}],\"choropleth\":[{\"type\":\"choropleth\",\"colorbar\":{\"outlinewidth\":0,\"ticks\":\"\"}}],\"histogram2d\":[{\"type\":\"histogram2d\",\"colorbar\":{\"outlinewidth\":0,\"ticks\":\"\"},\"colorscale\":[[0.0,\"#0d0887\"],[0.1111111111111111,\"#46039f\"],[0.2222222222222222,\"#7201a8\"],[0.3333333333333333,\"#9c179e\"],[0.4444444444444444,\"#bd3786\"],[0.5555555555555556,\"#d8576b\"],[0.6666666666666666,\"#ed7953\"],[0.7777777777777778,\"#fb9f3a\"],[0.8888888888888888,\"#fdca26\"],[1.0,\"#f0f921\"]]}],\"heatmap\":[{\"type\":\"heatmap\",\"colorbar\":{\"outlinewidth\":0,\"ticks\":\"\"},\"colorscale\":[[0.0,\"#0d0887\"],[0.1111111111111111,\"#46039f\"],[0.2222222222222222,\"#7201a8\"],[0.3333333333333333,\"#9c179e\"],[0.4444444444444444,\"#bd3786\"],[0.5555555555555556,\"#d8576b\"],[0.6666666666666666,\"#ed7953\"],[0.7777777777777778,\"#fb9f3a\"],[0.8888888888888888,\"#fdca26\"],[1.0,\"#f0f921\"]]}],\"heatmapgl\":[{\"type\":\"heatmapgl\",\"colorbar\":{\"outlinewidth\":0,\"ticks\":\"\"},\"colorscale\":[[0.0,\"#0d0887\"],[0.1111111111111111,\"#46039f\"],[0.2222222222222222,\"#7201a8\"],[0.3333333333333333,\"#9c179e\"],[0.4444444444444444,\"#bd3786\"],[0.5555555555555556,\"#d8576b\"],[0.6666666666666666,\"#ed7953\"],[0.7777777777777778,\"#fb9f3a\"],[0.8888888888888888,\"#fdca26\"],[1.0,\"#f0f921\"]]}],\"contourcarpet\":[{\"type\":\"contourcarpet\",\"colorbar\":{\"outlinewidth\":0,\"ticks\":\"\"}}],\"contour\":[{\"type\":\"contour\",\"colorbar\":{\"outlinewidth\":0,\"ticks\":\"\"},\"colorscale\":[[0.0,\"#0d0887\"],[0.1111111111111111,\"#46039f\"],[0.2222222222222222,\"#7201a8\"],[0.3333333333333333,\"#9c179e\"],[0.4444444444444444,\"#bd3786\"],[0.5555555555555556,\"#d8576b\"],[0.6666666666666666,\"#ed7953\"],[0.7777777777777778,\"#fb9f3a\"],[0.8888888888888888,\"#fdca26\"],[1.0,\"#f0f921\"]]}],\"surface\":[{\"type\":\"surface\",\"colorbar\":{\"outlinewidth\":0,\"ticks\":\"\"},\"colorscale\":[[0.0,\"#0d0887\"],[0.1111111111111111,\"#46039f\"],[0.2222222222222222,\"#7201a8\"],[0.3333333333333333,\"#9c179e\"],[0.4444444444444444,\"#bd3786\"],[0.5555555555555556,\"#d8576b\"],[0.6666666666666666,\"#ed7953\"],[0.7777777777777778,\"#fb9f3a\"],[0.8888888888888888,\"#fdca26\"],[1.0,\"#f0f921\"]]}],\"mesh3d\":[{\"type\":\"mesh3d\",\"colorbar\":{\"outlinewidth\":0,\"ticks\":\"\"}}],\"scatter\":[{\"fillpattern\":{\"fillmode\":\"overlay\",\"size\":10,\"solidity\":0.2},\"type\":\"scatter\"}],\"parcoords\":[{\"type\":\"parcoords\",\"line\":{\"colorbar\":{\"outlinewidth\":0,\"ticks\":\"\"}}}],\"scatterpolargl\":[{\"type\":\"scatterpolargl\",\"marker\":{\"colorbar\":{\"outlinewidth\":0,\"ticks\":\"\"}}}],\"bar\":[{\"error_x\":{\"color\":\"#2a3f5f\"},\"error_y\":{\"color\":\"#2a3f5f\"},\"marker\":{\"line\":{\"color\":\"#E5ECF6\",\"width\":0.5},\"pattern\":{\"fillmode\":\"overlay\",\"size\":10,\"solidity\":0.2}},\"type\":\"bar\"}],\"scattergeo\":[{\"type\":\"scattergeo\",\"marker\":{\"colorbar\":{\"outlinewidth\":0,\"ticks\":\"\"}}}],\"scatterpolar\":[{\"type\":\"scatterpolar\",\"marker\":{\"colorbar\":{\"outlinewidth\":0,\"ticks\":\"\"}}}],\"histogram\":[{\"marker\":{\"pattern\":{\"fillmode\":\"overlay\",\"size\":10,\"solidity\":0.2}},\"type\":\"histogram\"}],\"scattergl\":[{\"type\":\"scattergl\",\"marker\":{\"colorbar\":{\"outlinewidth\":0,\"ticks\":\"\"}}}],\"scatter3d\":[{\"type\":\"scatter3d\",\"line\":{\"colorbar\":{\"outlinewidth\":0,\"ticks\":\"\"}},\"marker\":{\"colorbar\":{\"outlinewidth\":0,\"ticks\":\"\"}}}],\"scattermapbox\":[{\"type\":\"scattermapbox\",\"marker\":{\"colorbar\":{\"outlinewidth\":0,\"ticks\":\"\"}}}],\"scatterternary\":[{\"type\":\"scatterternary\",\"marker\":{\"colorbar\":{\"outlinewidth\":0,\"ticks\":\"\"}}}],\"scattercarpet\":[{\"type\":\"scattercarpet\",\"marker\":{\"colorbar\":{\"outlinewidth\":0,\"ticks\":\"\"}}}],\"carpet\":[{\"aaxis\":{\"endlinecolor\":\"#2a3f5f\",\"gridcolor\":\"white\",\"linecolor\":\"white\",\"minorgridcolor\":\"white\",\"startlinecolor\":\"#2a3f5f\"},\"baxis\":{\"endlinecolor\":\"#2a3f5f\",\"gridcolor\":\"white\",\"linecolor\":\"white\",\"minorgridcolor\":\"white\",\"startlinecolor\":\"#2a3f5f\"},\"type\":\"carpet\"}],\"table\":[{\"cells\":{\"fill\":{\"color\":\"#EBF0F8\"},\"line\":{\"color\":\"white\"}},\"header\":{\"fill\":{\"color\":\"#C8D4E3\"},\"line\":{\"color\":\"white\"}},\"type\":\"table\"}],\"barpolar\":[{\"marker\":{\"line\":{\"color\":\"#E5ECF6\",\"width\":0.5},\"pattern\":{\"fillmode\":\"overlay\",\"size\":10,\"solidity\":0.2}},\"type\":\"barpolar\"}],\"pie\":[{\"automargin\":true,\"type\":\"pie\"}]},\"layout\":{\"autotypenumbers\":\"strict\",\"colorway\":[\"#636efa\",\"#EF553B\",\"#00cc96\",\"#ab63fa\",\"#FFA15A\",\"#19d3f3\",\"#FF6692\",\"#B6E880\",\"#FF97FF\",\"#FECB52\"],\"font\":{\"color\":\"#2a3f5f\"},\"hovermode\":\"closest\",\"hoverlabel\":{\"align\":\"left\"},\"paper_bgcolor\":\"white\",\"plot_bgcolor\":\"#E5ECF6\",\"polar\":{\"bgcolor\":\"#E5ECF6\",\"angularaxis\":{\"gridcolor\":\"white\",\"linecolor\":\"white\",\"ticks\":\"\"},\"radialaxis\":{\"gridcolor\":\"white\",\"linecolor\":\"white\",\"ticks\":\"\"}},\"ternary\":{\"bgcolor\":\"#E5ECF6\",\"aaxis\":{\"gridcolor\":\"white\",\"linecolor\":\"white\",\"ticks\":\"\"},\"baxis\":{\"gridcolor\":\"white\",\"linecolor\":\"white\",\"ticks\":\"\"},\"caxis\":{\"gridcolor\":\"white\",\"linecolor\":\"white\",\"ticks\":\"\"}},\"coloraxis\":{\"colorbar\":{\"outlinewidth\":0,\"ticks\":\"\"}},\"colorscale\":{\"sequential\":[[0.0,\"#0d0887\"],[0.1111111111111111,\"#46039f\"],[0.2222222222222222,\"#7201a8\"],[0.3333333333333333,\"#9c179e\"],[0.4444444444444444,\"#bd3786\"],[0.5555555555555556,\"#d8576b\"],[0.6666666666666666,\"#ed7953\"],[0.7777777777777778,\"#fb9f3a\"],[0.8888888888888888,\"#fdca26\"],[1.0,\"#f0f921\"]],\"sequentialminus\":[[0.0,\"#0d0887\"],[0.1111111111111111,\"#46039f\"],[0.2222222222222222,\"#7201a8\"],[0.3333333333333333,\"#9c179e\"],[0.4444444444444444,\"#bd3786\"],[0.5555555555555556,\"#d8576b\"],[0.6666666666666666,\"#ed7953\"],[0.7777777777777778,\"#fb9f3a\"],[0.8888888888888888,\"#fdca26\"],[1.0,\"#f0f921\"]],\"diverging\":[[0,\"#8e0152\"],[0.1,\"#c51b7d\"],[0.2,\"#de77ae\"],[0.3,\"#f1b6da\"],[0.4,\"#fde0ef\"],[0.5,\"#f7f7f7\"],[0.6,\"#e6f5d0\"],[0.7,\"#b8e186\"],[0.8,\"#7fbc41\"],[0.9,\"#4d9221\"],[1,\"#276419\"]]},\"xaxis\":{\"gridcolor\":\"white\",\"linecolor\":\"white\",\"ticks\":\"\",\"title\":{\"standoff\":15},\"zerolinecolor\":\"white\",\"automargin\":true,\"zerolinewidth\":2},\"yaxis\":{\"gridcolor\":\"white\",\"linecolor\":\"white\",\"ticks\":\"\",\"title\":{\"standoff\":15},\"zerolinecolor\":\"white\",\"automargin\":true,\"zerolinewidth\":2},\"scene\":{\"xaxis\":{\"backgroundcolor\":\"#E5ECF6\",\"gridcolor\":\"white\",\"linecolor\":\"white\",\"showbackground\":true,\"ticks\":\"\",\"zerolinecolor\":\"white\",\"gridwidth\":2},\"yaxis\":{\"backgroundcolor\":\"#E5ECF6\",\"gridcolor\":\"white\",\"linecolor\":\"white\",\"showbackground\":true,\"ticks\":\"\",\"zerolinecolor\":\"white\",\"gridwidth\":2},\"zaxis\":{\"backgroundcolor\":\"#E5ECF6\",\"gridcolor\":\"white\",\"linecolor\":\"white\",\"showbackground\":true,\"ticks\":\"\",\"zerolinecolor\":\"white\",\"gridwidth\":2}},\"shapedefaults\":{\"line\":{\"color\":\"#2a3f5f\"}},\"annotationdefaults\":{\"arrowcolor\":\"#2a3f5f\",\"arrowhead\":0,\"arrowwidth\":1},\"geo\":{\"bgcolor\":\"white\",\"landcolor\":\"#E5ECF6\",\"subunitcolor\":\"white\",\"showland\":true,\"showlakes\":true,\"lakecolor\":\"white\"},\"title\":{\"x\":0.05},\"mapbox\":{\"style\":\"light\"}}}},                        {\"responsive\": true}                    ).then(function(){\n",
       "                            \n",
       "var gd = document.getElementById('99f5b6c2-8bec-4830-9867-213e8b804236');\n",
       "var x = new MutationObserver(function (mutations, observer) {{\n",
       "        var display = window.getComputedStyle(gd).display;\n",
       "        if (!display || display === 'none') {{\n",
       "            console.log([gd, 'removed!']);\n",
       "            Plotly.purge(gd);\n",
       "            observer.disconnect();\n",
       "        }}\n",
       "}});\n",
       "\n",
       "// Listen for the removal of the full notebook cells\n",
       "var notebookContainer = gd.closest('#notebook-container');\n",
       "if (notebookContainer) {{\n",
       "    x.observe(notebookContainer, {childList: true});\n",
       "}}\n",
       "\n",
       "// Listen for the clearing of the current output cell\n",
       "var outputEl = gd.closest('.output');\n",
       "if (outputEl) {{\n",
       "    x.observe(outputEl, {childList: true});\n",
       "}}\n",
       "\n",
       "                        })                };                });            </script>        </div>"
      ]
     },
     "metadata": {},
     "output_type": "display_data"
    }
   ],
   "source": [
    "loss_fig.show()"
   ]
  },
  {
   "cell_type": "code",
   "execution_count": 17,
   "id": "5ed1c5ea-3e8a-4df9-a003-718118982ad6",
   "metadata": {},
   "outputs": [],
   "source": [
    "#path = '/workspace/models/2024-08-13_01-57-27_abFam_5_7_'\n",
    "path = '/workspace/models/2024-08-13_03-06-33_S_5__times_A_5__Z_2__'\n",
    "models, params = load_models(path)"
   ]
  },
  {
   "cell_type": "code",
   "execution_count": 18,
   "id": "8b10fba3-0579-40b3-ae22-d7f46f4bf4d6",
   "metadata": {},
   "outputs": [
    {
     "name": "stdout",
     "output_type": "stream",
     "text": [
      "Intersection size: 7920/14400 (0.55)\n",
      "Added 7920 elements from intersection\n",
      "Added 0 elements from group 0: S(5)\n",
      "Added 0 elements from group 1: times(A(5),Z(2))\n",
      "Train set size: 7920/14400 (0.55)\n"
     ]
    }
   ],
   "source": [
    "dataset = GroupData(params)"
   ]
  },
  {
   "cell_type": "code",
   "execution_count": 19,
   "id": "6e7652eb-aa59-4a8c-ad3b-6846d578614a",
   "metadata": {},
   "outputs": [],
   "source": [
    "loss_dict = test_loss(models[0].to(device), dataset)\n",
    "min_loss = min([loss_dict[f'G{i}_loss'].min() for i in range(len(dataset.groups))])\n",
    "max_loss = max([loss_dict[f'G{i}_loss'].max() for i in range(len(dataset.groups))])"
   ]
  },
  {
   "cell_type": "code",
   "execution_count": 22,
   "id": "9341731b-6f85-487a-827f-c0a30c301597",
   "metadata": {},
   "outputs": [],
   "source": [
    "loss_xbins = dict(\n",
    "    start=min_loss,\n",
    "    end=max_loss,\n",
    "    size=3e-1,\n",
    ")\n",
    "loss_data = []\n",
    "colors = ['blue', 'red', 'green', 'orange', 'magenta', 'yellow']\n",
    "for i, color in zip(range(len(dataset.groups)), colors):\n",
    "    loss_data.append(go.Histogram(\n",
    "        x=loss_dict[f'G{i}_loss'].tolist(),\n",
    "        opacity=0.5,\n",
    "        name=dataset.groups[i].name,\n",
    "        marker=dict(color=color),\n",
    "        xbins=loss_xbins,\n",
    "    ))\n",
    "\n",
    "\n",
    "loss_layout = go.Layout(\n",
    "    title='test loss',\n",
    "    barmode='overlay'\n",
    ")\n",
    "loss_fig = go.Figure(data=loss_data, layout=loss_layout)"
   ]
  },
  {
   "cell_type": "code",
   "execution_count": 23,
   "id": "7193b2b4-f2a4-419c-a306-fef7bbe64d55",
   "metadata": {},
   "outputs": [
    {
     "data": {
      "application/vnd.plotly.v1+json": {
       "config": {
        "plotlyServerURL": "https://plot.ly"
       },
       "data": [
        {
         "marker": {
          "color": "blue"
         },
         "name": "S(5)",
         "opacity": 0.5,
         "type": "histogram",
         "x": [
          0.18608222901821136,
          3.00234055519104,
          3.90960955619812,
          2.966895341873169,
          2.94126033782959,
          3.3540127277374268,
          2.375372886657715,
          3.033421754837036,
          3.094248056411743,
          0.09460468590259552,
          4.1730122566223145,
          3.089632749557495,
          3.2272582054138184,
          0.09913082420825958,
          2.4000444412231445,
          4.03252649307251,
          2.8915164470672607,
          3.4792659282684326,
          0.08053060621023178,
          3.4415431022644043,
          3.618640661239624,
          3.3022687435150146,
          3.3180854320526123,
          3.5735127925872803,
          2.6529297828674316,
          3.078476667404175,
          3.7938055992126465,
          3.2108941078186035,
          2.4372401237487793,
          3.8451650142669678,
          3.2363569736480713,
          1.6850767135620117,
          2.2629244327545166,
          3.487287759780884,
          3.246501922607422,
          3.0923149585723877,
          1.4139704704284668,
          2.758517265319824,
          3.773966073989868,
          3.9729416370391846,
          3.6290154457092285,
          2.8204457759857178,
          3.375619649887085,
          3.133610725402832,
          3.5101561546325684,
          2.8390398025512695,
          4.3060102462768555,
          2.3921289443969727,
          2.708521604537964,
          3.245384693145752,
          0.2852433919906616,
          3.658508062362671,
          4.204489707946777,
          2.412093162536621,
          3.613539695739746,
          3.274229049682617,
          2.5602731704711914,
          2.1184043884277344,
          3.978055715560913,
          2.9604198932647705,
          3.076458215713501,
          3.627922773361206,
          3.2824761867523193,
          3.3818864822387695,
          3.1955718994140625,
          3.2031161785125732,
          2.928912878036499,
          3.6012885570526123,
          3.5711567401885986,
          3.7457902431488037,
          0.09511280059814453,
          1.459492802619934,
          3.122868299484253,
          2.2174577713012695,
          0.16537685692310333,
          2.9363532066345215,
          3.212665319442749,
          3.153438091278076,
          2.9890427589416504,
          3.542663812637329,
          3.4696826934814453,
          2.963878631591797,
          3.514118194580078,
          3.2853920459747314,
          3.1327250003814697,
          3.1994919776916504,
          3.250730276107788,
          2.815002202987671,
          3.6676340103149414,
          3.3555593490600586,
          3.6340835094451904,
          2.5825109481811523,
          2.8788094520568848,
          0.12336281687021255,
          3.314427375793457,
          3.3453636169433594,
          3.1576662063598633,
          3.283217191696167,
          2.786600112915039,
          3.876898765563965
         ],
         "xbins": {
          "end": 5.281079292297363,
          "size": 0.3,
          "start": 0.08053060621023178
         }
        },
        {
         "marker": {
          "color": "red"
         },
         "name": "times(A(5),Z(2))",
         "opacity": 0.5,
         "type": "histogram",
         "x": [
          3.8509202003479004,
          1.798850417137146,
          1.312707543373108,
          3.3369674682617188,
          1.9977216720581055,
          1.323878288269043,
          2.619525909423828,
          2.3537955284118652,
          2.7842867374420166,
          4.59578275680542,
          0.20091500878334045,
          2.825617551803589,
          2.2154908180236816,
          5.281079292297363,
          2.826622724533081,
          2.367368221282959,
          2.0369441509246826,
          3.2499332427978516,
          4.153812408447266,
          2.8554911613464355,
          1.6440531015396118,
          2.607754707336426,
          3.013559103012085,
          2.644448757171631,
          3.21829891204834,
          1.87594735622406,
          1.7479513883590698,
          1.3866243362426758,
          2.5900039672851562,
          1.1194883584976196,
          3.090787410736084,
          2.48776912689209,
          2.0610241889953613,
          2.1143429279327393,
          2.1656291484832764,
          2.141716480255127,
          2.6056203842163086,
          1.4676281213760376,
          1.825679063796997,
          3.0077359676361084,
          2.0949807167053223,
          1.8995773792266846,
          2.506166458129883,
          0.43957218527793884,
          0.59041428565979,
          1.8811841011047363,
          4.435498237609863,
          2.6094205379486084,
          1.6693246364593506,
          3.6020731925964355,
          3.150698661804199,
          2.2955892086029053,
          3.5429818630218506,
          3.215561628341675,
          1.8700147867202759,
          3.9299826622009277,
          3.042353630065918,
          2.455068349838257,
          0.37398749589920044,
          2.4423232078552246,
          2.7946670055389404,
          2.325822591781616,
          1.3673665523529053,
          2.2870192527770996,
          2.3061578273773193,
          0.5490298271179199,
          1.798913836479187,
          1.0890260934829712,
          1.030187726020813,
          3.037144660949707,
          4.586461067199707,
          1.765694499015808,
          1.6159114837646484,
          1.431333303451538,
          4.297558784484863,
          1.4442816972732544,
          2.029736280441284,
          1.603263020515442,
          2.41916823387146,
          2.1486706733703613,
          1.4791778326034546,
          2.587543487548828,
          2.219104766845703,
          2.0843753814697266,
          1.4968148469924927,
          0.09548500925302505,
          3.6842262744903564,
          2.58455491065979,
          1.993095874786377,
          2.190725803375244,
          1.8538706302642822,
          2.7061944007873535,
          2.462460517883301,
          3.8462610244750977,
          1.6144702434539795,
          1.8689987659454346,
          0.7819116115570068,
          2.186380624771118,
          1.139072060585022,
          1.7688746452331543
         ],
         "xbins": {
          "end": 5.281079292297363,
          "size": 0.3,
          "start": 0.08053060621023178
         }
        }
       ],
       "layout": {
        "autosize": true,
        "barmode": "overlay",
        "template": {
         "data": {
          "bar": [
           {
            "error_x": {
             "color": "#2a3f5f"
            },
            "error_y": {
             "color": "#2a3f5f"
            },
            "marker": {
             "line": {
              "color": "#E5ECF6",
              "width": 0.5
             },
             "pattern": {
              "fillmode": "overlay",
              "size": 10,
              "solidity": 0.2
             }
            },
            "type": "bar"
           }
          ],
          "barpolar": [
           {
            "marker": {
             "line": {
              "color": "#E5ECF6",
              "width": 0.5
             },
             "pattern": {
              "fillmode": "overlay",
              "size": 10,
              "solidity": 0.2
             }
            },
            "type": "barpolar"
           }
          ],
          "carpet": [
           {
            "aaxis": {
             "endlinecolor": "#2a3f5f",
             "gridcolor": "white",
             "linecolor": "white",
             "minorgridcolor": "white",
             "startlinecolor": "#2a3f5f"
            },
            "baxis": {
             "endlinecolor": "#2a3f5f",
             "gridcolor": "white",
             "linecolor": "white",
             "minorgridcolor": "white",
             "startlinecolor": "#2a3f5f"
            },
            "type": "carpet"
           }
          ],
          "choropleth": [
           {
            "colorbar": {
             "outlinewidth": 0,
             "ticks": ""
            },
            "type": "choropleth"
           }
          ],
          "contour": [
           {
            "colorbar": {
             "outlinewidth": 0,
             "ticks": ""
            },
            "colorscale": [
             [
              0,
              "#0d0887"
             ],
             [
              0.1111111111111111,
              "#46039f"
             ],
             [
              0.2222222222222222,
              "#7201a8"
             ],
             [
              0.3333333333333333,
              "#9c179e"
             ],
             [
              0.4444444444444444,
              "#bd3786"
             ],
             [
              0.5555555555555556,
              "#d8576b"
             ],
             [
              0.6666666666666666,
              "#ed7953"
             ],
             [
              0.7777777777777778,
              "#fb9f3a"
             ],
             [
              0.8888888888888888,
              "#fdca26"
             ],
             [
              1,
              "#f0f921"
             ]
            ],
            "type": "contour"
           }
          ],
          "contourcarpet": [
           {
            "colorbar": {
             "outlinewidth": 0,
             "ticks": ""
            },
            "type": "contourcarpet"
           }
          ],
          "heatmap": [
           {
            "colorbar": {
             "outlinewidth": 0,
             "ticks": ""
            },
            "colorscale": [
             [
              0,
              "#0d0887"
             ],
             [
              0.1111111111111111,
              "#46039f"
             ],
             [
              0.2222222222222222,
              "#7201a8"
             ],
             [
              0.3333333333333333,
              "#9c179e"
             ],
             [
              0.4444444444444444,
              "#bd3786"
             ],
             [
              0.5555555555555556,
              "#d8576b"
             ],
             [
              0.6666666666666666,
              "#ed7953"
             ],
             [
              0.7777777777777778,
              "#fb9f3a"
             ],
             [
              0.8888888888888888,
              "#fdca26"
             ],
             [
              1,
              "#f0f921"
             ]
            ],
            "type": "heatmap"
           }
          ],
          "heatmapgl": [
           {
            "colorbar": {
             "outlinewidth": 0,
             "ticks": ""
            },
            "colorscale": [
             [
              0,
              "#0d0887"
             ],
             [
              0.1111111111111111,
              "#46039f"
             ],
             [
              0.2222222222222222,
              "#7201a8"
             ],
             [
              0.3333333333333333,
              "#9c179e"
             ],
             [
              0.4444444444444444,
              "#bd3786"
             ],
             [
              0.5555555555555556,
              "#d8576b"
             ],
             [
              0.6666666666666666,
              "#ed7953"
             ],
             [
              0.7777777777777778,
              "#fb9f3a"
             ],
             [
              0.8888888888888888,
              "#fdca26"
             ],
             [
              1,
              "#f0f921"
             ]
            ],
            "type": "heatmapgl"
           }
          ],
          "histogram": [
           {
            "marker": {
             "pattern": {
              "fillmode": "overlay",
              "size": 10,
              "solidity": 0.2
             }
            },
            "type": "histogram"
           }
          ],
          "histogram2d": [
           {
            "colorbar": {
             "outlinewidth": 0,
             "ticks": ""
            },
            "colorscale": [
             [
              0,
              "#0d0887"
             ],
             [
              0.1111111111111111,
              "#46039f"
             ],
             [
              0.2222222222222222,
              "#7201a8"
             ],
             [
              0.3333333333333333,
              "#9c179e"
             ],
             [
              0.4444444444444444,
              "#bd3786"
             ],
             [
              0.5555555555555556,
              "#d8576b"
             ],
             [
              0.6666666666666666,
              "#ed7953"
             ],
             [
              0.7777777777777778,
              "#fb9f3a"
             ],
             [
              0.8888888888888888,
              "#fdca26"
             ],
             [
              1,
              "#f0f921"
             ]
            ],
            "type": "histogram2d"
           }
          ],
          "histogram2dcontour": [
           {
            "colorbar": {
             "outlinewidth": 0,
             "ticks": ""
            },
            "colorscale": [
             [
              0,
              "#0d0887"
             ],
             [
              0.1111111111111111,
              "#46039f"
             ],
             [
              0.2222222222222222,
              "#7201a8"
             ],
             [
              0.3333333333333333,
              "#9c179e"
             ],
             [
              0.4444444444444444,
              "#bd3786"
             ],
             [
              0.5555555555555556,
              "#d8576b"
             ],
             [
              0.6666666666666666,
              "#ed7953"
             ],
             [
              0.7777777777777778,
              "#fb9f3a"
             ],
             [
              0.8888888888888888,
              "#fdca26"
             ],
             [
              1,
              "#f0f921"
             ]
            ],
            "type": "histogram2dcontour"
           }
          ],
          "mesh3d": [
           {
            "colorbar": {
             "outlinewidth": 0,
             "ticks": ""
            },
            "type": "mesh3d"
           }
          ],
          "parcoords": [
           {
            "line": {
             "colorbar": {
              "outlinewidth": 0,
              "ticks": ""
             }
            },
            "type": "parcoords"
           }
          ],
          "pie": [
           {
            "automargin": true,
            "type": "pie"
           }
          ],
          "scatter": [
           {
            "fillpattern": {
             "fillmode": "overlay",
             "size": 10,
             "solidity": 0.2
            },
            "type": "scatter"
           }
          ],
          "scatter3d": [
           {
            "line": {
             "colorbar": {
              "outlinewidth": 0,
              "ticks": ""
             }
            },
            "marker": {
             "colorbar": {
              "outlinewidth": 0,
              "ticks": ""
             }
            },
            "type": "scatter3d"
           }
          ],
          "scattercarpet": [
           {
            "marker": {
             "colorbar": {
              "outlinewidth": 0,
              "ticks": ""
             }
            },
            "type": "scattercarpet"
           }
          ],
          "scattergeo": [
           {
            "marker": {
             "colorbar": {
              "outlinewidth": 0,
              "ticks": ""
             }
            },
            "type": "scattergeo"
           }
          ],
          "scattergl": [
           {
            "marker": {
             "colorbar": {
              "outlinewidth": 0,
              "ticks": ""
             }
            },
            "type": "scattergl"
           }
          ],
          "scattermapbox": [
           {
            "marker": {
             "colorbar": {
              "outlinewidth": 0,
              "ticks": ""
             }
            },
            "type": "scattermapbox"
           }
          ],
          "scatterpolar": [
           {
            "marker": {
             "colorbar": {
              "outlinewidth": 0,
              "ticks": ""
             }
            },
            "type": "scatterpolar"
           }
          ],
          "scatterpolargl": [
           {
            "marker": {
             "colorbar": {
              "outlinewidth": 0,
              "ticks": ""
             }
            },
            "type": "scatterpolargl"
           }
          ],
          "scatterternary": [
           {
            "marker": {
             "colorbar": {
              "outlinewidth": 0,
              "ticks": ""
             }
            },
            "type": "scatterternary"
           }
          ],
          "surface": [
           {
            "colorbar": {
             "outlinewidth": 0,
             "ticks": ""
            },
            "colorscale": [
             [
              0,
              "#0d0887"
             ],
             [
              0.1111111111111111,
              "#46039f"
             ],
             [
              0.2222222222222222,
              "#7201a8"
             ],
             [
              0.3333333333333333,
              "#9c179e"
             ],
             [
              0.4444444444444444,
              "#bd3786"
             ],
             [
              0.5555555555555556,
              "#d8576b"
             ],
             [
              0.6666666666666666,
              "#ed7953"
             ],
             [
              0.7777777777777778,
              "#fb9f3a"
             ],
             [
              0.8888888888888888,
              "#fdca26"
             ],
             [
              1,
              "#f0f921"
             ]
            ],
            "type": "surface"
           }
          ],
          "table": [
           {
            "cells": {
             "fill": {
              "color": "#EBF0F8"
             },
             "line": {
              "color": "white"
             }
            },
            "header": {
             "fill": {
              "color": "#C8D4E3"
             },
             "line": {
              "color": "white"
             }
            },
            "type": "table"
           }
          ]
         },
         "layout": {
          "annotationdefaults": {
           "arrowcolor": "#2a3f5f",
           "arrowhead": 0,
           "arrowwidth": 1
          },
          "autotypenumbers": "strict",
          "coloraxis": {
           "colorbar": {
            "outlinewidth": 0,
            "ticks": ""
           }
          },
          "colorscale": {
           "diverging": [
            [
             0,
             "#8e0152"
            ],
            [
             0.1,
             "#c51b7d"
            ],
            [
             0.2,
             "#de77ae"
            ],
            [
             0.3,
             "#f1b6da"
            ],
            [
             0.4,
             "#fde0ef"
            ],
            [
             0.5,
             "#f7f7f7"
            ],
            [
             0.6,
             "#e6f5d0"
            ],
            [
             0.7,
             "#b8e186"
            ],
            [
             0.8,
             "#7fbc41"
            ],
            [
             0.9,
             "#4d9221"
            ],
            [
             1,
             "#276419"
            ]
           ],
           "sequential": [
            [
             0,
             "#0d0887"
            ],
            [
             0.1111111111111111,
             "#46039f"
            ],
            [
             0.2222222222222222,
             "#7201a8"
            ],
            [
             0.3333333333333333,
             "#9c179e"
            ],
            [
             0.4444444444444444,
             "#bd3786"
            ],
            [
             0.5555555555555556,
             "#d8576b"
            ],
            [
             0.6666666666666666,
             "#ed7953"
            ],
            [
             0.7777777777777778,
             "#fb9f3a"
            ],
            [
             0.8888888888888888,
             "#fdca26"
            ],
            [
             1,
             "#f0f921"
            ]
           ],
           "sequentialminus": [
            [
             0,
             "#0d0887"
            ],
            [
             0.1111111111111111,
             "#46039f"
            ],
            [
             0.2222222222222222,
             "#7201a8"
            ],
            [
             0.3333333333333333,
             "#9c179e"
            ],
            [
             0.4444444444444444,
             "#bd3786"
            ],
            [
             0.5555555555555556,
             "#d8576b"
            ],
            [
             0.6666666666666666,
             "#ed7953"
            ],
            [
             0.7777777777777778,
             "#fb9f3a"
            ],
            [
             0.8888888888888888,
             "#fdca26"
            ],
            [
             1,
             "#f0f921"
            ]
           ]
          },
          "colorway": [
           "#636efa",
           "#EF553B",
           "#00cc96",
           "#ab63fa",
           "#FFA15A",
           "#19d3f3",
           "#FF6692",
           "#B6E880",
           "#FF97FF",
           "#FECB52"
          ],
          "font": {
           "color": "#2a3f5f"
          },
          "geo": {
           "bgcolor": "white",
           "lakecolor": "white",
           "landcolor": "#E5ECF6",
           "showlakes": true,
           "showland": true,
           "subunitcolor": "white"
          },
          "hoverlabel": {
           "align": "left"
          },
          "hovermode": "closest",
          "mapbox": {
           "style": "light"
          },
          "paper_bgcolor": "white",
          "plot_bgcolor": "#E5ECF6",
          "polar": {
           "angularaxis": {
            "gridcolor": "white",
            "linecolor": "white",
            "ticks": ""
           },
           "bgcolor": "#E5ECF6",
           "radialaxis": {
            "gridcolor": "white",
            "linecolor": "white",
            "ticks": ""
           }
          },
          "scene": {
           "xaxis": {
            "backgroundcolor": "#E5ECF6",
            "gridcolor": "white",
            "gridwidth": 2,
            "linecolor": "white",
            "showbackground": true,
            "ticks": "",
            "zerolinecolor": "white"
           },
           "yaxis": {
            "backgroundcolor": "#E5ECF6",
            "gridcolor": "white",
            "gridwidth": 2,
            "linecolor": "white",
            "showbackground": true,
            "ticks": "",
            "zerolinecolor": "white"
           },
           "zaxis": {
            "backgroundcolor": "#E5ECF6",
            "gridcolor": "white",
            "gridwidth": 2,
            "linecolor": "white",
            "showbackground": true,
            "ticks": "",
            "zerolinecolor": "white"
           }
          },
          "shapedefaults": {
           "line": {
            "color": "#2a3f5f"
           }
          },
          "ternary": {
           "aaxis": {
            "gridcolor": "white",
            "linecolor": "white",
            "ticks": ""
           },
           "baxis": {
            "gridcolor": "white",
            "linecolor": "white",
            "ticks": ""
           },
           "bgcolor": "#E5ECF6",
           "caxis": {
            "gridcolor": "white",
            "linecolor": "white",
            "ticks": ""
           }
          },
          "title": {
           "x": 0.05
          },
          "xaxis": {
           "automargin": true,
           "gridcolor": "white",
           "linecolor": "white",
           "ticks": "",
           "title": {
            "standoff": 15
           },
           "zerolinecolor": "white",
           "zerolinewidth": 2
          },
          "yaxis": {
           "automargin": true,
           "gridcolor": "white",
           "linecolor": "white",
           "ticks": "",
           "title": {
            "standoff": 15
           },
           "zerolinecolor": "white",
           "zerolinewidth": 2
          }
         }
        },
        "title": {
         "text": "test loss"
        },
        "xaxis": {
         "autorange": true,
         "range": [
          0.08053060621023231,
          5.480530606210231
         ],
         "type": "linear"
        },
        "yaxis": {
         "autorange": true,
         "range": [
          0,
          30.526315789473685
         ]
        }
       }
      },
      "image/png": "[encoded data removed]",
      "text/html": [
       "<div>                            <div id=\"308065bf-cb30-41da-9546-59cc97c9a204\" class=\"plotly-graph-div\" style=\"height:525px; width:100%;\"></div>            <script type=\"text/javascript\">                require([\"plotly\"], function(Plotly) {                    window.PLOTLYENV=window.PLOTLYENV || {};                                    if (document.getElementById(\"308065bf-cb30-41da-9546-59cc97c9a204\")) {                    Plotly.newPlot(                        \"308065bf-cb30-41da-9546-59cc97c9a204\",                        [{\"marker\":{\"color\":\"blue\"},\"name\":\"S(5)\",\"opacity\":0.5,\"x\":[0.18608222901821136,3.00234055519104,3.90960955619812,2.966895341873169,2.94126033782959,3.3540127277374268,2.375372886657715,3.033421754837036,3.094248056411743,0.09460468590259552,4.1730122566223145,3.089632749557495,3.2272582054138184,0.09913082420825958,2.4000444412231445,4.03252649307251,2.8915164470672607,3.4792659282684326,0.08053060621023178,3.4415431022644043,3.618640661239624,3.3022687435150146,3.3180854320526123,3.5735127925872803,2.6529297828674316,3.078476667404175,3.7938055992126465,3.2108941078186035,2.4372401237487793,3.8451650142669678,3.2363569736480713,1.6850767135620117,2.2629244327545166,3.487287759780884,3.246501922607422,3.0923149585723877,1.4139704704284668,2.758517265319824,3.773966073989868,3.9729416370391846,3.6290154457092285,2.8204457759857178,3.375619649887085,3.133610725402832,3.5101561546325684,2.8390398025512695,4.3060102462768555,2.3921289443969727,2.708521604537964,3.245384693145752,0.2852433919906616,3.658508062362671,4.204489707946777,2.412093162536621,3.613539695739746,3.274229049682617,2.5602731704711914,2.1184043884277344,3.978055715560913,2.9604198932647705,3.076458215713501,3.627922773361206,3.2824761867523193,3.3818864822387695,3.1955718994140625,3.2031161785125732,2.928912878036499,3.6012885570526123,3.5711567401885986,3.7457902431488037,0.09511280059814453,1.459492802619934,3.122868299484253,2.2174577713012695,0.16537685692310333,2.9363532066345215,3.212665319442749,3.153438091278076,2.9890427589416504,3.542663812637329,3.4696826934814453,2.963878631591797,3.514118194580078,3.2853920459747314,3.1327250003814697,3.1994919776916504,3.250730276107788,2.815002202987671,3.6676340103149414,3.3555593490600586,3.6340835094451904,2.5825109481811523,2.8788094520568848,0.12336281687021255,3.314427375793457,3.3453636169433594,3.1576662063598633,3.283217191696167,2.786600112915039,3.876898765563965],\"xbins\":{\"end\":5.281079292297363,\"size\":0.3,\"start\":0.08053060621023178},\"type\":\"histogram\"},{\"marker\":{\"color\":\"red\"},\"name\":\"times(A(5),Z(2))\",\"opacity\":0.5,\"x\":[3.8509202003479004,1.798850417137146,1.312707543373108,3.3369674682617188,1.9977216720581055,1.323878288269043,2.619525909423828,2.3537955284118652,2.7842867374420166,4.59578275680542,0.20091500878334045,2.825617551803589,2.2154908180236816,5.281079292297363,2.826622724533081,2.367368221282959,2.0369441509246826,3.2499332427978516,4.153812408447266,2.8554911613464355,1.6440531015396118,2.607754707336426,3.013559103012085,2.644448757171631,3.21829891204834,1.87594735622406,1.7479513883590698,1.3866243362426758,2.5900039672851562,1.1194883584976196,3.090787410736084,2.48776912689209,2.0610241889953613,2.1143429279327393,2.1656291484832764,2.141716480255127,2.6056203842163086,1.4676281213760376,1.825679063796997,3.0077359676361084,2.0949807167053223,1.8995773792266846,2.506166458129883,0.43957218527793884,0.59041428565979,1.8811841011047363,4.435498237609863,2.6094205379486084,1.6693246364593506,3.6020731925964355,3.150698661804199,2.2955892086029053,3.5429818630218506,3.215561628341675,1.8700147867202759,3.9299826622009277,3.042353630065918,2.455068349838257,0.37398749589920044,2.4423232078552246,2.7946670055389404,2.325822591781616,1.3673665523529053,2.2870192527770996,2.3061578273773193,0.5490298271179199,1.798913836479187,1.0890260934829712,1.030187726020813,3.037144660949707,4.586461067199707,1.765694499015808,1.6159114837646484,1.431333303451538,4.297558784484863,1.4442816972732544,2.029736280441284,1.603263020515442,2.41916823387146,2.1486706733703613,1.4791778326034546,2.587543487548828,2.219104766845703,2.0843753814697266,1.4968148469924927,0.09548500925302505,3.6842262744903564,2.58455491065979,1.993095874786377,2.190725803375244,1.8538706302642822,2.7061944007873535,2.462460517883301,3.8462610244750977,1.6144702434539795,1.8689987659454346,0.7819116115570068,2.186380624771118,1.139072060585022,1.7688746452331543],\"xbins\":{\"end\":5.281079292297363,\"size\":0.3,\"start\":0.08053060621023178},\"type\":\"histogram\"}],                        {\"barmode\":\"overlay\",\"title\":{\"text\":\"test loss\"},\"template\":{\"data\":{\"histogram2dcontour\":[{\"type\":\"histogram2dcontour\",\"colorbar\":{\"outlinewidth\":0,\"ticks\":\"\"},\"colorscale\":[[0.0,\"#0d0887\"],[0.1111111111111111,\"#46039f\"],[0.2222222222222222,\"#7201a8\"],[0.3333333333333333,\"#9c179e\"],[0.4444444444444444,\"#bd3786\"],[0.5555555555555556,\"#d8576b\"],[0.6666666666666666,\"#ed7953\"],[0.7777777777777778,\"#fb9f3a\"],[0.8888888888888888,\"#fdca26\"],[1.0,\"#f0f921\"]]}],\"choropleth\":[{\"type\":\"choropleth\",\"colorbar\":{\"outlinewidth\":0,\"ticks\":\"\"}}],\"histogram2d\":[{\"type\":\"histogram2d\",\"colorbar\":{\"outlinewidth\":0,\"ticks\":\"\"},\"colorscale\":[[0.0,\"#0d0887\"],[0.1111111111111111,\"#46039f\"],[0.2222222222222222,\"#7201a8\"],[0.3333333333333333,\"#9c179e\"],[0.4444444444444444,\"#bd3786\"],[0.5555555555555556,\"#d8576b\"],[0.6666666666666666,\"#ed7953\"],[0.7777777777777778,\"#fb9f3a\"],[0.8888888888888888,\"#fdca26\"],[1.0,\"#f0f921\"]]}],\"heatmap\":[{\"type\":\"heatmap\",\"colorbar\":{\"outlinewidth\":0,\"ticks\":\"\"},\"colorscale\":[[0.0,\"#0d0887\"],[0.1111111111111111,\"#46039f\"],[0.2222222222222222,\"#7201a8\"],[0.3333333333333333,\"#9c179e\"],[0.4444444444444444,\"#bd3786\"],[0.5555555555555556,\"#d8576b\"],[0.6666666666666666,\"#ed7953\"],[0.7777777777777778,\"#fb9f3a\"],[0.8888888888888888,\"#fdca26\"],[1.0,\"#f0f921\"]]}],\"heatmapgl\":[{\"type\":\"heatmapgl\",\"colorbar\":{\"outlinewidth\":0,\"ticks\":\"\"},\"colorscale\":[[0.0,\"#0d0887\"],[0.1111111111111111,\"#46039f\"],[0.2222222222222222,\"#7201a8\"],[0.3333333333333333,\"#9c179e\"],[0.4444444444444444,\"#bd3786\"],[0.5555555555555556,\"#d8576b\"],[0.6666666666666666,\"#ed7953\"],[0.7777777777777778,\"#fb9f3a\"],[0.8888888888888888,\"#fdca26\"],[1.0,\"#f0f921\"]]}],\"contourcarpet\":[{\"type\":\"contourcarpet\",\"colorbar\":{\"outlinewidth\":0,\"ticks\":\"\"}}],\"contour\":[{\"type\":\"contour\",\"colorbar\":{\"outlinewidth\":0,\"ticks\":\"\"},\"colorscale\":[[0.0,\"#0d0887\"],[0.1111111111111111,\"#46039f\"],[0.2222222222222222,\"#7201a8\"],[0.3333333333333333,\"#9c179e\"],[0.4444444444444444,\"#bd3786\"],[0.5555555555555556,\"#d8576b\"],[0.6666666666666666,\"#ed7953\"],[0.7777777777777778,\"#fb9f3a\"],[0.8888888888888888,\"#fdca26\"],[1.0,\"#f0f921\"]]}],\"surface\":[{\"type\":\"surface\",\"colorbar\":{\"outlinewidth\":0,\"ticks\":\"\"},\"colorscale\":[[0.0,\"#0d0887\"],[0.1111111111111111,\"#46039f\"],[0.2222222222222222,\"#7201a8\"],[0.3333333333333333,\"#9c179e\"],[0.4444444444444444,\"#bd3786\"],[0.5555555555555556,\"#d8576b\"],[0.6666666666666666,\"#ed7953\"],[0.7777777777777778,\"#fb9f3a\"],[0.8888888888888888,\"#fdca26\"],[1.0,\"#f0f921\"]]}],\"mesh3d\":[{\"type\":\"mesh3d\",\"colorbar\":{\"outlinewidth\":0,\"ticks\":\"\"}}],\"scatter\":[{\"fillpattern\":{\"fillmode\":\"overlay\",\"size\":10,\"solidity\":0.2},\"type\":\"scatter\"}],\"parcoords\":[{\"type\":\"parcoords\",\"line\":{\"colorbar\":{\"outlinewidth\":0,\"ticks\":\"\"}}}],\"scatterpolargl\":[{\"type\":\"scatterpolargl\",\"marker\":{\"colorbar\":{\"outlinewidth\":0,\"ticks\":\"\"}}}],\"bar\":[{\"error_x\":{\"color\":\"#2a3f5f\"},\"error_y\":{\"color\":\"#2a3f5f\"},\"marker\":{\"line\":{\"color\":\"#E5ECF6\",\"width\":0.5},\"pattern\":{\"fillmode\":\"overlay\",\"size\":10,\"solidity\":0.2}},\"type\":\"bar\"}],\"scattergeo\":[{\"type\":\"scattergeo\",\"marker\":{\"colorbar\":{\"outlinewidth\":0,\"ticks\":\"\"}}}],\"scatterpolar\":[{\"type\":\"scatterpolar\",\"marker\":{\"colorbar\":{\"outlinewidth\":0,\"ticks\":\"\"}}}],\"histogram\":[{\"marker\":{\"pattern\":{\"fillmode\":\"overlay\",\"size\":10,\"solidity\":0.2}},\"type\":\"histogram\"}],\"scattergl\":[{\"type\":\"scattergl\",\"marker\":{\"colorbar\":{\"outlinewidth\":0,\"ticks\":\"\"}}}],\"scatter3d\":[{\"type\":\"scatter3d\",\"line\":{\"colorbar\":{\"outlinewidth\":0,\"ticks\":\"\"}},\"marker\":{\"colorbar\":{\"outlinewidth\":0,\"ticks\":\"\"}}}],\"scattermapbox\":[{\"type\":\"scattermapbox\",\"marker\":{\"colorbar\":{\"outlinewidth\":0,\"ticks\":\"\"}}}],\"scatterternary\":[{\"type\":\"scatterternary\",\"marker\":{\"colorbar\":{\"outlinewidth\":0,\"ticks\":\"\"}}}],\"scattercarpet\":[{\"type\":\"scattercarpet\",\"marker\":{\"colorbar\":{\"outlinewidth\":0,\"ticks\":\"\"}}}],\"carpet\":[{\"aaxis\":{\"endlinecolor\":\"#2a3f5f\",\"gridcolor\":\"white\",\"linecolor\":\"white\",\"minorgridcolor\":\"white\",\"startlinecolor\":\"#2a3f5f\"},\"baxis\":{\"endlinecolor\":\"#2a3f5f\",\"gridcolor\":\"white\",\"linecolor\":\"white\",\"minorgridcolor\":\"white\",\"startlinecolor\":\"#2a3f5f\"},\"type\":\"carpet\"}],\"table\":[{\"cells\":{\"fill\":{\"color\":\"#EBF0F8\"},\"line\":{\"color\":\"white\"}},\"header\":{\"fill\":{\"color\":\"#C8D4E3\"},\"line\":{\"color\":\"white\"}},\"type\":\"table\"}],\"barpolar\":[{\"marker\":{\"line\":{\"color\":\"#E5ECF6\",\"width\":0.5},\"pattern\":{\"fillmode\":\"overlay\",\"size\":10,\"solidity\":0.2}},\"type\":\"barpolar\"}],\"pie\":[{\"automargin\":true,\"type\":\"pie\"}]},\"layout\":{\"autotypenumbers\":\"strict\",\"colorway\":[\"#636efa\",\"#EF553B\",\"#00cc96\",\"#ab63fa\",\"#FFA15A\",\"#19d3f3\",\"#FF6692\",\"#B6E880\",\"#FF97FF\",\"#FECB52\"],\"font\":{\"color\":\"#2a3f5f\"},\"hovermode\":\"closest\",\"hoverlabel\":{\"align\":\"left\"},\"paper_bgcolor\":\"white\",\"plot_bgcolor\":\"#E5ECF6\",\"polar\":{\"bgcolor\":\"#E5ECF6\",\"angularaxis\":{\"gridcolor\":\"white\",\"linecolor\":\"white\",\"ticks\":\"\"},\"radialaxis\":{\"gridcolor\":\"white\",\"linecolor\":\"white\",\"ticks\":\"\"}},\"ternary\":{\"bgcolor\":\"#E5ECF6\",\"aaxis\":{\"gridcolor\":\"white\",\"linecolor\":\"white\",\"ticks\":\"\"},\"baxis\":{\"gridcolor\":\"white\",\"linecolor\":\"white\",\"ticks\":\"\"},\"caxis\":{\"gridcolor\":\"white\",\"linecolor\":\"white\",\"ticks\":\"\"}},\"coloraxis\":{\"colorbar\":{\"outlinewidth\":0,\"ticks\":\"\"}},\"colorscale\":{\"sequential\":[[0.0,\"#0d0887\"],[0.1111111111111111,\"#46039f\"],[0.2222222222222222,\"#7201a8\"],[0.3333333333333333,\"#9c179e\"],[0.4444444444444444,\"#bd3786\"],[0.5555555555555556,\"#d8576b\"],[0.6666666666666666,\"#ed7953\"],[0.7777777777777778,\"#fb9f3a\"],[0.8888888888888888,\"#fdca26\"],[1.0,\"#f0f921\"]],\"sequentialminus\":[[0.0,\"#0d0887\"],[0.1111111111111111,\"#46039f\"],[0.2222222222222222,\"#7201a8\"],[0.3333333333333333,\"#9c179e\"],[0.4444444444444444,\"#bd3786\"],[0.5555555555555556,\"#d8576b\"],[0.6666666666666666,\"#ed7953\"],[0.7777777777777778,\"#fb9f3a\"],[0.8888888888888888,\"#fdca26\"],[1.0,\"#f0f921\"]],\"diverging\":[[0,\"#8e0152\"],[0.1,\"#c51b7d\"],[0.2,\"#de77ae\"],[0.3,\"#f1b6da\"],[0.4,\"#fde0ef\"],[0.5,\"#f7f7f7\"],[0.6,\"#e6f5d0\"],[0.7,\"#b8e186\"],[0.8,\"#7fbc41\"],[0.9,\"#4d9221\"],[1,\"#276419\"]]},\"xaxis\":{\"gridcolor\":\"white\",\"linecolor\":\"white\",\"ticks\":\"\",\"title\":{\"standoff\":15},\"zerolinecolor\":\"white\",\"automargin\":true,\"zerolinewidth\":2},\"yaxis\":{\"gridcolor\":\"white\",\"linecolor\":\"white\",\"ticks\":\"\",\"title\":{\"standoff\":15},\"zerolinecolor\":\"white\",\"automargin\":true,\"zerolinewidth\":2},\"scene\":{\"xaxis\":{\"backgroundcolor\":\"#E5ECF6\",\"gridcolor\":\"white\",\"linecolor\":\"white\",\"showbackground\":true,\"ticks\":\"\",\"zerolinecolor\":\"white\",\"gridwidth\":2},\"yaxis\":{\"backgroundcolor\":\"#E5ECF6\",\"gridcolor\":\"white\",\"linecolor\":\"white\",\"showbackground\":true,\"ticks\":\"\",\"zerolinecolor\":\"white\",\"gridwidth\":2},\"zaxis\":{\"backgroundcolor\":\"#E5ECF6\",\"gridcolor\":\"white\",\"linecolor\":\"white\",\"showbackground\":true,\"ticks\":\"\",\"zerolinecolor\":\"white\",\"gridwidth\":2}},\"shapedefaults\":{\"line\":{\"color\":\"#2a3f5f\"}},\"annotationdefaults\":{\"arrowcolor\":\"#2a3f5f\",\"arrowhead\":0,\"arrowwidth\":1},\"geo\":{\"bgcolor\":\"white\",\"landcolor\":\"#E5ECF6\",\"subunitcolor\":\"white\",\"showland\":true,\"showlakes\":true,\"lakecolor\":\"white\"},\"title\":{\"x\":0.05},\"mapbox\":{\"style\":\"light\"}}}},                        {\"responsive\": true}                    ).then(function(){\n",
       "                            \n",
       "var gd = document.getElementById('308065bf-cb30-41da-9546-59cc97c9a204');\n",
       "var x = new MutationObserver(function (mutations, observer) {{\n",
       "        var display = window.getComputedStyle(gd).display;\n",
       "        if (!display || display === 'none') {{\n",
       "            console.log([gd, 'removed!']);\n",
       "            Plotly.purge(gd);\n",
       "            observer.disconnect();\n",
       "        }}\n",
       "}});\n",
       "\n",
       "// Listen for the removal of the full notebook cells\n",
       "var notebookContainer = gd.closest('#notebook-container');\n",
       "if (notebookContainer) {{\n",
       "    x.observe(notebookContainer, {childList: true});\n",
       "}}\n",
       "\n",
       "// Listen for the clearing of the current output cell\n",
       "var outputEl = gd.closest('.output');\n",
       "if (outputEl) {{\n",
       "    x.observe(outputEl, {childList: true});\n",
       "}}\n",
       "\n",
       "                        })                };                });            </script>        </div>"
      ]
     },
     "metadata": {},
     "output_type": "display_data"
    }
   ],
   "source": [
    "loss_fig.show()"
   ]
  },
  {
   "cell_type": "code",
   "execution_count": 14,
   "id": "76080be6-838c-4ec9-a87d-5fafc4b69d0a",
   "metadata": {},
   "outputs": [
    {
     "data": {
      "text/plain": [
       "tensor(3.9959, device='cuda:0')"
      ]
     },
     "execution_count": 14,
     "metadata": {},
     "output_type": "execute_result"
    }
   ],
   "source": [
    "max_loss"
   ]
  },
  {
   "cell_type": "code",
   "execution_count": null,
   "id": "18e2fca1-01cf-4c23-abfa-dd09d005ec55",
   "metadata": {},
   "outputs": [],
   "source": []
  }
 ],
 "metadata": {
  "kernelspec": {
   "display_name": "Python 3 (ipykernel)",
   "language": "python",
   "name": "python3"
  },
  "language_info": {
   "codemirror_mode": {
    "name": "ipython",
    "version": 3
   },
   "file_extension": ".py",
   "mimetype": "text/x-python",
   "name": "python",
   "nbconvert_exporter": "python",
   "pygments_lexer": "ipython3",
   "version": "3.10.12"
  }
 },
 "nbformat": 4,
 "nbformat_minor": 5
}
