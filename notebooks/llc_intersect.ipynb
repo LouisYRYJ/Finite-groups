{
 "cells": [
  {
   "cell_type": "markdown",
   "id": "bf3ce2f9-ead8-4406-971f-9dab5efb13e7",
   "metadata": {},
   "source": [
    "Train separate models on 0.4 iid training set sampled from each of G1 and G2; evaluate LLC on intersection of G1 and G2's multiplication tables"
   ]
  },
  {
   "cell_type": "code",
   "execution_count": 3,
   "id": "c23518de-6044-49c0-8385-3fc1d07e536d",
   "metadata": {},
   "outputs": [],
   "source": [
    "import sys\n",
    "import torch as t\n",
    "import numpy as np\n",
    "from matplotlib import pyplot as plt\n",
    "import json\n",
    "from itertools import product\n",
    "sys.path.append('/workspace/wilson/Finite-groups/src')\n",
    "from model import MLP3, MLP4, InstancedModule\n",
    "from utils import *\n",
    "from group_data import *\n",
    "from model_utils import *\n",
    "from group_utils import *\n",
    "from jaxtyping import Float\n",
    "from typing import Union\n",
    "from einops import repeat\n",
    "from torch.utils.data import DataLoader\n",
    "from tqdm.notebook import tqdm\n",
    "import plotly.graph_objects as go\n",
    "import copy\n",
    "import math\n",
    "from itertools import product\n",
    "from llc import *\n",
    "%load_ext autoreload\n",
    "%autoreload 2"
   ]
  },
  {
   "cell_type": "code",
   "execution_count": 4,
   "id": "228d863a-5bfa-439c-acff-4a7d1d871654",
   "metadata": {},
   "outputs": [],
   "source": [
    "llc_params = {\n",
    "    'eps': 8e-4,\n",
    "    'beta': 1e3,\n",
    "    'gamma': 1.,\n",
    "    'chains': 5,\n",
    "    'cbatch_size': 5,\n",
    "    'replacement': False,\n",
    "    'behavioral': True,\n",
    "    'epochs': 3000,\n",
    "}"
   ]
  },
  {
   "cell_type": "code",
   "execution_count": 5,
   "id": "46bfb7fa-202f-4932-bd9c-f9bd1daa16f1",
   "metadata": {},
   "outputs": [],
   "source": [
    "paths = {\n",
    "    'Z(48,2)': '/workspace/models/2024_07_31_03_48_41_Z_48_2__long',\n",
    "    'twZ(48)': '/workspace/models/2024_07_31_04_29_56_twZ_48__long'\n",
    "}\n",
    "# paths = {\n",
    "#     'S(5)': '/workspace/models/2024-08-12_20-25-17_S_5_',\n",
    "#     'times(A(5),Z(2))': '/workspace/models/2024-08-12_20-49-30_times_A_5__Z_2__',\n",
    "# }\n",
    "# paths = {\n",
    "#     'Z(100)': '/workspace/models/2024-08-12_21-54-36_Z_100_',\n",
    "#     'Z(50,2)': '/workspace/models/2024-08-12_21-58-28_Z_50_2_',\n",
    "# }\n",
    "# paths = {\n",
    "#     'abFam(5,7)[0]': '/workspace/models/2024-08-12_23-40-42_abFam_5_7__0_',\n",
    "#     'abFam(5,7)[1]': '/workspace/models/2024-08-12_23-55-03_abFam_5_7__1_',\n",
    "# }\n"
   ]
  },
  {
   "cell_type": "code",
   "execution_count": 40,
   "id": "d0725e2d-2d71-41b7-82ae-70857b4f742d",
   "metadata": {},
   "outputs": [
    {
     "data": {
      "text/plain": [
       "Parameters(instances=100, embed_dim=32, hidden_size=64, epochs=20000, batch_size=64, batched=False, activation='relu', weight_decay=0.0002, lr=0.01, beta1=0.9, beta2=0.98, optimizer='adam', checkpoint=3, name='twZ(48)_long', seed=42, group_string='Z(48,2);twZ(48)', intersect_frac=1.0, delta_frac=[0.0, 0.0], train_frac=1.0, save_weights=False, load_weights='', wandb=True, thresh_grok=0.95, project='group generalization', model='MLP3', unembed_bias=False, init_func='kaiming_uniform', correct_embed=False)"
      ]
     },
     "execution_count": 40,
     "metadata": {},
     "output_type": "execute_result"
    }
   ],
   "source": [
    "params"
   ]
  },
  {
   "cell_type": "code",
   "execution_count": 6,
   "id": "887033a9-ec06-47d4-b3ea-298bfa3a9b2b",
   "metadata": {},
   "outputs": [],
   "source": [
    "model_dict = {}\n",
    "for k, path in paths.items():\n",
    "    models, params = load_models(path)\n",
    "    model_dict[k] = models[-1]"
   ]
  },
  {
   "cell_type": "code",
   "execution_count": 7,
   "id": "ce536b0b-4911-4864-b640-b697bb57f2b2",
   "metadata": {},
   "outputs": [
    {
     "name": "stdout",
     "output_type": "stream",
     "text": [
      "Intersection size: 6912/9216 (0.75)\n",
      "Added 6912 elements from intersection\n",
      "Added 0 elements from group 0: Z(48,2)\n",
      "Added 0 elements from group 1: twZ(48)\n",
      "Train set size: 6912/9216 (0.75)\n"
     ]
    }
   ],
   "source": [
    "params.group_string = ';'.join(paths.keys())\n",
    "params.train_frac = 1.\n",
    "params.delta_frac = [0.] * len(model_dict)\n",
    "dataset = GroupData(params)"
   ]
  },
  {
   "cell_type": "code",
   "execution_count": 8,
   "id": "e3ba8eb4-845d-4c8d-880f-a38516cda677",
   "metadata": {},
   "outputs": [
    {
     "data": {
      "application/vnd.jupyter.widget-view+json": {
       "model_id": "1473aa11691f48d3a73d6f40f3775028",
       "version_major": 2,
       "version_minor": 0
      },
      "text/plain": [
       "SGLD:   0%|          | 0/3000 [00:00<?, ?it/s]"
      ]
     },
     "metadata": {},
     "output_type": "display_data"
    },
    {
     "data": {
      "application/vnd.jupyter.widget-view+json": {
       "model_id": "b0d8a9def89b408eb19ef8d7187dec14",
       "version_major": 2,
       "version_minor": 0
      },
      "text/plain": [
       "SGLD:   0%|          | 0/3000 [00:00<?, ?it/s]"
      ]
     },
     "metadata": {},
     "output_type": "display_data"
    }
   ],
   "source": [
    "llc_dict = {k: get_llc(model.to(device), dataset, **llc_params)[0] for k, model in model_dict.items()}"
   ]
  },
  {
   "cell_type": "code",
   "execution_count": 9,
   "id": "9a0eca4f-1f9b-4b2f-afc5-273623bcdb9e",
   "metadata": {},
   "outputs": [],
   "source": [
    "loss_dict = {k: full_train_loss(model, dataset) for k, model in model_dict.items()}"
   ]
  },
  {
   "cell_type": "code",
   "execution_count": 10,
   "id": "33952fe1-6959-4d41-a5ff-fc534a436521",
   "metadata": {},
   "outputs": [],
   "source": [
    "min_llc = min([llc.min() for llc in llc_dict.values()]).item()\n",
    "max_llc = max([llc.max() for llc in llc_dict.values()]).item()\n",
    "min_loss = min([loss.min() for loss in loss_dict.values()]).item()\n",
    "max_loss = max([loss.max() for loss in loss_dict.values()]).item()"
   ]
  },
  {
   "cell_type": "code",
   "execution_count": 11,
   "id": "c9164c65-479d-435a-a821-7b92f6e62d1e",
   "metadata": {},
   "outputs": [
    {
     "data": {
      "text/plain": [
       "(1057.285400390625, 2139.27734375, 0.02695544809103012, 0.12449735403060913)"
      ]
     },
     "execution_count": 11,
     "metadata": {},
     "output_type": "execute_result"
    }
   ],
   "source": [
    "min_llc, max_llc, min_loss, max_loss"
   ]
  },
  {
   "cell_type": "code",
   "execution_count": 22,
   "id": "9dca5a8b-9722-4793-a704-35181907e296",
   "metadata": {},
   "outputs": [],
   "source": [
    "llc_dict = {\n",
    "    'Z/48Z × Z/2Z': llc_dict['Z/48Z x Z/2Z'],\n",
    "    'Z/48Z ⋊ Z/2Z': llc_dict['Z/48Z ⋊ Z/2Z'],\n",
    "}"
   ]
  },
  {
   "cell_type": "code",
   "execution_count": 23,
   "id": "43b80cc2-a76a-45f8-a50e-d7152360051d",
   "metadata": {},
   "outputs": [],
   "source": [
    "llc_xbins = dict(\n",
    "    start=min_llc,\n",
    "    end=max_llc,\n",
    "    size=100,\n",
    ")\n",
    "loss_xbins = dict(\n",
    "    start=min_loss,\n",
    "    end=max_loss,\n",
    "    size=1e-2,\n",
    ")\n",
    "llc_data = []\n",
    "loss_data = []\n",
    "colors = ['blue', 'red', 'green', 'orange', 'magenta', 'yellow']\n",
    "for color, (k, llc), (l, loss) in zip(colors, llc_dict.items(), loss_dict.items()):\n",
    "    llc_data.append(go.Histogram(\n",
    "        x=llc.tolist(),\n",
    "        opacity=0.5,\n",
    "        name=k,\n",
    "        marker=dict(color=color),\n",
    "        xbins=llc_xbins,\n",
    "    ))\n",
    "    loss_data.append(go.Histogram(\n",
    "        x=loss.tolist(),\n",
    "        opacity=0.5,\n",
    "        name=l,\n",
    "        marker=dict(color=color),\n",
    "        xbins=loss_xbins,\n",
    "    ))\n",
    "\n",
    "llc_layout = go.Layout(\n",
    "    title='bLLCs on intersection',\n",
    "    barmode='overlay'\n",
    ")\n",
    "loss_layout = go.Layout(\n",
    "    title='intersect loss',\n",
    "    barmode='overlay'\n",
    ")\n",
    "llc_fig = go.Figure(data=llc_data, layout=llc_layout)\n",
    "loss_fig = go.Figure(data=loss_data, layout=loss_layout)"
   ]
  },
  {
   "cell_type": "code",
   "execution_count": 39,
   "id": "71dee72f-757e-488f-a704-2c29a812bcac",
   "metadata": {},
   "outputs": [
    {
     "data": {
      "application/vnd.plotly.v1+json": {
       "config": {
        "plotlyServerURL": "https://plot.ly"
       },
       "data": [
        {
         "marker": {
          "color": "blue"
         },
         "name": "Z/48Z × Z/2Z",
         "opacity": 0.5,
         "type": "histogram",
         "x": [
          1187.274169921875,
          1086.0225830078125,
          1295.7705078125,
          1198.8677978515625,
          1209.943603515625,
          1398.7327880859375,
          1196.5382080078125,
          1256.701904296875,
          1103.5006103515625,
          1413.8338623046875,
          1389.701416015625,
          1252.3204345703125,
          1221.522216796875,
          1142.016845703125,
          1247.3677978515625,
          1150.0751953125,
          1268.353759765625,
          1341.5435791015625,
          1265.273681640625,
          1259.8018798828125,
          1281.5247802734375,
          1342.4615478515625,
          1094.4385986328125,
          1297.9647216796875,
          1206.2340087890625,
          1324.6551513671875,
          1210.770751953125,
          1287.787841796875,
          1256.1339111328125,
          1115.3951416015625,
          1139.4586181640625,
          1234.9158935546875,
          1254.4249267578125,
          1144.3717041015625,
          1160.1058349609375,
          1170.5234375,
          1386.845703125,
          1108.3907470703125,
          1201.9578857421875,
          1220.8194580078125,
          1135.2386474609375,
          1250.249267578125,
          1286.1236572265625,
          1303.6492919921875,
          1170.27587890625,
          1180.630126953125,
          1360.2513427734375,
          1207.441650390625,
          1267.7841796875,
          1422.94970703125,
          1217.3751220703125,
          1091.5068359375,
          1298.0184326171875,
          1179.7994384765625,
          1371.1304931640625,
          1222.265625,
          1246.989013671875,
          1332.1844482421875,
          1252.399169921875,
          1285.2984619140625,
          1262.7265625,
          1202.78125,
          1255.054931640625,
          1199.9935302734375,
          1281.97119140625,
          1270.7640380859375,
          1430.6492919921875,
          1057.285400390625,
          1142.961181640625,
          1067.417236328125,
          1188.458984375,
          1320.5782470703125,
          1154.541259765625,
          1228.3531494140625,
          1155.8533935546875,
          1263.36376953125,
          1366.2811279296875,
          1257.2713623046875,
          1191.09033203125,
          1255.13720703125,
          1282.3309326171875,
          1237.310302734375,
          1147.4923095703125,
          1292.46142578125,
          1352.9605712890625,
          1147.8746337890625,
          1198.308349609375,
          1153.059326171875,
          1336.2418212890625,
          1161.9361572265625,
          1654.2962646484375,
          1192.2474365234375,
          1262.0677490234375,
          1308.6185302734375,
          1189.342041015625,
          1109.7418212890625,
          1182.7779541015625,
          1317.190673828125,
          1229.537353515625,
          1229.005615234375
         ],
         "xbins": {
          "end": 2139.27734375,
          "size": 100,
          "start": 1057.285400390625
         }
        },
        {
         "marker": {
          "color": "red"
         },
         "name": "Z/48Z ⋊ Z/2Z",
         "opacity": 0.5,
         "type": "histogram",
         "x": [
          1780.9620361328125,
          1686.1678466796875,
          1583.9810791015625,
          1577.197509765625,
          1822.307373046875,
          1403.304931640625,
          1410.8521728515625,
          1777.6689453125,
          1570.7955322265625,
          1627.118896484375,
          1466.019287109375,
          1649.7086181640625,
          1582.75244140625,
          1900.94677734375,
          1458.879638671875,
          1635.088134765625,
          1699.3323974609375,
          1487.6861572265625,
          1959.7938232421875,
          1568.0462646484375,
          1685.98291015625,
          1892.1456298828125,
          1565.314453125,
          1771.5928955078125,
          1793.0501708984375,
          1372.4703369140625,
          2059.87646484375,
          1812.248291015625,
          1398.82666015625,
          1452.3446044921875,
          1623.177734375,
          1846.188232421875,
          1589.2353515625,
          1424.1107177734375,
          1551.4254150390625,
          1452.50634765625,
          1443.992431640625,
          2034.9569091796875,
          1694.294189453125,
          1604.668701171875,
          1873.947021484375,
          1821.884033203125,
          1363.021484375,
          1861.851806640625,
          1858.4906005859375,
          1517.0230712890625,
          1559.1278076171875,
          2139.27734375,
          1930.0537109375,
          1343.8746337890625,
          1623.12548828125,
          1554.0029296875,
          1293.744140625,
          1401.619873046875,
          1993.5877685546875,
          1375.3304443359375,
          1651.2679443359375,
          1708.69921875,
          1431.775390625,
          1843.4566650390625,
          1453.189697265625,
          1804.048583984375,
          1616.75244140625,
          1539.896240234375,
          1611.1510009765625,
          1700.5966796875,
          1759.6136474609375,
          1468.3323974609375,
          1813.519775390625,
          1731.0946044921875,
          1631.6705322265625,
          1647.0062255859375,
          1760.0767822265625,
          1732.1658935546875,
          1927.34912109375,
          1664.41552734375,
          1620.5428466796875,
          1651.205078125,
          1560.2327880859375,
          1592.992431640625,
          1653.9405517578125,
          1656.5821533203125,
          1533.3226318359375,
          1438.4984130859375,
          1565.43017578125,
          1565.92822265625,
          1326.3951416015625,
          1476.214599609375,
          1509.905517578125,
          1694.999267578125,
          1910.7509765625,
          1314.44921875,
          1744.2764892578125,
          1628.8101806640625,
          1862.9122314453125,
          1353.937255859375,
          1564.7890625,
          1377.760498046875,
          1523.9031982421875,
          1425.063720703125
         ],
         "xbins": {
          "end": 2139.27734375,
          "size": 100,
          "start": 1057.285400390625
         }
        }
       ],
       "layout": {
        "barmode": "overlay",
        "height": 500,
        "legend": {
         "font": {
          "size": 16
         }
        },
        "template": {
         "data": {
          "bar": [
           {
            "error_x": {
             "color": "#2a3f5f"
            },
            "error_y": {
             "color": "#2a3f5f"
            },
            "marker": {
             "line": {
              "color": "#E5ECF6",
              "width": 0.5
             },
             "pattern": {
              "fillmode": "overlay",
              "size": 10,
              "solidity": 0.2
             }
            },
            "type": "bar"
           }
          ],
          "barpolar": [
           {
            "marker": {
             "line": {
              "color": "#E5ECF6",
              "width": 0.5
             },
             "pattern": {
              "fillmode": "overlay",
              "size": 10,
              "solidity": 0.2
             }
            },
            "type": "barpolar"
           }
          ],
          "carpet": [
           {
            "aaxis": {
             "endlinecolor": "#2a3f5f",
             "gridcolor": "white",
             "linecolor": "white",
             "minorgridcolor": "white",
             "startlinecolor": "#2a3f5f"
            },
            "baxis": {
             "endlinecolor": "#2a3f5f",
             "gridcolor": "white",
             "linecolor": "white",
             "minorgridcolor": "white",
             "startlinecolor": "#2a3f5f"
            },
            "type": "carpet"
           }
          ],
          "choropleth": [
           {
            "colorbar": {
             "outlinewidth": 0,
             "ticks": ""
            },
            "type": "choropleth"
           }
          ],
          "contour": [
           {
            "colorbar": {
             "outlinewidth": 0,
             "ticks": ""
            },
            "colorscale": [
             [
              0,
              "#0d0887"
             ],
             [
              0.1111111111111111,
              "#46039f"
             ],
             [
              0.2222222222222222,
              "#7201a8"
             ],
             [
              0.3333333333333333,
              "#9c179e"
             ],
             [
              0.4444444444444444,
              "#bd3786"
             ],
             [
              0.5555555555555556,
              "#d8576b"
             ],
             [
              0.6666666666666666,
              "#ed7953"
             ],
             [
              0.7777777777777778,
              "#fb9f3a"
             ],
             [
              0.8888888888888888,
              "#fdca26"
             ],
             [
              1,
              "#f0f921"
             ]
            ],
            "type": "contour"
           }
          ],
          "contourcarpet": [
           {
            "colorbar": {
             "outlinewidth": 0,
             "ticks": ""
            },
            "type": "contourcarpet"
           }
          ],
          "heatmap": [
           {
            "colorbar": {
             "outlinewidth": 0,
             "ticks": ""
            },
            "colorscale": [
             [
              0,
              "#0d0887"
             ],
             [
              0.1111111111111111,
              "#46039f"
             ],
             [
              0.2222222222222222,
              "#7201a8"
             ],
             [
              0.3333333333333333,
              "#9c179e"
             ],
             [
              0.4444444444444444,
              "#bd3786"
             ],
             [
              0.5555555555555556,
              "#d8576b"
             ],
             [
              0.6666666666666666,
              "#ed7953"
             ],
             [
              0.7777777777777778,
              "#fb9f3a"
             ],
             [
              0.8888888888888888,
              "#fdca26"
             ],
             [
              1,
              "#f0f921"
             ]
            ],
            "type": "heatmap"
           }
          ],
          "heatmapgl": [
           {
            "colorbar": {
             "outlinewidth": 0,
             "ticks": ""
            },
            "colorscale": [
             [
              0,
              "#0d0887"
             ],
             [
              0.1111111111111111,
              "#46039f"
             ],
             [
              0.2222222222222222,
              "#7201a8"
             ],
             [
              0.3333333333333333,
              "#9c179e"
             ],
             [
              0.4444444444444444,
              "#bd3786"
             ],
             [
              0.5555555555555556,
              "#d8576b"
             ],
             [
              0.6666666666666666,
              "#ed7953"
             ],
             [
              0.7777777777777778,
              "#fb9f3a"
             ],
             [
              0.8888888888888888,
              "#fdca26"
             ],
             [
              1,
              "#f0f921"
             ]
            ],
            "type": "heatmapgl"
           }
          ],
          "histogram": [
           {
            "marker": {
             "pattern": {
              "fillmode": "overlay",
              "size": 10,
              "solidity": 0.2
             }
            },
            "type": "histogram"
           }
          ],
          "histogram2d": [
           {
            "colorbar": {
             "outlinewidth": 0,
             "ticks": ""
            },
            "colorscale": [
             [
              0,
              "#0d0887"
             ],
             [
              0.1111111111111111,
              "#46039f"
             ],
             [
              0.2222222222222222,
              "#7201a8"
             ],
             [
              0.3333333333333333,
              "#9c179e"
             ],
             [
              0.4444444444444444,
              "#bd3786"
             ],
             [
              0.5555555555555556,
              "#d8576b"
             ],
             [
              0.6666666666666666,
              "#ed7953"
             ],
             [
              0.7777777777777778,
              "#fb9f3a"
             ],
             [
              0.8888888888888888,
              "#fdca26"
             ],
             [
              1,
              "#f0f921"
             ]
            ],
            "type": "histogram2d"
           }
          ],
          "histogram2dcontour": [
           {
            "colorbar": {
             "outlinewidth": 0,
             "ticks": ""
            },
            "colorscale": [
             [
              0,
              "#0d0887"
             ],
             [
              0.1111111111111111,
              "#46039f"
             ],
             [
              0.2222222222222222,
              "#7201a8"
             ],
             [
              0.3333333333333333,
              "#9c179e"
             ],
             [
              0.4444444444444444,
              "#bd3786"
             ],
             [
              0.5555555555555556,
              "#d8576b"
             ],
             [
              0.6666666666666666,
              "#ed7953"
             ],
             [
              0.7777777777777778,
              "#fb9f3a"
             ],
             [
              0.8888888888888888,
              "#fdca26"
             ],
             [
              1,
              "#f0f921"
             ]
            ],
            "type": "histogram2dcontour"
           }
          ],
          "mesh3d": [
           {
            "colorbar": {
             "outlinewidth": 0,
             "ticks": ""
            },
            "type": "mesh3d"
           }
          ],
          "parcoords": [
           {
            "line": {
             "colorbar": {
              "outlinewidth": 0,
              "ticks": ""
             }
            },
            "type": "parcoords"
           }
          ],
          "pie": [
           {
            "automargin": true,
            "type": "pie"
           }
          ],
          "scatter": [
           {
            "fillpattern": {
             "fillmode": "overlay",
             "size": 10,
             "solidity": 0.2
            },
            "type": "scatter"
           }
          ],
          "scatter3d": [
           {
            "line": {
             "colorbar": {
              "outlinewidth": 0,
              "ticks": ""
             }
            },
            "marker": {
             "colorbar": {
              "outlinewidth": 0,
              "ticks": ""
             }
            },
            "type": "scatter3d"
           }
          ],
          "scattercarpet": [
           {
            "marker": {
             "colorbar": {
              "outlinewidth": 0,
              "ticks": ""
             }
            },
            "type": "scattercarpet"
           }
          ],
          "scattergeo": [
           {
            "marker": {
             "colorbar": {
              "outlinewidth": 0,
              "ticks": ""
             }
            },
            "type": "scattergeo"
           }
          ],
          "scattergl": [
           {
            "marker": {
             "colorbar": {
              "outlinewidth": 0,
              "ticks": ""
             }
            },
            "type": "scattergl"
           }
          ],
          "scattermapbox": [
           {
            "marker": {
             "colorbar": {
              "outlinewidth": 0,
              "ticks": ""
             }
            },
            "type": "scattermapbox"
           }
          ],
          "scatterpolar": [
           {
            "marker": {
             "colorbar": {
              "outlinewidth": 0,
              "ticks": ""
             }
            },
            "type": "scatterpolar"
           }
          ],
          "scatterpolargl": [
           {
            "marker": {
             "colorbar": {
              "outlinewidth": 0,
              "ticks": ""
             }
            },
            "type": "scatterpolargl"
           }
          ],
          "scatterternary": [
           {
            "marker": {
             "colorbar": {
              "outlinewidth": 0,
              "ticks": ""
             }
            },
            "type": "scatterternary"
           }
          ],
          "surface": [
           {
            "colorbar": {
             "outlinewidth": 0,
             "ticks": ""
            },
            "colorscale": [
             [
              0,
              "#0d0887"
             ],
             [
              0.1111111111111111,
              "#46039f"
             ],
             [
              0.2222222222222222,
              "#7201a8"
             ],
             [
              0.3333333333333333,
              "#9c179e"
             ],
             [
              0.4444444444444444,
              "#bd3786"
             ],
             [
              0.5555555555555556,
              "#d8576b"
             ],
             [
              0.6666666666666666,
              "#ed7953"
             ],
             [
              0.7777777777777778,
              "#fb9f3a"
             ],
             [
              0.8888888888888888,
              "#fdca26"
             ],
             [
              1,
              "#f0f921"
             ]
            ],
            "type": "surface"
           }
          ],
          "table": [
           {
            "cells": {
             "fill": {
              "color": "#EBF0F8"
             },
             "line": {
              "color": "white"
             }
            },
            "header": {
             "fill": {
              "color": "#C8D4E3"
             },
             "line": {
              "color": "white"
             }
            },
            "type": "table"
           }
          ]
         },
         "layout": {
          "annotationdefaults": {
           "arrowcolor": "#2a3f5f",
           "arrowhead": 0,
           "arrowwidth": 1
          },
          "autotypenumbers": "strict",
          "coloraxis": {
           "colorbar": {
            "outlinewidth": 0,
            "ticks": ""
           }
          },
          "colorscale": {
           "diverging": [
            [
             0,
             "#8e0152"
            ],
            [
             0.1,
             "#c51b7d"
            ],
            [
             0.2,
             "#de77ae"
            ],
            [
             0.3,
             "#f1b6da"
            ],
            [
             0.4,
             "#fde0ef"
            ],
            [
             0.5,
             "#f7f7f7"
            ],
            [
             0.6,
             "#e6f5d0"
            ],
            [
             0.7,
             "#b8e186"
            ],
            [
             0.8,
             "#7fbc41"
            ],
            [
             0.9,
             "#4d9221"
            ],
            [
             1,
             "#276419"
            ]
           ],
           "sequential": [
            [
             0,
             "#0d0887"
            ],
            [
             0.1111111111111111,
             "#46039f"
            ],
            [
             0.2222222222222222,
             "#7201a8"
            ],
            [
             0.3333333333333333,
             "#9c179e"
            ],
            [
             0.4444444444444444,
             "#bd3786"
            ],
            [
             0.5555555555555556,
             "#d8576b"
            ],
            [
             0.6666666666666666,
             "#ed7953"
            ],
            [
             0.7777777777777778,
             "#fb9f3a"
            ],
            [
             0.8888888888888888,
             "#fdca26"
            ],
            [
             1,
             "#f0f921"
            ]
           ],
           "sequentialminus": [
            [
             0,
             "#0d0887"
            ],
            [
             0.1111111111111111,
             "#46039f"
            ],
            [
             0.2222222222222222,
             "#7201a8"
            ],
            [
             0.3333333333333333,
             "#9c179e"
            ],
            [
             0.4444444444444444,
             "#bd3786"
            ],
            [
             0.5555555555555556,
             "#d8576b"
            ],
            [
             0.6666666666666666,
             "#ed7953"
            ],
            [
             0.7777777777777778,
             "#fb9f3a"
            ],
            [
             0.8888888888888888,
             "#fdca26"
            ],
            [
             1,
             "#f0f921"
            ]
           ]
          },
          "colorway": [
           "#636efa",
           "#EF553B",
           "#00cc96",
           "#ab63fa",
           "#FFA15A",
           "#19d3f3",
           "#FF6692",
           "#B6E880",
           "#FF97FF",
           "#FECB52"
          ],
          "font": {
           "color": "#2a3f5f"
          },
          "geo": {
           "bgcolor": "white",
           "lakecolor": "white",
           "landcolor": "#E5ECF6",
           "showlakes": true,
           "showland": true,
           "subunitcolor": "white"
          },
          "hoverlabel": {
           "align": "left"
          },
          "hovermode": "closest",
          "mapbox": {
           "style": "light"
          },
          "paper_bgcolor": "white",
          "plot_bgcolor": "#E5ECF6",
          "polar": {
           "angularaxis": {
            "gridcolor": "white",
            "linecolor": "white",
            "ticks": ""
           },
           "bgcolor": "#E5ECF6",
           "radialaxis": {
            "gridcolor": "white",
            "linecolor": "white",
            "ticks": ""
           }
          },
          "scene": {
           "xaxis": {
            "backgroundcolor": "#E5ECF6",
            "gridcolor": "white",
            "gridwidth": 2,
            "linecolor": "white",
            "showbackground": true,
            "ticks": "",
            "zerolinecolor": "white"
           },
           "yaxis": {
            "backgroundcolor": "#E5ECF6",
            "gridcolor": "white",
            "gridwidth": 2,
            "linecolor": "white",
            "showbackground": true,
            "ticks": "",
            "zerolinecolor": "white"
           },
           "zaxis": {
            "backgroundcolor": "#E5ECF6",
            "gridcolor": "white",
            "gridwidth": 2,
            "linecolor": "white",
            "showbackground": true,
            "ticks": "",
            "zerolinecolor": "white"
           }
          },
          "shapedefaults": {
           "line": {
            "color": "#2a3f5f"
           }
          },
          "ternary": {
           "aaxis": {
            "gridcolor": "white",
            "linecolor": "white",
            "ticks": ""
           },
           "baxis": {
            "gridcolor": "white",
            "linecolor": "white",
            "ticks": ""
           },
           "bgcolor": "#E5ECF6",
           "caxis": {
            "gridcolor": "white",
            "linecolor": "white",
            "ticks": ""
           }
          },
          "title": {
           "x": 0.05
          },
          "xaxis": {
           "automargin": true,
           "gridcolor": "white",
           "linecolor": "white",
           "ticks": "",
           "title": {
            "standoff": 15
           },
           "zerolinecolor": "white",
           "zerolinewidth": 2
          },
          "yaxis": {
           "automargin": true,
           "gridcolor": "white",
           "linecolor": "white",
           "ticks": "",
           "title": {
            "standoff": 15
           },
           "zerolinecolor": "white",
           "zerolinewidth": 2
          }
         }
        },
        "title": {
         "font": {
          "size": 24
         },
         "text": "bLLCs on intersection"
        },
        "width": 1600,
        "xaxis": {
         "autorange": true,
         "range": [
          1057.285400390625,
          2157.285400390625
         ],
         "tickfont": {
          "size": 16
         },
         "title": {
          "font": {
           "size": 20
          },
          "text": "bLLC"
         },
         "type": "linear"
        },
        "yaxis": {
         "autorange": true,
         "range": [
          0,
          44.21052631578947
         ],
         "tickfont": {
          "size": 16
         },
         "title": {
          "font": {
           "size": 20
          },
          "text": "count"
         }
        }
       }
      },
      "image/png": "[encoded data removed]",
      "text/html": [
       "<div>                            <div id=\"9b7b7480-859b-4ea2-8713-a7e4ab89a51c\" class=\"plotly-graph-div\" style=\"height:500px; width:1600px;\"></div>            <script type=\"text/javascript\">                require([\"plotly\"], function(Plotly) {                    window.PLOTLYENV=window.PLOTLYENV || {};                                    if (document.getElementById(\"9b7b7480-859b-4ea2-8713-a7e4ab89a51c\")) {                    Plotly.newPlot(                        \"9b7b7480-859b-4ea2-8713-a7e4ab89a51c\",                        [{\"marker\":{\"color\":\"blue\"},\"name\":\"Z\\u002f48Z \\u00d7 Z\\u002f2Z\",\"opacity\":0.5,\"x\":[1187.274169921875,1086.0225830078125,1295.7705078125,1198.8677978515625,1209.943603515625,1398.7327880859375,1196.5382080078125,1256.701904296875,1103.5006103515625,1413.8338623046875,1389.701416015625,1252.3204345703125,1221.522216796875,1142.016845703125,1247.3677978515625,1150.0751953125,1268.353759765625,1341.5435791015625,1265.273681640625,1259.8018798828125,1281.5247802734375,1342.4615478515625,1094.4385986328125,1297.9647216796875,1206.2340087890625,1324.6551513671875,1210.770751953125,1287.787841796875,1256.1339111328125,1115.3951416015625,1139.4586181640625,1234.9158935546875,1254.4249267578125,1144.3717041015625,1160.1058349609375,1170.5234375,1386.845703125,1108.3907470703125,1201.9578857421875,1220.8194580078125,1135.2386474609375,1250.249267578125,1286.1236572265625,1303.6492919921875,1170.27587890625,1180.630126953125,1360.2513427734375,1207.441650390625,1267.7841796875,1422.94970703125,1217.3751220703125,1091.5068359375,1298.0184326171875,1179.7994384765625,1371.1304931640625,1222.265625,1246.989013671875,1332.1844482421875,1252.399169921875,1285.2984619140625,1262.7265625,1202.78125,1255.054931640625,1199.9935302734375,1281.97119140625,1270.7640380859375,1430.6492919921875,1057.285400390625,1142.961181640625,1067.417236328125,1188.458984375,1320.5782470703125,1154.541259765625,1228.3531494140625,1155.8533935546875,1263.36376953125,1366.2811279296875,1257.2713623046875,1191.09033203125,1255.13720703125,1282.3309326171875,1237.310302734375,1147.4923095703125,1292.46142578125,1352.9605712890625,1147.8746337890625,1198.308349609375,1153.059326171875,1336.2418212890625,1161.9361572265625,1654.2962646484375,1192.2474365234375,1262.0677490234375,1308.6185302734375,1189.342041015625,1109.7418212890625,1182.7779541015625,1317.190673828125,1229.537353515625,1229.005615234375],\"xbins\":{\"end\":2139.27734375,\"size\":100,\"start\":1057.285400390625},\"type\":\"histogram\"},{\"marker\":{\"color\":\"red\"},\"name\":\"Z\\u002f48Z \\u22ca Z\\u002f2Z\",\"opacity\":0.5,\"x\":[1780.9620361328125,1686.1678466796875,1583.9810791015625,1577.197509765625,1822.307373046875,1403.304931640625,1410.8521728515625,1777.6689453125,1570.7955322265625,1627.118896484375,1466.019287109375,1649.7086181640625,1582.75244140625,1900.94677734375,1458.879638671875,1635.088134765625,1699.3323974609375,1487.6861572265625,1959.7938232421875,1568.0462646484375,1685.98291015625,1892.1456298828125,1565.314453125,1771.5928955078125,1793.0501708984375,1372.4703369140625,2059.87646484375,1812.248291015625,1398.82666015625,1452.3446044921875,1623.177734375,1846.188232421875,1589.2353515625,1424.1107177734375,1551.4254150390625,1452.50634765625,1443.992431640625,2034.9569091796875,1694.294189453125,1604.668701171875,1873.947021484375,1821.884033203125,1363.021484375,1861.851806640625,1858.4906005859375,1517.0230712890625,1559.1278076171875,2139.27734375,1930.0537109375,1343.8746337890625,1623.12548828125,1554.0029296875,1293.744140625,1401.619873046875,1993.5877685546875,1375.3304443359375,1651.2679443359375,1708.69921875,1431.775390625,1843.4566650390625,1453.189697265625,1804.048583984375,1616.75244140625,1539.896240234375,1611.1510009765625,1700.5966796875,1759.6136474609375,1468.3323974609375,1813.519775390625,1731.0946044921875,1631.6705322265625,1647.0062255859375,1760.0767822265625,1732.1658935546875,1927.34912109375,1664.41552734375,1620.5428466796875,1651.205078125,1560.2327880859375,1592.992431640625,1653.9405517578125,1656.5821533203125,1533.3226318359375,1438.4984130859375,1565.43017578125,1565.92822265625,1326.3951416015625,1476.214599609375,1509.905517578125,1694.999267578125,1910.7509765625,1314.44921875,1744.2764892578125,1628.8101806640625,1862.9122314453125,1353.937255859375,1564.7890625,1377.760498046875,1523.9031982421875,1425.063720703125],\"xbins\":{\"end\":2139.27734375,\"size\":100,\"start\":1057.285400390625},\"type\":\"histogram\"}],                        {\"barmode\":\"overlay\",\"title\":{\"text\":\"bLLCs on intersection\",\"font\":{\"size\":24}},\"template\":{\"data\":{\"histogram2dcontour\":[{\"type\":\"histogram2dcontour\",\"colorbar\":{\"outlinewidth\":0,\"ticks\":\"\"},\"colorscale\":[[0.0,\"#0d0887\"],[0.1111111111111111,\"#46039f\"],[0.2222222222222222,\"#7201a8\"],[0.3333333333333333,\"#9c179e\"],[0.4444444444444444,\"#bd3786\"],[0.5555555555555556,\"#d8576b\"],[0.6666666666666666,\"#ed7953\"],[0.7777777777777778,\"#fb9f3a\"],[0.8888888888888888,\"#fdca26\"],[1.0,\"#f0f921\"]]}],\"choropleth\":[{\"type\":\"choropleth\",\"colorbar\":{\"outlinewidth\":0,\"ticks\":\"\"}}],\"histogram2d\":[{\"type\":\"histogram2d\",\"colorbar\":{\"outlinewidth\":0,\"ticks\":\"\"},\"colorscale\":[[0.0,\"#0d0887\"],[0.1111111111111111,\"#46039f\"],[0.2222222222222222,\"#7201a8\"],[0.3333333333333333,\"#9c179e\"],[0.4444444444444444,\"#bd3786\"],[0.5555555555555556,\"#d8576b\"],[0.6666666666666666,\"#ed7953\"],[0.7777777777777778,\"#fb9f3a\"],[0.8888888888888888,\"#fdca26\"],[1.0,\"#f0f921\"]]}],\"heatmap\":[{\"type\":\"heatmap\",\"colorbar\":{\"outlinewidth\":0,\"ticks\":\"\"},\"colorscale\":[[0.0,\"#0d0887\"],[0.1111111111111111,\"#46039f\"],[0.2222222222222222,\"#7201a8\"],[0.3333333333333333,\"#9c179e\"],[0.4444444444444444,\"#bd3786\"],[0.5555555555555556,\"#d8576b\"],[0.6666666666666666,\"#ed7953\"],[0.7777777777777778,\"#fb9f3a\"],[0.8888888888888888,\"#fdca26\"],[1.0,\"#f0f921\"]]}],\"heatmapgl\":[{\"type\":\"heatmapgl\",\"colorbar\":{\"outlinewidth\":0,\"ticks\":\"\"},\"colorscale\":[[0.0,\"#0d0887\"],[0.1111111111111111,\"#46039f\"],[0.2222222222222222,\"#7201a8\"],[0.3333333333333333,\"#9c179e\"],[0.4444444444444444,\"#bd3786\"],[0.5555555555555556,\"#d8576b\"],[0.6666666666666666,\"#ed7953\"],[0.7777777777777778,\"#fb9f3a\"],[0.8888888888888888,\"#fdca26\"],[1.0,\"#f0f921\"]]}],\"contourcarpet\":[{\"type\":\"contourcarpet\",\"colorbar\":{\"outlinewidth\":0,\"ticks\":\"\"}}],\"contour\":[{\"type\":\"contour\",\"colorbar\":{\"outlinewidth\":0,\"ticks\":\"\"},\"colorscale\":[[0.0,\"#0d0887\"],[0.1111111111111111,\"#46039f\"],[0.2222222222222222,\"#7201a8\"],[0.3333333333333333,\"#9c179e\"],[0.4444444444444444,\"#bd3786\"],[0.5555555555555556,\"#d8576b\"],[0.6666666666666666,\"#ed7953\"],[0.7777777777777778,\"#fb9f3a\"],[0.8888888888888888,\"#fdca26\"],[1.0,\"#f0f921\"]]}],\"surface\":[{\"type\":\"surface\",\"colorbar\":{\"outlinewidth\":0,\"ticks\":\"\"},\"colorscale\":[[0.0,\"#0d0887\"],[0.1111111111111111,\"#46039f\"],[0.2222222222222222,\"#7201a8\"],[0.3333333333333333,\"#9c179e\"],[0.4444444444444444,\"#bd3786\"],[0.5555555555555556,\"#d8576b\"],[0.6666666666666666,\"#ed7953\"],[0.7777777777777778,\"#fb9f3a\"],[0.8888888888888888,\"#fdca26\"],[1.0,\"#f0f921\"]]}],\"mesh3d\":[{\"type\":\"mesh3d\",\"colorbar\":{\"outlinewidth\":0,\"ticks\":\"\"}}],\"scatter\":[{\"fillpattern\":{\"fillmode\":\"overlay\",\"size\":10,\"solidity\":0.2},\"type\":\"scatter\"}],\"parcoords\":[{\"type\":\"parcoords\",\"line\":{\"colorbar\":{\"outlinewidth\":0,\"ticks\":\"\"}}}],\"scatterpolargl\":[{\"type\":\"scatterpolargl\",\"marker\":{\"colorbar\":{\"outlinewidth\":0,\"ticks\":\"\"}}}],\"bar\":[{\"error_x\":{\"color\":\"#2a3f5f\"},\"error_y\":{\"color\":\"#2a3f5f\"},\"marker\":{\"line\":{\"color\":\"#E5ECF6\",\"width\":0.5},\"pattern\":{\"fillmode\":\"overlay\",\"size\":10,\"solidity\":0.2}},\"type\":\"bar\"}],\"scattergeo\":[{\"type\":\"scattergeo\",\"marker\":{\"colorbar\":{\"outlinewidth\":0,\"ticks\":\"\"}}}],\"scatterpolar\":[{\"type\":\"scatterpolar\",\"marker\":{\"colorbar\":{\"outlinewidth\":0,\"ticks\":\"\"}}}],\"histogram\":[{\"marker\":{\"pattern\":{\"fillmode\":\"overlay\",\"size\":10,\"solidity\":0.2}},\"type\":\"histogram\"}],\"scattergl\":[{\"type\":\"scattergl\",\"marker\":{\"colorbar\":{\"outlinewidth\":0,\"ticks\":\"\"}}}],\"scatter3d\":[{\"type\":\"scatter3d\",\"line\":{\"colorbar\":{\"outlinewidth\":0,\"ticks\":\"\"}},\"marker\":{\"colorbar\":{\"outlinewidth\":0,\"ticks\":\"\"}}}],\"scattermapbox\":[{\"type\":\"scattermapbox\",\"marker\":{\"colorbar\":{\"outlinewidth\":0,\"ticks\":\"\"}}}],\"scatterternary\":[{\"type\":\"scatterternary\",\"marker\":{\"colorbar\":{\"outlinewidth\":0,\"ticks\":\"\"}}}],\"scattercarpet\":[{\"type\":\"scattercarpet\",\"marker\":{\"colorbar\":{\"outlinewidth\":0,\"ticks\":\"\"}}}],\"carpet\":[{\"aaxis\":{\"endlinecolor\":\"#2a3f5f\",\"gridcolor\":\"white\",\"linecolor\":\"white\",\"minorgridcolor\":\"white\",\"startlinecolor\":\"#2a3f5f\"},\"baxis\":{\"endlinecolor\":\"#2a3f5f\",\"gridcolor\":\"white\",\"linecolor\":\"white\",\"minorgridcolor\":\"white\",\"startlinecolor\":\"#2a3f5f\"},\"type\":\"carpet\"}],\"table\":[{\"cells\":{\"fill\":{\"color\":\"#EBF0F8\"},\"line\":{\"color\":\"white\"}},\"header\":{\"fill\":{\"color\":\"#C8D4E3\"},\"line\":{\"color\":\"white\"}},\"type\":\"table\"}],\"barpolar\":[{\"marker\":{\"line\":{\"color\":\"#E5ECF6\",\"width\":0.5},\"pattern\":{\"fillmode\":\"overlay\",\"size\":10,\"solidity\":0.2}},\"type\":\"barpolar\"}],\"pie\":[{\"automargin\":true,\"type\":\"pie\"}]},\"layout\":{\"autotypenumbers\":\"strict\",\"colorway\":[\"#636efa\",\"#EF553B\",\"#00cc96\",\"#ab63fa\",\"#FFA15A\",\"#19d3f3\",\"#FF6692\",\"#B6E880\",\"#FF97FF\",\"#FECB52\"],\"font\":{\"color\":\"#2a3f5f\"},\"hovermode\":\"closest\",\"hoverlabel\":{\"align\":\"left\"},\"paper_bgcolor\":\"white\",\"plot_bgcolor\":\"#E5ECF6\",\"polar\":{\"bgcolor\":\"#E5ECF6\",\"angularaxis\":{\"gridcolor\":\"white\",\"linecolor\":\"white\",\"ticks\":\"\"},\"radialaxis\":{\"gridcolor\":\"white\",\"linecolor\":\"white\",\"ticks\":\"\"}},\"ternary\":{\"bgcolor\":\"#E5ECF6\",\"aaxis\":{\"gridcolor\":\"white\",\"linecolor\":\"white\",\"ticks\":\"\"},\"baxis\":{\"gridcolor\":\"white\",\"linecolor\":\"white\",\"ticks\":\"\"},\"caxis\":{\"gridcolor\":\"white\",\"linecolor\":\"white\",\"ticks\":\"\"}},\"coloraxis\":{\"colorbar\":{\"outlinewidth\":0,\"ticks\":\"\"}},\"colorscale\":{\"sequential\":[[0.0,\"#0d0887\"],[0.1111111111111111,\"#46039f\"],[0.2222222222222222,\"#7201a8\"],[0.3333333333333333,\"#9c179e\"],[0.4444444444444444,\"#bd3786\"],[0.5555555555555556,\"#d8576b\"],[0.6666666666666666,\"#ed7953\"],[0.7777777777777778,\"#fb9f3a\"],[0.8888888888888888,\"#fdca26\"],[1.0,\"#f0f921\"]],\"sequentialminus\":[[0.0,\"#0d0887\"],[0.1111111111111111,\"#46039f\"],[0.2222222222222222,\"#7201a8\"],[0.3333333333333333,\"#9c179e\"],[0.4444444444444444,\"#bd3786\"],[0.5555555555555556,\"#d8576b\"],[0.6666666666666666,\"#ed7953\"],[0.7777777777777778,\"#fb9f3a\"],[0.8888888888888888,\"#fdca26\"],[1.0,\"#f0f921\"]],\"diverging\":[[0,\"#8e0152\"],[0.1,\"#c51b7d\"],[0.2,\"#de77ae\"],[0.3,\"#f1b6da\"],[0.4,\"#fde0ef\"],[0.5,\"#f7f7f7\"],[0.6,\"#e6f5d0\"],[0.7,\"#b8e186\"],[0.8,\"#7fbc41\"],[0.9,\"#4d9221\"],[1,\"#276419\"]]},\"xaxis\":{\"gridcolor\":\"white\",\"linecolor\":\"white\",\"ticks\":\"\",\"title\":{\"standoff\":15},\"zerolinecolor\":\"white\",\"automargin\":true,\"zerolinewidth\":2},\"yaxis\":{\"gridcolor\":\"white\",\"linecolor\":\"white\",\"ticks\":\"\",\"title\":{\"standoff\":15},\"zerolinecolor\":\"white\",\"automargin\":true,\"zerolinewidth\":2},\"scene\":{\"xaxis\":{\"backgroundcolor\":\"#E5ECF6\",\"gridcolor\":\"white\",\"linecolor\":\"white\",\"showbackground\":true,\"ticks\":\"\",\"zerolinecolor\":\"white\",\"gridwidth\":2},\"yaxis\":{\"backgroundcolor\":\"#E5ECF6\",\"gridcolor\":\"white\",\"linecolor\":\"white\",\"showbackground\":true,\"ticks\":\"\",\"zerolinecolor\":\"white\",\"gridwidth\":2},\"zaxis\":{\"backgroundcolor\":\"#E5ECF6\",\"gridcolor\":\"white\",\"linecolor\":\"white\",\"showbackground\":true,\"ticks\":\"\",\"zerolinecolor\":\"white\",\"gridwidth\":2}},\"shapedefaults\":{\"line\":{\"color\":\"#2a3f5f\"}},\"annotationdefaults\":{\"arrowcolor\":\"#2a3f5f\",\"arrowhead\":0,\"arrowwidth\":1},\"geo\":{\"bgcolor\":\"white\",\"landcolor\":\"#E5ECF6\",\"subunitcolor\":\"white\",\"showland\":true,\"showlakes\":true,\"lakecolor\":\"white\"},\"title\":{\"x\":0.05},\"mapbox\":{\"style\":\"light\"}}},\"width\":1600,\"height\":500,\"xaxis\":{\"tickfont\":{\"size\":16},\"title\":{\"text\":\"bLLC\",\"font\":{\"size\":20}}},\"yaxis\":{\"tickfont\":{\"size\":16},\"title\":{\"text\":\"count\",\"font\":{\"size\":20}}},\"legend\":{\"font\":{\"size\":16}}},                        {\"responsive\": true}                    ).then(function(){\n",
       "                            \n",
       "var gd = document.getElementById('9b7b7480-859b-4ea2-8713-a7e4ab89a51c');\n",
       "var x = new MutationObserver(function (mutations, observer) {{\n",
       "        var display = window.getComputedStyle(gd).display;\n",
       "        if (!display || display === 'none') {{\n",
       "            console.log([gd, 'removed!']);\n",
       "            Plotly.purge(gd);\n",
       "            observer.disconnect();\n",
       "        }}\n",
       "}});\n",
       "\n",
       "// Listen for the removal of the full notebook cells\n",
       "var notebookContainer = gd.closest('#notebook-container');\n",
       "if (notebookContainer) {{\n",
       "    x.observe(notebookContainer, {childList: true});\n",
       "}}\n",
       "\n",
       "// Listen for the clearing of the current output cell\n",
       "var outputEl = gd.closest('.output');\n",
       "if (outputEl) {{\n",
       "    x.observe(outputEl, {childList: true});\n",
       "}}\n",
       "\n",
       "                        })                };                });            </script>        </div>"
      ]
     },
     "metadata": {},
     "output_type": "display_data"
    }
   ],
   "source": [
    "llc_fig.update_layout(\n",
    "    dict(\n",
    "        width=1600,height=500,\n",
    "        xaxis=dict(title='bLLC', tickfont=dict(size=16), titlefont=dict(size=20)),\n",
    "        yaxis=dict(title='count', tickfont=dict(size=16), titlefont=dict(size=20)),\n",
    "        title=dict(text=\"bLLCs on intersection\", font=dict(size=24)),\n",
    "        legend=dict(\n",
    "            font=dict(size=16)  # Legend font size\n",
    "        )\n",
    "    )\n",
    ")\n",
    "llc_fig.show()"
   ]
  },
  {
   "cell_type": "code",
   "execution_count": 16,
   "id": "e74829e5-2848-416f-b9d8-de2d62fa5d90",
   "metadata": {},
   "outputs": [
    {
     "data": {
      "application/vnd.plotly.v1+json": {
       "config": {
        "plotlyServerURL": "https://plot.ly"
       },
       "data": [
        {
         "marker": {
          "color": "blue"
         },
         "name": "Z(48,2)",
         "opacity": 0.5,
         "type": "histogram",
         "x": [
          0.030999286100268364,
          0.03461906686425209,
          0.04058432579040527,
          0.034129925072193146,
          0.03248376399278641,
          0.0405147448182106,
          0.029931778088212013,
          0.03756923973560333,
          0.0297734085470438,
          0.04795559123158455,
          0.04381762817502022,
          0.02964467741549015,
          0.031959373503923416,
          0.02807489037513733,
          0.04702145978808403,
          0.031186748296022415,
          0.037160493433475494,
          0.0342014841735363,
          0.04878885671496391,
          0.0426635704934597,
          0.04121207445859909,
          0.06952706724405289,
          0.03824600577354431,
          0.033530764281749725,
          0.03011917509138584,
          0.034605663269758224,
          0.03230837732553482,
          0.032322194427251816,
          0.04253820329904556,
          0.027787283062934875,
          0.03390439227223396,
          0.03680010885000229,
          0.03069426864385605,
          0.03227723389863968,
          0.04895953834056854,
          0.03074117936193943,
          0.03832335025072098,
          0.029242631047964096,
          0.044639118015766144,
          0.04177173599600792,
          0.027198536321520805,
          0.03463924676179886,
          0.036017514765262604,
          0.03669889643788338,
          0.028660200536251068,
          0.04241549223661423,
          0.03753972053527832,
          0.02695544809103012,
          0.03130151331424713,
          0.05069922283291817,
          0.03063102625310421,
          0.028654320165514946,
          0.0560864619910717,
          0.03029678948223591,
          0.06788624078035355,
          0.033792492002248764,
          0.03753745183348656,
          0.03611065074801445,
          0.030993100255727768,
          0.03358517214655876,
          0.03373491019010544,
          0.02794758230447769,
          0.02962806448340416,
          0.02927965670824051,
          0.043929509818553925,
          0.03154617175459862,
          0.050367407500743866,
          0.02873343601822853,
          0.040443532168865204,
          0.029328469187021255,
          0.03879319503903389,
          0.035864025354385376,
          0.04234032705426216,
          0.030449870973825455,
          0.02996685728430748,
          0.03876905515789986,
          0.047169554978609085,
          0.03309478983283043,
          0.028632450848817825,
          0.03566687926650047,
          0.034612249583005905,
          0.03134111687541008,
          0.028209138661623,
          0.04396158829331398,
          0.04436422139406204,
          0.040226057171821594,
          0.032710202038288116,
          0.029653817415237427,
          0.039871182292699814,
          0.028529761359095573,
          0.10197500139474869,
          0.03699846938252449,
          0.03443903475999832,
          0.06069440022110939,
          0.02735995687544346,
          0.028037777170538902,
          0.02812344767153263,
          0.034466687589883804,
          0.034081585705280304,
          0.03446340188384056
         ],
         "xbins": {
          "end": 0.12449735403060913,
          "size": 0.01,
          "start": 0.02695544809103012
         }
        },
        {
         "marker": {
          "color": "red"
         },
         "name": "twZ(48)",
         "opacity": 0.5,
         "type": "histogram",
         "x": [
          0.08687802404165268,
          0.06060037761926651,
          0.042784400284290314,
          0.061577606946229935,
          0.07270947098731995,
          0.04990270361304283,
          0.05766051262617111,
          0.09095123410224915,
          0.06251087784767151,
          0.06907839328050613,
          0.05462817847728729,
          0.05524394288659096,
          0.0659712627530098,
          0.08358745276927948,
          0.048208191990852356,
          0.06197752803564072,
          0.07089381664991379,
          0.09437072277069092,
          0.055414631962776184,
          0.044380296021699905,
          0.05761808156967163,
          0.06296885013580322,
          0.0431208536028862,
          0.050868552178144455,
          0.08222799003124237,
          0.04256920516490936,
          0.06957302987575531,
          0.056832071393728256,
          0.0578581728041172,
          0.08757232129573822,
          0.06689557433128357,
          0.05952413007616997,
          0.06113223731517792,
          0.08976254612207413,
          0.045795340090990067,
          0.10315294563770294,
          0.04167863726615906,
          0.0677637979388237,
          0.06888774782419205,
          0.04777747765183449,
          0.06084871292114258,
          0.12449735403060913,
          0.05076717212796211,
          0.07314780354499817,
          0.09966854006052017,
          0.06678763031959534,
          0.05892937630414963,
          0.08323095738887787,
          0.07716970145702362,
          0.049315109848976135,
          0.08963268995285034,
          0.0601755790412426,
          0.05239960923790932,
          0.05749497562646866,
          0.07330308854579926,
          0.04409148916602135,
          0.04619015008211136,
          0.05778419226408005,
          0.05357205495238304,
          0.07459594309329987,
          0.06314776837825775,
          0.05820221081376076,
          0.04999588057398796,
          0.055164556950330734,
          0.06245210021734238,
          0.06556115299463272,
          0.08328131586313248,
          0.04329724609851837,
          0.05636858195066452,
          0.05052613466978073,
          0.04952871799468994,
          0.07017654180526733,
          0.058708541095256805,
          0.08990415185689926,
          0.06758980453014374,
          0.05550010874867439,
          0.07993048429489136,
          0.043569423258304596,
          0.04529412090778351,
          0.09166479855775833,
          0.05633596330881119,
          0.07017150521278381,
          0.05907350778579712,
          0.054146572947502136,
          0.05145096033811569,
          0.052439410239458084,
          0.04479788988828659,
          0.06258568167686462,
          0.038989320397377014,
          0.05719764530658722,
          0.09202980250120163,
          0.06486456841230392,
          0.09559641778469086,
          0.04468080773949623,
          0.04927938058972359,
          0.06247732415795326,
          0.049466270953416824,
          0.046634964644908905,
          0.11185860633850098,
          0.05054248124361038
         ],
         "xbins": {
          "end": 0.12449735403060913,
          "size": 0.01,
          "start": 0.02695544809103012
         }
        }
       ],
       "layout": {
        "autosize": true,
        "barmode": "overlay",
        "template": {
         "data": {
          "bar": [
           {
            "error_x": {
             "color": "#2a3f5f"
            },
            "error_y": {
             "color": "#2a3f5f"
            },
            "marker": {
             "line": {
              "color": "#E5ECF6",
              "width": 0.5
             },
             "pattern": {
              "fillmode": "overlay",
              "size": 10,
              "solidity": 0.2
             }
            },
            "type": "bar"
           }
          ],
          "barpolar": [
           {
            "marker": {
             "line": {
              "color": "#E5ECF6",
              "width": 0.5
             },
             "pattern": {
              "fillmode": "overlay",
              "size": 10,
              "solidity": 0.2
             }
            },
            "type": "barpolar"
           }
          ],
          "carpet": [
           {
            "aaxis": {
             "endlinecolor": "#2a3f5f",
             "gridcolor": "white",
             "linecolor": "white",
             "minorgridcolor": "white",
             "startlinecolor": "#2a3f5f"
            },
            "baxis": {
             "endlinecolor": "#2a3f5f",
             "gridcolor": "white",
             "linecolor": "white",
             "minorgridcolor": "white",
             "startlinecolor": "#2a3f5f"
            },
            "type": "carpet"
           }
          ],
          "choropleth": [
           {
            "colorbar": {
             "outlinewidth": 0,
             "ticks": ""
            },
            "type": "choropleth"
           }
          ],
          "contour": [
           {
            "colorbar": {
             "outlinewidth": 0,
             "ticks": ""
            },
            "colorscale": [
             [
              0,
              "#0d0887"
             ],
             [
              0.1111111111111111,
              "#46039f"
             ],
             [
              0.2222222222222222,
              "#7201a8"
             ],
             [
              0.3333333333333333,
              "#9c179e"
             ],
             [
              0.4444444444444444,
              "#bd3786"
             ],
             [
              0.5555555555555556,
              "#d8576b"
             ],
             [
              0.6666666666666666,
              "#ed7953"
             ],
             [
              0.7777777777777778,
              "#fb9f3a"
             ],
             [
              0.8888888888888888,
              "#fdca26"
             ],
             [
              1,
              "#f0f921"
             ]
            ],
            "type": "contour"
           }
          ],
          "contourcarpet": [
           {
            "colorbar": {
             "outlinewidth": 0,
             "ticks": ""
            },
            "type": "contourcarpet"
           }
          ],
          "heatmap": [
           {
            "colorbar": {
             "outlinewidth": 0,
             "ticks": ""
            },
            "colorscale": [
             [
              0,
              "#0d0887"
             ],
             [
              0.1111111111111111,
              "#46039f"
             ],
             [
              0.2222222222222222,
              "#7201a8"
             ],
             [
              0.3333333333333333,
              "#9c179e"
             ],
             [
              0.4444444444444444,
              "#bd3786"
             ],
             [
              0.5555555555555556,
              "#d8576b"
             ],
             [
              0.6666666666666666,
              "#ed7953"
             ],
             [
              0.7777777777777778,
              "#fb9f3a"
             ],
             [
              0.8888888888888888,
              "#fdca26"
             ],
             [
              1,
              "#f0f921"
             ]
            ],
            "type": "heatmap"
           }
          ],
          "heatmapgl": [
           {
            "colorbar": {
             "outlinewidth": 0,
             "ticks": ""
            },
            "colorscale": [
             [
              0,
              "#0d0887"
             ],
             [
              0.1111111111111111,
              "#46039f"
             ],
             [
              0.2222222222222222,
              "#7201a8"
             ],
             [
              0.3333333333333333,
              "#9c179e"
             ],
             [
              0.4444444444444444,
              "#bd3786"
             ],
             [
              0.5555555555555556,
              "#d8576b"
             ],
             [
              0.6666666666666666,
              "#ed7953"
             ],
             [
              0.7777777777777778,
              "#fb9f3a"
             ],
             [
              0.8888888888888888,
              "#fdca26"
             ],
             [
              1,
              "#f0f921"
             ]
            ],
            "type": "heatmapgl"
           }
          ],
          "histogram": [
           {
            "marker": {
             "pattern": {
              "fillmode": "overlay",
              "size": 10,
              "solidity": 0.2
             }
            },
            "type": "histogram"
           }
          ],
          "histogram2d": [
           {
            "colorbar": {
             "outlinewidth": 0,
             "ticks": ""
            },
            "colorscale": [
             [
              0,
              "#0d0887"
             ],
             [
              0.1111111111111111,
              "#46039f"
             ],
             [
              0.2222222222222222,
              "#7201a8"
             ],
             [
              0.3333333333333333,
              "#9c179e"
             ],
             [
              0.4444444444444444,
              "#bd3786"
             ],
             [
              0.5555555555555556,
              "#d8576b"
             ],
             [
              0.6666666666666666,
              "#ed7953"
             ],
             [
              0.7777777777777778,
              "#fb9f3a"
             ],
             [
              0.8888888888888888,
              "#fdca26"
             ],
             [
              1,
              "#f0f921"
             ]
            ],
            "type": "histogram2d"
           }
          ],
          "histogram2dcontour": [
           {
            "colorbar": {
             "outlinewidth": 0,
             "ticks": ""
            },
            "colorscale": [
             [
              0,
              "#0d0887"
             ],
             [
              0.1111111111111111,
              "#46039f"
             ],
             [
              0.2222222222222222,
              "#7201a8"
             ],
             [
              0.3333333333333333,
              "#9c179e"
             ],
             [
              0.4444444444444444,
              "#bd3786"
             ],
             [
              0.5555555555555556,
              "#d8576b"
             ],
             [
              0.6666666666666666,
              "#ed7953"
             ],
             [
              0.7777777777777778,
              "#fb9f3a"
             ],
             [
              0.8888888888888888,
              "#fdca26"
             ],
             [
              1,
              "#f0f921"
             ]
            ],
            "type": "histogram2dcontour"
           }
          ],
          "mesh3d": [
           {
            "colorbar": {
             "outlinewidth": 0,
             "ticks": ""
            },
            "type": "mesh3d"
           }
          ],
          "parcoords": [
           {
            "line": {
             "colorbar": {
              "outlinewidth": 0,
              "ticks": ""
             }
            },
            "type": "parcoords"
           }
          ],
          "pie": [
           {
            "automargin": true,
            "type": "pie"
           }
          ],
          "scatter": [
           {
            "fillpattern": {
             "fillmode": "overlay",
             "size": 10,
             "solidity": 0.2
            },
            "type": "scatter"
           }
          ],
          "scatter3d": [
           {
            "line": {
             "colorbar": {
              "outlinewidth": 0,
              "ticks": ""
             }
            },
            "marker": {
             "colorbar": {
              "outlinewidth": 0,
              "ticks": ""
             }
            },
            "type": "scatter3d"
           }
          ],
          "scattercarpet": [
           {
            "marker": {
             "colorbar": {
              "outlinewidth": 0,
              "ticks": ""
             }
            },
            "type": "scattercarpet"
           }
          ],
          "scattergeo": [
           {
            "marker": {
             "colorbar": {
              "outlinewidth": 0,
              "ticks": ""
             }
            },
            "type": "scattergeo"
           }
          ],
          "scattergl": [
           {
            "marker": {
             "colorbar": {
              "outlinewidth": 0,
              "ticks": ""
             }
            },
            "type": "scattergl"
           }
          ],
          "scattermapbox": [
           {
            "marker": {
             "colorbar": {
              "outlinewidth": 0,
              "ticks": ""
             }
            },
            "type": "scattermapbox"
           }
          ],
          "scatterpolar": [
           {
            "marker": {
             "colorbar": {
              "outlinewidth": 0,
              "ticks": ""
             }
            },
            "type": "scatterpolar"
           }
          ],
          "scatterpolargl": [
           {
            "marker": {
             "colorbar": {
              "outlinewidth": 0,
              "ticks": ""
             }
            },
            "type": "scatterpolargl"
           }
          ],
          "scatterternary": [
           {
            "marker": {
             "colorbar": {
              "outlinewidth": 0,
              "ticks": ""
             }
            },
            "type": "scatterternary"
           }
          ],
          "surface": [
           {
            "colorbar": {
             "outlinewidth": 0,
             "ticks": ""
            },
            "colorscale": [
             [
              0,
              "#0d0887"
             ],
             [
              0.1111111111111111,
              "#46039f"
             ],
             [
              0.2222222222222222,
              "#7201a8"
             ],
             [
              0.3333333333333333,
              "#9c179e"
             ],
             [
              0.4444444444444444,
              "#bd3786"
             ],
             [
              0.5555555555555556,
              "#d8576b"
             ],
             [
              0.6666666666666666,
              "#ed7953"
             ],
             [
              0.7777777777777778,
              "#fb9f3a"
             ],
             [
              0.8888888888888888,
              "#fdca26"
             ],
             [
              1,
              "#f0f921"
             ]
            ],
            "type": "surface"
           }
          ],
          "table": [
           {
            "cells": {
             "fill": {
              "color": "#EBF0F8"
             },
             "line": {
              "color": "white"
             }
            },
            "header": {
             "fill": {
              "color": "#C8D4E3"
             },
             "line": {
              "color": "white"
             }
            },
            "type": "table"
           }
          ]
         },
         "layout": {
          "annotationdefaults": {
           "arrowcolor": "#2a3f5f",
           "arrowhead": 0,
           "arrowwidth": 1
          },
          "autotypenumbers": "strict",
          "coloraxis": {
           "colorbar": {
            "outlinewidth": 0,
            "ticks": ""
           }
          },
          "colorscale": {
           "diverging": [
            [
             0,
             "#8e0152"
            ],
            [
             0.1,
             "#c51b7d"
            ],
            [
             0.2,
             "#de77ae"
            ],
            [
             0.3,
             "#f1b6da"
            ],
            [
             0.4,
             "#fde0ef"
            ],
            [
             0.5,
             "#f7f7f7"
            ],
            [
             0.6,
             "#e6f5d0"
            ],
            [
             0.7,
             "#b8e186"
            ],
            [
             0.8,
             "#7fbc41"
            ],
            [
             0.9,
             "#4d9221"
            ],
            [
             1,
             "#276419"
            ]
           ],
           "sequential": [
            [
             0,
             "#0d0887"
            ],
            [
             0.1111111111111111,
             "#46039f"
            ],
            [
             0.2222222222222222,
             "#7201a8"
            ],
            [
             0.3333333333333333,
             "#9c179e"
            ],
            [
             0.4444444444444444,
             "#bd3786"
            ],
            [
             0.5555555555555556,
             "#d8576b"
            ],
            [
             0.6666666666666666,
             "#ed7953"
            ],
            [
             0.7777777777777778,
             "#fb9f3a"
            ],
            [
             0.8888888888888888,
             "#fdca26"
            ],
            [
             1,
             "#f0f921"
            ]
           ],
           "sequentialminus": [
            [
             0,
             "#0d0887"
            ],
            [
             0.1111111111111111,
             "#46039f"
            ],
            [
             0.2222222222222222,
             "#7201a8"
            ],
            [
             0.3333333333333333,
             "#9c179e"
            ],
            [
             0.4444444444444444,
             "#bd3786"
            ],
            [
             0.5555555555555556,
             "#d8576b"
            ],
            [
             0.6666666666666666,
             "#ed7953"
            ],
            [
             0.7777777777777778,
             "#fb9f3a"
            ],
            [
             0.8888888888888888,
             "#fdca26"
            ],
            [
             1,
             "#f0f921"
            ]
           ]
          },
          "colorway": [
           "#636efa",
           "#EF553B",
           "#00cc96",
           "#ab63fa",
           "#FFA15A",
           "#19d3f3",
           "#FF6692",
           "#B6E880",
           "#FF97FF",
           "#FECB52"
          ],
          "font": {
           "color": "#2a3f5f"
          },
          "geo": {
           "bgcolor": "white",
           "lakecolor": "white",
           "landcolor": "#E5ECF6",
           "showlakes": true,
           "showland": true,
           "subunitcolor": "white"
          },
          "hoverlabel": {
           "align": "left"
          },
          "hovermode": "closest",
          "mapbox": {
           "style": "light"
          },
          "paper_bgcolor": "white",
          "plot_bgcolor": "#E5ECF6",
          "polar": {
           "angularaxis": {
            "gridcolor": "white",
            "linecolor": "white",
            "ticks": ""
           },
           "bgcolor": "#E5ECF6",
           "radialaxis": {
            "gridcolor": "white",
            "linecolor": "white",
            "ticks": ""
           }
          },
          "scene": {
           "xaxis": {
            "backgroundcolor": "#E5ECF6",
            "gridcolor": "white",
            "gridwidth": 2,
            "linecolor": "white",
            "showbackground": true,
            "ticks": "",
            "zerolinecolor": "white"
           },
           "yaxis": {
            "backgroundcolor": "#E5ECF6",
            "gridcolor": "white",
            "gridwidth": 2,
            "linecolor": "white",
            "showbackground": true,
            "ticks": "",
            "zerolinecolor": "white"
           },
           "zaxis": {
            "backgroundcolor": "#E5ECF6",
            "gridcolor": "white",
            "gridwidth": 2,
            "linecolor": "white",
            "showbackground": true,
            "ticks": "",
            "zerolinecolor": "white"
           }
          },
          "shapedefaults": {
           "line": {
            "color": "#2a3f5f"
           }
          },
          "ternary": {
           "aaxis": {
            "gridcolor": "white",
            "linecolor": "white",
            "ticks": ""
           },
           "baxis": {
            "gridcolor": "white",
            "linecolor": "white",
            "ticks": ""
           },
           "bgcolor": "#E5ECF6",
           "caxis": {
            "gridcolor": "white",
            "linecolor": "white",
            "ticks": ""
           }
          },
          "title": {
           "x": 0.05
          },
          "xaxis": {
           "automargin": true,
           "gridcolor": "white",
           "linecolor": "white",
           "ticks": "",
           "title": {
            "standoff": 15
           },
           "zerolinecolor": "white",
           "zerolinewidth": 2
          },
          "yaxis": {
           "automargin": true,
           "gridcolor": "white",
           "linecolor": "white",
           "ticks": "",
           "title": {
            "standoff": 15
           },
           "zerolinecolor": "white",
           "zerolinewidth": 2
          }
         }
        },
        "title": {
         "text": "intersect loss"
        },
        "xaxis": {
         "autorange": true,
         "range": [
          0.02695544809103013,
          0.1269554480910301
         ],
         "type": "linear"
        },
        "yaxis": {
         "autorange": true,
         "range": [
          0,
          66.3157894736842
         ]
        }
       }
      },
      "image/png": "[encoded data removed]",
      "text/html": [
       "<div>                            <div id=\"61ce36b9-3116-470e-8d2c-1c2db16ef268\" class=\"plotly-graph-div\" style=\"height:525px; width:100%;\"></div>            <script type=\"text/javascript\">                require([\"plotly\"], function(Plotly) {                    window.PLOTLYENV=window.PLOTLYENV || {};                                    if (document.getElementById(\"61ce36b9-3116-470e-8d2c-1c2db16ef268\")) {                    Plotly.newPlot(                        \"61ce36b9-3116-470e-8d2c-1c2db16ef268\",                        [{\"marker\":{\"color\":\"blue\"},\"name\":\"Z(48,2)\",\"opacity\":0.5,\"x\":[0.030999286100268364,0.03461906686425209,0.04058432579040527,0.034129925072193146,0.03248376399278641,0.0405147448182106,0.029931778088212013,0.03756923973560333,0.0297734085470438,0.04795559123158455,0.04381762817502022,0.02964467741549015,0.031959373503923416,0.02807489037513733,0.04702145978808403,0.031186748296022415,0.037160493433475494,0.0342014841735363,0.04878885671496391,0.0426635704934597,0.04121207445859909,0.06952706724405289,0.03824600577354431,0.033530764281749725,0.03011917509138584,0.034605663269758224,0.03230837732553482,0.032322194427251816,0.04253820329904556,0.027787283062934875,0.03390439227223396,0.03680010885000229,0.03069426864385605,0.03227723389863968,0.04895953834056854,0.03074117936193943,0.03832335025072098,0.029242631047964096,0.044639118015766144,0.04177173599600792,0.027198536321520805,0.03463924676179886,0.036017514765262604,0.03669889643788338,0.028660200536251068,0.04241549223661423,0.03753972053527832,0.02695544809103012,0.03130151331424713,0.05069922283291817,0.03063102625310421,0.028654320165514946,0.0560864619910717,0.03029678948223591,0.06788624078035355,0.033792492002248764,0.03753745183348656,0.03611065074801445,0.030993100255727768,0.03358517214655876,0.03373491019010544,0.02794758230447769,0.02962806448340416,0.02927965670824051,0.043929509818553925,0.03154617175459862,0.050367407500743866,0.02873343601822853,0.040443532168865204,0.029328469187021255,0.03879319503903389,0.035864025354385376,0.04234032705426216,0.030449870973825455,0.02996685728430748,0.03876905515789986,0.047169554978609085,0.03309478983283043,0.028632450848817825,0.03566687926650047,0.034612249583005905,0.03134111687541008,0.028209138661623,0.04396158829331398,0.04436422139406204,0.040226057171821594,0.032710202038288116,0.029653817415237427,0.039871182292699814,0.028529761359095573,0.10197500139474869,0.03699846938252449,0.03443903475999832,0.06069440022110939,0.02735995687544346,0.028037777170538902,0.02812344767153263,0.034466687589883804,0.034081585705280304,0.03446340188384056],\"xbins\":{\"end\":0.12449735403060913,\"size\":0.01,\"start\":0.02695544809103012},\"type\":\"histogram\"},{\"marker\":{\"color\":\"red\"},\"name\":\"twZ(48)\",\"opacity\":0.5,\"x\":[0.08687802404165268,0.06060037761926651,0.042784400284290314,0.061577606946229935,0.07270947098731995,0.04990270361304283,0.05766051262617111,0.09095123410224915,0.06251087784767151,0.06907839328050613,0.05462817847728729,0.05524394288659096,0.0659712627530098,0.08358745276927948,0.048208191990852356,0.06197752803564072,0.07089381664991379,0.09437072277069092,0.055414631962776184,0.044380296021699905,0.05761808156967163,0.06296885013580322,0.0431208536028862,0.050868552178144455,0.08222799003124237,0.04256920516490936,0.06957302987575531,0.056832071393728256,0.0578581728041172,0.08757232129573822,0.06689557433128357,0.05952413007616997,0.06113223731517792,0.08976254612207413,0.045795340090990067,0.10315294563770294,0.04167863726615906,0.0677637979388237,0.06888774782419205,0.04777747765183449,0.06084871292114258,0.12449735403060913,0.05076717212796211,0.07314780354499817,0.09966854006052017,0.06678763031959534,0.05892937630414963,0.08323095738887787,0.07716970145702362,0.049315109848976135,0.08963268995285034,0.0601755790412426,0.05239960923790932,0.05749497562646866,0.07330308854579926,0.04409148916602135,0.04619015008211136,0.05778419226408005,0.05357205495238304,0.07459594309329987,0.06314776837825775,0.05820221081376076,0.04999588057398796,0.055164556950330734,0.06245210021734238,0.06556115299463272,0.08328131586313248,0.04329724609851837,0.05636858195066452,0.05052613466978073,0.04952871799468994,0.07017654180526733,0.058708541095256805,0.08990415185689926,0.06758980453014374,0.05550010874867439,0.07993048429489136,0.043569423258304596,0.04529412090778351,0.09166479855775833,0.05633596330881119,0.07017150521278381,0.05907350778579712,0.054146572947502136,0.05145096033811569,0.052439410239458084,0.04479788988828659,0.06258568167686462,0.038989320397377014,0.05719764530658722,0.09202980250120163,0.06486456841230392,0.09559641778469086,0.04468080773949623,0.04927938058972359,0.06247732415795326,0.049466270953416824,0.046634964644908905,0.11185860633850098,0.05054248124361038],\"xbins\":{\"end\":0.12449735403060913,\"size\":0.01,\"start\":0.02695544809103012},\"type\":\"histogram\"}],                        {\"barmode\":\"overlay\",\"title\":{\"text\":\"intersect loss\"},\"template\":{\"data\":{\"histogram2dcontour\":[{\"type\":\"histogram2dcontour\",\"colorbar\":{\"outlinewidth\":0,\"ticks\":\"\"},\"colorscale\":[[0.0,\"#0d0887\"],[0.1111111111111111,\"#46039f\"],[0.2222222222222222,\"#7201a8\"],[0.3333333333333333,\"#9c179e\"],[0.4444444444444444,\"#bd3786\"],[0.5555555555555556,\"#d8576b\"],[0.6666666666666666,\"#ed7953\"],[0.7777777777777778,\"#fb9f3a\"],[0.8888888888888888,\"#fdca26\"],[1.0,\"#f0f921\"]]}],\"choropleth\":[{\"type\":\"choropleth\",\"colorbar\":{\"outlinewidth\":0,\"ticks\":\"\"}}],\"histogram2d\":[{\"type\":\"histogram2d\",\"colorbar\":{\"outlinewidth\":0,\"ticks\":\"\"},\"colorscale\":[[0.0,\"#0d0887\"],[0.1111111111111111,\"#46039f\"],[0.2222222222222222,\"#7201a8\"],[0.3333333333333333,\"#9c179e\"],[0.4444444444444444,\"#bd3786\"],[0.5555555555555556,\"#d8576b\"],[0.6666666666666666,\"#ed7953\"],[0.7777777777777778,\"#fb9f3a\"],[0.8888888888888888,\"#fdca26\"],[1.0,\"#f0f921\"]]}],\"heatmap\":[{\"type\":\"heatmap\",\"colorbar\":{\"outlinewidth\":0,\"ticks\":\"\"},\"colorscale\":[[0.0,\"#0d0887\"],[0.1111111111111111,\"#46039f\"],[0.2222222222222222,\"#7201a8\"],[0.3333333333333333,\"#9c179e\"],[0.4444444444444444,\"#bd3786\"],[0.5555555555555556,\"#d8576b\"],[0.6666666666666666,\"#ed7953\"],[0.7777777777777778,\"#fb9f3a\"],[0.8888888888888888,\"#fdca26\"],[1.0,\"#f0f921\"]]}],\"heatmapgl\":[{\"type\":\"heatmapgl\",\"colorbar\":{\"outlinewidth\":0,\"ticks\":\"\"},\"colorscale\":[[0.0,\"#0d0887\"],[0.1111111111111111,\"#46039f\"],[0.2222222222222222,\"#7201a8\"],[0.3333333333333333,\"#9c179e\"],[0.4444444444444444,\"#bd3786\"],[0.5555555555555556,\"#d8576b\"],[0.6666666666666666,\"#ed7953\"],[0.7777777777777778,\"#fb9f3a\"],[0.8888888888888888,\"#fdca26\"],[1.0,\"#f0f921\"]]}],\"contourcarpet\":[{\"type\":\"contourcarpet\",\"colorbar\":{\"outlinewidth\":0,\"ticks\":\"\"}}],\"contour\":[{\"type\":\"contour\",\"colorbar\":{\"outlinewidth\":0,\"ticks\":\"\"},\"colorscale\":[[0.0,\"#0d0887\"],[0.1111111111111111,\"#46039f\"],[0.2222222222222222,\"#7201a8\"],[0.3333333333333333,\"#9c179e\"],[0.4444444444444444,\"#bd3786\"],[0.5555555555555556,\"#d8576b\"],[0.6666666666666666,\"#ed7953\"],[0.7777777777777778,\"#fb9f3a\"],[0.8888888888888888,\"#fdca26\"],[1.0,\"#f0f921\"]]}],\"surface\":[{\"type\":\"surface\",\"colorbar\":{\"outlinewidth\":0,\"ticks\":\"\"},\"colorscale\":[[0.0,\"#0d0887\"],[0.1111111111111111,\"#46039f\"],[0.2222222222222222,\"#7201a8\"],[0.3333333333333333,\"#9c179e\"],[0.4444444444444444,\"#bd3786\"],[0.5555555555555556,\"#d8576b\"],[0.6666666666666666,\"#ed7953\"],[0.7777777777777778,\"#fb9f3a\"],[0.8888888888888888,\"#fdca26\"],[1.0,\"#f0f921\"]]}],\"mesh3d\":[{\"type\":\"mesh3d\",\"colorbar\":{\"outlinewidth\":0,\"ticks\":\"\"}}],\"scatter\":[{\"fillpattern\":{\"fillmode\":\"overlay\",\"size\":10,\"solidity\":0.2},\"type\":\"scatter\"}],\"parcoords\":[{\"type\":\"parcoords\",\"line\":{\"colorbar\":{\"outlinewidth\":0,\"ticks\":\"\"}}}],\"scatterpolargl\":[{\"type\":\"scatterpolargl\",\"marker\":{\"colorbar\":{\"outlinewidth\":0,\"ticks\":\"\"}}}],\"bar\":[{\"error_x\":{\"color\":\"#2a3f5f\"},\"error_y\":{\"color\":\"#2a3f5f\"},\"marker\":{\"line\":{\"color\":\"#E5ECF6\",\"width\":0.5},\"pattern\":{\"fillmode\":\"overlay\",\"size\":10,\"solidity\":0.2}},\"type\":\"bar\"}],\"scattergeo\":[{\"type\":\"scattergeo\",\"marker\":{\"colorbar\":{\"outlinewidth\":0,\"ticks\":\"\"}}}],\"scatterpolar\":[{\"type\":\"scatterpolar\",\"marker\":{\"colorbar\":{\"outlinewidth\":0,\"ticks\":\"\"}}}],\"histogram\":[{\"marker\":{\"pattern\":{\"fillmode\":\"overlay\",\"size\":10,\"solidity\":0.2}},\"type\":\"histogram\"}],\"scattergl\":[{\"type\":\"scattergl\",\"marker\":{\"colorbar\":{\"outlinewidth\":0,\"ticks\":\"\"}}}],\"scatter3d\":[{\"type\":\"scatter3d\",\"line\":{\"colorbar\":{\"outlinewidth\":0,\"ticks\":\"\"}},\"marker\":{\"colorbar\":{\"outlinewidth\":0,\"ticks\":\"\"}}}],\"scattermapbox\":[{\"type\":\"scattermapbox\",\"marker\":{\"colorbar\":{\"outlinewidth\":0,\"ticks\":\"\"}}}],\"scatterternary\":[{\"type\":\"scatterternary\",\"marker\":{\"colorbar\":{\"outlinewidth\":0,\"ticks\":\"\"}}}],\"scattercarpet\":[{\"type\":\"scattercarpet\",\"marker\":{\"colorbar\":{\"outlinewidth\":0,\"ticks\":\"\"}}}],\"carpet\":[{\"aaxis\":{\"endlinecolor\":\"#2a3f5f\",\"gridcolor\":\"white\",\"linecolor\":\"white\",\"minorgridcolor\":\"white\",\"startlinecolor\":\"#2a3f5f\"},\"baxis\":{\"endlinecolor\":\"#2a3f5f\",\"gridcolor\":\"white\",\"linecolor\":\"white\",\"minorgridcolor\":\"white\",\"startlinecolor\":\"#2a3f5f\"},\"type\":\"carpet\"}],\"table\":[{\"cells\":{\"fill\":{\"color\":\"#EBF0F8\"},\"line\":{\"color\":\"white\"}},\"header\":{\"fill\":{\"color\":\"#C8D4E3\"},\"line\":{\"color\":\"white\"}},\"type\":\"table\"}],\"barpolar\":[{\"marker\":{\"line\":{\"color\":\"#E5ECF6\",\"width\":0.5},\"pattern\":{\"fillmode\":\"overlay\",\"size\":10,\"solidity\":0.2}},\"type\":\"barpolar\"}],\"pie\":[{\"automargin\":true,\"type\":\"pie\"}]},\"layout\":{\"autotypenumbers\":\"strict\",\"colorway\":[\"#636efa\",\"#EF553B\",\"#00cc96\",\"#ab63fa\",\"#FFA15A\",\"#19d3f3\",\"#FF6692\",\"#B6E880\",\"#FF97FF\",\"#FECB52\"],\"font\":{\"color\":\"#2a3f5f\"},\"hovermode\":\"closest\",\"hoverlabel\":{\"align\":\"left\"},\"paper_bgcolor\":\"white\",\"plot_bgcolor\":\"#E5ECF6\",\"polar\":{\"bgcolor\":\"#E5ECF6\",\"angularaxis\":{\"gridcolor\":\"white\",\"linecolor\":\"white\",\"ticks\":\"\"},\"radialaxis\":{\"gridcolor\":\"white\",\"linecolor\":\"white\",\"ticks\":\"\"}},\"ternary\":{\"bgcolor\":\"#E5ECF6\",\"aaxis\":{\"gridcolor\":\"white\",\"linecolor\":\"white\",\"ticks\":\"\"},\"baxis\":{\"gridcolor\":\"white\",\"linecolor\":\"white\",\"ticks\":\"\"},\"caxis\":{\"gridcolor\":\"white\",\"linecolor\":\"white\",\"ticks\":\"\"}},\"coloraxis\":{\"colorbar\":{\"outlinewidth\":0,\"ticks\":\"\"}},\"colorscale\":{\"sequential\":[[0.0,\"#0d0887\"],[0.1111111111111111,\"#46039f\"],[0.2222222222222222,\"#7201a8\"],[0.3333333333333333,\"#9c179e\"],[0.4444444444444444,\"#bd3786\"],[0.5555555555555556,\"#d8576b\"],[0.6666666666666666,\"#ed7953\"],[0.7777777777777778,\"#fb9f3a\"],[0.8888888888888888,\"#fdca26\"],[1.0,\"#f0f921\"]],\"sequentialminus\":[[0.0,\"#0d0887\"],[0.1111111111111111,\"#46039f\"],[0.2222222222222222,\"#7201a8\"],[0.3333333333333333,\"#9c179e\"],[0.4444444444444444,\"#bd3786\"],[0.5555555555555556,\"#d8576b\"],[0.6666666666666666,\"#ed7953\"],[0.7777777777777778,\"#fb9f3a\"],[0.8888888888888888,\"#fdca26\"],[1.0,\"#f0f921\"]],\"diverging\":[[0,\"#8e0152\"],[0.1,\"#c51b7d\"],[0.2,\"#de77ae\"],[0.3,\"#f1b6da\"],[0.4,\"#fde0ef\"],[0.5,\"#f7f7f7\"],[0.6,\"#e6f5d0\"],[0.7,\"#b8e186\"],[0.8,\"#7fbc41\"],[0.9,\"#4d9221\"],[1,\"#276419\"]]},\"xaxis\":{\"gridcolor\":\"white\",\"linecolor\":\"white\",\"ticks\":\"\",\"title\":{\"standoff\":15},\"zerolinecolor\":\"white\",\"automargin\":true,\"zerolinewidth\":2},\"yaxis\":{\"gridcolor\":\"white\",\"linecolor\":\"white\",\"ticks\":\"\",\"title\":{\"standoff\":15},\"zerolinecolor\":\"white\",\"automargin\":true,\"zerolinewidth\":2},\"scene\":{\"xaxis\":{\"backgroundcolor\":\"#E5ECF6\",\"gridcolor\":\"white\",\"linecolor\":\"white\",\"showbackground\":true,\"ticks\":\"\",\"zerolinecolor\":\"white\",\"gridwidth\":2},\"yaxis\":{\"backgroundcolor\":\"#E5ECF6\",\"gridcolor\":\"white\",\"linecolor\":\"white\",\"showbackground\":true,\"ticks\":\"\",\"zerolinecolor\":\"white\",\"gridwidth\":2},\"zaxis\":{\"backgroundcolor\":\"#E5ECF6\",\"gridcolor\":\"white\",\"linecolor\":\"white\",\"showbackground\":true,\"ticks\":\"\",\"zerolinecolor\":\"white\",\"gridwidth\":2}},\"shapedefaults\":{\"line\":{\"color\":\"#2a3f5f\"}},\"annotationdefaults\":{\"arrowcolor\":\"#2a3f5f\",\"arrowhead\":0,\"arrowwidth\":1},\"geo\":{\"bgcolor\":\"white\",\"landcolor\":\"#E5ECF6\",\"subunitcolor\":\"white\",\"showland\":true,\"showlakes\":true,\"lakecolor\":\"white\"},\"title\":{\"x\":0.05},\"mapbox\":{\"style\":\"light\"}}}},                        {\"responsive\": true}                    ).then(function(){\n",
       "                            \n",
       "var gd = document.getElementById('61ce36b9-3116-470e-8d2c-1c2db16ef268');\n",
       "var x = new MutationObserver(function (mutations, observer) {{\n",
       "        var display = window.getComputedStyle(gd).display;\n",
       "        if (!display || display === 'none') {{\n",
       "            console.log([gd, 'removed!']);\n",
       "            Plotly.purge(gd);\n",
       "            observer.disconnect();\n",
       "        }}\n",
       "}});\n",
       "\n",
       "// Listen for the removal of the full notebook cells\n",
       "var notebookContainer = gd.closest('#notebook-container');\n",
       "if (notebookContainer) {{\n",
       "    x.observe(notebookContainer, {childList: true});\n",
       "}}\n",
       "\n",
       "// Listen for the clearing of the current output cell\n",
       "var outputEl = gd.closest('.output');\n",
       "if (outputEl) {{\n",
       "    x.observe(outputEl, {childList: true});\n",
       "}}\n",
       "\n",
       "                        })                };                });            </script>        </div>"
      ]
     },
     "metadata": {},
     "output_type": "display_data"
    }
   ],
   "source": [
    "loss_fig.show()"
   ]
  },
  {
   "cell_type": "code",
   "execution_count": 41,
   "id": "5ed1c5ea-3e8a-4df9-a003-718118982ad6",
   "metadata": {},
   "outputs": [],
   "source": [
    "#path = '/workspace/models/2024-08-13_01-57-27_abFam_5_7_'\n",
    "#path = '/workspace/models/2024-08-13_03-06-33_S_5__times_A_5__Z_2__'\n",
    "path = '/workspace/wilson/Finite-groups/models/2024-08-21_00-34-13_Z_48_2__twZ_48_'\n",
    "models, params = load_models(path)"
   ]
  },
  {
   "cell_type": "code",
   "execution_count": 42,
   "id": "8b10fba3-0579-40b3-ae22-d7f46f4bf4d6",
   "metadata": {},
   "outputs": [
    {
     "name": "stdout",
     "output_type": "stream",
     "text": [
      "Intersection size: 6912/9216 (0.75)\n",
      "Added 6912 elements from intersection\n",
      "Added 0 elements from group 0: Z(48,2)\n",
      "Added 0 elements from group 1: twZ(48)\n",
      "Train set size: 6912/9216 (0.75)\n"
     ]
    }
   ],
   "source": [
    "dataset = GroupData(params)"
   ]
  },
  {
   "cell_type": "code",
   "execution_count": 55,
   "id": "6e7652eb-aa59-4a8c-ad3b-6846d578614a",
   "metadata": {},
   "outputs": [],
   "source": [
    "loss_dict = test_loss(models[0].to(device), dataset)\n",
    "min_loss = min([loss_dict[f'G{i}_loss'].min() for i in range(len(dataset.groups))])\n",
    "max_loss = max([loss_dict[f'G{i}_loss'].max() for i in range(len(dataset.groups))])"
   ]
  },
  {
   "cell_type": "code",
   "execution_count": 56,
   "id": "9341731b-6f85-487a-827f-c0a30c301597",
   "metadata": {},
   "outputs": [],
   "source": [
    "loss_xbins = dict(\n",
    "    start=min_loss,\n",
    "    end=max_loss,\n",
    "    size=3e-1,\n",
    ")\n",
    "loss_data = []\n",
    "colors = ['blue', 'red', 'green', 'orange', 'magenta', 'yellow']\n",
    "for i, color in zip(range(len(dataset.groups)), colors):\n",
    "    loss_data.append(go.Histogram(\n",
    "        x=loss_dict[f'G{i}_loss'].tolist(),\n",
    "        opacity=0.5,\n",
    "        name=dataset.groups[i].name,\n",
    "        marker=dict(color=color),\n",
    "        xbins=loss_xbins,\n",
    "    ))\n",
    "\n",
    "\n",
    "loss_layout = go.Layout(\n",
    "    title='test loss',\n",
    "    barmode='overlay'\n",
    ")\n",
    "loss_fig = go.Figure(data=loss_data, layout=loss_layout)"
   ]
  },
  {
   "cell_type": "code",
   "execution_count": 59,
   "id": "7193b2b4-f2a4-419c-a306-fef7bbe64d55",
   "metadata": {},
   "outputs": [
    {
     "data": {
      "application/vnd.plotly.v1+json": {
       "config": {
        "plotlyServerURL": "https://plot.ly"
       },
       "data": [
        {
         "marker": {
          "color": "blue"
         },
         "name": "Z(48,2)",
         "opacity": 0.5,
         "type": "histogram",
         "x": [
          0.07364826649427414,
          0.1639670580625534,
          0.27412036061286926,
          0.22860553860664368,
          0.11423373222351074,
          0.05466924235224724,
          0.21838194131851196,
          0.17450964450836182,
          0.5757289528846741,
          0.04039367660880089,
          0.11207592487335205,
          0.026537425816059113,
          0.16931630671024323,
          0.8678900599479675,
          0.15024706721305847,
          0.2858131527900696,
          0.026109570637345314,
          0.10636937618255615,
          0.03483660891652107,
          0.05217207595705986,
          0.04396113008260727,
          0.03397272899746895,
          0.0780792385339737,
          0.03754519671201706,
          0.026678824797272682,
          0.1765488237142563,
          0.10043641179800034,
          0.16883349418640137,
          0.08434788137674332,
          0.045841630548238754,
          0.12476912140846252,
          0.14162008464336395,
          0.07197459787130356,
          0.027442924678325653,
          0.0321878120303154,
          0.043521057814359665,
          0.10477569699287415,
          0.0693630650639534,
          0.17914414405822754,
          0.07594756782054901,
          0.2388809472322464,
          0.18920107185840607,
          0.037168119102716446,
          0.0507051981985569,
          0.09351842105388641,
          0.042508792132139206,
          0.035010792315006256,
          0.06546193361282349,
          0.049533743411302567,
          0.14508546888828278,
          0.06909558922052383,
          0.1225644126534462,
          0.0530250146985054,
          0.05327953025698662,
          0.14139696955680847,
          0.043271344155073166,
          0.0385831855237484,
          0.03707881644368172,
          0.09190412610769272,
          0.09473317861557007,
          0.03266117721796036,
          0.1727880835533142,
          0.23351438343524933,
          0.2515547573566437,
          0.06576435267925262,
          0.029665639623999596,
          0.1289089471101761,
          0.08590106666088104,
          0.0304157342761755,
          0.08481117337942123,
          0.06300746649503708,
          0.07325547933578491,
          0.7695353031158447,
          1.3320162296295166,
          0.15511628985404968,
          0.10246586054563522,
          0.08008967339992523,
          0.06494543701410294,
          0.1114528551697731,
          0.06553855538368225,
          0.03212966397404671,
          1.308172345161438,
          0.12536141276359558,
          0.04792852699756622,
          0.02614196203649044,
          0.036233119666576385,
          0.08168908208608627,
          0.10177992284297943,
          0.3975411355495453,
          0.05492614954710007,
          0.0251641646027565,
          0.02926080860197544,
          0.17343907058238983,
          0.058169297873973846,
          0.20240619778633118,
          0.07534168660640717,
          0.7724339365959167,
          0.029453570023179054,
          0.6851556897163391,
          0.28224900364875793
         ],
         "xbins": {
          "end": 4.308777332305908,
          "size": 0.3,
          "start": 0.0251641646027565
         }
        },
        {
         "marker": {
          "color": "red"
         },
         "name": "twZ(48)",
         "opacity": 0.5,
         "type": "histogram",
         "x": [
          1.9886796474456787,
          2.90167236328125,
          1.773826003074646,
          2.01619553565979,
          1.6097685098648071,
          2.1513452529907227,
          1.8187607526779175,
          1.9837090969085693,
          2.076483726501465,
          2.157101631164551,
          1.8184772729873657,
          1.9859623908996582,
          3.5946457386016846,
          2.4325361251831055,
          1.836485505104065,
          1.7675679922103882,
          1.5576863288879395,
          1.5027328729629517,
          1.932619571685791,
          1.8397704362869263,
          1.9775447845458984,
          3.082484245300293,
          1.6157028675079346,
          2.545922040939331,
          1.6549919843673706,
          2.291698932647705,
          1.66116464138031,
          2.9549198150634766,
          1.6435978412628174,
          2.644912004470825,
          2.0181257724761963,
          1.7513254880905151,
          1.525627613067627,
          2.078119993209839,
          1.5812309980392456,
          1.6173086166381836,
          1.78643000125885,
          1.7188180685043335,
          2.7230000495910645,
          1.6161065101623535,
          1.8009711503982544,
          2.7247209548950195,
          2.525853395462036,
          3.348764181137085,
          1.676679015159607,
          1.6786524057388306,
          3.2899696826934814,
          3.58331561088562,
          1.937888264656067,
          1.7183929681777954,
          3.010479211807251,
          1.9387032985687256,
          1.6560271978378296,
          1.4905035495758057,
          1.6606134176254272,
          3.463055372238159,
          3.350285768508911,
          2.0196163654327393,
          3.38899564743042,
          2.087777853012085,
          3.34057354927063,
          2.6344518661499023,
          1.70148503780365,
          3.5475893020629883,
          3.458428382873535,
          2.0498087406158447,
          2.740341901779175,
          2.5788443088531494,
          1.5396164655685425,
          1.755792260169983,
          2.1277902126312256,
          2.31101393699646,
          3.256192207336426,
          3.810065507888794,
          1.7229658365249634,
          2.6331236362457275,
          3.2533822059631348,
          1.879183053970337,
          1.5979949235916138,
          2.151008367538452,
          4.308777332305908,
          2.817633628845215,
          1.612141728401184,
          2.3793132305145264,
          1.648073673248291,
          1.9275654554367065,
          1.6739373207092285,
          2.743346691131592,
          3.976027727127075,
          1.895774483680725,
          1.9712687730789185,
          1.6887869834899902,
          1.5052075386047363,
          1.9039722681045532,
          1.8638159036636353,
          1.5195469856262207,
          2.5363056659698486,
          2.850144863128662,
          2.3953890800476074,
          2.139833688735962
         ],
         "xbins": {
          "end": 4.308777332305908,
          "size": 0.3,
          "start": 0.0251641646027565
         }
        }
       ],
       "layout": {
        "barmode": "overlay",
        "height": 500,
        "legend": {
         "font": {
          "size": 16
         }
        },
        "template": {
         "data": {
          "bar": [
           {
            "error_x": {
             "color": "#2a3f5f"
            },
            "error_y": {
             "color": "#2a3f5f"
            },
            "marker": {
             "line": {
              "color": "#E5ECF6",
              "width": 0.5
             },
             "pattern": {
              "fillmode": "overlay",
              "size": 10,
              "solidity": 0.2
             }
            },
            "type": "bar"
           }
          ],
          "barpolar": [
           {
            "marker": {
             "line": {
              "color": "#E5ECF6",
              "width": 0.5
             },
             "pattern": {
              "fillmode": "overlay",
              "size": 10,
              "solidity": 0.2
             }
            },
            "type": "barpolar"
           }
          ],
          "carpet": [
           {
            "aaxis": {
             "endlinecolor": "#2a3f5f",
             "gridcolor": "white",
             "linecolor": "white",
             "minorgridcolor": "white",
             "startlinecolor": "#2a3f5f"
            },
            "baxis": {
             "endlinecolor": "#2a3f5f",
             "gridcolor": "white",
             "linecolor": "white",
             "minorgridcolor": "white",
             "startlinecolor": "#2a3f5f"
            },
            "type": "carpet"
           }
          ],
          "choropleth": [
           {
            "colorbar": {
             "outlinewidth": 0,
             "ticks": ""
            },
            "type": "choropleth"
           }
          ],
          "contour": [
           {
            "colorbar": {
             "outlinewidth": 0,
             "ticks": ""
            },
            "colorscale": [
             [
              0,
              "#0d0887"
             ],
             [
              0.1111111111111111,
              "#46039f"
             ],
             [
              0.2222222222222222,
              "#7201a8"
             ],
             [
              0.3333333333333333,
              "#9c179e"
             ],
             [
              0.4444444444444444,
              "#bd3786"
             ],
             [
              0.5555555555555556,
              "#d8576b"
             ],
             [
              0.6666666666666666,
              "#ed7953"
             ],
             [
              0.7777777777777778,
              "#fb9f3a"
             ],
             [
              0.8888888888888888,
              "#fdca26"
             ],
             [
              1,
              "#f0f921"
             ]
            ],
            "type": "contour"
           }
          ],
          "contourcarpet": [
           {
            "colorbar": {
             "outlinewidth": 0,
             "ticks": ""
            },
            "type": "contourcarpet"
           }
          ],
          "heatmap": [
           {
            "colorbar": {
             "outlinewidth": 0,
             "ticks": ""
            },
            "colorscale": [
             [
              0,
              "#0d0887"
             ],
             [
              0.1111111111111111,
              "#46039f"
             ],
             [
              0.2222222222222222,
              "#7201a8"
             ],
             [
              0.3333333333333333,
              "#9c179e"
             ],
             [
              0.4444444444444444,
              "#bd3786"
             ],
             [
              0.5555555555555556,
              "#d8576b"
             ],
             [
              0.6666666666666666,
              "#ed7953"
             ],
             [
              0.7777777777777778,
              "#fb9f3a"
             ],
             [
              0.8888888888888888,
              "#fdca26"
             ],
             [
              1,
              "#f0f921"
             ]
            ],
            "type": "heatmap"
           }
          ],
          "heatmapgl": [
           {
            "colorbar": {
             "outlinewidth": 0,
             "ticks": ""
            },
            "colorscale": [
             [
              0,
              "#0d0887"
             ],
             [
              0.1111111111111111,
              "#46039f"
             ],
             [
              0.2222222222222222,
              "#7201a8"
             ],
             [
              0.3333333333333333,
              "#9c179e"
             ],
             [
              0.4444444444444444,
              "#bd3786"
             ],
             [
              0.5555555555555556,
              "#d8576b"
             ],
             [
              0.6666666666666666,
              "#ed7953"
             ],
             [
              0.7777777777777778,
              "#fb9f3a"
             ],
             [
              0.8888888888888888,
              "#fdca26"
             ],
             [
              1,
              "#f0f921"
             ]
            ],
            "type": "heatmapgl"
           }
          ],
          "histogram": [
           {
            "marker": {
             "pattern": {
              "fillmode": "overlay",
              "size": 10,
              "solidity": 0.2
             }
            },
            "type": "histogram"
           }
          ],
          "histogram2d": [
           {
            "colorbar": {
             "outlinewidth": 0,
             "ticks": ""
            },
            "colorscale": [
             [
              0,
              "#0d0887"
             ],
             [
              0.1111111111111111,
              "#46039f"
             ],
             [
              0.2222222222222222,
              "#7201a8"
             ],
             [
              0.3333333333333333,
              "#9c179e"
             ],
             [
              0.4444444444444444,
              "#bd3786"
             ],
             [
              0.5555555555555556,
              "#d8576b"
             ],
             [
              0.6666666666666666,
              "#ed7953"
             ],
             [
              0.7777777777777778,
              "#fb9f3a"
             ],
             [
              0.8888888888888888,
              "#fdca26"
             ],
             [
              1,
              "#f0f921"
             ]
            ],
            "type": "histogram2d"
           }
          ],
          "histogram2dcontour": [
           {
            "colorbar": {
             "outlinewidth": 0,
             "ticks": ""
            },
            "colorscale": [
             [
              0,
              "#0d0887"
             ],
             [
              0.1111111111111111,
              "#46039f"
             ],
             [
              0.2222222222222222,
              "#7201a8"
             ],
             [
              0.3333333333333333,
              "#9c179e"
             ],
             [
              0.4444444444444444,
              "#bd3786"
             ],
             [
              0.5555555555555556,
              "#d8576b"
             ],
             [
              0.6666666666666666,
              "#ed7953"
             ],
             [
              0.7777777777777778,
              "#fb9f3a"
             ],
             [
              0.8888888888888888,
              "#fdca26"
             ],
             [
              1,
              "#f0f921"
             ]
            ],
            "type": "histogram2dcontour"
           }
          ],
          "mesh3d": [
           {
            "colorbar": {
             "outlinewidth": 0,
             "ticks": ""
            },
            "type": "mesh3d"
           }
          ],
          "parcoords": [
           {
            "line": {
             "colorbar": {
              "outlinewidth": 0,
              "ticks": ""
             }
            },
            "type": "parcoords"
           }
          ],
          "pie": [
           {
            "automargin": true,
            "type": "pie"
           }
          ],
          "scatter": [
           {
            "fillpattern": {
             "fillmode": "overlay",
             "size": 10,
             "solidity": 0.2
            },
            "type": "scatter"
           }
          ],
          "scatter3d": [
           {
            "line": {
             "colorbar": {
              "outlinewidth": 0,
              "ticks": ""
             }
            },
            "marker": {
             "colorbar": {
              "outlinewidth": 0,
              "ticks": ""
             }
            },
            "type": "scatter3d"
           }
          ],
          "scattercarpet": [
           {
            "marker": {
             "colorbar": {
              "outlinewidth": 0,
              "ticks": ""
             }
            },
            "type": "scattercarpet"
           }
          ],
          "scattergeo": [
           {
            "marker": {
             "colorbar": {
              "outlinewidth": 0,
              "ticks": ""
             }
            },
            "type": "scattergeo"
           }
          ],
          "scattergl": [
           {
            "marker": {
             "colorbar": {
              "outlinewidth": 0,
              "ticks": ""
             }
            },
            "type": "scattergl"
           }
          ],
          "scattermapbox": [
           {
            "marker": {
             "colorbar": {
              "outlinewidth": 0,
              "ticks": ""
             }
            },
            "type": "scattermapbox"
           }
          ],
          "scatterpolar": [
           {
            "marker": {
             "colorbar": {
              "outlinewidth": 0,
              "ticks": ""
             }
            },
            "type": "scatterpolar"
           }
          ],
          "scatterpolargl": [
           {
            "marker": {
             "colorbar": {
              "outlinewidth": 0,
              "ticks": ""
             }
            },
            "type": "scatterpolargl"
           }
          ],
          "scatterternary": [
           {
            "marker": {
             "colorbar": {
              "outlinewidth": 0,
              "ticks": ""
             }
            },
            "type": "scatterternary"
           }
          ],
          "surface": [
           {
            "colorbar": {
             "outlinewidth": 0,
             "ticks": ""
            },
            "colorscale": [
             [
              0,
              "#0d0887"
             ],
             [
              0.1111111111111111,
              "#46039f"
             ],
             [
              0.2222222222222222,
              "#7201a8"
             ],
             [
              0.3333333333333333,
              "#9c179e"
             ],
             [
              0.4444444444444444,
              "#bd3786"
             ],
             [
              0.5555555555555556,
              "#d8576b"
             ],
             [
              0.6666666666666666,
              "#ed7953"
             ],
             [
              0.7777777777777778,
              "#fb9f3a"
             ],
             [
              0.8888888888888888,
              "#fdca26"
             ],
             [
              1,
              "#f0f921"
             ]
            ],
            "type": "surface"
           }
          ],
          "table": [
           {
            "cells": {
             "fill": {
              "color": "#EBF0F8"
             },
             "line": {
              "color": "white"
             }
            },
            "header": {
             "fill": {
              "color": "#C8D4E3"
             },
             "line": {
              "color": "white"
             }
            },
            "type": "table"
           }
          ]
         },
         "layout": {
          "annotationdefaults": {
           "arrowcolor": "#2a3f5f",
           "arrowhead": 0,
           "arrowwidth": 1
          },
          "autotypenumbers": "strict",
          "coloraxis": {
           "colorbar": {
            "outlinewidth": 0,
            "ticks": ""
           }
          },
          "colorscale": {
           "diverging": [
            [
             0,
             "#8e0152"
            ],
            [
             0.1,
             "#c51b7d"
            ],
            [
             0.2,
             "#de77ae"
            ],
            [
             0.3,
             "#f1b6da"
            ],
            [
             0.4,
             "#fde0ef"
            ],
            [
             0.5,
             "#f7f7f7"
            ],
            [
             0.6,
             "#e6f5d0"
            ],
            [
             0.7,
             "#b8e186"
            ],
            [
             0.8,
             "#7fbc41"
            ],
            [
             0.9,
             "#4d9221"
            ],
            [
             1,
             "#276419"
            ]
           ],
           "sequential": [
            [
             0,
             "#0d0887"
            ],
            [
             0.1111111111111111,
             "#46039f"
            ],
            [
             0.2222222222222222,
             "#7201a8"
            ],
            [
             0.3333333333333333,
             "#9c179e"
            ],
            [
             0.4444444444444444,
             "#bd3786"
            ],
            [
             0.5555555555555556,
             "#d8576b"
            ],
            [
             0.6666666666666666,
             "#ed7953"
            ],
            [
             0.7777777777777778,
             "#fb9f3a"
            ],
            [
             0.8888888888888888,
             "#fdca26"
            ],
            [
             1,
             "#f0f921"
            ]
           ],
           "sequentialminus": [
            [
             0,
             "#0d0887"
            ],
            [
             0.1111111111111111,
             "#46039f"
            ],
            [
             0.2222222222222222,
             "#7201a8"
            ],
            [
             0.3333333333333333,
             "#9c179e"
            ],
            [
             0.4444444444444444,
             "#bd3786"
            ],
            [
             0.5555555555555556,
             "#d8576b"
            ],
            [
             0.6666666666666666,
             "#ed7953"
            ],
            [
             0.7777777777777778,
             "#fb9f3a"
            ],
            [
             0.8888888888888888,
             "#fdca26"
            ],
            [
             1,
             "#f0f921"
            ]
           ]
          },
          "colorway": [
           "#636efa",
           "#EF553B",
           "#00cc96",
           "#ab63fa",
           "#FFA15A",
           "#19d3f3",
           "#FF6692",
           "#B6E880",
           "#FF97FF",
           "#FECB52"
          ],
          "font": {
           "color": "#2a3f5f"
          },
          "geo": {
           "bgcolor": "white",
           "lakecolor": "white",
           "landcolor": "#E5ECF6",
           "showlakes": true,
           "showland": true,
           "subunitcolor": "white"
          },
          "hoverlabel": {
           "align": "left"
          },
          "hovermode": "closest",
          "mapbox": {
           "style": "light"
          },
          "paper_bgcolor": "white",
          "plot_bgcolor": "#E5ECF6",
          "polar": {
           "angularaxis": {
            "gridcolor": "white",
            "linecolor": "white",
            "ticks": ""
           },
           "bgcolor": "#E5ECF6",
           "radialaxis": {
            "gridcolor": "white",
            "linecolor": "white",
            "ticks": ""
           }
          },
          "scene": {
           "xaxis": {
            "backgroundcolor": "#E5ECF6",
            "gridcolor": "white",
            "gridwidth": 2,
            "linecolor": "white",
            "showbackground": true,
            "ticks": "",
            "zerolinecolor": "white"
           },
           "yaxis": {
            "backgroundcolor": "#E5ECF6",
            "gridcolor": "white",
            "gridwidth": 2,
            "linecolor": "white",
            "showbackground": true,
            "ticks": "",
            "zerolinecolor": "white"
           },
           "zaxis": {
            "backgroundcolor": "#E5ECF6",
            "gridcolor": "white",
            "gridwidth": 2,
            "linecolor": "white",
            "showbackground": true,
            "ticks": "",
            "zerolinecolor": "white"
           }
          },
          "shapedefaults": {
           "line": {
            "color": "#2a3f5f"
           }
          },
          "ternary": {
           "aaxis": {
            "gridcolor": "white",
            "linecolor": "white",
            "ticks": ""
           },
           "baxis": {
            "gridcolor": "white",
            "linecolor": "white",
            "ticks": ""
           },
           "bgcolor": "#E5ECF6",
           "caxis": {
            "gridcolor": "white",
            "linecolor": "white",
            "ticks": ""
           }
          },
          "title": {
           "x": 0.05
          },
          "xaxis": {
           "automargin": true,
           "gridcolor": "white",
           "linecolor": "white",
           "ticks": "",
           "title": {
            "standoff": 15
           },
           "zerolinecolor": "white",
           "zerolinewidth": 2
          },
          "yaxis": {
           "automargin": true,
           "gridcolor": "white",
           "linecolor": "white",
           "ticks": "",
           "title": {
            "standoff": 15
           },
           "zerolinecolor": "white",
           "zerolinewidth": 2
          }
         }
        },
        "title": {
         "font": {
          "size": 24
         },
         "text": "Loss on test set"
        },
        "width": 1600,
        "xaxis": {
         "autorange": true,
         "range": [
          0.025164164602756528,
          4.525164164602756
         ],
         "tickfont": {
          "size": 16
         },
         "title": {
          "text": "cross entropy loss"
         },
         "type": "linear"
        },
        "yaxis": {
         "autorange": true,
         "range": [
          0,
          96.84210526315789
         ],
         "tickfont": {
          "size": 16
         },
         "title": {
          "text": "count"
         }
        }
       }
      },
      "image/png": "[encoded data removed]",
      "text/html": [
       "<div>                            <div id=\"faf33e69-b1e2-4728-a4eb-db084a9aa589\" class=\"plotly-graph-div\" style=\"height:500px; width:1600px;\"></div>            <script type=\"text/javascript\">                require([\"plotly\"], function(Plotly) {                    window.PLOTLYENV=window.PLOTLYENV || {};                                    if (document.getElementById(\"faf33e69-b1e2-4728-a4eb-db084a9aa589\")) {                    Plotly.newPlot(                        \"faf33e69-b1e2-4728-a4eb-db084a9aa589\",                        [{\"marker\":{\"color\":\"blue\"},\"name\":\"Z(48,2)\",\"opacity\":0.5,\"x\":[0.07364826649427414,0.1639670580625534,0.27412036061286926,0.22860553860664368,0.11423373222351074,0.05466924235224724,0.21838194131851196,0.17450964450836182,0.5757289528846741,0.04039367660880089,0.11207592487335205,0.026537425816059113,0.16931630671024323,0.8678900599479675,0.15024706721305847,0.2858131527900696,0.026109570637345314,0.10636937618255615,0.03483660891652107,0.05217207595705986,0.04396113008260727,0.03397272899746895,0.0780792385339737,0.03754519671201706,0.026678824797272682,0.1765488237142563,0.10043641179800034,0.16883349418640137,0.08434788137674332,0.045841630548238754,0.12476912140846252,0.14162008464336395,0.07197459787130356,0.027442924678325653,0.0321878120303154,0.043521057814359665,0.10477569699287415,0.0693630650639534,0.17914414405822754,0.07594756782054901,0.2388809472322464,0.18920107185840607,0.037168119102716446,0.0507051981985569,0.09351842105388641,0.042508792132139206,0.035010792315006256,0.06546193361282349,0.049533743411302567,0.14508546888828278,0.06909558922052383,0.1225644126534462,0.0530250146985054,0.05327953025698662,0.14139696955680847,0.043271344155073166,0.0385831855237484,0.03707881644368172,0.09190412610769272,0.09473317861557007,0.03266117721796036,0.1727880835533142,0.23351438343524933,0.2515547573566437,0.06576435267925262,0.029665639623999596,0.1289089471101761,0.08590106666088104,0.0304157342761755,0.08481117337942123,0.06300746649503708,0.07325547933578491,0.7695353031158447,1.3320162296295166,0.15511628985404968,0.10246586054563522,0.08008967339992523,0.06494543701410294,0.1114528551697731,0.06553855538368225,0.03212966397404671,1.308172345161438,0.12536141276359558,0.04792852699756622,0.02614196203649044,0.036233119666576385,0.08168908208608627,0.10177992284297943,0.3975411355495453,0.05492614954710007,0.0251641646027565,0.02926080860197544,0.17343907058238983,0.058169297873973846,0.20240619778633118,0.07534168660640717,0.7724339365959167,0.029453570023179054,0.6851556897163391,0.28224900364875793],\"xbins\":{\"end\":4.308777332305908,\"size\":0.3,\"start\":0.0251641646027565},\"type\":\"histogram\"},{\"marker\":{\"color\":\"red\"},\"name\":\"twZ(48)\",\"opacity\":0.5,\"x\":[1.9886796474456787,2.90167236328125,1.773826003074646,2.01619553565979,1.6097685098648071,2.1513452529907227,1.8187607526779175,1.9837090969085693,2.076483726501465,2.157101631164551,1.8184772729873657,1.9859623908996582,3.5946457386016846,2.4325361251831055,1.836485505104065,1.7675679922103882,1.5576863288879395,1.5027328729629517,1.932619571685791,1.8397704362869263,1.9775447845458984,3.082484245300293,1.6157028675079346,2.545922040939331,1.6549919843673706,2.291698932647705,1.66116464138031,2.9549198150634766,1.6435978412628174,2.644912004470825,2.0181257724761963,1.7513254880905151,1.525627613067627,2.078119993209839,1.5812309980392456,1.6173086166381836,1.78643000125885,1.7188180685043335,2.7230000495910645,1.6161065101623535,1.8009711503982544,2.7247209548950195,2.525853395462036,3.348764181137085,1.676679015159607,1.6786524057388306,3.2899696826934814,3.58331561088562,1.937888264656067,1.7183929681777954,3.010479211807251,1.9387032985687256,1.6560271978378296,1.4905035495758057,1.6606134176254272,3.463055372238159,3.350285768508911,2.0196163654327393,3.38899564743042,2.087777853012085,3.34057354927063,2.6344518661499023,1.70148503780365,3.5475893020629883,3.458428382873535,2.0498087406158447,2.740341901779175,2.5788443088531494,1.5396164655685425,1.755792260169983,2.1277902126312256,2.31101393699646,3.256192207336426,3.810065507888794,1.7229658365249634,2.6331236362457275,3.2533822059631348,1.879183053970337,1.5979949235916138,2.151008367538452,4.308777332305908,2.817633628845215,1.612141728401184,2.3793132305145264,1.648073673248291,1.9275654554367065,1.6739373207092285,2.743346691131592,3.976027727127075,1.895774483680725,1.9712687730789185,1.6887869834899902,1.5052075386047363,1.9039722681045532,1.8638159036636353,1.5195469856262207,2.5363056659698486,2.850144863128662,2.3953890800476074,2.139833688735962],\"xbins\":{\"end\":4.308777332305908,\"size\":0.3,\"start\":0.0251641646027565},\"type\":\"histogram\"}],                        {\"barmode\":\"overlay\",\"title\":{\"text\":\"Loss on test set\",\"font\":{\"size\":24}},\"template\":{\"data\":{\"histogram2dcontour\":[{\"type\":\"histogram2dcontour\",\"colorbar\":{\"outlinewidth\":0,\"ticks\":\"\"},\"colorscale\":[[0.0,\"#0d0887\"],[0.1111111111111111,\"#46039f\"],[0.2222222222222222,\"#7201a8\"],[0.3333333333333333,\"#9c179e\"],[0.4444444444444444,\"#bd3786\"],[0.5555555555555556,\"#d8576b\"],[0.6666666666666666,\"#ed7953\"],[0.7777777777777778,\"#fb9f3a\"],[0.8888888888888888,\"#fdca26\"],[1.0,\"#f0f921\"]]}],\"choropleth\":[{\"type\":\"choropleth\",\"colorbar\":{\"outlinewidth\":0,\"ticks\":\"\"}}],\"histogram2d\":[{\"type\":\"histogram2d\",\"colorbar\":{\"outlinewidth\":0,\"ticks\":\"\"},\"colorscale\":[[0.0,\"#0d0887\"],[0.1111111111111111,\"#46039f\"],[0.2222222222222222,\"#7201a8\"],[0.3333333333333333,\"#9c179e\"],[0.4444444444444444,\"#bd3786\"],[0.5555555555555556,\"#d8576b\"],[0.6666666666666666,\"#ed7953\"],[0.7777777777777778,\"#fb9f3a\"],[0.8888888888888888,\"#fdca26\"],[1.0,\"#f0f921\"]]}],\"heatmap\":[{\"type\":\"heatmap\",\"colorbar\":{\"outlinewidth\":0,\"ticks\":\"\"},\"colorscale\":[[0.0,\"#0d0887\"],[0.1111111111111111,\"#46039f\"],[0.2222222222222222,\"#7201a8\"],[0.3333333333333333,\"#9c179e\"],[0.4444444444444444,\"#bd3786\"],[0.5555555555555556,\"#d8576b\"],[0.6666666666666666,\"#ed7953\"],[0.7777777777777778,\"#fb9f3a\"],[0.8888888888888888,\"#fdca26\"],[1.0,\"#f0f921\"]]}],\"heatmapgl\":[{\"type\":\"heatmapgl\",\"colorbar\":{\"outlinewidth\":0,\"ticks\":\"\"},\"colorscale\":[[0.0,\"#0d0887\"],[0.1111111111111111,\"#46039f\"],[0.2222222222222222,\"#7201a8\"],[0.3333333333333333,\"#9c179e\"],[0.4444444444444444,\"#bd3786\"],[0.5555555555555556,\"#d8576b\"],[0.6666666666666666,\"#ed7953\"],[0.7777777777777778,\"#fb9f3a\"],[0.8888888888888888,\"#fdca26\"],[1.0,\"#f0f921\"]]}],\"contourcarpet\":[{\"type\":\"contourcarpet\",\"colorbar\":{\"outlinewidth\":0,\"ticks\":\"\"}}],\"contour\":[{\"type\":\"contour\",\"colorbar\":{\"outlinewidth\":0,\"ticks\":\"\"},\"colorscale\":[[0.0,\"#0d0887\"],[0.1111111111111111,\"#46039f\"],[0.2222222222222222,\"#7201a8\"],[0.3333333333333333,\"#9c179e\"],[0.4444444444444444,\"#bd3786\"],[0.5555555555555556,\"#d8576b\"],[0.6666666666666666,\"#ed7953\"],[0.7777777777777778,\"#fb9f3a\"],[0.8888888888888888,\"#fdca26\"],[1.0,\"#f0f921\"]]}],\"surface\":[{\"type\":\"surface\",\"colorbar\":{\"outlinewidth\":0,\"ticks\":\"\"},\"colorscale\":[[0.0,\"#0d0887\"],[0.1111111111111111,\"#46039f\"],[0.2222222222222222,\"#7201a8\"],[0.3333333333333333,\"#9c179e\"],[0.4444444444444444,\"#bd3786\"],[0.5555555555555556,\"#d8576b\"],[0.6666666666666666,\"#ed7953\"],[0.7777777777777778,\"#fb9f3a\"],[0.8888888888888888,\"#fdca26\"],[1.0,\"#f0f921\"]]}],\"mesh3d\":[{\"type\":\"mesh3d\",\"colorbar\":{\"outlinewidth\":0,\"ticks\":\"\"}}],\"scatter\":[{\"fillpattern\":{\"fillmode\":\"overlay\",\"size\":10,\"solidity\":0.2},\"type\":\"scatter\"}],\"parcoords\":[{\"type\":\"parcoords\",\"line\":{\"colorbar\":{\"outlinewidth\":0,\"ticks\":\"\"}}}],\"scatterpolargl\":[{\"type\":\"scatterpolargl\",\"marker\":{\"colorbar\":{\"outlinewidth\":0,\"ticks\":\"\"}}}],\"bar\":[{\"error_x\":{\"color\":\"#2a3f5f\"},\"error_y\":{\"color\":\"#2a3f5f\"},\"marker\":{\"line\":{\"color\":\"#E5ECF6\",\"width\":0.5},\"pattern\":{\"fillmode\":\"overlay\",\"size\":10,\"solidity\":0.2}},\"type\":\"bar\"}],\"scattergeo\":[{\"type\":\"scattergeo\",\"marker\":{\"colorbar\":{\"outlinewidth\":0,\"ticks\":\"\"}}}],\"scatterpolar\":[{\"type\":\"scatterpolar\",\"marker\":{\"colorbar\":{\"outlinewidth\":0,\"ticks\":\"\"}}}],\"histogram\":[{\"marker\":{\"pattern\":{\"fillmode\":\"overlay\",\"size\":10,\"solidity\":0.2}},\"type\":\"histogram\"}],\"scattergl\":[{\"type\":\"scattergl\",\"marker\":{\"colorbar\":{\"outlinewidth\":0,\"ticks\":\"\"}}}],\"scatter3d\":[{\"type\":\"scatter3d\",\"line\":{\"colorbar\":{\"outlinewidth\":0,\"ticks\":\"\"}},\"marker\":{\"colorbar\":{\"outlinewidth\":0,\"ticks\":\"\"}}}],\"scattermapbox\":[{\"type\":\"scattermapbox\",\"marker\":{\"colorbar\":{\"outlinewidth\":0,\"ticks\":\"\"}}}],\"scatterternary\":[{\"type\":\"scatterternary\",\"marker\":{\"colorbar\":{\"outlinewidth\":0,\"ticks\":\"\"}}}],\"scattercarpet\":[{\"type\":\"scattercarpet\",\"marker\":{\"colorbar\":{\"outlinewidth\":0,\"ticks\":\"\"}}}],\"carpet\":[{\"aaxis\":{\"endlinecolor\":\"#2a3f5f\",\"gridcolor\":\"white\",\"linecolor\":\"white\",\"minorgridcolor\":\"white\",\"startlinecolor\":\"#2a3f5f\"},\"baxis\":{\"endlinecolor\":\"#2a3f5f\",\"gridcolor\":\"white\",\"linecolor\":\"white\",\"minorgridcolor\":\"white\",\"startlinecolor\":\"#2a3f5f\"},\"type\":\"carpet\"}],\"table\":[{\"cells\":{\"fill\":{\"color\":\"#EBF0F8\"},\"line\":{\"color\":\"white\"}},\"header\":{\"fill\":{\"color\":\"#C8D4E3\"},\"line\":{\"color\":\"white\"}},\"type\":\"table\"}],\"barpolar\":[{\"marker\":{\"line\":{\"color\":\"#E5ECF6\",\"width\":0.5},\"pattern\":{\"fillmode\":\"overlay\",\"size\":10,\"solidity\":0.2}},\"type\":\"barpolar\"}],\"pie\":[{\"automargin\":true,\"type\":\"pie\"}]},\"layout\":{\"autotypenumbers\":\"strict\",\"colorway\":[\"#636efa\",\"#EF553B\",\"#00cc96\",\"#ab63fa\",\"#FFA15A\",\"#19d3f3\",\"#FF6692\",\"#B6E880\",\"#FF97FF\",\"#FECB52\"],\"font\":{\"color\":\"#2a3f5f\"},\"hovermode\":\"closest\",\"hoverlabel\":{\"align\":\"left\"},\"paper_bgcolor\":\"white\",\"plot_bgcolor\":\"#E5ECF6\",\"polar\":{\"bgcolor\":\"#E5ECF6\",\"angularaxis\":{\"gridcolor\":\"white\",\"linecolor\":\"white\",\"ticks\":\"\"},\"radialaxis\":{\"gridcolor\":\"white\",\"linecolor\":\"white\",\"ticks\":\"\"}},\"ternary\":{\"bgcolor\":\"#E5ECF6\",\"aaxis\":{\"gridcolor\":\"white\",\"linecolor\":\"white\",\"ticks\":\"\"},\"baxis\":{\"gridcolor\":\"white\",\"linecolor\":\"white\",\"ticks\":\"\"},\"caxis\":{\"gridcolor\":\"white\",\"linecolor\":\"white\",\"ticks\":\"\"}},\"coloraxis\":{\"colorbar\":{\"outlinewidth\":0,\"ticks\":\"\"}},\"colorscale\":{\"sequential\":[[0.0,\"#0d0887\"],[0.1111111111111111,\"#46039f\"],[0.2222222222222222,\"#7201a8\"],[0.3333333333333333,\"#9c179e\"],[0.4444444444444444,\"#bd3786\"],[0.5555555555555556,\"#d8576b\"],[0.6666666666666666,\"#ed7953\"],[0.7777777777777778,\"#fb9f3a\"],[0.8888888888888888,\"#fdca26\"],[1.0,\"#f0f921\"]],\"sequentialminus\":[[0.0,\"#0d0887\"],[0.1111111111111111,\"#46039f\"],[0.2222222222222222,\"#7201a8\"],[0.3333333333333333,\"#9c179e\"],[0.4444444444444444,\"#bd3786\"],[0.5555555555555556,\"#d8576b\"],[0.6666666666666666,\"#ed7953\"],[0.7777777777777778,\"#fb9f3a\"],[0.8888888888888888,\"#fdca26\"],[1.0,\"#f0f921\"]],\"diverging\":[[0,\"#8e0152\"],[0.1,\"#c51b7d\"],[0.2,\"#de77ae\"],[0.3,\"#f1b6da\"],[0.4,\"#fde0ef\"],[0.5,\"#f7f7f7\"],[0.6,\"#e6f5d0\"],[0.7,\"#b8e186\"],[0.8,\"#7fbc41\"],[0.9,\"#4d9221\"],[1,\"#276419\"]]},\"xaxis\":{\"gridcolor\":\"white\",\"linecolor\":\"white\",\"ticks\":\"\",\"title\":{\"standoff\":15},\"zerolinecolor\":\"white\",\"automargin\":true,\"zerolinewidth\":2},\"yaxis\":{\"gridcolor\":\"white\",\"linecolor\":\"white\",\"ticks\":\"\",\"title\":{\"standoff\":15},\"zerolinecolor\":\"white\",\"automargin\":true,\"zerolinewidth\":2},\"scene\":{\"xaxis\":{\"backgroundcolor\":\"#E5ECF6\",\"gridcolor\":\"white\",\"linecolor\":\"white\",\"showbackground\":true,\"ticks\":\"\",\"zerolinecolor\":\"white\",\"gridwidth\":2},\"yaxis\":{\"backgroundcolor\":\"#E5ECF6\",\"gridcolor\":\"white\",\"linecolor\":\"white\",\"showbackground\":true,\"ticks\":\"\",\"zerolinecolor\":\"white\",\"gridwidth\":2},\"zaxis\":{\"backgroundcolor\":\"#E5ECF6\",\"gridcolor\":\"white\",\"linecolor\":\"white\",\"showbackground\":true,\"ticks\":\"\",\"zerolinecolor\":\"white\",\"gridwidth\":2}},\"shapedefaults\":{\"line\":{\"color\":\"#2a3f5f\"}},\"annotationdefaults\":{\"arrowcolor\":\"#2a3f5f\",\"arrowhead\":0,\"arrowwidth\":1},\"geo\":{\"bgcolor\":\"white\",\"landcolor\":\"#E5ECF6\",\"subunitcolor\":\"white\",\"showland\":true,\"showlakes\":true,\"lakecolor\":\"white\"},\"title\":{\"x\":0.05},\"mapbox\":{\"style\":\"light\"}}},\"xaxis\":{\"tickfont\":{\"size\":16},\"title\":{\"text\":\"cross entropy loss\"}},\"yaxis\":{\"tickfont\":{\"size\":16},\"title\":{\"text\":\"count\"}},\"legend\":{\"font\":{\"size\":16}},\"width\":1600,\"height\":500},                        {\"responsive\": true}                    ).then(function(){\n",
       "                            \n",
       "var gd = document.getElementById('faf33e69-b1e2-4728-a4eb-db084a9aa589');\n",
       "var x = new MutationObserver(function (mutations, observer) {{\n",
       "        var display = window.getComputedStyle(gd).display;\n",
       "        if (!display || display === 'none') {{\n",
       "            console.log([gd, 'removed!']);\n",
       "            Plotly.purge(gd);\n",
       "            observer.disconnect();\n",
       "        }}\n",
       "}});\n",
       "\n",
       "// Listen for the removal of the full notebook cells\n",
       "var notebookContainer = gd.closest('#notebook-container');\n",
       "if (notebookContainer) {{\n",
       "    x.observe(notebookContainer, {childList: true});\n",
       "}}\n",
       "\n",
       "// Listen for the clearing of the current output cell\n",
       "var outputEl = gd.closest('.output');\n",
       "if (outputEl) {{\n",
       "    x.observe(outputEl, {childList: true});\n",
       "}}\n",
       "\n",
       "                        })                };                });            </script>        </div>"
      ]
     },
     "metadata": {},
     "output_type": "display_data"
    }
   ],
   "source": [
    "loss_fig.update_layout(\n",
    "    dict(\n",
    "        width=1600,height=500,\n",
    "        xaxis=dict(title='cross entropy loss', tickfont=dict(size=16), titlefont=dict(size=20)),\n",
    "        yaxis=dict(title='count', tickfont=dict(size=16), titlefont=dict(size=20)),\n",
    "        title=dict(text=\"Loss on test set\", font=dict(size=24)),\n",
    "        legend=dict(\n",
    "            font=dict(size=16)  # Legend font size\n",
    "        )\n",
    "    )\n",
    ")\n",
    "loss_fig.show()"
   ]
  },
  {
   "cell_type": "code",
   "execution_count": 14,
   "id": "76080be6-838c-4ec9-a87d-5fafc4b69d0a",
   "metadata": {},
   "outputs": [
    {
     "data": {
      "text/plain": [
       "tensor(3.9959, device='cuda:0')"
      ]
     },
     "execution_count": 14,
     "metadata": {},
     "output_type": "execute_result"
    }
   ],
   "source": [
    "max_loss"
   ]
  },
  {
   "cell_type": "code",
   "execution_count": null,
   "id": "18e2fca1-01cf-4c23-abfa-dd09d005ec55",
   "metadata": {},
   "outputs": [],
   "source": []
  }
 ],
 "metadata": {
  "kernelspec": {
   "display_name": "Python 3 (ipykernel)",
   "language": "python",
   "name": "python3"
  },
  "language_info": {
   "codemirror_mode": {
    "name": "ipython",
    "version": 3
   },
   "file_extension": ".py",
   "mimetype": "text/x-python",
   "name": "python",
   "nbconvert_exporter": "python",
   "pygments_lexer": "ipython3",
   "version": "3.10.12"
  }
 },
 "nbformat": 4,
 "nbformat_minor": 5
}
