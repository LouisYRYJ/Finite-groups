{
 "cells": [
  {
   "cell_type": "markdown",
   "id": "5398ebd2-48ab-423a-b560-92e9d2374a0b",
   "metadata": {},
   "source": [
    "### Setup"
   ]
  },
  {
   "cell_type": "code",
   "execution_count": 1,
   "id": "aeaec889-8f37-480c-861d-8a434e24fe26",
   "metadata": {},
   "outputs": [],
   "source": [
    "import os, sys\n",
    "HOME = os.environ['HOME']  # change if necessary\n",
    "sys.path.append(f'{HOME}/Finite-groups/src')"
   ]
  },
  {
   "cell_type": "code",
   "execution_count": 2,
   "id": "8293bd26-5402-4955-a9c6-ed25d4b90d4f",
   "metadata": {},
   "outputs": [
    {
     "name": "stderr",
     "output_type": "stream",
     "text": [
      "Syntax warning: Unbound global variable in /usr/share/gap/pkg/browse/PackageIn\\\n",
      "fo.g:73\n",
      "  if not IsKernelExtensionAvailable(\"Browse\", \"ncurses\") then\n",
      "         ^^^^^^^^^^^^^^^^^^^^^^^^^^\n",
      "Syntax warning: Unbound global variable in /usr/share/gap/pkg/edim/PackageInfo\\\n",
      ".g:60\n",
      "  if not IsKernelExtensionAvailable(\"EDIM\",\"ediv\") then\n",
      "         ^^^^^^^^^^^^^^^^^^^^^^^^^^\n"
     ]
    }
   ],
   "source": [
    "import torch as t\n",
    "import numpy as np\n",
    "from matplotlib import pyplot as plt\n",
    "import json\n",
    "from itertools import product\n",
    "from jaxtyping import Float\n",
    "from torch.utils.data import DataLoader\n",
    "from tqdm.notebook import tqdm\n",
    "import plotly.graph_objects as go\n",
    "import copy\n",
    "import math\n",
    "from itertools import product\n",
    "import pandas as pd\n",
    "from typing import Union\n",
    "from einops import repeat\n",
    "from huggingface_hub import snapshot_download\n",
    "from huggingface_hub.utils import disable_progress_bars\n",
    "\n",
    "\n",
    "from model import MLP3, MLP4, InstancedModule\n",
    "from utils import *\n",
    "from group_data import *\n",
    "from model_utils import *\n",
    "from group_utils import *\n",
    "%load_ext autoreload\n",
    "%autoreload 2"
   ]
  },
  {
   "cell_type": "code",
   "execution_count": 4,
   "id": "0f473f11-9236-4bbf-b401-c6e92cd35923",
   "metadata": {},
   "outputs": [
    {
     "name": "stdout",
     "output_type": "stream",
     "text": [
      "Intersection size: 7920/14400 (0.55)\n",
      "Added 7920 elements from intersection\n",
      "Added 0 elements from group 0: S(5)\n",
      "Added 0 elements from group 1: times(A(5), Z(2))\n",
      "Train set size: 7920/14400 (0.55)\n"
     ]
    }
   ],
   "source": [
    "device = t.device(\"cuda\" if t.cuda.is_available() else \"cpu\")\n",
    "MODEL_DIR = '2024-11-11_03-08-13_S5_A5x2_MLP2_128_ubias_wd2e-5'\n",
    "disable_progress_bars()\n",
    "local_dir = f'{HOME}/models/{MODEL_DIR}'\n",
    "if not os.path.exists(local_dir):\n",
    "    snapshot_download(repo_id=f'wiwu2390/{MODEL_DIR}', local_dir=local_dir)\n",
    "models, params = load_models(local_dir, sel='final')\n",
    "data = GroupData(params)"
   ]
  },
  {
   "cell_type": "markdown",
   "id": "f0f21317-778f-4e55-970c-1ec604f95930",
   "metadata": {},
   "source": [
    "`models` (returned from `load_models`) is a list of InstancedModule objects, one for each training checkpoint that we chose to save. For most runs, we only save the final checkpoints, so `len(models)==1`\n",
    "\n",
    "For efficiency during training, the InstancedModule object contains 100 different instances starting from different random initializations. \n",
    "\n",
    "Here, we look only at the one with best test accuracy."
   ]
  },
  {
   "cell_type": "code",
   "execution_count": 5,
   "id": "ccb4a6de-eabe-4535-9d3f-df78a05f3633",
   "metadata": {},
   "outputs": [],
   "source": [
    "loss_dict = test_loss(models[0].to(device), data)"
   ]
  },
  {
   "cell_type": "code",
   "execution_count": 25,
   "id": "bb7037fe",
   "metadata": {},
   "outputs": [
    {
     "name": "stdout",
     "output_type": "stream",
     "text": [
      "tensor(0.0279) tensor(1.) 8\n",
      "tensor(4.4960) tensor(0.5500) 8\n"
     ]
    }
   ],
   "source": [
    "# instance = loss_dict['G0_acc'].argmax().item()\n",
    "instance = loss_dict['G0_loss'].argmin().item()\n",
    "# instance = loss_dict['G1_loss'].argmin().item()\n",
    "# instance = (loss_dict['G0_acc'] > 0.999).nonzero()[11]\n",
    "# instance = 33\n",
    "print(loss_dict[f'G0_loss'][instance], loss_dict[f'G0_acc'][instance], instance)\n",
    "print(loss_dict[f'G1_loss'][instance], loss_dict[f'G1_acc'][instance], instance)\n",
    "model = models[-1][instance].to(device)\n",
    "# print(model.embedding_left.norm() + model.embedding_right.norm() + model.linear.norm() + model.unembedding.norm())"
   ]
  },
  {
   "cell_type": "markdown",
   "id": "2e3f6194-2716-46ca-972f-a88fe0f49de4",
   "metadata": {},
   "source": [
    "`MLP3` architecture is\n",
    "$$f(z\\mid x, y) = W_u(z)\\cdot\\text{ReLU}[W_h(W_l(x)+W_r(y))]] = \\sum_i w_u^i(z) \\text{ReLU}[w_l^i(x)+w_r^i(y)]$$\n",
    "where $w_u^i, w_l^i, w_r^i\\in\\mathbb{R}^G$ are the columns of $W_u, (W_hW_l)^{\\top}, (W_hW_r)^{\\top}$ respectively."
   ]
  },
  {
   "cell_type": "code",
   "execution_count": 26,
   "id": "1b3e1c90-45f9-43dc-b2bf-6fa305d7d196",
   "metadata": {},
   "outputs": [
    {
     "data": {
      "text/plain": [
       "(torch.Size([120, 128]), torch.Size([120, 128]), torch.Size([120, 128]))"
      ]
     },
     "execution_count": 26,
     "metadata": {},
     "output_type": "execute_result"
    }
   ],
   "source": [
    "COMPLEX = False\n",
    "\n",
    "# model.get_neurons() folds the linear map into the embeddings\n",
    "lneurons, rneurons, uneurons = model.get_neurons(squeeze=True)\n",
    "if COMPLEX:\n",
    "    lneurons = t.complex(lneurons, t.zeros_like(lneurons))\n",
    "    rneurons = t.complex(rneurons, t.zeros_like(rneurons))\n",
    "    uneurons = t.complex(uneurons, t.zeros_like(uneurons))\n",
    "# lneurons = t.complex(t.zeros_like(lneurons), lneurons)\n",
    "# rneurons = t.complex(t.zeros_like(rneurons), rneurons)\n",
    "# uneurons = t.complex(t.zeros_like(uneurons), uneurons)\n",
    "lneurons.shape, rneurons.shape, uneurons.shape"
   ]
  },
  {
   "cell_type": "code",
   "execution_count": 27,
   "id": "ddbd2806",
   "metadata": {},
   "outputs": [],
   "source": [
    "def ablate_loss(ln, rn, un):\n",
    "    ablate_model = copy.deepcopy(model)\n",
    "    if not isinstance(ablate_model, MLP4):\n",
    "        ablate_model = ablate_model.fold_linear()\n",
    "    ablate_model.embedding_left.data = ln.unsqueeze(0)\n",
    "    ablate_model.embedding_right.data = rn.unsqueeze(0)\n",
    "    ablate_model.unembedding.data = un.unsqueeze(0).mT\n",
    "    return test_loss(ablate_model.to(device), data)\n",
    "\n",
    "def ablate_idx_loss(idxs):\n",
    "    ln, rn= model.get_neurons()\n",
    "    un = model.unembedding.data.detach()\n",
    "    ln, rn, un = ln.squeeze(0).to('cpu'), rn.squeeze(0).to('cpu'), un.squeeze(0).to('cpu').T\n",
    "    ln, rn, un = ln[:, idxs], rn[:, idxs], un[:, idxs]\n",
    "    return ablate_loss(ln, rn, un)"
   ]
  },
  {
   "cell_type": "markdown",
   "id": "9fa29f76-c012-4918-be8e-e761813b918d",
   "metadata": {},
   "source": [
    "### Neurons are irrep-sparse"
   ]
  },
  {
   "cell_type": "markdown",
   "id": "81da1cb7-4ee6-4e51-a1b8-872b3b594e1c",
   "metadata": {},
   "source": [
    "I.e., each neuron is a linear combination of matrix entries of some irrep.\n",
    "\n",
    "That is, for each $i$, there exists an irrep $\\rho_i\\colon G\\to\\text{GL}(\\mathbb{R}^d)$ such that, for some $A_i,B_i,C_i$,\n",
    "$$w_l^i(x) \\approx \\text{tr}(\\rho_i(x) A_i)$$\n",
    "$$w_r^i(y) \\approx \\text{tr}(\\rho_i(y) B_i)$$\n",
    "$$w_u^i(z) \\approx \\text{tr}(\\rho_i(z) C_i)$$\n",
    "\n",
    "(This was first noticed by Chughtai et al.)"
   ]
  },
  {
   "cell_type": "markdown",
   "id": "9decac2b-f6c2-4a90-9ea8-99016c469344",
   "metadata": {},
   "source": [
    "**Notation**: 4d-0 is the 1st degree 4 irrep, 4d-1 is the 2nd, etc. Ordering is arbitrary but is consistent between runs (I think)"
   ]
  },
  {
   "cell_type": "code",
   "execution_count": 28,
   "id": "a38ffde5-1654-45e2-8494-0c7103391bb6",
   "metadata": {},
   "outputs": [
    {
     "name": "stdout",
     "output_type": "stream",
     "text": [
      "G0 IRREPS\n"
     ]
    },
    {
     "ename": "AttributeError",
     "evalue": "'Tensor' object has no attribute 'keys'",
     "output_type": "error",
     "traceback": [
      "\u001b[0;31m---------------------------------------------------------------------------\u001b[0m",
      "\u001b[0;31mAttributeError\u001b[0m                            Traceback (most recent call last)",
      "Cell \u001b[0;32mIn[28], line 8\u001b[0m\n\u001b[1;32m      6\u001b[0m \u001b[38;5;28;01mfor\u001b[39;00m i, irreps \u001b[38;5;129;01min\u001b[39;00m \u001b[38;5;28menumerate\u001b[39m(all_irreps):\n\u001b[1;32m      7\u001b[0m     \u001b[38;5;28mprint\u001b[39m(\u001b[38;5;124mf\u001b[39m\u001b[38;5;124m'\u001b[39m\u001b[38;5;124mG\u001b[39m\u001b[38;5;132;01m{\u001b[39;00mi\u001b[38;5;132;01m}\u001b[39;00m\u001b[38;5;124m IRREPS\u001b[39m\u001b[38;5;124m'\u001b[39m)\n\u001b[0;32m----> 8\u001b[0m     \u001b[38;5;28mprint\u001b[39m(\u001b[43mirrep\u001b[49m\u001b[38;5;241;43m.\u001b[39;49m\u001b[43mkeys\u001b[49m())\n",
      "\u001b[0;31mAttributeError\u001b[0m: 'Tensor' object has no attribute 'keys'"
     ]
    }
   ],
   "source": [
    "if COMPLEX:\n",
    "    all_irreps = [group.get_complex_irreps() for group in data.groups]\n",
    "else:\n",
    "    all_irreps = [group.get_real_irreps(verbose=True) for group in data.groups]\n",
    "\n",
    "for i, irreps in enumerate(all_irreps):\n",
    "    print(f'G{i} IRREPS')\n",
    "    print(irrep.keys())"
   ]
  },
  {
   "cell_type": "code",
   "execution_count": 29,
   "id": "103c47dc-865a-4fbe-b9be-1e9d2b63a7e4",
   "metadata": {},
   "outputs": [
    {
     "name": "stdout",
     "output_type": "stream",
     "text": [
      "G0 IRREP BASES\n",
      "1d-0 torch.Size([120, 1])\n",
      "4d-0 torch.Size([120, 16])\n",
      "5d-0 torch.Size([120, 25])\n",
      "6d-0 torch.Size([120, 36])\n",
      "5d-1 torch.Size([120, 25])\n",
      "4d-1 torch.Size([120, 16])\n",
      "1d-1 torch.Size([120, 1])\n",
      "G1 IRREP BASES\n",
      "1d-0 torch.Size([120, 1])\n",
      "1d-1 torch.Size([120, 1])\n",
      "3d-0 torch.Size([120, 9])\n",
      "3d-1 torch.Size([120, 9])\n",
      "3d-2 torch.Size([120, 9])\n",
      "3d-3 torch.Size([120, 9])\n",
      "4d-0 torch.Size([120, 16])\n",
      "4d-1 torch.Size([120, 16])\n",
      "5d-0 torch.Size([120, 25])\n",
      "5d-1 torch.Size([120, 25])\n"
     ]
    }
   ],
   "source": [
    "# Get orthogonal basis for each irrep\n",
    "all_irrep_bases = []\n",
    "\n",
    "for i, irreps in enumerate(all_irreps):\n",
    "    irrep_bases = dict()\n",
    "    for name, irrep in irreps.items():\n",
    "        irrep = einops.rearrange(irrep, 'N d1 d2 -> N (d1 d2)')\n",
    "        U, S, V = t.svd(irrep)\n",
    "        nonzero = S > 1e-5\n",
    "        irrep_bases[name] = U[:,nonzero]\n",
    "    all_irrep_bases.append(irrep_bases)\n",
    "\n",
    "    print(f'G{i} IRREP BASES')\n",
    "    # Dimension of subspace spanned by each irrep\n",
    "    for k, v in irrep_bases.items():\n",
    "        print(k, v.shape)"
   ]
  },
  {
   "cell_type": "code",
   "execution_count": null,
   "id": "3d32e6f1-297a-4e02-9a48-0d01e2dfb32a",
   "metadata": {},
   "outputs": [],
   "source": [
    "# Proportion of variance explained by each irrep, for each neuron\n",
    "all_lexpl, all_rexpl, all_uexpl = [], [], []\n",
    "all_lexpl_max, all_rexpl_max, all_uexpl_max = [], [], []\n",
    "all_lirrep, all_rirrep, all_uirrep = [], [], []\n",
    "\n",
    "for i, irrep_bases in enumerate(all_irrep_bases):\n",
    "    lexpl, rexpl, uexpl = dict(), dict(), dict()\n",
    "\n",
    "    for name, basis in irrep_bases.items():\n",
    "        lexpl[name] = (basis.H @ lneurons).norm(dim=0)**2 / (lneurons.norm(dim=0)**2 + 1e-8)\n",
    "        rexpl[name] = (basis.H @ rneurons).norm(dim=0)**2 / (rneurons.norm(dim=0)**2 + 1e-8)\n",
    "        uexpl[name] = (basis.H @ uneurons).norm(dim=0)**2 / (uneurons.norm(dim=0)**2 + 1e-8)\n",
    "\n",
    "    lexpl_max, lirrep = t.stack(list(lexpl.values()), dim=0).max(dim=0)\n",
    "    rexpl_max, rirrep = t.stack(list(rexpl.values()), dim=0).max(dim=0)\n",
    "    uexpl_max, uirrep = t.stack(list(uexpl.values()), dim=0).max(dim=0)\n",
    "\n",
    "    all_lexpl.append(lexpl)\n",
    "    all_rexpl.append(rexpl)\n",
    "    all_uexpl.append(uexpl)\n",
    "    all_lexpl_max.append(lexpl_max)\n",
    "    all_rexpl_max.append(rexpl_max)\n",
    "    all_uexpl_max.append(uexpl_max)\n",
    "    all_lirrep.append(lirrep)\n",
    "    all_rirrep.append(rirrep)\n",
    "    all_uirrep.append(uirrep)\n",
    "\n",
    "# to_P = lambda basis: basis @ basis.H\n",
    "\n",
    "# ln_proj = t.stack([to_P(list(irrep_bases.values())[lirrep[i]]) @ lneurons[:,[i]] for i in range(lneurons.shape[1])], dim=1).squeeze(-1)\n",
    "# rn_proj = t.stack([to_P(list(irrep_bases.values())[rirrep[i]]) @ rneurons[:,[i]] for i in range(rneurons.shape[1])], dim=1).squeeze(-1)\n",
    "# un_proj = t.stack([to_P(list(irrep_bases.values())[uirrep[i]]) @ uneurons[:,[i]] for i in range(uneurons.shape[1])], dim=1).squeeze(-1)"
   ]
  },
  {
   "cell_type": "code",
   "execution_count": 31,
   "id": "644f5325",
   "metadata": {},
   "outputs": [],
   "source": [
    "# basis = irrep_bases['4d-1']\n",
    "# P = basis @ basis.T\n",
    "# ablate_loss(lneurons, rneurons, uneurons), ablate_loss(ln_proj, rn_proj, uneurons), ablate_loss(lneurons, rneurons, un_proj), ablate_loss(ln_proj, rn_proj, un_proj)"
   ]
  },
  {
   "cell_type": "code",
   "execution_count": 32,
   "id": "3392505a",
   "metadata": {},
   "outputs": [],
   "source": [
    "# ures_expl = dict()\n",
    "# ubias = model.unembed_bias.data.squeeze(0)\n",
    "# ubias_expl = dict()\n",
    "# for name, basis in irrep_bases.items():\n",
    "#     # ures_expl[name] = (basis.H @ ures).norm(dim=0)**2 / (ures.norm(dim=0)**2 + 1e-8)\n",
    "#     ubias_expl[name] = (basis.H @ ubias).norm(dim=0)**2 / (ubias.norm(dim=0)**2 + 1e-8)\n",
    "# ubias_expl"
   ]
  },
  {
   "cell_type": "code",
   "execution_count": 33,
   "id": "8b5e3ad3-02ca-4de7-ba65-fffdab7d4169",
   "metadata": {},
   "outputs": [
    {
     "data": {
      "image/png": "[encoded data removed]",
      "text/plain": [
       "<Figure size 640x480 with 1 Axes>"
      ]
     },
     "metadata": {},
     "output_type": "display_data"
    },
    {
     "data": {
      "image/png": "[encoded data removed]",
      "text/plain": [
       "<Figure size 640x480 with 1 Axes>"
      ]
     },
     "metadata": {},
     "output_type": "display_data"
    },
    {
     "data": {
      "image/png": "[encoded data removed]",
      "text/plain": [
       "<Figure size 640x480 with 1 Axes>"
      ]
     },
     "metadata": {},
     "output_type": "display_data"
    },
    {
     "data": {
      "image/png": "[encoded data removed]",
      "text/plain": [
       "<Figure size 640x480 with 1 Axes>"
      ]
     },
     "metadata": {},
     "output_type": "display_data"
    },
    {
     "data": {
      "image/png": "[encoded data removed]",
      "text/plain": [
       "<Figure size 640x480 with 1 Axes>"
      ]
     },
     "metadata": {},
     "output_type": "display_data"
    },
    {
     "data": {
      "image/png": "[encoded data removed]",
      "text/plain": [
       "<Figure size 640x480 with 1 Axes>"
      ]
     },
     "metadata": {},
     "output_type": "display_data"
    }
   ],
   "source": [
    "for i, (lexpl_max, rexpl_max, uexpl_max) in enumerate(zip(all_lexpl_max, all_rexpl_max, all_uexpl_max)):\n",
    "    for name, expl in [('left', lexpl_max), ('right', rexpl_max), ('unembed', uexpl_max)]:\n",
    "        plt.hist(expl.tolist())\n",
    "        plt.title(f'{name} neurons: variance explained by best irrep, G{i}')\n",
    "        plt.show()"
   ]
  },
  {
   "cell_type": "code",
   "execution_count": 47,
   "id": "782267d3-ec8a-4a4b-b9b3-7fbbd2fcf0e6",
   "metadata": {},
   "outputs": [
    {
     "name": "stdout",
     "output_type": "stream",
     "text": [
      "G0 irrep idxs\n",
      "1d-0 5\n",
      "4d-0 0\n",
      "5d-0 0\n",
      "6d-0 0\n",
      "5d-1 0\n",
      "4d-1 56\n",
      "1d-1 0\n",
      "none 15\n",
      "dead 52\n",
      "\n",
      "G1 irrep idxs\n",
      "1d-0 0\n",
      "1d-1 5\n",
      "3d-0 0\n",
      "3d-1 0\n",
      "3d-2 0\n",
      "3d-3 0\n",
      "4d-0 24\n",
      "4d-1 0\n",
      "5d-0 0\n",
      "5d-1 0\n",
      "none 47\n",
      "dead 52\n",
      "\n"
     ]
    }
   ],
   "source": [
    "thresh = 0.95\n",
    "norm_thresh = 1e-1\n",
    "all_irrep_idx_dict = [{\n",
    "        name: [\n",
    "            i for i in range(lneurons.shape[-1]) \n",
    "            if lexpl[name][i].item() > thresh and lneurons[:,i].norm() > norm_thresh\n",
    "        ]\n",
    "        for name in irreps\n",
    "    }\n",
    "    for lexpl, irreps in zip(all_lexpl, all_irreps)\n",
    "]\n",
    "for i, (irrep_idx_dict, irreps, lexpl) in enumerate(zip(all_irrep_idx_dict, all_irreps, all_lexpl)):\n",
    "    print(f'G{i} irrep idxs')\n",
    "    irrep_idx_dict['none'] = [\n",
    "        i for i in range(lneurons.shape[-1])\n",
    "        if all(lexpl[name][i].item() <= thresh for name in irreps) and lneurons[:,i].norm() > norm_thresh \n",
    "    ]\n",
    "    irrep_idx_dict['dead'] = [\n",
    "        i for i in range(lneurons.shape[-1])\n",
    "        if lneurons[:,i].norm() <= norm_thresh \n",
    "    ]\n",
    "    for k, v in irrep_idx_dict.items():\n",
    "        print(k, len(v))\n",
    "    print()"
   ]
  },
  {
   "cell_type": "code",
   "execution_count": null,
   "id": "64341bae",
   "metadata": {},
   "outputs": [
    {
     "name": "stdout",
     "output_type": "stream",
     "text": [
      "('1d-0', '1d-1') 5\n",
      "('4d-1', 'none') 59\n",
      "('none', 'none') 64\n"
     ]
    }
   ],
   "source": [
    "for names in product(*[list(irrep_idx_dict.keys()) for irrep_idx_dict in all_irrep_idx_dict]):\n",
    "    intersect = set.intersection(*[set(irrep_idx_dict[name]) for irrep_idx_dict, name in zip(all_irrep_idx_dict, names)])\n",
    "    if len(intersect) > 0:\n",
    "        print(names, len(intersect))"
   ]
  },
  {
   "cell_type": "code",
   "execution_count": null,
   "id": "f0757692",
   "metadata": {},
   "outputs": [],
   "source": []
  },
  {
   "cell_type": "code",
   "execution_count": 48,
   "id": "94231008",
   "metadata": {},
   "outputs": [
    {
     "name": "stdout",
     "output_type": "stream",
     "text": [
      "INSTANCE 0\n",
      "('1d-0', '1d-1') 8\n",
      "('none', '5d-0') 38\n",
      "('none', 'none') 35\n",
      "('dead', 'dead') 47\n",
      "\n",
      "\n",
      "INSTANCE 1\n",
      "G0 grokked!\n",
      "('1d-0', '1d-1') 6\n",
      "('4d-1', '4d-0') 31\n",
      "('4d-1', 'none') 39\n",
      "('dead', 'dead') 52\n",
      "\n",
      "\n",
      "INSTANCE 2\n",
      "G0 grokked!\n",
      "('1d-0', '1d-1') 4\n",
      "('4d-1', 'none') 42\n",
      "('dead', 'dead') 82\n",
      "\n",
      "\n",
      "INSTANCE 3\n",
      "('1d-0', '1d-1') 5\n",
      "('6d-0', 'none') 67\n",
      "('none', 'none') 54\n",
      "('dead', 'dead') 2\n",
      "\n",
      "\n",
      "INSTANCE 4\n",
      "('1d-0', '1d-1') 5\n",
      "('4d-1', '4d-0') 30\n",
      "('4d-1', 'none') 34\n",
      "('dead', 'dead') 59\n",
      "\n",
      "\n",
      "INSTANCE 5\n",
      "('1d-0', '1d-1') 8\n",
      "('6d-0', 'none') 75\n",
      "('none', 'none') 35\n",
      "('dead', 'dead') 10\n",
      "\n",
      "\n",
      "INSTANCE 6\n",
      "('1d-0', '1d-1') 7\n",
      "('6d-0', 'none') 37\n",
      "('none', 'none') 48\n",
      "('dead', 'dead') 36\n",
      "\n",
      "\n",
      "INSTANCE 7\n",
      "('1d-0', '1d-1') 3\n",
      "('6d-0', '3d-3') 43\n",
      "('6d-0', 'none') 40\n",
      "('none', 'none') 32\n",
      "('dead', 'dead') 10\n",
      "\n",
      "\n",
      "INSTANCE 8\n",
      "G0 grokked!\n",
      "('1d-0', '1d-1') 5\n",
      "('4d-1', 'none') 59\n",
      "('dead', 'dead') 64\n",
      "\n",
      "\n",
      "INSTANCE 9\n",
      "('1d-0', '1d-1') 5\n",
      "('none', 'none') 65\n",
      "('dead', 'dead') 58\n",
      "\n",
      "\n",
      "INSTANCE 10\n",
      "('1d-0', '1d-1') 7\n",
      "('6d-0', 'none') 8\n",
      "('4d-1', '4d-0') 4\n",
      "('4d-1', 'none') 3\n",
      "('none', 'none') 96\n",
      "('dead', 'dead') 10\n",
      "\n",
      "\n",
      "INSTANCE 11\n",
      "('1d-0', '1d-1') 3\n",
      "('6d-0', '3d-1') 11\n",
      "('6d-0', 'none') 16\n",
      "('none', 'none') 72\n",
      "('dead', 'dead') 26\n",
      "\n",
      "\n",
      "INSTANCE 12\n",
      "G1 grokked!\n",
      "('6d-0', '3d-1') 66\n",
      "('4d-1', '4d-0') 40\n",
      "('none', 'none') 5\n",
      "('dead', 'dead') 17\n",
      "\n",
      "\n",
      "INSTANCE 13\n",
      "('1d-0', '1d-1') 7\n",
      "('6d-0', 'none') 67\n",
      "('none', 'none') 40\n",
      "('dead', 'dead') 14\n",
      "\n",
      "\n",
      "INSTANCE 14\n",
      "('1d-0', '1d-1') 3\n",
      "('5d-0', 'none') 38\n",
      "('none', 'none') 31\n",
      "('dead', 'dead') 56\n",
      "\n",
      "\n",
      "INSTANCE 15\n",
      "('1d-0', '1d-1') 6\n",
      "('none', 'none') 102\n",
      "('dead', 'dead') 20\n",
      "\n",
      "\n",
      "INSTANCE 16\n",
      "('1d-0', '1d-1') 2\n",
      "('6d-0', '3d-3') 47\n",
      "('6d-0', 'none') 2\n",
      "('5d-1', '5d-0') 25\n",
      "('none', 'none') 47\n",
      "('dead', 'dead') 5\n",
      "\n",
      "\n",
      "INSTANCE 17\n",
      "('1d-0', '1d-1') 7\n",
      "('6d-0', 'none') 59\n",
      "('none', 'none') 35\n",
      "('dead', 'dead') 27\n",
      "\n",
      "\n",
      "INSTANCE 18\n",
      "('1d-0', '1d-1') 3\n",
      "('6d-0', '3d-1') 63\n",
      "('none', 'none') 37\n",
      "('dead', 'dead') 25\n",
      "\n",
      "\n",
      "INSTANCE 19\n",
      "('6d-0', '3d-0') 34\n",
      "('6d-0', 'none') 53\n",
      "('none', 'none') 41\n",
      "\n",
      "\n",
      "INSTANCE 20\n",
      "('1d-0', '1d-1') 5\n",
      "('6d-0', 'none') 73\n",
      "('none', 'none') 42\n",
      "('dead', 'dead') 8\n",
      "\n",
      "\n",
      "INSTANCE 21\n",
      "G0 grokked!\n",
      "('1d-0', '1d-1') 6\n",
      "('4d-1', 'none') 38\n",
      "('dead', 'dead') 84\n",
      "\n",
      "\n",
      "INSTANCE 22\n",
      "('1d-0', '1d-1') 6\n",
      "('6d-0', 'none') 14\n",
      "('none', 'none') 75\n",
      "('dead', 'dead') 33\n",
      "\n",
      "\n",
      "INSTANCE 23\n",
      "('6d-0', '3d-1') 67\n",
      "('none', '4d-1') 11\n",
      "('none', 'none') 48\n",
      "('dead', 'dead') 2\n",
      "\n",
      "\n",
      "INSTANCE 24\n",
      "('6d-0', '3d-0') 19\n",
      "('6d-0', 'none') 56\n",
      "('none', 'none') 52\n",
      "('dead', 'dead') 1\n",
      "\n",
      "\n",
      "INSTANCE 25\n",
      "('1d-0', '1d-1') 8\n",
      "('6d-0', '3d-3') 2\n",
      "('6d-0', 'none') 55\n",
      "('4d-1', 'none') 39\n",
      "('dead', 'dead') 24\n",
      "\n",
      "\n",
      "INSTANCE 26\n",
      "('1d-0', '1d-1') 3\n",
      "('4d-1', 'none') 44\n",
      "('none', 'none') 41\n",
      "('dead', 'dead') 40\n",
      "\n",
      "\n",
      "INSTANCE 27\n",
      "('1d-0', '1d-1') 2\n",
      "('6d-0', 'none') 51\n",
      "('none', '5d-0') 17\n",
      "('none', 'none') 58\n",
      "\n",
      "\n",
      "INSTANCE 28\n",
      "('1d-0', '1d-1') 6\n",
      "('6d-0', 'none') 50\n",
      "('none', 'none') 34\n",
      "('dead', 'dead') 38\n",
      "\n",
      "\n",
      "INSTANCE 29\n",
      "('1d-0', '1d-1') 2\n",
      "('4d-0', 'none') 43\n",
      "('none', 'none') 41\n",
      "('dead', 'dead') 42\n",
      "\n",
      "\n",
      "INSTANCE 30\n",
      "('1d-0', '1d-1') 5\n",
      "('6d-0', 'none') 10\n",
      "('none', 'none') 71\n",
      "('dead', 'dead') 42\n",
      "\n",
      "\n",
      "INSTANCE 31\n",
      "('1d-0', '1d-1') 7\n",
      "('none', '4d-0') 34\n",
      "('none', 'none') 59\n",
      "('dead', 'dead') 28\n",
      "\n",
      "\n",
      "INSTANCE 32\n",
      "('none', 'none') 92\n",
      "('dead', 'dead') 36\n",
      "\n",
      "\n",
      "INSTANCE 33\n",
      "('1d-0', '1d-1') 4\n",
      "('6d-0', 'none') 63\n",
      "('none', 'none') 39\n",
      "('dead', 'dead') 22\n",
      "\n",
      "\n",
      "INSTANCE 34\n",
      "('1d-0', '1d-1') 2\n",
      "('6d-0', '3d-2') 49\n",
      "('6d-0', 'none') 8\n",
      "('none', 'none') 47\n",
      "('dead', 'dead') 22\n",
      "\n",
      "\n",
      "INSTANCE 35\n",
      "('1d-0', '1d-1') 5\n",
      "('6d-0', 'none') 61\n",
      "('none', '4d-0') 10\n",
      "('none', 'none') 35\n",
      "('dead', 'dead') 17\n",
      "\n",
      "\n",
      "INSTANCE 36\n",
      "('6d-0', 'none') 12\n",
      "('none', '5d-0') 13\n",
      "('none', 'none') 79\n",
      "('dead', 'dead') 24\n",
      "\n",
      "\n",
      "INSTANCE 37\n",
      "('4d-1', 'none') 53\n",
      "('none', 'none') 13\n",
      "('dead', 'dead') 62\n",
      "\n",
      "\n",
      "INSTANCE 38\n",
      "G0 grokked!\n",
      "('1d-0', '1d-1') 6\n",
      "('4d-1', 'none') 59\n",
      "('dead', 'dead') 63\n",
      "\n",
      "\n",
      "INSTANCE 39\n",
      "('6d-0', '3d-1') 44\n",
      "('none', '4d-0') 56\n",
      "('none', 'none') 7\n",
      "('dead', 'dead') 21\n",
      "\n",
      "\n",
      "INSTANCE 40\n",
      "('1d-0', '1d-1') 3\n",
      "('none', 'none') 91\n",
      "('dead', 'dead') 34\n",
      "\n",
      "\n",
      "INSTANCE 41\n",
      "('6d-0', '3d-1') 43\n",
      "('6d-0', 'none') 21\n",
      "('none', 'none') 56\n",
      "('dead', 'dead') 8\n",
      "\n",
      "\n",
      "INSTANCE 42\n",
      "('1d-0', '1d-1') 5\n",
      "('6d-0', '3d-0') 4\n",
      "('6d-0', 'none') 72\n",
      "('none', 'none') 45\n",
      "('dead', 'dead') 2\n",
      "\n",
      "\n",
      "INSTANCE 43\n",
      "('1d-0', '1d-1') 3\n",
      "('6d-0', 'none') 62\n",
      "('none', '5d-0') 51\n",
      "('none', 'none') 8\n",
      "('dead', 'dead') 4\n",
      "\n",
      "\n",
      "INSTANCE 44\n",
      "('1d-0', '1d-1') 6\n",
      "('6d-0', '3d-1') 52\n",
      "('6d-0', 'none') 9\n",
      "('none', 'none') 45\n",
      "('dead', 'dead') 16\n",
      "\n",
      "\n",
      "INSTANCE 45\n",
      "('1d-0', '1d-1') 3\n",
      "('6d-0', '3d-0') 7\n",
      "('6d-0', 'none') 56\n",
      "('none', 'none') 33\n",
      "('dead', 'dead') 29\n",
      "\n",
      "\n",
      "INSTANCE 46\n",
      "G0 grokked!\n",
      "('1d-0', '1d-1') 5\n",
      "('4d-1', 'none') 35\n",
      "('dead', 'dead') 88\n",
      "\n",
      "\n",
      "INSTANCE 47\n",
      "G0 grokked!\n",
      "('1d-0', '1d-1') 6\n",
      "('4d-1', 'none') 37\n",
      "('dead', 'dead') 85\n",
      "\n",
      "\n",
      "INSTANCE 48\n",
      "('1d-0', '1d-1') 4\n",
      "('4d-1', 'none') 28\n",
      "('none', 'none') 48\n",
      "('dead', 'dead') 48\n",
      "\n",
      "\n",
      "INSTANCE 49\n",
      "('1d-0', '1d-1') 6\n",
      "('6d-0', '3d-2') 55\n",
      "('6d-0', 'none') 19\n",
      "('none', 'none') 30\n",
      "('dead', 'dead') 18\n",
      "\n",
      "\n",
      "INSTANCE 50\n",
      "('1d-0', '1d-1') 7\n",
      "('4d-0', 'none') 36\n",
      "('6d-0', 'none') 11\n",
      "('none', 'none') 36\n",
      "('dead', 'dead') 38\n",
      "\n",
      "\n",
      "INSTANCE 51\n",
      "('1d-0', '1d-1') 3\n",
      "('none', '4d-1') 68\n",
      "('none', 'none') 10\n",
      "('dead', 'dead') 47\n",
      "\n",
      "\n",
      "INSTANCE 52\n",
      "('1d-0', '1d-1') 9\n",
      "('6d-0', 'none') 63\n",
      "('none', 'none') 31\n",
      "('dead', 'dead') 25\n",
      "\n",
      "\n",
      "INSTANCE 53\n",
      "('1d-0', '1d-1') 6\n",
      "('6d-0', 'none') 11\n",
      "('4d-1', '4d-0') 48\n",
      "('none', 'none') 21\n",
      "('dead', 'dead') 42\n",
      "\n",
      "\n",
      "INSTANCE 54\n",
      "('1d-0', '1d-1') 4\n",
      "('4d-0', 'none') 14\n",
      "('none', '4d-0') 26\n",
      "('none', 'none') 45\n",
      "('dead', 'dead') 39\n",
      "\n",
      "\n",
      "INSTANCE 55\n",
      "('1d-0', '1d-1') 5\n",
      "('6d-0', '3d-2') 61\n",
      "('6d-0', 'none') 12\n",
      "('none', 'none') 31\n",
      "('dead', 'dead') 19\n",
      "\n",
      "\n",
      "INSTANCE 56\n",
      "('1d-0', '1d-1') 5\n",
      "('6d-0', 'none') 31\n",
      "('none', 'none') 44\n",
      "('dead', 'dead') 48\n",
      "\n",
      "\n",
      "INSTANCE 57\n",
      "('1d-0', '1d-1') 2\n",
      "('6d-0', 'none') 26\n",
      "('none', 'none') 71\n",
      "('dead', 'dead') 29\n",
      "\n",
      "\n",
      "INSTANCE 58\n",
      "('1d-0', '1d-1') 4\n",
      "('none', 'none') 112\n",
      "('dead', 'dead') 12\n",
      "\n",
      "\n",
      "INSTANCE 59\n",
      "('1d-0', '1d-1') 8\n",
      "('4d-0', 'none') 47\n",
      "('6d-0', '3d-0') 13\n",
      "('6d-0', '3d-2') 55\n",
      "('dead', 'dead') 5\n",
      "\n",
      "\n",
      "INSTANCE 60\n",
      "('6d-0', 'none') 73\n",
      "('4d-1', 'none') 4\n",
      "('none', 'none') 51\n",
      "\n",
      "\n",
      "INSTANCE 61\n",
      "G0 grokked!\n",
      "('1d-0', '1d-1') 7\n",
      "('4d-1', 'none') 43\n",
      "('dead', 'dead') 78\n",
      "\n",
      "\n",
      "INSTANCE 62\n",
      "('1d-0', '1d-1') 6\n",
      "('4d-1', 'none') 21\n",
      "('none', 'none') 13\n",
      "('dead', 'dead') 88\n",
      "\n",
      "\n",
      "INSTANCE 63\n",
      "G0 grokked!\n",
      "('1d-0', '1d-1') 7\n",
      "('4d-1', 'none') 29\n",
      "('dead', 'dead') 92\n",
      "\n",
      "\n",
      "INSTANCE 64\n",
      "('6d-0', '3d-0') 21\n",
      "('6d-0', 'none') 56\n",
      "('none', '4d-0') 5\n",
      "('none', 'none') 46\n",
      "\n",
      "\n",
      "INSTANCE 65\n",
      "G1 grokked!\n",
      "('1d-0', '1d-1') 9\n",
      "('none', '4d-0') 30\n",
      "('none', 'none') 2\n",
      "('dead', 'dead') 87\n",
      "\n",
      "\n",
      "INSTANCE 66\n",
      "G0 grokked!\n",
      "('1d-0', '1d-1') 6\n",
      "('4d-1', 'none') 85\n",
      "('dead', 'dead') 37\n",
      "\n",
      "\n",
      "INSTANCE 67\n",
      "('6d-0', 'none') 58\n",
      "('none', 'none') 56\n",
      "('dead', 'dead') 14\n",
      "\n",
      "\n",
      "INSTANCE 68\n",
      "('1d-0', '1d-1') 6\n",
      "('6d-0', 'none') 28\n",
      "('none', '4d-0') 22\n",
      "('none', 'none') 56\n",
      "('dead', 'dead') 16\n",
      "\n",
      "\n",
      "INSTANCE 69\n",
      "G1 grokked!\n",
      "('1d-0', '1d-1') 8\n",
      "('none', '4d-0') 33\n",
      "('dead', 'dead') 87\n",
      "\n",
      "\n",
      "INSTANCE 70\n",
      "('1d-0', '1d-1') 5\n",
      "('6d-0', '3d-3') 52\n",
      "('6d-0', 'none') 14\n",
      "('none', '4d-1') 35\n",
      "('dead', 'dead') 22\n",
      "\n",
      "\n",
      "INSTANCE 71\n",
      "('1d-0', '1d-1') 3\n",
      "('6d-0', 'none') 24\n",
      "('none', '4d-0') 3\n",
      "('none', 'none') 90\n",
      "('dead', 'dead') 8\n",
      "\n",
      "\n",
      "INSTANCE 72\n",
      "('6d-0', '3d-0') 71\n",
      "('none', 'none') 55\n",
      "('dead', 'dead') 2\n",
      "\n",
      "\n",
      "INSTANCE 73\n",
      "('1d-0', '1d-1') 5\n",
      "('6d-0', '3d-2') 68\n",
      "('none', 'none') 41\n",
      "('dead', 'dead') 14\n",
      "\n",
      "\n",
      "INSTANCE 74\n",
      "('1d-0', '1d-1') 3\n",
      "('6d-0', '3d-1') 59\n",
      "('none', '4d-0') 12\n",
      "('none', 'none') 27\n",
      "('dead', 'dead') 27\n",
      "\n",
      "\n",
      "INSTANCE 75\n",
      "('1d-0', '1d-1') 3\n",
      "('6d-0', 'none') 16\n",
      "('none', 'none') 88\n",
      "('dead', 'dead') 21\n",
      "\n",
      "\n",
      "INSTANCE 76\n",
      "('1d-0', '1d-1') 7\n",
      "('6d-0', 'none') 63\n",
      "('none', 'none') 35\n",
      "('dead', 'dead') 23\n",
      "\n",
      "\n",
      "INSTANCE 77\n",
      "('1d-0', '1d-1') 5\n",
      "('6d-0', '3d-2') 6\n",
      "('6d-0', 'none') 75\n",
      "('none', 'none') 41\n",
      "('dead', 'dead') 1\n",
      "\n",
      "\n",
      "INSTANCE 78\n",
      "('1d-0', '1d-1') 5\n",
      "('6d-0', '3d-1') 51\n",
      "('4d-1', '4d-0') 37\n",
      "('dead', 'dead') 35\n",
      "\n",
      "\n",
      "INSTANCE 79\n",
      "('1d-0', '1d-1') 2\n",
      "('6d-0', '3d-1') 47\n",
      "('6d-0', 'none') 23\n",
      "('none', 'none') 38\n",
      "('dead', 'dead') 18\n",
      "\n",
      "\n",
      "INSTANCE 80\n",
      "('1d-0', '1d-1') 5\n",
      "('none', 'none') 57\n",
      "('dead', 'dead') 66\n",
      "\n",
      "\n",
      "INSTANCE 81\n",
      "('1d-0', '1d-1') 3\n",
      "('6d-0', 'none') 50\n",
      "('none', 'none') 58\n",
      "('dead', 'dead') 17\n",
      "\n",
      "\n",
      "INSTANCE 82\n",
      "('1d-0', '1d-1') 4\n",
      "('6d-0', 'none') 47\n",
      "('none', 'none') 76\n",
      "('dead', 'dead') 1\n",
      "\n",
      "\n",
      "INSTANCE 83\n",
      "G1 grokked!\n",
      "('1d-0', '1d-1') 5\n",
      "('6d-0', '3d-0') 78\n",
      "('none', '4d-0') 37\n",
      "('dead', 'dead') 8\n",
      "\n",
      "\n",
      "INSTANCE 84\n",
      "('1d-0', '1d-1') 2\n",
      "('6d-0', '3d-2') 18\n",
      "('6d-0', 'none') 9\n",
      "('none', 'none') 77\n",
      "('dead', 'dead') 22\n",
      "\n",
      "\n",
      "INSTANCE 85\n",
      "('1d-0', '1d-1') 4\n",
      "('6d-0', 'none') 28\n",
      "('none', 'none') 70\n",
      "('dead', 'dead') 26\n",
      "\n",
      "\n",
      "INSTANCE 86\n",
      "('6d-0', '3d-1') 35\n",
      "('6d-0', 'none') 25\n",
      "('none', 'none') 55\n",
      "('dead', 'dead') 13\n",
      "\n",
      "\n",
      "INSTANCE 87\n",
      "('1d-0', '1d-1') 2\n",
      "('6d-0', '3d-3') 46\n",
      "('6d-0', 'none') 8\n",
      "('none', 'none') 54\n",
      "('dead', 'dead') 18\n",
      "\n",
      "\n",
      "INSTANCE 88\n",
      "G0 grokked!\n",
      "('1d-0', '1d-1') 9\n",
      "('4d-1', 'none') 28\n",
      "('dead', 'dead') 91\n",
      "\n",
      "\n",
      "INSTANCE 89\n",
      "('1d-0', '1d-1') 3\n",
      "('6d-0', 'none') 64\n",
      "('none', 'none') 56\n",
      "('dead', 'dead') 5\n",
      "\n",
      "\n",
      "INSTANCE 90\n",
      "G0 grokked!\n",
      "('1d-0', '1d-1') 5\n",
      "('4d-1', 'none') 31\n",
      "('dead', 'dead') 92\n",
      "\n",
      "\n",
      "INSTANCE 91\n",
      "('1d-0', '1d-1') 6\n",
      "('6d-0', '3d-1') 55\n",
      "('6d-0', 'none') 4\n",
      "('none', 'none') 43\n",
      "('dead', 'dead') 20\n",
      "\n",
      "\n",
      "INSTANCE 92\n",
      "('1d-0', '1d-1') 3\n",
      "('6d-0', '3d-2') 67\n",
      "('none', 'none') 51\n",
      "('dead', 'dead') 7\n",
      "\n",
      "\n",
      "INSTANCE 93\n",
      "('1d-0', '1d-1') 5\n",
      "('6d-0', '3d-0') 76\n",
      "('none', 'none') 39\n",
      "('dead', 'dead') 8\n",
      "\n",
      "\n",
      "INSTANCE 94\n",
      "('1d-0', '1d-1') 4\n",
      "('6d-0', 'none') 35\n",
      "('none', '4d-0') 28\n",
      "('none', 'none') 37\n",
      "('dead', 'dead') 24\n",
      "\n",
      "\n",
      "INSTANCE 95\n",
      "('1d-0', '1d-1') 4\n",
      "('6d-0', '3d-3') 11\n",
      "('none', 'none') 79\n",
      "('dead', 'dead') 34\n",
      "\n",
      "\n",
      "INSTANCE 96\n",
      "('1d-0', '1d-1') 6\n",
      "('none', 'none') 46\n",
      "('dead', 'dead') 76\n",
      "\n",
      "\n",
      "INSTANCE 97\n",
      "G1 grokked!\n",
      "('1d-0', '1d-1') 6\n",
      "('none', '4d-0') 43\n",
      "('dead', 'dead') 79\n",
      "\n",
      "\n",
      "INSTANCE 98\n",
      "('1d-0', '1d-1') 5\n",
      "('none', 'none') 65\n",
      "('dead', 'dead') 58\n",
      "\n",
      "\n",
      "INSTANCE 99\n",
      "('1d-0', '1d-1') 5\n",
      "('4d-1', '4d-0') 11\n",
      "('4d-1', 'none') 45\n",
      "('none', '4d-0') 13\n",
      "('none', 'none') 2\n",
      "('dead', 'dead') 52\n",
      "\n",
      "\n"
     ]
    }
   ],
   "source": [
    "for instance in range(len(models[-1])):\n",
    "    # if loss_dict[f'G1_acc'][instance] < 0.999:\n",
    "    #     continue\n",
    "    print(f'INSTANCE {instance}')\n",
    "    model = models[-1][instance].to(device)\n",
    "    for i in range(len(data.groups)):\n",
    "        if loss_dict[f'G{i}_acc'][instance] > 0.999:\n",
    "            print(f'G{i} grokked!')\n",
    "\n",
    "    lneurons, rneurons, uneurons = model.get_neurons(squeeze=True)\n",
    "\n",
    "    all_lexpl, all_rexpl, all_uexpl = [], [], []\n",
    "    for i, irrep_bases in enumerate(all_irrep_bases):\n",
    "        lexpl, rexpl, uexpl = dict(), dict(), dict()\n",
    "\n",
    "        for name, basis in irrep_bases.items():\n",
    "            lexpl[name] = (basis.H @ lneurons).norm(dim=0)**2 / (lneurons.norm(dim=0)**2 + 1e-8)\n",
    "            rexpl[name] = (basis.H @ rneurons).norm(dim=0)**2 / (rneurons.norm(dim=0)**2 + 1e-8)\n",
    "            uexpl[name] = (basis.H @ uneurons).norm(dim=0)**2 / (uneurons.norm(dim=0)**2 + 1e-8)\n",
    "\n",
    "        all_lexpl.append(lexpl)\n",
    "        all_rexpl.append(rexpl)\n",
    "        all_uexpl.append(uexpl)\n",
    "\n",
    "    all_irrep_idx_dict = [{\n",
    "            name: [\n",
    "                i for i in range(lneurons.shape[-1]) \n",
    "                if lexpl[name][i].item() > thresh and lneurons[:,i].norm() > norm_thresh\n",
    "            ]\n",
    "            for name in irreps\n",
    "        }\n",
    "        for lexpl, irreps in zip(all_lexpl, all_irreps)\n",
    "    ]\n",
    "    for i, (irrep_idx_dict, irreps, lexpl) in enumerate(zip(all_irrep_idx_dict, all_irreps, all_lexpl)):\n",
    "        irrep_idx_dict['none'] = [\n",
    "            i for i in range(lneurons.shape[-1])\n",
    "            if all(lexpl[name][i].item() <= thresh for name in irreps) and lneurons[:,i].norm() > norm_thresh \n",
    "        ]\n",
    "        irrep_idx_dict['dead'] = [\n",
    "            i for i in range(lneurons.shape[-1])\n",
    "            if lneurons[:,i].norm() <= norm_thresh \n",
    "        ]\n",
    "\n",
    "    for names in product(*[list(irrep_idx_dict.keys()) for irrep_idx_dict in all_irrep_idx_dict]):\n",
    "        intersect = set.intersection(*[set(irrep_idx_dict[name]) for irrep_idx_dict, name in zip(all_irrep_idx_dict, names)])\n",
    "        if len(intersect) > 0:\n",
    "            print(names, len(intersect))\n",
    "\n",
    "    print()\n",
    "    print()"
   ]
  },
  {
   "cell_type": "code",
   "execution_count": 42,
   "id": "41cd4307",
   "metadata": {},
   "outputs": [
    {
     "data": {
      "text/plain": [
       "1"
      ]
     },
     "execution_count": 42,
     "metadata": {},
     "output_type": "execute_result"
    }
   ],
   "source": [
    "len(models)"
   ]
  },
  {
   "cell_type": "code",
   "execution_count": null,
   "id": "7baf47a4",
   "metadata": {},
   "outputs": [],
   "source": []
  },
  {
   "cell_type": "code",
   "execution_count": 65,
   "id": "3445aca7",
   "metadata": {},
   "outputs": [
    {
     "name": "stdout",
     "output_type": "stream",
     "text": [
      "6d-0\n"
     ]
    },
    {
     "data": {
      "image/png": "[encoded data removed]",
      "text/plain": [
       "<Figure size 640x480 with 1 Axes>"
      ]
     },
     "metadata": {},
     "output_type": "display_data"
    },
    {
     "name": "stdout",
     "output_type": "stream",
     "text": [
      "4d-1\n"
     ]
    },
    {
     "data": {
      "image/png": "[encoded data removed]",
      "text/plain": [
       "<Figure size 640x480 with 1 Axes>"
      ]
     },
     "metadata": {},
     "output_type": "display_data"
    },
    {
     "name": "stdout",
     "output_type": "stream",
     "text": [
      "none\n"
     ]
    },
    {
     "data": {
      "image/png": "[encoded data removed]",
      "text/plain": [
       "<Figure size 640x480 with 1 Axes>"
      ]
     },
     "metadata": {},
     "output_type": "display_data"
    }
   ],
   "source": [
    "for k, v in irrep_idx_dict.items():\n",
    "    if not v:\n",
    "        continue\n",
    "    print(k)\n",
    "    plt.hist((lneurons[:,irrep_idx_dict[k]] + 1e-8).norm(dim=0).log10().tolist())\n",
    "    plt.show()"
   ]
  },
  {
   "cell_type": "code",
   "execution_count": 21,
   "id": "b617a2bc-2715-427d-97a9-8e9b5686aaaa",
   "metadata": {},
   "outputs": [],
   "source": [
    "irrep_name = '4d-1'\n",
    "irrep_d = irreps[irrep_name].shape[-1]\n",
    "irrep = irreps[irrep_name]\n",
    "irrep_idxs = irrep_idx_dict[irrep_name]\n",
    "irrep_lneurons = lneurons[:, irrep_idxs]\n",
    "irrep_rneurons = rneurons[:, irrep_idxs]\n",
    "irrep_uneurons = uneurons[:, irrep_idxs]\n",
    "irrep_frobschur = np.sign(group.get_frobenius_schur(irrep)).item()"
   ]
  },
  {
   "cell_type": "code",
   "execution_count": 22,
   "id": "4ae58edd-7e10-4c4d-996d-354758bfed8a",
   "metadata": {},
   "outputs": [
    {
     "name": "stdout",
     "output_type": "stream",
     "text": [
      "A and B norm diff 0.002624165266752243\n"
     ]
    },
    {
     "data": {
      "text/plain": [
       "(torch.Size([59, 4, 4]), torch.Size([59, 4, 4]), torch.Size([59, 4, 4]))"
      ]
     },
     "execution_count": 22,
     "metadata": {},
     "output_type": "execute_result"
    }
   ],
   "source": [
    "flat_irrep = einops.rearrange(irrep, 'n d1 d2 -> n (d1 d2)')\n",
    "rcond = t.linalg.matrix_rank(flat_irrep)\n",
    "# Project neurons onto subspace spanned by flat_irrep\n",
    "A_flat = t.linalg.lstsq(flat_irrep, irrep_lneurons, driver='gelsd').solution\n",
    "B_flat = t.linalg.lstsq(flat_irrep, irrep_rneurons, driver='gelsd').solution\n",
    "C_flat = t.linalg.lstsq(flat_irrep, irrep_uneurons, driver='gelsd').solution\n",
    "# A_flat = (t.linalg.inv(flat_irrep.H @ flat_irrep) @ flat_irrep.H @ irrep_lneurons)\n",
    "# B_flat = (t.linalg.inv(flat_irrep.H @ flat_irrep) @ flat_irrep.H @ irrep_rneurons)\n",
    "# C_flat = (t.linalg.inv(flat_irrep.H @ flat_irrep) @ flat_irrep.H @ irrep_uneurons)\n",
    "A = einops.rearrange(A_flat, '(d1 d2) m -> m d1 d2', d1=irrep_d, d2=irrep_d).mH\n",
    "B = einops.rearrange(B_flat, '(d1 d2) m -> m d1 d2', d1=irrep_d, d2=irrep_d).mH\n",
    "C = einops.rearrange(C_flat, '(d1 d2) m -> m d1 d2', d1=irrep_d, d2=irrep_d).mH\n",
    "\n",
    "A_norm = t.linalg.matrix_norm(A)\n",
    "B_norm = t.linalg.matrix_norm(B)\n",
    "print('A and B norm diff', ((A_norm - B_norm).norm()**2 / B_norm.norm()**2).item())\n",
    "\n",
    "# Normalize A and B to have unit Frobenius norm\n",
    "A = A / A_norm.unsqueeze(1).unsqueeze(1)\n",
    "B = B / A_norm.unsqueeze(1).unsqueeze(1)\n",
    "C = C * ( (A_norm + B_norm) / 2).unsqueeze(1).unsqueeze(1)\n",
    "\n",
    "A.shape, B.shape, C.shape"
   ]
  },
  {
   "cell_type": "markdown",
   "id": "335055bf-39b9-4916-85a1-be957d7602f3",
   "metadata": {},
   "source": [
    "### $C_i\\approx B_iA_i$"
   ]
  },
  {
   "cell_type": "code",
   "execution_count": 23,
   "id": "cdc2e8fe-d9f0-4409-9c32-6e64b7212967",
   "metadata": {},
   "outputs": [
    {
     "data": {
      "image/png": "[encoded data removed]",
      "text/plain": [
       "<Figure size 640x480 with 1 Axes>"
      ]
     },
     "metadata": {},
     "output_type": "display_data"
    }
   ],
   "source": [
    "x = einops.rearrange(B @ A, 'm d1 d2 -> m (d1 d2)')\n",
    "y = einops.rearrange(C, 'm d1 d2 -> m (d1 d2)')\n",
    "coef = (x.conj() * y).sum(dim=-1) / (x.conj() * x).sum(dim=-1)\n",
    "yhat = coef.unsqueeze(1) * x\n",
    "r2 = (yhat - y).norm(dim=-1).pow(2) / y.norm(dim=-1).pow(2)\n",
    "plt.hist(r2.tolist(), bins=100)\n",
    "plt.title('1-R^2(C, BA)')\n",
    "plt.show()\n",
    "good = r2 < 0.3\n",
    "\n",
    "# Restrict to good neurons\n",
    "A, B, C, coef = A[good], B[good], C[good], coef[good]"
   ]
  },
  {
   "cell_type": "code",
   "execution_count": 24,
   "id": "37c20aa6-e889-4139-b4fb-c41e3c588860",
   "metadata": {},
   "outputs": [
    {
     "data": {
      "image/png": "[encoded data removed]",
      "text/plain": [
       "<Figure size 640x480 with 1 Axes>"
      ]
     },
     "metadata": {},
     "output_type": "display_data"
    }
   ],
   "source": [
    "plt.hist(coef.tolist(), bins=100)\n",
    "plt.show()"
   ]
  },
  {
   "cell_type": "markdown",
   "id": "03a5ce16-cce0-4d24-8355-e59da2f73ea9",
   "metadata": {},
   "source": [
    "### $A_i, B_i, C_i$ are low rank"
   ]
  },
  {
   "cell_type": "markdown",
   "id": "675c54bf",
   "metadata": {},
   "source": [
    "To be specific,\n",
    "$$\n",
    "\\text{rank}(A)=\\text{rank}(B)=\\begin{cases}1 & \\iota=1 \\\\ 2 & \\iota=0 \\\\ 4 & \\iota=-1,\\end{cases}\n",
    "$$\n",
    "where $\\iota$ is the Frobenius-Schur indicator. (+1 is real irrep, 0 is complex, and -1 is quaternionic.) "
   ]
  },
  {
   "cell_type": "markdown",
   "id": "feb3c117-a0ce-456c-810d-64ff01175faf",
   "metadata": {},
   "source": [
    "In the real case, we can write\n",
    "$$A_i\\approx a_ib_i^\\top$$\n",
    "$$B_i\\approx c_id_i^\\top$$\n",
    "$$C_i\\approx A_iB_i\\approx \\langle b_i, c_i\\rangle a_i d_i^\\top$$"
   ]
  },
  {
   "cell_type": "code",
   "execution_count": 25,
   "id": "56746b1c-9f5b-47cd-b7fa-11f9e84739d7",
   "metadata": {},
   "outputs": [],
   "source": [
    "rank = {\n",
    "    1: 1,\n",
    "    0: 2,\n",
    "    -1: 4\n",
    "}[irrep_frobschur]\n",
    "\n",
    "if irrep_frobschur == 1:\n",
    "    a, b, c, d, Ss = [], [], [], [], []\n",
    "    for i in range(A.shape[0]):\n",
    "        lU, lS, lV = t.linalg.svd(A[i])\n",
    "        rU, rS, rV = t.linalg.svd(B[i])\n",
    "        Ss.append(lS[0])\n",
    "        a.append(lU[:,0])\n",
    "        b.append(lV[0])\n",
    "        c.append(rU[:,0])\n",
    "        d.append(rV[0])\n",
    "        assert lS[0]**2 / lS.norm()**2 > 0.95, lS[0]**2 / lS.norm()**2\n",
    "        assert rS[0]**2 / rS.norm()**2 > 0.95, rS[0]**2 / rS.norm()**2\n",
    "    a, b, c, d = t.stack(a, dim=0), t.stack(b, dim=0), t.stack(c, dim=0), t.stack(d, dim=0)\n",
    "    a_sign = t.sgn(a[:,0])\n",
    "    a = t.diag(a_sign) @ a\n",
    "    b = t.diag(a_sign) @ b\n",
    "    d_sign = t.sgn(d[:,0])\n",
    "    c = t.diag(d_sign) @ c\n",
    "    d = t.diag(d_sign) @ d\n",
    "    Ss = t.stack(Ss, dim=0)\n",
    "else:\n",
    "    # Our guess is that left singular vectors of A are const across neurons\n",
    "    # and same for right singular vectors of B (up to sign, etc)\n",
    "    # So we use the first neuron to get the relevant singular vectors\n",
    "    # and share them across all neurons\n",
    "    lU0 = t.linalg.svd(A[0])[0]\n",
    "    # rV0 = t.linalg.svd(B[0])[2]\n",
    "    rV0 = lU0.T\n",
    "    lUs, lVs, rUs, rVs, Ss = [], [], [], [], []\n",
    "    for i in range(A.shape[0]):\n",
    "        lS = t.linalg.svd(A[i])[1]\n",
    "        rS = t.linalg.svd(B[i])[1]\n",
    "        assert (lS[0] - rS[0])**2 / lS[0]**2 < 1e-2\n",
    "        Ss.append(lS[0])\n",
    "        assert lS[:rank].norm()**2 / lS.norm()**2 > 1-1e-2\n",
    "        assert rS[:rank].norm()**2 / rS.norm()**2 > 1-1e-2\n",
    "        lS_inv, rS_inv = t.zeros_like(lS), t.zeros_like(rS)\n",
    "        lS_inv[:rank] = 1 / lS[:rank]\n",
    "        rS_inv[:rank] = 1 / rS[:rank]\n",
    "        lV = t.diag(lS_inv) @ lU0.T @ A[i]\n",
    "        rU = B[i] @ rV0.T @ t.diag(rS_inv)\n",
    "        # check that lV and rU are orthogonal,\n",
    "        # i.e. that lU0 and rV0 are valid left/right singular vectors\n",
    "        assert ((lV @ lV.T)[:rank,:rank] - t.eye(rank)).norm() < 1e-2\n",
    "        assert ((rU.T @ rU)[:rank,:rank] - t.eye(rank)).norm() < 1e-2\n",
    "        lUs.append(lU0)\n",
    "        rUs.append(rU)\n",
    "        lVs.append(lV)\n",
    "        rVs.append(rV0)\n",
    "\n",
    "    rUs = t.stack(rUs, dim=0)\n",
    "    rVs = t.stack(rVs, dim=0)\n",
    "    lUs = t.stack(lUs, dim=0)\n",
    "    lVs = t.stack(lVs, dim=0)\n",
    "    Ss = t.stack(Ss, dim=0)\n",
    "    a, b, c, d = lUs[:,:,0], lVs[:,0], rUs[:,:,0], rVs[:,0]"
   ]
  },
  {
   "cell_type": "markdown",
   "id": "67fc899f-9cce-4086-a556-ed4bf41b3714",
   "metadata": {},
   "source": [
    "### $a_i,d_i$ are approx. constant and equal"
   ]
  },
  {
   "cell_type": "code",
   "execution_count": 26,
   "id": "7343ec70-fa6b-40eb-95cc-5d9ebd5f16ad",
   "metadata": {},
   "outputs": [
    {
     "name": "stdout",
     "output_type": "stream",
     "text": [
      "tensor(2.1772e-07)\n",
      "tensor(0.9990)\n",
      "tensor(0.9975)\n",
      "tensor(2.8165e-07)\n"
     ]
    }
   ],
   "source": [
    "for v in [a, b, c, d]:\n",
    "    print((v - v.mean(dim=0)).norm()**2 / v.norm()**2)"
   ]
  },
  {
   "cell_type": "code",
   "execution_count": 27,
   "id": "adf7c32b",
   "metadata": {},
   "outputs": [
    {
     "data": {
      "text/plain": [
       "tensor(9.7815e-05)"
      ]
     },
     "execution_count": 27,
     "metadata": {},
     "output_type": "execute_result"
    }
   ],
   "source": [
    "(a - d).norm()**2 / a.norm()**2"
   ]
  },
  {
   "cell_type": "code",
   "execution_count": 28,
   "id": "517308bb",
   "metadata": {},
   "outputs": [],
   "source": [
    "a2 = t.concat([a, -a], dim=0)\n",
    "U, S, V = t.linalg.svd(a2)"
   ]
  },
  {
   "cell_type": "code",
   "execution_count": 29,
   "id": "33f351d8",
   "metadata": {},
   "outputs": [
    {
     "data": {
      "text/plain": [
       "<matplotlib.collections.PathCollection at 0x795fbfdce020>"
      ]
     },
     "execution_count": 29,
     "metadata": {},
     "output_type": "execute_result"
    },
    {
     "data": {
      "image/png": "[encoded data removed]",
      "text/plain": [
       "<Figure size 640x480 with 1 Axes>"
      ]
     },
     "metadata": {},
     "output_type": "display_data"
    }
   ],
   "source": [
    "plt.scatter(a2 @ V[[0]].T, a2 @ V[[1]].T)"
   ]
  },
  {
   "cell_type": "markdown",
   "id": "1fe30a8c",
   "metadata": {},
   "source": [
    "#### 3d stuff"
   ]
  },
  {
   "cell_type": "code",
   "execution_count": 105,
   "id": "2277b850",
   "metadata": {},
   "outputs": [],
   "source": [
    "full_a = einops.einsum(a, irrep, 'neuron d1, G d1 d2 -> neuron G d2').flatten(0, 1)\n",
    "full_d = einops.einsum(d, irrep, 'neuron d1, G d1 d2 -> neuron G d2').flatten(0, 1)"
   ]
  },
  {
   "cell_type": "code",
   "execution_count": 106,
   "id": "1acac9f6",
   "metadata": {},
   "outputs": [
    {
     "data": {
      "application/vnd.plotly.v1+json": {
       "config": {
        "plotlyServerURL": "https://plot.ly"
       },
       "data": [
        {
         "hovertemplate": "x=%{x}<br>y=%{y}<br>z=%{z}<extra></extra>",
         "legendgroup": "",
         "marker": {
          "color": "#636efa",
          "symbol": "circle"
         },
         "mode": "markers",
         "name": "",
         "scene": "scene",
         "showlegend": false,
         "type": "scatter3d",
         "x": [
          0.9766421318054199,
          0.9765921831130981,
          0.9766947031021118,
          0.9766491651535034,
          0.9765921831130981,
          0.9766491055488586,
          0.9767110347747803,
          0.9765923619270325,
          0.9767080545425415,
          0.9766882658004761,
          0.9766949415206909,
          0.9766880869865417,
          0.976708173751831,
          0.9766489267349243,
          0.9766495823860168,
          0.9765927791595459,
          0.9766938090324402,
          0.976707935333252,
          0.9766884446144104,
          0.9767075181007385,
          0.9766337275505066,
          0.9766948819160461,
          0.976650059223175,
          0.9766953587532043,
          0.9765925407409668,
          0.976633608341217,
          0.9766494035720825,
          0.9766881465911865,
          0.9767422080039978,
          0.9767418503761292,
          0.9766497015953064,
          0.9766888618469238,
          0.9766890406608582,
          0.9765917062759399,
          0.9767079949378967,
          0.9767533540725708,
          0.9766891598701477,
          0.9766947031021118,
          0.9766497611999512,
          0.9767398238182068,
          0.9767080545425415,
          0.976707398891449,
          0.9766950607299805,
          0.976741373538971,
          0.9767417311668396,
          0.9767410159111023,
          0.9766425490379333,
          0.976741373538971,
          0.9767076373100281,
          0.9765928387641907,
          0.9766490459442139,
          0.9766941666603088,
          0.976621150970459,
          0.9767075181007385,
          0.9767081141471863,
          0.9765920042991638,
          0.9766888618469238,
          0.9765928387641907,
          0.9767410755157471,
          0.9765923619270325,
          0.976711630821228,
          0.9766938090324402,
          0.9767075777053833,
          0.976641058921814,
          0.9766503572463989,
          0.9766947031021118,
          0.9766945242881775,
          0.976648211479187,
          0.976649820804596,
          0.9767411351203918,
          0.9766950011253357,
          0.9767417311668396,
          0.97674161195755
         ],
         "y": [
          0.08399902284145355,
          0.0840628519654274,
          0.08349021524190903,
          0.0840664878487587,
          0.084060437977314,
          0.0840689092874527,
          0.08390961587429047,
          0.08406004309654236,
          0.08391213417053223,
          0.08378097414970398,
          0.08348879218101501,
          0.08378288149833679,
          0.08391119539737701,
          0.08406753093004227,
          0.08407151699066162,
          0.08406142890453339,
          0.08348741382360458,
          0.08391023427248001,
          0.08378161489963531,
          0.08391198515892029,
          0.08368445932865143,
          0.08348926901817322,
          0.08406732231378555,
          0.0834890604019165,
          0.08406040072441101,
          0.08369456231594086,
          0.08406523615121841,
          0.083780936896801,
          0.08376538753509521,
          0.08376770466566086,
          0.0840650424361229,
          0.0837789922952652,
          0.08378209918737411,
          0.08406203985214233,
          0.08390998095273972,
          0.08378655463457108,
          0.08378206938505173,
          0.08348789066076279,
          0.08406727761030197,
          0.08376999944448471,
          0.08391135931015015,
          0.08391125500202179,
          0.08348322659730911,
          0.08376741409301758,
          0.08376576751470566,
          0.08376684784889221,
          0.08400091528892517,
          0.08376433700323105,
          0.08390970528125763,
          0.08406014740467072,
          0.0840664952993393,
          0.08348795771598816,
          0.08414509892463684,
          0.08391320705413818,
          0.08391081541776657,
          0.08406221121549606,
          0.08378279209136963,
          0.08405867218971252,
          0.08376837521791458,
          0.08406326919794083,
          0.08390443027019501,
          0.08348798751831055,
          0.08391140401363373,
          0.0841129943728447,
          0.08406843990087509,
          0.08348782360553741,
          0.08348914235830307,
          0.08406563848257065,
          0.08406636118888855,
          0.08377011120319366,
          0.08349056541919708,
          0.08376797288656235,
          0.08376717567443848
         ],
         "z": [
          -0.19777338206768036,
          -0.1979929357767105,
          -0.19772905111312866,
          -0.1977100521326065,
          -0.19799374043941498,
          -0.19770930707454681,
          -0.19747108221054077,
          -0.19799335300922394,
          -0.19748440384864807,
          -0.19763757288455963,
          -0.1977287083864212,
          -0.19763828814029694,
          -0.1974841207265854,
          -0.19771061837673187,
          -0.19770579040050507,
          -0.19799061119556427,
          -0.197734996676445,
          -0.1974860429763794,
          -0.19763711094856262,
          -0.19748727977275848,
          -0.19794823229312897,
          -0.19772851467132568,
          -0.19770491123199463,
          -0.1977265328168869,
          -0.19799242913722992,
          -0.19794438779354095,
          -0.19770917296409607,
          -0.19763819873332977,
          -0.19737759232521057,
          -0.1973787546157837,
          -0.19770808517932892,
          -0.1976361721754074,
          -0.19763365387916565,
          -0.19799542427062988,
          -0.19748568534851074,
          -0.1973138153553009,
          -0.19763362407684326,
          -0.19773006439208984,
          -0.1977066993713379,
          -0.1973876655101776,
          -0.1974845677614212,
          -0.19748817384243011,
          -0.19773049652576447,
          -0.19738084077835083,
          -0.1973801553249359,
          -0.1973833590745926,
          -0.19777050614356995,
          -0.1973823606967926,
          -0.19748784601688385,
          -0.19799068570137024,
          -0.1977105736732483,
          -0.19773271679878235,
          -0.19781501591205597,
          -0.19748657941818237,
          -0.1974848210811615,
          -0.1979939490556717,
          -0.19763417541980743,
          -0.19799110293388367,
          -0.19738231599330902,
          -0.19799146056175232,
          -0.197470024228096,
          -0.19773465394973755,
          -0.1974870264530182,
          -0.19773021340370178,
          -0.19770313799381256,
          -0.1977301687002182,
          -0.19773074984550476,
          -0.19771507382392883,
          -0.19770675897598267,
          -0.19738122820854187,
          -0.1977275311946869,
          -0.19737915694713593,
          -0.19737985730171204
         ]
        }
       ],
       "layout": {
        "legend": {
         "tracegroupgap": 0
        },
        "margin": {
         "t": 60
        },
        "scene": {
         "domain": {
          "x": [
           0,
           1
          ],
          "y": [
           0,
           1
          ]
         },
         "xaxis": {
          "title": {
           "text": "x"
          }
         },
         "yaxis": {
          "title": {
           "text": "y"
          }
         },
         "zaxis": {
          "title": {
           "text": "z"
          }
         }
        },
        "template": {
         "data": {
          "bar": [
           {
            "error_x": {
             "color": "#2a3f5f"
            },
            "error_y": {
             "color": "#2a3f5f"
            },
            "marker": {
             "line": {
              "color": "#E5ECF6",
              "width": 0.5
             },
             "pattern": {
              "fillmode": "overlay",
              "size": 10,
              "solidity": 0.2
             }
            },
            "type": "bar"
           }
          ],
          "barpolar": [
           {
            "marker": {
             "line": {
              "color": "#E5ECF6",
              "width": 0.5
             },
             "pattern": {
              "fillmode": "overlay",
              "size": 10,
              "solidity": 0.2
             }
            },
            "type": "barpolar"
           }
          ],
          "carpet": [
           {
            "aaxis": {
             "endlinecolor": "#2a3f5f",
             "gridcolor": "white",
             "linecolor": "white",
             "minorgridcolor": "white",
             "startlinecolor": "#2a3f5f"
            },
            "baxis": {
             "endlinecolor": "#2a3f5f",
             "gridcolor": "white",
             "linecolor": "white",
             "minorgridcolor": "white",
             "startlinecolor": "#2a3f5f"
            },
            "type": "carpet"
           }
          ],
          "choropleth": [
           {
            "colorbar": {
             "outlinewidth": 0,
             "ticks": ""
            },
            "type": "choropleth"
           }
          ],
          "contour": [
           {
            "colorbar": {
             "outlinewidth": 0,
             "ticks": ""
            },
            "colorscale": [
             [
              0,
              "#0d0887"
             ],
             [
              0.1111111111111111,
              "#46039f"
             ],
             [
              0.2222222222222222,
              "#7201a8"
             ],
             [
              0.3333333333333333,
              "#9c179e"
             ],
             [
              0.4444444444444444,
              "#bd3786"
             ],
             [
              0.5555555555555556,
              "#d8576b"
             ],
             [
              0.6666666666666666,
              "#ed7953"
             ],
             [
              0.7777777777777778,
              "#fb9f3a"
             ],
             [
              0.8888888888888888,
              "#fdca26"
             ],
             [
              1,
              "#f0f921"
             ]
            ],
            "type": "contour"
           }
          ],
          "contourcarpet": [
           {
            "colorbar": {
             "outlinewidth": 0,
             "ticks": ""
            },
            "type": "contourcarpet"
           }
          ],
          "heatmap": [
           {
            "colorbar": {
             "outlinewidth": 0,
             "ticks": ""
            },
            "colorscale": [
             [
              0,
              "#0d0887"
             ],
             [
              0.1111111111111111,
              "#46039f"
             ],
             [
              0.2222222222222222,
              "#7201a8"
             ],
             [
              0.3333333333333333,
              "#9c179e"
             ],
             [
              0.4444444444444444,
              "#bd3786"
             ],
             [
              0.5555555555555556,
              "#d8576b"
             ],
             [
              0.6666666666666666,
              "#ed7953"
             ],
             [
              0.7777777777777778,
              "#fb9f3a"
             ],
             [
              0.8888888888888888,
              "#fdca26"
             ],
             [
              1,
              "#f0f921"
             ]
            ],
            "type": "heatmap"
           }
          ],
          "heatmapgl": [
           {
            "colorbar": {
             "outlinewidth": 0,
             "ticks": ""
            },
            "colorscale": [
             [
              0,
              "#0d0887"
             ],
             [
              0.1111111111111111,
              "#46039f"
             ],
             [
              0.2222222222222222,
              "#7201a8"
             ],
             [
              0.3333333333333333,
              "#9c179e"
             ],
             [
              0.4444444444444444,
              "#bd3786"
             ],
             [
              0.5555555555555556,
              "#d8576b"
             ],
             [
              0.6666666666666666,
              "#ed7953"
             ],
             [
              0.7777777777777778,
              "#fb9f3a"
             ],
             [
              0.8888888888888888,
              "#fdca26"
             ],
             [
              1,
              "#f0f921"
             ]
            ],
            "type": "heatmapgl"
           }
          ],
          "histogram": [
           {
            "marker": {
             "pattern": {
              "fillmode": "overlay",
              "size": 10,
              "solidity": 0.2
             }
            },
            "type": "histogram"
           }
          ],
          "histogram2d": [
           {
            "colorbar": {
             "outlinewidth": 0,
             "ticks": ""
            },
            "colorscale": [
             [
              0,
              "#0d0887"
             ],
             [
              0.1111111111111111,
              "#46039f"
             ],
             [
              0.2222222222222222,
              "#7201a8"
             ],
             [
              0.3333333333333333,
              "#9c179e"
             ],
             [
              0.4444444444444444,
              "#bd3786"
             ],
             [
              0.5555555555555556,
              "#d8576b"
             ],
             [
              0.6666666666666666,
              "#ed7953"
             ],
             [
              0.7777777777777778,
              "#fb9f3a"
             ],
             [
              0.8888888888888888,
              "#fdca26"
             ],
             [
              1,
              "#f0f921"
             ]
            ],
            "type": "histogram2d"
           }
          ],
          "histogram2dcontour": [
           {
            "colorbar": {
             "outlinewidth": 0,
             "ticks": ""
            },
            "colorscale": [
             [
              0,
              "#0d0887"
             ],
             [
              0.1111111111111111,
              "#46039f"
             ],
             [
              0.2222222222222222,
              "#7201a8"
             ],
             [
              0.3333333333333333,
              "#9c179e"
             ],
             [
              0.4444444444444444,
              "#bd3786"
             ],
             [
              0.5555555555555556,
              "#d8576b"
             ],
             [
              0.6666666666666666,
              "#ed7953"
             ],
             [
              0.7777777777777778,
              "#fb9f3a"
             ],
             [
              0.8888888888888888,
              "#fdca26"
             ],
             [
              1,
              "#f0f921"
             ]
            ],
            "type": "histogram2dcontour"
           }
          ],
          "mesh3d": [
           {
            "colorbar": {
             "outlinewidth": 0,
             "ticks": ""
            },
            "type": "mesh3d"
           }
          ],
          "parcoords": [
           {
            "line": {
             "colorbar": {
              "outlinewidth": 0,
              "ticks": ""
             }
            },
            "type": "parcoords"
           }
          ],
          "pie": [
           {
            "automargin": true,
            "type": "pie"
           }
          ],
          "scatter": [
           {
            "fillpattern": {
             "fillmode": "overlay",
             "size": 10,
             "solidity": 0.2
            },
            "type": "scatter"
           }
          ],
          "scatter3d": [
           {
            "line": {
             "colorbar": {
              "outlinewidth": 0,
              "ticks": ""
             }
            },
            "marker": {
             "colorbar": {
              "outlinewidth": 0,
              "ticks": ""
             }
            },
            "type": "scatter3d"
           }
          ],
          "scattercarpet": [
           {
            "marker": {
             "colorbar": {
              "outlinewidth": 0,
              "ticks": ""
             }
            },
            "type": "scattercarpet"
           }
          ],
          "scattergeo": [
           {
            "marker": {
             "colorbar": {
              "outlinewidth": 0,
              "ticks": ""
             }
            },
            "type": "scattergeo"
           }
          ],
          "scattergl": [
           {
            "marker": {
             "colorbar": {
              "outlinewidth": 0,
              "ticks": ""
             }
            },
            "type": "scattergl"
           }
          ],
          "scattermapbox": [
           {
            "marker": {
             "colorbar": {
              "outlinewidth": 0,
              "ticks": ""
             }
            },
            "type": "scattermapbox"
           }
          ],
          "scatterpolar": [
           {
            "marker": {
             "colorbar": {
              "outlinewidth": 0,
              "ticks": ""
             }
            },
            "type": "scatterpolar"
           }
          ],
          "scatterpolargl": [
           {
            "marker": {
             "colorbar": {
              "outlinewidth": 0,
              "ticks": ""
             }
            },
            "type": "scatterpolargl"
           }
          ],
          "scatterternary": [
           {
            "marker": {
             "colorbar": {
              "outlinewidth": 0,
              "ticks": ""
             }
            },
            "type": "scatterternary"
           }
          ],
          "surface": [
           {
            "colorbar": {
             "outlinewidth": 0,
             "ticks": ""
            },
            "colorscale": [
             [
              0,
              "#0d0887"
             ],
             [
              0.1111111111111111,
              "#46039f"
             ],
             [
              0.2222222222222222,
              "#7201a8"
             ],
             [
              0.3333333333333333,
              "#9c179e"
             ],
             [
              0.4444444444444444,
              "#bd3786"
             ],
             [
              0.5555555555555556,
              "#d8576b"
             ],
             [
              0.6666666666666666,
              "#ed7953"
             ],
             [
              0.7777777777777778,
              "#fb9f3a"
             ],
             [
              0.8888888888888888,
              "#fdca26"
             ],
             [
              1,
              "#f0f921"
             ]
            ],
            "type": "surface"
           }
          ],
          "table": [
           {
            "cells": {
             "fill": {
              "color": "#EBF0F8"
             },
             "line": {
              "color": "white"
             }
            },
            "header": {
             "fill": {
              "color": "#C8D4E3"
             },
             "line": {
              "color": "white"
             }
            },
            "type": "table"
           }
          ]
         },
         "layout": {
          "annotationdefaults": {
           "arrowcolor": "#2a3f5f",
           "arrowhead": 0,
           "arrowwidth": 1
          },
          "autotypenumbers": "strict",
          "coloraxis": {
           "colorbar": {
            "outlinewidth": 0,
            "ticks": ""
           }
          },
          "colorscale": {
           "diverging": [
            [
             0,
             "#8e0152"
            ],
            [
             0.1,
             "#c51b7d"
            ],
            [
             0.2,
             "#de77ae"
            ],
            [
             0.3,
             "#f1b6da"
            ],
            [
             0.4,
             "#fde0ef"
            ],
            [
             0.5,
             "#f7f7f7"
            ],
            [
             0.6,
             "#e6f5d0"
            ],
            [
             0.7,
             "#b8e186"
            ],
            [
             0.8,
             "#7fbc41"
            ],
            [
             0.9,
             "#4d9221"
            ],
            [
             1,
             "#276419"
            ]
           ],
           "sequential": [
            [
             0,
             "#0d0887"
            ],
            [
             0.1111111111111111,
             "#46039f"
            ],
            [
             0.2222222222222222,
             "#7201a8"
            ],
            [
             0.3333333333333333,
             "#9c179e"
            ],
            [
             0.4444444444444444,
             "#bd3786"
            ],
            [
             0.5555555555555556,
             "#d8576b"
            ],
            [
             0.6666666666666666,
             "#ed7953"
            ],
            [
             0.7777777777777778,
             "#fb9f3a"
            ],
            [
             0.8888888888888888,
             "#fdca26"
            ],
            [
             1,
             "#f0f921"
            ]
           ],
           "sequentialminus": [
            [
             0,
             "#0d0887"
            ],
            [
             0.1111111111111111,
             "#46039f"
            ],
            [
             0.2222222222222222,
             "#7201a8"
            ],
            [
             0.3333333333333333,
             "#9c179e"
            ],
            [
             0.4444444444444444,
             "#bd3786"
            ],
            [
             0.5555555555555556,
             "#d8576b"
            ],
            [
             0.6666666666666666,
             "#ed7953"
            ],
            [
             0.7777777777777778,
             "#fb9f3a"
            ],
            [
             0.8888888888888888,
             "#fdca26"
            ],
            [
             1,
             "#f0f921"
            ]
           ]
          },
          "colorway": [
           "#636efa",
           "#EF553B",
           "#00cc96",
           "#ab63fa",
           "#FFA15A",
           "#19d3f3",
           "#FF6692",
           "#B6E880",
           "#FF97FF",
           "#FECB52"
          ],
          "font": {
           "color": "#2a3f5f"
          },
          "geo": {
           "bgcolor": "white",
           "lakecolor": "white",
           "landcolor": "#E5ECF6",
           "showlakes": true,
           "showland": true,
           "subunitcolor": "white"
          },
          "hoverlabel": {
           "align": "left"
          },
          "hovermode": "closest",
          "mapbox": {
           "style": "light"
          },
          "paper_bgcolor": "white",
          "plot_bgcolor": "#E5ECF6",
          "polar": {
           "angularaxis": {
            "gridcolor": "white",
            "linecolor": "white",
            "ticks": ""
           },
           "bgcolor": "#E5ECF6",
           "radialaxis": {
            "gridcolor": "white",
            "linecolor": "white",
            "ticks": ""
           }
          },
          "scene": {
           "xaxis": {
            "backgroundcolor": "#E5ECF6",
            "gridcolor": "white",
            "gridwidth": 2,
            "linecolor": "white",
            "showbackground": true,
            "ticks": "",
            "zerolinecolor": "white"
           },
           "yaxis": {
            "backgroundcolor": "#E5ECF6",
            "gridcolor": "white",
            "gridwidth": 2,
            "linecolor": "white",
            "showbackground": true,
            "ticks": "",
            "zerolinecolor": "white"
           },
           "zaxis": {
            "backgroundcolor": "#E5ECF6",
            "gridcolor": "white",
            "gridwidth": 2,
            "linecolor": "white",
            "showbackground": true,
            "ticks": "",
            "zerolinecolor": "white"
           }
          },
          "shapedefaults": {
           "line": {
            "color": "#2a3f5f"
           }
          },
          "ternary": {
           "aaxis": {
            "gridcolor": "white",
            "linecolor": "white",
            "ticks": ""
           },
           "baxis": {
            "gridcolor": "white",
            "linecolor": "white",
            "ticks": ""
           },
           "bgcolor": "#E5ECF6",
           "caxis": {
            "gridcolor": "white",
            "linecolor": "white",
            "ticks": ""
           }
          },
          "title": {
           "x": 0.05
          },
          "xaxis": {
           "automargin": true,
           "gridcolor": "white",
           "linecolor": "white",
           "ticks": "",
           "title": {
            "standoff": 15
           },
           "zerolinecolor": "white",
           "zerolinewidth": 2
          },
          "yaxis": {
           "automargin": true,
           "gridcolor": "white",
           "linecolor": "white",
           "ticks": "",
           "title": {
            "standoff": 15
           },
           "zerolinecolor": "white",
           "zerolinewidth": 2
          }
         }
        }
       }
      }
     },
     "metadata": {},
     "output_type": "display_data"
    }
   ],
   "source": [
    "import plotly.express as px\n",
    "fig = px.scatter_3d(x=d[:,0].tolist(), y=d[:,1].tolist(), z=d[:,2].tolist())\n",
    "fig.show()\n",
    "# fig.write_html('/home/wilson/a.html')\n",
    "\n",
    "# fig = plt.figure()\n",
    "# ax = fig.add_subplot(projection='3d')\n",
    "# ax.scatter(a[:,0].tolist(), a[:,1].tolist(), a[:,2].tolist(), c='b', alpha=1.)\n",
    "# ax.scatter(full_a[:,0].tolist(), full_a[:,1].tolist(), full_a[:,2].tolist(), c='b', alpha=0.1)\n",
    "# plt.show()\n",
    "# plt.scatter(d[:,0].tolist(), d[:,1].tolist())"
   ]
  },
  {
   "cell_type": "code",
   "execution_count": 155,
   "id": "f99f8a4b",
   "metadata": {},
   "outputs": [],
   "source": [
    "a2 = t.concat([a, -a], dim=0)\n",
    "U, S, V = t.linalg.svd(a2)"
   ]
  },
  {
   "cell_type": "code",
   "execution_count": 156,
   "id": "42317772",
   "metadata": {},
   "outputs": [
    {
     "data": {
      "text/plain": [
       "torch.Size([121, 4])"
      ]
     },
     "execution_count": 156,
     "metadata": {},
     "output_type": "execute_result"
    }
   ],
   "source": [
    "a.shape"
   ]
  },
  {
   "cell_type": "code",
   "execution_count": 93,
   "id": "84fd349d",
   "metadata": {},
   "outputs": [],
   "source": [
    "# num_as=1\n",
    "# ahat = t.concat(\n",
    "#     [einops.repeat(a[i], 'd -> m d', m=a.shape[0]//num_as) for i in range(num_as-1)]\n",
    "#     + [einops.repeat(a[num_as-1], 'd -> m d', m=a.shape[0]-(num_as-1) * (a.shape[0]//num_as))], \n",
    "#     dim=0\n",
    "# )\n",
    "# ahat = a[t.randperm(a.shape[0])]\n",
    "# ahat = einops.repeat(b[1] - b[0], 'd -> m d', m=a.shape[0])\n",
    "# ahat = ahat / ahat.norm(dim=-1).unsqueeze(-1)\n",
    "ahat = a\n",
    "Ahat = einops.einsum(ahat, b, 'm d1, m d2 -> m d1 d2')\n",
    "Bhat = einops.einsum(c, ahat, 'm d1, m d2 -> m d1 d2')\n",
    "ln = einops.einsum(irrep, Ahat.mT, 'G d1 d2, neuron d1 d2 -> G neuron') * A_norm\n",
    "rn = einops.einsum(irrep, Bhat.mT, 'G d1 d2, neuron d1 d2 -> G neuron') * B_norm\n",
    "Chat = einops.einsum(coef, Bhat @ Ahat, 'm, m d1 d2 -> m d1 d2')\n",
    "un = einops.einsum(irrep, Chat.mT, 'G d1 d2, neuron d1 d2 -> G neuron') / (A_norm + B_norm) * 2"
   ]
  },
  {
   "cell_type": "code",
   "execution_count": 99,
   "id": "af855964",
   "metadata": {},
   "outputs": [],
   "source": [
    "# losses = []\n",
    "# for num_as in range(2, a.shape[0]):\n",
    "#     ahat = t.concat(\n",
    "#         [einops.repeat(a[i], 'd -> m d', m=a.shape[0]//num_as) for i in range(num_as-1)]\n",
    "#         + [einops.repeat(a[num_as-1], 'd -> m d', m=a.shape[0]-(num_as-1) * (a.shape[0]//num_as))], \n",
    "#         dim=0\n",
    "#     )\n",
    "#     Ahat = einops.einsum(ahat, b, 'm d1, m d2 -> m d1 d2')\n",
    "#     Bhat = einops.einsum(c, ahat, 'm d1, m d2 -> m d1 d2')\n",
    "#     ln = einops.einsum(irrep, Ahat.mT, 'G d1 d2, neuron d1 d2 -> G neuron') * A_norm\n",
    "#     rn = einops.einsum(irrep, Bhat.mT, 'G d1 d2, neuron d1 d2 -> G neuron') * B_norm\n",
    "#     Chat = einops.einsum(coef, Bhat @ Ahat, 'm, m d1 d2 -> m d1 d2')\n",
    "#     un = einops.einsum(irrep, Chat.mT, 'G d1 d2, neuron d1 d2 -> G neuron') / (A_norm + B_norm) * 2\n",
    "#     losses.append(ablate_loss(t.concat([ln, other_lneurons], dim=-1), t.concat([rn, other_rneurons], dim=-1), t.concat([un, other_uneurons], dim=-1))['G0_loss'].item())"
   ]
  },
  {
   "cell_type": "code",
   "execution_count": 100,
   "id": "40adaeac",
   "metadata": {},
   "outputs": [
    {
     "data": {
      "text/plain": [
       "(tensor(1.4664), tensor(1.4686), tensor(0.0232))"
      ]
     },
     "execution_count": 100,
     "metadata": {},
     "output_type": "execute_result"
    }
   ],
   "source": [
    "(ln - irrep_lneurons).norm()**2 / irrep_lneurons.norm()**2, (rn - irrep_rneurons).norm()**2 / irrep_rneurons.norm()**2, (un - irrep_uneurons).norm()**2 / irrep_uneurons.norm()**2"
   ]
  },
  {
   "cell_type": "code",
   "execution_count": 94,
   "id": "d2b01f62",
   "metadata": {},
   "outputs": [
    {
     "name": "stdout",
     "output_type": "stream",
     "text": [
      "{'G0_loss': tensor([4.4469]), 'G0_acc': tensor([0.0087])} {'G0_loss': tensor([0.8187]), 'G0_acc': tensor([0.7269])}\n",
      "{'G0_loss': tensor([0.0327]), 'G0_acc': tensor([1.])}\n",
      "{'G0_loss': tensor([0.1025]), 'G0_acc': tensor([1.])}\n",
      "{'G0_loss': tensor([0.1737]), 'G0_acc': tensor([1.])}\n"
     ]
    }
   ],
   "source": [
    "other = [i for i in range(lneurons.shape[-1]) if i not in irrep_idxs]\n",
    "other_lneurons, other_rneurons, other_uneurons= lneurons[:, other], rneurons[:, other], uneurons[:, other]\n",
    "print(ablate_loss(other_lneurons, other_rneurons, other_uneurons), ablate_loss(irrep_lneurons, irrep_rneurons, irrep_uneurons))\n",
    "print(ablate_loss(t.concat([irrep_lneurons, other_lneurons], dim=-1), t.concat([irrep_rneurons, other_rneurons], dim=-1), t.concat([irrep_uneurons, other_uneurons], dim=-1)))\n",
    "print(ablate_loss(t.concat([ln, other_lneurons], dim=-1), t.concat([rn, other_rneurons], dim=-1), t.concat([un, other_uneurons], dim=-1)))\n",
    "print(ablate_loss(ln, rn, un))"
   ]
  },
  {
   "cell_type": "code",
   "execution_count": null,
   "id": "a4d1993d",
   "metadata": {},
   "outputs": [],
   "source": [
    "# {'G0_loss': tensor([4.4466]), 'G0_acc': tensor([0.0083])} {'G0_loss': tensor([0.9043]), 'G0_acc': tensor([0.5908])}"
   ]
  },
  {
   "cell_type": "code",
   "execution_count": 64,
   "id": "316ac7f4",
   "metadata": {},
   "outputs": [
    {
     "data": {
      "text/plain": [
       "torch.Size([120, 7])"
      ]
     },
     "execution_count": 64,
     "metadata": {},
     "output_type": "execute_result"
    }
   ],
   "source": [
    "other_lneurons.shape"
   ]
  },
  {
   "cell_type": "code",
   "execution_count": 65,
   "id": "f8ca2a6f-c31c-478f-9662-69295609de0b",
   "metadata": {},
   "outputs": [
    {
     "data": {
      "text/plain": [
       "tensor(1.9314e-05)"
      ]
     },
     "execution_count": 65,
     "metadata": {},
     "output_type": "execute_result"
    }
   ],
   "source": [
    "(a.mean(dim=0) - d.mean(dim=0)).norm()**2 / a.mean(dim=0).norm()**2"
   ]
  },
  {
   "cell_type": "code",
   "execution_count": 109,
   "id": "3a69106b",
   "metadata": {},
   "outputs": [
    {
     "data": {
      "application/vnd.plotly.v1+json": {
       "config": {
        "plotlyServerURL": "https://plot.ly"
       },
       "data": [
        {
         "hovertemplate": "x=%{x}<br>y=%{y}<br>z=%{z}<extra></extra>",
         "legendgroup": "",
         "marker": {
          "color": "#636efa",
          "opacity": 0.3,
          "symbol": "circle"
         },
         "mode": "markers",
         "name": "",
         "scene": "scene",
         "showlegend": false,
         "type": "scatter3d",
         "x": [
          -0.6237888932228088,
          -0.968550980091095,
          -0.4669293761253357,
          -0.47067204117774963,
          -0.6535552144050598,
          0.968582808971405,
          0.8760542273521423,
          0.23588447272777557,
          -0.23548321425914764,
          0.2785598039627075,
          0.4677960276603699,
          -0.5362061858177185,
          -0.46550142765045166,
          0.277066171169281,
          -0.651809811592102,
          0.4649641215801239,
          -0.5358715057373047,
          -0.9687347412109375,
          -0.23646827042102814,
          -0.534221887588501,
          -0.8762280941009521,
          -0.23445606231689453,
          -0.2358802855014801,
          -0.23599594831466675,
          0.27867236733436584,
          -0.8772375583648682,
          0.6531227827072144,
          0.46712908148765564,
          0.46690401434898376,
          -0.9687702655792236,
          0.2772228717803955,
          0.6537805199623108,
          -0.23473049700260162,
          0.9694823026657104,
          0.5359172821044922,
          -0.8767917156219482,
          0.2777363061904907,
          -0.27809256315231323,
          -0.4672910273075104,
          0.2769009470939636,
          0.2779220640659332,
          -0.652136504650116,
          0.6535910367965698,
          0.2335253357887268,
          -0.5360394716262817,
          -0.23416925966739655,
          0.8761471509933472,
          -0.4659024178981781,
          0.2356177568435669,
          0.535638689994812,
          0.4660661816596985,
          0.9686592221260071,
          0.6566275358200073,
          -0.6521588563919067,
          0.9688636064529419,
          -0.5353851914405823,
          -0.535969078540802,
          0.27803710103034973,
          -0.536250650882721,
          -0.23610819876194,
          0.9043413400650024,
          0.6519398093223572,
          -0.2766924798488617,
          0.06185135245323181,
          -0.5351089835166931,
          -0.6545173525810242,
          0.9690003991127014,
          -0.9687991738319397,
          -0.5358479619026184,
          0.9689632058143616,
          0.2768859267234802,
          0.27657681703567505,
          0.6517969369888306
         ],
         "y": [
          0.6986761093139648,
          0.23479025065898895,
          0.27667486667633057,
          0.2794237434864044,
          -0.6506757140159607,
          -0.2351018339395523,
          0.05996759980916977,
          -0.9681532979011536,
          0.9683899283409119,
          -0.46546944975852966,
          -0.278287798166275,
          -0.535460352897644,
          0.2782554030418396,
          -0.4667360186576843,
          -0.6528082489967346,
          -0.2768036425113678,
          -0.5370565056800842,
          0.23420819640159607,
          0.9680715799331665,
          -0.5364015102386475,
          -0.058757487684488297,
          0.9684790968894958,
          0.9683868288993835,
          0.9683449268341064,
          -0.4646173119544983,
          -0.05915147438645363,
          0.6512690186500549,
          -0.2797371745109558,
          -0.2772159278392792,
          0.2334781438112259,
          -0.46581482887268066,
          0.6510208249092102,
          0.9685637354850769,
          -0.23057124018669128,
          0.5366783142089844,
          -0.05489630252122879,
          -0.46618568897247314,
          0.4637792110443115,
          0.2771781086921692,
          -0.4660893976688385,
          -0.46539029479026794,
          -0.6523586511611938,
          0.6511526703834534,
          -0.9688947200775146,
          -0.5361843705177307,
          0.9686504006385803,
          0.05761701241135597,
          0.2770776152610779,
          -0.9683117270469666,
          0.5369986295700073,
          -0.27875247597694397,
          -0.23445503413677216,
          0.22075697779655457,
          -0.6525775790214539,
          -0.2334647923707962,
          -0.5373421311378479,
          -0.5378664135932922,
          -0.46474897861480713,
          -0.5362641215324402,
          0.9682775735855103,
          0.4017413258552551,
          0.6528722643852234,
          0.4664367437362671,
          0.8771385550498962,
          -0.53598952293396,
          -0.6509732604026794,
          -0.2325296550989151,
          0.23381058871746063,
          -0.5368320345878601,
          -0.23241104185581207,
          -0.4650036096572876,
          -0.4657449424266815,
          0.6523232460021973
         ],
         "z": [
          0.3503415584564209,
          0.08235632628202438,
          -0.8398975729942322,
          -0.8368932008743286,
          -0.3866353929042816,
          -0.08108353614807129,
          0.4784693717956543,
          0.08389057964086533,
          -0.0822710171341896,
          -0.8400849103927612,
          0.8388819098472595,
          0.6525068283081055,
          -0.8401681184768677,
          -0.8398760557174683,
          -0.38598641753196716,
          0.8409449458122253,
          0.6514692902565002,
          0.08185134083032608,
          -0.08318708091974258,
          0.6533608436584473,
          -0.47830110788345337,
          -0.08413466066122055,
          -0.08116456866264343,
          -0.08132727444171906,
          -0.8405191898345947,
          -0.47639837861061096,
          0.38636669516563416,
          0.8387715220451355,
          0.8397333025932312,
          0.083499975502491,
          -0.8403355479240417,
          0.3856719732284546,
          -0.0823764055967331,
          -0.08331311494112015,
          -0.6517431735992432,
          -0.4777265191078186,
          -0.8399603366851807,
          0.8411737680435181,
          -0.8395305275917053,
          -0.8402895927429199,
          -0.8403400182723999,
          -0.3861945569515228,
          0.385770708322525,
          0.0819091871380806,
          0.65204918384552,
          -0.08295266330242157,
          0.4785880446434021,
          -0.8403351306915283,
          0.08280452340841293,
          -0.6517082452774048,
          0.839690089225769,
          -0.08203797042369843,
          0.721184253692627,
          -0.38578659296035767,
          -0.08244705945253372,
          0.6516333818435669,
          0.6507204174995422,
          -0.8406567573547363,
          0.6518097519874573,
          -0.08180177211761475,
          -0.14411985874176025,
          0.3856584429740906,
          0.8401654362678528,
          0.4762378931045532,
          0.652972936630249,
          -0.3845007121562958,
          -0.08347596228122711,
          0.08222497254610062,
          0.6516736745834351,
          -0.08423428982496262,
          -0.8408958315849304,
          -0.8405872583389282,
          0.3868270814418793
         ]
        }
       ],
       "layout": {
        "legend": {
         "tracegroupgap": 0
        },
        "margin": {
         "t": 60
        },
        "scene": {
         "domain": {
          "x": [
           0,
           1
          ],
          "y": [
           0,
           1
          ]
         },
         "xaxis": {
          "title": {
           "text": "x"
          }
         },
         "yaxis": {
          "title": {
           "text": "y"
          }
         },
         "zaxis": {
          "title": {
           "text": "z"
          }
         }
        },
        "template": {
         "data": {
          "bar": [
           {
            "error_x": {
             "color": "#2a3f5f"
            },
            "error_y": {
             "color": "#2a3f5f"
            },
            "marker": {
             "line": {
              "color": "#E5ECF6",
              "width": 0.5
             },
             "pattern": {
              "fillmode": "overlay",
              "size": 10,
              "solidity": 0.2
             }
            },
            "type": "bar"
           }
          ],
          "barpolar": [
           {
            "marker": {
             "line": {
              "color": "#E5ECF6",
              "width": 0.5
             },
             "pattern": {
              "fillmode": "overlay",
              "size": 10,
              "solidity": 0.2
             }
            },
            "type": "barpolar"
           }
          ],
          "carpet": [
           {
            "aaxis": {
             "endlinecolor": "#2a3f5f",
             "gridcolor": "white",
             "linecolor": "white",
             "minorgridcolor": "white",
             "startlinecolor": "#2a3f5f"
            },
            "baxis": {
             "endlinecolor": "#2a3f5f",
             "gridcolor": "white",
             "linecolor": "white",
             "minorgridcolor": "white",
             "startlinecolor": "#2a3f5f"
            },
            "type": "carpet"
           }
          ],
          "choropleth": [
           {
            "colorbar": {
             "outlinewidth": 0,
             "ticks": ""
            },
            "type": "choropleth"
           }
          ],
          "contour": [
           {
            "colorbar": {
             "outlinewidth": 0,
             "ticks": ""
            },
            "colorscale": [
             [
              0,
              "#0d0887"
             ],
             [
              0.1111111111111111,
              "#46039f"
             ],
             [
              0.2222222222222222,
              "#7201a8"
             ],
             [
              0.3333333333333333,
              "#9c179e"
             ],
             [
              0.4444444444444444,
              "#bd3786"
             ],
             [
              0.5555555555555556,
              "#d8576b"
             ],
             [
              0.6666666666666666,
              "#ed7953"
             ],
             [
              0.7777777777777778,
              "#fb9f3a"
             ],
             [
              0.8888888888888888,
              "#fdca26"
             ],
             [
              1,
              "#f0f921"
             ]
            ],
            "type": "contour"
           }
          ],
          "contourcarpet": [
           {
            "colorbar": {
             "outlinewidth": 0,
             "ticks": ""
            },
            "type": "contourcarpet"
           }
          ],
          "heatmap": [
           {
            "colorbar": {
             "outlinewidth": 0,
             "ticks": ""
            },
            "colorscale": [
             [
              0,
              "#0d0887"
             ],
             [
              0.1111111111111111,
              "#46039f"
             ],
             [
              0.2222222222222222,
              "#7201a8"
             ],
             [
              0.3333333333333333,
              "#9c179e"
             ],
             [
              0.4444444444444444,
              "#bd3786"
             ],
             [
              0.5555555555555556,
              "#d8576b"
             ],
             [
              0.6666666666666666,
              "#ed7953"
             ],
             [
              0.7777777777777778,
              "#fb9f3a"
             ],
             [
              0.8888888888888888,
              "#fdca26"
             ],
             [
              1,
              "#f0f921"
             ]
            ],
            "type": "heatmap"
           }
          ],
          "heatmapgl": [
           {
            "colorbar": {
             "outlinewidth": 0,
             "ticks": ""
            },
            "colorscale": [
             [
              0,
              "#0d0887"
             ],
             [
              0.1111111111111111,
              "#46039f"
             ],
             [
              0.2222222222222222,
              "#7201a8"
             ],
             [
              0.3333333333333333,
              "#9c179e"
             ],
             [
              0.4444444444444444,
              "#bd3786"
             ],
             [
              0.5555555555555556,
              "#d8576b"
             ],
             [
              0.6666666666666666,
              "#ed7953"
             ],
             [
              0.7777777777777778,
              "#fb9f3a"
             ],
             [
              0.8888888888888888,
              "#fdca26"
             ],
             [
              1,
              "#f0f921"
             ]
            ],
            "type": "heatmapgl"
           }
          ],
          "histogram": [
           {
            "marker": {
             "pattern": {
              "fillmode": "overlay",
              "size": 10,
              "solidity": 0.2
             }
            },
            "type": "histogram"
           }
          ],
          "histogram2d": [
           {
            "colorbar": {
             "outlinewidth": 0,
             "ticks": ""
            },
            "colorscale": [
             [
              0,
              "#0d0887"
             ],
             [
              0.1111111111111111,
              "#46039f"
             ],
             [
              0.2222222222222222,
              "#7201a8"
             ],
             [
              0.3333333333333333,
              "#9c179e"
             ],
             [
              0.4444444444444444,
              "#bd3786"
             ],
             [
              0.5555555555555556,
              "#d8576b"
             ],
             [
              0.6666666666666666,
              "#ed7953"
             ],
             [
              0.7777777777777778,
              "#fb9f3a"
             ],
             [
              0.8888888888888888,
              "#fdca26"
             ],
             [
              1,
              "#f0f921"
             ]
            ],
            "type": "histogram2d"
           }
          ],
          "histogram2dcontour": [
           {
            "colorbar": {
             "outlinewidth": 0,
             "ticks": ""
            },
            "colorscale": [
             [
              0,
              "#0d0887"
             ],
             [
              0.1111111111111111,
              "#46039f"
             ],
             [
              0.2222222222222222,
              "#7201a8"
             ],
             [
              0.3333333333333333,
              "#9c179e"
             ],
             [
              0.4444444444444444,
              "#bd3786"
             ],
             [
              0.5555555555555556,
              "#d8576b"
             ],
             [
              0.6666666666666666,
              "#ed7953"
             ],
             [
              0.7777777777777778,
              "#fb9f3a"
             ],
             [
              0.8888888888888888,
              "#fdca26"
             ],
             [
              1,
              "#f0f921"
             ]
            ],
            "type": "histogram2dcontour"
           }
          ],
          "mesh3d": [
           {
            "colorbar": {
             "outlinewidth": 0,
             "ticks": ""
            },
            "type": "mesh3d"
           }
          ],
          "parcoords": [
           {
            "line": {
             "colorbar": {
              "outlinewidth": 0,
              "ticks": ""
             }
            },
            "type": "parcoords"
           }
          ],
          "pie": [
           {
            "automargin": true,
            "type": "pie"
           }
          ],
          "scatter": [
           {
            "fillpattern": {
             "fillmode": "overlay",
             "size": 10,
             "solidity": 0.2
            },
            "type": "scatter"
           }
          ],
          "scatter3d": [
           {
            "line": {
             "colorbar": {
              "outlinewidth": 0,
              "ticks": ""
             }
            },
            "marker": {
             "colorbar": {
              "outlinewidth": 0,
              "ticks": ""
             }
            },
            "type": "scatter3d"
           }
          ],
          "scattercarpet": [
           {
            "marker": {
             "colorbar": {
              "outlinewidth": 0,
              "ticks": ""
             }
            },
            "type": "scattercarpet"
           }
          ],
          "scattergeo": [
           {
            "marker": {
             "colorbar": {
              "outlinewidth": 0,
              "ticks": ""
             }
            },
            "type": "scattergeo"
           }
          ],
          "scattergl": [
           {
            "marker": {
             "colorbar": {
              "outlinewidth": 0,
              "ticks": ""
             }
            },
            "type": "scattergl"
           }
          ],
          "scattermapbox": [
           {
            "marker": {
             "colorbar": {
              "outlinewidth": 0,
              "ticks": ""
             }
            },
            "type": "scattermapbox"
           }
          ],
          "scatterpolar": [
           {
            "marker": {
             "colorbar": {
              "outlinewidth": 0,
              "ticks": ""
             }
            },
            "type": "scatterpolar"
           }
          ],
          "scatterpolargl": [
           {
            "marker": {
             "colorbar": {
              "outlinewidth": 0,
              "ticks": ""
             }
            },
            "type": "scatterpolargl"
           }
          ],
          "scatterternary": [
           {
            "marker": {
             "colorbar": {
              "outlinewidth": 0,
              "ticks": ""
             }
            },
            "type": "scatterternary"
           }
          ],
          "surface": [
           {
            "colorbar": {
             "outlinewidth": 0,
             "ticks": ""
            },
            "colorscale": [
             [
              0,
              "#0d0887"
             ],
             [
              0.1111111111111111,
              "#46039f"
             ],
             [
              0.2222222222222222,
              "#7201a8"
             ],
             [
              0.3333333333333333,
              "#9c179e"
             ],
             [
              0.4444444444444444,
              "#bd3786"
             ],
             [
              0.5555555555555556,
              "#d8576b"
             ],
             [
              0.6666666666666666,
              "#ed7953"
             ],
             [
              0.7777777777777778,
              "#fb9f3a"
             ],
             [
              0.8888888888888888,
              "#fdca26"
             ],
             [
              1,
              "#f0f921"
             ]
            ],
            "type": "surface"
           }
          ],
          "table": [
           {
            "cells": {
             "fill": {
              "color": "#EBF0F8"
             },
             "line": {
              "color": "white"
             }
            },
            "header": {
             "fill": {
              "color": "#C8D4E3"
             },
             "line": {
              "color": "white"
             }
            },
            "type": "table"
           }
          ]
         },
         "layout": {
          "annotationdefaults": {
           "arrowcolor": "#2a3f5f",
           "arrowhead": 0,
           "arrowwidth": 1
          },
          "autotypenumbers": "strict",
          "coloraxis": {
           "colorbar": {
            "outlinewidth": 0,
            "ticks": ""
           }
          },
          "colorscale": {
           "diverging": [
            [
             0,
             "#8e0152"
            ],
            [
             0.1,
             "#c51b7d"
            ],
            [
             0.2,
             "#de77ae"
            ],
            [
             0.3,
             "#f1b6da"
            ],
            [
             0.4,
             "#fde0ef"
            ],
            [
             0.5,
             "#f7f7f7"
            ],
            [
             0.6,
             "#e6f5d0"
            ],
            [
             0.7,
             "#b8e186"
            ],
            [
             0.8,
             "#7fbc41"
            ],
            [
             0.9,
             "#4d9221"
            ],
            [
             1,
             "#276419"
            ]
           ],
           "sequential": [
            [
             0,
             "#0d0887"
            ],
            [
             0.1111111111111111,
             "#46039f"
            ],
            [
             0.2222222222222222,
             "#7201a8"
            ],
            [
             0.3333333333333333,
             "#9c179e"
            ],
            [
             0.4444444444444444,
             "#bd3786"
            ],
            [
             0.5555555555555556,
             "#d8576b"
            ],
            [
             0.6666666666666666,
             "#ed7953"
            ],
            [
             0.7777777777777778,
             "#fb9f3a"
            ],
            [
             0.8888888888888888,
             "#fdca26"
            ],
            [
             1,
             "#f0f921"
            ]
           ],
           "sequentialminus": [
            [
             0,
             "#0d0887"
            ],
            [
             0.1111111111111111,
             "#46039f"
            ],
            [
             0.2222222222222222,
             "#7201a8"
            ],
            [
             0.3333333333333333,
             "#9c179e"
            ],
            [
             0.4444444444444444,
             "#bd3786"
            ],
            [
             0.5555555555555556,
             "#d8576b"
            ],
            [
             0.6666666666666666,
             "#ed7953"
            ],
            [
             0.7777777777777778,
             "#fb9f3a"
            ],
            [
             0.8888888888888888,
             "#fdca26"
            ],
            [
             1,
             "#f0f921"
            ]
           ]
          },
          "colorway": [
           "#636efa",
           "#EF553B",
           "#00cc96",
           "#ab63fa",
           "#FFA15A",
           "#19d3f3",
           "#FF6692",
           "#B6E880",
           "#FF97FF",
           "#FECB52"
          ],
          "font": {
           "color": "#2a3f5f"
          },
          "geo": {
           "bgcolor": "white",
           "lakecolor": "white",
           "landcolor": "#E5ECF6",
           "showlakes": true,
           "showland": true,
           "subunitcolor": "white"
          },
          "hoverlabel": {
           "align": "left"
          },
          "hovermode": "closest",
          "mapbox": {
           "style": "light"
          },
          "paper_bgcolor": "white",
          "plot_bgcolor": "#E5ECF6",
          "polar": {
           "angularaxis": {
            "gridcolor": "white",
            "linecolor": "white",
            "ticks": ""
           },
           "bgcolor": "#E5ECF6",
           "radialaxis": {
            "gridcolor": "white",
            "linecolor": "white",
            "ticks": ""
           }
          },
          "scene": {
           "xaxis": {
            "backgroundcolor": "#E5ECF6",
            "gridcolor": "white",
            "gridwidth": 2,
            "linecolor": "white",
            "showbackground": true,
            "ticks": "",
            "zerolinecolor": "white"
           },
           "yaxis": {
            "backgroundcolor": "#E5ECF6",
            "gridcolor": "white",
            "gridwidth": 2,
            "linecolor": "white",
            "showbackground": true,
            "ticks": "",
            "zerolinecolor": "white"
           },
           "zaxis": {
            "backgroundcolor": "#E5ECF6",
            "gridcolor": "white",
            "gridwidth": 2,
            "linecolor": "white",
            "showbackground": true,
            "ticks": "",
            "zerolinecolor": "white"
           }
          },
          "shapedefaults": {
           "line": {
            "color": "#2a3f5f"
           }
          },
          "ternary": {
           "aaxis": {
            "gridcolor": "white",
            "linecolor": "white",
            "ticks": ""
           },
           "baxis": {
            "gridcolor": "white",
            "linecolor": "white",
            "ticks": ""
           },
           "bgcolor": "#E5ECF6",
           "caxis": {
            "gridcolor": "white",
            "linecolor": "white",
            "ticks": ""
           }
          },
          "title": {
           "x": 0.05
          },
          "xaxis": {
           "automargin": true,
           "gridcolor": "white",
           "linecolor": "white",
           "ticks": "",
           "title": {
            "standoff": 15
           },
           "zerolinecolor": "white",
           "zerolinewidth": 2
          },
          "yaxis": {
           "automargin": true,
           "gridcolor": "white",
           "linecolor": "white",
           "ticks": "",
           "title": {
            "standoff": 15
           },
           "zerolinecolor": "white",
           "zerolinewidth": 2
          }
         }
        }
       }
      }
     },
     "metadata": {},
     "output_type": "display_data"
    }
   ],
   "source": [
    "import plotly.express as px\n",
    "import plotly.graph_objects as go\n",
    "# Create the figure\n",
    "fig = go.Figure()\n",
    "\n",
    "\n",
    "fig = px.scatter_3d(\n",
    "    x=b[:,0].tolist(), y=b[:,1].tolist(), z=b[:,2].tolist(), opacity=0.3, \n",
    "    # marker=dict(\n",
    "    #     size=4,\n",
    "    #     color='blue',\n",
    "    #     opacity=0.3\n",
    "    # ),\n",
    ")\n",
    "# fig = px.scatter_3d(\n",
    "#     x=full_b[:,0].tolist(), y=full_b[:,1].tolist(), z=full_b[:,2].tolist(), opacity=0.03, \n",
    "#     marker=dict(\n",
    "#         size=4,\n",
    "#         color='blue',\n",
    "#         opacity=0.3\n",
    "#     ),\n",
    "# )\n",
    "\n",
    "# Add the second scatter plot (full_b) in red\n",
    "# fig.add_trace(go.Scatter3d(\n",
    "#     x=full_b[:,0].tolist(),\n",
    "#     y=full_b[:,1].tolist(),\n",
    "#     z=full_b[:,2].tolist(),\n",
    "#     mode='markers',\n",
    "#     marker=dict(\n",
    "#         size=4,\n",
    "#         color='red',\n",
    "#         opacity=0.00,\n",
    "#     ),\n",
    "#     name='full_b'\n",
    "# ))\n",
    "\n",
    "\n",
    "# fig.add_trace(go.Scatter3d(\n",
    "#     x=a2[:,0].tolist(),\n",
    "#     y=a2[:,1].tolist(),\n",
    "#     z=a2[:,2].tolist(),\n",
    "#     mode='markers',\n",
    "#     marker=dict(\n",
    "#         size=6,\n",
    "#         color='red',\n",
    "#         opacity=.5,\n",
    "#     ),\n",
    "#     name='a'\n",
    "# ))\n",
    "\n",
    "\n",
    "# fig.add_trace(go.Scatter3d(\n",
    "#     # x=full_b[:,0].tolist(),\n",
    "#     # y=full_b[:,1].tolist(),\n",
    "#     # z=full_b[:,2].tolist(),\n",
    "#     x=bc_pair[:,0].tolist(),\n",
    "#     y=bc_pair[:,1].tolist(),\n",
    "#     z=bc_pair[:,3].tolist(),\n",
    "#     mode='markers',\n",
    "#     marker=dict(\n",
    "#         size=6,\n",
    "#         color='blue',\n",
    "#         opacity=.5,\n",
    "#     ),\n",
    "#     name='b'\n",
    "# ))\n",
    "\n",
    "\n",
    "\n",
    "fig.show()\n",
    "# fig.write_html('/home/wilson/ab.html')"
   ]
  },
  {
   "cell_type": "code",
   "execution_count": null,
   "id": "6e1ea252",
   "metadata": {},
   "outputs": [],
   "source": []
  },
  {
   "cell_type": "code",
   "execution_count": 67,
   "id": "e5b988e5",
   "metadata": {},
   "outputs": [
    {
     "data": {
      "text/plain": [
       "torch.Size([121, 4, 4])"
      ]
     },
     "execution_count": 67,
     "metadata": {},
     "output_type": "execute_result"
    }
   ],
   "source": [
    "A.shape"
   ]
  },
  {
   "cell_type": "code",
   "execution_count": 68,
   "id": "8738f05a",
   "metadata": {},
   "outputs": [
    {
     "data": {
      "text/plain": [
       "[(-0.7605388164520264, -0.7517490386962891),\n",
       " (-0.7564507126808167, -0.747555136680603),\n",
       " (-0.7527337074279785, -0.7391642332077026),\n",
       " (-0.7501431703567505, -0.7050055265426636),\n",
       " (-0.7494484782218933, -0.7049088478088379),\n",
       " (-0.7477362751960754, -0.6938212513923645),\n",
       " (-0.7458003759384155, -0.6931061744689941),\n",
       " (-0.7449398040771484, -0.6928953528404236),\n",
       " (-0.7448825240135193, -0.6925239562988281),\n",
       " (-0.7396479845046997, -0.6924957036972046),\n",
       " (-0.7380285859107971, -0.6911870241165161),\n",
       " (-0.7106956243515015, -0.6891772747039795),\n",
       " (-0.7045552730560303, -0.6849766969680786),\n",
       " (-0.7041484117507935, -0.6834962964057922),\n",
       " (-0.6977403163909912, -0.6787872910499573),\n",
       " (-0.6936909556388855, -0.6764672994613647),\n",
       " (-0.6933076977729797, -0.6731046438217163),\n",
       " (-0.6929901838302612, -0.6723490357398987),\n",
       " (-0.6929565072059631, -0.668040931224823),\n",
       " (-0.6925817728042603, -0.6598889827728271),\n",
       " (-0.6923143267631531, -0.6504643559455872),\n",
       " (-0.6914838552474976, -0.6501554250717163),\n",
       " (-0.6910746097564697, -0.6489174962043762),\n",
       " (-0.6831184029579163, -0.6481380462646484),\n",
       " (-0.6716967821121216, -0.6480188369750977),\n",
       " (-0.6692564487457275, -0.6322489380836487),\n",
       " (-0.6664983630180359, -0.6288014650344849),\n",
       " (-0.6211503744125366, -0.6284612417221069),\n",
       " (-0.4584316611289978, -0.4588101804256439),\n",
       " (-0.4559488296508789, -0.4397428035736084),\n",
       " (-0.45476096868515015, -0.43869346380233765),\n",
       " (-0.4539618492126465, -0.4365282952785492),\n",
       " (-0.4516914188861847, -0.43651098012924194),\n",
       " (-0.4424040913581848, -0.42247283458709717),\n",
       " (-0.44169479608535767, -0.35224318504333496),\n",
       " (-0.4406638443470001, -0.34633830189704895),\n",
       " (-0.4373222589492798, -0.3455742597579956),\n",
       " (-0.4268741011619568, -0.3447605073451996),\n",
       " (-0.41804754734039307, -0.3374190628528595),\n",
       " (-0.41706669330596924, -0.32644426822662354),\n",
       " (-0.4167006313800812, -0.3149489760398865),\n",
       " (-0.4070878028869629, -0.31361865997314453),\n",
       " (-0.39188867807388306, -0.3133907914161682),\n",
       " (-0.3446615934371948, -0.31105712056159973),\n",
       " (-0.32298970222473145, -0.31041431427001953),\n",
       " (-0.3224572539329529, -0.3086512088775635),\n",
       " (-0.32033881545066833, -0.30689162015914917),\n",
       " (-0.3058731257915497, -0.30561336874961853),\n",
       " (-0.30173835158348083, -0.3004722595214844),\n",
       " (-0.2208394557237625, -0.29260629415512085),\n",
       " (-0.21803170442581177, -0.28649359941482544),\n",
       " (-0.16967403888702393, -0.27577486634254456),\n",
       " (-0.14120477437973022, -0.2710898816585541),\n",
       " (-0.14119307696819305, -0.25680112838745117),\n",
       " (-0.13990628719329834, -0.2228630781173706),\n",
       " (-0.07353734970092773, -0.21653369069099426),\n",
       " (-0.06410850584506989, -0.21634572744369507),\n",
       " (-0.05317956209182739, -0.13916024565696716),\n",
       " (-0.02462957054376602, -0.13793614506721497),\n",
       " (-0.020150095224380493, -0.13584010303020477),\n",
       " (-0.0022593140602111816, -0.12902913987636566),\n",
       " (0.005334675312042236, -0.07439124584197998),\n",
       " (0.018876656889915466, -0.0456942617893219),\n",
       " (0.03444726765155792, -0.040863037109375),\n",
       " (0.059186577796936035, -0.021041452884674072),\n",
       " (0.06550028920173645, -0.018074102699756622),\n",
       " (0.07008946686983109, -0.014308273792266846),\n",
       " (0.07627309113740921, -0.0043909549713134766),\n",
       " (0.22996893525123596, -0.0028938651084899902),\n",
       " (0.24639901518821716, -0.001294642686843872),\n",
       " (0.25732794404029846, -0.0008042752742767334),\n",
       " (0.26012516021728516, 0.018738597631454468),\n",
       " (0.299089252948761, 0.021011173725128174),\n",
       " (0.29931414127349854, 0.021128833293914795),\n",
       " (0.3023514747619629, 0.028101354837417603),\n",
       " (0.3045464754104614, 0.04175537824630737),\n",
       " (0.3049173951148987, 0.05649517476558685),\n",
       " (0.3082054853439331, 0.05967250466346741),\n",
       " (0.3146076798439026, 0.06392502784729004),\n",
       " (0.32265979051589966, 0.11406469345092773),\n",
       " (0.32380861043930054, 0.1146640032529831),\n",
       " (0.3326585590839386, 0.1215621829032898),\n",
       " (0.3330746591091156, 0.14830872416496277),\n",
       " (0.3332251310348511, 0.26289963722229004),\n",
       " (0.3346264362335205, 0.2925422787666321),\n",
       " (0.34479594230651855, 0.3010880947113037),\n",
       " (0.3465501070022583, 0.30562901496887207),\n",
       " (0.3465532064437866, 0.30801716446876526),\n",
       " (0.3803846538066864, 0.31567031145095825),\n",
       " (0.3893861174583435, 0.3274328112602234),\n",
       " (0.3930756747722626, 0.345195472240448),\n",
       " (0.4050106406211853, 0.3462394177913666),\n",
       " (0.4069657623767853, 0.3731444478034973),\n",
       " (0.41032087802886963, 0.38971585035324097),\n",
       " (0.41046082973480225, 0.42524170875549316),\n",
       " (0.4299667477607727, 0.4443719685077667),\n",
       " (0.598361611366272, 0.44855648279190063),\n",
       " (0.6067137122154236, 0.46210652589797974),\n",
       " (0.6194890141487122, 0.5065102577209473),\n",
       " (0.666831374168396, 0.6457641124725342),\n",
       " (0.6915897727012634, 0.6753920912742615),\n",
       " (0.6916677951812744, 0.6852821111679077),\n",
       " (0.6917755603790283, 0.6861052513122559),\n",
       " (0.6927329897880554, 0.6874397993087769),\n",
       " (0.6930686235427856, 0.6879092454910278),\n",
       " (0.6941561102867126, 0.6905103921890259),\n",
       " (0.6970922946929932, 0.6909317374229431),\n",
       " (0.6981993913650513, 0.6909691691398621),\n",
       " (0.7000455856323242, 0.6912083029747009),\n",
       " (0.7002428770065308, 0.691461443901062),\n",
       " (0.7004263997077942, 0.6914979815483093),\n",
       " (0.7029052972793579, 0.6925814151763916),\n",
       " (0.7046946883201599, 0.696178674697876),\n",
       " (0.7397283315658569, 0.6962716579437256),\n",
       " (0.740928053855896, 0.7003254294395447),\n",
       " (0.7459142208099365, 0.7393674254417419),\n",
       " (0.7470102310180664, 0.7405316829681396),\n",
       " (0.7511167526245117, 0.7471336722373962),\n",
       " (0.7518215775489807, 0.7488696575164795),\n",
       " (0.7524945139884949, 0.7533378005027771),\n",
       " (0.7542814016342163, 0.7600260376930237)]"
      ]
     },
     "execution_count": 68,
     "metadata": {},
     "output_type": "execute_result"
    }
   ],
   "source": [
    "rho = irrep[10]\n",
    "\n",
    "trace_rho_A = einops.einsum(rho, A, 'd1 d2, m d2 d1 -> m')\n",
    "trace_A = einops.einsum(A, 'm d1 d1 -> m')\n",
    "list(zip(sorted(trace_rho_A.tolist()), sorted(trace_A.tolist())))"
   ]
  },
  {
   "cell_type": "code",
   "execution_count": null,
   "id": "38c80f01",
   "metadata": {},
   "outputs": [],
   "source": []
  },
  {
   "cell_type": "markdown",
   "id": "7070552f",
   "metadata": {},
   "source": [
    "### Plot $b_i$'s"
   ]
  },
  {
   "cell_type": "code",
   "execution_count": 30,
   "id": "438e309e",
   "metadata": {},
   "outputs": [],
   "source": [
    "full_b = einops.einsum(b, irrep, 'neuron d2, G d1 d2 -> neuron G d1').flatten(0, 1)\n",
    "full_c = einops.einsum(c, irrep, 'neuron d2, G d1 d2 -> neuron G d1').flatten(0, 1)"
   ]
  },
  {
   "cell_type": "code",
   "execution_count": 31,
   "id": "531f5cef-60b3-4cc5-83e4-0d8a260e4f1d",
   "metadata": {},
   "outputs": [
    {
     "name": "stdout",
     "output_type": "stream",
     "text": [
      "0 1\n"
     ]
    },
    {
     "data": {
      "image/png": "[encoded data removed]",
      "text/plain": [
       "<Figure size 640x480 with 1 Axes>"
      ]
     },
     "metadata": {},
     "output_type": "display_data"
    },
    {
     "name": "stdout",
     "output_type": "stream",
     "text": [
      "0 2\n"
     ]
    },
    {
     "data": {
      "image/png": "[encoded data removed]",
      "text/plain": [
       "<Figure size 640x480 with 1 Axes>"
      ]
     },
     "metadata": {},
     "output_type": "display_data"
    },
    {
     "name": "stdout",
     "output_type": "stream",
     "text": [
      "0 3\n"
     ]
    },
    {
     "data": {
      "image/png": "[encoded data removed]",
      "text/plain": [
       "<Figure size 640x480 with 1 Axes>"
      ]
     },
     "metadata": {},
     "output_type": "display_data"
    },
    {
     "name": "stdout",
     "output_type": "stream",
     "text": [
      "1 2\n"
     ]
    },
    {
     "data": {
      "image/png": "[encoded data removed]",
      "text/plain": [
       "<Figure size 640x480 with 1 Axes>"
      ]
     },
     "metadata": {},
     "output_type": "display_data"
    },
    {
     "name": "stdout",
     "output_type": "stream",
     "text": [
      "1 3\n"
     ]
    },
    {
     "data": {
      "image/png": "[encoded data removed]",
      "text/plain": [
       "<Figure size 640x480 with 1 Axes>"
      ]
     },
     "metadata": {},
     "output_type": "display_data"
    },
    {
     "name": "stdout",
     "output_type": "stream",
     "text": [
      "2 3\n"
     ]
    },
    {
     "data": {
      "image/png": "[encoded data removed]",
      "text/plain": [
       "<Figure size 640x480 with 1 Axes>"
      ]
     },
     "metadata": {},
     "output_type": "display_data"
    }
   ],
   "source": [
    "for i, j in list(product(range(irrep_d), repeat=2)):\n",
    "    if i >= j:\n",
    "        continue\n",
    "    print(i, j)\n",
    "    # plt.scatter(c[:,i].tolist(), c[:,j].tolist(), alpha=1., c='r')\n",
    "    # plt.scatter(full_b[:,i].tolist(), full_b[:,j].tolist(), alpha=0.01, c='b')\n",
    "    plt.scatter(b[:,i].tolist(), b[:,j].tolist(), alpha=.1, c='r')\n",
    "    # plt.scatter(full_c[:,i].tolist(), full_c[:,j].tolist(), alpha=0.01, c='r')\n",
    "    plt.show()"
   ]
  },
  {
   "cell_type": "code",
   "execution_count": 227,
   "id": "1b28e1f1",
   "metadata": {},
   "outputs": [],
   "source": [
    "X = sum(max(0, t.dot(a[i], b[i] + c[i]).item()) * (c[i].unsqueeze(1) @ b[i].unsqueeze(1).T) for i in range(a.shape[0]))"
   ]
  },
  {
   "cell_type": "code",
   "execution_count": 229,
   "id": "1811f4a9",
   "metadata": {},
   "outputs": [
    {
     "data": {
      "text/plain": [
       "tensor([[ 1.3264,  0.3489,  0.3925, -0.9783],\n",
       "        [-0.0428,  1.3047, -0.5520,  0.2231],\n",
       "        [-0.8919,  1.5203,  0.7868, -0.3573],\n",
       "        [-0.2105, -1.2000, -0.2221,  1.1326]])"
      ]
     },
     "execution_count": 229,
     "metadata": {},
     "output_type": "execute_result"
    }
   ],
   "source": [
    "X"
   ]
  },
  {
   "cell_type": "code",
   "execution_count": 230,
   "id": "7e7857c5",
   "metadata": {},
   "outputs": [
    {
     "data": {
      "image/png": "[encoded data removed]",
      "text/plain": [
       "<Figure size 640x480 with 1 Axes>"
      ]
     },
     "metadata": {},
     "output_type": "display_data"
    }
   ],
   "source": [
    "plt.imshow(X.numpy())\n",
    "plt.show()"
   ]
  },
  {
   "cell_type": "code",
   "execution_count": null,
   "id": "cd453922",
   "metadata": {},
   "outputs": [],
   "source": [
    "axis1 = t.randn((irrep_d ,1))\n",
    "axis2 = t.randn((irrep_d, 1))\n",
    "plt.scatter(full_c @ axis1, full_c @ axis2, alpha=0.5)\n",
    "plt.scatter(full_b @ axis1, full_b @ axis2, alpha=1.0)\n",
    "plt.show()"
   ]
  },
  {
   "cell_type": "markdown",
   "id": "4caf4a34-481d-48a8-9a66-5489f3bbe1cd",
   "metadata": {},
   "source": [
    "### b_i and c_i are clustered"
   ]
  },
  {
   "cell_type": "code",
   "execution_count": 32,
   "id": "c65a5e65",
   "metadata": {},
   "outputs": [],
   "source": [
    "full_a = einops.einsum(a[[0]], irrep, 'neuron d1, G d1 d2 -> neuron G d2').flatten(0, 1)"
   ]
  },
  {
   "cell_type": "code",
   "execution_count": 33,
   "id": "ae6c0d25",
   "metadata": {},
   "outputs": [
    {
     "data": {
      "text/plain": [
       "tensor(1)"
      ]
     },
     "execution_count": 33,
     "metadata": {},
     "output_type": "execute_result"
    }
   ],
   "source": [
    "((full_a @ a[[0]].T) > 0.95).sum()"
   ]
  },
  {
   "cell_type": "code",
   "execution_count": 34,
   "id": "23fee94d",
   "metadata": {},
   "outputs": [],
   "source": [
    "full_b = einops.einsum(b, irrep, 'neuron d1, G d1 d2 -> neuron G d2').flatten(0, 1)\n",
    "full_c = einops.einsum(c, irrep, 'neuron d1, G d1 d2 -> neuron G d2').flatten(0, 1)"
   ]
  },
  {
   "cell_type": "code",
   "execution_count": 35,
   "id": "bbe06438",
   "metadata": {},
   "outputs": [],
   "source": [
    "from sklearn.cluster import KMeans\n",
    "\n",
    "def cluster(vecs, num_seeds=30, thresh=1, max=1000):\n",
    "    n_clusters = 1\n",
    "    losses = []\n",
    "    while not losses or losses[-1] > thresh:\n",
    "        n_clusters += 1\n",
    "        kmeans = min(\n",
    "            (KMeans(n_clusters=n_clusters, random_state=seed).fit(vecs.numpy())\n",
    "            for seed in range(num_seeds)),\n",
    "            key=lambda k: k.inertia_\n",
    "        )\n",
    "        losses.append(kmeans.inertia_)\n",
    "        if len(losses) > 1 and losses[-2] / losses[-1] > 10:\n",
    "            break\n",
    "        if n_clusters >= max:\n",
    "            break\n",
    "        print(n_clusters, losses[-1])\n",
    "    return kmeans, n_clusters, losses"
   ]
  },
  {
   "cell_type": "code",
   "execution_count": 36,
   "id": "236ed28d",
   "metadata": {},
   "outputs": [
    {
     "name": "stdout",
     "output_type": "stream",
     "text": [
      "2 5380.78662109375\n",
      "3 4516.9306640625\n",
      "4 3657.4990234375\n",
      "5 2654.255859375\n",
      "6 2123.409423828125\n",
      "7 1592.5657958984375\n",
      "8 1061.721435546875\n",
      "9 530.8775024414062\n",
      "2 5380.78271484375\n",
      "3 4516.92724609375\n",
      "4 3657.495361328125\n",
      "5 2654.252685546875\n",
      "6 2123.406005859375\n",
      "7 1592.5592041015625\n",
      "8 1061.7139892578125\n",
      "9 530.8714599609375\n"
     ]
    },
    {
     "data": {
      "text/plain": [
       "(10, 10)"
      ]
     },
     "execution_count": 36,
     "metadata": {},
     "output_type": "execute_result"
    }
   ],
   "source": [
    "b_kmeans, b_clusters, b_losses = cluster(full_b,) #max=10)\n",
    "c_kmeans, c_clusters, c_losses = cluster(full_c,) #max=10)\n",
    "b_labels, c_labels = b_kmeans.predict(b.numpy()), c_kmeans.predict(c.numpy())\n",
    "b_mean, c_mean = b_kmeans.cluster_centers_, c_kmeans.cluster_centers_\n",
    "b_clusters, c_clusters"
   ]
  },
  {
   "cell_type": "code",
   "execution_count": 37,
   "id": "6114e6e9",
   "metadata": {},
   "outputs": [
    {
     "ename": "NameError",
     "evalue": "name 'b_parts' is not defined",
     "output_type": "error",
     "traceback": [
      "\u001b[0;31m---------------------------------------------------------------------------\u001b[0m",
      "\u001b[0;31mNameError\u001b[0m                                 Traceback (most recent call last)",
      "Cell \u001b[0;32mIn[37], line 1\u001b[0m\n\u001b[0;32m----> 1\u001b[0m t\u001b[38;5;241m.\u001b[39mtensor(b_mean[\u001b[43mb_parts\u001b[49m[\u001b[38;5;241m0\u001b[39m]]) \u001b[38;5;241m@\u001b[39m a[[\u001b[38;5;241m0\u001b[39m]]\u001b[38;5;241m.\u001b[39mT\n",
      "\u001b[0;31mNameError\u001b[0m: name 'b_parts' is not defined"
     ]
    }
   ],
   "source": [
    "t.tensor(b_mean[b_parts[0]]) @ a[[0]].T"
   ]
  },
  {
   "cell_type": "code",
   "execution_count": 85,
   "id": "39dff0df",
   "metadata": {},
   "outputs": [
    {
     "name": "stdout",
     "output_type": "stream",
     "text": [
      "0 0\n",
      "(array([ 0, 24, 57]),)\n",
      "b dot c 0.24999824166297913\n",
      "tensor([[ 0.4053,  0.5087, -0.7594, -0.0142],\n",
      "        [ 0.6521, -0.6041,  0.4516, -0.0773],\n",
      "        [ 0.5770,  0.4066, -0.7076, -0.0323]])\n",
      "\n",
      "0 3\n",
      "(array([50, 87]),)\n",
      "b dot c 0.2499980628490448\n",
      "tensor([[ 0.5512, -0.6386,  0.5324, -0.0698],\n",
      "        [ 0.6673,  0.3376, -0.6625, -0.0429]])\n",
      "\n",
      "0 7\n",
      "(array([37, 78]),)\n",
      "b dot c 0.24999822676181793\n",
      "tensor([[ 0.6634, -0.5994,  0.4411, -0.0782],\n",
      "        [ 0.4534,  0.4830, -0.7488, -0.0197]])\n",
      "\n",
      "0 8\n",
      "(array([61]),)\n",
      "b dot c 0.2499983012676239\n",
      "tensor([[ 0.3542,  0.5337, -0.7679, -0.0078]])\n",
      "\n",
      "0 9\n",
      "(array([34, 68]),)\n",
      "b dot c -0.9999929070472717\n",
      "tensor([[ 0.6558,  0.3469, -0.6692, -0.0419],\n",
      "        [ 0.8246, -0.4968,  0.2564, -0.0872]])\n",
      "\n",
      "1 1\n",
      "(array([31]),)\n",
      "b dot c 0.24999737739562988\n",
      "tensor([[ 0.9517, -0.0792, -0.2850, -0.0820]])\n",
      "\n",
      "1 2\n",
      "(array([28, 46, 60, 70]),)\n",
      "b dot c -0.9999895691871643\n",
      "tensor([[ 0.8358, -0.4862,  0.2395, -0.0878],\n",
      "        [ 0.6471,  0.3540, -0.6740, -0.0409],\n",
      "        [ 0.9539, -0.0896, -0.2741, -0.0829],\n",
      "        [ 0.4096,  0.5063, -0.7587, -0.0154]])\n",
      "\n",
      "1 4\n",
      "(array([53]),)\n",
      "b dot c 0.24999719858169556\n",
      "tensor([[ 0.9176, -0.3785,  0.0807, -0.0906]])\n",
      "\n",
      "1 5\n",
      "(array([ 62, 101]),)\n",
      "b dot c 0.24999749660491943\n",
      "tensor([[ 0.9474, -0.0630, -0.3031, -0.0816],\n",
      "        [ 0.9479, -0.0649, -0.3011, -0.0818]])\n",
      "\n",
      "1 6\n",
      "(array([48]),)\n",
      "b dot c 0.24999743700027466\n",
      "tensor([[ 0.3565,  0.5326, -0.7676, -0.0081]])\n",
      "\n",
      "2 1\n",
      "(array([ 32,  59, 104]),)\n",
      "b dot c 0.24999786913394928\n",
      "tensor([[ 0.6540,  0.3485, -0.6701, -0.0420],\n",
      "        [ 0.8390, -0.4832,  0.2343, -0.0875],\n",
      "        [ 0.4182,  0.5021, -0.7568, -0.0167]])\n",
      "\n",
      "2 2\n",
      "(array([ 36,  49, 103]),)\n",
      "b dot c 0.24999718368053436\n",
      "tensor([[ 0.8341, -0.4878,  0.2423, -0.0872],\n",
      "        [ 0.8342, -0.4878,  0.2422, -0.0872],\n",
      "        [ 0.6385,  0.3606, -0.6788, -0.0399]])\n",
      "\n",
      "2 4\n",
      "(array([ 19,  81,  82, 110]),)\n",
      "b dot c -0.9999892711639404\n",
      "tensor([[ 0.6991, -0.5824,  0.4069, -0.0802],\n",
      "        [ 0.4257,  0.4984, -0.7551, -0.0163],\n",
      "        [ 0.8314, -0.4904,  0.2461, -0.0877],\n",
      "        [ 0.9532, -0.0858, -0.2780, -0.0824]])\n",
      "\n",
      "2 5\n",
      "(array([25, 94]),)\n",
      "b dot c 0.24999722838401794\n",
      "tensor([[ 0.6489,  0.3527, -0.6729, -0.0411],\n",
      "        [ 0.8364, -0.4856,  0.2386, -0.0875]])\n",
      "\n",
      "2 6\n",
      "(array([ 7, 17, 22, 63, 79]),)\n",
      "b dot c 0.2499970644712448\n",
      "tensor([[ 0.3020,  0.5556, -0.7747, -0.0050],\n",
      "        [ 0.8597, -0.4613,  0.2009, -0.0882],\n",
      "        [ 0.8585, -0.4626,  0.2028, -0.0881],\n",
      "        [ 0.8585, -0.4626,  0.2029, -0.0881],\n",
      "        [ 0.8573, -0.4640,  0.2050, -0.0881]])\n",
      "\n",
      "3 1\n",
      "(array([39]),)\n",
      "b dot c -0.9999898672103882\n",
      "tensor([[ 0.7290,  0.2819, -0.6217, -0.0506]])\n",
      "\n",
      "3 2\n",
      "(array([  2, 111]),)\n",
      "b dot c 0.24999739229679108\n",
      "tensor([[ 0.7027, -0.5799,  0.4041, -0.0813],\n",
      "        [ 0.9489, -0.0674, -0.2972, -0.0824]])\n",
      "\n",
      "3 4\n",
      "(array([15, 18, 91]),)\n",
      "b dot c 0.2499978393316269\n",
      "tensor([[ 0.8369, -0.4848,  0.2385, -0.0883],\n",
      "        [ 0.3977,  0.5123, -0.7610, -0.0141],\n",
      "        [ 0.6457,  0.3553, -0.6747, -0.0407]])\n",
      "\n",
      "3 5\n",
      "(array([52, 54]),)\n",
      "b dot c 0.24999724328517914\n",
      "tensor([[ 0.6756, -0.5934,  0.4303, -0.0791],\n",
      "        [ 0.5680,  0.4126, -0.7114, -0.0321]])\n",
      "\n",
      "3 6\n",
      "(array([ 12,  20,  96, 105]),)\n",
      "b dot c 0.24999742209911346\n",
      "tensor([[ 0.6995, -0.5819,  0.4070, -0.0807],\n",
      "        [ 0.4034,  0.5095, -0.7599, -0.0152],\n",
      "        [ 0.6147,  0.3793, -0.6905, -0.0379],\n",
      "        [ 0.6211,  0.3745, -0.6874, -0.0386]])\n",
      "\n",
      "4 1\n",
      "(array([ 5, 35, 51, 64]),)\n",
      "b dot c 0.24999713897705078\n",
      "tensor([[ 0.4031,  0.5098, -0.7599, -0.0140],\n",
      "        [ 0.6324,  0.3659, -0.6817, -0.0385],\n",
      "        [ 0.9595, -0.1194, -0.2409, -0.0842],\n",
      "        [ 0.9600, -0.1229, -0.2370, -0.0844]])\n",
      "\n",
      "4 2\n",
      "(array([ 14, 107]),)\n",
      "b dot c 0.24999740719795227\n",
      "tensor([[ 0.8011, -0.5169,  0.2892, -0.0860],\n",
      "        [ 0.4091,  0.5072, -0.7584, -0.0150]])\n",
      "\n",
      "4 4\n",
      "(array([43]),)\n",
      "b dot c 0.24999724328517914\n",
      "tensor([[ 0.7415,  0.2697, -0.6122, -0.0514]])\n",
      "\n",
      "4 5\n",
      "(array([38, 77, 86]),)\n",
      "b dot c -0.9999895691871643\n",
      "tensor([[ 0.4486,  0.4861, -0.7497, -0.0191],\n",
      "        [ 0.8378, -0.4844,  0.2362, -0.0877],\n",
      "        [ 0.4557,  0.4822, -0.7480, -0.0198]])\n",
      "\n",
      "4 6\n",
      "(array([71, 88]),)\n",
      "b dot c 0.2499978244304657\n",
      "tensor([[ 0.9552, -0.0949, -0.2679, -0.0827],\n",
      "        [ 0.4505,  0.4852, -0.7492, -0.0191]])\n",
      "\n",
      "5 0\n",
      "(array([ 98, 100]),)\n",
      "b dot c 0.24999871850013733\n",
      "tensor([[ 0.8395, -0.4827,  0.2336, -0.0876],\n",
      "        [ 0.4371,  0.4922, -0.7526, -0.0187]])\n",
      "\n",
      "5 3\n",
      "(array([10]),)\n",
      "b dot c -0.9999927878379822\n",
      "tensor([[ 0.9558, -0.0980, -0.2646, -0.0830]])\n",
      "\n",
      "5 7\n",
      "(array([ 4,  8, 27, 30, 76]),)\n",
      "b dot c 0.24999810755252838\n",
      "tensor([[ 0.4415,  0.4897, -0.7516, -0.0188],\n",
      "        [ 0.6900, -0.5870,  0.4161, -0.0790],\n",
      "        [ 0.9508, -0.0755, -0.2892, -0.0819],\n",
      "        [ 0.6950, -0.5845,  0.4112, -0.0793],\n",
      "        [ 0.8340, -0.4879,  0.2423, -0.0873]])\n",
      "\n",
      "5 8\n",
      "(array([83]),)\n",
      "b dot c 0.24999788403511047\n",
      "tensor([[ 0.7708,  0.2386, -0.5881, -0.0555]])\n",
      "\n",
      "5 9\n",
      "(array([23, 80]),)\n",
      "b dot c 0.249998077750206\n",
      "tensor([[ 0.8274, -0.4941,  0.2524, -0.0869],\n",
      "        [ 0.6430,  0.3570, -0.6764, -0.0404]])\n",
      "\n",
      "6 1\n",
      "(array([16]),)\n",
      "b dot c 0.2499975860118866\n",
      "tensor([[ 0.9452, -0.0542, -0.3118, -0.0803]])\n",
      "\n",
      "6 2\n",
      "(array([65, 85, 92]),)\n",
      "b dot c 0.24999743700027466\n",
      "tensor([[ 0.9615, -0.1336, -0.2248, -0.0840],\n",
      "        [ 0.3006,  0.5571, -0.7741, -0.0037],\n",
      "        [ 0.8605, -0.4605,  0.1995, -0.0880]])\n",
      "\n",
      "6 4\n",
      "(array([ 6, 21, 42]),)\n",
      "b dot c 0.2499968409538269\n",
      "tensor([[ 0.4249,  0.4985, -0.7554, -0.0171],\n",
      "        [ 0.8330, -0.4888,  0.2441, -0.0870],\n",
      "        [ 0.9487, -0.0672, -0.2980, -0.0812]])\n",
      "\n",
      "6 5\n",
      "(array([13, 44]),)\n",
      "b dot c 0.2499978095293045\n",
      "tensor([[ 0.6649,  0.3400, -0.6637, -0.0418],\n",
      "        [ 0.8402, -0.4817,  0.2335, -0.0870]])\n",
      "\n",
      "6 6\n",
      "(array([73, 90]),)\n",
      "b dot c -0.9999896883964539\n",
      "tensor([[ 0.9569, -0.1029, -0.2584, -0.0835],\n",
      "        [ 0.4392,  0.4909, -0.7522, -0.0186]])\n",
      "\n",
      "7 0\n",
      "(array([26]),)\n",
      "b dot c 0.2499983310699463\n",
      "tensor([[ 0.6575, -0.6019,  0.4467, -0.0770]])\n",
      "\n",
      "7 3\n",
      "(array([ 9, 40]),)\n",
      "b dot c 0.2499978244304657\n",
      "tensor([[ 0.6683,  0.3367, -0.6619, -0.0432],\n",
      "        [ 0.8239, -0.4973,  0.2576, -0.0866]])\n",
      "\n",
      "7 7\n",
      "(array([47, 95]),)\n",
      "b dot c 0.24999867379665375\n",
      "tensor([[ 0.8400, -0.4819,  0.2337, -0.0870],\n",
      "        [ 0.4524,  0.4840, -0.7488, -0.0190]])\n",
      "\n",
      "7 8\n",
      "(array([74, 89, 99]),)\n",
      "b dot c -0.9999931454658508\n",
      "tensor([[ 0.4430,  0.4889, -0.7513, -0.0190],\n",
      "        [ 0.4404,  0.4903, -0.7519, -0.0187],\n",
      "        [ 0.7190, -0.5713,  0.3874, -0.0808]])\n",
      "\n",
      "7 9\n",
      "(array([1]),)\n",
      "b dot c 0.2499983310699463\n",
      "tensor([[ 0.7762,  0.2338, -0.5830, -0.0549]])\n",
      "\n",
      "8 0\n",
      "(array([ 84,  97, 106, 109]),)\n",
      "b dot c 0.24999801814556122\n",
      "tensor([[ 0.5971,  0.3923, -0.6988, -0.0346],\n",
      "        [ 0.5946,  0.3942, -0.6999, -0.0343],\n",
      "        [ 0.7964, -0.5205,  0.2956, -0.0859],\n",
      "        [ 0.5952,  0.3937, -0.6997, -0.0344]])\n",
      "\n",
      "8 3\n",
      "(array([58, 69]),)\n",
      "b dot c 0.24999816715717316\n",
      "tensor([[ 0.8409, -0.4812,  0.2314, -0.0879],\n",
      "        [ 0.3087,  0.5534, -0.7736, -0.0048]])\n",
      "\n",
      "8 7\n",
      "(array([ 3, 55, 56]),)\n",
      "b dot c -0.999993085861206\n",
      "tensor([[ 0.7033, -0.5804,  0.4026, -0.0802],\n",
      "        [ 0.9489, -0.0681, -0.2973, -0.0814],\n",
      "        [ 0.4477,  0.4866, -0.7499, -0.0190]])\n",
      "\n",
      "8 8\n",
      "(array([67, 75]),)\n",
      "b dot c 0.24999868869781494\n",
      "tensor([[ 0.7195, -0.5716,  0.3860, -0.0811],\n",
      "        [ 0.4491,  0.4860, -0.7495, -0.0190]])\n",
      "\n",
      "8 9\n",
      "(array([93]),)\n",
      "b dot c 0.2499983012676239\n",
      "tensor([[ 0.9536, -0.0873, -0.2761, -0.0826]])\n",
      "\n",
      "9 0\n",
      "(array([11, 33]),)\n",
      "b dot c -0.9999933838844299\n",
      "tensor([[ 0.8424, -0.4793,  0.2298, -0.0883],\n",
      "        [ 0.2854,  0.5625, -0.7759, -0.0030]])\n",
      "\n",
      "9 3\n",
      "(array([45, 66]),)\n",
      "b dot c 0.2499987930059433\n",
      "tensor([[ 0.8341, -0.4875,  0.2428, -0.0881],\n",
      "        [ 0.6434,  0.3572, -0.6759, -0.0405]])\n",
      "\n",
      "9 7\n",
      "(array([72]),)\n",
      "b dot c 0.24999800324440002\n",
      "tensor([[ 0.9624, -0.1425, -0.2145, -0.0861]])\n",
      "\n",
      "9 8\n",
      "(array([108]),)\n",
      "b dot c 0.24999842047691345\n",
      "tensor([[ 0.9566, -0.1026, -0.2593, -0.0847]])\n",
      "\n",
      "9 9\n",
      "(array([ 29,  41, 102]),)\n",
      "b dot c 0.24999822676181793\n",
      "tensor([[ 0.6460, -0.6061,  0.4575, -0.0776],\n",
      "        [ 0.4334,  0.4938, -0.7537, -0.0175],\n",
      "        [ 0.5841,  0.4014, -0.7047, -0.0337]])\n",
      "\n"
     ]
    }
   ],
   "source": [
    "for i, j in product(range(b_clusters), range(c_clusters)):\n",
    "    ij_mask = (b_labels == i) & (c_labels == j)\n",
    "    if not ij_mask.any():\n",
    "        continue\n",
    "    print(i, j)\n",
    "    print(ij_mask.nonzero())\n",
    "    print('b dot c', np.dot(b_mean[i], c_mean[j]).item())\n",
    "    print(a[ij_mask])\n",
    "    print()"
   ]
  },
  {
   "cell_type": "code",
   "execution_count": 84,
   "id": "c55bb1dd",
   "metadata": {},
   "outputs": [
    {
     "data": {
      "text/plain": [
       "tensor([0.1261, 0.0956, 0.0662, 0.0646, 0.0916, 0.0878, 0.1284, 0.1053, 0.1185,\n",
       "        0.0830, 0.1767, 0.1664, 0.1590, 0.0704, 0.1717, 0.0849, 0.1483, 0.1508,\n",
       "        0.1938, 0.1337, 0.0706, 0.1276, 0.1416, 0.1914, 0.1312, 0.1331, 0.1519,\n",
       "        0.1260, 0.1704, 0.1467, 0.1413, 0.0761, 0.1739, 0.1585, 0.1111, 0.1607,\n",
       "        0.1308, 0.1436, 0.1185, 0.0805, 0.1537, 0.1249, 0.0964, 0.1627, 0.1388,\n",
       "        0.1550, 0.1431, 0.1497, 0.1547, 0.1461, 0.1437, 0.1036, 0.1465, 0.1027,\n",
       "        0.0971, 0.0534, 0.1635, 0.0815, 0.0636, 0.1566, 0.1530, 0.1740, 0.1450,\n",
       "        0.1588, 0.1914, 0.1432, 0.1332, 0.1449, 0.0419, 0.1260, 0.1226, 0.1213,\n",
       "        0.1692, 0.1247, 0.1619, 0.0862, 0.0802, 0.1435, 0.1507, 0.0751, 0.1889,\n",
       "        0.1447, 0.1050, 0.1386, 0.1027, 0.0877, 0.1192, 0.0730, 0.1753, 0.0787,\n",
       "        0.0890, 0.0903, 0.1477, 0.1955, 0.1762, 0.1480, 0.0766, 0.1095, 0.0846,\n",
       "        0.1540, 0.0428, 0.0925, 0.1606, 0.0724, 0.1390, 0.1123, 0.1173, 0.0768,\n",
       "        0.1223, 0.1621, 0.0854, 0.1776, 0.1641])"
      ]
     },
     "execution_count": 84,
     "metadata": {},
     "output_type": "execute_result"
    }
   ],
   "source": [
    "bc_pair = t.stack([\n",
    "    t.tensor(b_mean[i] + c_mean[j]) for i, j in product(b_parts[0], c_parts[0])\n",
    "    if np.abs(np.dot(b_mean[i], c_mean[j])) < 0.5\n",
    "], dim=0)\n",
    "bc_pair = bc_pair / bc_pair.norm(dim=1).unsqueeze(1)\n",
    "(a @ (bc_pair).T).abs().min(dim=1).values"
   ]
  },
  {
   "cell_type": "code",
   "execution_count": 85,
   "id": "4c5756fe",
   "metadata": {},
   "outputs": [
    {
     "data": {
      "text/plain": [
       "tensor([2.2361, 2.2361, 2.2361, 2.2361])"
      ]
     },
     "execution_count": 85,
     "metadata": {},
     "output_type": "execute_result"
    }
   ],
   "source": [
    "t.svd(bc_pair)[1]"
   ]
  },
  {
   "cell_type": "code",
   "execution_count": 83,
   "id": "174bf3cb",
   "metadata": {},
   "outputs": [
    {
     "data": {
      "text/plain": [
       "tensor([2.5197, 2.5025, 2.4898, 2.4878])"
      ]
     },
     "execution_count": 83,
     "metadata": {},
     "output_type": "execute_result"
    }
   ],
   "source": [
    "t.svd(bc_pair)[1]"
   ]
  },
  {
   "cell_type": "code",
   "execution_count": 77,
   "id": "4e0de51c",
   "metadata": {},
   "outputs": [
    {
     "data": {
      "text/plain": [
       "torch.Size([121, 25])"
      ]
     },
     "execution_count": 77,
     "metadata": {},
     "output_type": "execute_result"
    }
   ],
   "source": [
    "(a @ (bc_pair).T).shape"
   ]
  },
  {
   "cell_type": "code",
   "execution_count": 215,
   "id": "cf6987d8",
   "metadata": {},
   "outputs": [
    {
     "name": "stdout",
     "output_type": "stream",
     "text": [
      "b=0\n",
      "c=[]\n",
      "\n",
      "b=1\n",
      "c=[]\n",
      "\n",
      "b=2\n",
      "c=[1, 1]\n",
      "\n",
      "b=3\n",
      "c=[]\n",
      "\n",
      "b=4\n",
      "c=[]\n",
      "\n",
      "b=5\n",
      "c=[]\n",
      "\n",
      "b=6\n",
      "c=[8, 8, 8, 8]\n",
      "\n",
      "b=7\n",
      "c=[]\n",
      "\n",
      "b=8\n",
      "c=[]\n",
      "\n",
      "b=9\n",
      "c=[]\n",
      "\n"
     ]
    }
   ],
   "source": [
    "for i in range(b_clusters):\n",
    "    print(f'b={i}')\n",
    "    print(f'c={c_labels[b_labels==i].tolist()}')\n",
    "    # print(f'coef={(coef[b_labels==i]*100).round().int().tolist()}')\n",
    "    print()"
   ]
  },
  {
   "cell_type": "code",
   "execution_count": 111,
   "id": "ff84fdca-0025-45de-ba42-fa38cba0e789",
   "metadata": {},
   "outputs": [
    {
     "name": "stdout",
     "output_type": "stream",
     "text": [
      "b=0, c=[0, 6, 7, 8]\n",
      "b=1, c=[1, 2, 3, 4, 5]\n",
      "b=2, c=[1, 2, 3, 4, 5]\n",
      "b=3, c=[1, 2, 3, 4, 5]\n",
      "b=4, c=[1, 2, 3, 4, 5]\n",
      "b=5, c=[1, 2, 3, 4, 5]\n",
      "b=6, c=[0, 6, 7, 9]\n",
      "b=7, c=[0, 6, 7, 8, 9]\n",
      "b=8, c=[0, 6, 7, 8]\n",
      "b=9, c=[0, 6, 7, 8, 9]\n",
      "[[0, 6, 7, 8, 9], [1, 2, 3, 4, 5]]\n",
      "[[0, 6, 7, 8, 9], [1, 2, 3, 4, 5]]\n"
     ]
    }
   ],
   "source": [
    "b_parts = []\n",
    "c_parts = []\n",
    "for i in range(b_clusters):\n",
    "    c_set = set(c_labels[b_labels == i].tolist())\n",
    "    if not c_set:\n",
    "        continue\n",
    "    done = False\n",
    "    for j in range(len(c_parts)):\n",
    "        if len(c_set & c_parts[j]) > 0:\n",
    "            c_parts[j] = c_set.union(c_parts[j])\n",
    "            b_parts[j].add(i)\n",
    "            done = True\n",
    "            break\n",
    "    if not done:\n",
    "        c_parts.append(c_set)\n",
    "        b_parts.append({i})\n",
    "    print(f'b={i}, c={sorted(c_set)}')\n",
    "\n",
    "# for b_part1, b_part2 in product(b_parts, repeat=2):\n",
    "#     assert b_part1==b_part2 or not b_part1 & b_part2\n",
    "# for c_part1, c_part2 in product(c_parts, repeat=2):\n",
    "#     assert c_part1==c_part2 or not c_part1 & c_part2\n",
    "b_parts = list(map(sorted, map(list, b_parts)))\n",
    "c_parts = list(map(sorted, map(list, c_parts)))\n",
    "print(b_parts)\n",
    "print(c_parts)\n"
   ]
  },
  {
   "cell_type": "code",
   "execution_count": 62,
   "id": "3f3ddb92",
   "metadata": {},
   "outputs": [],
   "source": [
    "# Check that irrep is G-action on each partition of b's clusters\n",
    "for b_part in b_parts:\n",
    "    T = einops.einsum(b_mean[b_part], irrep, b_mean[b_part], 'm1 d1, G d1 d2, m2 d2 -> G m1 m2')\n",
    "    T = (T > 0.95).astype(float)\n",
    "    assert (T.sum(axis=1) == 1).all() and (T.sum(axis=2) == 1).all()"
   ]
  },
  {
   "cell_type": "code",
   "execution_count": 63,
   "id": "4ad72b20",
   "metadata": {},
   "outputs": [],
   "source": [
    "# Check that irrep is G-action on each partition of c's clusters\n",
    "for c_part in c_parts:\n",
    "    T = einops.einsum(c_mean[c_part], irrep, c_mean[c_part], 'm1 d1, G d1 d2, m2 d2 -> G m1 m2')\n",
    "    T = (T > 0.95).astype(float)\n",
    "    assert (T.sum(axis=1) == 1).all() and (T.sum(axis=2) == 1).all()"
   ]
  },
  {
   "cell_type": "code",
   "execution_count": 64,
   "id": "62c5a49e",
   "metadata": {},
   "outputs": [],
   "source": [
    "# Check that {b_i} = {-c_i} over all points\n",
    "S = b_mean @ -c_mean.T\n",
    "S = (S > 0.95).astype(float)\n",
    "assert (S.sum(axis=0) == 1).all() and (S.sum(axis=1) == 1).all()"
   ]
  },
  {
   "cell_type": "code",
   "execution_count": 65,
   "id": "31de1e23",
   "metadata": {},
   "outputs": [],
   "source": [
    "# Check that {b_i} = {-c_i} within each partition\n",
    "for b_part, c_part in zip(b_parts, c_parts):\n",
    "    # S = t.concat([b_mean[b_part], -b_mean[b_part]]) @ t.concat([-c_mean[c_part], c_mean[c_part]]).T\n",
    "    S = b_mean[b_part] @ -c_mean[c_part].T\n",
    "    S = (S > 0.95).astype(float)\n",
    "    assert (S.sum(axis=0) == 1).all() and (S.sum(axis=1) == 1).all()"
   ]
  },
  {
   "cell_type": "code",
   "execution_count": 66,
   "id": "f5b90738",
   "metadata": {},
   "outputs": [],
   "source": [
    "# Check that there are two partitions, and that they are antipodal\n",
    "assert len(b_parts) == 2\n",
    "T = b_mean[b_parts[0]] @ -b_mean[b_parts[1]].T\n",
    "T = (T > 1 - 1e-2).astype(float)\n",
    "assert (T.sum(axis=0) == 1).all() and (T.sum(axis=1) == 1).all()"
   ]
  },
  {
   "cell_type": "code",
   "execution_count": 67,
   "id": "cd25d113",
   "metadata": {},
   "outputs": [
    {
     "name": "stdout",
     "output_type": "stream",
     "text": [
      "size=14.581692695617676, variance=0.041072290390729904\n",
      "[2.9271507263183594, 3.0301852226257324, 2.947442054748535, 3.7306771278381348, 3.6133885383605957, 2.9927361011505127, 3.7859277725219727, 2.257120370864868, 2.655984401702881, 3.1560397148132324, 3.634443521499634, 2.2718491554260254, 2.205812692642212, 3.7508420944213867, 2.9436421394348145, 2.0772361755371094, 3.068580150604248, 2.210176467895508, 2.24330472946167, 1.8649656772613525, 3.2062294483184814, 3.5749683380126953, 2.653846025466919, 2.479753017425537, 2.113205909729004]\n",
      "size=13.402325630187988, variance=0.05738019198179245\n",
      "[2.6255760192871094, 2.7415590286254883, 1.6819978952407837, 1.9438964128494263, 2.556933641433716, 1.918022871017456, 3.153902530670166, 1.9036931991577148, 2.5628561973571777, 3.305253744125366, 3.5791714191436768, 3.5385055541992188, 1.5172001123428345, 3.618938446044922, 2.810096502304077, 2.682288646697998, 2.0427472591400146, 3.1616780757904053, 2.6220152378082275, 1.554329752922058, 2.333005666732788, 2.927609443664551, 3.239436388015747, 3.165828227996826, 1.8741176128387451]\n"
     ]
    }
   ],
   "source": [
    "# check that coefs are uniform over {b_i}x{c_i}\n",
    "for b_part, c_part in zip(b_parts, c_parts):\n",
    "    coef_sum = t.tensor([\n",
    "        coef[(b_labels == i) & (c_labels == j)].sum().item()\n",
    "        for i, j in product(b_part, c_part)\n",
    "    ])\n",
    "    print(f'size={coef_sum.norm()}, variance={(coef_sum - coef_sum.mean()).norm()**2/coef_sum.norm()**2}')\n",
    "    print(coef_sum.tolist())"
   ]
  },
  {
   "cell_type": "code",
   "execution_count": 185,
   "id": "3b44779a",
   "metadata": {},
   "outputs": [
    {
     "data": {
      "text/plain": [
       "tensor([2.6256, 1.6820, 1.9439, 2.5569, 2.7416, 1.9180, 1.9037, 2.5629, 3.3053,\n",
       "        3.1539, 2.6823, 3.1617, 2.6220, 1.5543, 2.0427, 2.3330, 3.2394, 3.1658,\n",
       "        1.8741, 2.9276, 3.5792, 1.5172, 3.6189, 2.8101, 3.5385])"
      ]
     },
     "execution_count": 185,
     "metadata": {},
     "output_type": "execute_result"
    }
   ],
   "source": [
    "coef_sum"
   ]
  },
  {
   "cell_type": "markdown",
   "id": "c00edddf-6ece-4254-8daa-2edcda98ed63",
   "metadata": {},
   "source": [
    "### Activations are clustered"
   ]
  },
  {
   "cell_type": "code",
   "execution_count": 61,
   "id": "652e3ada-3f49-4b25-b0be-f151d3643db8",
   "metadata": {},
   "outputs": [],
   "source": [
    "embedding_left = model.embedding_left.squeeze(0)\n",
    "embedding_right = model.embedding_right.squeeze(0)\n",
    "linear = model.linear.squeeze(0)\n",
    "unembedding = model.unembedding.squeeze(0).T\n",
    "# There's a degree of freedom with embedding/unembedding norm.\n",
    "# Rescale so that each unembedding column is norm 1\n",
    "u_norm = unembedding.norm(dim=0)\n",
    "unembedding = unembedding / u_norm\n",
    "linear = linear * u_norm"
   ]
  },
  {
   "cell_type": "code",
   "execution_count": 62,
   "id": "983e5927-3ff9-491d-bc03-60ad4c265c9a",
   "metadata": {},
   "outputs": [],
   "source": [
    "N = len(group)\n",
    "inputs = t.tensor(list(product(range(N), repeat=2)), device=device)\n",
    "l_in, r_in = inputs[..., 0], inputs[..., 1]\n",
    "l_onehot = F.one_hot(l_in, num_classes=N).float()\n",
    "r_onehot = F.one_hot(r_in, num_classes=N).float()\n",
    "l_embed = einops.einsum(l_onehot, embedding_left, 'batch group, group embed -> batch embed')\n",
    "r_embed = einops.einsum(r_onehot, embedding_right, 'batch group, group embed -> batch embed')\n",
    "l_act = einops.einsum(l_embed, linear, 'batch embed, embed hid -> batch hid')\n",
    "r_act = einops.einsum(r_embed, linear, 'batch embed, embed hid -> batch hid')\n",
    "l_act = l_act[:, irrep_idxs]\n",
    "r_act = r_act[:, irrep_idxs]\n",
    "pre_act = l_act + r_act\n",
    "act = t.maximum(t.zeros_like(l_act), l_act + r_act)\n",
    "lin_logits = einops.einsum(pre_act, unembedding[:, irrep_idxs], 'batch hid, group hid-> batch group')\n",
    "logits = einops.einsum(act, unembedding[:, irrep_idxs], 'batch hid, group hid-> batch group')"
   ]
  },
  {
   "cell_type": "code",
   "execution_count": 63,
   "id": "445e30de",
   "metadata": {},
   "outputs": [
    {
     "data": {
      "text/plain": [
       "tensor(0.9876, grad_fn=<DivBackward0>)"
      ]
     },
     "execution_count": 63,
     "metadata": {},
     "output_type": "execute_result"
    }
   ],
   "source": [
    "# 0, 24, 57 are same (i, j)\n",
    "(act[:,0] - act[:,24]).norm()**2 / act[:,0].norm()**2"
   ]
  },
  {
   "cell_type": "code",
   "execution_count": 64,
   "id": "e04616ea",
   "metadata": {},
   "outputs": [
    {
     "data": {
      "text/plain": [
       "torch.Size([14400, 74])"
      ]
     },
     "execution_count": 64,
     "metadata": {},
     "output_type": "execute_result"
    }
   ],
   "source": [
    "act.shape"
   ]
  },
  {
   "cell_type": "code",
   "execution_count": 65,
   "id": "3d909e8b",
   "metadata": {},
   "outputs": [
    {
     "data": {
      "text/plain": [
       "(tensor(5932.1118, grad_fn=<LinalgVectorNormBackward0>),\n",
       " tensor(459.0746, grad_fn=<LinalgVectorNormBackward0>))"
      ]
     },
     "execution_count": 65,
     "metadata": {},
     "output_type": "execute_result"
    }
   ],
   "source": [
    "logits.norm(), lin_logits.norm()"
   ]
  },
  {
   "cell_type": "code",
   "execution_count": 66,
   "id": "dbb533c7-f398-4029-a40d-7982277c0e5b",
   "metadata": {},
   "outputs": [
    {
     "data": {
      "image/png": "[encoded data removed]",
      "text/plain": [
       "<Figure size 640x480 with 1 Axes>"
      ]
     },
     "metadata": {},
     "output_type": "display_data"
    },
    {
     "data": {
      "image/png": "[encoded data removed]",
      "text/plain": [
       "<Figure size 640x480 with 1 Axes>"
      ]
     },
     "metadata": {},
     "output_type": "display_data"
    },
    {
     "data": {
      "image/png": "[encoded data removed]",
      "text/plain": [
       "<Figure size 640x480 with 1 Axes>"
      ]
     },
     "metadata": {},
     "output_type": "display_data"
    },
    {
     "data": {
      "image/png": "[encoded data removed]",
      "text/plain": [
       "<Figure size 640x480 with 1 Axes>"
      ]
     },
     "metadata": {},
     "output_type": "display_data"
    },
    {
     "data": {
      "image/png": "[encoded data removed]",
      "text/plain": [
       "<Figure size 640x480 with 1 Axes>"
      ]
     },
     "metadata": {},
     "output_type": "display_data"
    },
    {
     "data": {
      "image/png": "[encoded data removed]",
      "text/plain": [
       "<Figure size 640x480 with 1 Axes>"
      ]
     },
     "metadata": {},
     "output_type": "display_data"
    },
    {
     "data": {
      "image/png": "[encoded data removed]",
      "text/plain": [
       "<Figure size 640x480 with 1 Axes>"
      ]
     },
     "metadata": {},
     "output_type": "display_data"
    },
    {
     "data": {
      "image/png": "[encoded data removed]",
      "text/plain": [
       "<Figure size 640x480 with 1 Axes>"
      ]
     },
     "metadata": {},
     "output_type": "display_data"
    },
    {
     "data": {
      "image/png": "[encoded data removed]",
      "text/plain": [
       "<Figure size 640x480 with 1 Axes>"
      ]
     },
     "metadata": {},
     "output_type": "display_data"
    },
    {
     "data": {
      "image/png": "[encoded data removed]",
      "text/plain": [
       "<Figure size 640x480 with 1 Axes>"
      ]
     },
     "metadata": {},
     "output_type": "display_data"
    },
    {
     "data": {
      "image/png": "[encoded data removed]",
      "text/plain": [
       "<Figure size 640x480 with 1 Axes>"
      ]
     },
     "metadata": {},
     "output_type": "display_data"
    },
    {
     "data": {
      "image/png": "[encoded data removed]",
      "text/plain": [
       "<Figure size 640x480 with 1 Axes>"
      ]
     },
     "metadata": {},
     "output_type": "display_data"
    },
    {
     "data": {
      "image/png": "[encoded data removed]",
      "text/plain": [
       "<Figure size 640x480 with 1 Axes>"
      ]
     },
     "metadata": {},
     "output_type": "display_data"
    },
    {
     "data": {
      "image/png": "[encoded data removed]",
      "text/plain": [
       "<Figure size 640x480 with 1 Axes>"
      ]
     },
     "metadata": {},
     "output_type": "display_data"
    },
    {
     "data": {
      "image/png": "[encoded data removed]",
      "text/plain": [
       "<Figure size 640x480 with 1 Axes>"
      ]
     },
     "metadata": {},
     "output_type": "display_data"
    }
   ],
   "source": [
    "for i in range(15):\n",
    "    plt.hist(l_act[:,i].tolist(), alpha=0.4, bins=20)\n",
    "    plt.hist(r_act[:,i].tolist(), alpha=0.4, bins=20)\n",
    "    plt.show()"
   ]
  },
  {
   "cell_type": "code",
   "execution_count": 70,
   "id": "50ccb435",
   "metadata": {},
   "outputs": [
    {
     "data": {
      "image/png": "[encoded data removed]",
      "text/plain": [
       "<Figure size 640x480 with 1 Axes>"
      ]
     },
     "metadata": {},
     "output_type": "display_data"
    }
   ],
   "source": [
    "plt.scatter(coef.tolist(), l_act.max(dim=0)[0].tolist())\n",
    "plt.show()"
   ]
  },
  {
   "cell_type": "code",
   "execution_count": null,
   "id": "dfb92c44",
   "metadata": {},
   "outputs": [],
   "source": [
    "big_neurons = (l_act.max(dim=0)[0] > 15).nonzero()"
   ]
  },
  {
   "cell_type": "code",
   "execution_count": null,
   "id": "fbdc8d34",
   "metadata": {},
   "outputs": [
    {
     "data": {
      "text/plain": [
       "[0, 1, 3, 4, 9]"
      ]
     },
     "execution_count": 82,
     "metadata": {},
     "output_type": "execute_result"
    }
   ],
   "source": [
    "b_part1"
   ]
  },
  {
   "cell_type": "code",
   "execution_count": null,
   "id": "0aa6d40b",
   "metadata": {},
   "outputs": [
    {
     "data": {
      "text/plain": [
       "array([[4],\n",
       "       [5],\n",
       "       [6],\n",
       "       [2],\n",
       "       [6],\n",
       "       [4],\n",
       "       [2],\n",
       "       [6],\n",
       "       [0],\n",
       "       [0],\n",
       "       [6],\n",
       "       [2],\n",
       "       [5],\n",
       "       [5],\n",
       "       [4],\n",
       "       [4],\n",
       "       [2],\n",
       "       [4],\n",
       "       [0],\n",
       "       [5],\n",
       "       [6],\n",
       "       [0],\n",
       "       [0]], dtype=int32)"
      ]
     },
     "execution_count": 83,
     "metadata": {},
     "output_type": "execute_result"
    }
   ],
   "source": [
    "b_labels[big_neurons]"
   ]
  },
  {
   "cell_type": "code",
   "execution_count": null,
   "id": "a3f5be04",
   "metadata": {},
   "outputs": [],
   "source": [
    "def ablate_loss(ln, rn, un):\n",
    "    ablate_model = copy.deepcopy(model)\n",
    "    ablate_model.linear.data = t.eye(ln.shape[1]).unsqueeze(0)\n",
    "    ablate_model.embedding_left.data = ln.unsqueeze(0)\n",
    "    ablate_model.embedding_right.data = rn.unsqueeze(0)\n",
    "    ablate_model.unembedding.data = un.unsqueeze(0).mT\n",
    "    return test_loss(ablate_model.to(device), data)"
   ]
  },
  {
   "cell_type": "code",
   "execution_count": null,
   "id": "6e5c5b50",
   "metadata": {},
   "outputs": [],
   "source": [
    "big_mask = l_act.max(dim=0)[0] > 15\n",
    "small_mask = l_act.max(dim=0)[0] < 3\n",
    "part1_mask = t.tensor([i in b_part1 for i in b_labels], device=device)\n",
    "part2_mask = t.tensor([i in b_part2 for i in b_labels], device=device)"
   ]
  },
  {
   "cell_type": "code",
   "execution_count": null,
   "id": "ff4e03fb",
   "metadata": {},
   "outputs": [
    {
     "name": "stdout",
     "output_type": "stream",
     "text": [
      "{'G0_loss': tensor([0.8658]), 'G0_acc': tensor([0.5001])}\n",
      "{'G0_loss': tensor([1.4867]), 'G0_acc': tensor([0.3433])}\n",
      "{'G0_loss': tensor([4.2793]), 'G0_acc': tensor([0.3035])}\n",
      "{'G0_loss': tensor([3.3410]), 'G0_acc': tensor([0.1060])}\n",
      "{'G0_loss': tensor([2.6429]), 'G0_acc': tensor([0.1717])}\n",
      "{'G0_loss': tensor([3.5448]), 'G0_acc': tensor([0.0409])}\n",
      "{'G0_loss': tensor([4.5008]), 'G0_acc': tensor([0.0628])}\n",
      "{'G0_loss': tensor([3.2302]), 'G0_acc': tensor([0.0570])}\n",
      "{'G0_loss': tensor([4.5770]), 'G0_acc': tensor([0.0439])}\n"
     ]
    }
   ],
   "source": [
    "print(ablate_loss(irrep_lneurons, irrep_rneurons, irrep_uneurons))\n",
    "print(ablate_loss(irrep_lneurons[:,big_mask], irrep_rneurons[:,big_mask], irrep_uneurons[:,big_mask]))\n",
    "print(ablate_loss(irrep_lneurons[:,small_mask], irrep_rneurons[:,small_mask], irrep_uneurons[:,small_mask]))\n",
    "print(ablate_loss(irrep_lneurons[:,part1_mask], irrep_rneurons[:,part1_mask], irrep_uneurons[:,part1_mask]))\n",
    "print(ablate_loss(irrep_lneurons[:,part2_mask], irrep_rneurons[:,part2_mask], irrep_uneurons[:,part2_mask]))\n",
    "print(ablate_loss(irrep_lneurons[:,part1_mask & big_mask], irrep_rneurons[:,part1_mask & big_mask], irrep_uneurons[:,part1_mask & big_mask]))\n",
    "print(ablate_loss(irrep_lneurons[:,part1_mask & small_mask], irrep_rneurons[:,part1_mask & small_mask], irrep_uneurons[:,part1_mask & small_mask]))\n",
    "print(ablate_loss(irrep_lneurons[:,part2_mask & big_mask], irrep_rneurons[:,part2_mask & big_mask], irrep_uneurons[:,part2_mask & big_mask]))\n",
    "print(ablate_loss(irrep_lneurons[:,part2_mask & small_mask], irrep_rneurons[:,part2_mask & small_mask], irrep_uneurons[:,part2_mask & small_mask]))\n"
   ]
  },
  {
   "cell_type": "code",
   "execution_count": null,
   "id": "117958d7",
   "metadata": {},
   "outputs": [
    {
     "data": {
      "text/plain": [
       "{'G0_loss': tensor([29.3090]), 'G0_acc': tensor([0.5001])}"
      ]
     },
     "execution_count": 103,
     "metadata": {},
     "output_type": "execute_result"
    }
   ],
   "source": [
    "ablate_loss(10*irrep_lneurons, 10*irrep_rneurons, 10*irrep_uneurons)"
   ]
  },
  {
   "cell_type": "code",
   "execution_count": null,
   "id": "9607b4c8",
   "metadata": {},
   "outputs": [
    {
     "data": {
      "text/plain": [
       "torch.Size([120, 52])"
      ]
     },
     "execution_count": 94,
     "metadata": {},
     "output_type": "execute_result"
    }
   ],
   "source": [
    "irrep_lneurons.shape"
   ]
  },
  {
   "cell_type": "code",
   "execution_count": null,
   "id": "92c393d7",
   "metadata": {},
   "outputs": [
    {
     "data": {
      "text/plain": [
       "(tensor(23), tensor(25))"
      ]
     },
     "execution_count": 101,
     "metadata": {},
     "output_type": "execute_result"
    }
   ],
   "source": [
    "big_mask.sum(), small_mask.sum() "
   ]
  },
  {
   "cell_type": "code",
   "execution_count": null,
   "id": "a71abab3",
   "metadata": {},
   "outputs": [],
   "source": []
  }
 ],
 "metadata": {
  "kernelspec": {
   "display_name": "group_addition-BDyFuYvs-py3.10",
   "language": "python",
   "name": "python3"
  },
  "language_info": {
   "codemirror_mode": {
    "name": "ipython",
    "version": 3
   },
   "file_extension": ".py",
   "mimetype": "text/x-python",
   "name": "python",
   "nbconvert_exporter": "python",
   "pygments_lexer": "ipython3",
   "version": "3.10.12"
  }
 },
 "nbformat": 4,
 "nbformat_minor": 5
}
