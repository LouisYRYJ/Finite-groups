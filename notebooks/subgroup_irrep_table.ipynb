{
 "cells": [
  {
   "cell_type": "code",
   "execution_count": 1,
   "id": "678b0135-563e-4656-a338-103de6e6bc74",
   "metadata": {},
   "outputs": [
    {
     "ename": "SyntaxError",
     "evalue": "invalid syntax (group.py, line 299)",
     "output_type": "error",
     "traceback": [
      "Traceback \u001b[0;36m(most recent call last)\u001b[0m:\n",
      "\u001b[0m  File \u001b[1;32m~/.cache/pypoetry/virtualenvs/group_addition-jQUm9okg-py3.10/lib/python3.10/site-packages/IPython/core/interactiveshell.py:3577\u001b[0m in \u001b[1;35mrun_code\u001b[0m\n    exec(code_obj, self.user_global_ns, self.user_ns)\u001b[0m\n",
      "\u001b[0m  Cell \u001b[1;32mIn[1], line 3\u001b[0m\n    from named_groups import *\u001b[0m\n",
      "\u001b[0;36m  File \u001b[0;32m/workspace/wilson/Finite-groups/src/named_groups.py:3\u001b[0;36m\n\u001b[0;31m    from group import *\u001b[0;36m\n",
      "\u001b[0;36m  File \u001b[0;32m/workspace/wilson/Finite-groups/src/group.py:299\u001b[0;36m\u001b[0m\n\u001b[0;31m    name = gap.StructureDescription{subgroups}\u001b[0m\n\u001b[0m                                   ^\u001b[0m\n\u001b[0;31mSyntaxError\u001b[0m\u001b[0;31m:\u001b[0m invalid syntax\n"
     ]
    }
   ],
   "source": [
    "import sys\n",
    "sys.path.append('/workspace/wilson/Finite-groups/src')\n",
    "from named_groups import *"
   ]
  },
  {
   "cell_type": "code",
   "execution_count": 6,
   "id": "3b768244-abd3-464f-a513-03d19b8da5b6",
   "metadata": {},
   "outputs": [],
   "source": [
    "g = S(5)"
   ]
  },
  {
   "cell_type": "code",
   "execution_count": 7,
   "id": "dfdcddc5-7eb9-439c-a09f-6b49b8959959",
   "metadata": {},
   "outputs": [
    {
     "name": "stdout",
     "output_type": "stream",
     "text": [
      "Computing subgroups\n"
     ]
    },
    {
     "name": "stderr",
     "output_type": "stream",
     "text": [
      "Computing orders: 100%|██████████| 19/19 [00:09<00:00,  1.97it/s]\n",
      "Computing elements: 100%|██████████| 17/17 [01:11<00:00,  4.19s/it]\n"
     ]
    }
   ],
   "source": [
    "subgroups = g.get_subgroups(conjugates=False)"
   ]
  },
  {
   "cell_type": "code",
   "execution_count": 10,
   "id": "4112f688-2023-4f11-9ab6-083a2503dccc",
   "metadata": {},
   "outputs": [],
   "source": [
    "subgroups = list(subgroups)"
   ]
  },
  {
   "cell_type": "code",
   "execution_count": 11,
   "id": "b1a17143-f193-45dd-87a5-a0fa172e04bb",
   "metadata": {},
   "outputs": [
    {
     "data": {
      "text/plain": [
       "frozenset"
      ]
     },
     "execution_count": 11,
     "metadata": {},
     "output_type": "execute_result"
    }
   ],
   "source": [
    "type(subgroups[0])"
   ]
  },
  {
   "cell_type": "code",
   "execution_count": null,
   "id": "3277a0ab-4dcc-4ac4-8fa2-399480f150e2",
   "metadata": {},
   "outputs": [],
   "source": []
  }
 ],
 "metadata": {
  "kernelspec": {
   "display_name": "Python 3 (ipykernel)",
   "language": "python",
   "name": "python3"
  },
  "language_info": {
   "codemirror_mode": {
    "name": "ipython",
    "version": 3
   },
   "file_extension": ".py",
   "mimetype": "text/x-python",
   "name": "python",
   "nbconvert_exporter": "python",
   "pygments_lexer": "ipython3",
   "version": "3.10.12"
  }
 },
 "nbformat": 4,
 "nbformat_minor": 5
}
