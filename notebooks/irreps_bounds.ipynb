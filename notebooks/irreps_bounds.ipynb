{
 "cells": [
  {
   "cell_type": "markdown",
   "id": "5398ebd2-48ab-423a-b560-92e9d2374a0b",
   "metadata": {},
   "source": [
    "### Setup"
   ]
  },
  {
   "cell_type": "code",
   "execution_count": 1,
   "id": "a71abab3",
   "metadata": {},
   "outputs": [],
   "source": [
    "import os, sys\n",
    "HOME = os.environ['HOME']  # change if necessary\n",
    "sys.path.append(f'{HOME}/Finite-groups/src')"
   ]
  },
  {
   "cell_type": "code",
   "execution_count": 2,
   "id": "c489f9fb",
   "metadata": {},
   "outputs": [
    {
     "name": "stderr",
     "output_type": "stream",
     "text": [
      "Syntax warning: Unbound global variable in /usr/share/gap/pkg/browse/PackageIn\\\n",
      "fo.g:73\n",
      "  if not IsKernelExtensionAvailable(\"Browse\", \"ncurses\") then\n",
      "         ^^^^^^^^^^^^^^^^^^^^^^^^^^\n",
      "Syntax warning: Unbound global variable in /usr/share/gap/pkg/edim/PackageInfo\\\n",
      ".g:60\n",
      "  if not IsKernelExtensionAvailable(\"EDIM\",\"ediv\") then\n",
      "         ^^^^^^^^^^^^^^^^^^^^^^^^^^\n"
     ]
    }
   ],
   "source": [
    "import torch as t\n",
    "import numpy as np\n",
    "from matplotlib import pyplot as plt\n",
    "import json\n",
    "from itertools import product\n",
    "from jaxtyping import Float\n",
    "from torch.utils.data import DataLoader\n",
    "from tqdm.notebook import tqdm\n",
    "import plotly.graph_objects as go\n",
    "import copy\n",
    "import math\n",
    "from itertools import product\n",
    "import pandas as pd\n",
    "from typing import Union\n",
    "from einops import repeat\n",
    "from huggingface_hub import snapshot_download\n",
    "from huggingface_hub.utils import disable_progress_bars\n",
    "\n",
    "\n",
    "from model import MLP3, MLP4, InstancedModule\n",
    "from utils import *\n",
    "from group_data import *\n",
    "from model_utils import *\n",
    "from group_utils import *\n",
    "from irrep_bounds import *\n",
    "from coset_bounds import model_dist_res\n",
    "%load_ext autoreload\n",
    "%autoreload 2"
   ]
  },
  {
   "cell_type": "code",
   "execution_count": 3,
   "id": "f6e6671b",
   "metadata": {},
   "outputs": [
    {
     "name": "stdout",
     "output_type": "stream",
     "text": [
      "Intersection size: 14400/14400 (1.00)\n",
      "Added 14400 elements from intersection\n",
      "Added 0 elements from group 0: gapS(5)\n",
      "Taking random subset: 5760/14400 (0.40)\n",
      "Train set size: 5760/14400 (0.40)\n"
     ]
    },
    {
     "name": "stderr",
     "output_type": "stream",
     "text": [
      "/home/wilson/Finite-groups/src/model_utils.py:50: FutureWarning: You are using `torch.load` with `weights_only=False` (the current default value), which uses the default pickle module implicitly. It is possible to construct malicious pickle data which will execute arbitrary code during unpickling (See https://github.com/pytorch/pytorch/blob/main/SECURITY.md#untrusted-models for more details). In a future release, the default value for `weights_only` will be flipped to `True`. This limits the functions that could be executed during unpickling. Arbitrary objects will no longer be allowed to be loaded via this mode unless they are explicitly allowlisted by the user via `torch.serialization.add_safe_globals`. We recommend you start setting `weights_only=True` for any use case where you don't have full control of the loaded file. Please open an issue on GitHub for any issues related to this experimental feature.\n",
      "  model.load_state_dict(t.load(model_path, map_location=device))\n"
     ]
    }
   ],
   "source": [
    "\n",
    "device = t.device(\"cuda\" if t.cuda.is_available() else \"cpu\")\n",
    "# MODEL_DIR = '2024-08-16_22-53-29_SL2_5_MLP3_256'\n",
    "# MODEL_DIR = '2024-08-14_21-24-30_gapS_5_'\n",
    "MODEL_DIR = '2024-09-18_23-59-00_gapS5_MLP2_128_wd2e-4_ubias'\n",
    "# MODEL_DIR = '2024-09-18_05-50-44_gapS5_MLP2_128_wd1e-5_ubias'\n",
    "# MODEL_DIR = '2024-09-16_05-00-33_gapS5_MLP2_128_adamw_wd1'\n",
    "# MODEL_DIR = '2024-09-13_03-46-47_gapS5_256_wd1e-3'\n",
    "# MODEL_DIR = '2024-09-13_21-56-07_gapS5_MLP2_256_adamw_wd1'\n",
    "# MODEL_DIR = '2024-08-27_16-32-46_Dic30_MLP3_128'\n",
    "# MODEL_DIR = '2024-08-27_23-16-05_F11_MLP3_256'\n",
    "# MODEL_DIR = '2024-09-02_18-17-20_smallgrp_54_8_MLP3_256_0_6'\n",
    "# MODEL_DIR = '2024-09-05_15-22-58_smallgrp_54_8_MLP3_1024_0_6'\n",
    "# MODEL_DIR = '2024-09-05_20-47-44_smallgrp_54_8_MLP3_1024_0_6_wd1e-6'\n",
    "# MODEL_DIR = '2024-09-02_18-51-29_smallgrp_96_71_MLP3_256_0_6'\n",
    "# MODEL_DIR = '2024-09-03_17-28-20_smallgrp_192_1025_MLP3_512_0_6'\n",
    "# MODEL_DIR = '2024-09-03_21-09-07_Z_59_128'\n",
    "disable_progress_bars()\n",
    "local_dir = f'{HOME}/models/{MODEL_DIR}'\n",
    "if not os.path.exists(local_dir):\n",
    "    snapshot_download(repo_id=f'wiwu2390/{MODEL_DIR}', local_dir=local_dir)\n",
    "models, params = load_models(local_dir)\n",
    "data = GroupData(params)\n",
    "group = data.groups[0]"
   ]
  },
  {
   "cell_type": "code",
   "execution_count": 4,
   "id": "570f814e",
   "metadata": {},
   "outputs": [],
   "source": [
    "loss_dict = test_loss(models[-1].to(device), data)"
   ]
  },
  {
   "cell_type": "code",
   "execution_count": 5,
   "id": "2741d7b0",
   "metadata": {},
   "outputs": [
    {
     "name": "stdout",
     "output_type": "stream",
     "text": [
      "tensor(0.0306) tensor(1.) 12\n"
     ]
    }
   ],
   "source": [
    "\n",
    "# instance = loss_dict['G0_acc'].argmax().item()\n",
    "instance = loss_dict['G0_loss'].argmin().item()\n",
    "# instance = (loss_dict['G0_acc'] > 0.999).nonzero()[11]\n",
    "# instance = 2\n",
    "print(loss_dict[f'G0_loss'][instance], loss_dict[f'G0_acc'][instance], instance)\n",
    "model = models[-1][instance].to(device)"
   ]
  },
  {
   "cell_type": "code",
   "execution_count": 34,
   "id": "cdb4b1cf",
   "metadata": {},
   "outputs": [
    {
     "data": {
      "text/plain": [
       "(tensor(17.6622),\n",
       " tensor(17.6451),\n",
       " tensor(2.7431),\n",
       " tensor(93.6273),\n",
       " tensor(93.5545),\n",
       " tensor(9.5807))"
      ]
     },
     "execution_count": 34,
     "metadata": {},
     "output_type": "execute_result"
    }
   ],
   "source": [
    "norm12 = lambda A: A.norm(dim=0).max()  # max 2-norm along group dimension\n",
    "# note: norm2inf in the correct one to use for both embed and unembed. bc of how the transposes work\n",
    "norm2inf = lambda A: A.norm(dim=1).max()  # max 2-norm along neuron dimension\n",
    "norm22 = lambda A: t.linalg.matrix_norm(A, ord=2)\n",
    "\n",
    "ln, rn, un = model.get_neurons(True)\n",
    "norm21(ln), norm21(rn), norm21(un), norm22(ln), norm22(rn), norm22(un)"
   ]
  },
  {
   "cell_type": "code",
   "execution_count": 35,
   "id": "e4b58df6",
   "metadata": {},
   "outputs": [
    {
     "data": {
      "text/plain": [
       "(tensor(0.7908), tensor(8.4623))"
      ]
     },
     "execution_count": 35,
     "metadata": {},
     "output_type": "execute_result"
    }
   ],
   "source": [
    "norm2inf(un) * (norm2inf(ln - ln_ideal) + norm2inf(rn - rn_ideal)), norm2inf(un - un_ideal) * (norm2inf(ln) + norm2inf(rn))"
   ]
  },
  {
   "cell_type": "code",
   "execution_count": 7,
   "id": "148d1f75",
   "metadata": {},
   "outputs": [],
   "source": [
    "irreps, irrep_idx_dict = get_neuron_irreps(model, group, norm_thresh=1)"
   ]
  },
  {
   "cell_type": "code",
   "execution_count": 8,
   "id": "1919afd1",
   "metadata": {},
   "outputs": [],
   "source": [
    "sign = irreps['1d-0'].squeeze(-1)\n",
    "sign = sign / sign.norm()\n",
    "proj = t.eye(120) - sign @ sign.T"
   ]
  },
  {
   "cell_type": "code",
   "execution_count": 9,
   "id": "36f7cc82",
   "metadata": {},
   "outputs": [
    {
     "name": "stdout",
     "output_type": "stream",
     "text": [
      "1d-0\n",
      "1-r2 90th percentile 0.0\n",
      "a variance: 0.0\n",
      "b variance: 1.0\n",
      "c variance: 1.0\n",
      "d variance: 0.0\n",
      "a vs d tensor(0.)\n",
      "2 0.0\n",
      "2 0.0\n",
      "b has 2 clusters with total loss 0.0\n",
      "c has 2 clusters with total loss 0.0\n",
      "b_parts [[0, 1]]\n",
      "c_parts [[0, 1]]\n",
      "a_mean tensor([1.])\n",
      "b_mean tensor([[-1.],\n",
      "        [ 1.]])\n",
      "c_mean tensor([[-1.],\n",
      "        [ 1.]])\n",
      "b_labels tensor([1, 1, 0, 0], dtype=torch.int32)\n",
      "c_labels tensor([0, 1, 0, 1], dtype=torch.int32)\n",
      "coef diff tensor(2.2553e-06)\n",
      "dict_keys(['1d-0'])\n",
      "\n",
      "4d-0\n",
      "5d-0\n",
      "6d-0\n",
      "5d-1\n",
      "4d-1\n",
      "1-r2 90th percentile 0.0003428685595281422\n",
      "a variance: 1.0489316792927639e-07\n",
      "b variance: 0.9999996423721313\n",
      "c variance: 0.9999998211860657\n",
      "d variance: 8.395662121074565e-08\n",
      "a vs d tensor(4.6905e-07)\n",
      "2 2250.027587890625\n",
      "3 1500.055419921875\n",
      "4 750.0839233398438\n",
      "2 2250.03955078125\n",
      "3 1500.080322265625\n",
      "4 750.121337890625\n",
      "b has 5 clusters with total loss 0.11231588572263718\n",
      "c has 5 clusters with total loss 0.16189686954021454\n",
      "b_parts [[0, 1, 2, 3, 4]]\n",
      "c_parts [[0, 1, 2, 3, 4]]\n",
      "a_mean tensor([ 0.3751,  0.3751, -0.2517, -0.8095])\n",
      "b_mean tensor([[ 0.1688, -0.0747, -0.9253,  0.3312],\n",
      "        [ 0.6882, -0.1625,  0.1625, -0.6882],\n",
      "        [-0.7629, -0.5941,  0.0941, -0.2371],\n",
      "        [ 0.2371, -0.0941,  0.5941,  0.7629],\n",
      "        [-0.3312,  0.9253,  0.0747, -0.1688]])\n",
      "c_mean tensor([[-0.1688,  0.0747,  0.9253, -0.3312],\n",
      "        [ 0.3312, -0.9253, -0.0747,  0.1688],\n",
      "        [-0.6882,  0.1625, -0.1625,  0.6882],\n",
      "        [ 0.7628,  0.5941, -0.0941,  0.2371],\n",
      "        [-0.2371,  0.0941, -0.5941, -0.7628]])\n",
      "[0, 1, 2, 3, 4] coef_sum tensor([6.8483, 6.8587, 6.7948, 6.8290, 6.8086, 6.8558, 6.8340, 6.8829, 6.8353,\n",
      "        6.8270, 6.8145, 6.8135, 6.8671, 6.7878, 6.8544, 6.8286, 6.7917, 6.8262,\n",
      "        6.8689, 6.8261, 6.8364, 6.8867, 6.7939, 6.8766, 6.8363])\n",
      "[0, 1, 2, 3, 4] coef_mean tensor(6.8353)\n",
      "b_labels tensor([2, 0, 3, 1, 1, 4, 0, 4, 1, 1, 4, 3, 4, 2, 3, 2, 0, 3, 4, 2, 1, 2, 0, 3,\n",
      "        0], dtype=torch.int32)\n",
      "c_labels tensor([4, 1, 1, 2, 0, 0, 4, 2, 4, 1, 3, 0, 1, 1, 2, 2, 3, 4, 4, 3, 3, 0, 2, 3,\n",
      "        0], dtype=torch.int32)\n",
      "coef diff tensor(1.6877e-05)\n",
      "dict_keys(['1d-0', '4d-1'])\n",
      "\n",
      "1d-1\n"
     ]
    }
   ],
   "source": [
    "vecs = get_neuron_vecs(model, group, irreps, irrep_idx_dict, strict=False)"
   ]
  },
  {
   "cell_type": "code",
   "execution_count": 10,
   "id": "a07f25fb",
   "metadata": {},
   "outputs": [],
   "source": [
    "coef, A_norm, a_mean, b_mean, c_mean, b_labels, c_labels, b_parts, c_parts = vecs['4d-1']"
   ]
  },
  {
   "cell_type": "code",
   "execution_count": 11,
   "id": "c892e9db",
   "metadata": {},
   "outputs": [
    {
     "name": "stdout",
     "output_type": "stream",
     "text": [
      "1d-0\n",
      "l diff tensor(1.8304e-05)\n",
      "r diff tensor(1.3973e-05)\n",
      "u diff tensor(0.0017)\n",
      "4d-1\n",
      "l diff tensor(2.6048e-05)\n",
      "r diff tensor(2.6962e-05)\n",
      "u diff tensor(0.0022)\n",
      "total\n",
      "l diff tensor(3.9443e-05)\n",
      "r diff tensor(3.9808e-05)\n",
      "u diff tensor(0.0023)\n"
     ]
    }
   ],
   "source": [
    "ideal = get_idealized_model(model, irreps, irrep_idx_dict, vecs)"
   ]
  },
  {
   "cell_type": "code",
   "execution_count": 12,
   "id": "d109f225",
   "metadata": {},
   "outputs": [],
   "source": [
    "norm2inf = lambda A: A.norm(dim=1, p=2).max()"
   ]
  },
  {
   "cell_type": "code",
   "execution_count": null,
   "id": "733e64fa",
   "metadata": {},
   "outputs": [],
   "source": [
    "norm2inf(un) * norm12"
   ]
  },
  {
   "cell_type": "code",
   "execution_count": 13,
   "id": "c790cd4f",
   "metadata": {},
   "outputs": [],
   "source": [
    "ln, rn, un = model.get_neurons(True)\n",
    "ln_ideal, rn_ideal, un_ideal = ideal.get_neurons(True)"
   ]
  },
  {
   "cell_type": "code",
   "execution_count": 14,
   "id": "c67121aa",
   "metadata": {},
   "outputs": [
    {
     "data": {
      "text/plain": [
       "tensor(1.0330)"
      ]
     },
     "execution_count": 14,
     "metadata": {},
     "output_type": "execute_result"
    }
   ],
   "source": [
    "embed_diff_mean = 0\n",
    "for i in range(len(group)):\n",
    "    for j in range(len(group)):\n",
    "        embed_diff_mean += (t.maximum(t.zeros_like(ln[i]), ln[i] + rn[j]) - t.maximum(t.zeros_like(ln[i]), ln_ideal[i] + rn_ideal[j])).norm()\n",
    "embed_diff_mean /= len(group)**2\n",
    "embed_diff_mean * t.linalg.matrix_norm(un_ideal, ord=2)"
   ]
  },
  {
   "cell_type": "code",
   "execution_count": 178,
   "id": "91021128",
   "metadata": {},
   "outputs": [
    {
     "data": {
      "text/plain": [
       "tensor(7.2014)"
      ]
     },
     "execution_count": 178,
     "metadata": {},
     "output_type": "execute_result"
    }
   ],
   "source": [
    "embed_mean = 0\n",
    "for i in range(len(group)):\n",
    "    for j in range(len(group)):\n",
    "        embed_mean += t.maximum(t.zeros_like(ln[i]), ln[i] + rn[j]).norm()\n",
    "embed_mean /= len(group)**2\n",
    "# ((un - un_ideal) @ embed_mean).norm()\n",
    "embed_mean * t.linalg.matrix_norm(un - un_ideal, ord=2)"
   ]
  },
  {
   "cell_type": "code",
   "execution_count": 16,
   "id": "7e4263f8",
   "metadata": {},
   "outputs": [
    {
     "data": {
      "image/png": "[encoded data removed]",
      "text/plain": [
       "<Figure size 640x480 with 1 Axes>"
      ]
     },
     "metadata": {},
     "output_type": "display_data"
    }
   ],
   "source": [
    "diff_infs = []\n",
    "u_norm = norm2inf(un_ideal)\n",
    "u_diff_norm = norm2inf(un_ideal - un)\n",
    "for i, j in product(range(len(group)), repeat=2):\n",
    "    diff_infs.append(\n",
    "        u_norm * (t.maximum(t.zeros_like(ln[i]), ln[i] + rn[j]) - t.maximum(t.zeros_like(ln[i]), ln_ideal[i] + rn_ideal[j])).norm().item()\n",
    "        + u_diff_norm * t.maximum(t.zeros_like(ln[i]), ln[i] + rn[j]).norm().item()\n",
    "    )\n",
    "plt.hist(diff_infs)\n",
    "plt.show()"
   ]
  },
  {
   "cell_type": "code",
   "execution_count": 179,
   "id": "c0b882b5",
   "metadata": {},
   "outputs": [
    {
     "data": {
      "text/plain": [
       "tensor(1.3876)"
      ]
     },
     "execution_count": 179,
     "metadata": {},
     "output_type": "execute_result"
    }
   ],
   "source": [
    "t.linalg.matrix_norm(un - un_ideal)"
   ]
  },
  {
   "cell_type": "code",
   "execution_count": 180,
   "id": "61104811",
   "metadata": {},
   "outputs": [
    {
     "data": {
      "text/plain": [
       "tensor(0.0944)"
      ]
     },
     "execution_count": 180,
     "metadata": {},
     "output_type": "execute_result"
    }
   ],
   "source": [
    "(un - un_ideal).max()"
   ]
  },
  {
   "cell_type": "code",
   "execution_count": 181,
   "id": "24585a35",
   "metadata": {},
   "outputs": [
    {
     "data": {
      "text/plain": [
       "<matplotlib.image.AxesImage at 0x70230ad75ff0>"
      ]
     },
     "execution_count": 181,
     "metadata": {},
     "output_type": "execute_result"
    },
    {
     "data": {
      "image/png": "[encoded data removed]",
      "text/plain": [
       "<Figure size 640x480 with 1 Axes>"
      ]
     },
     "metadata": {},
     "output_type": "display_data"
    }
   ],
   "source": [
    "plt.imshow(un - un_ideal)"
   ]
  },
  {
   "cell_type": "code",
   "execution_count": 182,
   "id": "23a68595",
   "metadata": {},
   "outputs": [
    {
     "name": "stdout",
     "output_type": "stream",
     "text": [
      "l diff tensor(0.1433)\n",
      "r diff tensor(0.1450)\n",
      "u diff tensor(0.4098)\n",
      "l norm tensor(17.6622)\n",
      "r norm tensor(17.6451)\n",
      "u norm tensor(9.5807)\n",
      "u diff term tensor(14.4091)\n",
      "lr diff term tensor(2.7619)\n"
     ]
    },
    {
     "data": {
      "text/plain": [
       "tensor(17.1710)"
      ]
     },
     "execution_count": 182,
     "metadata": {},
     "output_type": "execute_result"
    }
   ],
   "source": [
    "model_dist(model, ideal)"
   ]
  },
  {
   "cell_type": "code",
   "execution_count": 183,
   "id": "760ea318",
   "metadata": {},
   "outputs": [
    {
     "data": {
      "text/plain": [
       "tensor(78.4520)"
      ]
     },
     "execution_count": 183,
     "metadata": {},
     "output_type": "execute_result"
    }
   ],
   "source": [
    "model_dist2(model, ideal)"
   ]
  },
  {
   "cell_type": "code",
   "execution_count": 30,
   "id": "8e2fbace",
   "metadata": {},
   "outputs": [],
   "source": [
    "ubias = model.unembed_bias.detach().T"
   ]
  },
  {
   "cell_type": "code",
   "execution_count": 31,
   "id": "39cd1a6b",
   "metadata": {},
   "outputs": [
    {
     "data": {
      "text/plain": [
       "tensor(0.0165)"
      ]
     },
     "execution_count": 31,
     "metadata": {},
     "output_type": "execute_result"
    }
   ],
   "source": [
    "(proj @ ubias).norm()**2 / ubias.norm()**2"
   ]
  },
  {
   "cell_type": "code",
   "execution_count": 33,
   "id": "a0a6ec4e",
   "metadata": {},
   "outputs": [
    {
     "data": {
      "text/plain": [
       "tensor(0.4138)"
      ]
     },
     "execution_count": 33,
     "metadata": {},
     "output_type": "execute_result"
    }
   ],
   "source": [
    "(proj @ ubias).max()"
   ]
  },
  {
   "cell_type": "code",
   "execution_count": 187,
   "id": "fe581cb0",
   "metadata": {},
   "outputs": [
    {
     "data": {
      "text/plain": [
       "tensor(9.6728)"
      ]
     },
     "execution_count": 187,
     "metadata": {},
     "output_type": "execute_result"
    }
   ],
   "source": [
    "ubias.norm()"
   ]
  },
  {
   "cell_type": "code",
   "execution_count": 28,
   "id": "16323c14",
   "metadata": {},
   "outputs": [
    {
     "data": {
      "text/plain": [
       "tensor(0.9972)"
      ]
     },
     "execution_count": 28,
     "metadata": {},
     "output_type": "execute_result"
    }
   ],
   "source": [
    "(proj @ (un - un_ideal)).norm()**2 / (un - un_ideal).norm()**2"
   ]
  },
  {
   "cell_type": "code",
   "execution_count": 97,
   "id": "d78db3df",
   "metadata": {},
   "outputs": [
    {
     "data": {
      "text/plain": [
       "9.172009468078613"
      ]
     },
     "execution_count": 97,
     "metadata": {},
     "output_type": "execute_result"
    }
   ],
   "source": [
    "d = model_dist_inf(model, ideal).item()\n",
    "d"
   ]
  },
  {
   "cell_type": "code",
   "execution_count": 26,
   "id": "f3855fe4",
   "metadata": {},
   "outputs": [
    {
     "data": {
      "text/plain": [
       "tensor([14.7863,  0.3687,  3.5531,  5.7806,  5.7806,  6.1901,  0.3691, -3.2249,\n",
       "         5.7809, -8.6367, -2.8153,  2.5965,  5.7809, -2.8153,  6.1904,  2.5965,\n",
       "         8.4179, -2.8153, -8.6367,  2.5965,  2.5965, -2.8153, -2.8153, -3.2249,\n",
       "         3.2806, -0.3133,  2.8711, -5.7251, -5.7251,  5.5081,  5.7809, -8.6367,\n",
       "        -2.5407, -3.2249, -0.3133, -2.8153,  0.3691,  2.5965,  8.6925, -2.8153,\n",
       "         0.0963,  2.5965, -3.2249, -2.8153, -5.7251,  2.5965, -0.3133, -8.6367,\n",
       "         5.7809, -8.6367,  0.3691, -3.2249,  2.5965, -2.8153,  6.4629,  2.8690,\n",
       "         8.9649, -2.5429,  0.3687,  8.6904,  8.6907, -5.7269,  0.3691, -0.3151,\n",
       "         2.5965,  0.0945, -5.7269, -0.3151, -3.2249, -5.7269, -8.6367, -0.3151,\n",
       "        -2.5407, -0.3133,  8.6925, -5.7251,  0.0963, -0.3133,  8.9649,  0.3687,\n",
       "         6.4647,  5.7806,  8.6922,  0.3687,  0.3691, -3.2249,  2.8711, -8.6367,\n",
       "        -5.7251,  2.5965,  2.5965, -8.6367, -5.7251, -3.2249, -0.3133, -2.8153,\n",
       "        -3.2249, -2.8153, -2.8153,  2.5965,  2.5965, -8.6367, -2.5429,  8.6903,\n",
       "         5.7805,  3.2785,  0.3687,  2.8690, -0.3151, -5.7269, -8.6367, -0.3151,\n",
       "        -3.2249, -5.7269,  0.0944, -0.3151,  2.5965, -5.7269, -2.8153,  5.5063],\n",
       "       grad_fn=<ViewBackward0>)"
      ]
     },
     "execution_count": 26,
     "metadata": {},
     "output_type": "execute_result"
    }
   ],
   "source": [
    "out = ideal(t.tensor([[2, 2]])).flatten()\n",
    "out\n",
    "# ((out.max() - out) > d).float().mean()"
   ]
  },
  {
   "cell_type": "code",
   "execution_count": 27,
   "id": "4da912cc",
   "metadata": {},
   "outputs": [
    {
     "data": {
      "text/plain": [
       "tensor(5.8214, grad_fn=<SubBackward0>)"
      ]
     },
     "execution_count": 27,
     "metadata": {},
     "output_type": "execute_result"
    }
   ],
   "source": [
    "out.topk(k=2).values[0] - out.topk(k=2).values[1]"
   ]
  },
  {
   "cell_type": "code",
   "execution_count": 158,
   "id": "98a1ed87",
   "metadata": {},
   "outputs": [],
   "source": [
    "loss = lambda x: -t.log(t.exp(x[0]) / t.exp(x).sum())"
   ]
  },
  {
   "cell_type": "code",
   "execution_count": 159,
   "id": "9c56a151",
   "metadata": {},
   "outputs": [
    {
     "name": "stderr",
     "output_type": "stream",
     "text": [
      "100%|██████████| 1000000/1000000 [00:20<00:00, 49350.99it/s]\n"
     ]
    },
    {
     "data": {
      "text/plain": [
       "(0.0010046042734757066, 0.0495346337556839)"
      ]
     },
     "execution_count": 159,
     "metadata": {},
     "output_type": "execute_result"
    }
   ],
   "source": [
    "max_loss = 0\n",
    "for _ in tqdm(range(1000000)):\n",
    "    err = t.randn_like(out)#.sign() * 11\n",
    "    err = err / err.norm() * 8.3\n",
    "    max_loss = max(max_loss, loss(out + err).item())\n",
    "loss(out).item(), max_loss"
   ]
  },
  {
   "cell_type": "code",
   "execution_count": 31,
   "id": "6349a469",
   "metadata": {},
   "outputs": [
    {
     "ename": "NameError",
     "evalue": "name 'part_idxs' is not defined",
     "output_type": "error",
     "traceback": [
      "\u001b[0;31m---------------------------------------------------------------------------\u001b[0m",
      "\u001b[0;31mNameError\u001b[0m                                 Traceback (most recent call last)",
      "Cell \u001b[0;32mIn[31], line 5\u001b[0m\n\u001b[1;32m      3\u001b[0m ln1, rn1, un1 \u001b[38;5;241m=\u001b[39m model\u001b[38;5;241m.\u001b[39mget_neurons()\n\u001b[1;32m      4\u001b[0m ln2, rn2, un2 \u001b[38;5;241m=\u001b[39m ideal\u001b[38;5;241m.\u001b[39mget_neurons()\n\u001b[0;32m----> 5\u001b[0m ln1, rn1, un1 \u001b[38;5;241m=\u001b[39m ln1[:,:, \u001b[43mpart_idxs\u001b[49m], rn1[:,:, part_idxs], un1[:,:, part_idxs]\n\u001b[1;32m      6\u001b[0m ln2, rn2, un2 \u001b[38;5;241m=\u001b[39m ln2[:,:, part_idxs], rn2[:,:, part_idxs], un2[:,:, part_idxs]\n\u001b[1;32m      7\u001b[0m ln_noise \u001b[38;5;241m=\u001b[39m t\u001b[38;5;241m.\u001b[39mrandn_like(ln1)\n",
      "\u001b[0;31mNameError\u001b[0m: name 'part_idxs' is not defined"
     ]
    }
   ],
   "source": [
    "model = model.fold_linear()\n",
    "# ideal = ideal.fold_linear()\n",
    "ln1, rn1, un1 = model.get_neurons()\n",
    "ln2, rn2, un2 = ideal.get_neurons()\n",
    "ln1, rn1, un1 = ln1[:,:, part_idxs], rn1[:,:, part_idxs], un1[:,:, part_idxs]\n",
    "ln2, rn2, un2 = ln2[:,:, part_idxs], rn2[:,:, part_idxs], un2[:,:, part_idxs]\n",
    "ln_noise = t.randn_like(ln1)\n",
    "ln_noise = ln_noise / ln_noise.norm() * (ln1 - ln2).norm()\n",
    "rn_noise = t.randn_like(rn1)\n",
    "rn_noise = rn_noise / rn_noise.norm() * (rn1 - rn2).norm()\n",
    "un_noise = t.randn_like(un1)\n",
    "un_noise = un_noise / un_noise.norm() * (un1 - un2).norm()\n",
    "ln3, rn3, un3 = ln2 + ln_noise, rn2 + rn_noise, un2 + un_noise"
   ]
  },
  {
   "cell_type": "code",
   "execution_count": 15,
   "id": "10a97909",
   "metadata": {},
   "outputs": [
    {
     "data": {
      "text/plain": [
       "(tensor(27.0105), tensor(26.9070))"
      ]
     },
     "execution_count": 15,
     "metadata": {},
     "output_type": "execute_result"
    }
   ],
   "source": [
    "un1.norm(), un2.norm() "
   ]
  },
  {
   "cell_type": "code",
   "execution_count": 20,
   "id": "89cd0846",
   "metadata": {},
   "outputs": [],
   "source": [
    "noise_model = copy.deepcopy(model)\n",
    "noise_model.embedding_left = nn.Parameter(ln3)\n",
    "noise_model.embedding_right = nn.Parameter(rn3)\n",
    "noise_model.unembedding = nn.Parameter(un3.mT)"
   ]
  },
  {
   "cell_type": "code",
   "execution_count": 21,
   "id": "8f1e6cfd",
   "metadata": {},
   "outputs": [
    {
     "data": {
      "text/plain": [
       "{'G0_loss': tensor([0.2678]),\n",
       " 'G0_loss_std': tensor([0.1247]),\n",
       " 'G0_acc': tensor([1.])}"
      ]
     },
     "execution_count": 21,
     "metadata": {},
     "output_type": "execute_result"
    }
   ],
   "source": [
    "test_loss(noise_model, data)"
   ]
  },
  {
   "cell_type": "code",
   "execution_count": 57,
   "id": "4d9598d0",
   "metadata": {},
   "outputs": [
    {
     "data": {
      "text/plain": [
       "({'G0_loss': tensor([0.1731]),\n",
       "  'G0_loss_std': tensor([0.1883]),\n",
       "  'G0_acc': tensor([0.9990])},\n",
       " {'G0_loss': tensor([0.1231]),\n",
       "  'G0_loss_std': tensor([0.0968]),\n",
       "  'G0_acc': tensor([1.])},\n",
       " {'G0_loss': tensor([0.0296]),\n",
       "  'G0_loss_std': tensor([0.0080]),\n",
       "  'G0_acc': tensor([1.])})"
      ]
     },
     "execution_count": 57,
     "metadata": {},
     "output_type": "execute_result"
    }
   ],
   "source": [
    "test_loss(noise_model, data), test_loss(ideal, data),  test_loss(model, data)"
   ]
  },
  {
   "cell_type": "code",
   "execution_count": 29,
   "id": "2957f7f6",
   "metadata": {},
   "outputs": [
    {
     "data": {
      "text/plain": [
       "tensor(151.1256)"
      ]
     },
     "execution_count": 29,
     "metadata": {},
     "output_type": "execute_result"
    }
   ],
   "source": [
    "model_dist2(model, ideal)#, irrep_idx_dict, vecs)"
   ]
  },
  {
   "cell_type": "code",
   "execution_count": 28,
   "id": "6495fa46",
   "metadata": {},
   "outputs": [
    {
     "ename": "TypeError",
     "evalue": "'float' object is not iterable",
     "output_type": "error",
     "traceback": [
      "\u001b[0;31m---------------------------------------------------------------------------\u001b[0m",
      "\u001b[0;31mTypeError\u001b[0m                                 Traceback (most recent call last)",
      "Cell \u001b[0;32mIn[28], line 1\u001b[0m\n\u001b[0;32m----> 1\u001b[0m \u001b[38;5;28;43msorted\u001b[39;49m\u001b[43m(\u001b[49m\u001b[43mdist\u001b[49m\u001b[38;5;241;43m.\u001b[39;49m\u001b[43mtolist\u001b[49m\u001b[43m(\u001b[49m\u001b[43m)\u001b[49m\u001b[43m)\u001b[49m\n",
      "\u001b[0;31mTypeError\u001b[0m: 'float' object is not iterable"
     ]
    }
   ],
   "source": [
    "sorted(dist.tolist())"
   ]
  },
  {
   "cell_type": "code",
   "execution_count": 44,
   "id": "d8d79911",
   "metadata": {},
   "outputs": [
    {
     "name": "stdout",
     "output_type": "stream",
     "text": [
      "1d-0\n",
      "l diff tensor(0.1423)\n",
      "r diff tensor(0.1301)\n",
      "u diff tensor(0.1309)\n",
      "l norm tensor(37.6832)\n",
      "r norm tensor(37.6227)\n",
      "u norm tensor(8.6710)\n",
      "12.21975326538086\n",
      "4d-1\n",
      "l diff tensor(0.5003)\n",
      "r diff tensor(0.4084)\n",
      "u diff tensor(2.0580)\n",
      "l norm tensor(37.3536)\n",
      "r norm tensor(37.2156)\n",
      "u norm tensor(6.8900)\n",
      "159.40463256835938\n",
      "4d-1\n",
      "l diff tensor(0.)\n",
      "r diff tensor(0.)\n",
      "u diff tensor(1.4427)\n",
      "l norm tensor(8.8416)\n",
      "r norm tensor(8.7849)\n",
      "u norm tensor(1.4427)\n",
      "25.430316925048828\n"
     ]
    },
    {
     "data": {
      "text/plain": [
       "197.05470275878906"
      ]
     },
     "execution_count": 44,
     "metadata": {},
     "output_type": "execute_result"
    }
   ],
   "source": [
    "model_dist_parted(model, ideal, irrep_idx_dict, vecs)"
   ]
  },
  {
   "cell_type": "code",
   "execution_count": 37,
   "id": "0313a70e",
   "metadata": {},
   "outputs": [],
   "source": []
  },
  {
   "cell_type": "code",
   "execution_count": 32,
   "id": "965af78d",
   "metadata": {},
   "outputs": [],
   "source": [
    "_, _, un1 = model.get_neurons(True)\n",
    "_, _, un2 = ideal.get_neurons(True)"
   ]
  },
  {
   "cell_type": "code",
   "execution_count": 43,
   "id": "7e559231",
   "metadata": {},
   "outputs": [
    {
     "data": {
      "text/plain": [
       "tensor(0.5175)"
      ]
     },
     "execution_count": 43,
     "metadata": {},
     "output_type": "execute_result"
    }
   ],
   "source": [
    "((un1 - un2).norm(dim=0))[part_idxs].max() #/ un1.norm(dim=0))[part_idxs]"
   ]
  },
  {
   "cell_type": "code",
   "execution_count": 61,
   "id": "4e224472",
   "metadata": {},
   "outputs": [
    {
     "data": {
      "text/plain": [
       "tensor([3.9519e-01, 1.9263e+00, 2.7491e-02, 0.0000e+00, 2.0834e-03, 2.9060e-02,\n",
       "        3.0195e-01, 4.8089e-01, 1.3822e+00, 2.9299e-01, 5.6391e-04, 1.7642e+00,\n",
       "        4.3101e-01, 2.3929e-01, 3.8706e-04, 1.8467e-01, 3.0984e-01, 6.9950e-03,\n",
       "        1.4025e+00, 1.1464e-01, 0.0000e+00, 2.8585e-01, 1.7904e+00, 2.1838e-01,\n",
       "        1.2053e-04, 4.7698e-01, 1.7771e+00, 4.6449e-02, 1.2915e-04, 1.2651e-01,\n",
       "        4.9187e-03, 1.3275e-01, 1.5971e+00, 8.5666e-02, 4.7559e-01, 0.0000e+00,\n",
       "        9.9433e-02, 3.8776e-01, 1.8291e+00, 8.8188e-01, 9.8395e-02, 1.2016e-04,\n",
       "        0.0000e+00, 4.6339e-01, 3.0990e-02, 1.6035e-02, 4.7704e-01, 1.9921e-03,\n",
       "        4.4426e-01, 3.2006e-01, 2.2652e-01, 1.8414e+00, 1.0796e+00, 1.7409e-02,\n",
       "        8.8652e-02, 4.2277e-01, 1.8674e+00, 1.2950e-03, 4.2510e-01, 4.7889e-01,\n",
       "        1.8257e+00, 8.6694e-02, 8.8028e-02, 4.6159e-01, 1.5211e+00, 1.6752e+00,\n",
       "        1.5701e-02, 1.8629e+00, 4.4153e-01, 3.2458e-01, 1.3208e-03, 4.6803e-02,\n",
       "        0.0000e+00, 1.5985e-03, 1.2449e+00, 2.9418e-02, 1.6917e+00, 1.8397e+00,\n",
       "        0.0000e+00, 8.6495e-02, 1.3606e-02, 4.0674e-02, 0.0000e+00, 3.5842e-03,\n",
       "        2.8532e-03, 3.9908e-01, 1.0359e-01, 1.0639e+00, 4.8188e-01, 1.4355e+00,\n",
       "        4.6896e-02, 4.5818e-01, 4.6008e-01, 4.4927e-01, 1.8827e+00, 4.5930e-01,\n",
       "        1.7180e+00, 9.2255e-02, 2.0710e+00, 1.4968e-03, 2.0832e-01, 1.6867e+00,\n",
       "        7.7332e-04, 1.6796e+00, 1.0538e-02, 2.3799e-01, 2.3802e-02, 9.8076e-01,\n",
       "        2.0045e+00, 4.3481e-01, 1.7120e-05, 9.9002e-04, 4.6180e-01, 1.0661e-01,\n",
       "        2.3341e-02, 8.9384e-02, 3.4720e-04, 2.6038e-01, 1.3358e-01, 2.5623e-02,\n",
       "        4.5532e-01, 3.5525e-02, 4.5902e-03, 6.2850e-04, 4.6586e-01, 1.7212e+00,\n",
       "        5.4579e-05, 1.2046e-01], grad_fn=<LinalgVectorNormBackward0>)"
      ]
     },
     "execution_count": 61,
     "metadata": {},
     "output_type": "execute_result"
    }
   ],
   "source": [
    "(ideal.unembedding - model.unembedding)[0].norm(dim=1)"
   ]
  },
  {
   "cell_type": "code",
   "execution_count": 43,
   "id": "e1b8b998",
   "metadata": {},
   "outputs": [
    {
     "data": {
      "text/plain": [
       "(tensor([-0.9858,  0.2464,  0.2464,  0.2464,  0.2464, -0.9858, -0.9858,  0.2464,\n",
       "          0.2464,  0.2464,  0.2464, -0.9858,  0.2464,  0.2464,  0.2464],\n",
       "        grad_fn=<SliceBackward0>),\n",
       " tensor([-0.9570,  0.1998,  0.2163,  0.2846,  0.2874, -1.0399, -1.0421,  0.2721,\n",
       "          0.2724,  0.2598,  0.1809, -0.9766,  0.2939,  0.1614,  0.2129],\n",
       "        grad_fn=<SliceBackward0>))"
      ]
     },
     "execution_count": 43,
     "metadata": {},
     "output_type": "execute_result"
    }
   ],
   "source": [
    "ideal.unembedding[0, part_idxs[4], :15], model.unembedding[0, part_idxs[4], :15]"
   ]
  },
  {
   "cell_type": "code",
   "execution_count": 37,
   "id": "e02c64a9",
   "metadata": {},
   "outputs": [
    {
     "data": {
      "text/plain": [
       "65"
      ]
     },
     "execution_count": 37,
     "metadata": {},
     "output_type": "execute_result"
    }
   ],
   "source": [
    "irrep_idx_dict['4d-1'].index(88)"
   ]
  },
  {
   "cell_type": "code",
   "execution_count": 38,
   "id": "955ce75c",
   "metadata": {},
   "outputs": [
    {
     "data": {
      "text/plain": [
       "(tensor(5, dtype=torch.int32), tensor(5, dtype=torch.int32))"
      ]
     },
     "execution_count": 38,
     "metadata": {},
     "output_type": "execute_result"
    }
   ],
   "source": [
    "b_labels[65], c_labels[65]"
   ]
  },
  {
   "cell_type": "code",
   "execution_count": 12,
   "id": "a782e6da",
   "metadata": {},
   "outputs": [],
   "source": [
    "from coset_bounds import model_dist as cdist"
   ]
  },
  {
   "cell_type": "code",
   "execution_count": 15,
   "id": "49bebdde",
   "metadata": {},
   "outputs": [
    {
     "name": "stdout",
     "output_type": "stream",
     "text": [
      "l diff tensor(0.5003)\n",
      "r diff tensor(0.4084)\n",
      "u diff tensor(2.0830)\n",
      "l norm tensor(37.6832)\n",
      "r norm tensor(37.6227)\n",
      "u norm tensor(8.9174)\n"
     ]
    },
    {
     "data": {
      "text/plain": [
       "tensor(164.9650)"
      ]
     },
     "execution_count": 15,
     "metadata": {},
     "output_type": "execute_result"
    }
   ],
   "source": [
    "cdist(model, ideal)"
   ]
  },
  {
   "cell_type": "code",
   "execution_count": 136,
   "id": "d6b2152c",
   "metadata": {},
   "outputs": [
    {
     "data": {
      "text/plain": [
       "(tensor(0., grad_fn=<LinalgVectorNormBackward0>),\n",
       " tensor(0.1013, grad_fn=<LinalgVectorNormBackward0>))"
      ]
     },
     "execution_count": 136,
     "metadata": {},
     "output_type": "execute_result"
    }
   ],
   "source": [
    "ideal.unembedding[0,5,:].norm(), model.unembedding[0,5,:].norm()"
   ]
  },
  {
   "cell_type": "code",
   "execution_count": 148,
   "id": "1985798d",
   "metadata": {},
   "outputs": [
    {
     "data": {
      "text/plain": [
       "tensor(88)"
      ]
     },
     "execution_count": 148,
     "metadata": {},
     "output_type": "execute_result"
    }
   ],
   "source": [
    "(ideal.unembedding[0] - model.unembedding[0]).norm(dim=1).argmax()"
   ]
  },
  {
   "cell_type": "code",
   "execution_count": 150,
   "id": "8ec03917",
   "metadata": {},
   "outputs": [
    {
     "data": {
      "text/plain": [
       "(tensor(0., grad_fn=<LinalgVectorNormBackward0>),\n",
       " tensor(1.2796, grad_fn=<LinalgVectorNormBackward0>))"
      ]
     },
     "execution_count": 150,
     "metadata": {},
     "output_type": "execute_result"
    }
   ],
   "source": [
    "ideal.unembedding[0,88].norm(), model.unembedding[0,88].norm()"
   ]
  },
  {
   "cell_type": "code",
   "execution_count": 154,
   "id": "97241f97",
   "metadata": {},
   "outputs": [
    {
     "data": {
      "text/plain": [
       "({'G0_loss': tensor([0.1231]),\n",
       "  'G0_loss_std': tensor([0.0968]),\n",
       "  'G0_acc': tensor([1.])},\n",
       " {'G0_loss': tensor([0.0296]),\n",
       "  'G0_loss_std': tensor([0.0080]),\n",
       "  'G0_acc': tensor([1.])})"
      ]
     },
     "execution_count": 154,
     "metadata": {},
     "output_type": "execute_result"
    }
   ],
   "source": [
    "test_loss(ideal, data), test_loss(model, data)"
   ]
  },
  {
   "cell_type": "code",
   "execution_count": 163,
   "id": "b039e8ad",
   "metadata": {},
   "outputs": [
    {
     "data": {
      "text/plain": [
       "tensor(15.5970, grad_fn=<MaxBackward1>)"
      ]
     },
     "execution_count": 163,
     "metadata": {},
     "output_type": "execute_result"
    }
   ],
   "source": [
    "ideal(t.tensor([[10, 15]])).max()"
   ]
  },
  {
   "cell_type": "code",
   "execution_count": 173,
   "id": "430b5564",
   "metadata": {},
   "outputs": [],
   "source": [
    "irrep_model = copy.deepcopy(ideal)\n",
    "irrep_name = '1d-0'\n",
    "irrep_model.embedding_left.data = ideal.embedding_left[:,:,irrep_idx_dict[irrep_name]]\n",
    "irrep_model.embedding_right.data = ideal.embedding_right[:,:,irrep_idx_dict[irrep_name]]\n",
    "irrep_model.unembedding.data = ideal.unembedding[:,irrep_idx_dict[irrep_name]]"
   ]
  },
  {
   "cell_type": "code",
   "execution_count": 171,
   "id": "84765338",
   "metadata": {},
   "outputs": [
    {
     "data": {
      "text/plain": [
       "{'G0_loss': tensor([0.2198]),\n",
       " 'G0_loss_std': tensor([4.2085e-07]),\n",
       " 'G0_acc': tensor([1.])}"
      ]
     },
     "execution_count": 171,
     "metadata": {},
     "output_type": "execute_result"
    }
   ],
   "source": [
    "test_loss(irrep_model, data)"
   ]
  },
  {
   "cell_type": "code",
   "execution_count": 180,
   "id": "27fce14f",
   "metadata": {},
   "outputs": [
    {
     "data": {
      "text/plain": [
       "tensor([[[-3.8460,  3.8460,  3.8460, -3.8460, -3.8460,  3.8460,  3.8460,\n",
       "          -3.8460, -3.8460,  3.8460,  3.8460, -3.8460, -3.8460,  3.8460,\n",
       "           3.8460, -3.8460, -3.8460,  3.8460,  3.8460, -3.8460, -3.8460,\n",
       "           3.8460,  3.8460, -3.8460,  3.8460, -3.8460, -3.8460,  3.8460,\n",
       "           3.8460, -3.8460, -3.8460,  3.8460,  3.8460, -3.8460, -3.8460,\n",
       "           3.8460,  3.8460, -3.8460, -3.8460,  3.8460,  3.8460, -3.8460,\n",
       "          -3.8460,  3.8460,  3.8460, -3.8460, -3.8460,  3.8460, -3.8460,\n",
       "           3.8460,  3.8460, -3.8460, -3.8460,  3.8460,  3.8460, -3.8460,\n",
       "          -3.8460,  3.8460,  3.8460, -3.8460, -3.8460,  3.8460,  3.8460,\n",
       "          -3.8460, -3.8460,  3.8460,  3.8460, -3.8460, -3.8460,  3.8460,\n",
       "           3.8460, -3.8460,  3.8460, -3.8460, -3.8460,  3.8460,  3.8460,\n",
       "          -3.8460, -3.8460,  3.8460,  3.8460, -3.8460, -3.8460,  3.8460,\n",
       "           3.8460, -3.8460, -3.8460,  3.8460,  3.8460, -3.8460, -3.8460,\n",
       "           3.8460,  3.8460, -3.8460, -3.8460,  3.8460, -3.8460,  3.8460,\n",
       "           3.8460, -3.8460, -3.8460,  3.8460,  3.8460, -3.8460, -3.8460,\n",
       "           3.8460,  3.8460, -3.8460, -3.8460,  3.8460,  3.8460, -3.8460,\n",
       "          -3.8460,  3.8460,  3.8460, -3.8460, -3.8460,  3.8460,  3.8460,\n",
       "          -3.8460]]], grad_fn=<ViewBackward0>)"
      ]
     },
     "execution_count": 180,
     "metadata": {},
     "output_type": "execute_result"
    }
   ],
   "source": [
    "irrep_model(t.tensor([[11, 17]]))"
   ]
  },
  {
   "cell_type": "code",
   "execution_count": 183,
   "id": "039e9587",
   "metadata": {},
   "outputs": [
    {
     "data": {
      "text/plain": [
       "tensor([[-0.5594,  0.5594,  0.5594, -0.5594, -0.5594,  0.5594,  0.5594, -0.5594,\n",
       "         -0.5594,  0.5594],\n",
       "        [-0.5598,  0.5598,  0.5598, -0.5598, -0.5598,  0.5598,  0.5598, -0.5598,\n",
       "         -0.5598,  0.5598],\n",
       "        [-0.0010,  0.0010,  0.0010, -0.0010, -0.0010,  0.0010,  0.0010, -0.0010,\n",
       "         -0.0010,  0.0010]], grad_fn=<SliceBackward0>)"
      ]
     },
     "execution_count": 183,
     "metadata": {},
     "output_type": "execute_result"
    }
   ],
   "source": [
    "irrep_model.unembedding[0,:,:10]"
   ]
  },
  {
   "cell_type": "code",
   "execution_count": null,
   "id": "aef39c06",
   "metadata": {},
   "outputs": [],
   "source": []
  }
 ],
 "metadata": {
  "kernelspec": {
   "display_name": "Python 3 (ipykernel)",
   "language": "python",
   "name": "python3"
  },
  "language_info": {
   "codemirror_mode": {
    "name": "ipython",
    "version": 3
   },
   "file_extension": ".py",
   "mimetype": "text/x-python",
   "name": "python",
   "nbconvert_exporter": "python",
   "pygments_lexer": "ipython3",
   "version": "3.10.12"
  }
 },
 "nbformat": 4,
 "nbformat_minor": 5
}
