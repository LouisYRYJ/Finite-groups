{
 "cells": [
  {
   "cell_type": "markdown",
   "id": "5398ebd2-48ab-423a-b560-92e9d2374a0b",
   "metadata": {},
   "source": [
    "### Setup"
   ]
  },
  {
   "cell_type": "code",
   "execution_count": 80,
   "id": "a71abab3",
   "metadata": {},
   "outputs": [],
   "source": [
    "import os, sys\n",
    "HOME = os.environ['HOME']  # change if necessary\n",
    "sys.path.append(f'{HOME}/Finite-groups/src')"
   ]
  },
  {
   "cell_type": "code",
   "execution_count": 81,
   "id": "c489f9fb",
   "metadata": {},
   "outputs": [
    {
     "name": "stdout",
     "output_type": "stream",
     "text": [
      "The autoreload extension is already loaded. To reload it, use:\n",
      "  %reload_ext autoreload\n"
     ]
    }
   ],
   "source": [
    "import torch as t\n",
    "import numpy as np\n",
    "from matplotlib import pyplot as plt\n",
    "import json\n",
    "from itertools import product\n",
    "from jaxtyping import Float\n",
    "from torch.utils.data import DataLoader\n",
    "from tqdm.notebook import tqdm\n",
    "import plotly.graph_objects as go\n",
    "import copy\n",
    "import math\n",
    "from itertools import product\n",
    "import pandas as pd\n",
    "from typing import Union\n",
    "from einops import repeat\n",
    "from huggingface_hub import snapshot_download\n",
    "from huggingface_hub.utils import disable_progress_bars\n",
    "\n",
    "\n",
    "from model import MLP3, MLP4, InstancedModule\n",
    "from utils import *\n",
    "from group_data import *\n",
    "from model_utils import *\n",
    "from group_utils import *\n",
    "from irrep_bounds import *\n",
    "%load_ext autoreload\n",
    "%autoreload 2"
   ]
  },
  {
   "cell_type": "code",
   "execution_count": 92,
   "id": "f6e6671b",
   "metadata": {},
   "outputs": [
    {
     "name": "stdout",
     "output_type": "stream",
     "text": [
      "Intersection size: 14400/14400 (1.00)\n",
      "Added 14400 elements from intersection\n",
      "Added 0 elements from group 0: gapS(5)\n",
      "Taking random subset: 5760/14400 (0.40)\n",
      "Train set size: 5760/14400 (0.40)\n"
     ]
    },
    {
     "name": "stderr",
     "output_type": "stream",
     "text": [
      "/home/wilson/Finite-groups/src/model_utils.py:50: FutureWarning: You are using `torch.load` with `weights_only=False` (the current default value), which uses the default pickle module implicitly. It is possible to construct malicious pickle data which will execute arbitrary code during unpickling (See https://github.com/pytorch/pytorch/blob/main/SECURITY.md#untrusted-models for more details). In a future release, the default value for `weights_only` will be flipped to `True`. This limits the functions that could be executed during unpickling. Arbitrary objects will no longer be allowed to be loaded via this mode unless they are explicitly allowlisted by the user via `torch.serialization.add_safe_globals`. We recommend you start setting `weights_only=True` for any use case where you don't have full control of the loaded file. Please open an issue on GitHub for any issues related to this experimental feature.\n",
      "  model = MODEL_DICT[params.model](params=params)\n"
     ]
    }
   ],
   "source": [
    "\n",
    "device = t.device(\"cuda\" if t.cuda.is_available() else \"cpu\")\n",
    "# MODEL_DIR = '2024-08-16_22-53-29_SL2_5_MLP3_256'\n",
    "# MODEL_DIR = '2024-08-14_21-24-30_gapS_5_'\n",
    "MODEL_DIR = '2024-09-17_17-05-38_gapS5_MLP3_128_wd2e-4_unembscale'\n",
    "# MODEL_DIR = '2024-09-16_05-00-33_gapS5_MLP2_128_adamw_wd1'\n",
    "# MODEL_DIR = '2024-09-13_03-46-47_gapS5_256_wd1e-3'\n",
    "# MODEL_DIR = '2024-09-13_21-56-07_gapS5_MLP2_256_adamw_wd1'\n",
    "# MODEL_DIR = '2024-08-27_16-32-46_Dic30_MLP3_128'\n",
    "# MODEL_DIR = '2024-08-27_23-16-05_F11_MLP3_256'\n",
    "# MODEL_DIR = '2024-09-02_18-17-20_smallgrp_54_8_MLP3_256_0_6'\n",
    "# MODEL_DIR = '2024-09-05_15-22-58_smallgrp_54_8_MLP3_1024_0_6'\n",
    "# MODEL_DIR = '2024-09-05_20-47-44_smallgrp_54_8_MLP3_1024_0_6_wd1e-6'\n",
    "# MODEL_DIR = '2024-09-02_18-51-29_smallgrp_96_71_MLP3_256_0_6'\n",
    "# MODEL_DIR = '2024-09-03_17-28-20_smallgrp_192_1025_MLP3_512_0_6'\n",
    "# MODEL_DIR = '2024-09-03_21-09-07_Z_59_128'\n",
    "disable_progress_bars()\n",
    "local_dir = f'{HOME}/models/{MODEL_DIR}'\n",
    "if not os.path.exists(local_dir):\n",
    "    snapshot_download(repo_id=f'wiwu2390/{MODEL_DIR}', local_dir=local_dir)\n",
    "models, params = load_models(local_dir)\n",
    "data = GroupData(params)\n",
    "group = data.groups[0]"
   ]
  },
  {
   "cell_type": "code",
   "execution_count": 93,
   "id": "8166497e",
   "metadata": {},
   "outputs": [
    {
     "data": {
      "text/plain": [
       "Parameters(instances=100, embed_dim=128, hidden_size=128, epochs=2000000, batch_size=64, batched=False, activation='relu', weight_decay=0.0002, lr=0.01, beta1=0.9, beta2=0.98, optimizer='adam', checkpoint=5000, name='gapS5_MLP3_128_wd2e-4_unembscale', seed=42, group_string='gapS(5)', intersect_frac=1.0, delta_frac=[0.0], train_frac=0.4, save_weights=True, save_losses=False, load_weights='', wandb=True, thresh_grok=0.95, project='group generalization', model='MLP3', unembed_bias=False, init_func='kaiming_uniform', correct_embed=False)"
      ]
     },
     "execution_count": 93,
     "metadata": {},
     "output_type": "execute_result"
    }
   ],
   "source": [
    "params"
   ]
  },
  {
   "cell_type": "code",
   "execution_count": 94,
   "id": "570f814e",
   "metadata": {},
   "outputs": [],
   "source": [
    "loss_dict = test_loss(models[0].to(device), data)"
   ]
  },
  {
   "cell_type": "code",
   "execution_count": 101,
   "id": "2741d7b0",
   "metadata": {},
   "outputs": [
    {
     "name": "stdout",
     "output_type": "stream",
     "text": [
      "tensor(0.0298) tensor(1.) 1\n"
     ]
    }
   ],
   "source": [
    "\n",
    "# instance = loss_dict['G0_acc'].argmax().item()\n",
    "# instance = loss_dict['G0_loss'].argmin().item()\n",
    "# instance = (loss_dict['G0_acc'] > 0.999).nonzero()[11]\n",
    "instance = 1\n",
    "print(loss_dict[f'G0_loss'][instance], loss_dict[f'G0_acc'][instance], instance)\n",
    "model = models[0][instance].to(device)"
   ]
  },
  {
   "cell_type": "code",
   "execution_count": 104,
   "id": "623bb687",
   "metadata": {},
   "outputs": [],
   "source": [
    "model = MLP3(params)"
   ]
  },
  {
   "cell_type": "code",
   "execution_count": 102,
   "id": "148d1f75",
   "metadata": {},
   "outputs": [],
   "source": [
    "irreps, irrep_idx_dict = get_neuron_irreps(model, group)"
   ]
  },
  {
   "cell_type": "code",
   "execution_count": 103,
   "id": "36f7cc82",
   "metadata": {},
   "outputs": [
    {
     "name": "stdout",
     "output_type": "stream",
     "text": [
      "1d-0\n",
      "1-r2 90th percentile 0.0\n",
      "a variance: 0.0\n",
      "b variance: 1.0\n",
      "c variance: 1.0\n",
      "d variance: 0.0\n",
      "a vs d tensor(0.)\n",
      "2 0.0\n",
      "2 0.0\n",
      "b has 2 clusters with total loss 0.0\n",
      "c has 2 clusters with total loss 0.0\n",
      "b_parts [[0, 1]]\n",
      "c_parts [[0, 1]]\n",
      "a_mean tensor([1.])\n",
      "replacing c_0 with -b_0\n",
      "replacing c_1 with -b_1\n",
      "b_mean tensor([[-1.],\n",
      "        [ 1.]])\n",
      "c_mean tensor([[ 1.],\n",
      "        [-1.]])\n",
      "b_labels tensor([1, 0], dtype=torch.int32)\n",
      "c_labels tensor([1, 0], dtype=torch.int32)\n",
      "coef tensor([1.9251, 1.9256])\n",
      "unif_coef tensor([1.9254, 1.9254])\n",
      "coef diff tensor(1.7318e-08)\n",
      "dict_keys(['1d-0'])\n",
      "\n",
      "4d-0\n",
      "5d-0\n",
      "6d-0\n",
      "5d-1\n",
      "4d-1\n",
      "1-r2 90th percentile 0.9945856332778931\n",
      "a variance: 6.158730343486241e-07\n",
      "b variance: 0.9110554456710815\n",
      "c variance: 0.9125399589538574\n",
      "d variance: 1.0327377140129101e-06\n",
      "a vs d tensor(1.9587e-06)\n",
      "2 6325.4423828125\n",
      "3 5046.5546875\n",
      "4 3958.37060546875\n",
      "5 2907.12890625\n",
      "6 2688.544189453125\n",
      "7 2490.0634765625\n",
      "8 2305.787353515625\n",
      "9 2139.576416015625\n",
      "10 1986.288818359375\n",
      "11 1853.218017578125\n",
      "12 1712.421142578125\n",
      "13 1572.158447265625\n",
      "14 1436.58056640625\n",
      "15 1299.321044921875\n",
      "16 1239.4500732421875\n",
      "17 1192.55078125\n",
      "18 1153.5250244140625\n",
      "19 1117.933349609375\n",
      "20 1091.8916015625\n",
      "21 1066.453857421875\n",
      "22 1039.098876953125\n",
      "23 1005.8822021484375\n"
     ]
    },
    {
     "ename": "KeyboardInterrupt",
     "evalue": "",
     "output_type": "error",
     "traceback": [
      "\u001b[0;31m---------------------------------------------------------------------------\u001b[0m",
      "\u001b[0;31mKeyboardInterrupt\u001b[0m                         Traceback (most recent call last)",
      "Cell \u001b[0;32mIn[103], line 1\u001b[0m\n\u001b[0;32m----> 1\u001b[0m vecs \u001b[38;5;241m=\u001b[39m \u001b[43mget_neuron_vecs\u001b[49m\u001b[43m(\u001b[49m\u001b[43mmodel\u001b[49m\u001b[43m,\u001b[49m\u001b[43m \u001b[49m\u001b[43mgroup\u001b[49m\u001b[43m,\u001b[49m\u001b[43m \u001b[49m\u001b[43mirreps\u001b[49m\u001b[43m,\u001b[49m\u001b[43m \u001b[49m\u001b[43mirrep_idx_dict\u001b[49m\u001b[43m)\u001b[49m\n",
      "File \u001b[0;32m~/Finite-groups/src/irrep_bounds.py:131\u001b[0m, in \u001b[0;36mget_neuron_vecs\u001b[0;34m(model, group, irreps, irrep_idx_dict)\u001b[0m\n\u001b[1;32m    129\u001b[0m full_b \u001b[38;5;241m=\u001b[39m einops\u001b[38;5;241m.\u001b[39meinsum(b, irrep, \u001b[38;5;124m'\u001b[39m\u001b[38;5;124mneuron d2, G d1 d2 -> neuron G d1\u001b[39m\u001b[38;5;124m'\u001b[39m)\u001b[38;5;241m.\u001b[39mflatten(\u001b[38;5;241m0\u001b[39m, \u001b[38;5;241m1\u001b[39m)\n\u001b[1;32m    130\u001b[0m full_c \u001b[38;5;241m=\u001b[39m einops\u001b[38;5;241m.\u001b[39meinsum(c, irrep, \u001b[38;5;124m'\u001b[39m\u001b[38;5;124mneuron d2, G d1 d2 -> neuron G d1\u001b[39m\u001b[38;5;124m'\u001b[39m)\u001b[38;5;241m.\u001b[39mflatten(\u001b[38;5;241m0\u001b[39m, \u001b[38;5;241m1\u001b[39m)\n\u001b[0;32m--> 131\u001b[0m b_kmeans, b_clusters, b_losses \u001b[38;5;241m=\u001b[39m \u001b[43mcluster\u001b[49m\u001b[43m(\u001b[49m\u001b[43mfull_b\u001b[49m\u001b[43m,\u001b[49m\u001b[43m)\u001b[49m \u001b[38;5;66;03m#max=d_irrep*2+2)\u001b[39;00m\n\u001b[1;32m    132\u001b[0m c_kmeans, c_clusters, c_losses \u001b[38;5;241m=\u001b[39m cluster(full_c,) \u001b[38;5;66;03m#max=d_irrep*2+2)\u001b[39;00m\n\u001b[1;32m    133\u001b[0m b_labels, c_labels \u001b[38;5;241m=\u001b[39m t\u001b[38;5;241m.\u001b[39mtensor(b_kmeans\u001b[38;5;241m.\u001b[39mpredict(b\u001b[38;5;241m.\u001b[39mnumpy())), t\u001b[38;5;241m.\u001b[39mtensor(c_kmeans\u001b[38;5;241m.\u001b[39mpredict(c\u001b[38;5;241m.\u001b[39mnumpy()))\n",
      "File \u001b[0;32m~/Finite-groups/src/utils.py:179\u001b[0m, in \u001b[0;36mcluster\u001b[0;34m(vecs, num_seeds, thresh, max)\u001b[0m\n\u001b[1;32m    177\u001b[0m \u001b[38;5;28;01mwhile\u001b[39;00m \u001b[38;5;129;01mnot\u001b[39;00m losses \u001b[38;5;129;01mor\u001b[39;00m losses[\u001b[38;5;241m-\u001b[39m\u001b[38;5;241m1\u001b[39m] \u001b[38;5;241m>\u001b[39m thresh:\n\u001b[1;32m    178\u001b[0m     n_clusters \u001b[38;5;241m+\u001b[39m\u001b[38;5;241m=\u001b[39m \u001b[38;5;241m1\u001b[39m\n\u001b[0;32m--> 179\u001b[0m     kmeans \u001b[38;5;241m=\u001b[39m \u001b[38;5;28;43mmin\u001b[39;49m\u001b[43m(\u001b[49m\n\u001b[1;32m    180\u001b[0m \u001b[43m        \u001b[49m\u001b[43m(\u001b[49m\u001b[43mKMeans\u001b[49m\u001b[43m(\u001b[49m\u001b[43mn_clusters\u001b[49m\u001b[38;5;241;43m=\u001b[39;49m\u001b[43mn_clusters\u001b[49m\u001b[43m,\u001b[49m\u001b[43m \u001b[49m\u001b[43mrandom_state\u001b[49m\u001b[38;5;241;43m=\u001b[39;49m\u001b[43mseed\u001b[49m\u001b[43m)\u001b[49m\u001b[38;5;241;43m.\u001b[39;49m\u001b[43mfit\u001b[49m\u001b[43m(\u001b[49m\u001b[43mvecs\u001b[49m\u001b[38;5;241;43m.\u001b[39;49m\u001b[43mnumpy\u001b[49m\u001b[43m(\u001b[49m\u001b[43m)\u001b[49m\u001b[43m)\u001b[49m\n\u001b[1;32m    181\u001b[0m \u001b[43m        \u001b[49m\u001b[38;5;28;43;01mfor\u001b[39;49;00m\u001b[43m \u001b[49m\u001b[43mseed\u001b[49m\u001b[43m \u001b[49m\u001b[38;5;129;43;01min\u001b[39;49;00m\u001b[43m \u001b[49m\u001b[38;5;28;43mrange\u001b[39;49m\u001b[43m(\u001b[49m\u001b[43mnum_seeds\u001b[49m\u001b[43m)\u001b[49m\u001b[43m)\u001b[49m\u001b[43m,\u001b[49m\n\u001b[1;32m    182\u001b[0m \u001b[43m        \u001b[49m\u001b[43mkey\u001b[49m\u001b[38;5;241;43m=\u001b[39;49m\u001b[38;5;28;43;01mlambda\u001b[39;49;00m\u001b[43m \u001b[49m\u001b[43mk\u001b[49m\u001b[43m:\u001b[49m\u001b[43m \u001b[49m\u001b[43mk\u001b[49m\u001b[38;5;241;43m.\u001b[39;49m\u001b[43minertia_\u001b[49m\n\u001b[1;32m    183\u001b[0m \u001b[43m    \u001b[49m\u001b[43m)\u001b[49m\n\u001b[1;32m    184\u001b[0m     losses\u001b[38;5;241m.\u001b[39mappend(kmeans\u001b[38;5;241m.\u001b[39minertia_)\n\u001b[1;32m    185\u001b[0m     \u001b[38;5;28;01mif\u001b[39;00m \u001b[38;5;28mlen\u001b[39m(losses) \u001b[38;5;241m>\u001b[39m \u001b[38;5;241m1\u001b[39m \u001b[38;5;129;01mand\u001b[39;00m losses[\u001b[38;5;241m-\u001b[39m\u001b[38;5;241m2\u001b[39m] \u001b[38;5;241m/\u001b[39m losses[\u001b[38;5;241m-\u001b[39m\u001b[38;5;241m1\u001b[39m] \u001b[38;5;241m>\u001b[39m \u001b[38;5;241m10\u001b[39m:\n",
      "File \u001b[0;32m~/Finite-groups/src/utils.py:180\u001b[0m, in \u001b[0;36m<genexpr>\u001b[0;34m(.0)\u001b[0m\n\u001b[1;32m    177\u001b[0m \u001b[38;5;28;01mwhile\u001b[39;00m \u001b[38;5;129;01mnot\u001b[39;00m losses \u001b[38;5;129;01mor\u001b[39;00m losses[\u001b[38;5;241m-\u001b[39m\u001b[38;5;241m1\u001b[39m] \u001b[38;5;241m>\u001b[39m thresh:\n\u001b[1;32m    178\u001b[0m     n_clusters \u001b[38;5;241m+\u001b[39m\u001b[38;5;241m=\u001b[39m \u001b[38;5;241m1\u001b[39m\n\u001b[1;32m    179\u001b[0m     kmeans \u001b[38;5;241m=\u001b[39m \u001b[38;5;28mmin\u001b[39m(\n\u001b[0;32m--> 180\u001b[0m         (\u001b[43mKMeans\u001b[49m\u001b[43m(\u001b[49m\u001b[43mn_clusters\u001b[49m\u001b[38;5;241;43m=\u001b[39;49m\u001b[43mn_clusters\u001b[49m\u001b[43m,\u001b[49m\u001b[43m \u001b[49m\u001b[43mrandom_state\u001b[49m\u001b[38;5;241;43m=\u001b[39;49m\u001b[43mseed\u001b[49m\u001b[43m)\u001b[49m\u001b[38;5;241;43m.\u001b[39;49m\u001b[43mfit\u001b[49m\u001b[43m(\u001b[49m\u001b[43mvecs\u001b[49m\u001b[38;5;241;43m.\u001b[39;49m\u001b[43mnumpy\u001b[49m\u001b[43m(\u001b[49m\u001b[43m)\u001b[49m\u001b[43m)\u001b[49m\n\u001b[1;32m    181\u001b[0m         \u001b[38;5;28;01mfor\u001b[39;00m seed \u001b[38;5;129;01min\u001b[39;00m \u001b[38;5;28mrange\u001b[39m(num_seeds)),\n\u001b[1;32m    182\u001b[0m         key\u001b[38;5;241m=\u001b[39m\u001b[38;5;28;01mlambda\u001b[39;00m k: k\u001b[38;5;241m.\u001b[39minertia_\n\u001b[1;32m    183\u001b[0m     )\n\u001b[1;32m    184\u001b[0m     losses\u001b[38;5;241m.\u001b[39mappend(kmeans\u001b[38;5;241m.\u001b[39minertia_)\n\u001b[1;32m    185\u001b[0m     \u001b[38;5;28;01mif\u001b[39;00m \u001b[38;5;28mlen\u001b[39m(losses) \u001b[38;5;241m>\u001b[39m \u001b[38;5;241m1\u001b[39m \u001b[38;5;129;01mand\u001b[39;00m losses[\u001b[38;5;241m-\u001b[39m\u001b[38;5;241m2\u001b[39m] \u001b[38;5;241m/\u001b[39m losses[\u001b[38;5;241m-\u001b[39m\u001b[38;5;241m1\u001b[39m] \u001b[38;5;241m>\u001b[39m \u001b[38;5;241m10\u001b[39m:\n",
      "File \u001b[0;32m~/.cache/pypoetry/virtualenvs/group_addition-BDyFuYvs-py3.10/lib/python3.10/site-packages/sklearn/base.py:1473\u001b[0m, in \u001b[0;36m_fit_context.<locals>.decorator.<locals>.wrapper\u001b[0;34m(estimator, *args, **kwargs)\u001b[0m\n\u001b[1;32m   1466\u001b[0m     estimator\u001b[38;5;241m.\u001b[39m_validate_params()\n\u001b[1;32m   1468\u001b[0m \u001b[38;5;28;01mwith\u001b[39;00m config_context(\n\u001b[1;32m   1469\u001b[0m     skip_parameter_validation\u001b[38;5;241m=\u001b[39m(\n\u001b[1;32m   1470\u001b[0m         prefer_skip_nested_validation \u001b[38;5;129;01mor\u001b[39;00m global_skip_validation\n\u001b[1;32m   1471\u001b[0m     )\n\u001b[1;32m   1472\u001b[0m ):\n\u001b[0;32m-> 1473\u001b[0m     \u001b[38;5;28;01mreturn\u001b[39;00m \u001b[43mfit_method\u001b[49m\u001b[43m(\u001b[49m\u001b[43mestimator\u001b[49m\u001b[43m,\u001b[49m\u001b[43m \u001b[49m\u001b[38;5;241;43m*\u001b[39;49m\u001b[43margs\u001b[49m\u001b[43m,\u001b[49m\u001b[43m \u001b[49m\u001b[38;5;241;43m*\u001b[39;49m\u001b[38;5;241;43m*\u001b[39;49m\u001b[43mkwargs\u001b[49m\u001b[43m)\u001b[49m\n",
      "File \u001b[0;32m~/.cache/pypoetry/virtualenvs/group_addition-BDyFuYvs-py3.10/lib/python3.10/site-packages/sklearn/cluster/_kmeans.py:1519\u001b[0m, in \u001b[0;36mKMeans.fit\u001b[0;34m(self, X, y, sample_weight)\u001b[0m\n\u001b[1;32m   1516\u001b[0m     \u001b[38;5;28mprint\u001b[39m(\u001b[38;5;124m\"\u001b[39m\u001b[38;5;124mInitialization complete\u001b[39m\u001b[38;5;124m\"\u001b[39m)\n\u001b[1;32m   1518\u001b[0m \u001b[38;5;66;03m# run a k-means once\u001b[39;00m\n\u001b[0;32m-> 1519\u001b[0m labels, inertia, centers, n_iter_ \u001b[38;5;241m=\u001b[39m \u001b[43mkmeans_single\u001b[49m\u001b[43m(\u001b[49m\n\u001b[1;32m   1520\u001b[0m \u001b[43m    \u001b[49m\u001b[43mX\u001b[49m\u001b[43m,\u001b[49m\n\u001b[1;32m   1521\u001b[0m \u001b[43m    \u001b[49m\u001b[43msample_weight\u001b[49m\u001b[43m,\u001b[49m\n\u001b[1;32m   1522\u001b[0m \u001b[43m    \u001b[49m\u001b[43mcenters_init\u001b[49m\u001b[43m,\u001b[49m\n\u001b[1;32m   1523\u001b[0m \u001b[43m    \u001b[49m\u001b[43mmax_iter\u001b[49m\u001b[38;5;241;43m=\u001b[39;49m\u001b[38;5;28;43mself\u001b[39;49m\u001b[38;5;241;43m.\u001b[39;49m\u001b[43mmax_iter\u001b[49m\u001b[43m,\u001b[49m\n\u001b[1;32m   1524\u001b[0m \u001b[43m    \u001b[49m\u001b[43mverbose\u001b[49m\u001b[38;5;241;43m=\u001b[39;49m\u001b[38;5;28;43mself\u001b[39;49m\u001b[38;5;241;43m.\u001b[39;49m\u001b[43mverbose\u001b[49m\u001b[43m,\u001b[49m\n\u001b[1;32m   1525\u001b[0m \u001b[43m    \u001b[49m\u001b[43mtol\u001b[49m\u001b[38;5;241;43m=\u001b[39;49m\u001b[38;5;28;43mself\u001b[39;49m\u001b[38;5;241;43m.\u001b[39;49m\u001b[43m_tol\u001b[49m\u001b[43m,\u001b[49m\n\u001b[1;32m   1526\u001b[0m \u001b[43m    \u001b[49m\u001b[43mn_threads\u001b[49m\u001b[38;5;241;43m=\u001b[39;49m\u001b[38;5;28;43mself\u001b[39;49m\u001b[38;5;241;43m.\u001b[39;49m\u001b[43m_n_threads\u001b[49m\u001b[43m,\u001b[49m\n\u001b[1;32m   1527\u001b[0m \u001b[43m\u001b[49m\u001b[43m)\u001b[49m\n\u001b[1;32m   1529\u001b[0m \u001b[38;5;66;03m# determine if these results are the best so far\u001b[39;00m\n\u001b[1;32m   1530\u001b[0m \u001b[38;5;66;03m# we chose a new run if it has a better inertia and the clustering is\u001b[39;00m\n\u001b[1;32m   1531\u001b[0m \u001b[38;5;66;03m# different from the best so far (it's possible that the inertia is\u001b[39;00m\n\u001b[1;32m   1532\u001b[0m \u001b[38;5;66;03m# slightly better even if the clustering is the same with potentially\u001b[39;00m\n\u001b[1;32m   1533\u001b[0m \u001b[38;5;66;03m# permuted labels, due to rounding errors)\u001b[39;00m\n\u001b[1;32m   1534\u001b[0m \u001b[38;5;28;01mif\u001b[39;00m best_inertia \u001b[38;5;129;01mis\u001b[39;00m \u001b[38;5;28;01mNone\u001b[39;00m \u001b[38;5;129;01mor\u001b[39;00m (\n\u001b[1;32m   1535\u001b[0m     inertia \u001b[38;5;241m<\u001b[39m best_inertia\n\u001b[1;32m   1536\u001b[0m     \u001b[38;5;129;01mand\u001b[39;00m \u001b[38;5;129;01mnot\u001b[39;00m _is_same_clustering(labels, best_labels, \u001b[38;5;28mself\u001b[39m\u001b[38;5;241m.\u001b[39mn_clusters)\n\u001b[1;32m   1537\u001b[0m ):\n",
      "File \u001b[0;32m~/.cache/pypoetry/virtualenvs/group_addition-BDyFuYvs-py3.10/lib/python3.10/site-packages/sklearn/utils/parallel.py:162\u001b[0m, in \u001b[0;36m_threadpool_controller_decorator.<locals>.decorator.<locals>.wrapper\u001b[0;34m(*args, **kwargs)\u001b[0m\n\u001b[1;32m    160\u001b[0m controller \u001b[38;5;241m=\u001b[39m _get_threadpool_controller()\n\u001b[1;32m    161\u001b[0m \u001b[38;5;28;01mwith\u001b[39;00m controller\u001b[38;5;241m.\u001b[39mlimit(limits\u001b[38;5;241m=\u001b[39mlimits, user_api\u001b[38;5;241m=\u001b[39muser_api):\n\u001b[0;32m--> 162\u001b[0m     \u001b[38;5;28;01mreturn\u001b[39;00m \u001b[43mfunc\u001b[49m\u001b[43m(\u001b[49m\u001b[38;5;241;43m*\u001b[39;49m\u001b[43margs\u001b[49m\u001b[43m,\u001b[49m\u001b[43m \u001b[49m\u001b[38;5;241;43m*\u001b[39;49m\u001b[38;5;241;43m*\u001b[39;49m\u001b[43mkwargs\u001b[49m\u001b[43m)\u001b[49m\n",
      "File \u001b[0;32m~/.cache/pypoetry/virtualenvs/group_addition-BDyFuYvs-py3.10/lib/python3.10/site-packages/sklearn/cluster/_kmeans.py:707\u001b[0m, in \u001b[0;36m_kmeans_single_lloyd\u001b[0;34m(X, sample_weight, centers_init, max_iter, verbose, tol, n_threads)\u001b[0m\n\u001b[1;32m    704\u001b[0m strict_convergence \u001b[38;5;241m=\u001b[39m \u001b[38;5;28;01mFalse\u001b[39;00m\n\u001b[1;32m    706\u001b[0m \u001b[38;5;28;01mfor\u001b[39;00m i \u001b[38;5;129;01min\u001b[39;00m \u001b[38;5;28mrange\u001b[39m(max_iter):\n\u001b[0;32m--> 707\u001b[0m     \u001b[43mlloyd_iter\u001b[49m\u001b[43m(\u001b[49m\n\u001b[1;32m    708\u001b[0m \u001b[43m        \u001b[49m\u001b[43mX\u001b[49m\u001b[43m,\u001b[49m\n\u001b[1;32m    709\u001b[0m \u001b[43m        \u001b[49m\u001b[43msample_weight\u001b[49m\u001b[43m,\u001b[49m\n\u001b[1;32m    710\u001b[0m \u001b[43m        \u001b[49m\u001b[43mcenters\u001b[49m\u001b[43m,\u001b[49m\n\u001b[1;32m    711\u001b[0m \u001b[43m        \u001b[49m\u001b[43mcenters_new\u001b[49m\u001b[43m,\u001b[49m\n\u001b[1;32m    712\u001b[0m \u001b[43m        \u001b[49m\u001b[43mweight_in_clusters\u001b[49m\u001b[43m,\u001b[49m\n\u001b[1;32m    713\u001b[0m \u001b[43m        \u001b[49m\u001b[43mlabels\u001b[49m\u001b[43m,\u001b[49m\n\u001b[1;32m    714\u001b[0m \u001b[43m        \u001b[49m\u001b[43mcenter_shift\u001b[49m\u001b[43m,\u001b[49m\n\u001b[1;32m    715\u001b[0m \u001b[43m        \u001b[49m\u001b[43mn_threads\u001b[49m\u001b[43m,\u001b[49m\n\u001b[1;32m    716\u001b[0m \u001b[43m    \u001b[49m\u001b[43m)\u001b[49m\n\u001b[1;32m    718\u001b[0m     \u001b[38;5;28;01mif\u001b[39;00m verbose:\n\u001b[1;32m    719\u001b[0m         inertia \u001b[38;5;241m=\u001b[39m _inertia(X, sample_weight, centers, labels, n_threads)\n",
      "File \u001b[0;32m_k_means_lloyd.pyx:160\u001b[0m, in \u001b[0;36msklearn.cluster._k_means_lloyd.lloyd_iter_chunked_dense\u001b[0;34m()\u001b[0m\n",
      "File \u001b[0;32m_k_means_common.pyx:180\u001b[0m, in \u001b[0;36msklearn.cluster._k_means_common._relocate_empty_clusters_dense\u001b[0;34m()\u001b[0m\n",
      "File \u001b[0;32m~/.cache/pypoetry/virtualenvs/group_addition-BDyFuYvs-py3.10/lib/python3.10/site-packages/numpy/_core/multiarray.py:361\u001b[0m, in \u001b[0;36mwhere\u001b[0;34m(condition, x, y)\u001b[0m\n\u001b[1;32m    271\u001b[0m \u001b[38;5;250m    \u001b[39m\u001b[38;5;124;03m\"\"\"\u001b[39;00m\n\u001b[1;32m    272\u001b[0m \u001b[38;5;124;03m    inner(a, b, /)\u001b[39;00m\n\u001b[1;32m    273\u001b[0m \n\u001b[0;32m   (...)\u001b[0m\n\u001b[1;32m    356\u001b[0m \n\u001b[1;32m    357\u001b[0m \u001b[38;5;124;03m    \"\"\"\u001b[39;00m\n\u001b[1;32m    358\u001b[0m     \u001b[38;5;28;01mreturn\u001b[39;00m (a, b)\n\u001b[0;32m--> 361\u001b[0m \u001b[38;5;129m@array_function_from_c_func_and_dispatcher\u001b[39m(_multiarray_umath\u001b[38;5;241m.\u001b[39mwhere)\n\u001b[1;32m    362\u001b[0m \u001b[38;5;28;01mdef\u001b[39;00m \u001b[38;5;21mwhere\u001b[39m(condition, x\u001b[38;5;241m=\u001b[39m\u001b[38;5;28;01mNone\u001b[39;00m, y\u001b[38;5;241m=\u001b[39m\u001b[38;5;28;01mNone\u001b[39;00m):\n\u001b[1;32m    363\u001b[0m \u001b[38;5;250m    \u001b[39m\u001b[38;5;124;03m\"\"\"\u001b[39;00m\n\u001b[1;32m    364\u001b[0m \u001b[38;5;124;03m    where(condition, [x, y], /)\u001b[39;00m\n\u001b[1;32m    365\u001b[0m \n\u001b[0;32m   (...)\u001b[0m\n\u001b[1;32m    431\u001b[0m \u001b[38;5;124;03m           [ 0,  3, -1]])\u001b[39;00m\n\u001b[1;32m    432\u001b[0m \u001b[38;5;124;03m    \"\"\"\u001b[39;00m\n\u001b[1;32m    433\u001b[0m     \u001b[38;5;28;01mreturn\u001b[39;00m (condition, x, y)\n",
      "\u001b[0;31mKeyboardInterrupt\u001b[0m: "
     ]
    }
   ],
   "source": [
    "vecs = get_neuron_vecs(model, group, irreps, irrep_idx_dict)"
   ]
  },
  {
   "cell_type": "code",
   "execution_count": 88,
   "id": "a07f25fb",
   "metadata": {},
   "outputs": [],
   "source": [
    "coef, A_norm, a_mean, b_mean, c_mean, b_labels, c_labels, b_parts, c_parts = vecs['4d-1']"
   ]
  },
  {
   "cell_type": "code",
   "execution_count": 89,
   "id": "c892e9db",
   "metadata": {},
   "outputs": [
    {
     "name": "stdout",
     "output_type": "stream",
     "text": [
      "1d-0\n",
      "l diff tensor(2.2452e-05)\n",
      "r diff tensor(1.6083e-05)\n",
      "u diff tensor(0.0005)\n",
      "4d-1\n",
      "l diff tensor(6.5694e-05)\n",
      "r diff tensor(7.2110e-05)\n",
      "u diff tensor(0.0365)\n",
      "total\n",
      "l diff tensor(6.2486e-05)\n",
      "r diff tensor(6.7950e-05)\n",
      "u diff tensor(0.0333)\n"
     ]
    }
   ],
   "source": [
    "ideal = get_idealized_model(model, irreps, irrep_idx_dict, vecs)"
   ]
  },
  {
   "cell_type": "code",
   "execution_count": 90,
   "id": "23a68595",
   "metadata": {},
   "outputs": [
    {
     "name": "stdout",
     "output_type": "stream",
     "text": [
      "l diff tensor(0.4933)\n",
      "r diff tensor(0.5232)\n",
      "u diff tensor(2.1147)\n",
      "l norm tensor(37.6290)\n",
      "r norm tensor(37.6470)\n",
      "u norm tensor(8.9418)\n"
     ]
    },
    {
     "data": {
      "text/plain": [
       "tensor(168.0637)"
      ]
     },
     "execution_count": 90,
     "metadata": {},
     "output_type": "execute_result"
    }
   ],
   "source": [
    "model_dist(model, ideal)"
   ]
  },
  {
   "cell_type": "code",
   "execution_count": 91,
   "id": "d78db3df",
   "metadata": {},
   "outputs": [
    {
     "data": {
      "text/plain": [
       "15.990200996398926"
      ]
     },
     "execution_count": 91,
     "metadata": {},
     "output_type": "execute_result"
    }
   ],
   "source": [
    "d = model_dist_inf(model, ideal).item()\n",
    "d"
   ]
  },
  {
   "cell_type": "code",
   "execution_count": 78,
   "id": "f3855fe4",
   "metadata": {},
   "outputs": [
    {
     "data": {
      "text/plain": [
       "tensor(0.5250)"
      ]
     },
     "execution_count": 78,
     "metadata": {},
     "output_type": "execute_result"
    }
   ],
   "source": [
    "out = ideal(t.tensor([[0, 1]]))\n",
    "((out.max() - out) > d).float().mean()"
   ]
  },
  {
   "cell_type": "code",
   "execution_count": 31,
   "id": "6349a469",
   "metadata": {},
   "outputs": [
    {
     "ename": "NameError",
     "evalue": "name 'part_idxs' is not defined",
     "output_type": "error",
     "traceback": [
      "\u001b[0;31m---------------------------------------------------------------------------\u001b[0m",
      "\u001b[0;31mNameError\u001b[0m                                 Traceback (most recent call last)",
      "Cell \u001b[0;32mIn[31], line 5\u001b[0m\n\u001b[1;32m      3\u001b[0m ln1, rn1, un1 \u001b[38;5;241m=\u001b[39m model\u001b[38;5;241m.\u001b[39mget_neurons()\n\u001b[1;32m      4\u001b[0m ln2, rn2, un2 \u001b[38;5;241m=\u001b[39m ideal\u001b[38;5;241m.\u001b[39mget_neurons()\n\u001b[0;32m----> 5\u001b[0m ln1, rn1, un1 \u001b[38;5;241m=\u001b[39m ln1[:,:, \u001b[43mpart_idxs\u001b[49m], rn1[:,:, part_idxs], un1[:,:, part_idxs]\n\u001b[1;32m      6\u001b[0m ln2, rn2, un2 \u001b[38;5;241m=\u001b[39m ln2[:,:, part_idxs], rn2[:,:, part_idxs], un2[:,:, part_idxs]\n\u001b[1;32m      7\u001b[0m ln_noise \u001b[38;5;241m=\u001b[39m t\u001b[38;5;241m.\u001b[39mrandn_like(ln1)\n",
      "\u001b[0;31mNameError\u001b[0m: name 'part_idxs' is not defined"
     ]
    }
   ],
   "source": [
    "model = model.fold_linear()\n",
    "# ideal = ideal.fold_linear()\n",
    "ln1, rn1, un1 = model.get_neurons()\n",
    "ln2, rn2, un2 = ideal.get_neurons()\n",
    "ln1, rn1, un1 = ln1[:,:, part_idxs], rn1[:,:, part_idxs], un1[:,:, part_idxs]\n",
    "ln2, rn2, un2 = ln2[:,:, part_idxs], rn2[:,:, part_idxs], un2[:,:, part_idxs]\n",
    "ln_noise = t.randn_like(ln1)\n",
    "ln_noise = ln_noise / ln_noise.norm() * (ln1 - ln2).norm()\n",
    "rn_noise = t.randn_like(rn1)\n",
    "rn_noise = rn_noise / rn_noise.norm() * (rn1 - rn2).norm()\n",
    "un_noise = t.randn_like(un1)\n",
    "un_noise = un_noise / un_noise.norm() * (un1 - un2).norm()\n",
    "ln3, rn3, un3 = ln2 + ln_noise, rn2 + rn_noise, un2 + un_noise"
   ]
  },
  {
   "cell_type": "code",
   "execution_count": 15,
   "id": "10a97909",
   "metadata": {},
   "outputs": [
    {
     "data": {
      "text/plain": [
       "(tensor(27.0105), tensor(26.9070))"
      ]
     },
     "execution_count": 15,
     "metadata": {},
     "output_type": "execute_result"
    }
   ],
   "source": [
    "un1.norm(), un2.norm() "
   ]
  },
  {
   "cell_type": "code",
   "execution_count": 20,
   "id": "89cd0846",
   "metadata": {},
   "outputs": [],
   "source": [
    "noise_model = copy.deepcopy(model)\n",
    "noise_model.embedding_left = nn.Parameter(ln3)\n",
    "noise_model.embedding_right = nn.Parameter(rn3)\n",
    "noise_model.unembedding = nn.Parameter(un3.mT)"
   ]
  },
  {
   "cell_type": "code",
   "execution_count": 21,
   "id": "8f1e6cfd",
   "metadata": {},
   "outputs": [
    {
     "data": {
      "text/plain": [
       "{'G0_loss': tensor([0.2678]),\n",
       " 'G0_loss_std': tensor([0.1247]),\n",
       " 'G0_acc': tensor([1.])}"
      ]
     },
     "execution_count": 21,
     "metadata": {},
     "output_type": "execute_result"
    }
   ],
   "source": [
    "test_loss(noise_model, data)"
   ]
  },
  {
   "cell_type": "code",
   "execution_count": 57,
   "id": "4d9598d0",
   "metadata": {},
   "outputs": [
    {
     "data": {
      "text/plain": [
       "({'G0_loss': tensor([0.1731]),\n",
       "  'G0_loss_std': tensor([0.1883]),\n",
       "  'G0_acc': tensor([0.9990])},\n",
       " {'G0_loss': tensor([0.1231]),\n",
       "  'G0_loss_std': tensor([0.0968]),\n",
       "  'G0_acc': tensor([1.])},\n",
       " {'G0_loss': tensor([0.0296]),\n",
       "  'G0_loss_std': tensor([0.0080]),\n",
       "  'G0_acc': tensor([1.])})"
      ]
     },
     "execution_count": 57,
     "metadata": {},
     "output_type": "execute_result"
    }
   ],
   "source": [
    "test_loss(noise_model, data), test_loss(ideal, data),  test_loss(model, data)"
   ]
  },
  {
   "cell_type": "code",
   "execution_count": 29,
   "id": "2957f7f6",
   "metadata": {},
   "outputs": [
    {
     "data": {
      "text/plain": [
       "tensor(151.1256)"
      ]
     },
     "execution_count": 29,
     "metadata": {},
     "output_type": "execute_result"
    }
   ],
   "source": [
    "model_dist2(model, ideal)#, irrep_idx_dict, vecs)"
   ]
  },
  {
   "cell_type": "code",
   "execution_count": 28,
   "id": "6495fa46",
   "metadata": {},
   "outputs": [
    {
     "ename": "TypeError",
     "evalue": "'float' object is not iterable",
     "output_type": "error",
     "traceback": [
      "\u001b[0;31m---------------------------------------------------------------------------\u001b[0m",
      "\u001b[0;31mTypeError\u001b[0m                                 Traceback (most recent call last)",
      "Cell \u001b[0;32mIn[28], line 1\u001b[0m\n\u001b[0;32m----> 1\u001b[0m \u001b[38;5;28;43msorted\u001b[39;49m\u001b[43m(\u001b[49m\u001b[43mdist\u001b[49m\u001b[38;5;241;43m.\u001b[39;49m\u001b[43mtolist\u001b[49m\u001b[43m(\u001b[49m\u001b[43m)\u001b[49m\u001b[43m)\u001b[49m\n",
      "\u001b[0;31mTypeError\u001b[0m: 'float' object is not iterable"
     ]
    }
   ],
   "source": [
    "sorted(dist.tolist())"
   ]
  },
  {
   "cell_type": "code",
   "execution_count": 44,
   "id": "d8d79911",
   "metadata": {},
   "outputs": [
    {
     "name": "stdout",
     "output_type": "stream",
     "text": [
      "1d-0\n",
      "l diff tensor(0.1423)\n",
      "r diff tensor(0.1301)\n",
      "u diff tensor(0.1309)\n",
      "l norm tensor(37.6832)\n",
      "r norm tensor(37.6227)\n",
      "u norm tensor(8.6710)\n",
      "12.21975326538086\n",
      "4d-1\n",
      "l diff tensor(0.5003)\n",
      "r diff tensor(0.4084)\n",
      "u diff tensor(2.0580)\n",
      "l norm tensor(37.3536)\n",
      "r norm tensor(37.2156)\n",
      "u norm tensor(6.8900)\n",
      "159.40463256835938\n",
      "4d-1\n",
      "l diff tensor(0.)\n",
      "r diff tensor(0.)\n",
      "u diff tensor(1.4427)\n",
      "l norm tensor(8.8416)\n",
      "r norm tensor(8.7849)\n",
      "u norm tensor(1.4427)\n",
      "25.430316925048828\n"
     ]
    },
    {
     "data": {
      "text/plain": [
       "197.05470275878906"
      ]
     },
     "execution_count": 44,
     "metadata": {},
     "output_type": "execute_result"
    }
   ],
   "source": [
    "model_dist_parted(model, ideal, irrep_idx_dict, vecs)"
   ]
  },
  {
   "cell_type": "code",
   "execution_count": 37,
   "id": "0313a70e",
   "metadata": {},
   "outputs": [],
   "source": []
  },
  {
   "cell_type": "code",
   "execution_count": 32,
   "id": "965af78d",
   "metadata": {},
   "outputs": [],
   "source": [
    "_, _, un1 = model.get_neurons(True)\n",
    "_, _, un2 = ideal.get_neurons(True)"
   ]
  },
  {
   "cell_type": "code",
   "execution_count": 43,
   "id": "7e559231",
   "metadata": {},
   "outputs": [
    {
     "data": {
      "text/plain": [
       "tensor(0.5175)"
      ]
     },
     "execution_count": 43,
     "metadata": {},
     "output_type": "execute_result"
    }
   ],
   "source": [
    "((un1 - un2).norm(dim=0))[part_idxs].max() #/ un1.norm(dim=0))[part_idxs]"
   ]
  },
  {
   "cell_type": "code",
   "execution_count": 61,
   "id": "4e224472",
   "metadata": {},
   "outputs": [
    {
     "data": {
      "text/plain": [
       "tensor([3.9519e-01, 1.9263e+00, 2.7491e-02, 0.0000e+00, 2.0834e-03, 2.9060e-02,\n",
       "        3.0195e-01, 4.8089e-01, 1.3822e+00, 2.9299e-01, 5.6391e-04, 1.7642e+00,\n",
       "        4.3101e-01, 2.3929e-01, 3.8706e-04, 1.8467e-01, 3.0984e-01, 6.9950e-03,\n",
       "        1.4025e+00, 1.1464e-01, 0.0000e+00, 2.8585e-01, 1.7904e+00, 2.1838e-01,\n",
       "        1.2053e-04, 4.7698e-01, 1.7771e+00, 4.6449e-02, 1.2915e-04, 1.2651e-01,\n",
       "        4.9187e-03, 1.3275e-01, 1.5971e+00, 8.5666e-02, 4.7559e-01, 0.0000e+00,\n",
       "        9.9433e-02, 3.8776e-01, 1.8291e+00, 8.8188e-01, 9.8395e-02, 1.2016e-04,\n",
       "        0.0000e+00, 4.6339e-01, 3.0990e-02, 1.6035e-02, 4.7704e-01, 1.9921e-03,\n",
       "        4.4426e-01, 3.2006e-01, 2.2652e-01, 1.8414e+00, 1.0796e+00, 1.7409e-02,\n",
       "        8.8652e-02, 4.2277e-01, 1.8674e+00, 1.2950e-03, 4.2510e-01, 4.7889e-01,\n",
       "        1.8257e+00, 8.6694e-02, 8.8028e-02, 4.6159e-01, 1.5211e+00, 1.6752e+00,\n",
       "        1.5701e-02, 1.8629e+00, 4.4153e-01, 3.2458e-01, 1.3208e-03, 4.6803e-02,\n",
       "        0.0000e+00, 1.5985e-03, 1.2449e+00, 2.9418e-02, 1.6917e+00, 1.8397e+00,\n",
       "        0.0000e+00, 8.6495e-02, 1.3606e-02, 4.0674e-02, 0.0000e+00, 3.5842e-03,\n",
       "        2.8532e-03, 3.9908e-01, 1.0359e-01, 1.0639e+00, 4.8188e-01, 1.4355e+00,\n",
       "        4.6896e-02, 4.5818e-01, 4.6008e-01, 4.4927e-01, 1.8827e+00, 4.5930e-01,\n",
       "        1.7180e+00, 9.2255e-02, 2.0710e+00, 1.4968e-03, 2.0832e-01, 1.6867e+00,\n",
       "        7.7332e-04, 1.6796e+00, 1.0538e-02, 2.3799e-01, 2.3802e-02, 9.8076e-01,\n",
       "        2.0045e+00, 4.3481e-01, 1.7120e-05, 9.9002e-04, 4.6180e-01, 1.0661e-01,\n",
       "        2.3341e-02, 8.9384e-02, 3.4720e-04, 2.6038e-01, 1.3358e-01, 2.5623e-02,\n",
       "        4.5532e-01, 3.5525e-02, 4.5902e-03, 6.2850e-04, 4.6586e-01, 1.7212e+00,\n",
       "        5.4579e-05, 1.2046e-01], grad_fn=<LinalgVectorNormBackward0>)"
      ]
     },
     "execution_count": 61,
     "metadata": {},
     "output_type": "execute_result"
    }
   ],
   "source": [
    "(ideal.unembedding - model.unembedding)[0].norm(dim=1)"
   ]
  },
  {
   "cell_type": "code",
   "execution_count": 43,
   "id": "e1b8b998",
   "metadata": {},
   "outputs": [
    {
     "data": {
      "text/plain": [
       "(tensor([-0.9858,  0.2464,  0.2464,  0.2464,  0.2464, -0.9858, -0.9858,  0.2464,\n",
       "          0.2464,  0.2464,  0.2464, -0.9858,  0.2464,  0.2464,  0.2464],\n",
       "        grad_fn=<SliceBackward0>),\n",
       " tensor([-0.9570,  0.1998,  0.2163,  0.2846,  0.2874, -1.0399, -1.0421,  0.2721,\n",
       "          0.2724,  0.2598,  0.1809, -0.9766,  0.2939,  0.1614,  0.2129],\n",
       "        grad_fn=<SliceBackward0>))"
      ]
     },
     "execution_count": 43,
     "metadata": {},
     "output_type": "execute_result"
    }
   ],
   "source": [
    "ideal.unembedding[0, part_idxs[4], :15], model.unembedding[0, part_idxs[4], :15]"
   ]
  },
  {
   "cell_type": "code",
   "execution_count": 37,
   "id": "e02c64a9",
   "metadata": {},
   "outputs": [
    {
     "data": {
      "text/plain": [
       "65"
      ]
     },
     "execution_count": 37,
     "metadata": {},
     "output_type": "execute_result"
    }
   ],
   "source": [
    "irrep_idx_dict['4d-1'].index(88)"
   ]
  },
  {
   "cell_type": "code",
   "execution_count": 38,
   "id": "955ce75c",
   "metadata": {},
   "outputs": [
    {
     "data": {
      "text/plain": [
       "(tensor(5, dtype=torch.int32), tensor(5, dtype=torch.int32))"
      ]
     },
     "execution_count": 38,
     "metadata": {},
     "output_type": "execute_result"
    }
   ],
   "source": [
    "b_labels[65], c_labels[65]"
   ]
  },
  {
   "cell_type": "code",
   "execution_count": 12,
   "id": "a782e6da",
   "metadata": {},
   "outputs": [],
   "source": [
    "from coset_bounds import model_dist as cdist"
   ]
  },
  {
   "cell_type": "code",
   "execution_count": 15,
   "id": "49bebdde",
   "metadata": {},
   "outputs": [
    {
     "name": "stdout",
     "output_type": "stream",
     "text": [
      "l diff tensor(0.5003)\n",
      "r diff tensor(0.4084)\n",
      "u diff tensor(2.0830)\n",
      "l norm tensor(37.6832)\n",
      "r norm tensor(37.6227)\n",
      "u norm tensor(8.9174)\n"
     ]
    },
    {
     "data": {
      "text/plain": [
       "tensor(164.9650)"
      ]
     },
     "execution_count": 15,
     "metadata": {},
     "output_type": "execute_result"
    }
   ],
   "source": [
    "cdist(model, ideal)"
   ]
  },
  {
   "cell_type": "code",
   "execution_count": 136,
   "id": "d6b2152c",
   "metadata": {},
   "outputs": [
    {
     "data": {
      "text/plain": [
       "(tensor(0., grad_fn=<LinalgVectorNormBackward0>),\n",
       " tensor(0.1013, grad_fn=<LinalgVectorNormBackward0>))"
      ]
     },
     "execution_count": 136,
     "metadata": {},
     "output_type": "execute_result"
    }
   ],
   "source": [
    "ideal.unembedding[0,5,:].norm(), model.unembedding[0,5,:].norm()"
   ]
  },
  {
   "cell_type": "code",
   "execution_count": 148,
   "id": "1985798d",
   "metadata": {},
   "outputs": [
    {
     "data": {
      "text/plain": [
       "tensor(88)"
      ]
     },
     "execution_count": 148,
     "metadata": {},
     "output_type": "execute_result"
    }
   ],
   "source": [
    "(ideal.unembedding[0] - model.unembedding[0]).norm(dim=1).argmax()"
   ]
  },
  {
   "cell_type": "code",
   "execution_count": 150,
   "id": "8ec03917",
   "metadata": {},
   "outputs": [
    {
     "data": {
      "text/plain": [
       "(tensor(0., grad_fn=<LinalgVectorNormBackward0>),\n",
       " tensor(1.2796, grad_fn=<LinalgVectorNormBackward0>))"
      ]
     },
     "execution_count": 150,
     "metadata": {},
     "output_type": "execute_result"
    }
   ],
   "source": [
    "ideal.unembedding[0,88].norm(), model.unembedding[0,88].norm()"
   ]
  },
  {
   "cell_type": "code",
   "execution_count": 154,
   "id": "97241f97",
   "metadata": {},
   "outputs": [
    {
     "data": {
      "text/plain": [
       "({'G0_loss': tensor([0.1231]),\n",
       "  'G0_loss_std': tensor([0.0968]),\n",
       "  'G0_acc': tensor([1.])},\n",
       " {'G0_loss': tensor([0.0296]),\n",
       "  'G0_loss_std': tensor([0.0080]),\n",
       "  'G0_acc': tensor([1.])})"
      ]
     },
     "execution_count": 154,
     "metadata": {},
     "output_type": "execute_result"
    }
   ],
   "source": [
    "test_loss(ideal, data), test_loss(model, data)"
   ]
  },
  {
   "cell_type": "code",
   "execution_count": 163,
   "id": "b039e8ad",
   "metadata": {},
   "outputs": [
    {
     "data": {
      "text/plain": [
       "tensor(15.5970, grad_fn=<MaxBackward1>)"
      ]
     },
     "execution_count": 163,
     "metadata": {},
     "output_type": "execute_result"
    }
   ],
   "source": [
    "ideal(t.tensor([[10, 15]])).max()"
   ]
  },
  {
   "cell_type": "code",
   "execution_count": 173,
   "id": "430b5564",
   "metadata": {},
   "outputs": [],
   "source": [
    "irrep_model = copy.deepcopy(ideal)\n",
    "irrep_name = '1d-0'\n",
    "irrep_model.embedding_left.data = ideal.embedding_left[:,:,irrep_idx_dict[irrep_name]]\n",
    "irrep_model.embedding_right.data = ideal.embedding_right[:,:,irrep_idx_dict[irrep_name]]\n",
    "irrep_model.unembedding.data = ideal.unembedding[:,irrep_idx_dict[irrep_name]]"
   ]
  },
  {
   "cell_type": "code",
   "execution_count": 171,
   "id": "84765338",
   "metadata": {},
   "outputs": [
    {
     "data": {
      "text/plain": [
       "{'G0_loss': tensor([0.2198]),\n",
       " 'G0_loss_std': tensor([4.2085e-07]),\n",
       " 'G0_acc': tensor([1.])}"
      ]
     },
     "execution_count": 171,
     "metadata": {},
     "output_type": "execute_result"
    }
   ],
   "source": [
    "test_loss(irrep_model, data)"
   ]
  },
  {
   "cell_type": "code",
   "execution_count": 180,
   "id": "27fce14f",
   "metadata": {},
   "outputs": [
    {
     "data": {
      "text/plain": [
       "tensor([[[-3.8460,  3.8460,  3.8460, -3.8460, -3.8460,  3.8460,  3.8460,\n",
       "          -3.8460, -3.8460,  3.8460,  3.8460, -3.8460, -3.8460,  3.8460,\n",
       "           3.8460, -3.8460, -3.8460,  3.8460,  3.8460, -3.8460, -3.8460,\n",
       "           3.8460,  3.8460, -3.8460,  3.8460, -3.8460, -3.8460,  3.8460,\n",
       "           3.8460, -3.8460, -3.8460,  3.8460,  3.8460, -3.8460, -3.8460,\n",
       "           3.8460,  3.8460, -3.8460, -3.8460,  3.8460,  3.8460, -3.8460,\n",
       "          -3.8460,  3.8460,  3.8460, -3.8460, -3.8460,  3.8460, -3.8460,\n",
       "           3.8460,  3.8460, -3.8460, -3.8460,  3.8460,  3.8460, -3.8460,\n",
       "          -3.8460,  3.8460,  3.8460, -3.8460, -3.8460,  3.8460,  3.8460,\n",
       "          -3.8460, -3.8460,  3.8460,  3.8460, -3.8460, -3.8460,  3.8460,\n",
       "           3.8460, -3.8460,  3.8460, -3.8460, -3.8460,  3.8460,  3.8460,\n",
       "          -3.8460, -3.8460,  3.8460,  3.8460, -3.8460, -3.8460,  3.8460,\n",
       "           3.8460, -3.8460, -3.8460,  3.8460,  3.8460, -3.8460, -3.8460,\n",
       "           3.8460,  3.8460, -3.8460, -3.8460,  3.8460, -3.8460,  3.8460,\n",
       "           3.8460, -3.8460, -3.8460,  3.8460,  3.8460, -3.8460, -3.8460,\n",
       "           3.8460,  3.8460, -3.8460, -3.8460,  3.8460,  3.8460, -3.8460,\n",
       "          -3.8460,  3.8460,  3.8460, -3.8460, -3.8460,  3.8460,  3.8460,\n",
       "          -3.8460]]], grad_fn=<ViewBackward0>)"
      ]
     },
     "execution_count": 180,
     "metadata": {},
     "output_type": "execute_result"
    }
   ],
   "source": [
    "irrep_model(t.tensor([[11, 17]]))"
   ]
  },
  {
   "cell_type": "code",
   "execution_count": 183,
   "id": "039e9587",
   "metadata": {},
   "outputs": [
    {
     "data": {
      "text/plain": [
       "tensor([[-0.5594,  0.5594,  0.5594, -0.5594, -0.5594,  0.5594,  0.5594, -0.5594,\n",
       "         -0.5594,  0.5594],\n",
       "        [-0.5598,  0.5598,  0.5598, -0.5598, -0.5598,  0.5598,  0.5598, -0.5598,\n",
       "         -0.5598,  0.5598],\n",
       "        [-0.0010,  0.0010,  0.0010, -0.0010, -0.0010,  0.0010,  0.0010, -0.0010,\n",
       "         -0.0010,  0.0010]], grad_fn=<SliceBackward0>)"
      ]
     },
     "execution_count": 183,
     "metadata": {},
     "output_type": "execute_result"
    }
   ],
   "source": [
    "irrep_model.unembedding[0,:,:10]"
   ]
  },
  {
   "cell_type": "code",
   "execution_count": null,
   "id": "aef39c06",
   "metadata": {},
   "outputs": [],
   "source": []
  }
 ],
 "metadata": {
  "kernelspec": {
   "display_name": "Python 3 (ipykernel)",
   "language": "python",
   "name": "python3"
  },
  "language_info": {
   "codemirror_mode": {
    "name": "ipython",
    "version": 3
   },
   "file_extension": ".py",
   "mimetype": "text/x-python",
   "name": "python",
   "nbconvert_exporter": "python",
   "pygments_lexer": "ipython3",
   "version": "3.10.12"
  }
 },
 "nbformat": 4,
 "nbformat_minor": 5
}
