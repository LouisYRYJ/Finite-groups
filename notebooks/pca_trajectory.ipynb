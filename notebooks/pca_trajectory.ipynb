{
 "cells": [
  {
   "cell_type": "code",
   "execution_count": 1,
   "id": "ba28ad16-dae1-458d-8915-d682df16050c",
   "metadata": {},
   "outputs": [],
   "source": [
    "import sys\n",
    "import torch as t\n",
    "import numpy as np\n",
    "from matplotlib import pyplot as plt\n",
    "import json\n",
    "from itertools import product\n",
    "sys.path.append('/workspace/wilson/Finite-groups/src')\n",
    "from model import MLP3, MLP4, InstancedModule\n",
    "from utils import *\n",
    "from group_data import *\n",
    "from jaxtyping import Float\n",
    "from typing import Union\n",
    "from einops import repeat\n",
    "from torch.utils.data import DataLoader\n",
    "from tqdm.notebook import tqdm\n",
    "import plotly.graph_objects as go\n",
    "import copy\n",
    "import math\n",
    "from itertools import product\n",
    "from llc import *\n",
    "from sklearn.decomposition import PCA\n",
    "%load_ext autoreload\n",
    "%autoreload 2\n",
    "\n",
    "device = t.device(\"cuda\" if t.cuda.is_available() else \"cpu\")"
   ]
  },
  {
   "cell_type": "code",
   "execution_count": 2,
   "id": "ab708bd8-59ad-46e6-a0a4-17731777106b",
   "metadata": {},
   "outputs": [],
   "source": [
    "def get_pc0(A, thresh=1e-6, verbose=True):\n",
    "    '''\n",
    "    Returns (max principal component pc1, A orthogonalized by pc1)\n",
    "    '''\n",
    "    x = t.randn(A.shape[1], 1)\n",
    "    x_prev = t.zeros_like(x)\n",
    "    x /= x.norm()\n",
    "    while (x - x_prev).norm() > thresh:\n",
    "        x_prev = x\n",
    "        x = A.T @ (A @ x)\n",
    "        x /= x.norm()\n",
    "        if verbose:\n",
    "            print((x - x_prev).norm())\n",
    "    return x, A - (A @ x) * x.T"
   ]
  },
  {
   "cell_type": "code",
   "execution_count": 3,
   "id": "edf8237e-d732-4c75-b4a3-6d6ad3f884e8",
   "metadata": {},
   "outputs": [],
   "source": [
    "path = '/workspace/models/2024_08_05_18_31_53_S_5__times_A_5__Z_2__'\n",
    "model, params = load_models(path, sel='final')"
   ]
  },
  {
   "cell_type": "code",
   "execution_count": 4,
   "id": "67be72bf-8ce6-494a-b2b0-5f41bbcdb8ee",
   "metadata": {},
   "outputs": [],
   "source": [
    "params.group_string = 'S(5)'"
   ]
  },
  {
   "cell_type": "code",
   "execution_count": 5,
   "id": "43f1ec57-f6d3-48b5-9a2c-78f721b10228",
   "metadata": {},
   "outputs": [
    {
     "name": "stdout",
     "output_type": "stream",
     "text": [
      "Intersection size: 14400/14400 (1.00)\n",
      "Added 14400 elements from intersection\n",
      "Added 0 elements from group 0: S(5)\n",
      "Train set size: 14400/14400 (1.00)\n"
     ]
    }
   ],
   "source": [
    "dataset = GroupData(params)"
   ]
  },
  {
   "cell_type": "code",
   "execution_count": 6,
   "id": "bf406606-56d3-493c-8a40-10457554a2c1",
   "metadata": {},
   "outputs": [],
   "source": [
    "loader = DataLoader(dataset=dataset, batch_size=150, shuffle=False)\n",
    "X, _ = next(iter(loader))\n",
    "X = X.to(device)"
   ]
  },
  {
   "cell_type": "code",
   "execution_count": 7,
   "id": "f1443318-22be-400d-9afe-bf288dd135f2",
   "metadata": {},
   "outputs": [],
   "source": [
    "itr = load_models_itr(path)"
   ]
  },
  {
   "cell_type": "code",
   "execution_count": null,
   "id": "2d608f7d-11a5-4b60-bd6f-f5193262f94f",
   "metadata": {},
   "outputs": [
    {
     "data": {
      "application/vnd.jupyter.widget-view+json": {
       "model_id": "ef5fcb97395d41c6927a3f370e29116b",
       "version_major": 2,
       "version_minor": 0
      },
      "text/plain": [
       "  0%|          | 0/1000 [00:00<?, ?it/s]"
      ]
     },
     "metadata": {},
     "output_type": "display_data"
    }
   ],
   "source": [
    "outputs = []\n",
    "for model in tqdm(itr, total=1000):\n",
    "    output = model.to(device)(X)\n",
    "    outputs.append(output.detach().cpu())\n",
    "    \n",
    "outputs = t.stack(outputs)  # epoch batch instance N"
   ]
  },
  {
   "cell_type": "code",
   "execution_count": null,
   "id": "338192fb-b819-407c-8162-ea0c12321fcb",
   "metadata": {},
   "outputs": [],
   "source": [
    "outputs = einops.rearrange(outputs, 'epoch batch instance vocab -> (epoch instance) (batch vocab)')"
   ]
  },
  {
   "cell_type": "code",
   "execution_count": null,
   "id": "1455d7a5-76f3-4723-bac9-e8c1dea3681a",
   "metadata": {},
   "outputs": [],
   "source": [
    "pca0, A0 = get_pc0(outputs.T)"
   ]
  },
  {
   "cell_type": "code",
   "execution_count": null,
   "id": "2100b541-a879-4089-89d3-2d54cd314746",
   "metadata": {},
   "outputs": [],
   "source": [
    "pca1, A1 = get_pc0(A0)"
   ]
  },
  {
   "cell_type": "code",
   "execution_count": null,
   "id": "7d2bed18-3b4c-4c94-bd5c-4f2cc1006c6c",
   "metadata": {},
   "outputs": [],
   "source": [
    "pca2, A2 = get_pc0(A1)"
   ]
  },
  {
   "cell_type": "code",
   "execution_count": null,
   "id": "24e83c30-d168-45bf-8e11-99b1c731b682",
   "metadata": {},
   "outputs": [],
   "source": [
    "pcs = t.concat([pca0, pca1, pca2], dim=1)"
   ]
  },
  {
   "cell_type": "code",
   "execution_count": null,
   "id": "2062108a-6ba5-42db-9cd5-54dbe1cec3bb",
   "metadata": {},
   "outputs": [],
   "source": [
    "pcs = einops.rearrange(pcs, '(epoch instance) m -> epoch instance m', epoch=1000, instance=100)"
   ]
  },
  {
   "cell_type": "code",
   "execution_count": null,
   "id": "be136ff9-7450-4117-8a26-f378549d2f76",
   "metadata": {},
   "outputs": [],
   "source": [
    "G0 = [5, 55, 90, 93]\n",
    "G1 = [8, 44, 66, 92, 97, 99]"
   ]
  },
  {
   "cell_type": "code",
   "execution_count": null,
   "id": "eb1ee433-edf4-40a1-ab72-14d25a497244",
   "metadata": {},
   "outputs": [],
   "source": [
    "pc_idx0 = 0\n",
    "pc_idx1 = 1\n",
    "for i in range(pcs.shape[1]):\n",
    "    if i in G0:\n",
    "        c = 'r'\n",
    "        alpha = 1.\n",
    "    elif i in G1:\n",
    "        c = 'g'\n",
    "        alpha = 1.\n",
    "    else:\n",
    "        c = 'b'\n",
    "        alpha = 0.05\n",
    "    plt.plot(pcs[100:,i,pc_idx0].numpy(), pcs[100:,i,pc_idx1].numpy(), c=c, alpha=alpha)\n",
    "plt.show()"
   ]
  },
  {
   "cell_type": "code",
   "execution_count": null,
   "id": "ff150a6b-35a6-4042-95b7-e34f4d1102ab",
   "metadata": {},
   "outputs": [],
   "source": [
    "pcs.shape"
   ]
  },
  {
   "cell_type": "code",
   "execution_count": null,
   "id": "ef541b3b-f1f5-433b-abfb-21d9427775bb",
   "metadata": {},
   "outputs": [],
   "source": [
    "i = 9\n",
    "plt.plot(pcs[100:,i,0].numpy(), pcs[100:,i,1].numpy())\n",
    "plt.show()"
   ]
  },
  {
   "cell_type": "code",
   "execution_count": null,
   "id": "11dce922-3d53-4750-b818-808bc15bc7c7",
   "metadata": {},
   "outputs": [],
   "source": []
  }
 ],
 "metadata": {
  "kernelspec": {
   "display_name": "Python 3 (ipykernel)",
   "language": "python",
   "name": "python3"
  },
  "language_info": {
   "codemirror_mode": {
    "name": "ipython",
    "version": 3
   },
   "file_extension": ".py",
   "mimetype": "text/x-python",
   "name": "python",
   "nbconvert_exporter": "python",
   "pygments_lexer": "ipython3",
   "version": "3.10.12"
  }
 },
 "nbformat": 4,
 "nbformat_minor": 5
}
