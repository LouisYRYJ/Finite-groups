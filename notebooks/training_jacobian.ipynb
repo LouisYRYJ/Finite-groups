{
 "cells": [
  {
   "cell_type": "code",
   "execution_count": 9,
   "metadata": {},
   "outputs": [
    {
     "name": "stdout",
     "output_type": "stream",
     "text": [
      "The autoreload extension is already loaded. To reload it, use:\n",
      "  %reload_ext autoreload\n"
     ]
    }
   ],
   "source": [
    "import torch as t\n",
    "from torch import nn\n",
    "import numpy as np\n",
    "from tqdm.notebook import tqdm\n",
    "import torchopt\n",
    "import functorch\n",
    "from functools import partial\n",
    "from torch.utils.data import DataLoader, Dataset, RandomSampler\n",
    "\n",
    "\n",
    "import os, sys\n",
    "HOME = os.environ['HOME']  # change if necessary\n",
    "sys.path.append(f'{HOME}/Finite-groups/src')\n",
    "from model import MLP3, MLP4, InstancedModule\n",
    "from utils import *\n",
    "from group_data import *\n",
    "from model_utils import *\n",
    "from train import Parameters\n",
    "%load_ext autoreload\n",
    "%autoreload 2"
   ]
  },
  {
   "cell_type": "markdown",
   "metadata": {},
   "source": [
    "### Quadratic toy example"
   ]
  },
  {
   "cell_type": "code",
   "execution_count": 57,
   "metadata": {},
   "outputs": [],
   "source": [
    "class QuadraticModel(nn.Module):\n",
    "    def __init__(self, A):\n",
    "        super().__init__()\n",
    "        self.A = A\n",
    "        self.x = nn.Parameter(t.randn(A.shape[0]))\n",
    "\n",
    "    def forward(self):\n",
    "        return (self.x.T @ self.A @ self.x).squeeze()"
   ]
  },
  {
   "cell_type": "code",
   "execution_count": 71,
   "metadata": {},
   "outputs": [
    {
     "name": "stderr",
     "output_type": "stream",
     "text": [
      "/tmp/ipykernel_16905/538059995.py:7: FutureWarning: We've integrated functorch into PyTorch. As the final step of the integration, `functorch.make_functional` is deprecated as of PyTorch 2.0 and will be deleted in a future version of PyTorch >= 2.3. Please use `torch.func.functional_call` instead; see the PyTorch 2.0 release notes and/or the `torch.func` migration guide for more details https://pytorch.org/docs/main/func.migrating.html\n",
      "  model_f, init_params = functorch.make_functional(model)\n"
     ]
    }
   ],
   "source": [
    "ADAM_CFG = {\n",
    "    'lr': 0.01,\n",
    "}\n",
    "B = t.randn(5, 5)\n",
    "model = QuadraticModel(B.T @ B + 0.01 * t.eye(5))\n",
    "opt = torchopt.FuncOptimizer(torchopt.adam(**ADAM_CFG))\n",
    "model_f, init_params = functorch.make_functional(model)\n",
    "\n",
    "def train(init_params, iters):\n",
    "    params = init_params\n",
    "    for _ in tqdm(range(iters)):\n",
    "        loss = model_f(params)\n",
    "        params = opt.step(loss, params)\n",
    "    return params"
   ]
  },
  {
   "cell_type": "code",
   "execution_count": 73,
   "metadata": {},
   "outputs": [
    {
     "data": {
      "application/vnd.jupyter.widget-view+json": {
       "model_id": "2f39fb9dbdbf469cbba0451b52879bae",
       "version_major": 2,
       "version_minor": 0
      },
      "text/plain": [
       "  0%|          | 0/10 [00:00<?, ?it/s]"
      ]
     },
     "metadata": {},
     "output_type": "display_data"
    },
    {
     "data": {
      "text/plain": [
       "((tensor([[ 0.8728, -0.0568, -0.0088,  0.0194,  0.0596],\n",
       "          [-0.0096,  0.9777, -0.0029,  0.0046,  0.0027],\n",
       "          [-0.0029, -0.0059,  0.9853,  0.0128,  0.0014],\n",
       "          [ 0.0054,  0.0075,  0.0104,  0.9740, -0.0010],\n",
       "          [ 0.2598,  0.0741,  0.0190, -0.0174,  0.8710]],\n",
       "         grad_fn=<ViewBackward0>),),)"
      ]
     },
     "execution_count": 73,
     "metadata": {},
     "output_type": "execute_result"
    }
   ],
   "source": [
    "t.func.jacrev(partial(train, iters=10))(init_params)"
   ]
  },
  {
   "cell_type": "markdown",
   "metadata": {},
   "source": [
    "### Groups"
   ]
  },
  {
   "cell_type": "code",
   "execution_count": null,
   "metadata": {},
   "outputs": [
    {
     "name": "stdout",
     "output_type": "stream",
     "text": [
      "Intersection size: 576/576 (1.00)\n",
      "Added 576 elements from intersection\n",
      "Added 0 elements from group 0: S(4)\n",
      "Taking random subset: 230/576 (0.40)\n",
      "Train set size: 230/576 (0.40)\n"
     ]
    },
    {
     "name": "stderr",
     "output_type": "stream",
     "text": [
      "/tmp/ipykernel_82744/1362487095.py:37: FutureWarning: We've integrated functorch into PyTorch. As the final step of the integration, `functorch.make_functional` is deprecated as of PyTorch 2.0 and will be deleted in a future version of PyTorch >= 2.3. Please use `torch.func.functional_call` instead; see the PyTorch 2.0 release notes and/or the `torch.func` migration guide for more details https://pytorch.org/docs/main/func.migrating.html\n",
      "  model_f, init_params = functorch.make_functional(model)\n"
     ]
    }
   ],
   "source": [
    "PARAMS = Parameters(\n",
    "    instances=1,\n",
    "    embed_dim=32,\n",
    "    hidden_size=32,\n",
    "    group_string='S(4)',\n",
    "    model='MLP2',\n",
    "    unembed_bias=True,\n",
    "    weight_decay=2e-5,\n",
    "    train_frac=0.4,\n",
    ")\n",
    "\n",
    "t.manual_seed(PARAMS.seed)\n",
    "np.random.seed(PARAMS.seed)\n",
    "random.seed(PARAMS.seed)\n",
    "group_dataset = GroupData(params=PARAMS)\n",
    "model = MODEL_DICT[PARAMS.model](params=PARAMS).to(device)\n",
    "\n",
    "batch_size = len(group_dataset)\n",
    "# sampler = RandomSampler(group_dataset, replacement=PARAMS.replacement)\n",
    "train_loader = DataLoader(\n",
    "    dataset=group_dataset,\n",
    "    batch_size=batch_size,\n",
    "    # shuffle=True,\n",
    "    drop_last=True,\n",
    "    # sampler=sampler,\n",
    ")\n",
    "\n",
    "# TODO: bias params should not get weight decay (to match with train.py)\n",
    "# But probably doesn't matter much\n",
    "opt = torchopt.FuncOptimizer(\n",
    "    torchopt.adam(\n",
    "        weight_decay=PARAMS.weight_decay,\n",
    "        lr=PARAMS.lr,\n",
    "        betas=[PARAMS.beta1, PARAMS.beta2],\n",
    "    )\n",
    ")\n",
    "model_f, init_params = functorch.make_functional(model)\n",
    "param_shapes = [p.shape for p in init_params]\n",
    "\n",
    "def flatten(params):\n",
    "    return t.cat([p.flatten() for p in params])\n",
    "\n",
    "def unflatten(flat_params, shapes):\n",
    "    params = []\n",
    "    i = 0\n",
    "    for shape in shapes:\n",
    "        size = np.prod(shape)\n",
    "        params.append(flat_params[i:i+size].reshape(shape))\n",
    "        i += size\n",
    "    return params\n",
    "\n",
    "def train(flat_init_params, epochs):\n",
    "    params = unflatten(flat_init_params)\n",
    "    for epoch in tqdm(range(epochs)):\n",
    "        for x, z in train_loader:\n",
    "            x = x.to(device)\n",
    "            z = z.to(device)\n",
    "            output = model_f(params, x)\n",
    "            loss = get_cross_entropy(output, z)\n",
    "            params = opt.step(loss, params)\n",
    "    return params\n"
   ]
  },
  {
   "cell_type": "code",
   "execution_count": 26,
   "metadata": {},
   "outputs": [
    {
     "name": "stderr",
     "output_type": "stream",
     "text": [
      "100%|██████████| 5/5 [00:00<00:00, 109.46it/s]\n"
     ]
    },
    {
     "ename": "AttributeError",
     "evalue": "'tuple' object has no attribute 'shape'",
     "output_type": "error",
     "traceback": [
      "\u001b[0;31m---------------------------------------------------------------------------\u001b[0m",
      "\u001b[0;31mAttributeError\u001b[0m                            Traceback (most recent call last)",
      "Cell \u001b[0;32mIn[26], line 2\u001b[0m\n\u001b[1;32m      1\u001b[0m train_jac \u001b[38;5;241m=\u001b[39m t\u001b[38;5;241m.\u001b[39mfunc\u001b[38;5;241m.\u001b[39mjacrev(partial(train, epochs\u001b[38;5;241m=\u001b[39m\u001b[38;5;241m5\u001b[39m))(init_params)\n\u001b[0;32m----> 2\u001b[0m \u001b[43mtrain_jac\u001b[49m\u001b[38;5;241;43m.\u001b[39;49m\u001b[43mshape\u001b[49m\n",
      "\u001b[0;31mAttributeError\u001b[0m: 'tuple' object has no attribute 'shape'"
     ]
    }
   ],
   "source": [
    "train_jac = t.func.jacrev(partial(train, epochs=5))(init_params)\n",
    "train_jac.shape"
   ]
  },
  {
   "cell_type": "code",
   "execution_count": 32,
   "metadata": {},
   "outputs": [
    {
     "data": {
      "text/plain": [
       "[torch.Size([1, 24, 32]),\n",
       " torch.Size([1, 24, 32]),\n",
       " torch.Size([1, 32, 32]),\n",
       " torch.Size([1, 32, 32]),\n",
       " torch.Size([1, 32, 24]),\n",
       " torch.Size([1, 24])]"
      ]
     },
     "execution_count": 32,
     "metadata": {},
     "output_type": "execute_result"
    }
   ],
   "source": [
    "[t.shape for t in init_params]"
   ]
  },
  {
   "cell_type": "code",
   "execution_count": 17,
   "metadata": {},
   "outputs": [
    {
     "name": "stderr",
     "output_type": "stream",
     "text": [
      "100%|██████████| 1000/1000 [00:07<00:00, 125.18it/s]\n"
     ]
    },
    {
     "data": {
      "text/plain": [
       "tensor([0.0008], grad_fn=<MeanBackward1>)"
      ]
     },
     "execution_count": 17,
     "metadata": {},
     "output_type": "execute_result"
    }
   ],
   "source": [
    "params = train(init_params, epochs=1000)\n",
    "x, z = next(iter(train_loader))\n",
    "x = x.to(device)\n",
    "z = z.to(device)\n",
    "output = model_f(params, x)\n",
    "get_cross_entropy(output, z)"
   ]
  },
  {
   "cell_type": "code",
   "execution_count": 14,
   "metadata": {},
   "outputs": [
    {
     "data": {
      "text/plain": [
       "tensor([0.0008], grad_fn=<MeanBackward1>)"
      ]
     },
     "execution_count": 14,
     "metadata": {},
     "output_type": "execute_result"
    }
   ],
   "source": []
  },
  {
   "cell_type": "code",
   "execution_count": null,
   "metadata": {},
   "outputs": [],
   "source": []
  }
 ],
 "metadata": {
  "kernelspec": {
   "display_name": "group_addition-BDyFuYvs-py3.10",
   "language": "python",
   "name": "python3"
  },
  "language_info": {
   "codemirror_mode": {
    "name": "ipython",
    "version": 3
   },
   "file_extension": ".py",
   "mimetype": "text/x-python",
   "name": "python",
   "nbconvert_exporter": "python",
   "pygments_lexer": "ipython3",
   "version": "3.10.12"
  }
 },
 "nbformat": 4,
 "nbformat_minor": 2
}
