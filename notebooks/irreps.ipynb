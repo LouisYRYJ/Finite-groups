{
 "cells": [
  {
   "cell_type": "code",
   "execution_count": 1,
   "id": "8293bd26-5402-4955-a9c6-ed25d4b90d4f",
   "metadata": {},
   "outputs": [],
   "source": [
    "import sys\n",
    "import torch as t\n",
    "import torch\n",
    "import numpy as np\n",
    "from matplotlib import pyplot as plt\n",
    "import json\n",
    "from itertools import product\n",
    "sys.path.append('/workspace/wilson/Finite-groups/src')\n",
    "from model import MLP3, MLP4, InstancedModule\n",
    "from utils import *\n",
    "from group_data import *\n",
    "from model_utils import *\n",
    "from group_utils import *\n",
    "from jaxtyping import Float\n",
    "from typing import Union\n",
    "from einops import repeat\n",
    "from torch.utils.data import DataLoader\n",
    "from tqdm.notebook import tqdm\n",
    "import plotly.graph_objects as go\n",
    "import copy\n",
    "import math\n",
    "from itertools import product\n",
    "from llc import *\n",
    "import pandas as pd\n",
    "%load_ext autoreload\n",
    "%autoreload 2"
   ]
  },
  {
   "cell_type": "code",
   "execution_count": 2,
   "id": "b5cbe6c1-ecf8-4748-bf1c-c1d2de5ec249",
   "metadata": {},
   "outputs": [],
   "source": [
    "# path = '/workspace/models/2024-08-14_21-24-30_gapS_5_'\n",
    "# path = '/workspace/models/2024-08-16_20-45-42_F11_MLP3_256'\n",
    "# path = '/workspace/models/2024-08-16_22-14-00_F11_MLP3_256_wd2e-4'\n",
    "path = '/workspace/models/2024-08-16_22-53-29_SL2_5_MLP3_256'\n",
    "models, params = load_models(path)"
   ]
  },
  {
   "cell_type": "code",
   "execution_count": 3,
   "id": "05584495-c4c4-445b-903a-a0f942f5d73f",
   "metadata": {},
   "outputs": [
    {
     "name": "stdout",
     "output_type": "stream",
     "text": [
      "Intersection size: 14400/14400 (1.00)\n",
      "Added 14400 elements from intersection\n",
      "Added 0 elements from group 0: smallgrp(120, 5)\n",
      "Taking random subset: 5760/14400 (0.40)\n",
      "Train set size: 5760/14400 (0.40)\n"
     ]
    }
   ],
   "source": [
    "data = GroupData(params)"
   ]
  },
  {
   "cell_type": "code",
   "execution_count": 4,
   "id": "ccb4a6de-eabe-4535-9d3f-df78a05f3633",
   "metadata": {},
   "outputs": [],
   "source": [
    "loss_dict = test_loss(models[-1].to(device), data)"
   ]
  },
  {
   "cell_type": "code",
   "execution_count": 5,
   "id": "dfbeeb98-3651-45bb-a81b-b5c2b959a2a0",
   "metadata": {},
   "outputs": [
    {
     "data": {
      "text/plain": [
       "(tensor(0.0567, device='cuda:0'), tensor(19, device='cuda:0'))"
      ]
     },
     "execution_count": 5,
     "metadata": {},
     "output_type": "execute_result"
    }
   ],
   "source": [
    "loss_dict['G0_loss'].min(), loss_dict['G0_loss'].argmin()"
   ]
  },
  {
   "cell_type": "code",
   "execution_count": 6,
   "id": "0c849b59-7b89-4ace-b012-60bfe353dc3e",
   "metadata": {},
   "outputs": [],
   "source": [
    "instance = loss_dict['G0_loss'].argmin().item()"
   ]
  },
  {
   "cell_type": "code",
   "execution_count": 7,
   "id": "1b3e1c90-45f9-43dc-b2bf-6fa305d7d196",
   "metadata": {},
   "outputs": [],
   "source": [
    "model = models[-1][instance].to(device)\n",
    "lneurons, rneurons = model.get_neurons()\n",
    "unembed = model.unembedding.data.detach()\n",
    "lneurons, rneurons, unembed = lneurons.squeeze(0).to('cpu'), rneurons.squeeze(0).to('cpu'), unembed.squeeze(0).to('cpu')"
   ]
  },
  {
   "cell_type": "code",
   "execution_count": null,
   "id": "04184b29-932c-4ecd-8632-babcb5da92d3",
   "metadata": {},
   "outputs": [
    {
     "name": "stdout",
     "output_type": "stream",
     "text": [
      "> \u001b[0;32m/workspace/wilson/Finite-groups/src/group.py\u001b[0m(358)\u001b[0;36mget_real_irreps\u001b[0;34m()\u001b[0m\n",
      "\u001b[0;32m    356 \u001b[0;31m                    \u001b[0;32mif\u001b[0m \u001b[0mtries\u001b[0m \u001b[0;34m>\u001b[0m \u001b[0mmax_tries\u001b[0m\u001b[0;34m:\u001b[0m\u001b[0;34m\u001b[0m\u001b[0;34m\u001b[0m\u001b[0m\n",
      "\u001b[0m\u001b[0;32m    357 \u001b[0;31m                        \u001b[0;32mimport\u001b[0m \u001b[0mpdb\u001b[0m\u001b[0;34m;\u001b[0m \u001b[0mpdb\u001b[0m\u001b[0;34m.\u001b[0m\u001b[0mset_trace\u001b[0m\u001b[0;34m(\u001b[0m\u001b[0;34m)\u001b[0m\u001b[0;34m\u001b[0m\u001b[0;34m\u001b[0m\u001b[0m\n",
      "\u001b[0m\u001b[0;32m--> 358 \u001b[0;31m                        \u001b[0;32massert\u001b[0m \u001b[0;32mFalse\u001b[0m\u001b[0;34m,\u001b[0m \u001b[0;34mf\"Exceeded {max_tries} tries without finding nonzero symmetric S\"\u001b[0m\u001b[0;34m\u001b[0m\u001b[0;34m\u001b[0m\u001b[0m\n",
      "\u001b[0m\u001b[0;32m    359 \u001b[0;31m                    \u001b[0mtries\u001b[0m \u001b[0;34m+=\u001b[0m \u001b[0;36m1\u001b[0m\u001b[0;34m\u001b[0m\u001b[0;34m\u001b[0m\u001b[0m\n",
      "\u001b[0m\u001b[0;32m    360 \u001b[0;31m                \u001b[0mS\u001b[0m \u001b[0;34m=\u001b[0m \u001b[0;34m(\u001b[0m\u001b[0mS\u001b[0m \u001b[0;34m+\u001b[0m \u001b[0mS\u001b[0m\u001b[0;34m.\u001b[0m\u001b[0mT\u001b[0m\u001b[0;34m)\u001b[0m \u001b[0;34m/\u001b[0m \u001b[0;36m2\u001b[0m\u001b[0;34m\u001b[0m\u001b[0;34m\u001b[0m\u001b[0m\n",
      "\u001b[0m\n"
     ]
    },
    {
     "name": "stdin",
     "output_type": "stream",
     "text": [
      "ipdb>  p S\n"
     ]
    },
    {
     "name": "stdout",
     "output_type": "stream",
     "text": [
      "tensor([[-305.2792-233.3560j, -203.4202+461.6400j, -318.1489+295.3664j,\n",
      "          185.6349+269.0364j],\n",
      "        [ 114.7286+166.2736j,    4.9157-201.9540j,    4.9157-201.9540j,\n",
      "         -308.3174-108.5416j],\n",
      "        [ 389.0553-192.6036j, -423.0461-274.8152j, -109.8128-368.2276j,\n",
      "         -198.5044+259.6859j],\n",
      "        [-318.1489+295.3665j,  308.3173+108.5416j,  303.4015+310.4956j,\n",
      "          198.5045-259.6860j]])\n"
     ]
    }
   ],
   "source": [
    "irreps = data.groups[0].get_real_irreps()"
   ]
  },
  {
   "cell_type": "code",
   "execution_count": null,
   "id": "3976e018-0b72-4509-addf-fef74191123c",
   "metadata": {},
   "outputs": [],
   "source": [
    "irreps.keys()"
   ]
  },
  {
   "cell_type": "code",
   "execution_count": 53,
   "id": "75ab5326-1736-4637-ab95-33c059fe4a3c",
   "metadata": {},
   "outputs": [],
   "source": [
    "irrep_bases = dict()\n",
    "for name, irrep in irreps.items():\n",
    "    irrep = einops.rearrange(irrep, 'N d1 d2 -> N (d1 d2)')\n",
    "    irrep_bases[name] = torch.svd(irrep)[0]"
   ]
  },
  {
   "cell_type": "code",
   "execution_count": 54,
   "id": "a10c3cdc-8e18-4e90-b678-254f32a19692",
   "metadata": {},
   "outputs": [
    {
     "name": "stdout",
     "output_type": "stream",
     "text": [
      "1d-0 torch.Size([110, 1])\n",
      "1d-1 torch.Size([110, 1])\n",
      "2d-0 torch.Size([110, 4])\n",
      "2d-1 torch.Size([110, 4])\n",
      "2d-2 torch.Size([110, 4])\n",
      "2d-3 torch.Size([110, 4])\n",
      "2d-4 torch.Size([110, 4])\n",
      "2d-5 torch.Size([110, 4])\n",
      "2d-6 torch.Size([110, 4])\n",
      "2d-7 torch.Size([110, 4])\n",
      "10d-0 torch.Size([110, 100])\n"
     ]
    }
   ],
   "source": [
    "for k, v in irrep_bases.items():\n",
    "    print(k, v.shape)"
   ]
  },
  {
   "cell_type": "code",
   "execution_count": 55,
   "id": "e92d87e1-4c79-4e07-b4ab-f498c8decf67",
   "metadata": {},
   "outputs": [],
   "source": [
    "lexpl = dict()\n",
    "for name, basis in irrep_bases.items():\n",
    "    proj = basis.T @ lneurons\n",
    "    lexpl[name] = proj.norm(dim=0)**2 / lneurons.norm(dim=0)**2\n",
    "    #lexpl[name] = lexpl[name].nan_to_num(-1.)"
   ]
  },
  {
   "cell_type": "code",
   "execution_count": 56,
   "id": "f924df90-7cff-4ef7-9aa3-ba25ed20f41a",
   "metadata": {},
   "outputs": [],
   "source": [
    "lexpl_total, lirrep = t.stack(list(lexpl.values()), dim=0).max(dim=0)"
   ]
  },
  {
   "cell_type": "code",
   "execution_count": 57,
   "id": "2491041c-1a7b-4769-8cee-7431d1c44c23",
   "metadata": {},
   "outputs": [
    {
     "data": {
      "text/plain": [
       "tensor([1.0000,    nan, 1.0000, 1.0000, 1.0000, 1.0000, 1.0000, 1.0000,    nan,\n",
       "        1.0000, 1.0000, 1.0000, 1.0000, 1.0000,    nan, 0.9490, 1.0000, 1.0000,\n",
       "        1.0000, 1.0000, 0.9999, 1.0000, 1.0000, 1.0000, 0.9421, 1.0000, 0.9996,\n",
       "        1.0000, 1.0000, 1.0000, 1.0000,    nan, 1.0000, 1.0000, 1.0000, 1.0000,\n",
       "        1.0000, 1.0000, 0.9999, 1.0000,    nan, 1.0000, 1.0000,    nan, 1.0000,\n",
       "        1.0000, 1.0000, 0.9999, 1.0000, 0.9999, 1.0000, 1.0000,    nan,    nan,\n",
       "        1.0000, 1.0000, 0.9556, 1.0000, 1.0000, 1.0000, 1.0000, 1.0000, 1.0000,\n",
       "        1.0000, 1.0000, 1.0000, 1.0000, 1.0000, 1.0000, 1.0000, 0.7936, 1.0000,\n",
       "        1.0000,    nan,    nan, 0.9996, 1.0000, 1.0000, 1.0000, 1.0000,    nan,\n",
       "           nan, 1.0000, 1.0000, 0.9975,    nan, 1.0000, 1.0000, 0.9996, 1.0000,\n",
       "           nan, 1.0000,    nan, 1.0000,    nan, 1.0000, 1.0000, 1.0000, 1.0000,\n",
       "        1.0000, 1.0000, 1.0000, 1.0000, 1.0000, 1.0000,    nan, 1.0000, 1.0000,\n",
       "           nan, 1.0000, 0.9999, 1.0000, 1.0000, 1.0000, 0.9999, 1.0000, 1.0000,\n",
       "           nan, 1.0000, 1.0000, 1.0000, 1.0000, 1.0000, 1.0000,    nan, 1.0000,\n",
       "        1.0000, 1.0000, 1.0000, 1.0000, 0.9999, 1.0000, 1.0000, 0.9990,    nan,\n",
       "        1.0000, 1.0000, 1.0000, 1.0000, 1.0000, 1.0000, 1.0000, 1.0000, 1.0000,\n",
       "        1.0000, 1.0000,    nan, 0.9980, 1.0000, 1.0000,    nan, 0.9980, 1.0000,\n",
       "        1.0000, 0.9489, 1.0000, 0.7928, 1.0000, 1.0000, 1.0000, 1.0000, 0.9976,\n",
       "           nan, 1.0000, 1.0000, 1.0000, 1.0000, 1.0000, 1.0000,    nan,    nan,\n",
       "        1.0000, 0.9999,    nan, 1.0000, 1.0000, 1.0000,    nan, 1.0000, 1.0000,\n",
       "        1.0000, 1.0000, 1.0000, 1.0000, 1.0000, 1.0000, 1.0000, 0.9999,    nan,\n",
       "        1.0000, 1.0000, 1.0000, 1.0000, 1.0000,    nan, 0.9691, 1.0000,    nan,\n",
       "        1.0000, 1.0000, 1.0000, 1.0000, 1.0000, 1.0000, 1.0000, 1.0000, 1.0000,\n",
       "        1.0000, 1.0000, 1.0000, 1.0000, 1.0000, 1.0000, 1.0000, 1.0000,    nan,\n",
       "        1.0000, 1.0000, 1.0000, 1.0000, 1.0000, 1.0000, 1.0000, 0.7983, 1.0000,\n",
       "        1.0000, 1.0000, 1.0000, 1.0000,    nan, 1.0000, 1.0000, 1.0000, 1.0000,\n",
       "        1.0000, 1.0000, 1.0000, 1.0000, 1.0000, 1.0000, 1.0000, 1.0000, 0.9996,\n",
       "        1.0000, 0.9421, 0.9999, 1.0000, 1.0000, 1.0000, 1.0000, 1.0000, 1.0000,\n",
       "        0.9415, 0.9996, 0.9982, 1.0000])"
      ]
     },
     "execution_count": 57,
     "metadata": {},
     "output_type": "execute_result"
    }
   ],
   "source": [
    "lexpl_total"
   ]
  },
  {
   "cell_type": "code",
   "execution_count": 58,
   "id": "d27a9f1f-6390-4481-9c5c-f2a47e0115a3",
   "metadata": {},
   "outputs": [],
   "source": [
    "irrep_counts = defaultdict(lambda: 0)\n",
    "for i in range(lexpl_total.shape[0]):\n",
    "    if t.isnan(lexpl_total[i]):\n",
    "        irrep_counts['dead'] += 1\n",
    "    elif lexpl_total[i] < 0.95:\n",
    "        irrep_counts['none'] += 1\n",
    "    else:\n",
    "        irrep_counts[list(lexpl.keys())[lirrep[i]]] += 1\n"
   ]
  },
  {
   "cell_type": "code",
   "execution_count": 59,
   "id": "1b0327cc-1850-4940-9258-f4edff159c7b",
   "metadata": {},
   "outputs": [
    {
     "data": {
      "text/plain": [
       "defaultdict(<function __main__.<lambda>()>,\n",
       "            {'10d-0': 201,\n",
       "             'dead': 33,\n",
       "             '1d-1': 3,\n",
       "             'none': 8,\n",
       "             '2d-0': 10,\n",
       "             '2d-6': 1})"
      ]
     },
     "execution_count": 59,
     "metadata": {},
     "output_type": "execute_result"
    }
   ],
   "source": [
    "irrep_counts"
   ]
  },
  {
   "cell_type": "code",
   "execution_count": 41,
   "id": "f28bc482-98d3-4e9d-829a-006f58522892",
   "metadata": {},
   "outputs": [
    {
     "data": {
      "text/plain": [
       "Parameters(instances=100, embed_dim=256, hidden_size=256, epochs=10000, batch_size=64, batched=False, activation='relu', weight_decay=0.001, lr=0.01, beta1=0.9, beta2=0.98, optimizer='adam', checkpoint=3, name='smallgrp(110, 1)', seed=42, group_string='smallgrp(110, 1)', intersect_frac=1.0, delta_frac=[0.0], train_frac=0.4, save_weights=False, load_weights='', wandb=True, thresh_grok=0.95, project='group generalization', model='MLP3', unembed_bias=False, init_func='kaiming_uniform', correct_embed=False)"
      ]
     },
     "execution_count": 41,
     "metadata": {},
     "output_type": "execute_result"
    }
   ],
   "source": [
    "params"
   ]
  },
  {
   "cell_type": "code",
   "execution_count": 44,
   "id": "f6ec78d8-4fca-4119-8e23-5a97dadd1e0a",
   "metadata": {},
   "outputs": [
    {
     "data": {
      "text/plain": [
       "tensor(0.9998)"
      ]
     },
     "execution_count": 44,
     "metadata": {},
     "output_type": "execute_result"
    }
   ],
   "source": [
    "lexpl['10d-0'][lexpl['10d-0'] > 0.9].min()"
   ]
  },
  {
   "cell_type": "code",
   "execution_count": null,
   "id": "c94da501-8bbf-4846-946e-0efa13960cfc",
   "metadata": {},
   "outputs": [],
   "source": []
  }
 ],
 "metadata": {
  "kernelspec": {
   "display_name": "Python 3 (ipykernel)",
   "language": "python",
   "name": "python3"
  },
  "language_info": {
   "codemirror_mode": {
    "name": "ipython",
    "version": 3
   },
   "file_extension": ".py",
   "mimetype": "text/x-python",
   "name": "python",
   "nbconvert_exporter": "python",
   "pygments_lexer": "ipython3",
   "version": "3.10.12"
  }
 },
 "nbformat": 4,
 "nbformat_minor": 5
}
