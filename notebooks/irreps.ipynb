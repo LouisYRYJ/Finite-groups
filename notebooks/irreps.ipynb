{
 "cells": [
  {
   "cell_type": "code",
   "execution_count": 1,
   "id": "8293bd26-5402-4955-a9c6-ed25d4b90d4f",
   "metadata": {},
   "outputs": [],
   "source": [
    "import sys\n",
    "import torch as t\n",
    "import torch\n",
    "import numpy as np\n",
    "from matplotlib import pyplot as plt\n",
    "import json\n",
    "from itertools import product\n",
    "sys.path.append('/workspace/wilson/Finite-groups/src')\n",
    "from model import MLP3, MLP4, InstancedModule\n",
    "from utils import *\n",
    "from group_data import *\n",
    "from model_utils import *\n",
    "from group_utils import *\n",
    "from jaxtyping import Float\n",
    "from typing import Union\n",
    "from einops import repeat\n",
    "from torch.utils.data import DataLoader\n",
    "from tqdm.notebook import tqdm\n",
    "import plotly.graph_objects as go\n",
    "import copy\n",
    "import math\n",
    "from itertools import product\n",
    "from llc import *\n",
    "import pandas as pd\n",
    "%load_ext autoreload\n",
    "%autoreload 2"
   ]
  },
  {
   "cell_type": "code",
   "execution_count": 2,
   "id": "b5cbe6c1-ecf8-4748-bf1c-c1d2de5ec249",
   "metadata": {},
   "outputs": [],
   "source": [
    "path = '/workspace/models/2024-08-14_21-24-30_gapS_5_'\n",
    "models, params = load_models(path)"
   ]
  },
  {
   "cell_type": "code",
   "execution_count": 3,
   "id": "05584495-c4c4-445b-903a-a0f942f5d73f",
   "metadata": {},
   "outputs": [
    {
     "name": "stdout",
     "output_type": "stream",
     "text": [
      "Intersection size: 14400/14400 (1.00)\n",
      "Added 14400 elements from intersection\n",
      "Added 0 elements from group 0: gapS(5)\n",
      "Taking random subset: 5760/14400 (0.40)\n",
      "Train set size: 5760/14400 (0.40)\n"
     ]
    }
   ],
   "source": [
    "data = GroupData(params)"
   ]
  },
  {
   "cell_type": "code",
   "execution_count": 4,
   "id": "ccb4a6de-eabe-4535-9d3f-df78a05f3633",
   "metadata": {},
   "outputs": [],
   "source": [
    "loss_dict = test_loss(models[-1].to(device), data)"
   ]
  },
  {
   "cell_type": "code",
   "execution_count": 7,
   "id": "dfbeeb98-3651-45bb-a81b-b5c2b959a2a0",
   "metadata": {},
   "outputs": [
    {
     "data": {
      "text/plain": [
       "tensor(71, device='cuda:0')"
      ]
     },
     "execution_count": 7,
     "metadata": {},
     "output_type": "execute_result"
    }
   ],
   "source": [
    "loss_dict['G0_loss'].argmin()"
   ]
  },
  {
   "cell_type": "code",
   "execution_count": 35,
   "id": "1b3e1c90-45f9-43dc-b2bf-6fa305d7d196",
   "metadata": {},
   "outputs": [],
   "source": [
    "model = models[-1][71].to(device)\n",
    "lneurons, rneurons = model.get_neurons()\n",
    "unembed = model.unembedding.data.detach()\n",
    "lneurons, rneurons, unembed = lneurons.squeeze(0).to('cpu'), rneurons.squeeze(0).to('cpu'), unembed.squeeze(0).to('cpu')"
   ]
  },
  {
   "cell_type": "code",
   "execution_count": 36,
   "id": "04184b29-932c-4ecd-8632-babcb5da92d3",
   "metadata": {},
   "outputs": [],
   "source": [
    "irreps = data.groups[0].get_irreps()"
   ]
  },
  {
   "cell_type": "code",
   "execution_count": 37,
   "id": "3976e018-0b72-4509-addf-fef74191123c",
   "metadata": {},
   "outputs": [
    {
     "data": {
      "text/plain": [
       "torch.Size([120, 4, 4])"
      ]
     },
     "execution_count": 37,
     "metadata": {},
     "output_type": "execute_result"
    }
   ],
   "source": [
    "irreps['4d-0'].shape"
   ]
  },
  {
   "cell_type": "code",
   "execution_count": 38,
   "id": "75ab5326-1736-4637-ab95-33c059fe4a3c",
   "metadata": {},
   "outputs": [],
   "source": [
    "irrep_bases = dict()\n",
    "for name, irrep in irreps.items():\n",
    "    irrep = einops.rearrange(irrep, 'N d1 d2 -> N (d1 d2)')\n",
    "    irrep_bases[name] = torch.svd(irrep)[0]"
   ]
  },
  {
   "cell_type": "code",
   "execution_count": 44,
   "id": "e92d87e1-4c79-4e07-b4ab-f498c8decf67",
   "metadata": {},
   "outputs": [],
   "source": [
    "lexpl = dict()\n",
    "for name, basis in irrep_bases.items():\n",
    "    proj = basis.T @ lneurons\n",
    "    lexpl[name] = proj.norm(dim=0)**2 / lneurons.norm(dim=0)**2\n",
    "    lexpl[name] = lexpl[name].nan_to_num(0.)"
   ]
  },
  {
   "cell_type": "code",
   "execution_count": 49,
   "id": "f924df90-7cff-4ef7-9aa3-ba25ed20f41a",
   "metadata": {},
   "outputs": [],
   "source": [
    "lexpl_total, lirrep = t.stack(list(lexpl.values()), dim=0).max(dim=0)"
   ]
  },
  {
   "cell_type": "code",
   "execution_count": 50,
   "id": "2491041c-1a7b-4769-8cee-7431d1c44c23",
   "metadata": {},
   "outputs": [
    {
     "data": {
      "text/plain": [
       "tensor([0.0000e+00, 9.9999e-01, 9.9999e-01, 9.9999e-01, 9.9999e-01, 9.9999e-01,\n",
       "        9.9999e-01, 9.9999e-01, 0.0000e+00, 0.0000e+00, 9.9999e-01, 0.0000e+00,\n",
       "        9.9999e-01, 9.9999e-01, 9.9999e-01, 9.9999e-01, 0.0000e+00, 9.9999e-01,\n",
       "        9.9999e-01, 9.9999e-01, 9.9999e-01, 9.9999e-01, 9.9999e-01, 9.9999e-01,\n",
       "        9.9999e-01, 9.9999e-01, 9.9999e-01, 3.4028e+38, 9.9999e-01, 9.9999e-01,\n",
       "        9.9999e-01, 9.9999e-01, 0.0000e+00, 9.9989e-01, 9.9999e-01, 9.9999e-01,\n",
       "        9.9999e-01, 9.9999e-01, 9.9999e-01, 9.9999e-01, 9.9999e-01, 0.0000e+00,\n",
       "        0.0000e+00, 9.9995e-01, 9.9999e-01, 9.9999e-01, 9.9999e-01, 0.0000e+00,\n",
       "        9.9999e-01, 9.9999e-01, 9.9999e-01, 0.0000e+00, 9.9999e-01, 9.9998e-01,\n",
       "        9.9999e-01, 9.9998e-01, 9.9999e-01, 9.9999e-01, 0.0000e+00, 9.9998e-01,\n",
       "        9.9999e-01, 9.9999e-01, 9.9999e-01, 9.9999e-01, 9.9999e-01, 9.9999e-01,\n",
       "        9.9997e-01, 9.9999e-01, 9.9999e-01, 9.9999e-01, 9.9999e-01, 9.9999e-01,\n",
       "        9.9999e-01, 0.0000e+00, 9.9999e-01, 9.9999e-01, 9.9999e-01, 9.9999e-01,\n",
       "        0.0000e+00, 9.9999e-01, 9.9999e-01, 9.9998e-01, 9.9999e-01, 0.0000e+00,\n",
       "        9.9999e-01, 9.9999e-01, 9.9998e-01, 9.9997e-01, 9.9999e-01, 9.9999e-01,\n",
       "        9.9999e-01, 9.9999e-01, 9.9999e-01, 9.9999e-01, 9.9999e-01, 9.9999e-01,\n",
       "        9.9999e-01, 9.9995e-01, 9.9999e-01, 9.9999e-01, 9.9999e-01, 9.9999e-01,\n",
       "        9.9985e-01, 9.9999e-01, 9.9983e-01, 9.9983e-01, 9.9999e-01, 9.9999e-01,\n",
       "        9.9999e-01, 0.0000e+00, 9.9999e-01, 0.0000e+00, 9.9999e-01, 9.9999e-01,\n",
       "        0.0000e+00, 9.9999e-01, 9.9999e-01, 9.9999e-01, 9.9999e-01, 0.0000e+00,\n",
       "        9.9999e-01, 9.9999e-01, 9.9999e-01, 9.9999e-01, 9.9999e-01, 9.9999e-01,\n",
       "        9.9999e-01, 9.9999e-01])"
      ]
     },
     "execution_count": 50,
     "metadata": {},
     "output_type": "execute_result"
    }
   ],
   "source": [
    "lexpl_total"
   ]
  },
  {
   "cell_type": "code",
   "execution_count": 52,
   "id": "dca9e80b-c767-435a-b8e5-a2ed1e860401",
   "metadata": {},
   "outputs": [
    {
     "data": {
      "text/plain": [
       "tensor([5, 5, 5, 5, 5, 5, 5, 5, 5, 5, 5, 5, 5, 5, 0, 5, 5, 5, 5, 5, 5, 5, 5, 5,\n",
       "        5, 5, 5, 0, 5, 5, 5, 5, 5, 5, 5, 5, 5, 5, 5, 0, 5, 5, 5, 5, 5, 5, 5, 5,\n",
       "        5, 5, 5, 5, 5, 5, 5, 5, 5, 5, 5, 5, 5, 5, 5, 5, 5, 5, 5, 5, 5, 5, 5, 5,\n",
       "        5, 5, 5, 5, 5, 5, 5, 5, 5, 5, 5, 5, 5, 5, 5, 5, 0, 5, 0, 5, 5, 5, 5, 5,\n",
       "        5, 5, 5, 5, 5, 5, 5, 5, 5, 5, 5, 5, 5, 5])"
      ]
     },
     "execution_count": 52,
     "metadata": {},
     "output_type": "execute_result"
    }
   ],
   "source": [
    "lirrep[lexpl_total > 0.5]"
   ]
  },
  {
   "cell_type": "code",
   "execution_count": 53,
   "id": "fbe475db-db4a-4694-a8f2-54a1a8f864c9",
   "metadata": {},
   "outputs": [
    {
     "data": {
      "text/plain": [
       "'4d-1'"
      ]
     },
     "execution_count": 53,
     "metadata": {},
     "output_type": "execute_result"
    }
   ],
   "source": [
    "list(lexpl.keys())[5]"
   ]
  },
  {
   "cell_type": "code",
   "execution_count": 54,
   "id": "8138e168-75a2-4829-800f-7c5f1334012d",
   "metadata": {},
   "outputs": [
    {
     "data": {
      "text/plain": [
       "tensor([[[ 1.,  0.,  0.,  0.],\n",
       "         [ 0.,  1.,  0.,  0.],\n",
       "         [ 0.,  0.,  1.,  0.],\n",
       "         [ 0.,  0.,  0.,  1.]],\n",
       "\n",
       "        [[ 1.,  0.,  0.,  0.],\n",
       "         [ 0.,  1.,  0.,  0.],\n",
       "         [ 0.,  0.,  1.,  0.],\n",
       "         [ 0., -1.,  1., -1.]],\n",
       "\n",
       "        [[ 1.,  0.,  0.,  0.],\n",
       "         [ 0.,  0.,  0.,  1.],\n",
       "         [ 0.,  0.,  1.,  0.],\n",
       "         [ 0.,  1.,  0.,  0.]],\n",
       "\n",
       "        ...,\n",
       "\n",
       "        [[ 0.,  1., -1.,  1.],\n",
       "         [ 0.,  0.,  0.,  1.],\n",
       "         [ 0.,  0., -1.,  1.],\n",
       "         [ 1.,  0., -1.,  0.]],\n",
       "\n",
       "        [[ 0.,  0.,  0., -1.],\n",
       "         [ 0.,  1.,  0.,  0.],\n",
       "         [ 0.,  1., -1.,  0.],\n",
       "         [ 1.,  0., -1.,  0.]],\n",
       "\n",
       "        [[ 0.,  1., -1.,  1.],\n",
       "         [ 0.,  1.,  0.,  0.],\n",
       "         [ 0.,  1., -1.,  0.],\n",
       "         [ 1.,  0., -1.,  0.]]])"
      ]
     },
     "execution_count": 54,
     "metadata": {},
     "output_type": "execute_result"
    }
   ],
   "source": [
    "irreps['4d-1']"
   ]
  },
  {
   "cell_type": "code",
   "execution_count": null,
   "id": "1b0327cc-1850-4940-9258-f4edff159c7b",
   "metadata": {},
   "outputs": [],
   "source": []
  }
 ],
 "metadata": {
  "kernelspec": {
   "display_name": "Python 3 (ipykernel)",
   "language": "python",
   "name": "python3"
  },
  "language_info": {
   "codemirror_mode": {
    "name": "ipython",
    "version": 3
   },
   "file_extension": ".py",
   "mimetype": "text/x-python",
   "name": "python",
   "nbconvert_exporter": "python",
   "pygments_lexer": "ipython3",
   "version": "3.10.12"
  }
 },
 "nbformat": 4,
 "nbformat_minor": 5
}
