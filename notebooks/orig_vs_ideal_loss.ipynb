{
 "cells": [
  {
   "cell_type": "markdown",
   "id": "5398ebd2-48ab-423a-b560-92e9d2374a0b",
   "metadata": {},
   "source": [
    "### Setup"
   ]
  },
  {
   "cell_type": "code",
   "execution_count": 1,
   "id": "a71abab3",
   "metadata": {},
   "outputs": [],
   "source": [
    "import os, sys\n",
    "HOME = os.environ['HOME']  # change if necessary\n",
    "sys.path.append(f'{HOME}/Finite-groups/src')"
   ]
  },
  {
   "cell_type": "code",
   "execution_count": 2,
   "id": "c489f9fb",
   "metadata": {},
   "outputs": [
    {
     "name": "stderr",
     "output_type": "stream",
     "text": [
      "Syntax warning: Unbound global variable in /usr/share/gap/pkg/browse/PackageIn\\\n",
      "fo.g:73\n",
      "  if not IsKernelExtensionAvailable(\"Browse\", \"ncurses\") then\n",
      "         ^^^^^^^^^^^^^^^^^^^^^^^^^^\n",
      "Syntax warning: Unbound global variable in /usr/share/gap/pkg/edim/PackageInfo\\\n",
      ".g:60\n",
      "  if not IsKernelExtensionAvailable(\"EDIM\",\"ediv\") then\n",
      "         ^^^^^^^^^^^^^^^^^^^^^^^^^^\n"
     ]
    }
   ],
   "source": [
    "import torch as t\n",
    "import numpy as np\n",
    "from matplotlib import pyplot as plt\n",
    "import json\n",
    "from itertools import product\n",
    "from jaxtyping import Float\n",
    "from torch.utils.data import DataLoader\n",
    "from tqdm.notebook import tqdm\n",
    "import plotly.graph_objects as go\n",
    "import copy\n",
    "import math\n",
    "from itertools import product\n",
    "import pandas as pd\n",
    "from typing import Union\n",
    "from einops import repeat\n",
    "from huggingface_hub import snapshot_download\n",
    "from huggingface_hub.utils import disable_progress_bars\n",
    "\n",
    "\n",
    "from model import MLP3, MLP4, InstancedModule\n",
    "from utils import *\n",
    "from group_data import *\n",
    "from model_utils import *\n",
    "from group_utils import *\n",
    "from irrep_bounds import *\n",
    "from bound_utils import *\n",
    "%load_ext autoreload\n",
    "%autoreload 2"
   ]
  },
  {
   "cell_type": "code",
   "execution_count": 3,
   "id": "8ff47027",
   "metadata": {},
   "outputs": [],
   "source": [
    "t.manual_seed(42)    # clustering depends on random seed\n",
    "np.random.seed(42)"
   ]
  },
  {
   "cell_type": "code",
   "execution_count": 4,
   "id": "3a8c4d60",
   "metadata": {},
   "outputs": [
    {
     "data": {
      "text/plain": [
       "<torch.autograd.grad_mode.set_grad_enabled at 0x74728d5fc970>"
      ]
     },
     "execution_count": 4,
     "metadata": {},
     "output_type": "execute_result"
    }
   ],
   "source": [
    "t.set_grad_enabled(False)"
   ]
  },
  {
   "cell_type": "code",
   "execution_count": 5,
   "id": "f6e6671b",
   "metadata": {},
   "outputs": [
    {
     "name": "stdout",
     "output_type": "stream",
     "text": [
      "WARNING: Removing unknown training parameter correct_embed\n"
     ]
    },
    {
     "name": "stderr",
     "output_type": "stream",
     "text": [
      "/home/wilson/Finite-groups/src/model_utils.py:57: FutureWarning: You are using `torch.load` with `weights_only=False` (the current default value), which uses the default pickle module implicitly. It is possible to construct malicious pickle data which will execute arbitrary code during unpickling (See https://github.com/pytorch/pytorch/blob/main/SECURITY.md#untrusted-models for more details). In a future release, the default value for `weights_only` will be flipped to `True`. This limits the functions that could be executed during unpickling. Arbitrary objects will no longer be allowed to be loaded via this mode unless they are explicitly allowlisted by the user via `torch.serialization.add_safe_globals`. We recommend you start setting `weights_only=True` for any use case where you don't have full control of the loaded file. Please open an issue on GitHub for any issues related to this experimental feature.\n",
      "  model.load_state_dict(t.load(model_path, map_location=device))\n"
     ]
    },
    {
     "name": "stdout",
     "output_type": "stream",
     "text": [
      "Intersection size: 14400/14400 (1.00)\n",
      "Added 14400 elements from intersection\n",
      "Added 0 elements from group 0: gapS(5)\n",
      "Taking random subset: 5760/14400 (0.40)\n",
      "Train set size: 5760/14400 (0.40)\n"
     ]
    }
   ],
   "source": [
    "\n",
    "device = t.device(\"cuda\" if t.cuda.is_available() else \"cpu\")\n",
    "# MODEL_DIR = '2024-08-14_21-24-30_gapS_5_'\n",
    "MODEL_DIR = '2024-09-18_23-59-00_gapS5_MLP2_128_wd2e-4_ubias'\n",
    "# MODEL_DIR = '2024-09-22_22-12-21_gapF11_MLP2_256_wd1e-4_ubias'\n",
    "# MODEL_DIR = '2024-09-23_01-06-18_A5x2_MLP2_128_wd1e-4_ubias'\n",
    "# MODEL_DIR = '2024-09-23_02-50-16_sg96_227_MLP2_128_wd1e-4_ubias'\n",
    "\n",
    "disable_progress_bars()\n",
    "local_dir = f'{HOME}/models/{MODEL_DIR}'\n",
    "if not os.path.exists(local_dir):\n",
    "    snapshot_download(repo_id=f'wiwu2390/{MODEL_DIR}', local_dir=local_dir)\n",
    "models, params = load_models(local_dir,) #sel='final')\n",
    "models = models[-1]  # get last checkpoint\n",
    "data = GroupData(params)\n",
    "group = data.groups[0]"
   ]
  },
  {
   "cell_type": "code",
   "execution_count": 6,
   "id": "f39688c1",
   "metadata": {},
   "outputs": [
    {
     "name": "stderr",
     "output_type": "stream",
     "text": [
      "  0%|          | 0/100 [00:00<?, ?it/s]"
     ]
    },
    {
     "name": "stderr",
     "output_type": "stream",
     "text": [
      "100%|██████████| 100/100 [00:23<00:00,  4.18it/s]\n"
     ]
    }
   ],
   "source": [
    "irrep_idxs = []\n",
    "for instance in tqdm(range(len(models))):\n",
    "    model = models[instance]\n",
    "    irreps, irrep_idx_dict = get_neuron_irreps(model, group, norm_thresh=1)\n",
    "    irrep_idxs.append(irrep_idx_dict)"
   ]
  },
  {
   "cell_type": "code",
   "execution_count": 10,
   "id": "10ba8650",
   "metadata": {},
   "outputs": [
    {
     "name": "stderr",
     "output_type": "stream",
     "text": [
      "/tmp/ipykernel_188543/3089656520.py:1: FutureWarning: You are using `torch.load` with `weights_only=False` (the current default value), which uses the default pickle module implicitly. It is possible to construct malicious pickle data which will execute arbitrary code during unpickling (See https://github.com/pytorch/pytorch/blob/main/SECURITY.md#untrusted-models for more details). In a future release, the default value for `weights_only` will be flipped to `True`. This limits the functions that could be executed during unpickling. Arbitrary objects will no longer be allowed to be loaded via this mode unless they are explicitly allowlisted by the user via `torch.serialization.add_safe_globals`. We recommend you start setting `weights_only=True` for any use case where you don't have full control of the loaded file. Please open an issue on GitHub for any issues related to this experimental feature.\n",
      "  save = t.load('../data/acc_bound_S5_new.pt')\n"
     ]
    }
   ],
   "source": [
    "save = t.load('../data/acc_bound_S5_new.pt')\n",
    "locals().update(save)"
   ]
  },
  {
   "cell_type": "code",
   "execution_count": 14,
   "id": "bfde6c46",
   "metadata": {},
   "outputs": [],
   "source": [
    "ideal_models = MLP2.stack(ideal_models)"
   ]
  },
  {
   "cell_type": "code",
   "execution_count": null,
   "id": "d03286a3",
   "metadata": {},
   "outputs": [],
   "source": [
    "def ablate_loss(ln, rn, un):\n",
    "    ablate_model = copy.deepcopy(model)\n",
    "    if not isinstance(ablate_model, MLP4):\n",
    "        ablate_model = ablate_model.fold_linear()\n",
    "    ablate_model.embedding_left.data = ln.unsqueeze(0)\n",
    "    ablate_model.embedding_right.data = rn.unsqueeze(0)\n",
    "    ablate_model.unembedding.data = un.unsqueeze(0).mT\n",
    "    return test_loss(ablate_model.to(device), data)"
   ]
  },
  {
   "cell_type": "code",
   "execution_count": 53,
   "id": "de2bf8cc",
   "metadata": {},
   "outputs": [],
   "source": [
    "if not isinstance(models, MLP4):\n",
    "    models = models.fold_linear()\n",
    "if not isinstance(ideal_models, MLP4):\n",
    "    ideal_models = ideal_models.fold_linear()"
   ]
  },
  {
   "cell_type": "code",
   "execution_count": 56,
   "id": "56d9938f",
   "metadata": {},
   "outputs": [],
   "source": [
    "swap_models = dict()\n",
    "for name, param in ideal_models.named_parameters():\n",
    "    swap_models[name] = copy.deepcopy(models)\n",
    "    swap_models[name].get_parameter(name).data = param.data.clone()"
   ]
  },
  {
   "cell_type": "code",
   "execution_count": 57,
   "id": "29581236",
   "metadata": {},
   "outputs": [],
   "source": [
    "orig_loss = test_loss(models, data)\n",
    "ideal_loss = test_loss(ideal_models, data)\n",
    "swap_loss = {name: test_loss(model, data) for name, model in swap_models.items()}"
   ]
  },
  {
   "cell_type": "code",
   "execution_count": null,
   "id": "f2cc4ac4",
   "metadata": {},
   "outputs": [
    {
     "name": "stderr",
     "output_type": "stream",
     "text": [
      "/tmp/ipykernel_188543/3869536706.py:7: DeprecationWarning: __array__ implementation doesn't accept a copy keyword, so passing copy=False failed. __array__ must implement 'dtype' and 'copy' keyword arguments.\n",
      "  plt.plot(np.arange(min(ideal_loss_good), max(orig_loss_good)+0.001, 0.001), np.arange(min(ideal_loss_good), max(orig_loss_good)+0.001, 0.001), 'k', linestyle='--')\n"
     ]
    },
    {
     "data": {
      "image/png": "[encoded data removed]",
      "text/plain": [
       "<Figure size 640x480 with 1 Axes>"
      ]
     },
     "metadata": {},
     "output_type": "display_data"
    }
   ],
   "source": [
    "orig_loss_good = [orig_loss['G0_loss'][i] for i in range(len(models)) if i not in avar_bad and i not in irrep_bad]\n",
    "ideal_loss_good = [ideal_loss['G0_loss'][i] for i in range(len(models)) if i not in avar_bad and i not in irrep_bad]\n",
    "swap_loss_good = {name: [swap_loss[name]['G0_loss'][i] for i in range(len(models)) if i not in avar_bad and i not in irrep_bad] for name in swap_models}\n",
    "plt.scatter(orig_loss_good, ideal_loss_good, label='all')\n",
    "for name in swap_models:\n",
    "    plt.scatter(orig_loss_good, swap_loss_good[name], label=name, alpha=0.5)\n",
    "plt.plot(np.arange(min(ideal_loss_good), max(orig_loss_good)+0.001, 0.001), np.arange(min(ideal_loss_good), max(orig_loss_good)+0.001, 0.001), 'k', linestyle='--')\n",
    "plt.xlabel('Original model loss')\n",
    "plt.ylabel('Ideal model loss')\n",
    "plt.legend()\n",
    "plt.show()"
   ]
  },
  {
   "cell_type": "markdown",
   "id": "a20ea178",
   "metadata": {},
   "source": []
  }
 ],
 "metadata": {
  "kernelspec": {
   "display_name": "group_addition-BDyFuYvs-py3.10",
   "language": "python",
   "name": "python3"
  },
  "language_info": {
   "codemirror_mode": {
    "name": "ipython",
    "version": 3
   },
   "file_extension": ".py",
   "mimetype": "text/x-python",
   "name": "python",
   "nbconvert_exporter": "python",
   "pygments_lexer": "ipython3",
   "version": "3.10.12"
  }
 },
 "nbformat": 4,
 "nbformat_minor": 5
}
