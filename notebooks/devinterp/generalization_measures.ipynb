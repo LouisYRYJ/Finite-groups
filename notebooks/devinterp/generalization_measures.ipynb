{
 "cells": [
  {
   "cell_type": "code",
   "execution_count": 1,
   "metadata": {},
   "outputs": [
    {
     "name": "stderr",
     "output_type": "stream",
     "text": [
      "Syntax warning: Unbound global variable in /usr/share/gap/pkg/browse/PackageIn\\\n",
      "fo.g:73\n",
      "  if not IsKernelExtensionAvailable(\"Browse\", \"ncurses\") then\n",
      "         ^^^^^^^^^^^^^^^^^^^^^^^^^^\n",
      "Syntax warning: Unbound global variable in /usr/share/gap/pkg/cddinterface/Pac\\\n",
      "kageInfo.g:85\n",
      "    if not IsKernelExtensionAvailable(\"CddInterface\") then\n",
      "           ^^^^^^^^^^^^^^^^^^^^^^^^^^\n",
      "Syntax warning: Unbound global variable in /usr/share/gap/pkg/crypting/Package\\\n",
      "Info.g:82\n",
      "   if not IsKernelExtensionAvailable(\"crypting\") then\n",
      "          ^^^^^^^^^^^^^^^^^^^^^^^^^^\n",
      "Syntax warning: Unbound global variable in /usr/share/gap/pkg/curlinterface/Pa\\\n",
      "ckageInfo.g:114\n",
      "  if not IsKernelExtensionAvailable(\"curlinterface\", \"curl\") then\n",
      "         ^^^^^^^^^^^^^^^^^^^^^^^^^^\n",
      "Syntax warning: Unbound global variable in /usr/share/gap/pkg/cvec/PackageInfo\\\n",
      ".g:114\n",
      "  if not IsKernelExtensionAvailable(\"cvec\") then\n",
      "         ^^^^^^^^^^^^^^^^^^^^^^^^^^\n",
      "Syntax warning: Unbound global variable in /usr/share/gap/pkg/datastructures/P\\\n",
      "ackageInfo.g:125\n",
      "  if not IsKernelExtensionAvailable(\"datastructures\") then\n",
      "         ^^^^^^^^^^^^^^^^^^^^^^^^^^\n",
      "Syntax warning: Unbound global variable in /usr/share/gap/pkg/deepthought/Pack\\\n",
      "ageInfo.g:89\n",
      "  if not IsKernelExtensionAvailable(\"DeepThought\") then\n",
      "         ^^^^^^^^^^^^^^^^^^^^^^^^^^\n",
      "Syntax warning: Unbound global variable in /usr/share/gap/pkg/edim/PackageInfo\\\n",
      ".g:60\n",
      "  if not IsKernelExtensionAvailable(\"EDIM\",\"ediv\") then\n",
      "         ^^^^^^^^^^^^^^^^^^^^^^^^^^\n",
      "Syntax warning: Unbound global variable in /usr/share/gap/pkg/ferret/PackageIn\\\n",
      "fo.g:76\n",
      "  if not IsKernelExtensionAvailable(\"ferret\") then\n",
      "         ^^^^^^^^^^^^^^^^^^^^^^^^^^\n",
      "Syntax warning: Unbound global variable in /usr/share/gap/pkg/float/PackageInf\\\n",
      "o.g:69\n",
      "  if not IsKernelExtensionAvailable(\"float\") then\n",
      "         ^^^^^^^^^^^^^^^^^^^^^^^^^^\n",
      "Syntax warning: Unbound global variable in /usr/share/gap/pkg/gauss/PackageInf\\\n",
      "o.g:103\n",
      "  if not IsKernelExtensionAvailable(\"gauss\") then\n",
      "         ^^^^^^^^^^^^^^^^^^^^^^^^^^\n",
      "Syntax warning: Unbound global variable in /usr/share/gap/pkg/io/PackageInfo.g\\\n",
      ":103\n",
      "  if not IsKernelExtensionAvailable(\"io\") then\n",
      "         ^^^^^^^^^^^^^^^^^^^^^^^^^^\n",
      "Syntax warning: Unbound global variable in /usr/share/gap/pkg/json/PackageInfo\\\n",
      ".g:79\n",
      "   if IsKernelExtensionAvailable(\"json\") = false then\n",
      "      ^^^^^^^^^^^^^^^^^^^^^^^^^^\n",
      "Syntax warning: Unbound global variable in /usr/share/gap/pkg/normalizinterfac\\\n",
      "e/PackageInfo.g:89\n",
      "    if not IsKernelExtensionAvailable(\"NormalizInterface\") then\n",
      "           ^^^^^^^^^^^^^^^^^^^^^^^^^^\n",
      "Syntax warning: Unbound global variable in /usr/share/gap/pkg/orb/PackageInfo.\\\n",
      "g:141\n",
      "    if IsKernelExtensionAvailable(\"orb\") = false then\n",
      "       ^^^^^^^^^^^^^^^^^^^^^^^^^^\n",
      "Syntax warning: Unbound global variable in /usr/share/gap/pkg/profiling/Packag\\\n",
      "eInfo.g:79\n",
      "  if not IsKernelExtensionAvailable(\"profiling\") then\n",
      "         ^^^^^^^^^^^^^^^^^^^^^^^^^^\n",
      "Syntax warning: Unbound global variable in /usr/share/gap/pkg/semigroups/Packa\\\n",
      "geInfo.g:417\n",
      "  if not IsKernelExtensionAvailable(\"semigroups\") then\n",
      "         ^^^^^^^^^^^^^^^^^^^^^^^^^^\n",
      "Syntax warning: Unbound global variable in /usr/share/gap/pkg/zeromqinterface/\\\n",
      "PackageInfo.g:102\n",
      "  if not IsKernelExtensionAvailable(\"zeromqinterface\") then\n",
      "         ^^^^^^^^^^^^^^^^^^^^^^^^^^\n"
     ]
    }
   ],
   "source": [
    "import os, sys\n",
    "HOME = os.environ['HOME']  # change if necessary\n",
    "sys.path.append(f'{HOME}/Finite-groups/src')\n",
    "\n",
    "import torch as t\n",
    "import numpy as np\n",
    "from matplotlib import pyplot as plt\n",
    "import json\n",
    "from itertools import product\n",
    "from jaxtyping import Float\n",
    "from torch.utils.data import DataLoader\n",
    "from tqdm.notebook import tqdm\n",
    "import plotly.graph_objects as go\n",
    "import copy\n",
    "import math\n",
    "from itertools import product\n",
    "import pandas as pd\n",
    "from typing import Union\n",
    "from einops import repeat\n",
    "from huggingface_hub import snapshot_download\n",
    "from huggingface_hub.utils import disable_progress_bars\n",
    "\n",
    "\n",
    "from model import MLP3, MLP4, InstancedModule\n",
    "from utils import *\n",
    "from group_data import *\n",
    "from model_utils import *\n",
    "from group_utils import *\n",
    "from llc import *\n",
    "from generalization_measures import *\n",
    "%load_ext autoreload\n",
    "%autoreload 2"
   ]
  },
  {
   "cell_type": "code",
   "execution_count": 2,
   "metadata": {},
   "outputs": [],
   "source": [
    "device = t.device(\"cuda\" if t.cuda.is_available() else \"cpu\")"
   ]
  },
  {
   "cell_type": "code",
   "execution_count": 3,
   "metadata": {},
   "outputs": [
    {
     "name": "stdout",
     "output_type": "stream",
     "text": [
      "WARNING: Removing unknown training parameter correct_embed\n"
     ]
    },
    {
     "name": "stderr",
     "output_type": "stream",
     "text": [
      "  0%|          | 0/5 [00:00<?, ?it/s]/home/wilson/Finite-groups/src/model_utils.py:57: FutureWarning: You are using `torch.load` with `weights_only=False` (the current default value), which uses the default pickle module implicitly. It is possible to construct malicious pickle data which will execute arbitrary code during unpickling (See https://github.com/pytorch/pytorch/blob/main/SECURITY.md#untrusted-models for more details). In a future release, the default value for `weights_only` will be flipped to `True`. This limits the functions that could be executed during unpickling. Arbitrary objects will no longer be allowed to be loaded via this mode unless they are explicitly allowlisted by the user via `torch.serialization.add_safe_globals`. We recommend you start setting `weights_only=True` for any use case where you don't have full control of the loaded file. Please open an issue on GitHub for any issues related to this experimental feature.\n",
      "  model.load_state_dict(t.load(model_path, map_location=device))\n",
      "100%|██████████| 5/5 [00:01<00:00,  3.69it/s]\n"
     ]
    },
    {
     "name": "stdout",
     "output_type": "stream",
     "text": [
      "Intersection size: 14400/14400 (1.00)\n",
      "Added 14400 elements from intersection\n",
      "Added 0 elements from group 0: smallgrp(120,35)\n",
      "Taking random subset: 5760/14400 (0.40)\n",
      "Train set size: 5760/14400 (0.40)\n"
     ]
    }
   ],
   "source": [
    "MODEL_DIR = '2024-09-23_01-06-18_A5x2_MLP2_128_wd1e-4_ubias'\n",
    "disable_progress_bars()\n",
    "local_dir = f'{HOME}/models/{MODEL_DIR}'\n",
    "if not os.path.exists(local_dir):\n",
    "    snapshot_download(repo_id=f'wiwu2390/{MODEL_DIR}', local_dir=local_dir)\n",
    "models, params = load_models(local_dir)\n",
    "data = GroupData(params)\n",
    "init_models = models[0][:5]\n",
    "models = models[-1][:5]"
   ]
  },
  {
   "cell_type": "code",
   "execution_count": 27,
   "metadata": {},
   "outputs": [
    {
     "name": "stdout",
     "output_type": "stream",
     "text": [
      "MARGIN\n",
      "NORMS\n",
      "PATH_NORM\n",
      "PACBAYES\n"
     ]
    },
    {
     "data": {
      "application/vnd.jupyter.widget-view+json": {
       "model_id": "00d7c978817b4793a611860cde0b767d",
       "version_major": 2,
       "version_minor": 0
      },
      "text/plain": [
       "  0%|          | 0/15 [00:00<?, ?it/s]"
      ]
     },
     "metadata": {},
     "output_type": "display_data"
    },
    {
     "name": "stdout",
     "output_type": "stream",
     "text": [
      "PACBAYES_MAG\n"
     ]
    },
    {
     "data": {
      "application/vnd.jupyter.widget-view+json": {
       "model_id": "ca378083040f4ad299a52d890edef0a1",
       "version_major": 2,
       "version_minor": 0
      },
      "text/plain": [
       "  0%|          | 0/15 [00:00<?, ?it/s]"
      ]
     },
     "metadata": {},
     "output_type": "display_data"
    },
    {
     "name": "stdout",
     "output_type": "stream",
     "text": [
      "WARN: Binary search with depth 15 failed to converge for 2 instances!\n"
     ]
    }
   ],
   "source": [
    "measures = get_gen_measures(init_models, models, data)"
   ]
  },
  {
   "cell_type": "code",
   "execution_count": 29,
   "metadata": {},
   "outputs": [
    {
     "data": {
      "text/plain": [
       "{'L2': tensor([0.0963, 0.0957, 0.0962, 0.0957, 0.1021]),\n",
       " 'L2_DIST': tensor([0.1764, 0.1769, 0.1770, 0.1766, 0.1767]),\n",
       " 'INVERSE_MARGIN': tensor([0.0296, 0.0318, 0.0291, 0.0325, 0.0601]),\n",
       " 'LOG_PROD_OF_SPEC': tensor([6.4720, 7.3142, 6.4325, 7.3142, 6.2487]),\n",
       " 'LOG_PROD_OF_SPEC_OVER_MARGIN': tensor([4.7112, 5.5900, 4.6644, 5.6002, 4.8424]),\n",
       " 'LOG_SPEC_INIT_MAIN': tensor([8.5069, 9.3856, 8.4600, 9.3959, 8.6381]),\n",
       " 'FRO_OVER_SPEC': tensor([0.0816, 0.0668, 0.0821, 0.0668, 0.0944]),\n",
       " 'LOG_SPEC_ORIG_MAIN': tensor([6.5343, 7.2131, 6.4936, 7.2228, 6.8115]),\n",
       " 'LOG_SUM_OF_SPEC_OVER_MARGIN': tensor([-1.7165, -1.5408, -1.7259, -1.5387, -1.6903]),\n",
       " 'LOG_SUM_OF_SPEC': tensor([-1.3644, -1.1959, -1.3723, -1.1959, -1.4090]),\n",
       " 'LOG_PROD_OF_FRO': tensor([11.4237, 11.3645, 11.4157, 11.3621, 12.0177]),\n",
       " 'LOG_PROD_OF_FRO_OVER_MARGIN': tensor([ 9.6629,  9.6402,  9.6476,  9.6481, 10.6114]),\n",
       " 'LOG_SUM_OF_FRO_OVER_MARGIN': tensor([-0.7262, -0.7307, -0.7292, -0.7291, -0.5365]),\n",
       " 'LOG_SUM_OF_FRO': tensor([-0.3740, -0.3859, -0.3756, -0.3863, -0.2552]),\n",
       " 'FRO_DIST': tensor([2.3627, 2.3746, 2.3764, 2.3674, 2.3701]),\n",
       " 'DIST_SPEC_INIT': tensor([0.4535, 0.4698, 0.4558, 0.4671, 0.4457]),\n",
       " 'PARAM_NORM': tensor([0.7031, 0.6948, 0.7020, 0.6944, 0.7919]),\n",
       " 'PATH_NORM': tensor([3.9775, 4.6539, 3.8318, 3.9009, 4.0476]),\n",
       " 'PATH_NORM_OVER_MARGIN': tensor([0.6838, 0.8298, 0.6539, 0.7027, 0.9919]),\n",
       " 'PACBAYES_INIT': tensor([12.6010, 13.9749, 15.2089, 14.6038, 15.9673]),\n",
       " 'PACBAYES_ORIG': tensor([3.7503, 4.0892, 4.4930, 4.2841, 5.3349]),\n",
       " 'PACBAYES_FLATNESS': tensor([0.1405, 0.1551, 0.1687, 0.1626, 0.1775]),\n",
       " 'PACBAYES_MAG_INIT': tensor([5.2363, 5.3813, 5.3579, 5.2944, 5.3509]),\n",
       " 'PACBAYES_MAG_ORIG': tensor([5.9391, 6.7103, 6.0937, 6.6711, 6.0525]),\n",
       " 'PACBAYES_MAG_FLATNESS': tensor([0.1560, 0.1520, 0.1874, 0.1466, 0.2109])}"
      ]
     },
     "execution_count": 29,
     "metadata": {},
     "output_type": "execute_result"
    }
   ],
   "source": [
    "measures"
   ]
  },
  {
   "cell_type": "code",
   "execution_count": 24,
   "metadata": {},
   "outputs": [
    {
     "data": {
      "application/vnd.jupyter.widget-view+json": {
       "model_id": "e7727c05cb2f433a8e2f03cb5fab2192",
       "version_major": 2,
       "version_minor": 0
      },
      "text/plain": [
       "SGLD:   0%|          | 0/30 [00:00<?, ?it/s]"
      ]
     },
     "metadata": {},
     "output_type": "display_data"
    }
   ],
   "source": [
    "LLC_PARAMS = {\n",
    "    'eps': 8e-4,\n",
    "    'beta': 1e3,\n",
    "    'gamma': 1.,\n",
    "    'chains': 5,\n",
    "    'cbatch_size': 5,\n",
    "    'replacement': False,\n",
    "    'behavioral': False,\n",
    "    # 'epochs': 3000,\n",
    "    'epochs': 30,\n",
    "}\n",
    "measures['LLC'] = get_llc(models, data, **LLC_PARAMS)[0].detach()"
   ]
  },
  {
   "cell_type": "code",
   "execution_count": 25,
   "metadata": {},
   "outputs": [
    {
     "data": {
      "text/plain": [
       "tensor([592.0754, 491.7903, 605.9983, 536.8795, 741.5655])"
      ]
     },
     "execution_count": 25,
     "metadata": {},
     "output_type": "execute_result"
    }
   ],
   "source": [
    "measures['LLC']"
   ]
  },
  {
   "cell_type": "code",
   "execution_count": 4,
   "metadata": {},
   "outputs": [],
   "source": [
    "from torch.func import jvp, grad, vjp, vmap, functional_call\n",
    "\n",
    "# Adapted from https://github.com/akshayka/hessian_trace_estimation/blob/main/hessian_trace_estimation.ipynb\n",
    "\n",
    "class LinearOperator:\n",
    "    def __init__(self, matvec):\n",
    "        self._matvec = matvec\n",
    "\n",
    "    def matvec(self, vecs):\n",
    "        return self._matvec(vecs)\n",
    "\n",
    "def hutchpp(A, d, m):\n",
    "    \"\"\"https://arxiv.org/abs/2010.09649\n",
    "\n",
    "    A is the LinearOperator whose trace to estimate\n",
    "    d is the input dimension\n",
    "    m is the number of queries (larger m yields better estimates)\n",
    "    \"\"\"\n",
    "    S = t.randn(d, m // 3)\n",
    "    G = t.randn(d, m // 3)\n",
    "    AS = A.matvec(S)\n",
    "    Q, _ = t.qr(AS)\n",
    "    proj = G - Q @ (Q.T @ G)\n",
    "    return t.trace(Q.T @ A.matvec(Q)) + (3./m)*t.trace(proj.T @ A.matvec(proj))\n",
    "\n",
    "def make_hvp(f, x):\n",
    "    def hvp(f, primals, tangents):\n",
    "        return vmap(lambda t: jvp(grad(f), (primals, ), (t, ))[1], in_dims=1, out_dims=1)(tangents)\n",
    "\n",
    "    return LinearOperator(lambda v: hvp(f, x, v))"
   ]
  },
  {
   "cell_type": "code",
   "execution_count": 12,
   "metadata": {},
   "outputs": [],
   "source": [
    "from typing import Dict, Tuple\n",
    "\n",
    "def flatten(\n",
    "    params: Dict[str, t.Tensor]\n",
    ") -> Tuple[t.Tensor, Dict[str, t.Size]]:\n",
    "    return t.cat([p.flatten() for p in params.values()]), {k: p.size() for k, p in params.items()}\n",
    "\n",
    "def unflatten(\n",
    "    flat_params: t.Tensor, \n",
    "    shapes: Dict[str, t.Size],\n",
    ") -> Dict[str, t.Tensor]:\n",
    "    params = dict()\n",
    "    for name, shape in shapes.items():\n",
    "        size = np.prod(shape)\n",
    "        params[name] = flat_params[:size].reshape(shape)\n",
    "        flat_params = flat_params[size:]\n",
    "    return params\n",
    "\n",
    "def h_tr(models, data, m=100):\n",
    "    ret = []\n",
    "    train_dataset = t.tensor(data.train_data, device=device)\n",
    "\n",
    "    for i in tqdm(range(len(models))):\n",
    "        model = models[i]\n",
    "        flat_init_params, shapes = flatten(dict(model.named_parameters()))\n",
    "        def loss_func(flat_params, model=model, shapes=shapes, dataset=train_dataset):\n",
    "            x, z = dataset[:, :-1], dataset[:, -1]\n",
    "            output = t.func.functional_call(model, unflatten(flat_params, shapes), x)\n",
    "            return get_cross_entropy(output, z).squeeze()\n",
    "        \n",
    "        model_hvp = make_hvp(loss_func, flat_init_params)\n",
    "        ret.append(hutchpp(model_hvp, flat_init_params.size(0), m))\n",
    "    return t.tensor(ret)"
   ]
  },
  {
   "cell_type": "code",
   "execution_count": 14,
   "metadata": {},
   "outputs": [
    {
     "data": {
      "application/vnd.jupyter.widget-view+json": {
       "model_id": "f4f87db97f5442c3b3b0817550ac60d6",
       "version_major": 2,
       "version_minor": 0
      },
      "text/plain": [
       "  0%|          | 0/5 [00:00<?, ?it/s]"
      ]
     },
     "metadata": {},
     "output_type": "display_data"
    },
    {
     "data": {
      "text/plain": [
       "tensor([ 9.7015, 13.2429,  9.6771, 13.6952, 20.3457])"
      ]
     },
     "execution_count": 14,
     "metadata": {},
     "output_type": "execute_result"
    }
   ],
   "source": [
    "h_tr(models, data)"
   ]
  },
  {
   "cell_type": "code",
   "execution_count": 8,
   "metadata": {},
   "outputs": [
    {
     "data": {
      "text/plain": [
       "tensor(9.8350, grad_fn=<AddBackward0>)"
      ]
     },
     "execution_count": 8,
     "metadata": {},
     "output_type": "execute_result"
    }
   ],
   "source": [
    "H"
   ]
  },
  {
   "cell_type": "code",
   "execution_count": null,
   "metadata": {},
   "outputs": [],
   "source": []
  }
 ],
 "metadata": {
  "kernelspec": {
   "display_name": "group_addition-BDyFuYvs-py3.10",
   "language": "python",
   "name": "python3"
  },
  "language_info": {
   "codemirror_mode": {
    "name": "ipython",
    "version": 3
   },
   "file_extension": ".py",
   "mimetype": "text/x-python",
   "name": "python",
   "nbconvert_exporter": "python",
   "pygments_lexer": "ipython3",
   "version": "3.10.12"
  }
 },
 "nbformat": 4,
 "nbformat_minor": 2
}
