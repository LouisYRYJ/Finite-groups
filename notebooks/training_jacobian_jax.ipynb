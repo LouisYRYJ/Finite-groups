{
 "cells": [
  {
   "cell_type": "code",
   "execution_count": 1,
   "metadata": {},
   "outputs": [],
   "source": [
    "import os, sys\n",
    "# HOME = os.environ['HOME']  # change if necessary\n",
    "HOME = '/workspace/wilson'\n",
    "sys.path.append(f'{HOME}/Finite-groups/src')\n",
    "# from model import MLP3, MLP4, InstancedModule\n",
    "from utils import *\n",
    "from group_data import *\n",
    "# from model_utils import *\n",
    "from train import Parameters\n",
    "%load_ext autoreload\n",
    "%autoreload 2\n",
    "\n",
    "from flax import linen as nn, struct\n",
    "from flax.training.train_state import TrainState\n",
    "from jax.flatten_util import ravel_pytree\n",
    "from optax import (\n",
    "    softmax_cross_entropy_with_integer_labels as xent\n",
    ")\n",
    "import jax\n",
    "import jax.numpy as jnp\n",
    "import optax\n",
    "from jaxtyping import Int, Array, Float\n",
    "from functools import partial\n",
    "from dataclasses import dataclass\n",
    "from frozendict import frozendict"
   ]
  },
  {
   "cell_type": "code",
   "execution_count": 2,
   "metadata": {},
   "outputs": [],
   "source": [
    "class MLP2(nn.Module):\n",
    "    # right now this hardcodes a lot of things to the defaults\n",
    "    cfg: frozendict\n",
    "    N: int\n",
    "\n",
    "    @nn.compact\n",
    "    def __call__(self, a: Int[Array, 'batch entry']) -> Float[Array, 'batch vocab']:\n",
    "        a1, a2 = a[...,0], a[...,1]\n",
    "        embedding_init = nn.initializers.normal(stddev=1.0)\n",
    "        # In the torch code, uniform bounds are \\pm 1/sqrt(fan_in) * 1/sqrt(2) (kaiming_uniform with scale=1/sqrt(2) to account for 2 input arguments)\n",
    "        # This corresponds to std = 1/sqrt(6) * 1/sqrt(fan_in)\n",
    "        # variance_scaling sets std = sqrt(scale) / sqrt(fan_in)\n",
    "        # So we should set scale = 1/6 to get the same initialization\n",
    "        kernel_init = nn.initializers.variance_scaling(mode='fan_in', distribution='uniform', scale=1/6)\n",
    "        # This differs from the pytorch version\n",
    "        # In pytorch we had uniform distribution over [-1/sqrt(fan_in), 1/sqrt(fan_in)]\n",
    "        # Here we use constant initialization to 1/N\n",
    "        # The former matches the default for torch.nn.Linear, but it doesn't seem motivated by anything\n",
    "        # and anyways I don't know how to recreate it with flax...\n",
    "        bias_init = nn.initializers.constant(1 / self.N)\n",
    "        # bias_init = nn.initializers.uniform(scale=1/np.sqrt(self.params.hidden_size))\n",
    "        x1 = nn.Embed(self.N, self.cfg['embed_dim'], embedding_init=embedding_init, name='embedding_left')(a1)\n",
    "        x2 = nn.Embed(self.N, self.cfg['embed_dim'], embedding_init=embedding_init, name='embedding_right')(a2)\n",
    "        h1 = nn.Dense(self.cfg['hidden_size'], use_bias=False, kernel_init=kernel_init, name='linear_left')(x1)\n",
    "        h2 = nn.Dense(self.cfg['hidden_size'], use_bias=False, kernel_init=kernel_init, name='linear_right')(x2)\n",
    "        h = h1 + h2\n",
    "        act = nn.relu(h)\n",
    "        return nn.Dense(self.N, kernel_init=kernel_init, bias_init=bias_init, name='unembedding')(act)\n"
   ]
  },
  {
   "cell_type": "code",
   "execution_count": 3,
   "metadata": {},
   "outputs": [],
   "source": [
    "def make_apply_full(model, unraveler):\n",
    "    \"\"\"Apply function that takes raveled params vector.\"\"\"\n",
    "    def apply_full(raveled, x):\n",
    "        params = unraveler(raveled)\n",
    "        return model.apply(params, x)\n",
    "    \n",
    "    return apply_full\n",
    "\n",
    "def loss_fn(params, apply_fn, x, z):\n",
    "    logits = apply_fn(params, x)\n",
    "    preds = jnp.argmax(logits, axis=-1)\n",
    "    loss = xent(logits, z).mean()\n",
    "    acc = (preds == z).mean()\n",
    "    return loss, acc\n",
    "\n",
    "def wd_loss_fn(params, apply_fn, x, z, wd):\n",
    "    loss, acc = loss_fn(params, apply_fn, x, z)\n",
    "    return loss + wd / 2 * jnp.linalg.norm(params) ** 2, (loss, acc)"
   ]
  },
  {
   "cell_type": "code",
   "execution_count": 14,
   "metadata": {},
   "outputs": [],
   "source": [
    "@partial(jax.jit, static_argnums=(3, 4))\n",
    "def train(ravel_params, x, z, apply_fn, cfg: frozendict):\n",
    "    tx = optax.adam(\n",
    "        learning_rate=cfg['lr'],\n",
    "        b1=cfg['beta1'],\n",
    "        b2=cfg['beta2'],\n",
    "    )\n",
    "    \n",
    "    state = TrainState.create(apply_fn=apply_fn, params=ravel_params, tx=tx)\n",
    "    loss_and_grad = jax.value_and_grad(wd_loss_fn, has_aux=True)\n",
    "    \n",
    "    # TODO: support batching (right now only full batch)\n",
    "    def epoch_step(state:TrainState, epoch) -> tuple[TrainState, tuple[jnp.ndarray, jnp.ndarray]]:\n",
    "        jax.debug.breakpoint()\n",
    "        (_, (loss, acc)), grads = loss_and_grad(state.params, state.apply_fn, x, z, cfg['weight_decay'])\n",
    "        return state.apply_gradients(grads=grads), (loss, acc)\n",
    "\n",
    "    state, (train_loss, train_acc) = jax.lax.scan(epoch_step, state, jnp.arange(cfg['epochs']))\n",
    "    return state.params, (train_loss, train_acc)\n",
    "        "
   ]
  },
  {
   "cell_type": "code",
   "execution_count": 15,
   "metadata": {},
   "outputs": [
    {
     "name": "stdout",
     "output_type": "stream",
     "text": [
      "Intersection size: 576/576 (1.00)\n",
      "Added 576 elements from intersection\n",
      "Added 0 elements from group 0: S(4)\n",
      "Taking random subset: 345/576 (0.60)\n",
      "Train set size: 345/576 (0.60)\n"
     ]
    }
   ],
   "source": [
    "device = jax.devices('gpu')[0]\n",
    "\n",
    "PARAMS = Parameters(\n",
    "    instances=1,\n",
    "    # embed_dim=32,\n",
    "    # hidden_size=32,\n",
    "    # group_string='S(4)',\n",
    "    embed_dim=32,\n",
    "    hidden_size=32,\n",
    "    group_string='S(4)',\n",
    "    model='MLP2',\n",
    "    unembed_bias=True,\n",
    "    weight_decay=2e-4,\n",
    "    train_frac=0.6,\n",
    "    epochs=40,\n",
    ")\n",
    "\n",
    "t.manual_seed(PARAMS.seed)\n",
    "np.random.seed(PARAMS.seed)\n",
    "random.seed(PARAMS.seed)\n",
    "\n",
    "group_dataset = GroupData(params=PARAMS)\n",
    "train_data = jnp.array(group_dataset.train_data, device=device)\n",
    "\n",
    "# Needs to be hashable for jax jit\n",
    "CFG = frozendict(\n",
    "    {k: v for k, v in PARAMS.__dict__.items() if k not in ['delta_frac']}\n",
    ")\n"
   ]
  },
  {
   "cell_type": "code",
   "execution_count": 18,
   "metadata": {},
   "outputs": [],
   "source": [
    "@jax.custom_jvp\n",
    "def print_grad(x):\n",
    "    return x\n",
    "\n",
    "@print_grad.defjvp\n",
    "def print_grad_jvp(primals, tangents):\n",
    "    x, = primals\n",
    "    t, = tangents\n",
    "    jax.debug.print(t)\n",
    "    return x, t"
   ]
  },
  {
   "cell_type": "code",
   "execution_count": 16,
   "metadata": {},
   "outputs": [],
   "source": [
    "x_train, z_train = train_data[:,:2], train_data[:,2]\n",
    "model = MLP2(CFG, group_dataset.N)\n",
    "init_params = model.init(jax.random.key(PARAMS.seed), x_train)\n",
    "init_ravel_params, unraveler = ravel_pytree(init_params)\n",
    "apply_fn = make_apply_full(model, unraveler)"
   ]
  },
  {
   "cell_type": "code",
   "execution_count": 89,
   "metadata": {},
   "outputs": [
    {
     "data": {
      "text/plain": [
       "(Array(0.00673234, dtype=float32), Array(1., dtype=float32))"
      ]
     },
     "execution_count": 89,
     "metadata": {},
     "output_type": "execute_result"
    }
   ],
   "source": [
    "final_ravel_params, (train_loss, train_acc) = train(init_ravel_params, x_train, z_train, apply_fn, CFG)\n",
    "train_loss[-1], train_acc[-1]"
   ]
  },
  {
   "cell_type": "code",
   "execution_count": 90,
   "metadata": {},
   "outputs": [
    {
     "data": {
      "text/plain": [
       "(Array(0.01418004, dtype=float32), Array(1., dtype=float32))"
      ]
     },
     "execution_count": 90,
     "metadata": {},
     "output_type": "execute_result"
    }
   ],
   "source": [
    "x_test = jnp.asarray(list(product(range(group_dataset.N), repeat=2)), device=device)\n",
    "z_test = einops.rearrange(jnp.asarray(group_dataset.groups[0].cayley_table, device=device), 'i j -> (i j)')\n",
    "loss_fn(final_ravel_params, apply_fn, x_test, z_test)"
   ]
  },
  {
   "cell_type": "code",
   "execution_count": 17,
   "metadata": {},
   "outputs": [
    {
     "name": "stdout",
     "output_type": "stream",
     "text": [
      "Entering jdb:\n",
      "> /tmp/ipykernel_5192/1618286220.py(14)\n",
      "        def epoch_step(state:TrainState, epoch) -> tuple[TrainState, tuple[jnp.ndarray, jnp.ndarray]]:\n",
      "->          jax.debug.breakpoint()\n",
      "            (_, (loss, acc)), grads = loss_and_grad(state.params, state.apply_fn, x, z, cfg['weight_decay'])\n",
      "            return state.apply_gradients(grads=grads), (loss, acc)\n",
      "    \n",
      "Array([-1.2874033 ,  0.28143784,  0.8255087 , ..., -0.11058992,\n",
      "        0.06451517, -0.04018393], dtype=float32)\n",
      "['T', '__abs__', '__abstractmethods__', '__add__', '__and__', '__annotations__', '__array__', '__array_module__', '__array_namespace__', '__array_priority__', '__bool__', '__class__', '__complex__', '__copy__', '__cuda_array_interface__', '__deepcopy__', '__delattr__', '__dict__', '__dir__', '__div__', '__divmod__', '__dlpack__', '__dlpack_device__', '__doc__', '__eq__', '__float__', '__floordiv__', '__format__', '__ge__', '__getattribute__', '__getitem__', '__getstate__', '__gt__', '__hash__', '__hex__', '__index__', '__init__', '__init_subclass__', '__int__', '__invert__', '__iter__', '__le__', '__len__', '__lshift__', '__lt__', '__matmul__', '__mod__', '__module__', '__mul__', '__ne__', '__neg__', '__new__', '__oct__', '__or__', '__pos__', '__pow__', '__radd__', '__rand__', '__rdiv__', '__rdivmod__', '__reduce__', '__reduce_ex__', '__repr__', '__rfloordiv__', '__rlshift__', '__rmatmul__', '__rmod__', '__rmul__', '__ror__', '__round__', '__rpow__', '__rrshift__', '__rshift__', '__rsub__', '__rtruediv__', '__rxor__', '__setattr__', '__setitem__', '__sizeof__', '__str__', '__sub__', '__subclasshook__', '__truediv__', '__xor__', '_abc_impl', '_arrays', '_check_and_rearrange', '_check_if_deleted', '_chunk_iter', '_committed', '_copy_single_device_array_to_host_async', '_fully_replicated_shard', '_multi_slice', '_npy_value', '_original_py_fns', '_pjrt_layout', '_sharding', '_single_device_array_to_np_array', '_split', '_unstack', '_value', 'addressable_data', 'addressable_shards', 'all', 'any', 'argmax', 'argmin', 'argpartition', 'argsort', 'astype', 'at', 'aval', 'block_until_ready', 'choose', 'clip', 'clone', 'committed', 'compress', 'conj', 'conjugate', 'copy', 'copy_to_host_async', 'cumprod', 'cumsum', 'delete', 'device', 'device_buffer', 'device_buffers', 'devices', 'diagonal', 'dot', 'dtype', 'flat', 'flatten', 'global_shards', 'imag', 'is_deleted', 'is_fully_addressable', 'is_fully_replicated', 'is_ready', 'item', 'itemsize', 'layout', 'mT', 'max', 'mean', 'min', 'nbytes', 'ndim', 'nonzero', 'on_device_size_in_bytes', 'platform', 'prod', 'ptp', 'ravel', 'real', 'repeat', 'reshape', 'round', 'searchsorted', 'shape', 'sharding', 'size', 'sort', 'squeeze', 'std', 'sum', 'swapaxes', 'take', 'to_device', 'tobytes', 'tolist', 'trace', 'traceback', 'transpose', 'unsafe_buffer_pointer', 'var', 'view', 'weak_type']\n",
      "['T', '__abs__', '__abstractmethods__', '__add__', '__and__', '__annotations__', '__array__', '__array_module__', '__array_namespace__', '__array_priority__', '__bool__', '__class__', '__complex__', '__copy__', '__cuda_array_interface__', '__deepcopy__', '__delattr__', '__dict__', '__dir__', '__div__', '__divmod__', '__dlpack__', '__dlpack_device__', '__doc__', '__eq__', '__float__', '__floordiv__', '__format__', '__ge__', '__getattribute__', '__getitem__', '__getstate__', '__gt__', '__hash__', '__hex__', '__index__', '__init__', '__init_subclass__', '__int__', '__invert__', '__iter__', '__le__', '__len__', '__lshift__', '__lt__', '__matmul__', '__mod__', '__module__', '__mul__', '__ne__', '__neg__', '__new__', '__oct__', '__or__', '__pos__', '__pow__', '__radd__', '__rand__', '__rdiv__', '__rdivmod__', '__reduce__', '__reduce_ex__', '__repr__', '__rfloordiv__', '__rlshift__', '__rmatmul__', '__rmod__', '__rmul__', '__ror__', '__round__', '__rpow__', '__rrshift__', '__rshift__', '__rsub__', '__rtruediv__', '__rxor__', '__setattr__', '__setitem__', '__sizeof__', '__str__', '__sub__', '__subclasshook__', '__truediv__', '__xor__', '_abc_impl', '_arrays', '_check_and_rearrange', '_check_if_deleted', '_chunk_iter', '_committed', '_copy_single_device_array_to_host_async', '_fully_replicated_shard', '_multi_slice', '_npy_value', '_original_py_fns', '_pjrt_layout', '_sharding', '_single_device_array_to_np_array', '_split', '_unstack', '_value', 'addressable_data', 'addressable_shards', 'all', 'any', 'argmax', 'argmin', 'argpartition', 'argsort', 'astype', 'at', 'aval', 'block_until_ready', 'choose', 'clip', 'clone', 'committed', 'compress', 'conj', 'conjugate', 'copy', 'copy_to_host_async', 'cumprod', 'cumsum', 'delete', 'device', 'device_buffer', 'device_buffers', 'devices', 'diagonal', 'dot', 'dtype', 'flat', 'flatten', 'global_shards', 'imag', 'is_deleted', 'is_fully_addressable', 'is_fully_replicated', 'is_ready', 'item', 'itemsize', 'layout', 'mT', 'max', 'mean', 'min', 'nbytes', 'ndim', 'nonzero', 'on_device_size_in_bytes', 'platform', 'prod', 'ptp', 'ravel', 'real', 'repeat', 'reshape', 'round', 'searchsorted', 'shape', 'sharding', 'size', 'sort', 'squeeze', 'std', 'sum', 'swapaxes', 'take', 'to_device', 'tobytes', 'tolist', 'trace', 'traceback', 'transpose', 'unsafe_buffer_pointer', 'var', 'view', 'weak_type']\n",
      "Entering jdb:\n",
      "Entering jdb:\n",
      "Array([-1.2676092 ,  0.28903857,  0.84371114, ..., -0.13051963,\n",
      "        0.04469578, -0.06010106], dtype=float32)\n",
      "Array([-1.2676092 ,  0.28903857,  0.84371114, ..., -0.13051963,\n",
      "        0.04469578, -0.06010106], dtype=float32)\n",
      "*** AttributeError: 'jaxlib.xla_extension.ArrayImpl' object has no attribute 'tangent'\n"
     ]
    },
    {
     "name": "stderr",
     "output_type": "stream",
     "text": [
      "ERROR:2025-01-03 18:00:32,338:jax._src.debugging:95: jax.debug.callback failed\n",
      "Traceback (most recent call last):\n",
      "  File \"/root/.cache/pypoetry/virtualenvs/group_addition-jQUm9okg-py3.11/lib/python3.11/site-packages/jax/_src/debugging.py\", line 93, in debug_callback_impl\n",
      "    callback(*args)\n",
      "  File \"/root/.cache/pypoetry/virtualenvs/group_addition-jQUm9okg-py3.11/lib/python3.11/site-packages/jax/_src/debugging.py\", line 278, in _flat_callback\n",
      "    callback(*args, **kwargs)\n",
      "  File \"/root/.cache/pypoetry/virtualenvs/group_addition-jQUm9okg-py3.11/lib/python3.11/site-packages/jax/_src/debugger/core.py\", line 220, in _breakpoint_callback\n",
      "    debugger(frames, thread_id, **kwargs)\n",
      "  File \"/root/.cache/pypoetry/virtualenvs/group_addition-jQUm9okg-py3.11/lib/python3.11/site-packages/jax/_src/debugger/cli_debugger.py\", line 167, in run_debugger\n",
      "    CliDebugger(frames, thread_id, **kwargs).run()\n",
      "  File \"/root/.cache/pypoetry/virtualenvs/group_addition-jQUm9okg-py3.11/lib/python3.11/site-packages/jax/_src/debugger/cli_debugger.py\", line 160, in run\n",
      "    self.cmdloop()\n",
      "  File \"/usr/lib/python3.11/cmd.py\", line 138, in cmdloop\n",
      "    stop = self.onecmd(line)\n",
      "           ^^^^^^^^^^^^^^^^^\n",
      "  File \"/usr/lib/python3.11/cmd.py\", line 217, in onecmd\n",
      "    return func(arg)\n",
      "           ^^^^^^^^^\n",
      "  File \"/root/.cache/pypoetry/virtualenvs/group_addition-jQUm9okg-py3.11/lib/python3.11/site-packages/jax/_src/debugger/cli_debugger.py\", line 146, in do_quit\n",
      "    sys.exit(0)\n",
      "SystemExit: 0\n",
      "E0103 18:00:32.345888    5192 pjrt_stream_executor_client.cc:3086] Execution of replica 0 failed: INTERNAL: CustomCall failed: CpuCallback error: Traceback (most recent call last):\n",
      "  File \"<frozen runpy>\", line 198, in _run_module_as_main\n",
      "  File \"<frozen runpy>\", line 88, in _run_code\n",
      "  File \"/root/.cache/pypoetry/virtualenvs/group_addition-jQUm9okg-py3.11/lib/python3.11/site-packages/ipykernel_launcher.py\", line 18, in <module>\n",
      "  File \"/root/.cache/pypoetry/virtualenvs/group_addition-jQUm9okg-py3.11/lib/python3.11/site-packages/traitlets/config/application.py\", line 1075, in launch_instance\n",
      "  File \"/root/.cache/pypoetry/virtualenvs/group_addition-jQUm9okg-py3.11/lib/python3.11/site-packages/ipykernel/kernelapp.py\", line 739, in start\n",
      "  File \"/root/.cache/pypoetry/virtualenvs/group_addition-jQUm9okg-py3.11/lib/python3.11/site-packages/tornado/platform/asyncio.py\", line 205, in start\n",
      "  File \"/usr/lib/python3.11/asyncio/base_events.py\", line 608, in run_forever\n",
      "  File \"/usr/lib/python3.11/asyncio/base_events.py\", line 1936, in _run_once\n",
      "  File \"/usr/lib/python3.11/asyncio/events.py\", line 84, in _run\n",
      "  File \"/root/.cache/pypoetry/virtualenvs/group_addition-jQUm9okg-py3.11/lib/python3.11/site-packages/ipykernel/kernelbase.py\", line 545, in dispatch_queue\n",
      "  File \"/root/.cache/pypoetry/virtualenvs/group_addition-jQUm9okg-py3.11/lib/python3.11/site-packages/ipykernel/kernelbase.py\", line 534, in process_one\n",
      "  File \"/root/.cache/pypoetry/virtualenvs/group_addition-jQUm9okg-py3.11/lib/python3.11/site-packages/ipykernel/kernelbase.py\", line 437, in dispatch_shell\n",
      "  File \"/root/.cache/pypoetry/virtualenvs/group_addition-jQUm9okg-py3.11/lib/python3.11/site-packages/ipykernel/ipkernel.py\", line 362, in execute_request\n",
      "  File \"/root/.cache/pypoetry/virtualenvs/group_addition-jQUm9okg-py3.11/lib/python3.11/site-packages/ipykernel/kernelbase.py\", line 778, in execute_request\n",
      "  File \"/root/.cache/pypoetry/virtualenvs/group_addition-jQUm9okg-py3.11/lib/python3.11/site-packages/ipykernel/ipkernel.py\", line 449, in do_execute\n",
      "  File \"/root/.cache/pypoetry/virtualenvs/group_addition-jQUm9okg-py3.11/lib/python3.11/site-packages/ipykernel/zmqshell.py\", line 549, in run_cell\n",
      "  File \"/root/.cache/pypoetry/virtualenvs/group_addition-jQUm9okg-py3.11/lib/python3.11/site-packages/IPython/core/interactiveshell.py\", line 3075, in run_cell\n",
      "  File \"/root/.cache/pypoetry/virtualenvs/group_addition-jQUm9okg-py3.11/lib/python3.11/site-packages/IPython/core/interactiveshell.py\", line 3130, in _run_cell\n",
      "  File \"/root/.cache/pypoetry/virtualenvs/group_addition-jQUm9okg-py3.11/lib/python3.11/site-packages/IPython/core/async_helpers.py\", line 128, in _pseudo_sync_runner\n",
      "  File \"/root/.cache/pypoetry/virtualenvs/group_addition-jQUm9okg-py3.11/lib/python3.11/site-packages/IPython/core/interactiveshell.py\", line 3334, in run_cell_async\n",
      "  File \"/root/.cache/pypoetry/virtualenvs/group_addition-jQUm9okg-py3.11/lib/python3.11/site-packages/IPython/core/interactiveshell.py\", line 3517, in run_ast_nodes\n",
      "  File \"/root/.cache/pypoetry/virtualenvs/group_addition-jQUm9okg-py3.11/lib/python3.11/site-packages/IPython/core/interactiveshell.py\", line 3577, in run_code\n",
      "  File \"/tmp/ipykernel_5192/3101063958.py\", line 1, in <module>\n",
      "  File \"/root/.cache/pypoetry/virtualenvs/group_addition-jQUm9okg-py3.11/lib/python3.11/site-packages/jax/_src/traceback_util.py\", line 180, in reraise_with_filtered_traceback\n",
      "  File \"/root/.cache/pypoetry/virtualenvs/group_addition-jQUm9okg-py3.11/lib/python3.11/site-packages/jax/_src/pjit.py\", line 337, in cache_miss\n",
      "  File \"/root/.cache/pypoetry/virtualenvs/group_addition-jQUm9okg-py3.11/lib/python3.11/site-packages/jax/_src/pjit.py\", line 195, in _python_pjit_helper\n",
      "  File \"/root/.cache/pypoetry/virtualenvs/group_addition-jQUm9okg-py3.11/lib/python3.11/site-packages/jax/_src/pjit.py\", line 1695, in _pjit_call_impl_python\n",
      "  File \"/root/.cache/pypoetry/virtualenvs/group_addition-jQUm9okg-py3.11/lib/python3.11/site-packages/jax/_src/profiler.py\", line 333, in wrapper\n",
      "  File \"/root/.cache/pypoetry/virtualenvs/group_addition-jQUm9okg-py3.11/lib/python3.11/site-packages/jax/_src/interpreters/pxla.py\", line 1289, in __call__\n",
      "  File \"/root/.cache/pypoetry/virtualenvs/group_addition-jQUm9okg-py3.11/lib/python3.11/site-packages/jax/_src/interpreters/mlir.py\", line 2854, in _wrapped_callback\n",
      "  File \"/root/.cache/pypoetry/virtualenvs/group_addition-jQUm9okg-py3.11/lib/python3.11/site-packages/jax/_src/debugging.py\", line 160, in _callback\n",
      "  File \"/root/.cache/pypoetry/virtualenvs/group_addition-jQUm9okg-py3.11/lib/python3.11/site-packages/jax/_src/debugging.py\", line 96, in debug_callback_impl\n",
      "  File \"/root/.cache/pypoetry/virtualenvs/group_addition-jQUm9okg-py3.11/lib/python3.11/site-packages/jax/_src/debugging.py\", line 278, in _flat_callback\n",
      "  File \"/root/.cache/pypoetry/virtualenvs/group_addition-jQUm9okg-py3.11/lib/python3.11/site-packages/jax/_src/debugger/core.py\", line 220, in _breakpoint_callback\n",
      "  File \"/root/.cache/pypoetry/virtualenvs/group_addition-jQUm9okg-py3.11/lib/python3.11/site-packages/jax/_src/debugger/cli_debugger.py\", line 167, in run_debugger\n",
      "  File \"/root/.cache/pypoetry/virtualenvs/group_addition-jQUm9okg-py3.11/lib/python3.11/site-packages/jax/_src/debugger/cli_debugger.py\", line 162, in run\n",
      "  File \"/usr/lib/python3.11/cmd.py\", line 145, in cmdloop\n",
      "  File \"/usr/lib/python3.11/cmd.py\", line 217, in onecmd\n",
      "  File \"/root/.cache/pypoetry/virtualenvs/group_addition-jQUm9okg-py3.11/lib/python3.11/site-packages/jax/_src/debugger/cli_debugger.py\", line 146, in do_quit\n",
      "SystemExit: 0\n"
     ]
    },
    {
     "ename": "XlaRuntimeError",
     "evalue": "INTERNAL: CustomCall failed: CpuCallback error: Traceback (most recent call last):\n  File \"<frozen runpy>\", line 198, in _run_module_as_main\n  File \"<frozen runpy>\", line 88, in _run_code\n  File \"/root/.cache/pypoetry/virtualenvs/group_addition-jQUm9okg-py3.11/lib/python3.11/site-packages/ipykernel_launcher.py\", line 18, in <module>\n  File \"/root/.cache/pypoetry/virtualenvs/group_addition-jQUm9okg-py3.11/lib/python3.11/site-packages/traitlets/config/application.py\", line 1075, in launch_instance\n  File \"/root/.cache/pypoetry/virtualenvs/group_addition-jQUm9okg-py3.11/lib/python3.11/site-packages/ipykernel/kernelapp.py\", line 739, in start\n  File \"/root/.cache/pypoetry/virtualenvs/group_addition-jQUm9okg-py3.11/lib/python3.11/site-packages/tornado/platform/asyncio.py\", line 205, in start\n  File \"/usr/lib/python3.11/asyncio/base_events.py\", line 608, in run_forever\n  File \"/usr/lib/python3.11/asyncio/base_events.py\", line 1936, in _run_once\n  File \"/usr/lib/python3.11/asyncio/events.py\", line 84, in _run\n  File \"/root/.cache/pypoetry/virtualenvs/group_addition-jQUm9okg-py3.11/lib/python3.11/site-packages/ipykernel/kernelbase.py\", line 545, in dispatch_queue\n  File \"/root/.cache/pypoetry/virtualenvs/group_addition-jQUm9okg-py3.11/lib/python3.11/site-packages/ipykernel/kernelbase.py\", line 534, in process_one\n  File \"/root/.cache/pypoetry/virtualenvs/group_addition-jQUm9okg-py3.11/lib/python3.11/site-packages/ipykernel/kernelbase.py\", line 437, in dispatch_shell\n  File \"/root/.cache/pypoetry/virtualenvs/group_addition-jQUm9okg-py3.11/lib/python3.11/site-packages/ipykernel/ipkernel.py\", line 362, in execute_request\n  File \"/root/.cache/pypoetry/virtualenvs/group_addition-jQUm9okg-py3.11/lib/python3.11/site-packages/ipykernel/kernelbase.py\", line 778, in execute_request\n  File \"/root/.cache/pypoetry/virtualenvs/group_addition-jQUm9okg-py3.11/lib/python3.11/site-packages/ipykernel/ipkernel.py\", line 449, in do_execute\n  File \"/root/.cache/pypoetry/virtualenvs/group_addition-jQUm9okg-py3.11/lib/python3.11/site-packages/ipykernel/zmqshell.py\", line 549, in run_cell\n  File \"/root/.cache/pypoetry/virtualenvs/group_addition-jQUm9okg-py3.11/lib/python3.11/site-packages/IPython/core/interactiveshell.py\", line 3075, in run_cell\n  File \"/root/.cache/pypoetry/virtualenvs/group_addition-jQUm9okg-py3.11/lib/python3.11/site-packages/IPython/core/interactiveshell.py\", line 3130, in _run_cell\n  File \"/root/.cache/pypoetry/virtualenvs/group_addition-jQUm9okg-py3.11/lib/python3.11/site-packages/IPython/core/async_helpers.py\", line 128, in _pseudo_sync_runner\n  File \"/root/.cache/pypoetry/virtualenvs/group_addition-jQUm9okg-py3.11/lib/python3.11/site-packages/IPython/core/interactiveshell.py\", line 3334, in run_cell_async\n  File \"/root/.cache/pypoetry/virtualenvs/group_addition-jQUm9okg-py3.11/lib/python3.11/site-packages/IPython/core/interactiveshell.py\", line 3517, in run_ast_nodes\n  File \"/root/.cache/pypoetry/virtualenvs/group_addition-jQUm9okg-py3.11/lib/python3.11/site-packages/IPython/core/interactiveshell.py\", line 3577, in run_code\n  File \"/tmp/ipykernel_5192/3101063958.py\", line 1, in <module>\n  File \"/root/.cache/pypoetry/virtualenvs/group_addition-jQUm9okg-py3.11/lib/python3.11/site-packages/jax/_src/traceback_util.py\", line 180, in reraise_with_filtered_traceback\n  File \"/root/.cache/pypoetry/virtualenvs/group_addition-jQUm9okg-py3.11/lib/python3.11/site-packages/jax/_src/pjit.py\", line 337, in cache_miss\n  File \"/root/.cache/pypoetry/virtualenvs/group_addition-jQUm9okg-py3.11/lib/python3.11/site-packages/jax/_src/pjit.py\", line 195, in _python_pjit_helper\n  File \"/root/.cache/pypoetry/virtualenvs/group_addition-jQUm9okg-py3.11/lib/python3.11/site-packages/jax/_src/pjit.py\", line 1695, in _pjit_call_impl_python\n  File \"/root/.cache/pypoetry/virtualenvs/group_addition-jQUm9okg-py3.11/lib/python3.11/site-packages/jax/_src/profiler.py\", line 333, in wrapper\n  File \"/root/.cache/pypoetry/virtualenvs/group_addition-jQUm9okg-py3.11/lib/python3.11/site-packages/jax/_src/interpreters/pxla.py\", line 1289, in __call__\n  File \"/root/.cache/pypoetry/virtualenvs/group_addition-jQUm9okg-py3.11/lib/python3.11/site-packages/jax/_src/interpreters/mlir.py\", line 2854, in _wrapped_callback\n  File \"/root/.cache/pypoetry/virtualenvs/group_addition-jQUm9okg-py3.11/lib/python3.11/site-packages/jax/_src/debugging.py\", line 160, in _callback\n  File \"/root/.cache/pypoetry/virtualenvs/group_addition-jQUm9okg-py3.11/lib/python3.11/site-packages/jax/_src/debugging.py\", line 96, in debug_callback_impl\n  File \"/root/.cache/pypoetry/virtualenvs/group_addition-jQUm9okg-py3.11/lib/python3.11/site-packages/jax/_src/debugging.py\", line 278, in _flat_callback\n  File \"/root/.cache/pypoetry/virtualenvs/group_addition-jQUm9okg-py3.11/lib/python3.11/site-packages/jax/_src/debugger/core.py\", line 220, in _breakpoint_callback\n  File \"/root/.cache/pypoetry/virtualenvs/group_addition-jQUm9okg-py3.11/lib/python3.11/site-packages/jax/_src/debugger/cli_debugger.py\", line 167, in run_debugger\n  File \"/root/.cache/pypoetry/virtualenvs/group_addition-jQUm9okg-py3.11/lib/python3.11/site-packages/jax/_src/debugger/cli_debugger.py\", line 162, in run\n  File \"/usr/lib/python3.11/cmd.py\", line 145, in cmdloop\n  File \"/usr/lib/python3.11/cmd.py\", line 217, in onecmd\n  File \"/root/.cache/pypoetry/virtualenvs/group_addition-jQUm9okg-py3.11/lib/python3.11/site-packages/jax/_src/debugger/cli_debugger.py\", line 146, in do_quit\nSystemExit: 0",
     "output_type": "error",
     "traceback": [
      "\u001b[0;31m---------------------------------------------------------------------------\u001b[0m",
      "\u001b[0;31mXlaRuntimeError\u001b[0m                           Traceback (most recent call last)",
      "Cell \u001b[0;32mIn[17], line 1\u001b[0m\n\u001b[0;32m----> 1\u001b[0m jac, _ \u001b[38;5;241m=\u001b[39m \u001b[43mjax\u001b[49m\u001b[38;5;241;43m.\u001b[39;49m\u001b[43mjit\u001b[49m\u001b[43m(\u001b[49m\u001b[43mjax\u001b[49m\u001b[38;5;241;43m.\u001b[39;49m\u001b[43mjacfwd\u001b[49m\u001b[43m(\u001b[49m\u001b[43mtrain\u001b[49m\u001b[43m,\u001b[49m\u001b[43m \u001b[49m\u001b[43mhas_aux\u001b[49m\u001b[38;5;241;43m=\u001b[39;49m\u001b[38;5;28;43;01mTrue\u001b[39;49;00m\u001b[43m)\u001b[49m\u001b[43m,\u001b[49m\u001b[43m \u001b[49m\u001b[43mstatic_argnums\u001b[49m\u001b[38;5;241;43m=\u001b[39;49m\u001b[43m(\u001b[49m\u001b[38;5;241;43m3\u001b[39;49m\u001b[43m,\u001b[49m\u001b[43m \u001b[49m\u001b[38;5;241;43m4\u001b[39;49m\u001b[43m,\u001b[49m\u001b[43m)\u001b[49m\u001b[43m)\u001b[49m\u001b[43m(\u001b[49m\u001b[43minit_ravel_params\u001b[49m\u001b[43m,\u001b[49m\u001b[43m \u001b[49m\u001b[43mx_train\u001b[49m\u001b[43m,\u001b[49m\u001b[43m \u001b[49m\u001b[43mz_train\u001b[49m\u001b[43m,\u001b[49m\u001b[43m \u001b[49m\u001b[43mapply_fn\u001b[49m\u001b[43m,\u001b[49m\u001b[43m \u001b[49m\u001b[43mCFG\u001b[49m\u001b[43m)\u001b[49m\n",
      "    \u001b[0;31m[... skipping hidden 5 frame]\u001b[0m\n",
      "File \u001b[0;32m~/.cache/pypoetry/virtualenvs/group_addition-jQUm9okg-py3.11/lib/python3.11/site-packages/jax/_src/interpreters/pxla.py:1289\u001b[0m, in \u001b[0;36mExecuteReplicated.__call__\u001b[0;34m(self, *args)\u001b[0m\n\u001b[1;32m   1286\u001b[0m \u001b[38;5;28;01mif\u001b[39;00m (\u001b[38;5;28mself\u001b[39m\u001b[38;5;241m.\u001b[39mordered_effects \u001b[38;5;129;01mor\u001b[39;00m \u001b[38;5;28mself\u001b[39m\u001b[38;5;241m.\u001b[39mhas_unordered_effects\n\u001b[1;32m   1287\u001b[0m     \u001b[38;5;129;01mor\u001b[39;00m \u001b[38;5;28mself\u001b[39m\u001b[38;5;241m.\u001b[39mhas_host_callbacks):\n\u001b[1;32m   1288\u001b[0m   input_bufs \u001b[38;5;241m=\u001b[39m \u001b[38;5;28mself\u001b[39m\u001b[38;5;241m.\u001b[39m_add_tokens_to_inputs(input_bufs)\n\u001b[0;32m-> 1289\u001b[0m   results \u001b[38;5;241m=\u001b[39m \u001b[38;5;28;43mself\u001b[39;49m\u001b[38;5;241;43m.\u001b[39;49m\u001b[43mxla_executable\u001b[49m\u001b[38;5;241;43m.\u001b[39;49m\u001b[43mexecute_sharded\u001b[49m\u001b[43m(\u001b[49m\n\u001b[1;32m   1290\u001b[0m \u001b[43m      \u001b[49m\u001b[43minput_bufs\u001b[49m\u001b[43m,\u001b[49m\u001b[43m \u001b[49m\u001b[43mwith_tokens\u001b[49m\u001b[38;5;241;43m=\u001b[39;49m\u001b[38;5;28;43;01mTrue\u001b[39;49;00m\n\u001b[1;32m   1291\u001b[0m \u001b[43m  \u001b[49m\u001b[43m)\u001b[49m\n\u001b[1;32m   1293\u001b[0m   result_token_bufs \u001b[38;5;241m=\u001b[39m results\u001b[38;5;241m.\u001b[39mdisassemble_prefix_into_single_device_arrays(\n\u001b[1;32m   1294\u001b[0m       \u001b[38;5;28mlen\u001b[39m(\u001b[38;5;28mself\u001b[39m\u001b[38;5;241m.\u001b[39mordered_effects))\n\u001b[1;32m   1295\u001b[0m   sharded_runtime_token \u001b[38;5;241m=\u001b[39m results\u001b[38;5;241m.\u001b[39mconsume_token()\n",
      "\u001b[0;31mXlaRuntimeError\u001b[0m: INTERNAL: CustomCall failed: CpuCallback error: Traceback (most recent call last):\n  File \"<frozen runpy>\", line 198, in _run_module_as_main\n  File \"<frozen runpy>\", line 88, in _run_code\n  File \"/root/.cache/pypoetry/virtualenvs/group_addition-jQUm9okg-py3.11/lib/python3.11/site-packages/ipykernel_launcher.py\", line 18, in <module>\n  File \"/root/.cache/pypoetry/virtualenvs/group_addition-jQUm9okg-py3.11/lib/python3.11/site-packages/traitlets/config/application.py\", line 1075, in launch_instance\n  File \"/root/.cache/pypoetry/virtualenvs/group_addition-jQUm9okg-py3.11/lib/python3.11/site-packages/ipykernel/kernelapp.py\", line 739, in start\n  File \"/root/.cache/pypoetry/virtualenvs/group_addition-jQUm9okg-py3.11/lib/python3.11/site-packages/tornado/platform/asyncio.py\", line 205, in start\n  File \"/usr/lib/python3.11/asyncio/base_events.py\", line 608, in run_forever\n  File \"/usr/lib/python3.11/asyncio/base_events.py\", line 1936, in _run_once\n  File \"/usr/lib/python3.11/asyncio/events.py\", line 84, in _run\n  File \"/root/.cache/pypoetry/virtualenvs/group_addition-jQUm9okg-py3.11/lib/python3.11/site-packages/ipykernel/kernelbase.py\", line 545, in dispatch_queue\n  File \"/root/.cache/pypoetry/virtualenvs/group_addition-jQUm9okg-py3.11/lib/python3.11/site-packages/ipykernel/kernelbase.py\", line 534, in process_one\n  File \"/root/.cache/pypoetry/virtualenvs/group_addition-jQUm9okg-py3.11/lib/python3.11/site-packages/ipykernel/kernelbase.py\", line 437, in dispatch_shell\n  File \"/root/.cache/pypoetry/virtualenvs/group_addition-jQUm9okg-py3.11/lib/python3.11/site-packages/ipykernel/ipkernel.py\", line 362, in execute_request\n  File \"/root/.cache/pypoetry/virtualenvs/group_addition-jQUm9okg-py3.11/lib/python3.11/site-packages/ipykernel/kernelbase.py\", line 778, in execute_request\n  File \"/root/.cache/pypoetry/virtualenvs/group_addition-jQUm9okg-py3.11/lib/python3.11/site-packages/ipykernel/ipkernel.py\", line 449, in do_execute\n  File \"/root/.cache/pypoetry/virtualenvs/group_addition-jQUm9okg-py3.11/lib/python3.11/site-packages/ipykernel/zmqshell.py\", line 549, in run_cell\n  File \"/root/.cache/pypoetry/virtualenvs/group_addition-jQUm9okg-py3.11/lib/python3.11/site-packages/IPython/core/interactiveshell.py\", line 3075, in run_cell\n  File \"/root/.cache/pypoetry/virtualenvs/group_addition-jQUm9okg-py3.11/lib/python3.11/site-packages/IPython/core/interactiveshell.py\", line 3130, in _run_cell\n  File \"/root/.cache/pypoetry/virtualenvs/group_addition-jQUm9okg-py3.11/lib/python3.11/site-packages/IPython/core/async_helpers.py\", line 128, in _pseudo_sync_runner\n  File \"/root/.cache/pypoetry/virtualenvs/group_addition-jQUm9okg-py3.11/lib/python3.11/site-packages/IPython/core/interactiveshell.py\", line 3334, in run_cell_async\n  File \"/root/.cache/pypoetry/virtualenvs/group_addition-jQUm9okg-py3.11/lib/python3.11/site-packages/IPython/core/interactiveshell.py\", line 3517, in run_ast_nodes\n  File \"/root/.cache/pypoetry/virtualenvs/group_addition-jQUm9okg-py3.11/lib/python3.11/site-packages/IPython/core/interactiveshell.py\", line 3577, in run_code\n  File \"/tmp/ipykernel_5192/3101063958.py\", line 1, in <module>\n  File \"/root/.cache/pypoetry/virtualenvs/group_addition-jQUm9okg-py3.11/lib/python3.11/site-packages/jax/_src/traceback_util.py\", line 180, in reraise_with_filtered_traceback\n  File \"/root/.cache/pypoetry/virtualenvs/group_addition-jQUm9okg-py3.11/lib/python3.11/site-packages/jax/_src/pjit.py\", line 337, in cache_miss\n  File \"/root/.cache/pypoetry/virtualenvs/group_addition-jQUm9okg-py3.11/lib/python3.11/site-packages/jax/_src/pjit.py\", line 195, in _python_pjit_helper\n  File \"/root/.cache/pypoetry/virtualenvs/group_addition-jQUm9okg-py3.11/lib/python3.11/site-packages/jax/_src/pjit.py\", line 1695, in _pjit_call_impl_python\n  File \"/root/.cache/pypoetry/virtualenvs/group_addition-jQUm9okg-py3.11/lib/python3.11/site-packages/jax/_src/profiler.py\", line 333, in wrapper\n  File \"/root/.cache/pypoetry/virtualenvs/group_addition-jQUm9okg-py3.11/lib/python3.11/site-packages/jax/_src/interpreters/pxla.py\", line 1289, in __call__\n  File \"/root/.cache/pypoetry/virtualenvs/group_addition-jQUm9okg-py3.11/lib/python3.11/site-packages/jax/_src/interpreters/mlir.py\", line 2854, in _wrapped_callback\n  File \"/root/.cache/pypoetry/virtualenvs/group_addition-jQUm9okg-py3.11/lib/python3.11/site-packages/jax/_src/debugging.py\", line 160, in _callback\n  File \"/root/.cache/pypoetry/virtualenvs/group_addition-jQUm9okg-py3.11/lib/python3.11/site-packages/jax/_src/debugging.py\", line 96, in debug_callback_impl\n  File \"/root/.cache/pypoetry/virtualenvs/group_addition-jQUm9okg-py3.11/lib/python3.11/site-packages/jax/_src/debugging.py\", line 278, in _flat_callback\n  File \"/root/.cache/pypoetry/virtualenvs/group_addition-jQUm9okg-py3.11/lib/python3.11/site-packages/jax/_src/debugger/core.py\", line 220, in _breakpoint_callback\n  File \"/root/.cache/pypoetry/virtualenvs/group_addition-jQUm9okg-py3.11/lib/python3.11/site-packages/jax/_src/debugger/cli_debugger.py\", line 167, in run_debugger\n  File \"/root/.cache/pypoetry/virtualenvs/group_addition-jQUm9okg-py3.11/lib/python3.11/site-packages/jax/_src/debugger/cli_debugger.py\", line 162, in run\n  File \"/usr/lib/python3.11/cmd.py\", line 145, in cmdloop\n  File \"/usr/lib/python3.11/cmd.py\", line 217, in onecmd\n  File \"/root/.cache/pypoetry/virtualenvs/group_addition-jQUm9okg-py3.11/lib/python3.11/site-packages/jax/_src/debugger/cli_debugger.py\", line 146, in do_quit\nSystemExit: 0"
     ]
    }
   ],
   "source": [
    "jac, _ = jax.jit(jax.jacfwd(train, has_aux=True), static_argnums=(3, 4,))(init_ravel_params, x_train, z_train, apply_fn, CFG)"
   ]
  },
  {
   "cell_type": "code",
   "execution_count": 92,
   "metadata": {},
   "outputs": [],
   "source": [
    "# jnp.save('/workspace/wilson/Finite-groups/data/trainjac_S4_d32_wd2e-4_epochs4000.npy', jac)"
   ]
  },
  {
   "cell_type": "code",
   "execution_count": 10,
   "metadata": {},
   "outputs": [],
   "source": [
    "U, S, V = jnp.linalg.svd(jac)"
   ]
  },
  {
   "cell_type": "code",
   "execution_count": 11,
   "metadata": {},
   "outputs": [
    {
     "data": {
      "text/plain": [
       "Array([[ 1.24153781e+00, -2.41985898e-02, -2.86421329e-02, ...,\n",
       "         5.69535136e-01, -1.68168306e-01, -3.25382531e-01],\n",
       "       [-5.56496195e-02,  1.23230386e+00, -1.26619190e-02, ...,\n",
       "        -7.53797442e-02,  6.09494895e-02, -1.22233585e-01],\n",
       "       [ 7.86120072e-04, -2.45532184e-03,  9.25185263e-01, ...,\n",
       "         1.32018209e-01, -6.07045479e-02, -6.15150854e-02],\n",
       "       ...,\n",
       "       [ 3.82915419e-03,  1.98691938e-04,  4.59734118e-03, ...,\n",
       "         1.25064576e+00, -3.88171412e-02, -8.41931552e-02],\n",
       "       [-3.30780633e-03,  4.11449652e-03,  1.80723204e-03, ...,\n",
       "        -3.29198718e-01,  1.64218712e+00, -2.47553065e-02],\n",
       "       [ 2.17470410e-03,  2.63520679e-03,  2.64763075e-05, ...,\n",
       "        -7.36904657e-03,  1.31536603e-01,  9.56390858e-01]],      dtype=float32)"
      ]
     },
     "execution_count": 11,
     "metadata": {},
     "output_type": "execute_result"
    }
   ],
   "source": [
    "jac"
   ]
  },
  {
   "cell_type": "code",
   "execution_count": 12,
   "metadata": {},
   "outputs": [
    {
     "data": {
      "image/png": "[encoded data removed]",
      "text/plain": [
       "<Figure size 640x480 with 1 Axes>"
      ]
     },
     "metadata": {},
     "output_type": "display_data"
    }
   ],
   "source": [
    "plt.plot(S)\n",
    "plt.axhline(1, linestyle='--')\n",
    "plt.yscale('log')\n",
    "plt.show()"
   ]
  },
  {
   "cell_type": "code",
   "execution_count": null,
   "metadata": {},
   "outputs": [],
   "source": []
  }
 ],
 "metadata": {
  "kernelspec": {
   "display_name": "group_addition-jQUm9okg-py3.11",
   "language": "python",
   "name": "python3"
  },
  "language_info": {
   "codemirror_mode": {
    "name": "ipython",
    "version": 3
   },
   "file_extension": ".py",
   "mimetype": "text/x-python",
   "name": "python",
   "nbconvert_exporter": "python",
   "pygments_lexer": "ipython3",
   "version": "3.11.10"
  }
 },
 "nbformat": 4,
 "nbformat_minor": 2
}
