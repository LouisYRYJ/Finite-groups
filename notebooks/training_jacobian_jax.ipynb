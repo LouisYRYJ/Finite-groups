{
 "cells": [
  {
   "cell_type": "code",
   "execution_count": 31,
   "metadata": {},
   "outputs": [
    {
     "name": "stdout",
     "output_type": "stream",
     "text": [
      "The autoreload extension is already loaded. To reload it, use:\n",
      "  %reload_ext autoreload\n"
     ]
    }
   ],
   "source": [
    "import os, sys\n",
    "# HOME = os.environ['HOME']  # change if necessary\n",
    "HOME = '/workspace/wilson'\n",
    "sys.path.append(f'{HOME}/Finite-groups/src')\n",
    "# from model import MLP3, MLP4, InstancedModule\n",
    "from utils import *\n",
    "from group_data import *\n",
    "# from model_utils import *\n",
    "from train import Parameters\n",
    "%load_ext autoreload\n",
    "%autoreload 2\n",
    "\n",
    "from flax import linen as nn, struct\n",
    "from flax.training.train_state import TrainState\n",
    "from jax.flatten_util import ravel_pytree\n",
    "from optax import (\n",
    "    softmax_cross_entropy_with_integer_labels as xent\n",
    ")\n",
    "import jax\n",
    "import jax.numpy as jnp\n",
    "import optax\n",
    "from jaxtyping import Int, Array, Float\n",
    "from functools import partial\n",
    "from dataclasses import dataclass\n",
    "from frozendict import frozendict"
   ]
  },
  {
   "cell_type": "code",
   "execution_count": 32,
   "metadata": {},
   "outputs": [],
   "source": [
    "class MLP2(nn.Module):\n",
    "    # right now this hardcodes a lot of things to the defaults\n",
    "    cfg: frozendict\n",
    "    N: int\n",
    "\n",
    "    @nn.compact\n",
    "    def __call__(self, a: Int[Array, 'batch entry']) -> Float[Array, 'batch vocab']:\n",
    "        a1, a2 = a[...,0], a[...,1]\n",
    "        embedding_init = nn.initializers.normal(stddev=1.0)\n",
    "        # In the torch code, uniform bounds are \\pm 1/sqrt(fan_in) * 1/sqrt(2) (kaiming_uniform with scale=1/sqrt(2) to account for 2 input arguments)\n",
    "        # This corresponds to std = 1/sqrt(6) * 1/sqrt(fan_in)\n",
    "        # variance_scaling sets std = sqrt(scale) / sqrt(fan_in)\n",
    "        # So we should set scale = 1/6 to get the same initialization\n",
    "        kernel_init = nn.initializers.variance_scaling(mode='fan_in', distribution='uniform', scale=1/6)\n",
    "        # This differs from the pytorch version\n",
    "        # In pytorch we had uniform distribution over [-1/sqrt(fan_in), 1/sqrt(fan_in)]\n",
    "        # Here we use constant initialization to 1/N\n",
    "        # The former matches the default for torch.nn.Linear, but it doesn't seem motivated by anything\n",
    "        # and anyways I don't know how to recreate it with flax...\n",
    "        bias_init = nn.initializers.constant(1 / self.N)\n",
    "        # bias_init = nn.initializers.uniform(scale=1/np.sqrt(self.params.hidden_size))\n",
    "        x1 = nn.Embed(self.N, self.cfg['embed_dim'], embedding_init=embedding_init, name='embedding_left')(a1)\n",
    "        x2 = nn.Embed(self.N, self.cfg['embed_dim'], embedding_init=embedding_init, name='embedding_right')(a2)\n",
    "        h1 = nn.Dense(self.cfg['hidden_size'], use_bias=False, kernel_init=kernel_init, name='linear_left')(x1)\n",
    "        h2 = nn.Dense(self.cfg['hidden_size'], use_bias=False, kernel_init=kernel_init, name='linear_right')(x2)\n",
    "        h = h1 + h2\n",
    "        act = nn.relu(h)\n",
    "        return nn.Dense(self.N, kernel_init=kernel_init, bias_init=bias_init, name='unembedding')(act)\n"
   ]
  },
  {
   "cell_type": "code",
   "execution_count": 33,
   "metadata": {},
   "outputs": [],
   "source": [
    "def make_apply_full(model, unraveler):\n",
    "    \"\"\"Apply function that takes raveled params vector.\"\"\"\n",
    "    def apply_full(raveled, x):\n",
    "        params = unraveler(raveled)\n",
    "        return model.apply(params, x)\n",
    "    \n",
    "    return apply_full\n",
    "\n",
    "def loss_fn(params, apply_fn, x, z):\n",
    "    logits = apply_fn(params, x)\n",
    "    preds = jnp.argmax(logits, axis=-1)\n",
    "    loss = xent(logits, z).mean()\n",
    "    acc = (preds == z).mean()\n",
    "    return loss, acc\n",
    "\n",
    "def wd_loss_fn(params, apply_fn, x, z, wd):\n",
    "    loss, acc = loss_fn(params, apply_fn, x, z)\n",
    "    return loss + wd / 2 * jnp.linalg.norm(params) ** 2, (loss, acc)"
   ]
  },
  {
   "cell_type": "code",
   "execution_count": 34,
   "metadata": {},
   "outputs": [],
   "source": [
    "@partial(jax.jit, static_argnums=(3, 4))\n",
    "def train(ravel_params, x, z, apply_fn, cfg: frozendict):\n",
    "    tx = optax.adam(\n",
    "        learning_rate=cfg['lr'],\n",
    "        b1=cfg['beta1'],\n",
    "        b2=cfg['beta2'],\n",
    "    )\n",
    "    \n",
    "    state = TrainState.create(apply_fn=apply_fn, params=ravel_params, tx=tx)\n",
    "    loss_and_grad = jax.value_and_grad(wd_loss_fn, has_aux=True)\n",
    "    \n",
    "    # TODO: support batching (right now only full batch)\n",
    "    def epoch_step(state:TrainState, epoch) -> tuple[TrainState, tuple[jnp.ndarray, jnp.ndarray]]:\n",
    "        (_, (loss, acc)), grads = loss_and_grad(state.params, state.apply_fn, x, z, cfg['weight_decay'])\n",
    "        return state.apply_gradients(grads=grads), (loss, acc)\n",
    "\n",
    "    state, (train_loss, train_acc) = jax.lax.scan(epoch_step, state, jnp.arange(cfg['epochs']))\n",
    "    return state.params, (train_loss, train_acc)\n",
    "        "
   ]
  },
  {
   "cell_type": "code",
   "execution_count": 78,
   "metadata": {},
   "outputs": [
    {
     "name": "stdout",
     "output_type": "stream",
     "text": [
      "Intersection size: 576/576 (1.00)\n",
      "Added 576 elements from intersection\n",
      "Added 0 elements from group 0: S(4)\n",
      "Taking random subset: 345/576 (0.60)\n",
      "Train set size: 345/576 (0.60)\n"
     ]
    }
   ],
   "source": [
    "device = jax.devices('gpu')[0]\n",
    "\n",
    "PARAMS = Parameters(\n",
    "    instances=1,\n",
    "    # embed_dim=32,\n",
    "    # hidden_size=32,\n",
    "    # group_string='S(4)',\n",
    "    embed_dim=32,\n",
    "    hidden_size=32,\n",
    "    group_string='S(4)',\n",
    "    model='MLP2',\n",
    "    unembed_bias=True,\n",
    "    weight_decay=2e-4,\n",
    "    train_frac=0.6,\n",
    "    epochs=4000,\n",
    ")\n",
    "\n",
    "t.manual_seed(PARAMS.seed)\n",
    "np.random.seed(PARAMS.seed)\n",
    "random.seed(PARAMS.seed)\n",
    "\n",
    "group_dataset = GroupData(params=PARAMS)\n",
    "train_data = jnp.array(group_dataset.train_data, device=device)\n",
    "\n",
    "# Needs to be hashable for jax jit\n",
    "CFG = frozendict(\n",
    "    {k: v for k, v in PARAMS.__dict__.items() if k not in ['delta_frac']}\n",
    ")\n"
   ]
  },
  {
   "cell_type": "code",
   "execution_count": 88,
   "metadata": {},
   "outputs": [],
   "source": [
    "x_train, z_train = train_data[:,:2], train_data[:,2]\n",
    "model = MLP2(CFG, group_dataset.N)\n",
    "init_params = model.init(jax.random.key(PARAMS.seed), x_train)\n",
    "init_ravel_params, unraveler = ravel_pytree(init_params)\n",
    "apply_fn = make_apply_full(model, unraveler)"
   ]
  },
  {
   "cell_type": "code",
   "execution_count": 89,
   "metadata": {},
   "outputs": [
    {
     "data": {
      "text/plain": [
       "(Array(0.00673234, dtype=float32), Array(1., dtype=float32))"
      ]
     },
     "execution_count": 89,
     "metadata": {},
     "output_type": "execute_result"
    }
   ],
   "source": [
    "final_ravel_params, (train_loss, train_acc) = train(init_ravel_params, x_train, z_train, apply_fn, CFG)\n",
    "train_loss[-1], train_acc[-1]"
   ]
  },
  {
   "cell_type": "code",
   "execution_count": 90,
   "metadata": {},
   "outputs": [
    {
     "data": {
      "text/plain": [
       "(Array(0.01418004, dtype=float32), Array(1., dtype=float32))"
      ]
     },
     "execution_count": 90,
     "metadata": {},
     "output_type": "execute_result"
    }
   ],
   "source": [
    "x_test = jnp.asarray(list(product(range(group_dataset.N), repeat=2)), device=device)\n",
    "z_test = einops.rearrange(jnp.asarray(group_dataset.groups[0].cayley_table, device=device), 'i j -> (i j)')\n",
    "loss_fn(final_ravel_params, apply_fn, x_test, z_test)"
   ]
  },
  {
   "cell_type": "code",
   "execution_count": 91,
   "metadata": {},
   "outputs": [],
   "source": [
    "jac, _ = jax.jit(jax.jacfwd(train, has_aux=True), static_argnums=(3, 4,))(init_ravel_params, x_train, z_train, apply_fn, CFG)"
   ]
  },
  {
   "cell_type": "code",
   "execution_count": 92,
   "metadata": {},
   "outputs": [],
   "source": [
    "jnp.save('/workspace/wilson/Finite-groups/data/trainjac_S4_d32_wd2e-4_epochs4000.npy', jac)"
   ]
  },
  {
   "cell_type": "code",
   "execution_count": 93,
   "metadata": {},
   "outputs": [],
   "source": [
    "U, S, V = jnp.linalg.svd(jac)"
   ]
  },
  {
   "cell_type": "code",
   "execution_count": 97,
   "metadata": {},
   "outputs": [
    {
     "data": {
      "text/plain": [
       "Array([[nan, nan, nan, ..., nan, nan, nan],\n",
       "       [nan, nan, nan, ..., nan, nan, nan],\n",
       "       [nan, nan, nan, ..., nan, nan, nan],\n",
       "       ...,\n",
       "       [nan, nan, nan, ..., nan, nan, nan],\n",
       "       [nan, nan, nan, ..., nan, nan, nan],\n",
       "       [nan, nan, nan, ..., nan, nan, nan]], dtype=float32)"
      ]
     },
     "execution_count": 97,
     "metadata": {},
     "output_type": "execute_result"
    }
   ],
   "source": [
    "jac"
   ]
  },
  {
   "cell_type": "code",
   "execution_count": 94,
   "metadata": {},
   "outputs": [
    {
     "data": {
      "image/png": "[encoded data removed]",
      "text/plain": [
       "<Figure size 640x480 with 1 Axes>"
      ]
     },
     "metadata": {},
     "output_type": "display_data"
    }
   ],
   "source": [
    "plt.plot(S)\n",
    "plt.axhline(1, linestyle='--')\n",
    "plt.yscale('log')\n",
    "plt.show()"
   ]
  },
  {
   "cell_type": "code",
   "execution_count": null,
   "metadata": {},
   "outputs": [],
   "source": []
  }
 ],
 "metadata": {
  "kernelspec": {
   "display_name": "group_addition-jQUm9okg-py3.11",
   "language": "python",
   "name": "python3"
  },
  "language_info": {
   "codemirror_mode": {
    "name": "ipython",
    "version": 3
   },
   "file_extension": ".py",
   "mimetype": "text/x-python",
   "name": "python",
   "nbconvert_exporter": "python",
   "pygments_lexer": "ipython3",
   "version": "3.11.10"
  }
 },
 "nbformat": 4,
 "nbformat_minor": 2
}
