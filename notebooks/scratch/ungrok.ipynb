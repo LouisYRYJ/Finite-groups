{
 "cells": [
  {
   "cell_type": "code",
   "execution_count": 11,
   "metadata": {},
   "outputs": [
    {
     "name": "stdout",
     "output_type": "stream",
     "text": [
      "The autoreload extension is already loaded. To reload it, use:\n",
      "  %reload_ext autoreload\n"
     ]
    }
   ],
   "source": [
    "import torch as t\n",
    "import numpy as np\n",
    "from matplotlib import pyplot as plt\n",
    "import json\n",
    "from itertools import product\n",
    "from jaxtyping import Float\n",
    "from torch.utils.data import DataLoader\n",
    "from tqdm.notebook import tqdm\n",
    "import plotly.graph_objects as go\n",
    "import copy\n",
    "import math\n",
    "from itertools import product\n",
    "import pandas as pd\n",
    "from typing import Union\n",
    "from einops import repeat\n",
    "from huggingface_hub import snapshot_download\n",
    "from huggingface_hub.utils import disable_progress_bars\n",
    "\n",
    "\n",
    "from model import MLP3, MLP4, InstancedModule\n",
    "from utils import *\n",
    "from group_data import *\n",
    "from model_utils import *\n",
    "from group_utils import *\n",
    "from irrep_bounds import *\n",
    "%load_ext autoreload\n",
    "%autoreload 2"
   ]
  },
  {
   "cell_type": "code",
   "execution_count": 3,
   "metadata": {},
   "outputs": [],
   "source": [
    "import os, sys\n",
    "# HOME = os.environ['HOME']  # change if necessary\n",
    "HOME = '/workspace/'\n",
    "sys.path.append(f'{HOME}/Finite-groups/src')"
   ]
  },
  {
   "cell_type": "code",
   "execution_count": 61,
   "metadata": {},
   "outputs": [
    {
     "name": "stdout",
     "output_type": "stream",
     "text": [
      "Intersection size: 576/576 (1.00)\n",
      "Added 576 elements from intersection\n",
      "Added 0 elements from group 0: S(4)\n",
      "Train set size: 576/576 (1.00)\n",
      "Intersection size: 336/576 (0.58)\n",
      "Added 336 elements from intersection\n",
      "Added 0 elements from group 0: S(4)\n",
      "Added 0 elements from group 1: times(A(4),Z(2))\n",
      "Train set size: 336/576 (0.58)\n"
     ]
    },
    {
     "name": "stderr",
     "output_type": "stream",
     "text": [
      "/workspace/wilson/Finite-groups/src/model_utils.py:57: FutureWarning: You are using `torch.load` with `weights_only=False` (the current default value), which uses the default pickle module implicitly. It is possible to construct malicious pickle data which will execute arbitrary code during unpickling (See https://github.com/pytorch/pytorch/blob/main/SECURITY.md#untrusted-models for more details). In a future release, the default value for `weights_only` will be flipped to `True`. This limits the functions that could be executed during unpickling. Arbitrary objects will no longer be allowed to be loaded via this mode unless they are explicitly allowlisted by the user via `torch.serialization.add_safe_globals`. We recommend you start setting `weights_only=True` for any use case where you don't have full control of the loaded file. Please open an issue on GitHub for any issues related to this experimental feature.\n",
      "  model.load_state_dict(t.load(model_path, map_location=device))\n"
     ]
    }
   ],
   "source": [
    "device = t.device(\"cuda\" if t.cuda.is_available() else \"cpu\")\n",
    "\n",
    "def get_models(model_dir):\n",
    "    disable_progress_bars()\n",
    "    local_dir = f'{HOME}/models/{model_dir}'\n",
    "    if not os.path.exists(local_dir):\n",
    "        snapshot_download(repo_id=f'wiwu2390/{model_dir}', local_dir=local_dir)\n",
    "    models, params = load_models(local_dir, sel='final')\n",
    "    models = models[0]\n",
    "    data = GroupData(params)\n",
    "    group = data.groups[0]\n",
    "    return models, data, group\n",
    "\n",
    "MODEL0_DIR = '2024-12-31_01-57-44_S4_MLP2_32_ubias_wd2e-5_frac1'\n",
    "MODEL1_DIR = '2024-12-31_02-07-29_S4_to_S4_A4x2_MLP2_32_ubias_wd2e-5_frac1'\n",
    "model0, data0, group = get_models(MODEL0_DIR)\n",
    "model1, data1, _ = get_models(MODEL1_DIR)\n",
    "# select instance 5\n",
    "# https://wandb.ai/neural_fate/group%20generalization/runs/len6zqlg/panel/un93bwhwa\n",
    "model0 = model0[5]\n",
    "model1 = model1[5]   \n",
    "# model0 = model0[45]\n",
    "# model1 = model1[45]   "
   ]
  },
  {
   "cell_type": "code",
   "execution_count": 62,
   "metadata": {},
   "outputs": [
    {
     "name": "stdout",
     "output_type": "stream",
     "text": [
      "embedding_left 0.4111334979534149\n",
      "embedding_right 0.42162278294563293\n",
      "linear_left 0.7070237994194031\n",
      "linear_right 0.7144994735717773\n",
      "unembedding 0.6914891004562378\n",
      "unembed_bias 0.48266756534576416\n"
     ]
    }
   ],
   "source": [
    "for name, p0 in model0.named_parameters():\n",
    "    p1 = model1.get_parameter(name)\n",
    "    print(name, ((t.norm(p0 - p1)**2) / (t.norm(p0)**2)).item())"
   ]
  },
  {
   "cell_type": "code",
   "execution_count": 63,
   "metadata": {},
   "outputs": [],
   "source": [
    "irreps0, irrep_idx_dict0 = get_neuron_irreps(model0, group)\n",
    "irreps1, irrep_idx_dict1 = get_neuron_irreps(model1, group)"
   ]
  },
  {
   "cell_type": "code",
   "execution_count": 64,
   "metadata": {},
   "outputs": [
    {
     "name": "stdout",
     "output_type": "stream",
     "text": [
      "1d-0 | 0 0 0\n",
      "1d-1 | 3 3 3\n",
      "2d-0 | 2 0 0\n",
      "3d-0 | 25 27 23\n",
      "3d-1 | 2 0 0\n"
     ]
    }
   ],
   "source": [
    "for k in sorted(set(irreps0.keys()).union(set(irreps1.keys()))):\n",
    "    neurons0 = irrep_idx_dict0.get(k, [])\n",
    "    neurons1 = irrep_idx_dict1.get(k, [])\n",
    "    print(k, '|',  len(neurons0), len(neurons1), len(set(neurons0).intersection(neurons1)))"
   ]
  },
  {
   "cell_type": "code",
   "execution_count": 60,
   "metadata": {},
   "outputs": [
    {
     "data": {
      "text/plain": [
       "{'1d-0': [],\n",
       " '1d-1': [],\n",
       " '2d-0': [3, 10, 11, 18, 27],\n",
       " '3d-0': [0,\n",
       "  1,\n",
       "  2,\n",
       "  4,\n",
       "  5,\n",
       "  6,\n",
       "  7,\n",
       "  9,\n",
       "  12,\n",
       "  16,\n",
       "  17,\n",
       "  19,\n",
       "  20,\n",
       "  21,\n",
       "  22,\n",
       "  23,\n",
       "  25,\n",
       "  26,\n",
       "  28,\n",
       "  29,\n",
       "  30,\n",
       "  31],\n",
       " '3d-1': [8, 14, 15, 24]}"
      ]
     },
     "execution_count": 60,
     "metadata": {},
     "output_type": "execute_result"
    }
   ],
   "source": [
    "irrep_idx_dict0"
   ]
  },
  {
   "cell_type": "code",
   "execution_count": 49,
   "metadata": {},
   "outputs": [
    {
     "data": {
      "text/plain": [
       "[]"
      ]
     },
     "execution_count": 49,
     "metadata": {},
     "output_type": "execute_result"
    }
   ],
   "source": [
    "irrep_idx_dict0['1d-1']"
   ]
  },
  {
   "cell_type": "code",
   "execution_count": 44,
   "metadata": {},
   "outputs": [
    {
     "data": {
      "text/plain": [
       "({'G0_loss': tensor([0.0008], device='cuda:0'),\n",
       "  'G0_acc': tensor([1.], device='cuda:0')},\n",
       " {'G0_loss': tensor([0.0078], device='cuda:0'),\n",
       "  'G0_acc': tensor([1.], device='cuda:0'),\n",
       "  'G1_loss': tensor([5.1937], device='cuda:0'),\n",
       "  'G1_acc': tensor([0.5833], device='cuda:0')})"
      ]
     },
     "execution_count": 44,
     "metadata": {},
     "output_type": "execute_result"
    }
   ],
   "source": [
    "loss_dict0 = test_loss(model0.to(device), data0)\n",
    "loss_dict1 = test_loss(model1.to(device), data1)\n",
    "loss_dict0, loss_dict1"
   ]
  },
  {
   "cell_type": "code",
   "execution_count": null,
   "metadata": {},
   "outputs": [],
   "source": []
  }
 ],
 "metadata": {
  "kernelspec": {
   "display_name": "group_addition-jQUm9okg-py3.11",
   "language": "python",
   "name": "python3"
  },
  "language_info": {
   "codemirror_mode": {
    "name": "ipython",
    "version": 3
   },
   "file_extension": ".py",
   "mimetype": "text/x-python",
   "name": "python",
   "nbconvert_exporter": "python",
   "pygments_lexer": "ipython3",
   "version": "3.11.10"
  }
 },
 "nbformat": 4,
 "nbformat_minor": 2
}
