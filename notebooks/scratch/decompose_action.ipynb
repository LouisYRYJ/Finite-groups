{
 "cells": [
  {
   "cell_type": "code",
   "execution_count": 1,
   "metadata": {},
   "outputs": [],
   "source": [
    "import os, sys\n",
    "HOME = os.environ['HOME']  # change if necessary\n",
    "sys.path.append(f'{HOME}/Finite-groups/src')"
   ]
  },
  {
   "cell_type": "code",
   "execution_count": 2,
   "metadata": {},
   "outputs": [
    {
     "name": "stderr",
     "output_type": "stream",
     "text": [
      "Syntax warning: Unbound global variable in /usr/share/gap/pkg/browse/PackageIn\\\n",
      "fo.g:73\n",
      "  if not IsKernelExtensionAvailable(\"Browse\", \"ncurses\") then\n",
      "         ^^^^^^^^^^^^^^^^^^^^^^^^^^\n",
      "Syntax warning: Unbound global variable in /usr/share/gap/pkg/edim/PackageInfo\\\n",
      ".g:60\n",
      "  if not IsKernelExtensionAvailable(\"EDIM\",\"ediv\") then\n",
      "         ^^^^^^^^^^^^^^^^^^^^^^^^^^\n"
     ]
    }
   ],
   "source": [
    "import torch as t\n",
    "import numpy as np\n",
    "from matplotlib import pyplot as plt\n",
    "import json\n",
    "from itertools import product\n",
    "from jaxtyping import Float\n",
    "from torch.utils.data import DataLoader\n",
    "from tqdm.notebook import tqdm\n",
    "import plotly.graph_objects as go\n",
    "import copy\n",
    "import math\n",
    "from itertools import product\n",
    "import pandas as pd\n",
    "from typing import Union\n",
    "from einops import repeat\n",
    "from huggingface_hub import snapshot_download\n",
    "from huggingface_hub.utils import disable_progress_bars\n",
    "\n",
    "\n",
    "from model import MLP3, MLP4, InstancedModule\n",
    "from utils import *\n",
    "from group_data import *\n",
    "from model_utils import *\n",
    "from group_utils import *\n",
    "from irrep_bounds import *\n",
    "from bound_utils import *\n",
    "%load_ext autoreload\n",
    "%autoreload 2"
   ]
  },
  {
   "cell_type": "code",
   "execution_count": 18,
   "metadata": {},
   "outputs": [
    {
     "name": "stdout",
     "output_type": "stream",
     "text": [
      "Computing subgroups from gap_repr\n"
     ]
    },
    {
     "name": "stderr",
     "output_type": "stream",
     "text": [
      "Computing orders: 100%|██████████| 26/26 [00:00<00:00, 1563.96it/s]\n",
      "Computing elements: 100%|██████████| 24/24 [00:00<00:00, 14043.43it/s]\n"
     ]
    }
   ],
   "source": [
    "group = smallgrp(72,40)\n",
    "irreps = group.get_real_irreps()\n",
    "subgroups = group.get_subgroups_idx(conjugates=False)"
   ]
  },
  {
   "cell_type": "code",
   "execution_count": 19,
   "metadata": {},
   "outputs": [],
   "source": [
    "irrep_bases = dict()\n",
    "for name, irrep in irreps.items():\n",
    "    irrep = einops.rearrange(irrep, 'N d1 d2 -> N (d1 d2)')\n",
    "    U, S, V = t.svd(irrep)\n",
    "    nonzero = S > 1e-5\n",
    "    irrep_bases[name] = U[:,nonzero]"
   ]
  },
  {
   "cell_type": "code",
   "execution_count": 20,
   "metadata": {},
   "outputs": [
    {
     "data": {
      "text/plain": [
       "dict_keys(['1', '(S3xS3):C2', 'C2_0', 'C2_1', 'C2_2', 'C3_0', 'C3_1', 'C2xC2_0', 'C2xC2_1', 'C4_0', 'S3_0', 'S3_1', 'C6_0', 'S3_2', 'C6_1', 'S3_3', 'D8_0', 'C3xC3_0', 'D12_0', 'D12_1', '(C3xC3):C2_0', 'C3xS3_0', 'C3xS3_1', 'S3xS3_0', 'S3xS3_1', '(C3xC3):C4_0'])"
      ]
     },
     "execution_count": 20,
     "metadata": {},
     "output_type": "execute_result"
    }
   ],
   "source": [
    "subgroups.keys()"
   ]
  },
  {
   "cell_type": "code",
   "execution_count": 21,
   "metadata": {},
   "outputs": [
    {
     "name": "stdout",
     "output_type": "stream",
     "text": [
      "1 1\n",
      "{'4d-0', '2d-0', '4d-1', '4d-2', '4d-3', '1d-2', '1d-1', '1d-3', '1d-0'}\n",
      "\n",
      "C2_0 2\n",
      "{'4d-0', '2d-0', '4d-1', '4d-2', '4d-3', '1d-1', '1d-0'}\n",
      "\n",
      "C2_1 2\n",
      "{'2d-0', '4d-0', '4d-1', '4d-2', '4d-3', '1d-2', '1d-0'}\n",
      "\n",
      "C2_2 2\n",
      "{'4d-0', '4d-1', '4d-2', '4d-3', '1d-2', '1d-1', '1d-3', '1d-0'}\n",
      "\n",
      "C3_0 3\n",
      "{'2d-0', '4d-3', '4d-2', '1d-2', '1d-1', '1d-3', '1d-0'}\n",
      "\n",
      "C3_1 3\n",
      "{'4d-0', '2d-0', '4d-1', '1d-2', '1d-1', '1d-3', '1d-0'}\n",
      "\n",
      "C2xC2_0 4\n",
      "{'4d-0', '4d-3', '4d-2', '1d-2', '1d-0'}\n",
      "\n",
      "C2xC2_1 4\n",
      "{'4d-0', '4d-1', '4d-2', '1d-1', '1d-0'}\n",
      "\n",
      "C4_0 4\n",
      "{'4d-0', '4d-1', '4d-3', '4d-2', '1d-3', '1d-0'}\n",
      "\n",
      "S3_0 6\n",
      "{'4d-0', '4d-1', '1d-2', '1d-1', '1d-3', '1d-0'}\n",
      "\n",
      "S3_1 6\n",
      "{'4d-3', '4d-2', '1d-2', '1d-1', '1d-3', '1d-0'}\n",
      "\n",
      "C6_0 6\n",
      "{'2d-0', '4d-0', '4d-1', '1d-2', '1d-0'}\n",
      "\n",
      "S3_2 6\n",
      "{'1d-2', '2d-0', '4d-0', '1d-0'}\n",
      "\n",
      "C6_1 6\n",
      "{'2d-0', '4d-3', '4d-2', '1d-1', '1d-0'}\n",
      "\n",
      "S3_3 6\n",
      "{'1d-1', '2d-0', '1d-0', '4d-2'}\n",
      "\n",
      "D8_0 8\n",
      "{'4d-0', '1d-0', '4d-2'}\n",
      "\n",
      "C3xC3_0 9\n",
      "{'2d-0', '1d-2', '1d-1', '1d-3', '1d-0'}\n",
      "\n",
      "D12_0 12\n",
      "{'1d-2', '4d-0', '1d-0'}\n",
      "\n",
      "D12_1 12\n",
      "{'4d-2', '1d-0', '1d-1'}\n",
      "\n",
      "(C3xC3):C2_0 18\n",
      "{'1d-2', '1d-1', '1d-3', '1d-0'}\n",
      "\n",
      "C3xS3_0 18\n",
      "{'1d-2', '2d-0', '1d-0'}\n",
      "\n",
      "C3xS3_1 18\n",
      "{'2d-0', '1d-0', '1d-1'}\n",
      "\n",
      "S3xS3_0 36\n",
      "{'1d-2', '1d-0'}\n",
      "\n",
      "S3xS3_1 36\n",
      "{'1d-1', '1d-0'}\n",
      "\n",
      "(C3xC3):C4_0 36\n",
      "{'1d-3', '1d-0'}\n",
      "\n",
      "(S3xS3):C2 72\n",
      "{'1d-0'}\n",
      "\n"
     ]
    }
   ],
   "source": [
    "for name in sorted(subgroups.keys(), key=lambda x: len(subgroups[x])):\n",
    "    print(name, len(subgroups[name]))\n",
    "    subgroup = subgroups[name]\n",
    "    perm = group.get_permutation_idx(subgroup)\n",
    "    decomp = set()\n",
    "    for _ in range(100):\n",
    "        A = t.randn(perm.shape[-1], perm.shape[-1])\n",
    "        proj = einops.einsum(perm, A, 'group d1 d2, d1 d2 -> group')\n",
    "        for name, basis in irrep_bases.items():\n",
    "            if (basis.H @ proj).norm(dim=0)**2 / (proj.norm(dim=0)**2 + 1e-8) > 1e-2:\n",
    "                decomp.add(name)\n",
    "    print(decomp)\n",
    "    print()"
   ]
  },
  {
   "cell_type": "code",
   "execution_count": null,
   "metadata": {},
   "outputs": [],
   "source": []
  }
 ],
 "metadata": {
  "kernelspec": {
   "display_name": "group_addition-BDyFuYvs-py3.10",
   "language": "python",
   "name": "python3"
  },
  "language_info": {
   "codemirror_mode": {
    "name": "ipython",
    "version": 3
   },
   "file_extension": ".py",
   "mimetype": "text/x-python",
   "name": "python",
   "nbconvert_exporter": "python",
   "pygments_lexer": "ipython3",
   "version": "3.10.12"
  }
 },
 "nbformat": 4,
 "nbformat_minor": 2
}
