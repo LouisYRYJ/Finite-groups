{
 "cells": [
  {
   "cell_type": "code",
   "execution_count": 1,
   "id": "5b59c839-e523-4858-8f16-ae40d4239ad0",
   "metadata": {},
   "outputs": [],
   "source": [
    "import sys\n",
    "import torch as t\n",
    "import numpy as np\n",
    "from matplotlib import pyplot as plt\n",
    "import json\n",
    "from itertools import product\n",
    "sys.path.append('/workspace/wilson/Finite-groups/src')\n",
    "from model import MLP3, MLP4, InstancedModule\n",
    "from utils import *\n",
    "from model_utils import *\n",
    "from group_data import *\n",
    "from jaxtyping import Float\n",
    "from typing import Union\n",
    "from einops import repeat\n",
    "from torch.utils.data import DataLoader\n",
    "from tqdm.notebook import tqdm\n",
    "import plotly.graph_objects as go\n",
    "import copy\n",
    "import math\n",
    "from itertools import product\n",
    "from llc import *\n",
    "import gc\n",
    "\n",
    "%load_ext autoreload\n",
    "%autoreload 2"
   ]
  },
  {
   "cell_type": "code",
   "execution_count": 2,
   "id": "878fa82b-3e4d-4e06-8917-01b8c059da52",
   "metadata": {},
   "outputs": [],
   "source": [
    "device = t.device(\"cuda\" if t.cuda.is_available() else \"cpu\")"
   ]
  },
  {
   "cell_type": "code",
   "execution_count": 3,
   "id": "147045db-0647-4b7c-8158-d47cd24583c2",
   "metadata": {},
   "outputs": [
    {
     "name": "stderr",
     "output_type": "stream",
     "text": [
      "  0%|          | 0/200 [00:00<?, ?it/s]/workspace/wilson/Finite-groups/src/model_utils.py:57: FutureWarning: You are using `torch.load` with `weights_only=False` (the current default value), which uses the default pickle module implicitly. It is possible to construct malicious pickle data which will execute arbitrary code during unpickling (See https://github.com/pytorch/pytorch/blob/main/SECURITY.md#untrusted-models for more details). In a future release, the default value for `weights_only` will be flipped to `True`. This limits the functions that could be executed during unpickling. Arbitrary objects will no longer be allowed to be loaded via this mode unless they are explicitly allowlisted by the user via `torch.serialization.add_safe_globals`. We recommend you start setting `weights_only=True` for any use case where you don't have full control of the loaded file. Please open an issue on GitHub for any issues related to this experimental feature.\n",
      "  model.load_state_dict(t.load(model_path, map_location=device))\n",
      "100%|██████████| 200/200 [04:18<00:00,  1.29s/it]\n"
     ]
    }
   ],
   "source": [
    "# path = '/workspace/models/2024_08_05_18_31_53_S_5__times_A_5__Z_2__'\n",
    "# path = '/workspace/models/2024-12-19_01-41-15_S5_A5x2_MLP2_128_ubias_wd2e-5'\n",
    "path = '/workspace/models/2025-01-31_00-19-35_S_5__times_A_5__Z_2__'\n",
    "models, params = load_models(path, sel=slice(0, -1, 2))"
   ]
  },
  {
   "cell_type": "code",
   "execution_count": 4,
   "id": "ccbb3b86",
   "metadata": {},
   "outputs": [
    {
     "name": "stdout",
     "output_type": "stream",
     "text": [
      "Intersection size: 7920/14400 (0.55)\n",
      "Added 7920 elements from intersection\n",
      "Added 0 elements from group 0: S(5)\n",
      "Added 0 elements from group 1: times(A(5),Z(2))\n",
      "Train set size: 7920/14400 (0.55)\n"
     ]
    }
   ],
   "source": [
    "data = GroupData(params)\n",
    "loss_dict = test_loss(models[-1].to(device), data)"
   ]
  },
  {
   "cell_type": "code",
   "execution_count": 6,
   "id": "c53d397c",
   "metadata": {},
   "outputs": [],
   "source": [
    "LLC_PARAMS = {\n",
    "    'eps': 8e-4,\n",
    "    'beta': 1e3,\n",
    "    'gamma': 1.,\n",
    "    # 'chains': 3,\n",
    "    'chains': 1,\n",
    "    'cbatch_size': 1,\n",
    "    'replacement': False,\n",
    "    'behavioral': False,\n",
    "    'epochs': 3000,\n",
    "}"
   ]
  },
  {
   "cell_type": "code",
   "execution_count": 8,
   "id": "fccabe05",
   "metadata": {},
   "outputs": [
    {
     "data": {
      "application/vnd.jupyter.widget-view+json": {
       "model_id": "f6d6a504aeee4d639c522b2a201cdf91",
       "version_major": 2,
       "version_minor": 0
      },
      "text/plain": [
       "SGLD:   0%|          | 0/3000 [00:00<?, ?it/s]"
      ]
     },
     "metadata": {},
     "output_type": "display_data"
    }
   ],
   "source": [
    "final_llc = get_llc(models[-1].to(device), data, **LLC_PARAMS)"
   ]
  },
  {
   "cell_type": "code",
   "execution_count": 11,
   "id": "89cb805f",
   "metadata": {},
   "outputs": [
    {
     "data": {
      "image/png": "[encoded data removed]",
      "text/plain": [
       "<Figure size 640x480 with 1 Axes>"
      ]
     },
     "metadata": {},
     "output_type": "display_data"
    }
   ],
   "source": [
    "plt.hist(final_llc[0].detach().cpu())\n",
    "plt.title('final LLC')\n",
    "plt.show()"
   ]
  },
  {
   "cell_type": "code",
   "execution_count": 13,
   "id": "3ff28d58",
   "metadata": {},
   "outputs": [
    {
     "name": "stdout",
     "output_type": "stream",
     "text": [
      "0 tensor(1., device='cuda:0') tensor(0.5500, device='cuda:0') 31\n",
      "1 tensor(0.5500, device='cuda:0') tensor(1., device='cuda:0') 43\n",
      "2 tensor(0.5500, device='cuda:0') tensor(0.5500, device='cuda:0') 8\n",
      "3 tensor(0.5500, device='cuda:0') tensor(0.5855, device='cuda:0') 18\n"
     ]
    }
   ],
   "source": [
    "insts = []\n",
    "insts.append(loss_dict['G0_loss'].argmin().item())\n",
    "insts.append(loss_dict['G1_loss'].argmin().item())\n",
    "insts.append(((loss_dict['G0_acc'] < 0.551) & (loss_dict['G1_acc'] < 0.551)).nonzero()[0,0].item())\n",
    "insts.append(final_llc[0].argmax().item())\n",
    "for inst in insts:\n",
    "    print(inst, loss_dict['G0_acc'][inst], loss_dict['G1_acc'][inst])"
   ]
  },
  {
   "cell_type": "code",
   "execution_count": 6,
   "id": "6508dd8c",
   "metadata": {},
   "outputs": [
    {
     "name": "stderr",
     "output_type": "stream",
     "text": [
      "/tmp/ipykernel_5604/509496268.py:2: FutureWarning: You are using `torch.load` with `weights_only=False` (the current default value), which uses the default pickle module implicitly. It is possible to construct malicious pickle data which will execute arbitrary code during unpickling (See https://github.com/pytorch/pytorch/blob/main/SECURITY.md#untrusted-models for more details). In a future release, the default value for `weights_only` will be flipped to `True`. This limits the functions that could be executed during unpickling. Arbitrary objects will no longer be allowed to be loaded via this mode unless they are explicitly allowlisted by the user via `torch.serialization.add_safe_globals`. We recommend you start setting `weights_only=True` for any use case where you don't have full control of the loaded file. Please open an issue on GitHub for any issues related to this experimental feature.\n",
      "  llcs = t.load('/workspace/wilson/Finite-groups/data/S5_A5x2_nobias_llcs.pt')\n"
     ]
    }
   ],
   "source": [
    "# llcs = t.load('/workspace/wilson/Finite-groups/data/S5_A5x2_llcs.pt')\n",
    "llcs = t.load('/workspace/wilson/Finite-groups/data/S5_A5x2_nobias_llcs.pt')\n",
    "# llcs = {k.item(): v for k, v in llcs.items()}\n",
    "insts = llcs.keys()"
   ]
  },
  {
   "cell_type": "code",
   "execution_count": 7,
   "id": "ecece441",
   "metadata": {},
   "outputs": [],
   "source": [
    "# llcs = dict()\n",
    "g0_accs = dict()\n",
    "g1_accs = dict()"
   ]
  },
  {
   "cell_type": "code",
   "execution_count": 8,
   "id": "79af0e97",
   "metadata": {},
   "outputs": [
    {
     "data": {
      "application/vnd.jupyter.widget-view+json": {
       "model_id": "0093fd9f64db4b86be0d3c97c1ffba60",
       "version_major": 2,
       "version_minor": 0
      },
      "text/plain": [
       "stacking:   0%|          | 0/200 [00:00<?, ?it/s]"
      ]
     },
     "metadata": {},
     "output_type": "display_data"
    },
    {
     "name": "stdout",
     "output_type": "stream",
     "text": [
      "skipping 32\n"
     ]
    },
    {
     "data": {
      "application/vnd.jupyter.widget-view+json": {
       "model_id": "e8212316f17e4b42a6fa9ef9c1cc3739",
       "version_major": 2,
       "version_minor": 0
      },
      "text/plain": [
       "stacking:   0%|          | 0/200 [00:00<?, ?it/s]"
      ]
     },
     "metadata": {},
     "output_type": "display_data"
    },
    {
     "name": "stdout",
     "output_type": "stream",
     "text": [
      "skipping 68\n"
     ]
    },
    {
     "data": {
      "application/vnd.jupyter.widget-view+json": {
       "model_id": "236e515ec36741b78227447cd9399ab7",
       "version_major": 2,
       "version_minor": 0
      },
      "text/plain": [
       "stacking:   0%|          | 0/200 [00:00<?, ?it/s]"
      ]
     },
     "metadata": {},
     "output_type": "display_data"
    },
    {
     "name": "stdout",
     "output_type": "stream",
     "text": [
      "skipping 39\n"
     ]
    },
    {
     "data": {
      "application/vnd.jupyter.widget-view+json": {
       "model_id": "9f7d8b94568149e3b8e785b557c825b5",
       "version_major": 2,
       "version_minor": 0
      },
      "text/plain": [
       "stacking:   0%|          | 0/200 [00:00<?, ?it/s]"
      ]
     },
     "metadata": {},
     "output_type": "display_data"
    },
    {
     "name": "stdout",
     "output_type": "stream",
     "text": [
      "skipping 73\n"
     ]
    }
   ],
   "source": [
    "for inst in insts:\n",
    "    import gc; gc.collect()\n",
    "    t.cuda.empty_cache()\n",
    "    inst_models = MLP2.stack([model[inst].to(device) for model in tqdm(models, desc='stacking')]).to(device)\n",
    "    inst_loss_dict = test_loss(inst_models, data)\n",
    "    g0_accs[inst] = inst_loss_dict['G0_acc']\n",
    "    g1_accs[inst] = inst_loss_dict['G1_acc']\n",
    "    if inst in llcs:\n",
    "        print('skipping', inst)\n",
    "        continue\n",
    "    llc , traces = get_llc(inst_models, data, **LLC_PARAMS)\n",
    "    llcs[inst] = llc"
   ]
  },
  {
   "cell_type": "code",
   "execution_count": 18,
   "id": "704684e7",
   "metadata": {},
   "outputs": [],
   "source": [
    "# t.save(llcs, '/workspace/wilson/Finite-groups/data/S5_A5x2_llcs.pt')\n",
    "t.save(llcs, '/workspace/wilson/Finite-groups/data/S5_A5x2_nobias_llcs.pt')"
   ]
  },
  {
   "cell_type": "code",
   "execution_count": 23,
   "id": "7b4f7cae",
   "metadata": {},
   "outputs": [
    {
     "data": {
      "text/plain": [
       "torch.Size([200])"
      ]
     },
     "execution_count": 23,
     "metadata": {},
     "output_type": "execute_result"
    }
   ],
   "source": [
    "loss_dict['G0_acc'].shape"
   ]
  },
  {
   "cell_type": "code",
   "execution_count": 33,
   "id": "5fc86296",
   "metadata": {},
   "outputs": [
    {
     "data": {
      "image/png": "[encoded data removed]",
      "text/plain": [
       "<Figure size 1800x400 with 8 Axes>"
      ]
     },
     "metadata": {},
     "output_type": "display_data"
    }
   ],
   "source": [
    "epochs = np.arange(0, 2000, 10)\n",
    "fig, axs = plt.subplots(1, 4, figsize=(18, 4))\n",
    "for i, inst in enumerate(llcs.keys()):\n",
    "    # fig, ax1 = plt.subplots()\n",
    "    ax1 = axs[i]\n",
    "    ax1.plot(epochs, g0_accs[inst].detach().cpu(), label='S5 acc', linewidth=3)\n",
    "    ax1.plot(epochs, g1_accs[inst].detach().cpu(), label='A5x2 acc', linewidth=3)\n",
    "    ax1.legend(loc='lower right')\n",
    "    ax1.set_ylabel('Accuracy')\n",
    "    ax1.set_xlabel('Epoch')\n",
    "    ax2 = ax1.twinx()\n",
    "    ax2.plot(epochs, llcs[inst].detach().cpu(), c='green', linewidth=3)\n",
    "    ax2.set_ylabel('LLC', color='green')\n",
    "    # ax2.tick_params(axis='y', labelcolor='green')\n",
    "    ax1.set_ylim(0, 1.05)\n",
    "    ax2.set_ylim(0, 5000)\n",
    "    ax1.set_title(f'{i+1}')\n",
    "fig.tight_layout()\n",
    "plt.show()\n",
    "    "
   ]
  },
  {
   "cell_type": "code",
   "execution_count": null,
   "id": "9d66072b",
   "metadata": {},
   "outputs": [],
   "source": []
  },
  {
   "cell_type": "code",
   "execution_count": null,
   "id": "3aba24dd",
   "metadata": {},
   "outputs": [],
   "source": []
  },
  {
   "cell_type": "code",
   "execution_count": null,
   "id": "36b17cb4",
   "metadata": {},
   "outputs": [],
   "source": []
  },
  {
   "cell_type": "code",
   "execution_count": null,
   "id": "d56f154f",
   "metadata": {},
   "outputs": [],
   "source": []
  },
  {
   "cell_type": "code",
   "execution_count": 4,
   "id": "fe8ac1ee-2acd-466e-b043-c41041e9dded",
   "metadata": {},
   "outputs": [
    {
     "name": "stdout",
     "output_type": "stream",
     "text": [
      "Intersection size: 7920/14400 (0.55)\n",
      "Added 7920 elements from intersection\n",
      "Added 0 elements from group 0: S(5)\n",
      "Added 0 elements from group 1: times(A(5),Z(2))\n",
      "Train set size: 7920/14400 (0.55)\n"
     ]
    }
   ],
   "source": [
    "dataset = GroupData(params)\n",
    "del models"
   ]
  },
  {
   "cell_type": "code",
   "execution_count": 5,
   "id": "f61486cd-9242-4d2f-abef-53e792eb0b72",
   "metadata": {},
   "outputs": [],
   "source": [
    "llc_params = {\n",
    "    'epochs': 2000,\n",
    "    'eps': 8e-4,\n",
    "    'beta': 1e3, \n",
    "    'gamma': 1., \n",
    "    'chains': 1, \n",
    "    'cbatch_size': 1, \n",
    "    'behavioral': True,\n",
    "    'burnin': 0.8,\n",
    "}"
   ]
  },
  {
   "cell_type": "code",
   "execution_count": 6,
   "id": "900d6a5b-7b6a-4a9b-a4f7-245fcbd8a364",
   "metadata": {},
   "outputs": [],
   "source": [
    "STRIDE = 10"
   ]
  },
  {
   "cell_type": "code",
   "execution_count": 7,
   "id": "179ea594-44fc-4372-ba45-a35e54241e29",
   "metadata": {},
   "outputs": [],
   "source": [
    "#!mkdir /workspace/models/2024_08_05_18_31_53_S_5__times_A_5__Z_2__/llc"
   ]
  },
  {
   "cell_type": "code",
   "execution_count": 10,
   "id": "f1e53cd5-f4ee-4a02-ad74-040c9afe47c8",
   "metadata": {},
   "outputs": [
    {
     "ename": "NameError",
     "evalue": "name 'STRIDE' is not defined",
     "output_type": "error",
     "traceback": [
      "\u001b[0;31m---------------------------------------------------------------------------\u001b[0m",
      "\u001b[0;31mNameError\u001b[0m                                 Traceback (most recent call last)",
      "Cell \u001b[0;32mIn[10], line 2\u001b[0m\n\u001b[1;32m      1\u001b[0m \u001b[38;5;66;03m#for i in range(1000 // STRIDE):\u001b[39;00m\n\u001b[0;32m----> 2\u001b[0m \u001b[38;5;28;01mfor\u001b[39;00m i \u001b[38;5;129;01min\u001b[39;00m \u001b[38;5;28mrange\u001b[39m(\u001b[38;5;241m1\u001b[39m, \u001b[38;5;241m1000\u001b[39m \u001b[38;5;241m/\u001b[39m\u001b[38;5;241m/\u001b[39m \u001b[43mSTRIDE\u001b[49m):\n\u001b[1;32m      3\u001b[0m     \u001b[38;5;28mprint\u001b[39m(i)\n\u001b[1;32m      4\u001b[0m     models, _ \u001b[38;5;241m=\u001b[39m load_models(path, sel\u001b[38;5;241m=\u001b[39m\u001b[38;5;28mslice\u001b[39m(i \u001b[38;5;241m*\u001b[39m STRIDE, (i \u001b[38;5;241m+\u001b[39m \u001b[38;5;241m1\u001b[39m) \u001b[38;5;241m*\u001b[39m STRIDE))\n",
      "\u001b[0;31mNameError\u001b[0m: name 'STRIDE' is not defined"
     ]
    }
   ],
   "source": [
    "#for i in range(1000 // STRIDE):\n",
    "for i in range(1, 1000 // STRIDE):\n",
    "    print(i)\n",
    "    models, _ = load_models(path, sel=slice(i * STRIDE, (i + 1) * STRIDE))\n",
    "    model = models[0].stack(models).to(device)\n",
    "    llc, _ = get_llc(model, dataset, **llc_params)\n",
    "    llc = einops.rearrange(llc, '(epoch instance) -> epoch instance', epoch=STRIDE)\n",
    "    for j in range(STRIDE):\n",
    "        epoch = STRIDE * i + j\n",
    "        filename = f'{path}/llc/{epoch*3:06d}.pt'  # ckpts were saved every 3 epochs\n",
    "        #print(filename)\n",
    "        t.save(llc[j], filename)\n",
    "    gc.collect()\n",
    "    t.cuda.empty_cache()"
   ]
  },
  {
   "cell_type": "code",
   "execution_count": null,
   "id": "ea2e0b42-fd2f-4891-876d-c8a41dd04984",
   "metadata": {},
   "outputs": [],
   "source": []
  },
  {
   "cell_type": "code",
   "execution_count": null,
   "id": "1860c42a-1964-4472-aa54-d650d0dcf5f5",
   "metadata": {},
   "outputs": [],
   "source": []
  },
  {
   "cell_type": "code",
   "execution_count": null,
   "id": "baa3299b-be70-43fa-93a3-da4c7ed99b95",
   "metadata": {},
   "outputs": [],
   "source": [
    "t.load('/workspace/models/2024_08_05_18_31_53_S_5__times_A_5__Z_2__/llc/000027.pt').shape"
   ]
  },
  {
   "cell_type": "code",
   "execution_count": null,
   "id": "1a366278-9b57-49f8-8ad3-3f499063cc91",
   "metadata": {},
   "outputs": [],
   "source": []
  }
 ],
 "metadata": {
  "kernelspec": {
   "display_name": "group_addition-jQUm9okg-py3.11",
   "language": "python",
   "name": "python3"
  },
  "language_info": {
   "codemirror_mode": {
    "name": "ipython",
    "version": 3
   },
   "file_extension": ".py",
   "mimetype": "text/x-python",
   "name": "python",
   "nbconvert_exporter": "python",
   "pygments_lexer": "ipython3",
   "version": "3.11.10"
  }
 },
 "nbformat": 4,
 "nbformat_minor": 5
}
