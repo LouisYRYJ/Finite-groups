{
 "cells": [
  {
   "cell_type": "code",
   "execution_count": 1,
   "id": "4356a3ad-cdb5-4c46-af57-558760cf5793",
   "metadata": {},
   "outputs": [],
   "source": [
    "import sys\n",
    "import torch as t\n",
    "import numpy as np\n",
    "from matplotlib import pyplot as plt\n",
    "import json\n",
    "from itertools import product\n",
    "sys.path.append('/workspace/wilson/Finite-groups/src')\n",
    "from model import MLP3, MLP4, InstancedModule\n",
    "from evals import load_models\n",
    "from utils import *\n",
    "from group_data import *\n",
    "from jaxtyping import Float\n",
    "from typing import Union\n",
    "from einops import repeat\n",
    "from torch.utils.data import DataLoader\n",
    "from tqdm.notebook import tqdm\n",
    "import plotly.graph_objects as go\n",
    "import copy\n",
    "import math\n",
    "from itertools import product\n",
    "from llc import *\n",
    "import gc\n",
    "\n",
    "%load_ext autoreload\n",
    "%autoreload 2"
   ]
  },
  {
   "cell_type": "code",
   "execution_count": 2,
   "id": "8c49990b-f6c8-4bdf-95de-62e81a2d6297",
   "metadata": {},
   "outputs": [],
   "source": [
    "device = t.device(\"cuda\" if t.cuda.is_available() else \"cpu\")"
   ]
  },
  {
   "cell_type": "code",
   "execution_count": 6,
   "id": "c871a264-ca88-43de-8ff3-fae09330314d",
   "metadata": {},
   "outputs": [
    {
     "name": "stderr",
     "output_type": "stream",
     "text": [
      "100%|██████████| 1/1 [00:00<00:00,  3.42it/s]\n"
     ]
    }
   ],
   "source": [
    "path = '/workspace/models/2024_08_05_18_31_53_S_5__times_A_5__Z_2__'\n",
    "models, params = load_models(path, final=True)"
   ]
  },
  {
   "cell_type": "code",
   "execution_count": 4,
   "id": "05db6d06-3e4e-4b65-8f4a-929191ac4f5c",
   "metadata": {},
   "outputs": [
    {
     "name": "stdout",
     "output_type": "stream",
     "text": [
      "Intersection size: 7920/14400 (0.55)\n",
      "Added 7920 elements from intersection\n",
      "Added 0 elements from group 0: S(5)\n",
      "Added 0 elements from group 1: times(A(5),Z(2))\n",
      "Train set size: 7920/14400 (0.55)\n"
     ]
    }
   ],
   "source": [
    "dataset = GroupData(params)"
   ]
  },
  {
   "cell_type": "code",
   "execution_count": 10,
   "id": "d4cb8f56-c30c-4697-b679-7e375f23a7db",
   "metadata": {},
   "outputs": [
    {
     "data": {
      "application/vnd.jupyter.widget-view+json": {
       "model_id": "e4ef983a6b5e48a69aa516bd3e353e33",
       "version_major": 2,
       "version_minor": 0
      },
      "text/plain": [
       "  0%|          | 0/100 [00:00<?, ?it/s]"
      ]
     },
     "metadata": {},
     "output_type": "display_data"
    },
    {
     "name": "stdout",
     "output_type": "stream",
     "text": [
      "5 G0\n",
      "8 G1\n",
      "44 G1\n",
      "55 G0\n",
      "66 G1\n",
      "90 G0\n",
      "92 G1\n",
      "93 G0\n",
      "97 G1\n",
      "99 G1\n"
     ]
    }
   ],
   "source": [
    "for i in tqdm(range(100)):\n",
    "    model = models[0][i].to(device)\n",
    "    loss_dict = test_loss(model, dataset)\n",
    "    if loss_dict['G0_acc'] == 1.0:\n",
    "        print(i, 'G0')\n",
    "    elif loss_dict['G1_acc'] == 1.0:\n",
    "        print(i, 'G1')\n",
    "    elif Group.from_model(model, elements=dataset.groups[0].elements).is_group():\n",
    "        print(i, 'NEW GROUP')\n"
   ]
  },
  {
   "cell_type": "code",
   "execution_count": 14,
   "id": "d70ee099-78eb-4aae-a912-6484fb28b091",
   "metadata": {},
   "outputs": [
    {
     "data": {
      "text/plain": [
       "False"
      ]
     },
     "execution_count": 14,
     "metadata": {},
     "output_type": "execute_result"
    }
   ],
   "source": [
    "g.is_group()"
   ]
  },
  {
   "cell_type": "code",
   "execution_count": 16,
   "id": "f929aa50-b179-4728-8649-e0f8a964ed41",
   "metadata": {},
   "outputs": [
    {
     "data": {
      "text/plain": [
       "<group_data.GroupData at 0x7eb3b83c41f0>"
      ]
     },
     "execution_count": 16,
     "metadata": {},
     "output_type": "execute_result"
    }
   ],
   "source": [
    "dataset"
   ]
  },
  {
   "cell_type": "code",
   "execution_count": null,
   "id": "1b646002-0c7a-4fa8-b3ec-7986ade4fdd0",
   "metadata": {},
   "outputs": [],
   "source": []
  }
 ],
 "metadata": {
  "kernelspec": {
   "display_name": "Python 3 (ipykernel)",
   "language": "python",
   "name": "python3"
  },
  "language_info": {
   "codemirror_mode": {
    "name": "ipython",
    "version": 3
   },
   "file_extension": ".py",
   "mimetype": "text/x-python",
   "name": "python",
   "nbconvert_exporter": "python",
   "pygments_lexer": "ipython3",
   "version": "3.10.12"
  }
 },
 "nbformat": 4,
 "nbformat_minor": 5
}
