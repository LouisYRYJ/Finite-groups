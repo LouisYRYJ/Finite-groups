{
 "cells": [
  {
   "cell_type": "markdown",
   "id": "5398ebd2-48ab-423a-b560-92e9d2374a0b",
   "metadata": {},
   "source": [
    "### Setup"
   ]
  },
  {
   "cell_type": "code",
   "execution_count": 1,
   "id": "a71abab3",
   "metadata": {},
   "outputs": [],
   "source": [
    "import os, sys\n",
    "HOME = os.environ['HOME']  # change if necessary\n",
    "sys.path.append(f'{HOME}/Finite-groups/src')"
   ]
  },
  {
   "cell_type": "code",
   "execution_count": 2,
   "id": "c489f9fb",
   "metadata": {},
   "outputs": [
    {
     "name": "stderr",
     "output_type": "stream",
     "text": [
      "Syntax warning: Unbound global variable in /usr/share/gap/pkg/browse/PackageIn\\\n",
      "fo.g:73\n",
      "  if not IsKernelExtensionAvailable(\"Browse\", \"ncurses\") then\n",
      "         ^^^^^^^^^^^^^^^^^^^^^^^^^^\n",
      "Syntax warning: Unbound global variable in /usr/share/gap/pkg/edim/PackageInfo\\\n",
      ".g:60\n",
      "  if not IsKernelExtensionAvailable(\"EDIM\",\"ediv\") then\n",
      "         ^^^^^^^^^^^^^^^^^^^^^^^^^^\n"
     ]
    }
   ],
   "source": [
    "import torch as t\n",
    "import numpy as np\n",
    "from matplotlib import pyplot as plt\n",
    "import json\n",
    "from itertools import product\n",
    "from jaxtyping import Float\n",
    "from torch.utils.data import DataLoader\n",
    "from tqdm.notebook import tqdm\n",
    "import plotly.graph_objects as go\n",
    "import copy\n",
    "import math\n",
    "from itertools import product\n",
    "import pandas as pd\n",
    "from typing import Union\n",
    "from einops import repeat\n",
    "from huggingface_hub import snapshot_download\n",
    "from huggingface_hub.utils import disable_progress_bars\n",
    "\n",
    "\n",
    "from model import MLP3, MLP4, InstancedModule\n",
    "from utils import *\n",
    "from group_data import *\n",
    "from model_utils import *\n",
    "from group_utils import *\n",
    "from irrep_bounds import *\n",
    "from bound_utils import *\n",
    "%load_ext autoreload\n",
    "%autoreload 2"
   ]
  },
  {
   "cell_type": "code",
   "execution_count": 3,
   "id": "f6e6671b",
   "metadata": {},
   "outputs": [
    {
     "name": "stdout",
     "output_type": "stream",
     "text": [
      "Intersection size: 14400/14400 (1.00)\n",
      "Added 14400 elements from intersection\n",
      "Added 0 elements from group 0: gapS(5)\n",
      "Taking random subset: 5760/14400 (0.40)\n",
      "Train set size: 5760/14400 (0.40)\n"
     ]
    },
    {
     "name": "stderr",
     "output_type": "stream",
     "text": [
      "/home/wilson/Finite-groups/src/model_utils.py:50: FutureWarning: You are using `torch.load` with `weights_only=False` (the current default value), which uses the default pickle module implicitly. It is possible to construct malicious pickle data which will execute arbitrary code during unpickling (See https://github.com/pytorch/pytorch/blob/main/SECURITY.md#untrusted-models for more details). In a future release, the default value for `weights_only` will be flipped to `True`. This limits the functions that could be executed during unpickling. Arbitrary objects will no longer be allowed to be loaded via this mode unless they are explicitly allowlisted by the user via `torch.serialization.add_safe_globals`. We recommend you start setting `weights_only=True` for any use case where you don't have full control of the loaded file. Please open an issue on GitHub for any issues related to this experimental feature.\n",
      "  model.load_state_dict(t.load(model_path, map_location=device))\n"
     ]
    }
   ],
   "source": [
    "\n",
    "device = t.device(\"cuda\" if t.cuda.is_available() else \"cpu\")\n",
    "# MODEL_DIR = '2024-08-16_22-53-29_SL2_5_MLP3_256'\n",
    "# MODEL_DIR = '2024-08-14_21-24-30_gapS_5_'\n",
    "MODEL_DIR = '2024-09-18_23-59-00_gapS5_MLP2_128_wd2e-4_ubias'\n",
    "# MODEL_DIR = '2024-09-19_02-28-43_gapS5_MLP2_128_wd1e-4_ubias'\n",
    "# MODEL_DIR = '2024-09-18_05-50-44_gapS5_MLP2_128_wd1e-5_ubias'\n",
    "# MODEL_DIR = '2024-09-16_05-00-33_gapS5_MLP2_128_adamw_wd1'\n",
    "# MODEL_DIR = '2024-09-13_03-46-47_gapS5_256_wd1e-3'\n",
    "# MODEL_DIR = '2024-09-13_21-56-07_gapS5_MLP2_256_adamw_wd1'\n",
    "# MODEL_DIR = '2024-08-27_16-32-46_Dic30_MLP3_128'\n",
    "# MODEL_DIR = '2024-08-27_23-16-05_F11_MLP3_256'\n",
    "# MODEL_DIR = '2024-09-02_18-17-20_smallgrp_54_8_MLP3_256_0_6'\n",
    "# MODEL_DIR = '2024-09-05_15-22-58_smallgrp_54_8_MLP3_1024_0_6'\n",
    "# MODEL_DIR = '2024-09-05_20-47-44_smallgrp_54_8_MLP3_1024_0_6_wd1e-6'\n",
    "# MODEL_DIR = '2024-09-02_18-51-29_smallgrp_96_71_MLP3_256_0_6'\n",
    "# MODEL_DIR = '2024-09-03_17-28-20_smallgrp_192_1025_MLP3_512_0_6'\n",
    "# MODEL_DIR = '2024-09-03_21-09-07_Z_59_128'\n",
    "disable_progress_bars()\n",
    "local_dir = f'{HOME}/models/{MODEL_DIR}'\n",
    "if not os.path.exists(local_dir):\n",
    "    snapshot_download(repo_id=f'wiwu2390/{MODEL_DIR}', local_dir=local_dir)\n",
    "models, params = load_models(local_dir)\n",
    "models = models[-1]  # get last checkpoint\n",
    "data = GroupData(params)\n",
    "group = data.groups[0]"
   ]
  },
  {
   "cell_type": "code",
   "execution_count": 4,
   "id": "4f00c92a",
   "metadata": {},
   "outputs": [
    {
     "name": "stderr",
     "output_type": "stream",
     "text": [
      "  1%|          | 1/100 [00:07<11:46,  7.14s/it]"
     ]
    },
    {
     "name": "stdout",
     "output_type": "stream",
     "text": [
      "brute 1.0 2.7910900115966797\n",
      "quad 1.0 0.7999892234802246\n"
     ]
    },
    {
     "name": "stderr",
     "output_type": "stream",
     "text": [
      "  2%|▏         | 2/100 [00:13<11:11,  6.85s/it]"
     ]
    },
    {
     "name": "stdout",
     "output_type": "stream",
     "text": [
      "brute 1.0 2.3213558197021484\n",
      "quad 0.7599999904632568 0.802532434463501\n"
     ]
    },
    {
     "name": "stderr",
     "output_type": "stream",
     "text": [
      "  3%|▎         | 3/100 [00:19<10:18,  6.38s/it]"
     ]
    },
    {
     "name": "stdout",
     "output_type": "stream",
     "text": [
      "brute 1.0 2.302795886993408\n",
      "quad 1.0 0.8064696788787842\n"
     ]
    },
    {
     "name": "stderr",
     "output_type": "stream",
     "text": [
      "  4%|▍         | 4/100 [00:25<09:51,  6.16s/it]"
     ]
    },
    {
     "name": "stdout",
     "output_type": "stream",
     "text": [
      "brute 1.0 2.3178515434265137\n",
      "quad 1.0 0.7944741249084473\n"
     ]
    },
    {
     "name": "stderr",
     "output_type": "stream",
     "text": [
      "  5%|▌         | 5/100 [00:35<11:50,  7.48s/it]"
     ]
    },
    {
     "name": "stdout",
     "output_type": "stream",
     "text": [
      "brute 1.0 2.4159657955169678\n",
      "quad 0.0 1.0961105823516846\n"
     ]
    },
    {
     "name": "stderr",
     "output_type": "stream",
     "text": [
      "  6%|▌         | 6/100 [00:49<15:08,  9.67s/it]"
     ]
    },
    {
     "name": "stdout",
     "output_type": "stream",
     "text": [
      "Not permutation on b!!!\n",
      "brute 1.0 2.3945844173431396\n",
      "quad 0.0 1.0395326614379883\n"
     ]
    },
    {
     "name": "stderr",
     "output_type": "stream",
     "text": [
      "  7%|▋         | 7/100 [00:55<13:15,  8.55s/it]"
     ]
    },
    {
     "name": "stdout",
     "output_type": "stream",
     "text": [
      "brute 1.0 2.389535427093506\n",
      "quad 1.0 0.8461086750030518\n"
     ]
    },
    {
     "name": "stderr",
     "output_type": "stream",
     "text": [
      "  8%|▊         | 8/100 [01:01<11:56,  7.78s/it]"
     ]
    },
    {
     "name": "stdout",
     "output_type": "stream",
     "text": [
      "brute 1.0 2.312690019607544\n",
      "quad 1.0 0.8156266212463379\n"
     ]
    },
    {
     "name": "stderr",
     "output_type": "stream",
     "text": [
      "  9%|▉         | 9/100 [01:07<11:04,  7.31s/it]"
     ]
    },
    {
     "name": "stdout",
     "output_type": "stream",
     "text": [
      "brute 1.0 2.3220772743225098\n",
      "quad 1.0 1.0025599002838135\n"
     ]
    },
    {
     "name": "stderr",
     "output_type": "stream",
     "text": [
      " 10%|█         | 10/100 [01:15<11:10,  7.45s/it]"
     ]
    },
    {
     "name": "stdout",
     "output_type": "stream",
     "text": [
      "brute 1.0 2.313790798187256\n",
      "quad 0.7500694394111633 1.0351932048797607\n"
     ]
    },
    {
     "name": "stderr",
     "output_type": "stream",
     "text": [
      " 11%|█         | 11/100 [01:21<10:31,  7.09s/it]"
     ]
    },
    {
     "name": "stdout",
     "output_type": "stream",
     "text": [
      "brute 1.0 2.321913719177246\n",
      "quad 1.0 0.8428597450256348\n"
     ]
    },
    {
     "name": "stderr",
     "output_type": "stream",
     "text": [
      " 12%|█▏        | 12/100 [01:28<10:00,  6.82s/it]"
     ]
    },
    {
     "name": "stdout",
     "output_type": "stream",
     "text": [
      "brute 1.0 2.32651424407959\n",
      "quad 0.0 0.7966470718383789\n"
     ]
    },
    {
     "name": "stderr",
     "output_type": "stream",
     "text": [
      " 13%|█▎        | 13/100 [01:34<09:33,  6.59s/it]"
     ]
    },
    {
     "name": "stdout",
     "output_type": "stream",
     "text": [
      "brute 1.0 2.349046468734741\n",
      "quad 1.0 0.820030927658081\n"
     ]
    },
    {
     "name": "stderr",
     "output_type": "stream",
     "text": [
      " 14%|█▍        | 14/100 [01:43<10:47,  7.53s/it]"
     ]
    },
    {
     "name": "stdout",
     "output_type": "stream",
     "text": [
      "Not permutation on b!!!\n",
      "brute 1.0 2.3147060871124268\n",
      "quad 0.0 0.801177978515625\n"
     ]
    },
    {
     "name": "stderr",
     "output_type": "stream",
     "text": [
      " 15%|█▌        | 15/100 [01:49<09:57,  7.03s/it]"
     ]
    },
    {
     "name": "stdout",
     "output_type": "stream",
     "text": [
      "brute 1.0 2.360316276550293\n",
      "quad 0.0 0.8150315284729004\n"
     ]
    },
    {
     "name": "stderr",
     "output_type": "stream",
     "text": [
      " 16%|█▌        | 16/100 [01:58<10:24,  7.43s/it]"
     ]
    },
    {
     "name": "stdout",
     "output_type": "stream",
     "text": [
      "brute 1.0 2.3471319675445557\n",
      "quad 0.0 0.8494107723236084\n"
     ]
    },
    {
     "name": "stderr",
     "output_type": "stream",
     "text": [
      " 17%|█▋        | 17/100 [02:04<09:54,  7.16s/it]"
     ]
    },
    {
     "name": "stdout",
     "output_type": "stream",
     "text": [
      "brute 1.0 2.760653495788574\n",
      "quad 1.0 0.8383519649505615\n"
     ]
    },
    {
     "name": "stderr",
     "output_type": "stream",
     "text": [
      " 18%|█▊        | 18/100 [02:12<09:59,  7.31s/it]"
     ]
    },
    {
     "name": "stdout",
     "output_type": "stream",
     "text": [
      "brute 1.0 2.35025954246521\n",
      "quad 0.7664583325386047 0.8206636905670166\n"
     ]
    },
    {
     "name": "stderr",
     "output_type": "stream",
     "text": [
      " 19%|█▉        | 19/100 [02:18<09:24,  6.97s/it]"
     ]
    },
    {
     "name": "stdout",
     "output_type": "stream",
     "text": [
      "brute 1.0 2.336956739425659\n",
      "quad 1.0 0.8166177272796631\n"
     ]
    },
    {
     "name": "stderr",
     "output_type": "stream",
     "text": [
      " 20%|██        | 20/100 [02:28<10:28,  7.86s/it]"
     ]
    },
    {
     "name": "stdout",
     "output_type": "stream",
     "text": [
      "brute 1.0 2.352696418762207\n",
      "quad 0.0 0.837470531463623\n"
     ]
    },
    {
     "name": "stderr",
     "output_type": "stream",
     "text": [
      " 21%|██        | 21/100 [02:34<09:45,  7.41s/it]"
     ]
    },
    {
     "name": "stdout",
     "output_type": "stream",
     "text": [
      "brute 1.0 2.4656403064727783\n",
      "quad 1.0 0.8451035022735596\n"
     ]
    },
    {
     "name": "stderr",
     "output_type": "stream",
     "text": [
      " 22%|██▏       | 22/100 [02:43<10:13,  7.86s/it]"
     ]
    },
    {
     "name": "stdout",
     "output_type": "stream",
     "text": [
      "brute 1.0 2.3909966945648193\n",
      "quad 0.0 0.9766790866851807\n"
     ]
    },
    {
     "name": "stderr",
     "output_type": "stream",
     "text": [
      " 23%|██▎       | 23/100 [02:51<10:13,  7.97s/it]"
     ]
    },
    {
     "name": "stdout",
     "output_type": "stream",
     "text": [
      "brute 1.0 2.2894387245178223\n",
      "quad 0.0050694444216787815 0.8314037322998047\n"
     ]
    },
    {
     "name": "stderr",
     "output_type": "stream",
     "text": [
      " 24%|██▍       | 24/100 [03:03<11:18,  8.92s/it]"
     ]
    },
    {
     "name": "stdout",
     "output_type": "stream",
     "text": [
      "Not permutation on b!!!\n",
      "brute 0.9998611111111111 2.324512481689453\n",
      "quad 0.0 1.0544636249542236\n"
     ]
    },
    {
     "name": "stderr",
     "output_type": "stream",
     "text": [
      " 25%|██▌       | 25/100 [03:09<10:07,  8.10s/it]"
     ]
    },
    {
     "name": "stdout",
     "output_type": "stream",
     "text": [
      "brute 1.0 2.2557501792907715\n",
      "quad 1.0 0.8531062602996826\n"
     ]
    },
    {
     "name": "stderr",
     "output_type": "stream",
     "text": [
      " 26%|██▌       | 26/100 [03:17<10:07,  8.21s/it]"
     ]
    },
    {
     "name": "stdout",
     "output_type": "stream",
     "text": [
      "brute 1.0 2.31919264793396\n",
      "quad 0.0 0.8230228424072266\n"
     ]
    },
    {
     "name": "stderr",
     "output_type": "stream",
     "text": [
      " 27%|██▋       | 27/100 [03:23<09:03,  7.44s/it]"
     ]
    },
    {
     "name": "stdout",
     "output_type": "stream",
     "text": [
      "brute 1.0 2.277153491973877\n",
      "quad 1.0 0.7910182476043701\n"
     ]
    },
    {
     "name": "stderr",
     "output_type": "stream",
     "text": [
      " 28%|██▊       | 28/100 [03:33<09:50,  8.20s/it]"
     ]
    },
    {
     "name": "stdout",
     "output_type": "stream",
     "text": [
      "brute 0.9995833333333334 2.3139071464538574\n",
      "quad 0.0 1.0587644577026367\n"
     ]
    },
    {
     "name": "stderr",
     "output_type": "stream",
     "text": [
      " 29%|██▉       | 29/100 [03:45<11:16,  9.53s/it]"
     ]
    },
    {
     "name": "stdout",
     "output_type": "stream",
     "text": [
      "Not permutation on b!!!\n",
      "brute 1.0 2.301622152328491\n",
      "quad 0.0 1.0869641304016113\n"
     ]
    },
    {
     "name": "stderr",
     "output_type": "stream",
     "text": [
      " 30%|███       | 30/100 [03:54<10:46,  9.23s/it]"
     ]
    },
    {
     "name": "stdout",
     "output_type": "stream",
     "text": [
      "Not permutation on b!!!\n",
      "brute 1.0 2.2845914363861084\n",
      "quad 0.0 1.0269901752471924\n"
     ]
    },
    {
     "name": "stderr",
     "output_type": "stream",
     "text": [
      " 31%|███       | 31/100 [04:00<09:32,  8.30s/it]"
     ]
    },
    {
     "name": "stdout",
     "output_type": "stream",
     "text": [
      "brute 1.0 2.3398377895355225\n",
      "quad 1.0 0.7935645580291748\n"
     ]
    },
    {
     "name": "stderr",
     "output_type": "stream",
     "text": [
      " 32%|███▏      | 32/100 [04:10<09:53,  8.73s/it]"
     ]
    },
    {
     "name": "stdout",
     "output_type": "stream",
     "text": [
      "brute 1.0 2.2647030353546143\n",
      "quad 0.0 0.8454711437225342\n"
     ]
    },
    {
     "name": "stderr",
     "output_type": "stream",
     "text": [
      " 33%|███▎      | 33/100 [04:16<08:43,  7.82s/it]"
     ]
    },
    {
     "name": "stdout",
     "output_type": "stream",
     "text": [
      "brute 1.0 2.2943944931030273\n",
      "quad 1.0 0.8079779148101807\n"
     ]
    },
    {
     "name": "stderr",
     "output_type": "stream",
     "text": [
      " 34%|███▍      | 34/100 [04:25<09:04,  8.24s/it]"
     ]
    },
    {
     "name": "stdout",
     "output_type": "stream",
     "text": [
      "brute 1.0 2.2708184719085693\n",
      "quad 0.0 1.1089975833892822\n"
     ]
    },
    {
     "name": "stderr",
     "output_type": "stream",
     "text": [
      " 35%|███▌      | 35/100 [04:31<08:14,  7.61s/it]"
     ]
    },
    {
     "name": "stdout",
     "output_type": "stream",
     "text": [
      "brute 1.0 2.285414218902588\n",
      "quad 1.0 0.8243844509124756\n"
     ]
    },
    {
     "name": "stderr",
     "output_type": "stream",
     "text": [
      " 36%|███▌      | 36/100 [04:41<08:49,  8.28s/it]"
     ]
    },
    {
     "name": "stdout",
     "output_type": "stream",
     "text": [
      "brute 1.0 2.3700921535491943\n",
      "quad 0.0 0.8863720893859863\n"
     ]
    },
    {
     "name": "stderr",
     "output_type": "stream",
     "text": [
      " 37%|███▋      | 37/100 [04:47<08:07,  7.73s/it]"
     ]
    },
    {
     "name": "stdout",
     "output_type": "stream",
     "text": [
      "brute 1.0 2.305262565612793\n",
      "quad 0.4050694406032562 0.8010127544403076\n"
     ]
    },
    {
     "name": "stderr",
     "output_type": "stream",
     "text": [
      " 38%|███▊      | 38/100 [04:53<07:21,  7.13s/it]"
     ]
    },
    {
     "name": "stdout",
     "output_type": "stream",
     "text": [
      "brute 1.0 2.2923941612243652\n",
      "quad 1.0 0.7865440845489502\n"
     ]
    },
    {
     "name": "stderr",
     "output_type": "stream",
     "text": [
      " 39%|███▉      | 39/100 [05:07<09:15,  9.11s/it]"
     ]
    },
    {
     "name": "stdout",
     "output_type": "stream",
     "text": [
      "Not permutation on b!!!\n",
      "brute 1.0 2.2778468132019043\n",
      "quad 0.0 1.084096908569336\n"
     ]
    },
    {
     "name": "stderr",
     "output_type": "stream",
     "text": [
      " 40%|████      | 40/100 [05:12<08:05,  8.09s/it]"
     ]
    },
    {
     "name": "stdout",
     "output_type": "stream",
     "text": [
      "brute 1.0 2.2981083393096924\n",
      "quad 1.0 0.86173415184021\n"
     ]
    },
    {
     "name": "stderr",
     "output_type": "stream",
     "text": [
      " 41%|████      | 41/100 [05:18<07:14,  7.36s/it]"
     ]
    },
    {
     "name": "stdout",
     "output_type": "stream",
     "text": [
      "brute 1.0 2.2814252376556396\n",
      "quad 1.0 0.7894437313079834\n"
     ]
    },
    {
     "name": "stderr",
     "output_type": "stream",
     "text": [
      " 42%|████▏     | 42/100 [05:24<06:39,  6.88s/it]"
     ]
    },
    {
     "name": "stdout",
     "output_type": "stream",
     "text": [
      "brute 1.0 2.3070859909057617\n",
      "quad 1.0 0.7955915927886963\n"
     ]
    },
    {
     "name": "stderr",
     "output_type": "stream",
     "text": [
      " 43%|████▎     | 43/100 [05:30<06:24,  6.74s/it]"
     ]
    },
    {
     "name": "stdout",
     "output_type": "stream",
     "text": [
      "brute 1.0 2.3802859783172607\n",
      "quad 1.0 0.8112587928771973\n"
     ]
    },
    {
     "name": "stderr",
     "output_type": "stream",
     "text": [
      " 44%|████▍     | 44/100 [05:36<06:08,  6.58s/it]"
     ]
    },
    {
     "name": "stdout",
     "output_type": "stream",
     "text": [
      "brute 1.0 2.325326681137085\n",
      "quad 1.0 0.8632760047912598\n"
     ]
    },
    {
     "name": "stderr",
     "output_type": "stream",
     "text": [
      " 45%|████▌     | 45/100 [05:44<06:11,  6.75s/it]"
     ]
    },
    {
     "name": "stdout",
     "output_type": "stream",
     "text": [
      "brute 1.0 2.3312838077545166\n",
      "quad 0.0 0.8359375\n"
     ]
    },
    {
     "name": "stderr",
     "output_type": "stream",
     "text": [
      " 46%|████▌     | 46/100 [05:51<06:18,  7.00s/it]"
     ]
    },
    {
     "name": "stdout",
     "output_type": "stream",
     "text": [
      "brute 1.0 2.320052146911621\n",
      "quad 0.0 0.7925455570220947\n"
     ]
    },
    {
     "name": "stderr",
     "output_type": "stream",
     "text": [
      " 47%|████▋     | 47/100 [05:57<05:51,  6.63s/it]"
     ]
    },
    {
     "name": "stdout",
     "output_type": "stream",
     "text": [
      "brute 1.0 2.271616220474243\n",
      "quad 1.0 0.8918063640594482\n"
     ]
    },
    {
     "name": "stderr",
     "output_type": "stream",
     "text": [
      " 48%|████▊     | 48/100 [06:04<05:59,  6.91s/it]"
     ]
    },
    {
     "name": "stdout",
     "output_type": "stream",
     "text": [
      "brute 1.0 2.3797786235809326\n",
      "quad 0.0 0.8098044395446777\n"
     ]
    },
    {
     "name": "stderr",
     "output_type": "stream",
     "text": [
      " 49%|████▉     | 49/100 [06:11<05:41,  6.71s/it]"
     ]
    },
    {
     "name": "stdout",
     "output_type": "stream",
     "text": [
      "brute 1.0 2.3654515743255615\n",
      "quad 1.0 0.8809058666229248\n"
     ]
    },
    {
     "name": "stderr",
     "output_type": "stream",
     "text": [
      " 50%|█████     | 50/100 [06:22<06:45,  8.10s/it]"
     ]
    },
    {
     "name": "stdout",
     "output_type": "stream",
     "text": [
      "Not permutation on b!!!\n",
      "brute 1.0 2.445077896118164\n",
      "quad 0.0 1.0998122692108154\n"
     ]
    },
    {
     "name": "stderr",
     "output_type": "stream",
     "text": [
      " 51%|█████     | 51/100 [06:33<07:22,  9.02s/it]"
     ]
    },
    {
     "name": "stdout",
     "output_type": "stream",
     "text": [
      "brute 1.0 2.3172645568847656\n",
      "quad 0.0 1.0745153427124023\n"
     ]
    },
    {
     "name": "stderr",
     "output_type": "stream",
     "text": [
      " 52%|█████▏    | 52/100 [06:39<06:29,  8.11s/it]"
     ]
    },
    {
     "name": "stdout",
     "output_type": "stream",
     "text": [
      "brute 1.0 2.3201117515563965\n",
      "quad 1.0 0.9216310977935791\n"
     ]
    },
    {
     "name": "stderr",
     "output_type": "stream",
     "text": [
      " 53%|█████▎    | 53/100 [06:47<06:10,  7.88s/it]"
     ]
    },
    {
     "name": "stdout",
     "output_type": "stream",
     "text": [
      "brute 1.0 2.334836483001709\n",
      "quad 0.0 0.829662561416626\n"
     ]
    },
    {
     "name": "stderr",
     "output_type": "stream",
     "text": [
      " 54%|█████▍    | 54/100 [06:53<05:37,  7.33s/it]"
     ]
    },
    {
     "name": "stdout",
     "output_type": "stream",
     "text": [
      "brute 1.0 2.3130686283111572\n",
      "quad 1.0 0.7995648384094238\n"
     ]
    },
    {
     "name": "stderr",
     "output_type": "stream",
     "text": [
      " 55%|█████▌    | 55/100 [07:07<07:07,  9.50s/it]"
     ]
    },
    {
     "name": "stdout",
     "output_type": "stream",
     "text": [
      "Not permutation on b!!!\n",
      "brute 1.0 2.3362526893615723\n",
      "quad 0.0 1.3128702640533447\n"
     ]
    },
    {
     "name": "stderr",
     "output_type": "stream",
     "text": [
      " 56%|█████▌    | 56/100 [07:21<07:55, 10.80s/it]"
     ]
    },
    {
     "name": "stdout",
     "output_type": "stream",
     "text": [
      "brute 1.0 2.3450589179992676\n",
      "quad 0.0 1.0610771179199219\n"
     ]
    },
    {
     "name": "stderr",
     "output_type": "stream",
     "text": [
      " 57%|█████▋    | 57/100 [07:32<07:47, 10.87s/it]"
     ]
    },
    {
     "name": "stdout",
     "output_type": "stream",
     "text": [
      "Not permutation on b!!!\n",
      "brute 0.9975 2.397858142852783\n",
      "quad 0.0 1.0687239170074463\n"
     ]
    },
    {
     "name": "stderr",
     "output_type": "stream",
     "text": [
      " 58%|█████▊    | 58/100 [07:40<06:58,  9.96s/it]"
     ]
    },
    {
     "name": "stdout",
     "output_type": "stream",
     "text": [
      "brute 1.0 2.274367094039917\n",
      "quad 0.7599999904632568 0.8225057125091553\n"
     ]
    },
    {
     "name": "stderr",
     "output_type": "stream",
     "text": [
      " 59%|█████▉    | 59/100 [07:45<05:54,  8.64s/it]"
     ]
    },
    {
     "name": "stdout",
     "output_type": "stream",
     "text": [
      "brute 1.0 2.300992250442505\n",
      "quad 1.0 0.805152177810669\n"
     ]
    },
    {
     "name": "stderr",
     "output_type": "stream",
     "text": [
      " 60%|██████    | 60/100 [07:51<05:13,  7.83s/it]"
     ]
    },
    {
     "name": "stdout",
     "output_type": "stream",
     "text": [
      "brute 1.0 2.273555040359497\n",
      "quad 1.0 0.9839611053466797\n"
     ]
    },
    {
     "name": "stderr",
     "output_type": "stream",
     "text": [
      " 61%|██████    | 61/100 [07:57<04:39,  7.16s/it]"
     ]
    },
    {
     "name": "stdout",
     "output_type": "stream",
     "text": [
      "brute 1.0 2.292166233062744\n",
      "quad 1.0 0.786635160446167\n"
     ]
    },
    {
     "name": "stderr",
     "output_type": "stream",
     "text": [
      " 62%|██████▏   | 62/100 [08:03<04:19,  6.84s/it]"
     ]
    },
    {
     "name": "stdout",
     "output_type": "stream",
     "text": [
      "brute 1.0 2.2961981296539307\n",
      "quad 1.0 0.8114364147186279\n"
     ]
    },
    {
     "name": "stderr",
     "output_type": "stream",
     "text": [
      " 63%|██████▎   | 63/100 [08:12<04:31,  7.34s/it]"
     ]
    },
    {
     "name": "stdout",
     "output_type": "stream",
     "text": [
      "brute 1.0 2.310702085494995\n",
      "quad 0.0 0.7914326190948486\n"
     ]
    },
    {
     "name": "stderr",
     "output_type": "stream",
     "text": [
      " 64%|██████▍   | 64/100 [08:21<04:49,  8.04s/it]"
     ]
    },
    {
     "name": "stdout",
     "output_type": "stream",
     "text": [
      "brute 1.0 2.3399791717529297\n",
      "quad 0.0 0.7898027896881104\n"
     ]
    },
    {
     "name": "stderr",
     "output_type": "stream",
     "text": [
      " 65%|██████▌   | 65/100 [08:32<05:07,  8.78s/it]"
     ]
    },
    {
     "name": "stdout",
     "output_type": "stream",
     "text": [
      "Not permutation on b!!!\n",
      "brute 1.0 2.284442186355591\n",
      "quad 0.0 1.025519609451294\n"
     ]
    },
    {
     "name": "stderr",
     "output_type": "stream",
     "text": [
      " 66%|██████▌   | 66/100 [08:42<05:17,  9.33s/it]"
     ]
    },
    {
     "name": "stdout",
     "output_type": "stream",
     "text": [
      "Not permutation on b!!!\n",
      "brute 1.0 2.293687343597412\n",
      "quad 0.0 1.0177662372589111\n"
     ]
    },
    {
     "name": "stderr",
     "output_type": "stream",
     "text": [
      " 67%|██████▋   | 67/100 [08:48<04:32,  8.25s/it]"
     ]
    },
    {
     "name": "stdout",
     "output_type": "stream",
     "text": [
      "brute 1.0 2.31207537651062\n",
      "quad 1.0 0.7901678085327148\n"
     ]
    },
    {
     "name": "stderr",
     "output_type": "stream",
     "text": [
      " 68%|██████▊   | 68/100 [08:54<03:59,  7.50s/it]"
     ]
    },
    {
     "name": "stdout",
     "output_type": "stream",
     "text": [
      "brute 1.0 2.3145346641540527\n",
      "quad 0.9973611235618591 0.7872354984283447\n"
     ]
    },
    {
     "name": "stderr",
     "output_type": "stream",
     "text": [
      " 69%|██████▉   | 69/100 [09:00<03:42,  7.18s/it]"
     ]
    },
    {
     "name": "stdout",
     "output_type": "stream",
     "text": [
      "brute 1.0 2.323138475418091\n",
      "quad 0.7599999904632568 0.8014047145843506\n"
     ]
    },
    {
     "name": "stderr",
     "output_type": "stream",
     "text": [
      " 70%|███████   | 70/100 [09:10<03:54,  7.81s/it]"
     ]
    },
    {
     "name": "stdout",
     "output_type": "stream",
     "text": [
      "Not permutation on b!!!\n",
      "brute 1.0 2.329040288925171\n",
      "quad 0.0 0.7905192375183105\n"
     ]
    },
    {
     "name": "stderr",
     "output_type": "stream",
     "text": [
      " 71%|███████   | 71/100 [09:16<03:30,  7.27s/it]"
     ]
    },
    {
     "name": "stdout",
     "output_type": "stream",
     "text": [
      "brute 1.0 2.253025770187378\n",
      "quad 1.0 0.8196730613708496\n"
     ]
    },
    {
     "name": "stderr",
     "output_type": "stream",
     "text": [
      " 72%|███████▏  | 72/100 [09:25<03:40,  7.88s/it]"
     ]
    },
    {
     "name": "stdout",
     "output_type": "stream",
     "text": [
      "brute 1.0 2.2482998371124268\n",
      "quad 0.0 1.21171236038208\n"
     ]
    },
    {
     "name": "stderr",
     "output_type": "stream",
     "text": [
      " 73%|███████▎  | 73/100 [09:33<03:38,  8.11s/it]"
     ]
    },
    {
     "name": "stdout",
     "output_type": "stream",
     "text": [
      "brute 1.0 2.326066017150879\n",
      "quad 0.0 1.034200668334961\n"
     ]
    },
    {
     "name": "stderr",
     "output_type": "stream",
     "text": [
      " 74%|███████▍  | 74/100 [09:43<03:40,  8.46s/it]"
     ]
    },
    {
     "name": "stdout",
     "output_type": "stream",
     "text": [
      "brute 1.0 2.2846429347991943\n",
      "quad 0.0 0.8255670070648193\n"
     ]
    },
    {
     "name": "stderr",
     "output_type": "stream",
     "text": [
      " 75%|███████▌  | 75/100 [09:48<03:10,  7.62s/it]"
     ]
    },
    {
     "name": "stdout",
     "output_type": "stream",
     "text": [
      "brute 1.0 2.288001298904419\n",
      "quad 1.0 0.7834110260009766\n"
     ]
    },
    {
     "name": "stderr",
     "output_type": "stream",
     "text": [
      " 76%|███████▌  | 76/100 [09:59<03:26,  8.62s/it]"
     ]
    },
    {
     "name": "stdout",
     "output_type": "stream",
     "text": [
      "brute 1.0 2.273439645767212\n",
      "quad 0.0 1.0498764514923096\n"
     ]
    },
    {
     "name": "stderr",
     "output_type": "stream",
     "text": [
      " 77%|███████▋  | 77/100 [10:06<03:07,  8.14s/it]"
     ]
    },
    {
     "name": "stdout",
     "output_type": "stream",
     "text": [
      "brute 1.0 2.2708985805511475\n",
      "quad 0.0 0.7907764911651611\n"
     ]
    },
    {
     "name": "stderr",
     "output_type": "stream",
     "text": [
      " 78%|███████▊  | 78/100 [10:17<03:15,  8.90s/it]"
     ]
    },
    {
     "name": "stdout",
     "output_type": "stream",
     "text": [
      "brute 0.9995833333333334 2.3400557041168213\n",
      "quad 0.0 1.0452516078948975\n"
     ]
    },
    {
     "name": "stderr",
     "output_type": "stream",
     "text": [
      " 79%|███████▉  | 79/100 [10:23<02:47,  7.96s/it]"
     ]
    },
    {
     "name": "stdout",
     "output_type": "stream",
     "text": [
      "brute 1.0 2.291508436203003\n",
      "quad 1.0 0.7918727397918701\n"
     ]
    },
    {
     "name": "stderr",
     "output_type": "stream",
     "text": [
      " 80%|████████  | 80/100 [10:35<03:02,  9.12s/it]"
     ]
    },
    {
     "name": "stdout",
     "output_type": "stream",
     "text": [
      "brute 1.0 2.304863214492798\n",
      "quad 0.0 1.1274378299713135\n"
     ]
    },
    {
     "name": "stderr",
     "output_type": "stream",
     "text": [
      " 81%|████████  | 81/100 [10:47<03:14, 10.23s/it]"
     ]
    },
    {
     "name": "stdout",
     "output_type": "stream",
     "text": [
      "Not permutation on b!!!\n",
      "brute 0.9997916666666666 2.291536569595337\n",
      "quad 0.0 1.0498101711273193\n"
     ]
    },
    {
     "name": "stderr",
     "output_type": "stream",
     "text": [
      " 82%|████████▏ | 82/100 [10:55<02:49,  9.41s/it]"
     ]
    },
    {
     "name": "stdout",
     "output_type": "stream",
     "text": [
      "brute 1.0 2.27868914604187\n",
      "quad 0.9527083039283752 0.7940413951873779\n"
     ]
    },
    {
     "name": "stderr",
     "output_type": "stream",
     "text": [
      " 83%|████████▎ | 83/100 [11:01<02:22,  8.39s/it]"
     ]
    },
    {
     "name": "stdout",
     "output_type": "stream",
     "text": [
      "brute 1.0 2.39719295501709\n",
      "quad 1.0 0.8858752250671387\n"
     ]
    },
    {
     "name": "stderr",
     "output_type": "stream",
     "text": [
      " 84%|████████▍ | 84/100 [11:07<02:04,  7.79s/it]"
     ]
    },
    {
     "name": "stdout",
     "output_type": "stream",
     "text": [
      "brute 1.0 2.3249406814575195\n",
      "quad 1.0 0.842332124710083\n"
     ]
    },
    {
     "name": "stderr",
     "output_type": "stream",
     "text": [
      " 85%|████████▌ | 85/100 [11:14<01:50,  7.37s/it]"
     ]
    },
    {
     "name": "stdout",
     "output_type": "stream",
     "text": [
      "brute 1.0 2.403362989425659\n",
      "quad 1.0 0.8137032985687256\n"
     ]
    },
    {
     "name": "stderr",
     "output_type": "stream",
     "text": [
      " 86%|████████▌ | 86/100 [11:20<01:36,  6.89s/it]"
     ]
    },
    {
     "name": "stdout",
     "output_type": "stream",
     "text": [
      "brute 1.0 2.2991926670074463\n",
      "quad 1.0 0.7918088436126709\n"
     ]
    },
    {
     "name": "stderr",
     "output_type": "stream",
     "text": [
      " 87%|████████▋ | 87/100 [11:26<01:27,  6.71s/it]"
     ]
    },
    {
     "name": "stdout",
     "output_type": "stream",
     "text": [
      "brute 1.0 2.3616766929626465\n",
      "quad 1.0 0.7901430130004883\n"
     ]
    },
    {
     "name": "stderr",
     "output_type": "stream",
     "text": [
      " 88%|████████▊ | 88/100 [11:32<01:17,  6.42s/it]"
     ]
    },
    {
     "name": "stdout",
     "output_type": "stream",
     "text": [
      "brute 1.0 2.344477415084839\n",
      "quad 1.0 0.7935812473297119\n"
     ]
    },
    {
     "name": "stderr",
     "output_type": "stream",
     "text": [
      " 89%|████████▉ | 89/100 [11:37<01:08,  6.22s/it]"
     ]
    },
    {
     "name": "stdout",
     "output_type": "stream",
     "text": [
      "brute 1.0 2.27424693107605\n",
      "quad 1.0 0.7886707782745361\n"
     ]
    },
    {
     "name": "stderr",
     "output_type": "stream",
     "text": [
      " 90%|█████████ | 90/100 [11:50<01:21,  8.15s/it]"
     ]
    },
    {
     "name": "stdout",
     "output_type": "stream",
     "text": [
      "Not permutation on b!!!\n",
      "brute 1.0 2.3065500259399414\n",
      "quad 0.0 1.0379762649536133\n"
     ]
    },
    {
     "name": "stderr",
     "output_type": "stream",
     "text": [
      " 91%|█████████ | 91/100 [11:56<01:07,  7.45s/it]"
     ]
    },
    {
     "name": "stdout",
     "output_type": "stream",
     "text": [
      "brute 1.0 2.325533866882324\n",
      "quad 1.0 0.7959434986114502\n"
     ]
    },
    {
     "name": "stderr",
     "output_type": "stream",
     "text": [
      " 92%|█████████▏| 92/100 [12:03<00:59,  7.41s/it]"
     ]
    },
    {
     "name": "stdout",
     "output_type": "stream",
     "text": [
      "brute 1.0 2.3536670207977295\n",
      "quad 0.0 0.7967240810394287\n"
     ]
    },
    {
     "name": "stderr",
     "output_type": "stream",
     "text": [
      " 93%|█████████▎| 93/100 [12:13<00:57,  8.24s/it]"
     ]
    },
    {
     "name": "stdout",
     "output_type": "stream",
     "text": [
      "brute 0.9999305555555555 2.29113507270813\n",
      "quad 0.0 1.0366528034210205\n"
     ]
    },
    {
     "name": "stderr",
     "output_type": "stream",
     "text": [
      " 94%|█████████▍| 94/100 [12:19<00:45,  7.61s/it]"
     ]
    },
    {
     "name": "stdout",
     "output_type": "stream",
     "text": [
      "brute 1.0 2.309635639190674\n",
      "quad 1.0 0.904688835144043\n"
     ]
    },
    {
     "name": "stderr",
     "output_type": "stream",
     "text": [
      " 95%|█████████▌| 95/100 [12:30<00:41,  8.40s/it]"
     ]
    },
    {
     "name": "stdout",
     "output_type": "stream",
     "text": [
      "Not permutation on b!!!\n",
      "brute 1.0 2.2923240661621094\n",
      "quad 0.0 0.8122427463531494\n"
     ]
    },
    {
     "name": "stderr",
     "output_type": "stream",
     "text": [
      " 96%|█████████▌| 96/100 [12:39<00:34,  8.61s/it]"
     ]
    },
    {
     "name": "stdout",
     "output_type": "stream",
     "text": [
      "brute 1.0 2.2744040489196777\n",
      "quad 0.0 0.8075845241546631\n"
     ]
    },
    {
     "name": "stderr",
     "output_type": "stream",
     "text": [
      " 97%|█████████▋| 97/100 [12:45<00:23,  7.77s/it]"
     ]
    },
    {
     "name": "stdout",
     "output_type": "stream",
     "text": [
      "brute 1.0 2.3449482917785645\n",
      "quad 1.0 0.8217353820800781\n"
     ]
    },
    {
     "name": "stderr",
     "output_type": "stream",
     "text": [
      " 98%|█████████▊| 98/100 [12:52<00:15,  7.67s/it]"
     ]
    },
    {
     "name": "stdout",
     "output_type": "stream",
     "text": [
      "brute 1.0 2.3684072494506836\n",
      "quad 0.0 1.0283472537994385\n"
     ]
    },
    {
     "name": "stderr",
     "output_type": "stream",
     "text": [
      " 99%|█████████▉| 99/100 [13:00<00:07,  7.75s/it]"
     ]
    },
    {
     "name": "stdout",
     "output_type": "stream",
     "text": [
      "brute 1.0 2.3342642784118652\n",
      "quad 0.0 0.7922065258026123\n"
     ]
    },
    {
     "name": "stderr",
     "output_type": "stream",
     "text": [
      "100%|██████████| 100/100 [13:06<00:00,  7.86s/it]"
     ]
    },
    {
     "name": "stdout",
     "output_type": "stream",
     "text": [
      "brute 1.0 2.3467371463775635\n",
      "quad 1.0 0.7842004299163818\n"
     ]
    },
    {
     "name": "stderr",
     "output_type": "stream",
     "text": [
      "\n"
     ]
    }
   ],
   "source": [
    "lin_irrep_times = []\n",
    "lin_irrep_accs = []\n",
    "quad_irrep_times = []\n",
    "quad_irrep_accs = []\n",
    "naive_times = []\n",
    "naive_accs = []\n",
    "for instance in tqdm(range(len(models))):\n",
    "    model = models[instance]\n",
    "    naive_acc, naive_time = naive_acc_bound(model, group)\n",
    "    naive_times.append(naive_time)\n",
    "    naive_accs.append(naive_acc)\n",
    "    \n",
    "    irreps, irrep_idx_dict = get_neuron_irreps(model, group, norm_thresh=1)\n",
    "    vecs = get_neuron_vecs(model, group, irreps, irrep_idx_dict, strict=False)\n",
    "    # irrep_acc_lin, irrep_time_lin = irrep_acc_bound(model, group, irreps, irrep_idx_dict, vecs, linear=True)\n",
    "    irrep_acc_quad, irrep_time_quad = irrep_acc_bound(model, group, irreps, irrep_idx_dict, vecs, linear=False)\n",
    "    # lin_irrep_accs.append(irrep_acc_lin)\n",
    "    # lin_irrep_times.append(irrep_time_lin)\n",
    "    quad_irrep_accs.append(irrep_acc_quad)\n",
    "    quad_irrep_times.append(irrep_time_quad)\n",
    "    print('brute', naive_acc, naive_time)\n",
    "    # print('lin', irrep_acc_lin, irrep_time_lin)\n",
    "    print('quad', irrep_acc_quad, irrep_time_quad)"
   ]
  },
  {
   "cell_type": "code",
   "execution_count": 5,
   "id": "fd4b40d4",
   "metadata": {},
   "outputs": [
    {
     "data": {
      "image/png": "[encoded data removed]",
      "text/plain": [
       "<Figure size 800x400 with 1 Axes>"
      ]
     },
     "metadata": {},
     "output_type": "display_data"
    }
   ],
   "source": [
    "plt.figure(figsize=(8, 4))\n",
    "plt.scatter(naive_times, naive_accs, label='brute force', alpha=0.1, color='red', s=20)\n",
    "# plt.scatter(lin_irrep_times, lin_irrep_accs, label='linear', alpha=0.3, color='green', s=20)\n",
    "plt.scatter(quad_irrep_times, quad_irrep_accs, label='quadratic', alpha=0.1, color='blue', s=20)\n",
    "plt.errorbar([np.mean(naive_times)], [np.mean(naive_accs)], xerr=np.std(naive_times), yerr=np.std(naive_accs), label='brute force mean/std', color='red', marker='o', capsize=3)#, s=40)\n",
    "# plt.errorbar([np.mean(lin_irrep_times)], [np.mean(lin_irrep_accs)], xerr=np.std(lin_irrep_times), yerr=np.std(lin_irrep_accs), label='linear mean/std', color='green', marker='o')#, s=40)\n",
    "plt.errorbar([np.mean(quad_irrep_times)], [np.mean(quad_irrep_accs)], xerr=np.std(quad_irrep_times), yerr=np.std(quad_irrep_accs), label='quadratic mean/std', color='blue', marker='o', capsize=3)#, s=40)\n",
    "plt.xlabel('time (s)')\n",
    "plt.ylabel('accuracy bound')\n",
    "plt.title('Accuracy bounds vs. time (S5, 100 model instances)')\n",
    "plt.legend()\n",
    "plt.savefig('../figs/acc_bound.png')\n",
    "plt.show()"
   ]
  },
  {
   "cell_type": "code",
   "execution_count": 13,
   "id": "63003c66",
   "metadata": {},
   "outputs": [
    {
     "data": {
      "text/plain": [
       "np.float64(0.85)"
      ]
     },
     "execution_count": 13,
     "metadata": {},
     "output_type": "execute_result"
    }
   ],
   "source": [
    "np.mean(irrep_accs)"
   ]
  },
  {
   "cell_type": "code",
   "execution_count": 6,
   "id": "1289d433",
   "metadata": {},
   "outputs": [],
   "source": [
    "t.save((naive_times, naive_accs, quad_irrep_times, quad_irrep_accs), '../data/acc_bound.pt')"
   ]
  },
  {
   "cell_type": "code",
   "execution_count": null,
   "id": "8f72f86b",
   "metadata": {},
   "outputs": [],
   "source": []
  },
  {
   "cell_type": "code",
   "execution_count": null,
   "id": "0b566eef",
   "metadata": {},
   "outputs": [],
   "source": []
  },
  {
   "cell_type": "code",
   "execution_count": null,
   "id": "f79cbdd3",
   "metadata": {},
   "outputs": [],
   "source": []
  },
  {
   "cell_type": "code",
   "execution_count": null,
   "id": "3b90124f",
   "metadata": {},
   "outputs": [],
   "source": []
  },
  {
   "cell_type": "code",
   "execution_count": 4,
   "id": "570f814e",
   "metadata": {},
   "outputs": [],
   "source": [
    "loss_dict = test_loss(models.to(device), data)"
   ]
  },
  {
   "cell_type": "code",
   "execution_count": 5,
   "id": "2741d7b0",
   "metadata": {},
   "outputs": [
    {
     "name": "stdout",
     "output_type": "stream",
     "text": [
      "tensor(0.0306) tensor(1.) 12\n"
     ]
    }
   ],
   "source": [
    "\n",
    "# instance = loss_dict['G0_acc'].argmax().item()\n",
    "instance = loss_dict['G0_loss'].argmin().item()\n",
    "# instance = (loss_dict['G0_acc'] > 0.999).nonzero()[11]\n",
    "# instance = 2\n",
    "print(loss_dict[f'G0_loss'][instance], loss_dict[f'G0_acc'][instance], instance)\n",
    "model = models[instance].to(device)"
   ]
  },
  {
   "cell_type": "code",
   "execution_count": 6,
   "id": "cdb4b1cf",
   "metadata": {},
   "outputs": [],
   "source": [
    "norm12 = lambda A: A.norm(dim=0).max()  # max 2-norm along group dimension\n",
    "# note: norm2inf in the correct one to use for both embed and unembed. bc of how the transposes work\n",
    "norm2inf = lambda A: A.norm(dim=1).max()  # max 2-norm along neuron dimension\n",
    "norm22 = lambda A: t.linalg.matrix_norm(A, ord=2)\n",
    "\n",
    "ln, rn, un = model.get_neurons(True)"
   ]
  },
  {
   "cell_type": "code",
   "execution_count": 7,
   "id": "148d1f75",
   "metadata": {},
   "outputs": [],
   "source": [
    "irreps, irrep_idx_dict = get_neuron_irreps(model, group, norm_thresh=1)"
   ]
  },
  {
   "cell_type": "code",
   "execution_count": 8,
   "id": "1919afd1",
   "metadata": {},
   "outputs": [],
   "source": [
    "sign = irreps['1d-0'].squeeze(-1)\n",
    "sign = sign / sign.norm()\n",
    "proj = t.eye(120) - sign @ sign.T"
   ]
  },
  {
   "cell_type": "code",
   "execution_count": 9,
   "id": "36f7cc82",
   "metadata": {},
   "outputs": [
    {
     "name": "stdout",
     "output_type": "stream",
     "text": [
      "1d-0\n",
      "1-r2 90th percentile 0.0\n",
      "a variance: 0.0\n",
      "b variance: 1.0\n",
      "c variance: 1.0\n",
      "d variance: 0.0\n",
      "a vs d tensor(0.)\n",
      "2 0.0\n",
      "2 0.0\n",
      "b has 2 clusters with total loss 0.0\n",
      "c has 2 clusters with total loss 0.0\n",
      "b_parts [[0, 1]]\n",
      "c_parts [[0, 1]]\n",
      "a_mean tensor([1.])\n",
      "b_mean tensor([[-1.],\n",
      "        [ 1.]])\n",
      "c_mean tensor([[-1.],\n",
      "        [ 1.]])\n",
      "dict_keys(['1d-0'])\n",
      "\n",
      "4d-0\n",
      "5d-0\n",
      "6d-0\n",
      "5d-1\n",
      "4d-1\n",
      "1-r2 90th percentile 0.0003428685595281422\n",
      "a variance: 1.0489316792927639e-07\n",
      "b variance: 0.9999996423721313\n",
      "c variance: 0.9999998211860657\n",
      "d variance: 8.395662121074565e-08\n",
      "a vs d tensor(4.6905e-07)\n",
      "2 2250.027587890625\n",
      "3 1500.0555419921875\n",
      "4 750.083984375\n",
      "2 2250.039794921875\n",
      "3 1500.080322265625\n",
      "4 750.1212768554688\n",
      "b has 5 clusters with total loss 0.11231589317321777\n",
      "c has 5 clusters with total loss 0.16189686954021454\n",
      "b_parts [[0, 1, 2, 3, 4]]\n",
      "c_parts [[0, 1, 2, 3, 4]]\n",
      "a_mean tensor([ 0.3751,  0.3751, -0.2517, -0.8095])\n",
      "b_mean tensor([[ 0.1688, -0.0747, -0.9253,  0.3312],\n",
      "        [-0.7629, -0.5941,  0.0941, -0.2371],\n",
      "        [-0.3312,  0.9253,  0.0747, -0.1688],\n",
      "        [ 0.6882, -0.1625,  0.1625, -0.6882],\n",
      "        [ 0.2371, -0.0941,  0.5941,  0.7629]])\n",
      "c_mean tensor([[-0.1688,  0.0747,  0.9253, -0.3312],\n",
      "        [ 0.3312, -0.9253, -0.0747,  0.1688],\n",
      "        [-0.6882,  0.1625, -0.1625,  0.6882],\n",
      "        [ 0.7628,  0.5941, -0.0941,  0.2371],\n",
      "        [-0.2371,  0.0941, -0.5941, -0.7628]])\n",
      "dict_keys(['1d-0', '4d-1'])\n",
      "\n",
      "1d-1\n"
     ]
    }
   ],
   "source": [
    "vecs = get_neuron_vecs(model, group, irreps, irrep_idx_dict, strict=False)"
   ]
  },
  {
   "cell_type": "code",
   "execution_count": 10,
   "id": "a07f25fb",
   "metadata": {},
   "outputs": [],
   "source": [
    "coef, A_norm, a_mean, b_mean, c_mean, b_labels, c_labels, b_parts, c_parts, bias_coef = vecs['4d-1']"
   ]
  },
  {
   "cell_type": "code",
   "execution_count": 11,
   "id": "c892e9db",
   "metadata": {},
   "outputs": [
    {
     "name": "stdout",
     "output_type": "stream",
     "text": [
      "1d-0\n",
      "l diff tensor(1.8304e-05)\n",
      "r diff tensor(1.3973e-05)\n",
      "u diff tensor(0.0017)\n",
      "4d-1\n",
      "l diff tensor(2.6048e-05)\n",
      "r diff tensor(2.6962e-05)\n",
      "u diff tensor(0.0022)\n",
      "total\n",
      "l 1-r2 tensor(3.9443e-05)\n",
      "r 1-r2 tensor(3.9808e-05)\n",
      "u 1-r2 tensor(0.0022)\n",
      "bias 1-r2 tensor(0.0165)\n"
     ]
    }
   ],
   "source": [
    "ideal = get_idealized_model(model, irreps, irrep_idx_dict, vecs)"
   ]
  },
  {
   "cell_type": "code",
   "execution_count": 12,
   "id": "c790cd4f",
   "metadata": {},
   "outputs": [],
   "source": [
    "ln, rn, un = model.get_neurons(True)\n",
    "ubias = model.unembed_bias.detach().T\n",
    "ln_ideal, rn_ideal, un_ideal = ideal.get_neurons(True)\n",
    "ubias_ideal = ideal.unembed_bias.detach().T"
   ]
  },
  {
   "cell_type": "code",
   "execution_count": 13,
   "id": "649b6aa4",
   "metadata": {},
   "outputs": [
    {
     "data": {
      "text/plain": [
       "({'G0_loss': tensor([0.0273]), 'G0_acc': tensor([1.])},\n",
       " {'G0_loss': tensor([0.0306]), 'G0_acc': tensor([1.])})"
      ]
     },
     "execution_count": 13,
     "metadata": {},
     "output_type": "execute_result"
    }
   ],
   "source": [
    "test_loss(ideal, data), test_loss(model, data)"
   ]
  },
  {
   "cell_type": "code",
   "execution_count": 14,
   "id": "6a6d8f66",
   "metadata": {},
   "outputs": [
    {
     "name": "stdout",
     "output_type": "stream",
     "text": [
      "l diff tensor(0.1433)\n",
      "r diff tensor(0.1450)\n",
      "u diff tensor(0.4076)\n",
      "l norm tensor(17.6622)\n",
      "r norm tensor(17.6451)\n",
      "u norm tensor(9.5807)\n",
      "u diff term tensor(14.3321)\n",
      "e diff term tensor(2.7619)\n",
      "bias diff term tensor(1.2439)\n"
     ]
    },
    {
     "data": {
      "text/plain": [
       "tensor(18.3379)"
      ]
     },
     "execution_count": 14,
     "metadata": {},
     "output_type": "execute_result"
    }
   ],
   "source": [
    "model_dist(model, ideal, 2)"
   ]
  },
  {
   "cell_type": "code",
   "execution_count": 15,
   "id": "e64a98c4",
   "metadata": {},
   "outputs": [
    {
     "name": "stdout",
     "output_type": "stream",
     "text": [
      "l diff tensor(0.1433)\n",
      "r diff tensor(0.1450)\n",
      "u diff tensor(0.2368)\n",
      "l norm tensor(17.6622)\n",
      "r norm tensor(17.6451)\n",
      "u norm tensor(2.7431)\n",
      "u diff term tensor(8.3253)\n",
      "e diff term tensor(0.7908)\n",
      "bias diff term tensor(0.4192)\n"
     ]
    },
    {
     "data": {
      "text/plain": [
       "tensor(9.5353)"
      ]
     },
     "execution_count": 15,
     "metadata": {},
     "output_type": "execute_result"
    }
   ],
   "source": [
    "model_dist(model, ideal, 'inf')"
   ]
  },
  {
   "cell_type": "code",
   "execution_count": 16,
   "id": "879a64a0",
   "metadata": {},
   "outputs": [
    {
     "data": {
      "image/png": "[encoded data removed]",
      "text/plain": [
       "<Figure size 640x480 with 1 Axes>"
      ]
     },
     "metadata": {},
     "output_type": "display_data"
    }
   ],
   "source": [
    "plt.hist(model_dist_xy(model, ideal, 'inf'))\n",
    "plt.show()"
   ]
  },
  {
   "cell_type": "code",
   "execution_count": 17,
   "id": "b237dab2",
   "metadata": {},
   "outputs": [
    {
     "data": {
      "text/plain": [
       "(array([1.900e+01, 1.310e+02, 7.480e+02, 2.426e+03, 4.256e+03, 5.373e+03,\n",
       "        1.057e+03, 3.280e+02, 5.900e+01, 3.000e+00]),\n",
       " array([5.8213625 , 5.82136459, 5.82136669, 5.82136879, 5.82137089,\n",
       "        5.82137299, 5.82137508, 5.82137718, 5.82137928, 5.82138138,\n",
       "        5.82138348]),\n",
       " <BarContainer object of 10 artists>)"
      ]
     },
     "execution_count": 17,
     "metadata": {},
     "output_type": "execute_result"
    },
    {
     "data": {
      "image/png": "[encoded data removed]",
      "text/plain": [
       "<Figure size 640x480 with 1 Axes>"
      ]
     },
     "metadata": {},
     "output_type": "display_data"
    }
   ],
   "source": [
    "margins = []\n",
    "for i, j in product(range(len(group)), repeat=2):\n",
    "    out = ideal(t.tensor([[i, j]])).flatten()\n",
    "    top2 = out.topk(k=2).values\n",
    "    margins.append((top2[0] - top2[1]).item())\n",
    "plt.hist(margins)"
   ]
  },
  {
   "cell_type": "code",
   "execution_count": 18,
   "id": "29c5e3b2",
   "metadata": {},
   "outputs": [
    {
     "data": {
      "text/plain": [
       "np.float64(2.4441744885394855e-06)"
      ]
     },
     "execution_count": 18,
     "metadata": {},
     "output_type": "execute_result"
    }
   ],
   "source": [
    "np.std(margins)"
   ]
  },
  {
   "cell_type": "code",
   "execution_count": 19,
   "id": "398a0f70",
   "metadata": {},
   "outputs": [
    {
     "data": {
      "image/png": "[encoded data removed]",
      "text/plain": [
       "<Figure size 640x480 with 1 Axes>"
      ]
     },
     "metadata": {},
     "output_type": "display_data"
    }
   ],
   "source": [
    "plt.hist(model_dist_xy(model, ideal, 2))\n",
    "plt.show()"
   ]
  },
  {
   "cell_type": "code",
   "execution_count": 10,
   "id": "ce7e78a1",
   "metadata": {},
   "outputs": [
    {
     "data": {
      "text/plain": [
       "(1.0, 2.4458649158477783)"
      ]
     },
     "execution_count": 10,
     "metadata": {},
     "output_type": "execute_result"
    }
   ],
   "source": [
    "naive_acc_bound(model, group)"
   ]
  },
  {
   "cell_type": "code",
   "execution_count": 28,
   "id": "c3e31605",
   "metadata": {},
   "outputs": [
    {
     "name": "stdout",
     "output_type": "stream",
     "text": [
      "[0, 1, 2, 3, 4] coef_sum tensor([6.8483, 6.8587, 6.7948, 6.8290, 6.8086, 6.8145, 6.8135, 6.8671, 6.7878,\n",
      "        6.8544, 6.8364, 6.8867, 6.7939, 6.8766, 6.8363, 6.8558, 6.8340, 6.8829,\n",
      "        6.8353, 6.8270, 6.8286, 6.7917, 6.8262, 6.8689, 6.8261])\n",
      "[0, 1, 2, 3, 4] coef_mean tensor(6.8353)\n",
      "1d-0\n",
      "l diff tensor(1.8304e-05)\n",
      "r diff tensor(1.3973e-05)\n",
      "u diff tensor(0.0017)\n",
      "4d-1\n",
      "l diff tensor(2.6048e-05)\n",
      "r diff tensor(2.6962e-05)\n",
      "u diff tensor(0.0022)\n",
      "total\n",
      "l 1-r2 tensor(3.9443e-05)\n",
      "r 1-r2 tensor(3.9808e-05)\n",
      "u 1-r2 tensor(0.0022)\n",
      "bias 1-r2 tensor(0.0165)\n"
     ]
    },
    {
     "data": {
      "text/plain": [
       "(1.0, 0.9154651165008545)"
      ]
     },
     "execution_count": 28,
     "metadata": {},
     "output_type": "execute_result"
    }
   ],
   "source": [
    "irrep_acc_bound(model, group, irreps, irrep_idx_dict, vecs)"
   ]
  },
  {
   "cell_type": "code",
   "execution_count": null,
   "id": "e0e03869",
   "metadata": {},
   "outputs": [],
   "source": []
  },
  {
   "cell_type": "code",
   "execution_count": 19,
   "id": "24585a35",
   "metadata": {},
   "outputs": [
    {
     "data": {
      "image/png": "[encoded data removed]",
      "text/plain": [
       "<Figure size 640x480 with 2 Axes>"
      ]
     },
     "metadata": {},
     "output_type": "display_data"
    }
   ],
   "source": [
    "plt.imshow(un - un_ideal)\n",
    "plt.colorbar()\n",
    "plt.show()"
   ]
  },
  {
   "cell_type": "code",
   "execution_count": 51,
   "id": "dbc127ed",
   "metadata": {},
   "outputs": [
    {
     "data": {
      "text/plain": [
       "tensor([  5,   7,  15,  21,  24,  29,  32,  33,  34,  43,  58,  61,  70,  79,\n",
       "         85,  93,  94,  96,  98,  99, 104, 111, 114, 116, 119, 120, 124])"
      ]
     },
     "execution_count": 51,
     "metadata": {},
     "output_type": "execute_result"
    }
   ],
   "source": [
    "((un - un_ideal).norm(dim=0) > 0.2).nonzero().flatten()"
   ]
  },
  {
   "cell_type": "code",
   "execution_count": 44,
   "id": "9cc60605",
   "metadata": {},
   "outputs": [],
   "source": [
    "ures_big = (un - un_ideal)[:, ((un - un_ideal).norm(dim=0) > 0.2).nonzero().flatten()]"
   ]
  },
  {
   "cell_type": "code",
   "execution_count": 47,
   "id": "eb5f0aa9",
   "metadata": {},
   "outputs": [
    {
     "data": {
      "text/plain": [
       "tensor([0.4051, 0.3782, 0.3594, 0.3562, 0.3440, 0.3319, 0.3236, 0.2999, 0.2909,\n",
       "        0.2836, 0.2738, 0.2672, 0.2515, 0.2417, 0.2181, 0.2094, 0.2019, 0.1956,\n",
       "        0.1833, 0.1678, 0.1517, 0.1373, 0.1306, 0.1269, 0.1207, 0.1134, 0.0913])"
      ]
     },
     "execution_count": 47,
     "metadata": {},
     "output_type": "execute_result"
    }
   ],
   "source": [
    "t.svd(ures_big)[1]"
   ]
  },
  {
   "cell_type": "code",
   "execution_count": 42,
   "id": "539d28f3",
   "metadata": {},
   "outputs": [
    {
     "data": {
      "text/plain": [
       "True"
      ]
     },
     "execution_count": 42,
     "metadata": {},
     "output_type": "execute_result"
    }
   ],
   "source": [
    "7 in irrep_idx_dict['4d-1']"
   ]
  },
  {
   "cell_type": "code",
   "execution_count": 23,
   "id": "8e2fbace",
   "metadata": {},
   "outputs": [],
   "source": [
    "ubias = model.unembed_bias.detach().T"
   ]
  },
  {
   "cell_type": "code",
   "execution_count": 24,
   "id": "39cd1a6b",
   "metadata": {},
   "outputs": [
    {
     "data": {
      "text/plain": [
       "tensor(0.0165)"
      ]
     },
     "execution_count": 24,
     "metadata": {},
     "output_type": "execute_result"
    }
   ],
   "source": [
    "(proj @ ubias).norm()**2 / ubias.norm()**2"
   ]
  },
  {
   "cell_type": "code",
   "execution_count": 25,
   "id": "a0a6ec4e",
   "metadata": {},
   "outputs": [
    {
     "data": {
      "text/plain": [
       "tensor(0.4138)"
      ]
     },
     "execution_count": 25,
     "metadata": {},
     "output_type": "execute_result"
    }
   ],
   "source": [
    "(proj @ ubias).max()"
   ]
  },
  {
   "cell_type": "code",
   "execution_count": 61,
   "id": "fe581cb0",
   "metadata": {},
   "outputs": [
    {
     "data": {
      "text/plain": [
       "tensor(3.6078)"
      ]
     },
     "execution_count": 61,
     "metadata": {},
     "output_type": "execute_result"
    }
   ],
   "source": [
    "ubias.norm()"
   ]
  },
  {
   "cell_type": "code",
   "execution_count": 26,
   "id": "16323c14",
   "metadata": {},
   "outputs": [
    {
     "data": {
      "text/plain": [
       "tensor(0.9972)"
      ]
     },
     "execution_count": 26,
     "metadata": {},
     "output_type": "execute_result"
    }
   ],
   "source": [
    "(proj @ (un - un_ideal)).norm()**2 / (un - un_ideal).norm()**2"
   ]
  },
  {
   "cell_type": "code",
   "execution_count": 31,
   "id": "f3855fe4",
   "metadata": {},
   "outputs": [],
   "source": []
  },
  {
   "cell_type": "code",
   "execution_count": 32,
   "id": "0244b6b8",
   "metadata": {},
   "outputs": [
    {
     "data": {
      "text/plain": [
       "(array([7200.,    0.,    0.,    0.,    0.,    0.,    0.,    0.,    0.,\n",
       "        7200.]),\n",
       " array([4.79713058, 4.89955549, 5.0019804 , 5.10440531, 5.20683022,\n",
       "        5.30925512, 5.41168003, 5.51410494, 5.61652985, 5.71895475,\n",
       "        5.82137966]),\n",
       " <BarContainer object of 10 artists>)"
      ]
     },
     "execution_count": 32,
     "metadata": {},
     "output_type": "execute_result"
    },
    {
     "data": {
      "image/png": "[encoded data removed]",
      "text/plain": [
       "<Figure size 640x480 with 1 Axes>"
      ]
     },
     "metadata": {},
     "output_type": "display_data"
    }
   ],
   "source": [
    "plt.hist(margins)"
   ]
  },
  {
   "cell_type": "code",
   "execution_count": 33,
   "id": "5b803c2c",
   "metadata": {},
   "outputs": [
    {
     "data": {
      "text/plain": [
       "{4.797130584716797,\n",
       " 4.797131538391113,\n",
       " 4.79713249206543,\n",
       " 4.797133445739746,\n",
       " 4.7971343994140625,\n",
       " 4.797135353088379,\n",
       " 4.797136306762695,\n",
       " 4.797137260437012,\n",
       " 4.797138214111328,\n",
       " 4.7971391677856445,\n",
       " 4.797140121459961,\n",
       " 4.797141075134277,\n",
       " 4.797142028808594,\n",
       " 4.79714298248291,\n",
       " 4.797143936157227,\n",
       " 4.797144889831543,\n",
       " 5.821364402770996,\n",
       " 5.8213653564453125,\n",
       " 5.821366310119629,\n",
       " 5.821367263793945,\n",
       " 5.821368217468262,\n",
       " 5.821369171142578,\n",
       " 5.8213701248168945,\n",
       " 5.821371078491211,\n",
       " 5.821372032165527,\n",
       " 5.821372985839844,\n",
       " 5.82137393951416,\n",
       " 5.821374893188477,\n",
       " 5.821375846862793,\n",
       " 5.821376800537109,\n",
       " 5.821377754211426,\n",
       " 5.821378707885742,\n",
       " 5.821379661560059}"
      ]
     },
     "execution_count": 33,
     "metadata": {},
     "output_type": "execute_result"
    }
   ],
   "source": [
    "set(margins)"
   ]
  },
  {
   "cell_type": "code",
   "execution_count": 28,
   "id": "4da912cc",
   "metadata": {},
   "outputs": [
    {
     "data": {
      "text/plain": [
       "tensor(5.8214, grad_fn=<SubBackward0>)"
      ]
     },
     "execution_count": 28,
     "metadata": {},
     "output_type": "execute_result"
    }
   ],
   "source": [
    "out.topk(k=2).values[0] - out.topk(k=2).values[1]"
   ]
  },
  {
   "cell_type": "code",
   "execution_count": 158,
   "id": "98a1ed87",
   "metadata": {},
   "outputs": [],
   "source": [
    "loss = lambda x: -t.log(t.exp(x[0]) / t.exp(x).sum())"
   ]
  },
  {
   "cell_type": "code",
   "execution_count": 159,
   "id": "9c56a151",
   "metadata": {},
   "outputs": [
    {
     "name": "stderr",
     "output_type": "stream",
     "text": [
      "100%|██████████| 1000000/1000000 [00:20<00:00, 49350.99it/s]\n"
     ]
    },
    {
     "data": {
      "text/plain": [
       "(0.0010046042734757066, 0.0495346337556839)"
      ]
     },
     "execution_count": 159,
     "metadata": {},
     "output_type": "execute_result"
    }
   ],
   "source": [
    "max_loss = 0\n",
    "for _ in tqdm(range(1000000)):\n",
    "    err = t.randn_like(out)#.sign() * 11\n",
    "    err = err / err.norm() * 8.3\n",
    "    max_loss = max(max_loss, loss(out + err).item())\n",
    "loss(out).item(), max_loss"
   ]
  },
  {
   "cell_type": "code",
   "execution_count": 31,
   "id": "6349a469",
   "metadata": {},
   "outputs": [
    {
     "ename": "NameError",
     "evalue": "name 'part_idxs' is not defined",
     "output_type": "error",
     "traceback": [
      "\u001b[0;31m---------------------------------------------------------------------------\u001b[0m",
      "\u001b[0;31mNameError\u001b[0m                                 Traceback (most recent call last)",
      "Cell \u001b[0;32mIn[31], line 5\u001b[0m\n\u001b[1;32m      3\u001b[0m ln1, rn1, un1 \u001b[38;5;241m=\u001b[39m model\u001b[38;5;241m.\u001b[39mget_neurons()\n\u001b[1;32m      4\u001b[0m ln2, rn2, un2 \u001b[38;5;241m=\u001b[39m ideal\u001b[38;5;241m.\u001b[39mget_neurons()\n\u001b[0;32m----> 5\u001b[0m ln1, rn1, un1 \u001b[38;5;241m=\u001b[39m ln1[:,:, \u001b[43mpart_idxs\u001b[49m], rn1[:,:, part_idxs], un1[:,:, part_idxs]\n\u001b[1;32m      6\u001b[0m ln2, rn2, un2 \u001b[38;5;241m=\u001b[39m ln2[:,:, part_idxs], rn2[:,:, part_idxs], un2[:,:, part_idxs]\n\u001b[1;32m      7\u001b[0m ln_noise \u001b[38;5;241m=\u001b[39m t\u001b[38;5;241m.\u001b[39mrandn_like(ln1)\n",
      "\u001b[0;31mNameError\u001b[0m: name 'part_idxs' is not defined"
     ]
    }
   ],
   "source": [
    "model = model.fold_linear()\n",
    "# ideal = ideal.fold_linear()\n",
    "ln1, rn1, un1 = model.get_neurons()\n",
    "ln2, rn2, un2 = ideal.get_neurons()\n",
    "ln1, rn1, un1 = ln1[:,:, part_idxs], rn1[:,:, part_idxs], un1[:,:, part_idxs]\n",
    "ln2, rn2, un2 = ln2[:,:, part_idxs], rn2[:,:, part_idxs], un2[:,:, part_idxs]\n",
    "ln_noise = t.randn_like(ln1)\n",
    "ln_noise = ln_noise / ln_noise.norm() * (ln1 - ln2).norm()\n",
    "rn_noise = t.randn_like(rn1)\n",
    "rn_noise = rn_noise / rn_noise.norm() * (rn1 - rn2).norm()\n",
    "un_noise = t.randn_like(un1)\n",
    "un_noise = un_noise / un_noise.norm() * (un1 - un2).norm()\n",
    "ln3, rn3, un3 = ln2 + ln_noise, rn2 + rn_noise, un2 + un_noise"
   ]
  },
  {
   "cell_type": "code",
   "execution_count": 15,
   "id": "10a97909",
   "metadata": {},
   "outputs": [
    {
     "data": {
      "text/plain": [
       "(tensor(27.0105), tensor(26.9070))"
      ]
     },
     "execution_count": 15,
     "metadata": {},
     "output_type": "execute_result"
    }
   ],
   "source": [
    "un1.norm(), un2.norm() "
   ]
  },
  {
   "cell_type": "code",
   "execution_count": 20,
   "id": "89cd0846",
   "metadata": {},
   "outputs": [],
   "source": [
    "noise_model = copy.deepcopy(model)\n",
    "noise_model.embedding_left = nn.Parameter(ln3)\n",
    "noise_model.embedding_right = nn.Parameter(rn3)\n",
    "noise_model.unembedding = nn.Parameter(un3.mT)"
   ]
  },
  {
   "cell_type": "code",
   "execution_count": 21,
   "id": "8f1e6cfd",
   "metadata": {},
   "outputs": [
    {
     "data": {
      "text/plain": [
       "{'G0_loss': tensor([0.2678]),\n",
       " 'G0_loss_std': tensor([0.1247]),\n",
       " 'G0_acc': tensor([1.])}"
      ]
     },
     "execution_count": 21,
     "metadata": {},
     "output_type": "execute_result"
    }
   ],
   "source": [
    "test_loss(noise_model, data)"
   ]
  },
  {
   "cell_type": "code",
   "execution_count": 57,
   "id": "4d9598d0",
   "metadata": {},
   "outputs": [
    {
     "data": {
      "text/plain": [
       "({'G0_loss': tensor([0.1731]),\n",
       "  'G0_loss_std': tensor([0.1883]),\n",
       "  'G0_acc': tensor([0.9990])},\n",
       " {'G0_loss': tensor([0.1231]),\n",
       "  'G0_loss_std': tensor([0.0968]),\n",
       "  'G0_acc': tensor([1.])},\n",
       " {'G0_loss': tensor([0.0296]),\n",
       "  'G0_loss_std': tensor([0.0080]),\n",
       "  'G0_acc': tensor([1.])})"
      ]
     },
     "execution_count": 57,
     "metadata": {},
     "output_type": "execute_result"
    }
   ],
   "source": [
    "test_loss(noise_model, data), test_loss(ideal, data),  test_loss(model, data)"
   ]
  },
  {
   "cell_type": "code",
   "execution_count": 29,
   "id": "2957f7f6",
   "metadata": {},
   "outputs": [
    {
     "data": {
      "text/plain": [
       "tensor(151.1256)"
      ]
     },
     "execution_count": 29,
     "metadata": {},
     "output_type": "execute_result"
    }
   ],
   "source": [
    "model_dist2(model, ideal)#, irrep_idx_dict, vecs)"
   ]
  },
  {
   "cell_type": "code",
   "execution_count": 28,
   "id": "6495fa46",
   "metadata": {},
   "outputs": [
    {
     "ename": "TypeError",
     "evalue": "'float' object is not iterable",
     "output_type": "error",
     "traceback": [
      "\u001b[0;31m---------------------------------------------------------------------------\u001b[0m",
      "\u001b[0;31mTypeError\u001b[0m                                 Traceback (most recent call last)",
      "Cell \u001b[0;32mIn[28], line 1\u001b[0m\n\u001b[0;32m----> 1\u001b[0m \u001b[38;5;28;43msorted\u001b[39;49m\u001b[43m(\u001b[49m\u001b[43mdist\u001b[49m\u001b[38;5;241;43m.\u001b[39;49m\u001b[43mtolist\u001b[49m\u001b[43m(\u001b[49m\u001b[43m)\u001b[49m\u001b[43m)\u001b[49m\n",
      "\u001b[0;31mTypeError\u001b[0m: 'float' object is not iterable"
     ]
    }
   ],
   "source": [
    "sorted(dist.tolist())"
   ]
  },
  {
   "cell_type": "code",
   "execution_count": 44,
   "id": "d8d79911",
   "metadata": {},
   "outputs": [
    {
     "name": "stdout",
     "output_type": "stream",
     "text": [
      "1d-0\n",
      "l diff tensor(0.1423)\n",
      "r diff tensor(0.1301)\n",
      "u diff tensor(0.1309)\n",
      "l norm tensor(37.6832)\n",
      "r norm tensor(37.6227)\n",
      "u norm tensor(8.6710)\n",
      "12.21975326538086\n",
      "4d-1\n",
      "l diff tensor(0.5003)\n",
      "r diff tensor(0.4084)\n",
      "u diff tensor(2.0580)\n",
      "l norm tensor(37.3536)\n",
      "r norm tensor(37.2156)\n",
      "u norm tensor(6.8900)\n",
      "159.40463256835938\n",
      "4d-1\n",
      "l diff tensor(0.)\n",
      "r diff tensor(0.)\n",
      "u diff tensor(1.4427)\n",
      "l norm tensor(8.8416)\n",
      "r norm tensor(8.7849)\n",
      "u norm tensor(1.4427)\n",
      "25.430316925048828\n"
     ]
    },
    {
     "data": {
      "text/plain": [
       "197.05470275878906"
      ]
     },
     "execution_count": 44,
     "metadata": {},
     "output_type": "execute_result"
    }
   ],
   "source": [
    "model_dist_parted(model, ideal, irrep_idx_dict, vecs)"
   ]
  },
  {
   "cell_type": "code",
   "execution_count": 37,
   "id": "0313a70e",
   "metadata": {},
   "outputs": [],
   "source": []
  },
  {
   "cell_type": "code",
   "execution_count": 32,
   "id": "965af78d",
   "metadata": {},
   "outputs": [],
   "source": [
    "_, _, un1 = model.get_neurons(True)\n",
    "_, _, un2 = ideal.get_neurons(True)"
   ]
  },
  {
   "cell_type": "code",
   "execution_count": 43,
   "id": "7e559231",
   "metadata": {},
   "outputs": [
    {
     "data": {
      "text/plain": [
       "tensor(0.5175)"
      ]
     },
     "execution_count": 43,
     "metadata": {},
     "output_type": "execute_result"
    }
   ],
   "source": [
    "((un1 - un2).norm(dim=0))[part_idxs].max() #/ un1.norm(dim=0))[part_idxs]"
   ]
  },
  {
   "cell_type": "code",
   "execution_count": 61,
   "id": "4e224472",
   "metadata": {},
   "outputs": [
    {
     "data": {
      "text/plain": [
       "tensor([3.9519e-01, 1.9263e+00, 2.7491e-02, 0.0000e+00, 2.0834e-03, 2.9060e-02,\n",
       "        3.0195e-01, 4.8089e-01, 1.3822e+00, 2.9299e-01, 5.6391e-04, 1.7642e+00,\n",
       "        4.3101e-01, 2.3929e-01, 3.8706e-04, 1.8467e-01, 3.0984e-01, 6.9950e-03,\n",
       "        1.4025e+00, 1.1464e-01, 0.0000e+00, 2.8585e-01, 1.7904e+00, 2.1838e-01,\n",
       "        1.2053e-04, 4.7698e-01, 1.7771e+00, 4.6449e-02, 1.2915e-04, 1.2651e-01,\n",
       "        4.9187e-03, 1.3275e-01, 1.5971e+00, 8.5666e-02, 4.7559e-01, 0.0000e+00,\n",
       "        9.9433e-02, 3.8776e-01, 1.8291e+00, 8.8188e-01, 9.8395e-02, 1.2016e-04,\n",
       "        0.0000e+00, 4.6339e-01, 3.0990e-02, 1.6035e-02, 4.7704e-01, 1.9921e-03,\n",
       "        4.4426e-01, 3.2006e-01, 2.2652e-01, 1.8414e+00, 1.0796e+00, 1.7409e-02,\n",
       "        8.8652e-02, 4.2277e-01, 1.8674e+00, 1.2950e-03, 4.2510e-01, 4.7889e-01,\n",
       "        1.8257e+00, 8.6694e-02, 8.8028e-02, 4.6159e-01, 1.5211e+00, 1.6752e+00,\n",
       "        1.5701e-02, 1.8629e+00, 4.4153e-01, 3.2458e-01, 1.3208e-03, 4.6803e-02,\n",
       "        0.0000e+00, 1.5985e-03, 1.2449e+00, 2.9418e-02, 1.6917e+00, 1.8397e+00,\n",
       "        0.0000e+00, 8.6495e-02, 1.3606e-02, 4.0674e-02, 0.0000e+00, 3.5842e-03,\n",
       "        2.8532e-03, 3.9908e-01, 1.0359e-01, 1.0639e+00, 4.8188e-01, 1.4355e+00,\n",
       "        4.6896e-02, 4.5818e-01, 4.6008e-01, 4.4927e-01, 1.8827e+00, 4.5930e-01,\n",
       "        1.7180e+00, 9.2255e-02, 2.0710e+00, 1.4968e-03, 2.0832e-01, 1.6867e+00,\n",
       "        7.7332e-04, 1.6796e+00, 1.0538e-02, 2.3799e-01, 2.3802e-02, 9.8076e-01,\n",
       "        2.0045e+00, 4.3481e-01, 1.7120e-05, 9.9002e-04, 4.6180e-01, 1.0661e-01,\n",
       "        2.3341e-02, 8.9384e-02, 3.4720e-04, 2.6038e-01, 1.3358e-01, 2.5623e-02,\n",
       "        4.5532e-01, 3.5525e-02, 4.5902e-03, 6.2850e-04, 4.6586e-01, 1.7212e+00,\n",
       "        5.4579e-05, 1.2046e-01], grad_fn=<LinalgVectorNormBackward0>)"
      ]
     },
     "execution_count": 61,
     "metadata": {},
     "output_type": "execute_result"
    }
   ],
   "source": [
    "(ideal.unembedding - model.unembedding)[0].norm(dim=1)"
   ]
  },
  {
   "cell_type": "code",
   "execution_count": 43,
   "id": "e1b8b998",
   "metadata": {},
   "outputs": [
    {
     "data": {
      "text/plain": [
       "(tensor([-0.9858,  0.2464,  0.2464,  0.2464,  0.2464, -0.9858, -0.9858,  0.2464,\n",
       "          0.2464,  0.2464,  0.2464, -0.9858,  0.2464,  0.2464,  0.2464],\n",
       "        grad_fn=<SliceBackward0>),\n",
       " tensor([-0.9570,  0.1998,  0.2163,  0.2846,  0.2874, -1.0399, -1.0421,  0.2721,\n",
       "          0.2724,  0.2598,  0.1809, -0.9766,  0.2939,  0.1614,  0.2129],\n",
       "        grad_fn=<SliceBackward0>))"
      ]
     },
     "execution_count": 43,
     "metadata": {},
     "output_type": "execute_result"
    }
   ],
   "source": [
    "ideal.unembedding[0, part_idxs[4], :15], model.unembedding[0, part_idxs[4], :15]"
   ]
  },
  {
   "cell_type": "code",
   "execution_count": 37,
   "id": "e02c64a9",
   "metadata": {},
   "outputs": [
    {
     "data": {
      "text/plain": [
       "65"
      ]
     },
     "execution_count": 37,
     "metadata": {},
     "output_type": "execute_result"
    }
   ],
   "source": [
    "irrep_idx_dict['4d-1'].index(88)"
   ]
  },
  {
   "cell_type": "code",
   "execution_count": 38,
   "id": "955ce75c",
   "metadata": {},
   "outputs": [
    {
     "data": {
      "text/plain": [
       "(tensor(5, dtype=torch.int32), tensor(5, dtype=torch.int32))"
      ]
     },
     "execution_count": 38,
     "metadata": {},
     "output_type": "execute_result"
    }
   ],
   "source": [
    "b_labels[65], c_labels[65]"
   ]
  },
  {
   "cell_type": "code",
   "execution_count": 12,
   "id": "a782e6da",
   "metadata": {},
   "outputs": [],
   "source": [
    "from coset_bounds import model_dist as cdist"
   ]
  },
  {
   "cell_type": "code",
   "execution_count": 15,
   "id": "49bebdde",
   "metadata": {},
   "outputs": [
    {
     "name": "stdout",
     "output_type": "stream",
     "text": [
      "l diff tensor(0.5003)\n",
      "r diff tensor(0.4084)\n",
      "u diff tensor(2.0830)\n",
      "l norm tensor(37.6832)\n",
      "r norm tensor(37.6227)\n",
      "u norm tensor(8.9174)\n"
     ]
    },
    {
     "data": {
      "text/plain": [
       "tensor(164.9650)"
      ]
     },
     "execution_count": 15,
     "metadata": {},
     "output_type": "execute_result"
    }
   ],
   "source": [
    "cdist(model, ideal)"
   ]
  },
  {
   "cell_type": "code",
   "execution_count": 136,
   "id": "d6b2152c",
   "metadata": {},
   "outputs": [
    {
     "data": {
      "text/plain": [
       "(tensor(0., grad_fn=<LinalgVectorNormBackward0>),\n",
       " tensor(0.1013, grad_fn=<LinalgVectorNormBackward0>))"
      ]
     },
     "execution_count": 136,
     "metadata": {},
     "output_type": "execute_result"
    }
   ],
   "source": [
    "ideal.unembedding[0,5,:].norm(), model.unembedding[0,5,:].norm()"
   ]
  },
  {
   "cell_type": "code",
   "execution_count": 148,
   "id": "1985798d",
   "metadata": {},
   "outputs": [
    {
     "data": {
      "text/plain": [
       "tensor(88)"
      ]
     },
     "execution_count": 148,
     "metadata": {},
     "output_type": "execute_result"
    }
   ],
   "source": [
    "(ideal.unembedding[0] - model.unembedding[0]).norm(dim=1).argmax()"
   ]
  },
  {
   "cell_type": "code",
   "execution_count": 150,
   "id": "8ec03917",
   "metadata": {},
   "outputs": [
    {
     "data": {
      "text/plain": [
       "(tensor(0., grad_fn=<LinalgVectorNormBackward0>),\n",
       " tensor(1.2796, grad_fn=<LinalgVectorNormBackward0>))"
      ]
     },
     "execution_count": 150,
     "metadata": {},
     "output_type": "execute_result"
    }
   ],
   "source": [
    "ideal.unembedding[0,88].norm(), model.unembedding[0,88].norm()"
   ]
  },
  {
   "cell_type": "code",
   "execution_count": 154,
   "id": "97241f97",
   "metadata": {},
   "outputs": [
    {
     "data": {
      "text/plain": [
       "({'G0_loss': tensor([0.1231]),\n",
       "  'G0_loss_std': tensor([0.0968]),\n",
       "  'G0_acc': tensor([1.])},\n",
       " {'G0_loss': tensor([0.0296]),\n",
       "  'G0_loss_std': tensor([0.0080]),\n",
       "  'G0_acc': tensor([1.])})"
      ]
     },
     "execution_count": 154,
     "metadata": {},
     "output_type": "execute_result"
    }
   ],
   "source": [
    "test_loss(ideal, data), test_loss(model, data)"
   ]
  },
  {
   "cell_type": "code",
   "execution_count": 163,
   "id": "b039e8ad",
   "metadata": {},
   "outputs": [
    {
     "data": {
      "text/plain": [
       "tensor(15.5970, grad_fn=<MaxBackward1>)"
      ]
     },
     "execution_count": 163,
     "metadata": {},
     "output_type": "execute_result"
    }
   ],
   "source": [
    "ideal(t.tensor([[10, 15]])).max()"
   ]
  },
  {
   "cell_type": "code",
   "execution_count": 173,
   "id": "430b5564",
   "metadata": {},
   "outputs": [],
   "source": [
    "irrep_model = copy.deepcopy(ideal)\n",
    "irrep_name = '1d-0'\n",
    "irrep_model.embedding_left.data = ideal.embedding_left[:,:,irrep_idx_dict[irrep_name]]\n",
    "irrep_model.embedding_right.data = ideal.embedding_right[:,:,irrep_idx_dict[irrep_name]]\n",
    "irrep_model.unembedding.data = ideal.unembedding[:,irrep_idx_dict[irrep_name]]"
   ]
  },
  {
   "cell_type": "code",
   "execution_count": 171,
   "id": "84765338",
   "metadata": {},
   "outputs": [
    {
     "data": {
      "text/plain": [
       "{'G0_loss': tensor([0.2198]),\n",
       " 'G0_loss_std': tensor([4.2085e-07]),\n",
       " 'G0_acc': tensor([1.])}"
      ]
     },
     "execution_count": 171,
     "metadata": {},
     "output_type": "execute_result"
    }
   ],
   "source": [
    "test_loss(irrep_model, data)"
   ]
  },
  {
   "cell_type": "code",
   "execution_count": 180,
   "id": "27fce14f",
   "metadata": {},
   "outputs": [
    {
     "data": {
      "text/plain": [
       "tensor([[[-3.8460,  3.8460,  3.8460, -3.8460, -3.8460,  3.8460,  3.8460,\n",
       "          -3.8460, -3.8460,  3.8460,  3.8460, -3.8460, -3.8460,  3.8460,\n",
       "           3.8460, -3.8460, -3.8460,  3.8460,  3.8460, -3.8460, -3.8460,\n",
       "           3.8460,  3.8460, -3.8460,  3.8460, -3.8460, -3.8460,  3.8460,\n",
       "           3.8460, -3.8460, -3.8460,  3.8460,  3.8460, -3.8460, -3.8460,\n",
       "           3.8460,  3.8460, -3.8460, -3.8460,  3.8460,  3.8460, -3.8460,\n",
       "          -3.8460,  3.8460,  3.8460, -3.8460, -3.8460,  3.8460, -3.8460,\n",
       "           3.8460,  3.8460, -3.8460, -3.8460,  3.8460,  3.8460, -3.8460,\n",
       "          -3.8460,  3.8460,  3.8460, -3.8460, -3.8460,  3.8460,  3.8460,\n",
       "          -3.8460, -3.8460,  3.8460,  3.8460, -3.8460, -3.8460,  3.8460,\n",
       "           3.8460, -3.8460,  3.8460, -3.8460, -3.8460,  3.8460,  3.8460,\n",
       "          -3.8460, -3.8460,  3.8460,  3.8460, -3.8460, -3.8460,  3.8460,\n",
       "           3.8460, -3.8460, -3.8460,  3.8460,  3.8460, -3.8460, -3.8460,\n",
       "           3.8460,  3.8460, -3.8460, -3.8460,  3.8460, -3.8460,  3.8460,\n",
       "           3.8460, -3.8460, -3.8460,  3.8460,  3.8460, -3.8460, -3.8460,\n",
       "           3.8460,  3.8460, -3.8460, -3.8460,  3.8460,  3.8460, -3.8460,\n",
       "          -3.8460,  3.8460,  3.8460, -3.8460, -3.8460,  3.8460,  3.8460,\n",
       "          -3.8460]]], grad_fn=<ViewBackward0>)"
      ]
     },
     "execution_count": 180,
     "metadata": {},
     "output_type": "execute_result"
    }
   ],
   "source": [
    "irrep_model(t.tensor([[11, 17]]))"
   ]
  },
  {
   "cell_type": "code",
   "execution_count": 183,
   "id": "039e9587",
   "metadata": {},
   "outputs": [
    {
     "data": {
      "text/plain": [
       "tensor([[-0.5594,  0.5594,  0.5594, -0.5594, -0.5594,  0.5594,  0.5594, -0.5594,\n",
       "         -0.5594,  0.5594],\n",
       "        [-0.5598,  0.5598,  0.5598, -0.5598, -0.5598,  0.5598,  0.5598, -0.5598,\n",
       "         -0.5598,  0.5598],\n",
       "        [-0.0010,  0.0010,  0.0010, -0.0010, -0.0010,  0.0010,  0.0010, -0.0010,\n",
       "         -0.0010,  0.0010]], grad_fn=<SliceBackward0>)"
      ]
     },
     "execution_count": 183,
     "metadata": {},
     "output_type": "execute_result"
    }
   ],
   "source": [
    "irrep_model.unembedding[0,:,:10]"
   ]
  },
  {
   "cell_type": "code",
   "execution_count": null,
   "id": "aef39c06",
   "metadata": {},
   "outputs": [],
   "source": []
  },
  {
   "cell_type": "code",
   "execution_count": null,
   "id": "c36acdff",
   "metadata": {},
   "outputs": [],
   "source": []
  },
  {
   "cell_type": "code",
   "execution_count": null,
   "id": "1fbc9821",
   "metadata": {},
   "outputs": [],
   "source": []
  },
  {
   "cell_type": "code",
   "execution_count": 48,
   "id": "0d4f0225",
   "metadata": {},
   "outputs": [
    {
     "name": "stdout",
     "output_type": "stream",
     "text": [
      "1d-0 torch.Size([120, 1])\n",
      "4d-0 torch.Size([120, 16])\n",
      "5d-0 torch.Size([120, 25])\n",
      "6d-0 torch.Size([120, 36])\n",
      "5d-1 torch.Size([120, 25])\n",
      "4d-1 torch.Size([120, 16])\n",
      "1d-1 torch.Size([120, 1])\n"
     ]
    }
   ],
   "source": [
    "\n",
    "irrep_bases = dict()\n",
    "for name, irrep in irreps.items():\n",
    "    irrep = einops.rearrange(irrep, 'N d1 d2 -> N (d1 d2)')\n",
    "    U, S, V = t.svd(irrep)\n",
    "    nonzero = S > 1e-5\n",
    "    irrep_bases[name] = U[:,nonzero]\n",
    "\n",
    "# Dimension of subspace spanned by each irrep\n",
    "for k, v in irrep_bases.items():\n",
    "    print(k, v.shape)"
   ]
  },
  {
   "cell_type": "code",
   "execution_count": 54,
   "id": "cbdb9f8a",
   "metadata": {},
   "outputs": [],
   "source": [
    "# Proportion of variance explained by each irrep, for each neuron\n",
    "ures_expl = dict()\n",
    "ubias_expl = dict()\n",
    "\n",
    "for name, basis in irrep_bases.items():\n",
    "    ures_expl[name] = (basis.H @ ures_big).norm(dim=0)**2 / (ures_big.norm(dim=0)**2 + 1e-8)\n",
    "    ubias_expl[name] = (basis.H @ ubias).norm(dim=0)**2 / (ubias.norm(dim=0)**2 + 1e-8)"
   ]
  },
  {
   "cell_type": "code",
   "execution_count": 56,
   "id": "7105f98f",
   "metadata": {},
   "outputs": [
    {
     "data": {
      "text/plain": [
       "{'1d-0': tensor([2.2703e-03, 2.3903e-06, 2.2074e-03, 3.8170e-03, 5.3694e-06, 4.7517e-04,\n",
       "         1.3478e-05, 9.9386e-12, 9.7257e-03, 1.0623e-02, 2.3099e-05, 8.9464e-04,\n",
       "         5.6647e-04, 1.6329e-03, 2.1714e-02, 7.0234e-04, 4.1935e-04, 1.1982e-04,\n",
       "         5.5475e-05, 8.4600e-03, 1.2267e-03, 2.9535e-03, 5.9241e-09, 3.3240e-03,\n",
       "         5.1312e-03, 1.4887e-05, 9.2031e-12]),\n",
       " '4d-0': tensor([0.1483, 0.1038, 0.0868, 0.1295, 0.0929, 0.0817, 0.1756, 0.1694, 0.1428,\n",
       "         0.1229, 0.1398, 0.1425, 0.1346, 0.0456, 0.1851, 0.1676, 0.1807, 0.0891,\n",
       "         0.0623, 0.1595, 0.1011, 0.1832, 0.1181, 0.1393, 0.0894, 0.1435, 0.1533]),\n",
       " '5d-0': tensor([0.2572, 0.2210, 0.1895, 0.3072, 0.2438, 0.2120, 0.1813, 0.2150, 0.1564,\n",
       "         0.2704, 0.2162, 0.2885, 0.2417, 0.2044, 0.1561, 0.0952, 0.1882, 0.2290,\n",
       "         0.2489, 0.1922, 0.2993, 0.1563, 0.3368, 0.2274, 0.2981, 0.2231, 0.1733]),\n",
       " '6d-0': tensor([0.3363, 0.2904, 0.3211, 0.2642, 0.3670, 0.3065, 0.2789, 0.3254, 0.3593,\n",
       "         0.2445, 0.2884, 0.2661, 0.2714, 0.4650, 0.3520, 0.3272, 0.2236, 0.1832,\n",
       "         0.3405, 0.3139, 0.3537, 0.3828, 0.1763, 0.2463, 0.3517, 0.2569, 0.3069]),\n",
       " '5d-1': tensor([0.1452, 0.2769, 0.2321, 0.2141, 0.2091, 0.2108, 0.2886, 0.1575, 0.2694,\n",
       "         0.2263, 0.1882, 0.1707, 0.2291, 0.1615, 0.1803, 0.3166, 0.2693, 0.3583,\n",
       "         0.2449, 0.1905, 0.1997, 0.1657, 0.2259, 0.2804, 0.1791, 0.2626, 0.1988]),\n",
       " '4d-1': tensor([0.1097, 0.1060, 0.1680, 0.0804, 0.0853, 0.1861, 0.0749, 0.1307, 0.0621,\n",
       "         0.1252, 0.1671, 0.1312, 0.1222, 0.1209, 0.1042, 0.0921, 0.1372, 0.1400,\n",
       "         0.1011, 0.1335, 0.0450, 0.1055, 0.1429, 0.1031, 0.0758, 0.1138, 0.1667]),\n",
       " '1d-1': tensor([9.4970e-04, 1.8876e-03, 2.7450e-04, 7.8716e-04, 1.8944e-03, 2.3421e-03,\n",
       "         7.2315e-04, 2.1495e-03, 2.1320e-04, 8.1231e-05, 2.7323e-04, 1.2560e-04,\n",
       "         3.1981e-04, 1.0154e-03, 5.3164e-04, 6.2362e-04, 5.7914e-04, 1.8869e-04,\n",
       "         2.2256e-03, 1.9890e-03, 4.3363e-05, 3.5149e-03, 3.2659e-05, 2.5666e-04,\n",
       "         6.2579e-04, 1.5774e-05, 1.0265e-03])}"
      ]
     },
     "execution_count": 56,
     "metadata": {},
     "output_type": "execute_result"
    }
   ],
   "source": [
    "ures_expl"
   ]
  },
  {
   "cell_type": "code",
   "execution_count": 57,
   "id": "4de8bf0d",
   "metadata": {},
   "outputs": [
    {
     "data": {
      "text/plain": [
       "{'1d-0': tensor([0.9835]),\n",
       " '4d-0': tensor([0.0027]),\n",
       " '5d-0': tensor([0.0015]),\n",
       " '6d-0': tensor([0.0055]),\n",
       " '5d-1': tensor([0.0019]),\n",
       " '4d-1': tensor([0.0012]),\n",
       " '1d-1': tensor([0.0038])}"
      ]
     },
     "execution_count": 57,
     "metadata": {},
     "output_type": "execute_result"
    }
   ],
   "source": [
    "ubias_expl"
   ]
  },
  {
   "cell_type": "code",
   "execution_count": null,
   "id": "e2f13e4e",
   "metadata": {},
   "outputs": [],
   "source": []
  }
 ],
 "metadata": {
  "kernelspec": {
   "display_name": "Python 3 (ipykernel)",
   "language": "python",
   "name": "python3"
  },
  "language_info": {
   "codemirror_mode": {
    "name": "ipython",
    "version": 3
   },
   "file_extension": ".py",
   "mimetype": "text/x-python",
   "name": "python",
   "nbconvert_exporter": "python",
   "pygments_lexer": "ipython3",
   "version": "3.10.12"
  }
 },
 "nbformat": 4,
 "nbformat_minor": 5
}
