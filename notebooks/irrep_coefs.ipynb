{
 "cells": [
  {
   "cell_type": "code",
   "execution_count": 1,
   "id": "8293bd26-5402-4955-a9c6-ed25d4b90d4f",
   "metadata": {},
   "outputs": [],
   "source": [
    "import sys\n",
    "import torch as t\n",
    "import torch\n",
    "import numpy as np\n",
    "from matplotlib import pyplot as plt\n",
    "import json\n",
    "from itertools import product\n",
    "sys.path.append('/workspace/wilson/Finite-groups/src')\n",
    "from model import MLP3, MLP4, InstancedModule\n",
    "from utils import *\n",
    "from group_data import *\n",
    "from model_utils import *\n",
    "from group_utils import *\n",
    "from jaxtyping import Float\n",
    "from typing import Union\n",
    "from einops import repeat\n",
    "from torch.utils.data import DataLoader\n",
    "from tqdm.notebook import tqdm\n",
    "import plotly.graph_objects as go\n",
    "import copy\n",
    "import math\n",
    "from itertools import product\n",
    "from llc import *\n",
    "import pandas as pd\n",
    "%load_ext autoreload\n",
    "%autoreload 2"
   ]
  },
  {
   "cell_type": "code",
   "execution_count": 2,
   "id": "b5cbe6c1-ecf8-4748-bf1c-c1d2de5ec249",
   "metadata": {},
   "outputs": [],
   "source": [
    "# path = '/workspace/models/2024-08-14_21-24-30_gapS_5_'\n",
    "# path = '/workspace/models/2024-08-16_20-45-42_F11_MLP3_256'\n",
    "#path = '/workspace/models/2024-08-16_22-14-00_F11_MLP3_256_wd2e-4'\n",
    "path = '/workspace/models/2024-08-16_22-53-29_SL2_5_MLP3_256'\n",
    "models, params = load_models(path)"
   ]
  },
  {
   "cell_type": "code",
   "execution_count": 3,
   "id": "05584495-c4c4-445b-903a-a0f942f5d73f",
   "metadata": {},
   "outputs": [
    {
     "name": "stdout",
     "output_type": "stream",
     "text": [
      "Intersection size: 14400/14400 (1.00)\n",
      "Added 14400 elements from intersection\n",
      "Added 0 elements from group 0: smallgrp(120, 5)\n",
      "Taking random subset: 5760/14400 (0.40)\n",
      "Train set size: 5760/14400 (0.40)\n"
     ]
    }
   ],
   "source": [
    "data = GroupData(params)"
   ]
  },
  {
   "cell_type": "code",
   "execution_count": 4,
   "id": "ccb4a6de-eabe-4535-9d3f-df78a05f3633",
   "metadata": {},
   "outputs": [],
   "source": [
    "loss_dict = test_loss(models[-1].to(device), data)"
   ]
  },
  {
   "cell_type": "code",
   "execution_count": 5,
   "id": "dfbeeb98-3651-45bb-a81b-b5c2b959a2a0",
   "metadata": {},
   "outputs": [
    {
     "data": {
      "text/plain": [
       "(tensor(0.0567, device='cuda:0'), tensor(19, device='cuda:0'))"
      ]
     },
     "execution_count": 5,
     "metadata": {},
     "output_type": "execute_result"
    }
   ],
   "source": [
    "loss_dict['G0_loss'].min(), loss_dict['G0_loss'].argmin()"
   ]
  },
  {
   "cell_type": "code",
   "execution_count": 6,
   "id": "0c849b59-7b89-4ace-b012-60bfe353dc3e",
   "metadata": {},
   "outputs": [],
   "source": [
    "instance = loss_dict['G0_loss'].argmin().item()"
   ]
  },
  {
   "cell_type": "code",
   "execution_count": 7,
   "id": "1b3e1c90-45f9-43dc-b2bf-6fa305d7d196",
   "metadata": {},
   "outputs": [],
   "source": [
    "model = models[-1][instance].to(device)\n",
    "lneurons, rneurons = model.get_neurons()\n",
    "unembed = model.unembedding.data.detach()\n",
    "lneurons, rneurons, unembed = lneurons.squeeze(0).to('cpu'), rneurons.squeeze(0).to('cpu'), unembed.squeeze(0).to('cpu')"
   ]
  },
  {
   "cell_type": "code",
   "execution_count": 160,
   "id": "782267d3-ec8a-4a4b-b9b3-7fbbd2fcf0e6",
   "metadata": {},
   "outputs": [],
   "source": [
    "irrep_neurons = [\n",
    "    2,4,7,10,12,14,15,19,21,25,44,50,52,53,55,65,68,72,79,92,96,118,119,128,132,136,139,142,143,144,148,149,153,178,197,200,205,207,209,211,213,214,215,217,222,226,228,235,244,252,254\n",
    "]    # all of these have >0.9999 variance explained by 4d-2\n",
    "\n",
    "#neuron = 2 #2  # ~100% variance explained by 4d-2\n",
    "#neuron = 22  # 4d-1"
   ]
  },
  {
   "cell_type": "code",
   "execution_count": 164,
   "id": "15aeb54e-fae5-4825-bb41-8affdc1ec98e",
   "metadata": {},
   "outputs": [],
   "source": [
    "ln = lneurons[:,irrep_neurons]\n",
    "rn = rneurons[:,irrep_neurons]\n",
    "un = unembed[irrep_neurons,:].T"
   ]
  },
  {
   "cell_type": "code",
   "execution_count": 289,
   "id": "14ce67bf-739a-49f0-9e32-af4c9d3f58c2",
   "metadata": {},
   "outputs": [],
   "source": [
    "group = data.groups[0]\n",
    "irreps = group.get_real_irreps()\n",
    "irrep = irreps['4d-2']"
   ]
  },
  {
   "cell_type": "code",
   "execution_count": 347,
   "id": "4ae58edd-7e10-4c4d-996d-354758bfed8a",
   "metadata": {},
   "outputs": [
    {
     "data": {
      "text/plain": [
       "tensor([[[  1.0000,   1.0000,   1.0000,   1.0000],\n",
       "         [  1.0000,   1.0000,   1.0000,   1.0000],\n",
       "         [  1.0000,   1.0000,   1.0000,   1.0000],\n",
       "         [  1.0000,   1.0000,   1.0000,   1.0000]],\n",
       "\n",
       "        [[  0.4577,   0.3127,   0.2070,  14.0005],\n",
       "         [  0.4601,   0.3171,   0.2079,  13.0648],\n",
       "         [  0.4569,   0.3080,   0.2061,  13.3084],\n",
       "         [  0.4587,   0.3153,   0.2076,  12.9509]],\n",
       "\n",
       "        [[  0.6925,  -0.4489,  -2.1671, -84.2497],\n",
       "         [  0.6923,  -0.4450,  -2.1593, -78.2675],\n",
       "         [  0.6974,  -0.4498,  -2.1813, -81.9106],\n",
       "         [  0.6936,  -0.4456,  -2.1638, -77.7122]]])"
      ]
     },
     "execution_count": 347,
     "metadata": {},
     "output_type": "execute_result"
    }
   ],
   "source": [
    "flat_irrep = einops.rearrange(irrep, 'n d1 d2 -> n (d1 d2)')\n",
    "lM_flat = (t.linalg.inv(flat_irrep.T @ flat_irrep) @ flat_irrep.T @ ln)\n",
    "rM_flat = (t.linalg.inv(flat_irrep.T @ flat_irrep) @ flat_irrep.T @ rn)\n",
    "uM_flat = (t.linalg.inv(flat_irrep.T @ flat_irrep) @ flat_irrep.T @ un)\n",
    "lM = einops.rearrange(lM_flat, '(d1 d2) m -> m d1 d2', d1=4, d2=4).mT\n",
    "rM = einops.rearrange(rM_flat, '(d1 d2) m -> m d1 d2', d1=4, d2=4).mT\n",
    "uM = einops.rearrange(uM_flat, '(d1 d2) m -> m d1 d2', d1=4, d2=4).mT\n",
    "Z = lM @ t.linalg.inv(rM)\n",
    "(Z / Z[0])[:3]"
   ]
  },
  {
   "cell_type": "code",
   "execution_count": 441,
   "id": "14d9e61d-af01-4136-8d06-456b52b41f40",
   "metadata": {},
   "outputs": [],
   "source": [
    "lU, lV, rU, rV = [], [], [], []\n",
    "for i in range(51):\n",
    "    lu, _, lv = torch.svd(lM[i])\n",
    "    ru, _, rv = torch.svd(rM[i])\n",
    "    lU.append(lu[:,0])\n",
    "    lV.append(lv[0])\n",
    "    rU.append(ru[:,0])\n",
    "    rV.append(rv[0])\n",
    "lU = t.stack(lU, dim=0)\n",
    "lV = t.stack(lV, dim=0)\n",
    "rU = t.stack(rU, dim=0)\n",
    "rV = t.stack(rV, dim=0)"
   ]
  },
  {
   "cell_type": "code",
   "execution_count": 459,
   "id": "9f5d0919-af52-44ab-a1cf-0045621c2406",
   "metadata": {},
   "outputs": [
    {
     "data": {
      "text/plain": [
       "tensor([1.5584e+00, 1.5012e-03, 7.2166e-04, 2.4544e-04])"
      ]
     },
     "execution_count": 459,
     "metadata": {},
     "output_type": "execute_result"
    }
   ],
   "source": [
    "torch.svd(rM[3])[1]"
   ]
  },
  {
   "cell_type": "code",
   "execution_count": 453,
   "id": "12c3b651-b214-4bcc-ae98-2458d11ab837",
   "metadata": {},
   "outputs": [
    {
     "data": {
      "text/plain": [
       "<matplotlib.image.AxesImage at 0x7f7ace5e9300>"
      ]
     },
     "execution_count": 453,
     "metadata": {},
     "output_type": "execute_result"
    },
    {
     "data": {
      "image/png": "[encoded data removed]",
      "text/plain": [
       "<Figure size 640x480 with 1 Axes>"
      ]
     },
     "metadata": {},
     "output_type": "display_data"
    }
   ],
   "source": [
    "plt.imshow(lV @ lV.T)"
   ]
  },
  {
   "cell_type": "code",
   "execution_count": 434,
   "id": "5449a8a8-0c26-481f-b1a3-78ddc87686f1",
   "metadata": {},
   "outputs": [
    {
     "data": {
      "text/plain": [
       "tensor([4.5050, 3.6017, 3.1061, 2.8433])"
      ]
     },
     "execution_count": 434,
     "metadata": {},
     "output_type": "execute_result"
    }
   ],
   "source": [
    "S"
   ]
  },
  {
   "cell_type": "code",
   "execution_count": 418,
   "id": "491275f2-d8cc-495d-b859-92ab85158de2",
   "metadata": {},
   "outputs": [],
   "source": [
    "u, s, v = torch.svd(lM[0])"
   ]
  },
  {
   "cell_type": "code",
   "execution_count": 420,
   "id": "0d2675fb-c6f3-4b16-8ee4-6487cd7a226e",
   "metadata": {},
   "outputs": [
    {
     "data": {
      "text/plain": [
       "tensor([1.7308e+00, 1.4614e-03, 1.0821e-03, 3.6719e-04])"
      ]
     },
     "execution_count": 420,
     "metadata": {},
     "output_type": "execute_result"
    }
   ],
   "source": [
    "s"
   ]
  },
  {
   "cell_type": "code",
   "execution_count": 407,
   "id": "f5be34c3-f5bd-4378-9b8f-9be486351ba2",
   "metadata": {},
   "outputs": [
    {
     "name": "stdout",
     "output_type": "stream",
     "text": [
      "tensor([ 11.4939+0.0000j, -15.9220+0.0000j,  -3.7557+7.3762j,  -3.7557-7.3762j])\n"
     ]
    }
   ],
   "source": [
    "V = t.randn((4, 4)) * 10\n",
    "# V = t.tensor(\n",
    "#     [[0, 1, 0, 0],\n",
    "#      [1, 0, 0, 0],\n",
    "#      [0, 0, 1, 0],\n",
    "#      [0, 0, 0, 1]]\n",
    "# ).float()\n",
    "print(t.linalg.eig(V)[0])\n",
    "irrep_V = V @ irrep @ t.linalg.inv(V)\n",
    "flat_irrep_V = einops.rearrange(irrep_V, 'n d1 d2 -> n (d1 d2)')\n",
    "Vinv = t.linalg.inv(V)"
   ]
  },
  {
   "cell_type": "code",
   "execution_count": 416,
   "id": "468f8bcc-8b1f-4144-b52c-7b89f8925c9e",
   "metadata": {},
   "outputs": [
    {
     "data": {
      "text/plain": [
       "tensor([0.1161, 0.0060, 0.0008, 0.0083])"
      ]
     },
     "execution_count": 416,
     "metadata": {},
     "output_type": "execute_result"
    }
   ],
   "source": [
    "t.linalg.eig(uM[5])[0].abs()"
   ]
  },
  {
   "cell_type": "code",
   "execution_count": 408,
   "id": "05910dc9-830e-43a0-bd82-4c7450040f2a",
   "metadata": {},
   "outputs": [
    {
     "data": {
      "text/plain": [
       "tensor([[[  1.0000,   1.0000,   1.0000,   1.0000],\n",
       "         [  1.0000,   1.0000,   1.0000,   1.0000],\n",
       "         [  1.0000,   1.0000,   1.0000,   1.0000],\n",
       "         [  1.0000,   1.0000,   1.0000,   1.0000]],\n",
       "\n",
       "        [[  7.0749,   0.1798,  -0.4213,   0.2954],\n",
       "         [  7.0149,   0.2008,  -0.5220,   0.3235],\n",
       "         [  6.7566,   0.1981,  -0.5086,   0.3199],\n",
       "         [  7.0034,   0.2010,  -0.5227,   0.3239]],\n",
       "\n",
       "        [[-33.2675,  -3.9957,  10.3318,  -4.2219],\n",
       "         [-37.8608,  -4.2484,  11.0781,  -4.5452],\n",
       "         [-35.8217,  -4.2262,  10.9912,  -4.5135],\n",
       "         [-37.9236,  -4.2531,  11.0928,  -4.5518]],\n",
       "\n",
       "        [[-13.3000,  -1.2425,   3.1752,  -1.8133],\n",
       "         [-13.9652,  -1.2615,   3.2035,  -1.8582],\n",
       "         [-13.3101,  -1.2612,   3.1970,  -1.8554],\n",
       "         [-13.9583,  -1.2613,   3.2024,  -1.8584]],\n",
       "\n",
       "        [[ -9.3244,  -0.4558,  -0.4954,   0.4828],\n",
       "         [-10.5536,  -0.4801,  -0.4744,   0.5037],\n",
       "         [-10.0512,  -0.4776,  -0.4712,   0.5043],\n",
       "         [-10.5648,  -0.4806,  -0.4738,   0.5037]],\n",
       "\n",
       "        [[ 23.8477,   2.2352, -16.1603,   2.9622],\n",
       "         [ 26.7793,   2.3051, -16.9679,   3.0840],\n",
       "         [ 25.4138,   2.3002, -16.8747,   3.0736],\n",
       "         [ 26.8042,   2.3054, -16.9757,   3.0853]]])"
      ]
     },
     "execution_count": 408,
     "metadata": {},
     "output_type": "execute_result"
    }
   ],
   "source": [
    "lM_flat_V = (t.linalg.inv(flat_irrep_V.T @ flat_irrep_V) @ flat_irrep_V.T @ ln)\n",
    "rM_flat_V = (t.linalg.inv(flat_irrep_V.T @ flat_irrep_V) @ flat_irrep_V.T @ rn)\n",
    "uM_flat_V = (t.linalg.inv(flat_irrep_V.T @ flat_irrep_V) @ flat_irrep_V.T @ un)\n",
    "lM_V = einops.rearrange(lM_flat_V, '(d1 d2) m -> m d1 d2', d1=4, d2=4).mT\n",
    "rM_V = einops.rearrange(rM_flat_V, '(d1 d2) m -> m d1 d2', d1=4, d2=4).mT\n",
    "uM_V = einops.rearrange(uM_flat_V, '(d1 d2) m -> m d1 d2', d1=4, d2=4).mT\n",
    "Z_V = lM_V @ t.linalg.inv(rM_V)\n",
    "(Z_V / Z_V[0])[:6]"
   ]
  },
  {
   "cell_type": "code",
   "execution_count": null,
   "id": "af1149f4-fae3-4ff2-bd4d-57db53fd1f9e",
   "metadata": {},
   "outputs": [],
   "source": [
    "Z_test = "
   ]
  },
  {
   "cell_type": "code",
   "execution_count": null,
   "id": "68ac84e1-501f-46f7-a2a5-2cee5be0834a",
   "metadata": {},
   "outputs": [],
   "source": []
  },
  {
   "cell_type": "code",
   "execution_count": null,
   "id": "93e613ef-6fdc-491e-8d28-86a65d087e8e",
   "metadata": {},
   "outputs": [],
   "source": []
  },
  {
   "cell_type": "code",
   "execution_count": null,
   "id": "749515e6-c8a9-4a18-b82d-340c84f8886b",
   "metadata": {},
   "outputs": [],
   "source": []
  },
  {
   "cell_type": "code",
   "execution_count": 399,
   "id": "fd3fd629-c537-4f78-899d-49b363e36fb3",
   "metadata": {},
   "outputs": [],
   "source": [
    "D = (Z / Z[0])[:,0,:]\n",
    "D = t.stack(\n",
    "    [t.diag(D[i]) for i in range(51)],\n",
    "    dim=0\n",
    ")"
   ]
  },
  {
   "cell_type": "code",
   "execution_count": 400,
   "id": "92afba5f-8c68-4b85-a917-eea33f9b3268",
   "metadata": {},
   "outputs": [],
   "source": [
    "D_V = (Z_V / Z_V[0])[:,0,:]\n",
    "D_V = t.stack(\n",
    "    [t.diag(D_V[i]) for i in range(51)],\n",
    "    dim=0\n",
    ")"
   ]
  },
  {
   "cell_type": "code",
   "execution_count": 401,
   "id": "3cb15543-7e37-4954-b484-0f185b009995",
   "metadata": {},
   "outputs": [
    {
     "data": {
      "text/plain": [
       "tensor(0.0257)"
      ]
     },
     "execution_count": 401,
     "metadata": {},
     "output_type": "execute_result"
    }
   ],
   "source": [
    "(Z[0] @ D - Z).norm() / Z.norm()"
   ]
  },
  {
   "cell_type": "code",
   "execution_count": 402,
   "id": "94a92c03-608f-4efb-bf97-659c62084337",
   "metadata": {},
   "outputs": [
    {
     "data": {
      "text/plain": [
       "tensor(0.0074)"
      ]
     },
     "execution_count": 402,
     "metadata": {},
     "output_type": "execute_result"
    }
   ],
   "source": [
    "((V @ Z @ Vinv)[0] @ D_V - (V @ Z @ Vinv)).norm() / (V @ Z @ Vinv).norm()"
   ]
  },
  {
   "cell_type": "code",
   "execution_count": 403,
   "id": "ce70f4dc-d710-4dc8-b507-e60de71d9124",
   "metadata": {},
   "outputs": [
    {
     "data": {
      "text/plain": [
       "tensor(0.0074)"
      ]
     },
     "execution_count": 403,
     "metadata": {},
     "output_type": "execute_result"
    }
   ],
   "source": [
    "(Z_V[0] @ D_V - Z_V).norm() / Z_V.norm()"
   ]
  },
  {
   "cell_type": "code",
   "execution_count": 404,
   "id": "bda539b2-351b-4121-8a56-92264759ac29",
   "metadata": {},
   "outputs": [
    {
     "data": {
      "text/plain": [
       "tensor(0.0005)"
      ]
     },
     "execution_count": 404,
     "metadata": {},
     "output_type": "execute_result"
    }
   ],
   "source": [
    "(V @ Z @ Vinv - Z_V).norm() / Z_V.norm()"
   ]
  },
  {
   "cell_type": "code",
   "execution_count": 405,
   "id": "8010657e-7f14-42f0-a1a3-e22c03c16221",
   "metadata": {},
   "outputs": [
    {
     "data": {
      "text/plain": [
       "tensor(0.0708)"
      ]
     },
     "execution_count": 405,
     "metadata": {},
     "output_type": "execute_result"
    }
   ],
   "source": [
    "(D - Vinv @ D_V @ V ).norm() / D.norm()"
   ]
  },
  {
   "cell_type": "code",
   "execution_count": 406,
   "id": "6d437851-3ea9-47f5-9ed4-2dae078170e9",
   "metadata": {},
   "outputs": [
    {
     "data": {
      "text/plain": [
       "tensor(0.0256)"
      ]
     },
     "execution_count": 406,
     "metadata": {},
     "output_type": "execute_result"
    }
   ],
   "source": [
    "(Z[0] @ D - Z[0] @ Vinv @ D_V @ V).norm() / Z.norm()"
   ]
  },
  {
   "cell_type": "code",
   "execution_count": 393,
   "id": "7b7f62e5-25c4-4c82-a628-82e722366a93",
   "metadata": {},
   "outputs": [
    {
     "data": {
      "text/plain": [
       "tensor([[  627.8345,  -638.8586,   996.5869,   -16.3778],\n",
       "        [ 1306.7531, -1328.5297,  2067.6055,   -36.4338],\n",
       "        [  204.9614,  -210.0891,   325.9122,    -5.5557],\n",
       "        [-1572.2146,  1599.5956, -2487.4614,    44.2427]])"
      ]
     },
     "execution_count": 393,
     "metadata": {},
     "output_type": "execute_result"
    }
   ],
   "source": [
    "Z[0]"
   ]
  },
  {
   "cell_type": "code",
   "execution_count": 394,
   "id": "72482fa9-421e-4911-b788-b6df25a393c4",
   "metadata": {},
   "outputs": [
    {
     "data": {
      "text/plain": [
       "tensor([[ 287.3898, -199.8011,  206.2957, -229.2969],\n",
       "        [ 601.2207, -421.3229,  429.8129, -476.0015],\n",
       "        [  93.6541,  -64.6972,   67.1711,  -73.9379],\n",
       "        [-721.1352,  504.2894, -516.2930,  572.9823]])"
      ]
     },
     "execution_count": 394,
     "metadata": {},
     "output_type": "execute_result"
    }
   ],
   "source": [
    "Z[1]"
   ]
  },
  {
   "cell_type": "code",
   "execution_count": 386,
   "id": "eb64d94a-ec54-4605-bf21-bac41b5ccb80",
   "metadata": {},
   "outputs": [
    {
     "data": {
      "text/plain": [
       "torch.Size([51, 4, 4])"
      ]
     },
     "execution_count": 386,
     "metadata": {},
     "output_type": "execute_result"
    }
   ],
   "source": [
    "(Vinv @ D_V @ V).shape"
   ]
  },
  {
   "cell_type": "code",
   "execution_count": 376,
   "id": "00776998-712b-42d2-bcad-46a0a4324296",
   "metadata": {},
   "outputs": [
    {
     "data": {
      "text/plain": [
       "tensor([[[ 1.0000,  0.0000,  0.0000,  0.0000],\n",
       "         [ 0.0000,  1.0000,  0.0000,  0.0000],\n",
       "         [ 0.0000,  0.0000,  1.0000,  0.0000],\n",
       "         [ 0.0000,  0.0000,  0.0000,  1.0000]],\n",
       "\n",
       "        [[ 0.2097,  0.0000,  0.0000,  0.0000],\n",
       "         [ 0.0000,  0.5380,  0.0000,  0.0000],\n",
       "         [ 0.0000,  0.0000,  0.0795,  0.0000],\n",
       "         [ 0.0000,  0.0000,  0.0000,  0.3635]],\n",
       "\n",
       "        [[-3.1759,  0.0000,  0.0000,  0.0000],\n",
       "         [ 0.0000, -0.2958,  0.0000,  0.0000],\n",
       "         [ 0.0000,  0.0000, -1.2325,  0.0000],\n",
       "         [ 0.0000,  0.0000,  0.0000,  5.1143]],\n",
       "\n",
       "        [[-1.1582,  0.0000,  0.0000,  0.0000],\n",
       "         [ 0.0000, -1.1380,  0.0000,  0.0000],\n",
       "         [ 0.0000,  0.0000,  0.0666,  0.0000],\n",
       "         [ 0.0000,  0.0000,  0.0000, -1.5572]],\n",
       "\n",
       "        [[-0.4124,  0.0000,  0.0000,  0.0000],\n",
       "         [ 0.0000, -0.0766,  0.0000,  0.0000],\n",
       "         [ 0.0000,  0.0000, -1.8059,  0.0000],\n",
       "         [ 0.0000,  0.0000,  0.0000,  4.5422]]])"
      ]
     },
     "execution_count": 376,
     "metadata": {},
     "output_type": "execute_result"
    }
   ],
   "source": [
    "D_V[:5]"
   ]
  },
  {
   "cell_type": "code",
   "execution_count": null,
   "id": "ace57af3-beee-47b6-9eb0-1e57b21f926d",
   "metadata": {},
   "outputs": [],
   "source": []
  },
  {
   "cell_type": "code",
   "execution_count": 284,
   "id": "40943d1e-6451-4512-a989-ebdc80ea7217",
   "metadata": {},
   "outputs": [
    {
     "data": {
      "text/plain": [
       "tensor(0.5678)"
      ]
     },
     "execution_count": 284,
     "metadata": {},
     "output_type": "execute_result"
    }
   ],
   "source": [
    "(einops.einsum(irrep, lM, 'G d1 d2, neurons d1 d2 -> G neurons') - ln).norm()"
   ]
  },
  {
   "cell_type": "code",
   "execution_count": 278,
   "id": "f01b6c02-a2a2-4ea6-8efc-5df4d24726a5",
   "metadata": {},
   "outputs": [
    {
     "data": {
      "text/plain": [
       "torch.Size([51, 4, 4])"
      ]
     },
     "execution_count": 278,
     "metadata": {},
     "output_type": "execute_result"
    }
   ],
   "source": [
    "lM.shape"
   ]
  },
  {
   "cell_type": "code",
   "execution_count": null,
   "id": "553f3276-7a2e-40c7-aa29-246bf25d558e",
   "metadata": {},
   "outputs": [],
   "source": []
  },
  {
   "cell_type": "code",
   "execution_count": 304,
   "id": "fbbd656a-3c0d-4c2f-959e-38b6f010e90c",
   "metadata": {},
   "outputs": [],
   "source": [
    "Vinv = t.linalg.inv(V)"
   ]
  },
  {
   "cell_type": "code",
   "execution_count": 346,
   "id": "07461de6-1526-4f1e-8815-23d9ec2d9bdc",
   "metadata": {},
   "outputs": [
    {
     "data": {
      "text/plain": [
       "tensor(1.3434)"
      ]
     },
     "execution_count": 346,
     "metadata": {},
     "output_type": "execute_result"
    }
   ],
   "source": [
    "(V @ Z @ Vinv - Z_V).norm() / Z_V.norm()"
   ]
  },
  {
   "cell_type": "code",
   "execution_count": 300,
   "id": "cd9817d7-a356-404a-aca2-01bb5178819b",
   "metadata": {},
   "outputs": [
    {
     "data": {
      "text/plain": [
       "tensor(4.5517)"
      ]
     },
     "execution_count": 300,
     "metadata": {},
     "output_type": "execute_result"
    }
   ],
   "source": [
    "uM.norm()"
   ]
  },
  {
   "cell_type": "code",
   "execution_count": null,
   "id": "dd79be4b-4b00-45ae-814c-04c5de189932",
   "metadata": {},
   "outputs": [],
   "source": []
  },
  {
   "cell_type": "code",
   "execution_count": null,
   "id": "bc9374a3-0bf7-4ef7-8058-c87df7b90307",
   "metadata": {},
   "outputs": [],
   "source": []
  },
  {
   "cell_type": "code",
   "execution_count": null,
   "id": "b05e2597-2eb4-4728-95d4-d6b051c3e996",
   "metadata": {},
   "outputs": [],
   "source": []
  },
  {
   "cell_type": "code",
   "execution_count": null,
   "id": "d3f6071d-9fda-4458-96c1-62e5fad666b2",
   "metadata": {},
   "outputs": [],
   "source": []
  },
  {
   "cell_type": "code",
   "execution_count": null,
   "id": "64d52dee-8f65-4e95-a414-5960975bb775",
   "metadata": {},
   "outputs": [],
   "source": []
  },
  {
   "cell_type": "code",
   "execution_count": 245,
   "id": "dee50d12-8fe3-460b-a8e5-1248200b64d7",
   "metadata": {},
   "outputs": [
    {
     "data": {
      "text/plain": [
       "(tensor([[ 3.7668, -0.7037, -8.6104, -0.8361],\n",
       "         [ 2.1129, -0.3825, -4.8370, -0.4704],\n",
       "         [ 1.6110, -0.2993, -3.6849, -0.3573],\n",
       "         [ 1.3916, -0.2717, -3.1768, -0.3065]]),\n",
       " tensor([[ 12.7343,  -8.4786, -13.9841,  -8.1672],\n",
       "         [ -4.4162,   2.9568,   4.8034,   2.8506],\n",
       "         [  5.3280,  -3.5498,  -5.8457,  -3.4190],\n",
       "         [ 17.2203, -11.4833, -18.8588, -11.0647]]),\n",
       " tensor([[-0.7749,  0.5158,  0.8290,  0.5080],\n",
       "         [-0.5033,  0.3405,  0.5408,  0.3251],\n",
       "         [-0.3342,  0.2208,  0.3618,  0.2174],\n",
       "         [-0.2212,  0.1406,  0.2336,  0.1496]]))"
      ]
     },
     "execution_count": 245,
     "metadata": {},
     "output_type": "execute_result"
    }
   ],
   "source": [
    "lM[0], rM[0], uM[0]"
   ]
  },
  {
   "cell_type": "raw",
   "id": "6c84edb3-09e6-4426-955d-22931c87b974",
   "metadata": {},
   "source": [
    "(tensor([[  4.0833, -11.6324,   4.8140,   7.8994],\n",
    "         [  1.5783,  -4.4949,   1.8607,   3.0547],\n",
    "         [  1.2081,  -3.4535,   1.4323,   2.3360],\n",
    "         [ -0.8431,   2.4094,  -0.9980,  -1.6289]]),\n",
    " tensor([[  6.1961, -17.2420,  14.3285,  22.4259],\n",
    "         [  2.4651,  -6.8585,   5.6983,   8.9194],\n",
    "         [  3.9051, -10.8629,   9.0271,  14.1325],\n",
    "         [ -2.6478,   7.3639,  -6.1214,  -9.5853]]),\n",
    " tensor([[-0.4848,  1.2960, -1.0704, -1.7348],\n",
    "         [-0.1877,  0.5027, -0.4111, -0.6665],\n",
    "         [-0.1350,  0.3498, -0.2859, -0.4796],\n",
    "         [ 0.0973, -0.2516,  0.2062,  0.3450]]))"
   ]
  },
  {
   "cell_type": "code",
   "execution_count": 228,
   "id": "2f360d5c-7275-40fb-a520-a1e22215d96e",
   "metadata": {},
   "outputs": [],
   "source": [
    "# yhat = einops.einsum(lM_flat, flat_irrep, 'dd m, n dd -> n m')\n",
    "# (ln - yhat).norm()**2 / ln.norm()**2"
   ]
  },
  {
   "cell_type": "code",
   "execution_count": 229,
   "id": "6bb2c09a-4413-4172-9835-caa15e059e28",
   "metadata": {},
   "outputs": [],
   "source": [
    "y = einops.rearrange(uM_flat, 'd m -> m d')\n",
    "X = einops.rearrange(lM @ rM, 'm d1 d2 -> m (d1 d2)', d1=4, d2=4)"
   ]
  },
  {
   "cell_type": "code",
   "execution_count": 230,
   "id": "2db665dc-8cdf-4eca-941a-2f48db9aab23",
   "metadata": {},
   "outputs": [
    {
     "data": {
      "text/plain": [
       "(torch.Size([51, 16]), torch.Size([51, 16]))"
      ]
     },
     "execution_count": 230,
     "metadata": {},
     "output_type": "execute_result"
    }
   ],
   "source": [
    "X.shape, y.shape"
   ]
  },
  {
   "cell_type": "code",
   "execution_count": 231,
   "id": "c7c1eaec-38a1-4bd1-937e-c2e81f880034",
   "metadata": {},
   "outputs": [],
   "source": [
    "w = (X * y).sum(-1) / (X * X).sum(-1)\n",
    "yhat = X * w.unsqueeze(1)"
   ]
  },
  {
   "cell_type": "code",
   "execution_count": 232,
   "id": "ca94ff5c-c2ca-466f-92d0-f230d88b790c",
   "metadata": {},
   "outputs": [
    {
     "data": {
      "text/plain": [
       "torch.Size([51, 16])"
      ]
     },
     "execution_count": 232,
     "metadata": {},
     "output_type": "execute_result"
    }
   ],
   "source": [
    "yhat.shape"
   ]
  },
  {
   "cell_type": "code",
   "execution_count": 233,
   "id": "3a469920-8dd2-477f-ba6e-0a5ff09dd0a1",
   "metadata": {},
   "outputs": [
    {
     "data": {
      "text/plain": [
       "tensor([7.0918e-04, 5.2948e-04, 1.3901e-04, 2.8174e-04, 4.0352e-04, 3.3923e-04,\n",
       "        2.1042e-04, 7.1223e-04, 1.4874e-03, 7.0837e-04, 8.5529e-03, 8.7923e-04,\n",
       "        3.6131e-05, 8.1632e-03, 2.5631e-04, 1.0111e-03, 1.7103e-04, 3.0285e-03,\n",
       "        8.4636e-06, 1.8256e-04, 2.8884e-04, 1.7261e-05, 2.3093e-03, 3.5759e-05,\n",
       "        4.1954e-04, 6.2698e-05, 4.1025e-05, 9.4638e-04, 4.3071e-04, 3.3586e-04,\n",
       "        3.4762e-04, 4.9258e-04, 3.1567e-05, 9.5608e-05, 2.1775e-03, 3.4705e-03,\n",
       "        3.3584e-04, 1.7659e-02, 2.8936e-04, 5.2099e-04, 3.6129e-05, 4.9739e-05,\n",
       "        1.9219e-03, 1.3040e-04, 4.2330e-04, 1.7720e-04, 9.6452e-05, 3.5797e-03,\n",
       "        1.2561e-04, 7.1837e-06, 9.9793e-05])"
      ]
     },
     "execution_count": 233,
     "metadata": {},
     "output_type": "execute_result"
    }
   ],
   "source": [
    "(y - yhat).norm(dim=1)**2 / y.norm(dim=1)**2"
   ]
  },
  {
   "cell_type": "code",
   "execution_count": 234,
   "id": "ff836856-b818-4134-8860-6fc7e821ce54",
   "metadata": {},
   "outputs": [],
   "source": [
    "Z = rM @ t.linalg.inv(lM)"
   ]
  },
  {
   "cell_type": "code",
   "execution_count": 235,
   "id": "b129cc9d-4343-4a5e-a519-658856b13f1f",
   "metadata": {},
   "outputs": [
    {
     "data": {
      "text/plain": [
       "tensor([[-1.6099, -1.3201, -0.6047, -1.5886],\n",
       "        [-1.6116, -1.3212, -0.6044, -1.5913],\n",
       "        [-1.6114, -1.3212, -0.6046, -1.5907],\n",
       "        [-1.6114, -1.3213, -0.6050, -1.5904]])"
      ]
     },
     "execution_count": 235,
     "metadata": {},
     "output_type": "execute_result"
    }
   ],
   "source": [
    "(Z / Z[0])[3]"
   ]
  },
  {
   "cell_type": "code",
   "execution_count": 236,
   "id": "9eca9161-050b-4e07-a4e0-a40870370198",
   "metadata": {},
   "outputs": [
    {
     "data": {
      "text/plain": [
       "tensor([[[ 1.0000e+00,  1.0000e+00,  1.0000e+00,  1.0000e+00],\n",
       "         [ 1.0000e+00,  1.0000e+00,  1.0000e+00,  1.0000e+00],\n",
       "         [ 1.0000e+00,  1.0000e+00,  1.0000e+00,  1.0000e+00],\n",
       "         [ 1.0000e+00,  1.0000e+00,  1.0000e+00,  1.0000e+00]],\n",
       "\n",
       "        [[ 4.2833e-01,  4.2068e-01,  2.4864e-01,  2.9846e-01],\n",
       "         [ 4.2732e-01,  4.2520e-01,  2.7356e-01,  3.0248e-01],\n",
       "         [ 4.2746e-01,  4.2431e-01,  2.6882e-01,  3.0165e-01],\n",
       "         [ 4.2782e-01,  4.2322e-01,  2.6231e-01,  3.0065e-01]],\n",
       "\n",
       "        [[ 1.0869e+01,  9.6353e+00,  7.5343e+00,  1.1331e+01],\n",
       "         [ 1.0880e+01,  9.6449e+00,  7.5530e+00,  1.1352e+01],\n",
       "         [ 1.0884e+01,  9.6481e+00,  7.5497e+00,  1.1352e+01],\n",
       "         [ 1.0886e+01,  9.6498e+00,  7.5473e+00,  1.1351e+01]],\n",
       "\n",
       "        [[-1.6099e+00, -1.3201e+00, -6.0468e-01, -1.5886e+00],\n",
       "         [-1.6116e+00, -1.3212e+00, -6.0443e-01, -1.5913e+00],\n",
       "         [-1.6114e+00, -1.3212e+00, -6.0462e-01, -1.5907e+00],\n",
       "         [-1.6114e+00, -1.3213e+00, -6.0500e-01, -1.5904e+00]],\n",
       "\n",
       "        [[ 2.5466e+00,  2.5612e+00,  6.2719e+00,  4.6154e+00],\n",
       "         [ 2.5507e+00,  2.5652e+00,  6.2903e+00,  4.6270e+00],\n",
       "         [ 2.5517e+00,  2.5663e+00,  6.2884e+00,  4.6271e+00],\n",
       "         [ 2.5522e+00,  2.5668e+00,  6.2864e+00,  4.6267e+00]],\n",
       "\n",
       "        [[ 1.9616e+00,  1.9097e+00,  6.3122e+00,  4.6442e+00],\n",
       "         [ 1.9662e+00,  1.9143e+00,  6.3346e+00,  4.6586e+00],\n",
       "         [ 1.9643e+00,  1.9124e+00,  6.3249e+00,  4.6528e+00],\n",
       "         [ 1.9625e+00,  1.9106e+00,  6.3171e+00,  4.6480e+00]],\n",
       "\n",
       "        [[-2.7894e+00, -2.8417e+00, -3.4257e+00, -3.0335e+00],\n",
       "         [-2.7945e+00, -2.8469e+00, -3.4377e+00, -3.0421e+00],\n",
       "         [-2.7957e+00, -2.8482e+00, -3.4371e+00, -3.0424e+00],\n",
       "         [-2.7953e+00, -2.8478e+00, -3.4355e+00, -3.0413e+00]],\n",
       "\n",
       "        [[-9.6833e-01, -1.3271e+00, -7.2360e+00, -4.1333e+00],\n",
       "         [-9.6961e-01, -1.3287e+00, -7.2553e+00, -4.1430e+00],\n",
       "         [-9.6936e-01, -1.3284e+00, -7.2486e+00, -4.1401e+00],\n",
       "         [-9.6903e-01, -1.3281e+00, -7.2430e+00, -4.1376e+00]],\n",
       "\n",
       "        [[-7.4367e+00, -7.2585e+00, -1.1117e+01, -1.0197e+01],\n",
       "         [-7.4481e+00, -7.2694e+00, -1.1149e+01, -1.0222e+01],\n",
       "         [-7.4491e+00, -7.2704e+00, -1.1143e+01, -1.0219e+01],\n",
       "         [-7.4475e+00, -7.2688e+00, -1.1135e+01, -1.0214e+01]],\n",
       "\n",
       "        [[ 5.1831e+00,  5.1817e+00,  1.2823e+01,  9.5621e+00],\n",
       "         [ 5.1912e+00,  5.1897e+00,  1.2860e+01,  9.5857e+00],\n",
       "         [ 5.1934e+00,  5.1918e+00,  1.2856e+01,  9.5859e+00],\n",
       "         [ 5.1943e+00,  5.1928e+00,  1.2853e+01,  9.5852e+00]],\n",
       "\n",
       "        [[ 1.0581e+00, -9.3829e-01, -8.9596e+00, -1.1146e+00],\n",
       "         [ 1.0595e+00, -9.3939e-01, -8.9831e+00, -1.1170e+00],\n",
       "         [ 1.0596e+00, -9.3975e-01, -8.9788e+00, -1.1168e+00],\n",
       "         [ 1.0597e+00, -9.3991e-01, -8.9760e+00, -1.1167e+00]],\n",
       "\n",
       "        [[ 4.0085e-01,  1.2875e-01, -8.5813e-01,  2.1287e-01],\n",
       "         [ 4.0134e-01,  1.2910e-01, -8.5864e-01,  2.1391e-01],\n",
       "         [ 4.0125e-01,  1.2898e-01, -8.5856e-01,  2.1353e-01],\n",
       "         [ 4.0122e-01,  1.2881e-01, -8.5939e-01,  2.1303e-01]],\n",
       "\n",
       "        [[ 1.8421e-01, -8.0427e-01, -6.3789e+00, -1.7839e+00],\n",
       "         [ 1.8420e-01, -8.0514e-01, -6.3935e+00, -1.7875e+00],\n",
       "         [ 1.8428e-01, -8.0491e-01, -6.3878e+00, -1.7862e+00],\n",
       "         [ 1.8430e-01, -8.0473e-01, -6.3837e+00, -1.7853e+00]],\n",
       "\n",
       "        [[ 7.2080e-01, -1.0930e+00, -8.1294e+00, -1.1108e+00],\n",
       "         [ 7.2181e-01, -1.0943e+00, -8.1505e+00, -1.1131e+00],\n",
       "         [ 7.2182e-01, -1.0947e+00, -8.1468e+00, -1.1130e+00],\n",
       "         [ 7.2191e-01, -1.0949e+00, -8.1444e+00, -1.1129e+00]],\n",
       "\n",
       "        [[ 2.2924e+00,  3.9430e+00,  1.5988e+01,  7.3765e+00],\n",
       "         [ 2.2958e+00,  3.9482e+00,  1.6033e+01,  7.3945e+00],\n",
       "         [ 2.2955e+00,  3.9477e+00,  1.6020e+01,  7.3906e+00],\n",
       "         [ 2.2944e+00,  3.9461e+00,  1.6005e+01,  7.3848e+00]],\n",
       "\n",
       "        [[-2.6829e+00, -2.2910e+00, -1.3846e+00, -2.6832e+00],\n",
       "         [-2.6859e+00, -2.2932e+00, -1.3864e+00, -2.6882e+00],\n",
       "         [-2.6857e+00, -2.2931e+00, -1.3859e+00, -2.6871e+00],\n",
       "         [-2.6854e+00, -2.2930e+00, -1.3858e+00, -2.6863e+00]],\n",
       "\n",
       "        [[ 1.1910e-01, -3.7432e-01, -2.5445e+00, -4.8398e-01],\n",
       "         [ 1.1900e-01, -3.7482e-01, -2.5503e+00, -4.8501e-01],\n",
       "         [ 1.1927e-01, -3.7465e-01, -2.5489e+00, -4.8474e-01],\n",
       "         [ 1.1952e-01, -3.7449e-01, -2.5481e+00, -4.8456e-01]],\n",
       "\n",
       "        [[-2.9560e-02, -8.9212e-02,  4.7902e-01,  4.9076e-01],\n",
       "         [-2.9942e-02, -8.9793e-02,  4.7812e-01,  4.9067e-01],\n",
       "         [-2.9491e-02, -8.8977e-02,  4.8122e-01,  4.9205e-01],\n",
       "         [-2.9299e-02, -8.8607e-02,  4.8234e-01,  4.9248e-01]],\n",
       "\n",
       "        [[ 1.1841e-01, -6.2533e-01, -4.9439e+00, -1.4301e+00],\n",
       "         [ 1.1833e-01, -6.2604e-01, -4.9554e+00, -1.4330e+00],\n",
       "         [ 1.1845e-01, -6.2587e-01, -4.9511e+00, -1.4320e+00],\n",
       "         [ 1.1850e-01, -6.2574e-01, -4.9481e+00, -1.4313e+00]],\n",
       "\n",
       "        [[ 4.2418e-01,  1.2149e-01, -1.0290e+00,  1.8364e-01],\n",
       "         [ 4.2470e-01,  1.2185e-01, -1.0298e+00,  1.8467e-01],\n",
       "         [ 4.2460e-01,  1.2172e-01, -1.0297e+00,  1.8428e-01],\n",
       "         [ 4.2456e-01,  1.2155e-01, -1.0304e+00,  1.8377e-01]],\n",
       "\n",
       "        [[ 2.0612e+00,  2.0106e+00,  6.4562e+00,  4.7648e+00],\n",
       "         [ 2.0662e+00,  2.0154e+00,  6.4793e+00,  4.7797e+00],\n",
       "         [ 2.0641e+00,  2.0133e+00,  6.4692e+00,  4.7736e+00],\n",
       "         [ 2.0621e+00,  2.0113e+00,  6.4610e+00,  4.7685e+00]],\n",
       "\n",
       "        [[-3.2748e+01, -1.9862e+01,  2.8752e+01, -2.1090e+01],\n",
       "         [-3.2764e+01, -1.9872e+01,  2.8804e+01, -2.1120e+01],\n",
       "         [-3.2776e+01, -1.9878e+01,  2.8797e+01, -2.1119e+01],\n",
       "         [-3.2773e+01, -1.9876e+01,  2.8782e+01, -2.1111e+01]],\n",
       "\n",
       "        [[ 3.1039e+00,  3.5455e+00,  2.2913e+01,  1.4430e+01],\n",
       "         [ 3.1036e+00,  3.5443e+00,  2.2943e+01,  1.4443e+01],\n",
       "         [ 3.1044e+00,  3.5456e+00,  2.2933e+01,  1.4440e+01],\n",
       "         [ 3.1075e+00,  3.5497e+00,  2.2944e+01,  1.4449e+01]],\n",
       "\n",
       "        [[ 5.8471e+01, -1.1896e+01, -2.9737e+02, -2.2258e+01],\n",
       "         [ 5.8598e+01, -1.1922e+01, -2.9841e+02, -2.2326e+01],\n",
       "         [ 5.8601e+01, -1.1923e+01, -2.9823e+02, -2.2319e+01],\n",
       "         [ 5.8597e+01, -1.1922e+01, -2.9807e+02, -2.2312e+01]],\n",
       "\n",
       "        [[ 1.5005e+00,  1.4280e+00,  4.8647e+00,  3.6979e+00],\n",
       "         [ 1.5020e+00,  1.4293e+00,  4.8781e+00,  3.7064e+00],\n",
       "         [ 1.5026e+00,  1.4298e+00,  4.8755e+00,  3.7056e+00],\n",
       "         [ 1.5028e+00,  1.4301e+00,  4.8735e+00,  3.7049e+00]],\n",
       "\n",
       "        [[ 9.9130e-01,  9.9180e-01,  1.1310e+00,  1.0713e+00],\n",
       "         [ 9.9126e-01,  9.9177e-01,  1.1311e+00,  1.0714e+00],\n",
       "         [ 9.9130e-01,  9.9181e-01,  1.1311e+00,  1.0714e+00],\n",
       "         [ 9.9131e-01,  9.9182e-01,  1.1311e+00,  1.0714e+00]],\n",
       "\n",
       "        [[-1.4196e+01, -1.4664e+01, -1.9447e+01, -1.6331e+01],\n",
       "         [-1.4222e+01, -1.4690e+01, -1.9510e+01, -1.6376e+01],\n",
       "         [-1.4227e+01, -1.4696e+01, -1.9504e+01, -1.6376e+01],\n",
       "         [-1.4224e+01, -1.4693e+01, -1.9492e+01, -1.6369e+01]],\n",
       "\n",
       "        [[ 5.4135e+00,  8.1861e+00,  3.8028e+01,  1.9797e+01],\n",
       "         [ 5.4215e+00,  8.1976e+00,  3.8135e+01,  1.9844e+01],\n",
       "         [ 5.4204e+00,  8.1960e+00,  3.8101e+01,  1.9833e+01],\n",
       "         [ 5.4172e+00,  8.1914e+00,  3.8061e+01,  1.9816e+01]],\n",
       "\n",
       "        [[ 2.1894e+00,  2.1432e+00,  6.8727e+00,  5.0413e+00],\n",
       "         [ 2.1944e+00,  2.1481e+00,  6.8968e+00,  5.0566e+00],\n",
       "         [ 2.1924e+00,  2.1461e+00,  6.8866e+00,  5.0506e+00],\n",
       "         [ 2.1905e+00,  2.1443e+00,  6.8784e+00,  5.0455e+00]],\n",
       "\n",
       "        [[-1.8036e+00,  2.5205e+00,  1.8978e+01,  2.4150e+00],\n",
       "         [-1.8054e+00,  2.5230e+00,  1.9022e+01,  2.4195e+00],\n",
       "         [-1.8047e+00,  2.5222e+00,  1.9003e+01,  2.4178e+00],\n",
       "         [-1.8039e+00,  2.5212e+00,  1.8986e+01,  2.4162e+00]],\n",
       "\n",
       "        [[-1.2669e+00,  1.2765e+00,  1.1237e+01,  1.3729e+00],\n",
       "         [-1.2681e+00,  1.2777e+00,  1.1263e+01,  1.3753e+00],\n",
       "         [-1.2676e+00,  1.2774e+00,  1.1252e+01,  1.3744e+00],\n",
       "         [-1.2671e+00,  1.2769e+00,  1.1242e+01,  1.3735e+00]],\n",
       "\n",
       "        [[-1.5414e+00,  1.8263e+00,  1.5026e+01,  1.9430e+00],\n",
       "         [-1.5428e+00,  1.8280e+00,  1.5061e+01,  1.9465e+00],\n",
       "         [-1.5423e+00,  1.8275e+00,  1.5046e+01,  1.9453e+00],\n",
       "         [-1.5416e+00,  1.8268e+00,  1.5033e+01,  1.9440e+00]],\n",
       "\n",
       "        [[ 2.2873e+00,  7.4409e-01, -4.6278e+00,  1.2435e+00],\n",
       "         [ 2.2907e+00,  7.4469e-01, -4.6431e+00,  1.2461e+00],\n",
       "         [ 2.2896e+00,  7.4487e-01, -4.6353e+00,  1.2455e+00],\n",
       "         [ 2.2891e+00,  7.4508e-01, -4.6304e+00,  1.2452e+00]],\n",
       "\n",
       "        [[ 4.2180e+00,  1.4395e+00, -8.3212e+00,  2.2720e+00],\n",
       "         [ 4.2246e+00,  1.4413e+00, -8.3472e+00,  2.2772e+00],\n",
       "         [ 4.2222e+00,  1.4410e+00, -8.3347e+00,  2.2755e+00],\n",
       "         [ 4.2209e+00,  1.4408e+00, -8.3270e+00,  2.2745e+00]],\n",
       "\n",
       "        [[ 4.1963e-01,  4.1271e-01,  2.4911e-01,  2.9464e-01],\n",
       "         [ 4.1887e-01,  4.1747e-01,  2.7387e-01,  2.9868e-01],\n",
       "         [ 4.1897e-01,  4.1657e-01,  2.6932e-01,  2.9787e-01],\n",
       "         [ 4.1928e-01,  4.1537e-01,  2.6253e-01,  2.9683e-01]],\n",
       "\n",
       "        [[ 1.8178e+00,  1.7678e+00,  5.9851e+00,  4.3938e+00],\n",
       "         [ 1.8221e+00,  1.7720e+00,  6.0061e+00,  4.4073e+00],\n",
       "         [ 1.8203e+00,  1.7702e+00,  5.9970e+00,  4.4018e+00],\n",
       "         [ 1.8187e+00,  1.7686e+00,  5.9896e+00,  4.3973e+00]],\n",
       "\n",
       "        [[-1.4085e+00,  1.6823e+00,  1.3630e+01,  1.7114e+00],\n",
       "         [-1.4098e+00,  1.6839e+00,  1.3662e+01,  1.7144e+00],\n",
       "         [-1.4093e+00,  1.6834e+00,  1.3648e+01,  1.7133e+00],\n",
       "         [-1.4087e+00,  1.6828e+00,  1.3637e+01,  1.7122e+00]],\n",
       "\n",
       "        [[ 1.5827e+00,  1.5208e+00,  4.6683e+00,  3.5767e+00],\n",
       "         [ 1.5842e+00,  1.5221e+00,  4.6814e+00,  3.5850e+00],\n",
       "         [ 1.5848e+00,  1.5228e+00,  4.6789e+00,  3.5843e+00],\n",
       "         [ 1.5851e+00,  1.5230e+00,  4.6769e+00,  3.5836e+00]],\n",
       "\n",
       "        [[ 3.7761e+00,  1.7744e+00, -6.1298e+00,  1.7513e+00],\n",
       "         [ 3.7778e+00,  1.7749e+00, -6.1417e+00,  1.7535e+00],\n",
       "         [ 3.7798e+00,  1.7763e+00, -6.1387e+00,  1.7543e+00],\n",
       "         [ 3.7796e+00,  1.7763e+00, -6.1348e+00,  1.7539e+00]],\n",
       "\n",
       "        [[-3.9304e-01,  9.9080e-01,  9.0125e+00,  2.4479e+00],\n",
       "         [-3.9326e-01,  9.9180e-01,  9.0329e+00,  2.4525e+00],\n",
       "         [-3.9359e-01,  9.9223e-01,  9.0313e+00,  2.4526e+00],\n",
       "         [-3.9374e-01,  9.9236e-01,  9.0288e+00,  2.4523e+00]],\n",
       "\n",
       "        [[ 7.1292e-02, -4.0875e-01, -2.4807e+00, -4.9198e-01],\n",
       "         [ 7.1143e-02, -4.0926e-01, -2.4862e+00, -4.9300e-01],\n",
       "         [ 7.1418e-02, -4.0913e-01, -2.4851e+00, -4.9277e-01],\n",
       "         [ 7.1662e-02, -4.0899e-01, -2.4844e+00, -4.9261e-01]],\n",
       "\n",
       "        [[ 3.5898e+00,  3.1186e+00,  2.1316e+00,  3.6550e+00],\n",
       "         [ 3.5936e+00,  3.1219e+00,  2.1377e+00,  3.6622e+00],\n",
       "         [ 3.5946e+00,  3.1227e+00,  2.1361e+00,  3.6617e+00],\n",
       "         [ 3.5952e+00,  3.1232e+00,  2.1350e+00,  3.6613e+00]],\n",
       "\n",
       "        [[-9.4155e-01, -1.3511e+00, -7.1375e+00, -3.9729e+00],\n",
       "         [-9.4275e-01, -1.3526e+00, -7.1562e+00, -3.9819e+00],\n",
       "         [-9.4253e-01, -1.3524e+00, -7.1498e+00, -3.9793e+00],\n",
       "         [-9.4220e-01, -1.3520e+00, -7.1443e+00, -3.9769e+00]],\n",
       "\n",
       "        [[-3.9630e-01,  9.8428e-01,  9.0202e+00,  2.4556e+00],\n",
       "         [-3.9652e-01,  9.8526e-01,  9.0406e+00,  2.4602e+00],\n",
       "         [-3.9686e-01,  9.8570e-01,  9.0390e+00,  2.4603e+00],\n",
       "         [-3.9702e-01,  9.8582e-01,  9.0366e+00,  2.4600e+00]],\n",
       "\n",
       "        [[-3.1047e+00, -3.0567e+00, -5.3244e+00, -4.5605e+00],\n",
       "         [-3.1095e+00, -3.0613e+00, -5.3396e+00, -4.5716e+00],\n",
       "         [-3.1100e+00, -3.0618e+00, -5.3363e+00, -4.5704e+00],\n",
       "         [-3.1093e+00, -3.0611e+00, -5.3325e+00, -4.5681e+00]],\n",
       "\n",
       "        [[ 1.0291e+00,  1.0400e+00,  7.1104e+00,  4.6815e+00],\n",
       "         [ 1.0299e+00,  1.0411e+00,  7.1248e+00,  4.6881e+00],\n",
       "         [ 1.0282e+00,  1.0396e+00,  7.1071e+00,  4.6774e+00],\n",
       "         [ 1.0266e+00,  1.0381e+00,  7.0917e+00,  4.6678e+00]],\n",
       "\n",
       "        [[ 3.1454e-01, -9.3792e-01, -9.0262e+00, -2.6974e+00],\n",
       "         [ 3.1497e-01, -9.3914e-01, -9.0499e+00, -2.7031e+00],\n",
       "         [ 3.1502e-01, -9.3904e-01, -9.0431e+00, -2.7018e+00],\n",
       "         [ 3.1497e-01, -9.3880e-01, -9.0369e+00, -2.7004e+00]],\n",
       "\n",
       "        [[-1.0805e+01, -1.2587e+01, -7.7085e+01, -4.7744e+01],\n",
       "         [-1.0806e+01, -1.2589e+01, -7.7193e+01, -4.7787e+01],\n",
       "         [-1.0808e+01, -1.2591e+01, -7.7155e+01, -4.7778e+01],\n",
       "         [-1.0817e+01, -1.2600e+01, -7.7184e+01, -4.7808e+01]],\n",
       "\n",
       "        [[ 2.9322e-01, -8.4636e-01, -8.1833e+00, -2.4345e+00],\n",
       "         [ 2.9362e-01, -8.4746e-01, -8.2047e+00, -2.4397e+00],\n",
       "         [ 2.9365e-01, -8.4734e-01, -8.1982e+00, -2.4383e+00],\n",
       "         [ 2.9360e-01, -8.4710e-01, -8.1924e+00, -2.4371e+00]],\n",
       "\n",
       "        [[-6.5112e-01,  2.4030e-01,  5.0166e+00,  8.9853e-01],\n",
       "         [-6.5260e-01,  2.4078e-01,  5.0335e+00,  9.0082e-01],\n",
       "         [-6.5274e-01,  2.4079e-01,  5.0307e+00,  9.0050e-01],\n",
       "         [-6.5279e-01,  2.4069e-01,  5.0278e+00,  8.9999e-01]],\n",
       "\n",
       "        [[ 5.8554e+00,  1.4000e+00, -1.4409e+01,  2.6489e+00],\n",
       "         [ 5.8647e+00,  1.4018e+00, -1.4453e+01,  2.6552e+00],\n",
       "         [ 5.8612e+00,  1.4014e+00, -1.4432e+01,  2.6529e+00],\n",
       "         [ 5.8593e+00,  1.4012e+00, -1.4420e+01,  2.6517e+00]]])"
      ]
     },
     "execution_count": 236,
     "metadata": {},
     "output_type": "execute_result"
    }
   ],
   "source": [
    "Z / Z[0]"
   ]
  },
  {
   "cell_type": "code",
   "execution_count": null,
   "id": "c136e7de-b79d-4296-80ab-6c72c744c46f",
   "metadata": {},
   "outputs": [],
   "source": []
  },
  {
   "cell_type": "code",
   "execution_count": null,
   "id": "07a0106f-e2cf-4cf4-b303-a6a66b36e60c",
   "metadata": {},
   "outputs": [],
   "source": []
  },
  {
   "cell_type": "code",
   "execution_count": null,
   "id": "cde02562-2f37-4788-8373-6b3af3ab6cac",
   "metadata": {},
   "outputs": [],
   "source": []
  },
  {
   "cell_type": "code",
   "execution_count": 8,
   "id": "04184b29-932c-4ecd-8632-babcb5da92d3",
   "metadata": {},
   "outputs": [],
   "source": []
  },
  {
   "cell_type": "code",
   "execution_count": 9,
   "id": "3976e018-0b72-4509-addf-fef74191123c",
   "metadata": {},
   "outputs": [
    {
     "data": {
      "text/plain": [
       "dict_keys(['1d-0', '4d-0', '4d-1', '3d-0', '3d-1', '4d-2', '8d-0', '5d-0', '12d-0'])"
      ]
     },
     "execution_count": 9,
     "metadata": {},
     "output_type": "execute_result"
    }
   ],
   "source": [
    "irreps.keys()"
   ]
  },
  {
   "cell_type": "code",
   "execution_count": 13,
   "id": "5b9bf247-b602-4859-bbbf-8e999e8c3e4c",
   "metadata": {},
   "outputs": [
    {
     "data": {
      "text/plain": [
       "torch.Size([120])"
      ]
     },
     "execution_count": 13,
     "metadata": {},
     "output_type": "execute_result"
    }
   ],
   "source": [
    "S.shape"
   ]
  },
  {
   "cell_type": "code",
   "execution_count": 16,
   "id": "75ab5326-1736-4637-ab95-33c059fe4a3c",
   "metadata": {},
   "outputs": [],
   "source": [
    "irrep_bases = dict()\n",
    "for name, irrep in irreps.items():\n",
    "    irrep = einops.rearrange(irrep, 'N d1 d2 -> N (d1 d2)')\n",
    "    U, S, V = torch.svd(irrep)\n",
    "    nonzero = S > 1e-5\n",
    "    irrep_bases[name] = U[:,nonzero]"
   ]
  },
  {
   "cell_type": "code",
   "execution_count": 17,
   "id": "a10c3cdc-8e18-4e90-b678-254f32a19692",
   "metadata": {},
   "outputs": [
    {
     "name": "stdout",
     "output_type": "stream",
     "text": [
      "1d-0 torch.Size([120, 1])\n",
      "4d-0 torch.Size([120, 4])\n",
      "4d-1 torch.Size([120, 4])\n",
      "3d-0 torch.Size([120, 9])\n",
      "3d-1 torch.Size([120, 9])\n",
      "4d-2 torch.Size([120, 16])\n",
      "8d-0 torch.Size([120, 16])\n",
      "5d-0 torch.Size([120, 25])\n",
      "12d-0 torch.Size([120, 36])\n"
     ]
    }
   ],
   "source": [
    "for k, v in irrep_bases.items():\n",
    "    print(k, v.shape)"
   ]
  },
  {
   "cell_type": "code",
   "execution_count": 18,
   "id": "e92d87e1-4c79-4e07-b4ab-f498c8decf67",
   "metadata": {},
   "outputs": [],
   "source": [
    "lexpl = dict()\n",
    "for name, basis in irrep_bases.items():\n",
    "    proj = basis.T @ lneurons\n",
    "    lexpl[name] = proj.norm(dim=0)**2 / lneurons.norm(dim=0)**2\n",
    "    #lexpl[name] = lexpl[name].nan_to_num(-1.)"
   ]
  },
  {
   "cell_type": "code",
   "execution_count": 19,
   "id": "f924df90-7cff-4ef7-9aa3-ba25ed20f41a",
   "metadata": {},
   "outputs": [],
   "source": [
    "lexpl_total, lirrep = t.stack(list(lexpl.values()), dim=0).max(dim=0)"
   ]
  },
  {
   "cell_type": "code",
   "execution_count": 20,
   "id": "2491041c-1a7b-4769-8cee-7431d1c44c23",
   "metadata": {},
   "outputs": [
    {
     "data": {
      "text/plain": [
       "tensor([0.9653, 0.9648, 1.0000, 0.9718, 1.0000, 0.9315, 0.9656, 1.0000, 0.8626,\n",
       "           nan, 0.9999, 0.9543, 1.0000, 0.9564, 1.0000, 1.0000, 0.9662, 0.9694,\n",
       "        0.9645, 1.0000, 2.6250, 1.0000, 0.9722, 0.9590, 0.9625, 1.0000, 0.9621,\n",
       "           nan, 0.9601,    nan, 0.9646, 0.9591, 0.9687, 0.9668, 0.9626, 0.9636,\n",
       "        0.9433, 0.9729, 0.9650, 0.9609, 0.9772, 0.9682, 0.9649, 0.9643, 1.0000,\n",
       "        0.9648,    nan, 0.9649, 0.9610, 0.9643, 1.0000, 0.9721, 1.0000, 1.0000,\n",
       "        0.9689, 1.0000, 0.9651, 0.9406, 0.9650, 0.9604, 0.9712, 0.9592, 0.9573,\n",
       "           nan, 0.9654, 1.0000, 0.9693, 0.9617, 1.0000, 0.9703, 0.9664, 0.9633,\n",
       "        1.0000, 0.9761, 0.9653, 0.9672,    nan, 0.9693, 0.9355, 1.0000, 0.9759,\n",
       "        0.9647, 0.9614, 0.9702, 0.9654, 0.9698, 0.9664, 0.9657, 0.9691, 0.9681,\n",
       "        0.9682, 0.9788, 1.0000, 0.9639, 0.9591, 0.9705, 1.0000, 0.9640, 0.9612,\n",
       "        0.9739, 0.9572, 0.9691, 0.9675, 0.9685, 0.9566, 0.9462, 0.9761, 0.9674,\n",
       "        0.9655, 0.9684, 0.9636, 0.9610, 0.9619, 0.9681, 0.9603, 0.9704, 0.9656,\n",
       "        0.9736, 1.0000, 1.0000, 0.9684, 0.9705, 0.9708, 0.9733, 0.9605, 0.9504,\n",
       "        0.9592, 0.9664, 1.0000, 0.9619, 0.9646, 0.9692, 1.0000, 0.9708, 0.9667,\n",
       "        0.9580, 1.0000, 0.9655, 0.9620, 1.0000, 0.9708, 0.9687, 1.0000, 1.0000,\n",
       "        0.9999, 0.9596, 0.9506, 0.9697, 1.0000, 1.0000, 0.9537, 0.8685, 0.9617,\n",
       "        1.0000, 0.9666, 0.9571, 0.9675, 0.9678, 0.9696, 0.9589, 0.9630, 0.9673,\n",
       "        0.9606, 0.9717, 0.9647, 0.9661, 0.9665, 0.9616, 0.9756, 0.9625, 0.9704,\n",
       "        0.9658, 0.9726, 0.9591, 0.9619, 0.9582, 0.9699, 0.9649, 1.0000, 0.9656,\n",
       "        0.9542, 0.9758, 0.9677, 0.9675, 0.9644, 0.9657, 0.9641,    nan, 0.9710,\n",
       "        0.9679, 0.9221, 0.9458, 0.9699, 0.9459, 0.9603, 0.9724, 0.9575, 1.0000,\n",
       "        0.9998, 0.9691, 1.0000, 0.9762, 0.9766, 0.9610, 0.9664, 1.0000, 0.9714,\n",
       "        1.0000, 0.9699, 1.0000, 0.9435, 1.0000, 0.9652, 1.0000, 1.0000, 1.0000,\n",
       "        0.9688, 1.0000, 0.9651, 0.9602, 0.9590, 0.9557, 1.0000, 0.9713, 0.9569,\n",
       "        0.9546, 1.0000, 0.9684, 1.0000, 0.9701, 0.9596, 0.9555, 0.9667, 0.9687,\n",
       "        0.9552, 1.0000, 0.9685, 0.9677, 0.9653, 0.9603, 0.9633, 0.9686, 0.9570,\n",
       "           nan, 1.0000, 0.9490, 0.9656, 0.9636, 0.9629, 0.9323, 0.9722,    nan,\n",
       "        1.0000, 0.9654, 1.0000, 0.9713])"
      ]
     },
     "execution_count": 20,
     "metadata": {},
     "output_type": "execute_result"
    }
   ],
   "source": [
    "lexpl_total"
   ]
  },
  {
   "cell_type": "code",
   "execution_count": 21,
   "id": "d27a9f1f-6390-4481-9c5c-f2a47e0115a3",
   "metadata": {},
   "outputs": [],
   "source": [
    "irrep_counts = defaultdict(lambda: 0)\n",
    "for i in range(lexpl_total.shape[0]):\n",
    "    if t.isnan(lexpl_total[i]):\n",
    "        irrep_counts['dead'] += 1\n",
    "    elif lexpl_total[i] < 0.95:\n",
    "        irrep_counts['none'] += 1\n",
    "    else:\n",
    "        irrep_counts[list(lexpl.keys())[lirrep[i]]] += 1\n"
   ]
  },
  {
   "cell_type": "code",
   "execution_count": 22,
   "id": "1b0327cc-1850-4940-9258-f4edff159c7b",
   "metadata": {},
   "outputs": [
    {
     "data": {
      "text/plain": [
       "defaultdict(<function __main__.<lambda>()>,\n",
       "            {'4d-1': 182, '4d-2': 52, 'none': 13, 'dead': 9})"
      ]
     },
     "execution_count": 22,
     "metadata": {},
     "output_type": "execute_result"
    }
   ],
   "source": [
    "irrep_counts"
   ]
  },
  {
   "cell_type": "code",
   "execution_count": 41,
   "id": "f28bc482-98d3-4e9d-829a-006f58522892",
   "metadata": {},
   "outputs": [
    {
     "data": {
      "text/plain": [
       "Parameters(instances=100, embed_dim=256, hidden_size=256, epochs=10000, batch_size=64, batched=False, activation='relu', weight_decay=0.001, lr=0.01, beta1=0.9, beta2=0.98, optimizer='adam', checkpoint=3, name='smallgrp(110, 1)', seed=42, group_string='smallgrp(110, 1)', intersect_frac=1.0, delta_frac=[0.0], train_frac=0.4, save_weights=False, load_weights='', wandb=True, thresh_grok=0.95, project='group generalization', model='MLP3', unembed_bias=False, init_func='kaiming_uniform', correct_embed=False)"
      ]
     },
     "execution_count": 41,
     "metadata": {},
     "output_type": "execute_result"
    }
   ],
   "source": [
    "params"
   ]
  },
  {
   "cell_type": "code",
   "execution_count": 44,
   "id": "f6ec78d8-4fca-4119-8e23-5a97dadd1e0a",
   "metadata": {},
   "outputs": [
    {
     "data": {
      "text/plain": [
       "tensor(0.9998)"
      ]
     },
     "execution_count": 44,
     "metadata": {},
     "output_type": "execute_result"
    }
   ],
   "source": [
    "lexpl['10d-0'][lexpl['10d-0'] > 0.9].min()"
   ]
  },
  {
   "cell_type": "code",
   "execution_count": null,
   "id": "c94da501-8bbf-4846-946e-0efa13960cfc",
   "metadata": {},
   "outputs": [],
   "source": []
  }
 ],
 "metadata": {
  "kernelspec": {
   "display_name": "Python 3 (ipykernel)",
   "language": "python",
   "name": "python3"
  },
  "language_info": {
   "codemirror_mode": {
    "name": "ipython",
    "version": 3
   },
   "file_extension": ".py",
   "mimetype": "text/x-python",
   "name": "python",
   "nbconvert_exporter": "python",
   "pygments_lexer": "ipython3",
   "version": "3.10.12"
  }
 },
 "nbformat": 4,
 "nbformat_minor": 5
}
