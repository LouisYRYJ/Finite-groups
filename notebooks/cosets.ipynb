{
 "cells": [
  {
   "cell_type": "code",
   "execution_count": 1,
   "id": "e204bb32-71ed-44d0-a090-b365f2707e16",
   "metadata": {},
   "outputs": [],
   "source": [
    "import os, sys\n",
    "HOME = os.environ['HOME']  # change if necessary\n",
    "sys.path.append(f'{HOME}/Finite-groups/src')"
   ]
  },
  {
   "cell_type": "code",
   "execution_count": 2,
   "id": "4caa32df-9037-45e3-a8b4-141c697fae47",
   "metadata": {},
   "outputs": [
    {
     "name": "stderr",
     "output_type": "stream",
     "text": [
      "Syntax warning: Unbound global variable in /usr/share/gap/pkg/browse/PackageIn\\\n",
      "fo.g:73\n",
      "  if not IsKernelExtensionAvailable(\"Browse\", \"ncurses\") then\n",
      "         ^^^^^^^^^^^^^^^^^^^^^^^^^^\n",
      "Syntax warning: Unbound global variable in /usr/share/gap/pkg/edim/PackageInfo\\\n",
      ".g:60\n",
      "  if not IsKernelExtensionAvailable(\"EDIM\",\"ediv\") then\n",
      "         ^^^^^^^^^^^^^^^^^^^^^^^^^^\n"
     ]
    }
   ],
   "source": [
    "import torch as t\n",
    "import numpy as np\n",
    "from matplotlib import pyplot as plt\n",
    "import json\n",
    "from itertools import product\n",
    "from jaxtyping import Float\n",
    "from torch.utils.data import DataLoader\n",
    "from tqdm.notebook import tqdm\n",
    "import plotly.graph_objects as go\n",
    "import copy\n",
    "import math\n",
    "from itertools import product\n",
    "import pandas as pd\n",
    "from typing import Union\n",
    "from einops import repeat\n",
    "from huggingface_hub import snapshot_download\n",
    "from huggingface_hub.utils import disable_progress_bars\n",
    "\n",
    "\n",
    "from model import MLP3, MLP4, InstancedModule\n",
    "from utils import *\n",
    "from group_data import *\n",
    "from model_utils import *\n",
    "from group_utils import *\n",
    "%load_ext autoreload\n",
    "%autoreload 2"
   ]
  },
  {
   "cell_type": "code",
   "execution_count": 18,
   "id": "841a65d7-8b26-4c01-af57-5d37a9740bdc",
   "metadata": {},
   "outputs": [
    {
     "name": "stdout",
     "output_type": "stream",
     "text": [
      "Intersection size: 14400/14400 (1.00)\n",
      "Added 14400 elements from intersection\n",
      "Added 0 elements from group 0: smallgrp(120, 5)\n",
      "Taking random subset: 5760/14400 (0.40)\n",
      "Train set size: 5760/14400 (0.40)\n"
     ]
    },
    {
     "name": "stderr",
     "output_type": "stream",
     "text": [
      "/home/wilson/Finite-groups/src/model_utils.py:48: FutureWarning: You are using `torch.load` with `weights_only=False` (the current default value), which uses the default pickle module implicitly. It is possible to construct malicious pickle data which will execute arbitrary code during unpickling (See https://github.com/pytorch/pytorch/blob/main/SECURITY.md#untrusted-models for more details). In a future release, the default value for `weights_only` will be flipped to `True`. This limits the functions that could be executed during unpickling. Arbitrary objects will no longer be allowed to be loaded via this mode unless they are explicitly allowlisted by the user via `torch.serialization.add_safe_globals`. We recommend you start setting `weights_only=True` for any use case where you don't have full control of the loaded file. Please open an issue on GitHub for any issues related to this experimental feature.\n",
      "  model.load_state_dict(t.load(model_path, map_location=device))\n"
     ]
    }
   ],
   "source": [
    "device = t.device(\"cuda\" if t.cuda.is_available() else \"cpu\")\n",
    "MODEL_DIR = '2024-08-16_22-53-29_SL2_5_MLP3_256'\n",
    "#MODEL_DIR = '2024-08-14_21-24-30_gapS_5_'\n",
    "#MODEL_DIR = '2024-08-27_16-32-46_Dic30_MLP3_128'\n",
    "#MODEL_DIR = '2024-08-27_23-16-05_F11_MLP3_256'\n",
    "disable_progress_bars()\n",
    "local_dir = f'{HOME}/models/{MODEL_DIR}'\n",
    "if not os.path.exists(local_dir):\n",
    "    snapshot_download(repo_id=f'wiwu2390/{MODEL_DIR}', local_dir=local_dir)\n",
    "models, params = load_models(local_dir, sel='final')\n",
    "data = GroupData(params)\n",
    "group = data.groups[0]"
   ]
  },
  {
   "cell_type": "code",
   "execution_count": 19,
   "id": "b4c3010a-fd0a-4f0a-bc83-512976c6a6cf",
   "metadata": {},
   "outputs": [],
   "source": [
    "def part_var(x, part, dim):\n",
    "    '''\n",
    "    Computes E[var(x | part)] / var(x), where part is a partition of x along dim.\n",
    "    By the law of total variance, this quantity is in [0, 1].\n",
    "    Stander et al instead compute (\\sum_part var(x | part)) / var(x), which is less principled.\n",
    "    '''\n",
    "    part = list(map(list, part))\n",
    "    assert sorted(sum(part, [])) == list(range(x.shape[dim])), \"part must be a partition of x along dim\"\n",
    "    denom = x.var(dim=dim, correction=0)\n",
    "    num = sum(\n",
    "        x.index_select(dim, t.Tensor(p).int().to(x.device)).var(dim=dim, correction=0) * (len(p) / x.shape[dim])\n",
    "        for p in part\n",
    "    )\n",
    "    return (num / denom).nan_to_num(nan=0.)"
   ]
  },
  {
   "cell_type": "code",
   "execution_count": 20,
   "id": "f3debd6b-3d05-496c-a2c4-a207bb39e13f",
   "metadata": {},
   "outputs": [
    {
     "name": "stdout",
     "output_type": "stream",
     "text": [
      "Computing subgroups from gap_repr\n"
     ]
    },
    {
     "name": "stderr",
     "output_type": "stream",
     "text": [
      "Computing orders: 100%|███████████████████████| 12/12 [00:00<00:00, 2511.81it/s]\n",
      "Computing elements: 100%|██████████████████████| 10/10 [00:00<00:00, 116.07it/s]\n"
     ]
    }
   ],
   "source": [
    "subgroups = group.get_subgroups_idx()"
   ]
  },
  {
   "cell_type": "code",
   "execution_count": 21,
   "id": "1fd59cee-7349-45ae-abfd-e94e4d1773c6",
   "metadata": {},
   "outputs": [
    {
     "data": {
      "text/plain": [
       "dict_keys(['1', 'SL(2,5)', 'C2_0', 'C3_0', 'C3_1', 'C3_2', 'C3_3', 'C3_4', 'C3_5', 'C3_6', 'C3_7', 'C3_8', 'C3_9', 'C4_0', 'C4_1', 'C4_2', 'C4_3', 'C4_4', 'C4_5', 'C4_6', 'C4_7', 'C4_8', 'C4_9', 'C4_10', 'C4_11', 'C4_12', 'C4_13', 'C4_14', 'C5_0', 'C5_1', 'C5_2', 'C5_3', 'C5_4', 'C5_5', 'C6_0', 'C6_1', 'C6_2', 'C6_3', 'C6_4', 'C6_5', 'C6_6', 'C6_7', 'C6_8', 'C6_9', 'Q8_0', 'Q8_1', 'Q8_2', 'Q8_3', 'Q8_4', 'C10_0', 'C10_1', 'C10_2', 'C10_3', 'C10_4', 'C10_5', 'C3:C4_0', 'C3:C4_1', 'C3:C4_2', 'C3:C4_3', 'C3:C4_4', 'C3:C4_5', 'C3:C4_6', 'C3:C4_7', 'C3:C4_8', 'C3:C4_9', 'C5:C4_0', 'C5:C4_1', 'C5:C4_2', 'C5:C4_3', 'C5:C4_4', 'C5:C4_5', 'SL(2,3)_0', 'SL(2,3)_1', 'SL(2,3)_2', 'SL(2,3)_3', 'SL(2,3)_4'])"
      ]
     },
     "execution_count": 21,
     "metadata": {},
     "output_type": "execute_result"
    }
   ],
   "source": [
    "subgroups.keys()"
   ]
  },
  {
   "cell_type": "code",
   "execution_count": 8,
   "id": "8636aea5-f589-44c2-8c12-69aa67d51bd8",
   "metadata": {},
   "outputs": [],
   "source": [
    "left_cosets = {\n",
    "    name: data.groups[0].get_cosets_idx(subgroup, left=True)\n",
    "    for name, subgroup in subgroups.items()\n",
    "}\n",
    "right_cosets = {\n",
    "    name: data.groups[0].get_cosets_idx(subgroup, left=False)\n",
    "    for name, subgroup in subgroups.items()\n",
    "}"
   ]
  },
  {
   "cell_type": "code",
   "execution_count": 9,
   "id": "7a946ed7-6a87-4a8b-a506-8bbff6859215",
   "metadata": {},
   "outputs": [
    {
     "data": {
      "text/plain": [
       "0"
      ]
     },
     "execution_count": 9,
     "metadata": {},
     "output_type": "execute_result"
    }
   ],
   "source": [
    "loss_dict = test_loss(models[-1].to(device), data)\n",
    "instance = loss_dict['G0_acc'].argmax().item()\n",
    "model = models[0][instance]\n",
    "instance"
   ]
  },
  {
   "cell_type": "code",
   "execution_count": 10,
   "id": "3e1f217d-bc2b-4610-b5d9-23fb0dd050b1",
   "metadata": {},
   "outputs": [],
   "source": [
    "left_neurons, right_neurons = model.get_neurons()\n",
    "left_neurons = left_neurons.squeeze(0)\n",
    "right_neurons = right_neurons.squeeze(0)\n",
    "unembed = model.unembedding.data.squeeze(0)"
   ]
  },
  {
   "cell_type": "code",
   "execution_count": 11,
   "id": "f1ef6093-6f0f-4a14-b244-6dc46e78538b",
   "metadata": {},
   "outputs": [],
   "source": [
    "# hypothesis is that left neurons are constant on *right* cosets\n",
    "left_coset_vars = {\n",
    "    name: part_var(left_neurons, right_cosets[name], dim=0)\n",
    "    for name in right_cosets.keys()\n",
    "}"
   ]
  },
  {
   "cell_type": "code",
   "execution_count": 16,
   "id": "976c4592-3ac1-493f-ada2-0dd5a37d80ac",
   "metadata": {},
   "outputs": [],
   "source": [
    "left_neuron_cosets = dict()\n",
    "for neuron in range(left_neurons.shape[1]):\n",
    "    left_neuron_cosets[neuron] = None\n",
    "    for name, subgroup in subgroups.items():\n",
    "        if left_coset_vars[name][neuron] < 0.01:\n",
    "            if left_neuron_cosets[neuron] is None or len(left_neuron_cosets[neuron]) < len(subgroup):\n",
    "                left_neuron_cosets[neuron] = name"
   ]
  },
  {
   "cell_type": "code",
   "execution_count": 17,
   "id": "db97b393-246d-435c-8b2a-8faaa3f4c3a8",
   "metadata": {},
   "outputs": [
    {
     "data": {
      "text/plain": [
       "defaultdict(<function __main__.<lambda>()>,\n",
       "            {'C10_3': 15,\n",
       "             'C11_0': 14,\n",
       "             'C10_1': 13,\n",
       "             '1': 77,\n",
       "             'C10_10': 15,\n",
       "             'C10_8': 15,\n",
       "             'C10_2': 15,\n",
       "             'C10_4': 15,\n",
       "             'C10_5': 16,\n",
       "             'C10_6': 17,\n",
       "             'C10_9': 12,\n",
       "             'C10_0': 14,\n",
       "             'C10_7': 16,\n",
       "             'C11:C5_0': 2})"
      ]
     },
     "execution_count": 17,
     "metadata": {},
     "output_type": "execute_result"
    }
   ],
   "source": [
    "subgroup_counts = defaultdict(lambda: 0)\n",
    "for name in left_neuron_cosets.values():\n",
    "    subgroup_counts[name] += 1    \n",
    "subgroup_counts"
   ]
  },
  {
   "cell_type": "code",
   "execution_count": 30,
   "id": "4a23c5f9-cd70-4923-a7a9-58798cb1dd75",
   "metadata": {},
   "outputs": [],
   "source": [
    "coset_neurons = [i for i, name in left_neuron_cosets.items() if 'SL(2,3)' in name]"
   ]
  },
  {
   "cell_type": "code",
   "execution_count": 31,
   "id": "9e01e130-8d86-45e8-befc-928c52beeb7d",
   "metadata": {},
   "outputs": [
    {
     "data": {
      "text/plain": [
       "62"
      ]
     },
     "execution_count": 31,
     "metadata": {},
     "output_type": "execute_result"
    }
   ],
   "source": [
    "len(coset_neurons)"
   ]
  },
  {
   "cell_type": "code",
   "execution_count": 52,
   "id": "b4376d69-1bfc-46fb-9090-79e983255b9f",
   "metadata": {},
   "outputs": [],
   "source": [
    "irrep1_neurons = [0,1,3,6,11,13,16,17,18,20,22,23,24,26,28,30,31,32,33,34,35,37,38,39,40,41,42,43,45,47,48,49,51,54,56,58,59,60,61,62,64,66,67,69,70,71,73,74,75,77,80,81,82,83,84,85,86,87,88,89,90,91,93,94,95,97,98,99,100,101,102,103,104,106,107,108,109,110,111,112,113,114,115,116,117,120,121,122,123,124,125,126,127,129,130,131,133,134,135,137,138,140,141,145,146,147,150,152,154,155,156,157,158,159,160,161,162,163,164,165,166,167,168,169,170,171,172,173,174,175,176,177,179,180,181,182,183,184,185,186,188,189,192,194,195,196,199,201,202,203,204,206,208,212,216,218,219,220,221,223,224,225,227,229,230,231,232,233,234,236,237,238,239,240,241,242,246,247,248,250,253,255]"
   ]
  },
  {
   "cell_type": "code",
   "execution_count": 38,
   "id": "c86e64a5-85ac-4830-9180-d2de5954b089",
   "metadata": {},
   "outputs": [],
   "source": [
    "irrep2_neurons = [2, 4, 7, 10, 12, 14, 15, 19, 21, 25, 44, 50, 52, 53, 55, 65, 68, 72, 79, 92, 96, 118, 119, 128, 132, 136, 139, 142, 143, 144, 148, 149, 153, 178, 197, 198, 200, 205, 207, 209, 211, 213, 214, 215, 217, 222, 226, 228, 235, 244, 252, 254]"
   ]
  },
  {
   "cell_type": "code",
   "execution_count": 34,
   "id": "445c6398-ac3a-4b3d-b8e0-3dcee6fbede2",
   "metadata": {},
   "outputs": [
    {
     "data": {
      "text/plain": [
       "52"
      ]
     },
     "execution_count": 34,
     "metadata": {},
     "output_type": "execute_result"
    }
   ],
   "source": [
    "len(set(coset_neurons) & set(irrep2_neurons))"
   ]
  },
  {
   "cell_type": "code",
   "execution_count": null,
   "id": "4dedd041-b382-46cd-aee4-af699d8c8a03",
   "metadata": {},
   "outputs": [],
   "source": []
  },
  {
   "cell_type": "code",
   "execution_count": 53,
   "id": "ad6619b5-2fd8-4d90-905f-ebc57857e3b7",
   "metadata": {},
   "outputs": [],
   "source": [
    "ablate_model = copy.deepcopy(model)"
   ]
  },
  {
   "cell_type": "code",
   "execution_count": 54,
   "id": "71893454-2c9e-41cc-8d97-832810e81212",
   "metadata": {},
   "outputs": [],
   "source": [
    "ablate_model.unembedding.data[0,irrep1_neurons,:] = 0."
   ]
  },
  {
   "cell_type": "code",
   "execution_count": 55,
   "id": "83ec1c02-c8cf-4cf5-9d9a-bd04639d0b52",
   "metadata": {},
   "outputs": [],
   "source": [
    "loss_dict = test_loss(model.to(device), data)\n",
    "ablate_loss_dict = test_loss(ablate_model.to(device), data)"
   ]
  },
  {
   "cell_type": "code",
   "execution_count": 56,
   "id": "817b4590-1d51-40c1-b615-9badfd89b0df",
   "metadata": {},
   "outputs": [
    {
     "data": {
      "text/plain": [
       "(tensor([0.9995], device='cuda:0'), tensor([0.5283], device='cuda:0'))"
      ]
     },
     "execution_count": 56,
     "metadata": {},
     "output_type": "execute_result"
    }
   ],
   "source": [
    "loss_dict['G0_acc'], ablate_loss_dict['G0_acc']"
   ]
  },
  {
   "cell_type": "code",
   "execution_count": null,
   "id": "77f4b847-6320-478f-bb4a-6de3fb2a9771",
   "metadata": {},
   "outputs": [],
   "source": [
    "loss_dict['G0_acc'], ablate_loss_dict['G0_acc']"
   ]
  },
  {
   "cell_type": "code",
   "execution_count": null,
   "id": "f8a0032f-0262-4eb2-a74f-dab9987374e4",
   "metadata": {},
   "outputs": [],
   "source": []
  },
  {
   "cell_type": "code",
   "execution_count": null,
   "id": "024ec85e-faf6-4fcb-9cfd-69d7fadfca84",
   "metadata": {},
   "outputs": [],
   "source": []
  },
  {
   "cell_type": "code",
   "execution_count": 59,
   "id": "9e3314a1-b870-44fc-a219-e4383482504c",
   "metadata": {},
   "outputs": [],
   "source": [
    "class Abs(nn.Module):\n",
    "    def __init__(self, scale):\n",
    "        super().__init__()\n",
    "        self.scale = scale\n",
    "\n",
    "    def forward(self, input: t.Tensor) -> t.Tensor:\n",
    "        return t.abs(input) * self.scale"
   ]
  },
  {
   "cell_type": "code",
   "execution_count": 61,
   "id": "c05d45fd-5344-400a-b357-1ad14e86070c",
   "metadata": {},
   "outputs": [],
   "source": [
    "abs_model = copy.deepcopy(model)\n",
    "abs_model.activation = Abs(scale=1.)"
   ]
  },
  {
   "cell_type": "code",
   "execution_count": 66,
   "id": "11860522-a622-4f2e-9662-4f4b8fe047f4",
   "metadata": {},
   "outputs": [
    {
     "data": {
      "text/plain": [
       "(tensor([0.9818], device='cuda:0'), tensor([0.1473], device='cuda:0'))"
      ]
     },
     "execution_count": 66,
     "metadata": {},
     "output_type": "execute_result"
    }
   ],
   "source": [
    "ablate_model = copy.deepcopy(abs_model)\n",
    "ablate_model.unembedding.data[0,coset_neurons,:] = 0.\n",
    "loss_dict = test_loss(abs_model.to(device), data)\n",
    "ablate_loss_dict = test_loss(ablate_model.to(device), data)\n",
    "loss_dict['G0_acc'], ablate_loss_dict['G0_acc']"
   ]
  },
  {
   "cell_type": "code",
   "execution_count": null,
   "id": "b73a22e8-7230-4d8b-9881-570465ecdd41",
   "metadata": {},
   "outputs": [],
   "source": []
  },
  {
   "cell_type": "code",
   "execution_count": null,
   "id": "935829b7-c528-409d-82f1-3449f7cb22de",
   "metadata": {},
   "outputs": [],
   "source": []
  },
  {
   "cell_type": "code",
   "execution_count": 58,
   "id": "8632f081-cc76-4f82-9623-0e02a5ff523a",
   "metadata": {},
   "outputs": [
    {
     "data": {
      "text/plain": [
       "torch.Size([182, 120])"
      ]
     },
     "execution_count": 58,
     "metadata": {},
     "output_type": "execute_result"
    }
   ],
   "source": [
    "ablate_model.unembedding.data[0,irrep1_neurons,:].shape"
   ]
  },
  {
   "cell_type": "code",
   "execution_count": 37,
   "id": "4cf98e9e-7abc-4842-ac96-d0592a494c97",
   "metadata": {},
   "outputs": [
    {
     "data": {
      "text/plain": [
       "'2, 4, 7, 10, 12, 14, 15, 19, 21, 25, 44, 50, 52, 53, 55, 65, 68, 72, 79, 92, 96, 118, 119, 128, 132, 136, 139, 142, 143, 144, 148, 149, 153, 178, 197, 198, 200, 205, 207, 209, 211, 213, 214, 215, 217, 222, 226, 228, 235, 244, 252, 254'"
      ]
     },
     "execution_count": 37,
     "metadata": {},
     "output_type": "execute_result"
    }
   ],
   "source": []
  },
  {
   "cell_type": "code",
   "execution_count": null,
   "id": "00369daa-86eb-4688-836e-1864e56196d7",
   "metadata": {},
   "outputs": [],
   "source": []
  },
  {
   "cell_type": "markdown",
   "id": "8e3c12cb-6e21-4cdb-b0f5-717df2df6a2c",
   "metadata": {},
   "source": []
  },
  {
   "cell_type": "markdown",
   "id": "637a474d-882b-40dc-af22-44b614dcb615",
   "metadata": {},
   "source": [
    "### stuff for intersection of multiple groups"
   ]
  },
  {
   "cell_type": "code",
   "execution_count": 7,
   "id": "518e343b-3db5-4c00-9227-91272c8dbb0b",
   "metadata": {},
   "outputs": [],
   "source": [
    "subgroups = {\n",
    "    i: {sg for sg in data.groups[i].get_subgroups_idx()}\n",
    "    for i in range(len(data.groups))\n",
    "}"
   ]
  },
  {
   "cell_type": "code",
   "execution_count": null,
   "id": "8873b5cc-75cb-4e6a-819d-c3070a84826d",
   "metadata": {},
   "outputs": [],
   "source": [
    "left_cosets = {\n",
    "    i: {\n",
    "        subgroup: data.groups[i].get_cosets_idx(subgroup, left=True)\n",
    "        for subgroup in subgroups[i]\n",
    "    }\n",
    "    for i in range(len(data.groups))\n",
    "}\n",
    "right_cosets = {\n",
    "    i: {\n",
    "        subgroup: data.groups[i].get_cosets_idx(subgroup, left=False)\n",
    "        for subgroup in subgroups[i]\n",
    "    }\n",
    "    for i in range(len(data.groups))\n",
    "}"
   ]
  },
  {
   "cell_type": "code",
   "execution_count": 9,
   "id": "05c3a375-faf1-4b21-8f0b-42ffa68c4269",
   "metadata": {},
   "outputs": [],
   "source": [
    "loss_dict = test_loss(models[-1].to(device), data)"
   ]
  },
  {
   "cell_type": "code",
   "execution_count": 10,
   "id": "b6868c6b-ce0a-4e64-b06f-4cdfe81b94e6",
   "metadata": {},
   "outputs": [
    {
     "data": {
      "text/plain": [
       "19"
      ]
     },
     "execution_count": 10,
     "metadata": {},
     "output_type": "execute_result"
    }
   ],
   "source": [
    "instance = loss_dict['G0_loss'].argmin().item()\n",
    "model = models[0][instance]\n",
    "instance"
   ]
  },
  {
   "cell_type": "code",
   "execution_count": 11,
   "id": "e7d2d946-0367-40e7-8da0-0586bc5017da",
   "metadata": {},
   "outputs": [],
   "source": [
    "left_neurons, right_neurons = model.get_neurons()\n",
    "left_neurons = left_neurons.squeeze(0)\n",
    "right_neurons = right_neurons.squeeze(0)\n",
    "unembed = model.unembedding.data.squeeze(0)"
   ]
  },
  {
   "cell_type": "code",
   "execution_count": 12,
   "id": "8f4851d1-30e9-41ea-a6f5-bea521d1e40a",
   "metadata": {},
   "outputs": [],
   "source": [
    "# hypothesis is that left neurons are constant on *right* cosets\n",
    "left_coset_vars = {\n",
    "    i: {\n",
    "        subgroup: part_var(left_neurons, right_cosets[i][subgroup], dim=0)\n",
    "        for subgroup in right_cosets[i].keys()\n",
    "    }\n",
    "    for i in range(len(data.groups))\n",
    "}"
   ]
  },
  {
   "cell_type": "code",
   "execution_count": 13,
   "id": "5c192b7d-6daa-4174-9b6d-3f7682e611c1",
   "metadata": {},
   "outputs": [],
   "source": [
    "left_neuron_cosets = dict()\n",
    "group = 0\n",
    "for neuron in range(left_neurons.shape[1]):\n",
    "    left_neuron_cosets[neuron] = None\n",
    "    for subgroup in subgroups[group]:\n",
    "        if left_coset_vars[group][subgroup][neuron] < 0.05:\n",
    "            if left_neuron_cosets[neuron] is None or len(left_neuron_cosets[neuron]) < len(subgroup):\n",
    "                left_neuron_cosets[neuron] = subgroup"
   ]
  },
  {
   "cell_type": "code",
   "execution_count": 14,
   "id": "9829ba77-bd28-459f-97b1-d9ed4ae6123e",
   "metadata": {},
   "outputs": [],
   "source": [
    "named_subgroups = {}\n",
    "order_counts = defaultdict(lambda: 0)\n",
    "for s in subgroups[0]:\n",
    "    named_subgroups[s] = f'{len(s)}^{order_counts[len(s)]}'\n",
    "    order_counts[len(s)] += 1"
   ]
  },
  {
   "cell_type": "code",
   "execution_count": 34,
   "id": "5411f88d-6c62-4772-87d5-42165b51e66a",
   "metadata": {},
   "outputs": [],
   "source": [
    "# named_subgroups = {\n",
    "#     # [s for s in subgroups[0] if len(s) == 1][0]: 'e',\n",
    "#     # [s for s in subgroups[0] if len(s) == 60][0]: 'A5',\n",
    "#     # [s for s in subgroups[0] if len(s) == 120][0]: 'S5',\n",
    "# }\n",
    "# A4_count = 0\n",
    "# S4_count = 0\n",
    "# order_counts = defaultdict(lambda: 0)\n",
    "# for s in subgroups[0]:\n",
    "#     # if len(s) == 24:\n",
    "#     #     named_subgroups[s] = f'S_4^{S4_count}'  # not the correct index but whatever\n",
    "#     #     S4_count += 1\n",
    "#     # elif len(s) == 12:\n",
    "#     #     named_subgroups[s] = f'A_4^{A4_count}'  # not the correct index but whatever\n",
    "#     #     A4_count += 1\n",
    "#     # elif len(s) not in [1, 60, 120]:\n",
    "#     named_subgroups[s] = f'{len(s)}^{order_counts[len(s)]}'\n",
    "#     order_counts[len(s)] += 1\n",
    "        "
   ]
  },
  {
   "cell_type": "code",
   "execution_count": 15,
   "id": "c579e303-c8a9-446c-8d5d-ee6fa6706da2",
   "metadata": {},
   "outputs": [
    {
     "data": {
      "text/plain": [
       "dict_values(['4^0', '24^0', '4^1', '5^0', '20^0', '12^0', '20^1', '8^0', '12^1', '10^0', '12^2', '4^2', '4^3', '6^0', '10^1', '12^3', '20^2', '8^1', '3^0', '10^2', '4^4', '4^5', '3^1', '5^1', '5^2', '5^3', '6^1', '4^6', '4^7', '24^1', '4^8', '12^4', '12^5', '20^3', '6^2', '3^2', '20^4', '8^2', '120^0', '6^3', '12^6', '5^4', '8^3', '6^4', '8^4', '3^3', '10^3', '24^2', '5^5', '20^5', '4^9', '12^7', '12^8', '12^9', '3^4', '10^4', '24^3', '3^5', '3^6', '3^7', '4^10', '6^5', '6^6', '3^8', '10^5', '2^0', '4^11', '6^7', '4^12', '4^13', '6^8', '24^4', '4^14', '6^9', '1^0', '3^9'])"
      ]
     },
     "execution_count": 15,
     "metadata": {},
     "output_type": "execute_result"
    }
   ],
   "source": [
    "named_subgroups.values()"
   ]
  },
  {
   "cell_type": "code",
   "execution_count": 16,
   "id": "d615b336-102b-47b3-8a81-4266ad39e087",
   "metadata": {},
   "outputs": [
    {
     "data": {
      "text/plain": [
       "defaultdict(<function __main__.<lambda>()>,\n",
       "            {'1^0': 193,\n",
       "             '24^1': 13,\n",
       "             '24^4': 11,\n",
       "             '24^3': 11,\n",
       "             '120^0': 10,\n",
       "             '24^2': 8,\n",
       "             '24^0': 9,\n",
       "             '8^0': 1})"
      ]
     },
     "execution_count": 16,
     "metadata": {},
     "output_type": "execute_result"
    }
   ],
   "source": [
    "subgroup_counts = defaultdict(lambda: 0)\n",
    "for subgroup in left_neuron_cosets.values():\n",
    "    subgroup_counts[named_subgroups[subgroup]] += 1    \n",
    "subgroup_counts"
   ]
  },
  {
   "cell_type": "code",
   "execution_count": 22,
   "id": "b2ca4e55-b1df-4f98-bfe7-a8a1e72e2eb6",
   "metadata": {},
   "outputs": [
    {
     "data": {
      "text/plain": [
       "15"
      ]
     },
     "execution_count": 22,
     "metadata": {},
     "output_type": "execute_result"
    }
   ],
   "source": [
    "sum(v for k, v in subgroup_counts.items() if k[:2] == '22')"
   ]
  },
  {
   "cell_type": "code",
   "execution_count": 35,
   "id": "374bedfb-bcc0-46d2-b987-3a001144225b",
   "metadata": {},
   "outputs": [
    {
     "data": {
      "text/plain": [
       "tensor([ 1.4387, -1.3587, -0.5878,  1.3946, -0.9514, -1.3291,  1.3779, -0.1067,\n",
       "        -1.3367,  1.4713,  0.5336, -1.3958,  1.4846,  1.1526, -1.4805,  0.8456,\n",
       "         1.4523, -1.3150, -0.1339,  1.4530, -1.3726, -0.8427,  1.3948, -1.0892,\n",
       "        -1.3235,  1.3824, -0.2205, -1.3608,  1.4080,  0.3538, -1.4622,  1.4078,\n",
       "         0.9273, -1.3610,  0.5298,  1.3975, -1.4515, -0.2364,  1.3996, -1.2899,\n",
       "        -0.8234,  1.4117, -1.1671, -1.2806,  1.2976,  0.0364, -1.4376,  1.3411,\n",
       "         0.5346, -1.3954,  1.1754,  0.9966, -1.3593,  0.8908,  1.3968, -1.4744,\n",
       "         0.0745])"
      ]
     },
     "execution_count": 35,
     "metadata": {},
     "output_type": "execute_result"
    }
   ],
   "source": [
    "left_neurons[:,5]"
   ]
  },
  {
   "cell_type": "code",
   "execution_count": 36,
   "id": "be029ce8-72a2-4765-8757-736e586ebdb3",
   "metadata": {},
   "outputs": [
    {
     "data": {
      "text/plain": [
       "<matplotlib.image.AxesImage at 0x7403f445e8f0>"
      ]
     },
     "execution_count": 36,
     "metadata": {},
     "output_type": "execute_result"
    },
    {
     "data": {
      "image/png": "[encoded data removed]",
      "text/plain": [
       "<Figure size 640x480 with 1 Axes>"
      ]
     },
     "metadata": {},
     "output_type": "display_data"
    }
   ],
   "source": [
    "plt.imshow(left_neurons.numpy().T)"
   ]
  },
  {
   "cell_type": "code",
   "execution_count": 37,
   "id": "ac41d987-1baf-4e1b-8620-2cbc2cdde6be",
   "metadata": {},
   "outputs": [
    {
     "data": {
      "text/plain": [
       "<matplotlib.image.AxesImage at 0x7403f44e9f90>"
      ]
     },
     "execution_count": 37,
     "metadata": {},
     "output_type": "execute_result"
    },
    {
     "data": {
      "image/png": "[encoded data removed]",
      "text/plain": [
       "<Figure size 640x480 with 1 Axes>"
      ]
     },
     "metadata": {},
     "output_type": "display_data"
    }
   ],
   "source": [
    "plt.imshow(right_neurons.numpy().T)"
   ]
  },
  {
   "cell_type": "code",
   "execution_count": 38,
   "id": "a77cac8e-19be-4bd2-9706-aa33d4ac4887",
   "metadata": {},
   "outputs": [
    {
     "data": {
      "text/plain": [
       "<matplotlib.image.AxesImage at 0x7403f4375900>"
      ]
     },
     "execution_count": 38,
     "metadata": {},
     "output_type": "execute_result"
    },
    {
     "data": {
      "image/png": "[encoded data removed]",
      "text/plain": [
       "<Figure size 640x480 with 1 Axes>"
      ]
     },
     "metadata": {},
     "output_type": "display_data"
    }
   ],
   "source": [
    "plt.imshow(unembed.numpy())"
   ]
  },
  {
   "cell_type": "code",
   "execution_count": null,
   "id": "91a52765-4346-4b30-92f0-b7394ab35ba2",
   "metadata": {},
   "outputs": [],
   "source": []
  }
 ],
 "metadata": {
  "kernelspec": {
   "display_name": "Python 3 (ipykernel)",
   "language": "python",
   "name": "python3"
  },
  "language_info": {
   "codemirror_mode": {
    "name": "ipython",
    "version": 3
   },
   "file_extension": ".py",
   "mimetype": "text/x-python",
   "name": "python",
   "nbconvert_exporter": "python",
   "pygments_lexer": "ipython3",
   "version": "3.10.12"
  }
 },
 "nbformat": 4,
 "nbformat_minor": 5
}
