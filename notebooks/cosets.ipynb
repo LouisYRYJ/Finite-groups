{
 "cells": [
  {
   "cell_type": "code",
   "execution_count": 1,
   "id": "4caa32df-9037-45e3-a8b4-141c697fae47",
   "metadata": {},
   "outputs": [],
   "source": [
    "import sys\n",
    "import torch as t\n",
    "import numpy as np\n",
    "from matplotlib import pyplot as plt\n",
    "import json\n",
    "from itertools import product\n",
    "sys.path.append('/workspace/wilson/Finite-groups/src')\n",
    "from model import MLP3, MLP4, InstancedModule\n",
    "from utils import *\n",
    "from group_data import *\n",
    "from jaxtyping import Float\n",
    "from typing import Union\n",
    "from einops import repeat\n",
    "from torch.utils.data import DataLoader\n",
    "from tqdm.notebook import tqdm\n",
    "import plotly.graph_objects as go\n",
    "import copy\n",
    "import math\n",
    "from itertools import product\n",
    "from llc import *\n",
    "import gc\n",
    "\n",
    "%load_ext autoreload\n",
    "%autoreload 2"
   ]
  },
  {
   "cell_type": "code",
   "execution_count": 2,
   "id": "463ce9d8-d959-4f70-978b-f496b589ae42",
   "metadata": {},
   "outputs": [],
   "source": [
    "device = t.device(\"cuda\" if t.cuda.is_available() else \"cpu\")"
   ]
  },
  {
   "cell_type": "code",
   "execution_count": 3,
   "id": "d23b3df6-3501-41cf-966f-d10e3771136d",
   "metadata": {},
   "outputs": [],
   "source": [
    "g = S(4)"
   ]
  },
  {
   "cell_type": "code",
   "execution_count": 5,
   "id": "b921d8ea-75ce-4ee9-a0d1-5caa8c167830",
   "metadata": {},
   "outputs": [],
   "source": [
    "s = g.get_subgroups()"
   ]
  },
  {
   "cell_type": "code",
   "execution_count": 6,
   "id": "c8094883-06d2-4168-bf04-eb3ef85b8731",
   "metadata": {},
   "outputs": [
    {
     "data": {
      "text/plain": [
       "{frozenset({Permutation(3)}),\n",
       " frozenset({Permutation(0, 1)(2, 3),\n",
       "            Permutation(2, 3),\n",
       "            Permutation(3),\n",
       "            Permutation(3)(0, 1)}),\n",
       " frozenset({Permutation(0, 1)(2, 3),\n",
       "            Permutation(0, 2, 1, 3),\n",
       "            Permutation(0, 2)(1, 3),\n",
       "            Permutation(0, 3, 1, 2),\n",
       "            Permutation(0, 3)(1, 2),\n",
       "            Permutation(2, 3),\n",
       "            Permutation(3),\n",
       "            Permutation(3)(0, 1)}),\n",
       " frozenset({Permutation(0, 1, 2, 3),\n",
       "            Permutation(0, 2)(1, 3),\n",
       "            Permutation(0, 3, 2, 1),\n",
       "            Permutation(3)}),\n",
       " frozenset({Permutation(0, 1, 2, 3),\n",
       "            Permutation(0, 1)(2, 3),\n",
       "            Permutation(0, 2)(1, 3),\n",
       "            Permutation(0, 3, 2, 1),\n",
       "            Permutation(0, 3)(1, 2),\n",
       "            Permutation(1, 3),\n",
       "            Permutation(3),\n",
       "            Permutation(3)(0, 2)}),\n",
       " frozenset({Permutation(0, 3), Permutation(3)}),\n",
       " frozenset({Permutation(3), Permutation(3)(0, 1, 2), Permutation(3)(0, 2, 1)}),\n",
       " frozenset({Permutation(0, 1, 3), Permutation(0, 3, 1), Permutation(3)}),\n",
       " frozenset({Permutation(0, 1, 3),\n",
       "            Permutation(0, 1)(2, 3),\n",
       "            Permutation(0, 2, 3),\n",
       "            Permutation(0, 2)(1, 3),\n",
       "            Permutation(0, 3, 1),\n",
       "            Permutation(0, 3, 2),\n",
       "            Permutation(0, 3)(1, 2),\n",
       "            Permutation(1, 2, 3),\n",
       "            Permutation(1, 3, 2),\n",
       "            Permutation(3),\n",
       "            Permutation(3)(0, 1, 2),\n",
       "            Permutation(3)(0, 2, 1)}),\n",
       " frozenset({Permutation(2, 3), Permutation(3)}),\n",
       " frozenset({Permutation(3), Permutation(3)(0, 2)}),\n",
       " frozenset({Permutation(0, 2, 3),\n",
       "            Permutation(0, 3, 2),\n",
       "            Permutation(0, 3),\n",
       "            Permutation(2, 3),\n",
       "            Permutation(3),\n",
       "            Permutation(3)(0, 2)}),\n",
       " frozenset({Permutation(1, 2, 3), Permutation(1, 3, 2), Permutation(3)}),\n",
       " frozenset({Permutation(0, 1)(2, 3),\n",
       "            Permutation(0, 2)(1, 3),\n",
       "            Permutation(0, 3)(1, 2),\n",
       "            Permutation(3)}),\n",
       " frozenset({Permutation(0, 2)(1, 3),\n",
       "            Permutation(1, 3),\n",
       "            Permutation(3),\n",
       "            Permutation(3)(0, 2)}),\n",
       " frozenset({Permutation(3), Permutation(3)(0, 1)}),\n",
       " frozenset({Permutation(0, 2, 3), Permutation(0, 3, 2), Permutation(3)}),\n",
       " frozenset({Permutation(1, 2, 3),\n",
       "            Permutation(1, 3, 2),\n",
       "            Permutation(1, 3),\n",
       "            Permutation(2, 3),\n",
       "            Permutation(3),\n",
       "            Permutation(3)(1, 2)}),\n",
       " frozenset({Permutation(0, 1, 3),\n",
       "            Permutation(0, 3, 1),\n",
       "            Permutation(0, 3),\n",
       "            Permutation(1, 3),\n",
       "            Permutation(3),\n",
       "            Permutation(3)(0, 1)}),\n",
       " frozenset({Permutation(0, 1)(2, 3),\n",
       "            Permutation(0, 2, 1, 3),\n",
       "            Permutation(0, 3, 1, 2),\n",
       "            Permutation(3)}),\n",
       " frozenset({Permutation(0, 2)(1, 3), Permutation(3)}),\n",
       " frozenset({Permutation(0, 3)(1, 2), Permutation(3)}),\n",
       " frozenset({Permutation(3), Permutation(3)(1, 2)}),\n",
       " frozenset({Permutation(0, 1, 3, 2),\n",
       "            Permutation(0, 2, 3, 1),\n",
       "            Permutation(0, 3)(1, 2),\n",
       "            Permutation(3)}),\n",
       " frozenset({Permutation(1, 3), Permutation(3)}),\n",
       " frozenset({Permutation(0, 3),\n",
       "            Permutation(0, 3)(1, 2),\n",
       "            Permutation(3),\n",
       "            Permutation(3)(1, 2)}),\n",
       " frozenset({Permutation(0, 1)(2, 3), Permutation(3)}),\n",
       " frozenset({Permutation(0, 1, 3, 2),\n",
       "            Permutation(0, 1)(2, 3),\n",
       "            Permutation(0, 2, 3, 1),\n",
       "            Permutation(0, 2)(1, 3),\n",
       "            Permutation(0, 3),\n",
       "            Permutation(0, 3)(1, 2),\n",
       "            Permutation(3),\n",
       "            Permutation(3)(1, 2)}),\n",
       " frozenset({Permutation(3),\n",
       "            Permutation(3)(0, 1, 2),\n",
       "            Permutation(3)(0, 1),\n",
       "            Permutation(3)(0, 2, 1),\n",
       "            Permutation(3)(0, 2),\n",
       "            Permutation(3)(1, 2)}),\n",
       " frozenset({Permutation(0, 1, 2, 3),\n",
       "            Permutation(0, 1, 3, 2),\n",
       "            Permutation(0, 1, 3),\n",
       "            Permutation(0, 1)(2, 3),\n",
       "            Permutation(0, 2, 1, 3),\n",
       "            Permutation(0, 2, 3, 1),\n",
       "            Permutation(0, 2, 3),\n",
       "            Permutation(0, 2)(1, 3),\n",
       "            Permutation(0, 3, 1, 2),\n",
       "            Permutation(0, 3, 1),\n",
       "            Permutation(0, 3, 2, 1),\n",
       "            Permutation(0, 3, 2),\n",
       "            Permutation(0, 3),\n",
       "            Permutation(0, 3)(1, 2),\n",
       "            Permutation(1, 2, 3),\n",
       "            Permutation(1, 3, 2),\n",
       "            Permutation(1, 3),\n",
       "            Permutation(2, 3),\n",
       "            Permutation(3),\n",
       "            Permutation(3)(0, 1, 2),\n",
       "            Permutation(3)(0, 1),\n",
       "            Permutation(3)(0, 2, 1),\n",
       "            Permutation(3)(0, 2),\n",
       "            Permutation(3)(1, 2)})}"
      ]
     },
     "execution_count": 6,
     "metadata": {},
     "output_type": "execute_result"
    }
   ],
   "source": [
    "s"
   ]
  },
  {
   "cell_type": "code",
   "execution_count": 3,
   "id": "841a65d7-8b26-4c01-af57-5d37a9740bdc",
   "metadata": {},
   "outputs": [
    {
     "name": "stderr",
     "output_type": "stream",
     "text": [
      "100%|██████████| 1/1 [00:00<00:00,  1.42it/s]\n"
     ]
    }
   ],
   "source": [
    "path = '/workspace/models/2024_08_05_18_31_53_S_5__times_A_5__Z_2__'\n",
    "models, params = load_models(path, sel='final')"
   ]
  },
  {
   "cell_type": "code",
   "execution_count": 4,
   "id": "e70d69f2-da5f-4754-a66a-f5d99b368b66",
   "metadata": {},
   "outputs": [
    {
     "name": "stdout",
     "output_type": "stream",
     "text": [
      "Intersection size: 7920/14400 (0.55)\n",
      "Added 7920 elements from intersection\n",
      "Added 0 elements from group 0: S(5)\n",
      "Added 0 elements from group 1: times(A(5),Z(2))\n",
      "Train set size: 7920/14400 (0.55)\n"
     ]
    }
   ],
   "source": [
    "data = GroupData(params)"
   ]
  },
  {
   "cell_type": "code",
   "execution_count": 5,
   "id": "b4c3010a-fd0a-4f0a-bc83-512976c6a6cf",
   "metadata": {},
   "outputs": [],
   "source": [
    "def part_var(x, part, dim):\n",
    "    '''\n",
    "    Computes E[var(x | part)] / var(x), where part is a partition of x along dim.\n",
    "    By the law of total variance, this quantity is in [0, 1].\n",
    "    Stander et al instead compute (\\sum_part var(x | part)) / var(x), which is less principled.\n",
    "    '''\n",
    "    assert sorted(sum(part, [])) == list(range(x.shape[dim])), \"part must be a partition of x along dim\"\n",
    "    numer = sum(\n",
    "        x.index_select(dim, t.Tensor(p).int().to(x.device)).var(dim=dim, correction=0) * (len(p) / x.shape[dim])\n",
    "        for p in part\n",
    "    )\n",
    "    return numer / x.var(dim=dim, correction=0)"
   ]
  },
  {
   "cell_type": "code",
   "execution_count": 6,
   "id": "518e343b-3db5-4c00-9227-91272c8dbb0b",
   "metadata": {},
   "outputs": [
    {
     "name": "stdout",
     "output_type": "stream",
     "text": [
      "Computing subgroups\n",
      "Computing orders\n",
      "Computing elements\n"
     ]
    },
    {
     "name": "stderr",
     "output_type": "stream",
     "text": [
      "Computing subgroups: 100%|██████████| 17/17 [02:09<00:00,  7.63s/it]\n"
     ]
    },
    {
     "name": "stdout",
     "output_type": "stream",
     "text": [
      "Computing conjugates\n",
      "Computing subgroups\n",
      "Computing orders\n",
      "Computing elements\n"
     ]
    },
    {
     "name": "stderr",
     "output_type": "stream",
     "text": [
      "Computing subgroups: 100%|██████████| 20/20 [02:14<00:00,  6.70s/it]\n"
     ]
    },
    {
     "name": "stdout",
     "output_type": "stream",
     "text": [
      "Computing conjugates\n"
     ]
    }
   ],
   "source": [
    "subgroups = {\n",
    "    i: data.groups[i].get_subgroups_idx()\n",
    "    for i in [0, 1]\n",
    "}"
   ]
  },
  {
   "cell_type": "code",
   "execution_count": 9,
   "id": "491c934a-9fb3-498d-9fa2-f2aa1bc57d17",
   "metadata": {},
   "outputs": [
    {
     "data": {
      "text/plain": [
       "-5659871693760987716"
      ]
     },
     "execution_count": 9,
     "metadata": {},
     "output_type": "execute_result"
    }
   ],
   "source": [
    "hash((1, 2, 3, 4, 5))"
   ]
  },
  {
   "cell_type": "code",
   "execution_count": 12,
   "id": "10229e52-5074-4c7c-b26d-f45aa34dac51",
   "metadata": {},
   "outputs": [
    {
     "data": {
      "text/plain": [
       "[[1.0, 0.0, 0.0, 0.0, 0.0],\n",
       " [0.0, 1.0, 0.0, 0.0, 0.0],\n",
       " [0.0, 0.0, 1.0, 0.0, 0.0],\n",
       " [0.0, 0.0, 0.0, 1.0, 0.0],\n",
       " [0.0, 0.0, 0.0, 0.0, 1.0]]"
      ]
     },
     "execution_count": 12,
     "metadata": {},
     "output_type": "execute_result"
    }
   ],
   "source": [
    "t.eye(5).tolist()"
   ]
  },
  {
   "cell_type": "code",
   "execution_count": 13,
   "id": "77901c9f-c68f-4d06-970a-a74eb773d245",
   "metadata": {},
   "outputs": [],
   "source": [
    "import hashlib"
   ]
  },
  {
   "cell_type": "code",
   "execution_count": 14,
   "id": "5bf5d41e-755f-4536-ba4d-d10787bde17e",
   "metadata": {},
   "outputs": [],
   "source": [
    "m = hashlib.sha256()"
   ]
  },
  {
   "cell_type": "code",
   "execution_count": 16,
   "id": "92e7e7ed-5472-4812-ac59-56c347bfd66c",
   "metadata": {},
   "outputs": [],
   "source": [
    "m.update('test test test'.encode())"
   ]
  },
  {
   "cell_type": "code",
   "execution_count": 17,
   "id": "d47b8be0-1495-4c6e-baa3-5a53215f1816",
   "metadata": {},
   "outputs": [
    {
     "data": {
      "text/plain": [
       "'497b22d4e86a3caa9f5baa24435a99ac1154094a0b9302b9bcd9d6544d6efbe9'"
      ]
     },
     "execution_count": 17,
     "metadata": {},
     "output_type": "execute_result"
    }
   ],
   "source": [
    "m.hexdigest()"
   ]
  },
  {
   "cell_type": "code",
   "execution_count": 19,
   "id": "d50b88cf-199d-4662-af34-75fee723b7d8",
   "metadata": {},
   "outputs": [
    {
     "data": {
      "text/plain": [
       "'[[1, 0, 0, 0, 0], [0, 1, 0, 0, 0], [0, 0, 1, 0, 0], [0, 0, 0, 1, 0], [0, 0, 0, 0, 1]]'"
      ]
     },
     "execution_count": 19,
     "metadata": {},
     "output_type": "execute_result"
    }
   ],
   "source": [
    "str(t.eye(5).int().tolist())"
   ]
  },
  {
   "cell_type": "code",
   "execution_count": null,
   "id": "b6868c6b-ce0a-4e64-b06f-4cdfe81b94e6",
   "metadata": {},
   "outputs": [],
   "source": []
  }
 ],
 "metadata": {
  "kernelspec": {
   "display_name": "Python 3 (ipykernel)",
   "language": "python",
   "name": "python3"
  },
  "language_info": {
   "codemirror_mode": {
    "name": "ipython",
    "version": 3
   },
   "file_extension": ".py",
   "mimetype": "text/x-python",
   "name": "python",
   "nbconvert_exporter": "python",
   "pygments_lexer": "ipython3",
   "version": "3.10.12"
  }
 },
 "nbformat": 4,
 "nbformat_minor": 5
}
