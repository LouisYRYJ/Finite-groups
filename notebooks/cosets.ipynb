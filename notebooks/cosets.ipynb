{
 "cells": [
  {
   "cell_type": "code",
   "execution_count": 1,
   "id": "4caa32df-9037-45e3-a8b4-141c697fae47",
   "metadata": {},
   "outputs": [],
   "source": [
    "import sys\n",
    "import torch as t\n",
    "import numpy as np\n",
    "from matplotlib import pyplot as plt\n",
    "import json\n",
    "from itertools import product\n",
    "sys.path.append('/workspace/wilson/Finite-groups/src')\n",
    "from model import MLP3, MLP4, InstancedModule\n",
    "from utils import *\n",
    "from group_data import *\n",
    "from jaxtyping import Float\n",
    "from typing import Union\n",
    "from einops import repeat\n",
    "from torch.utils.data import DataLoader\n",
    "from tqdm.notebook import tqdm\n",
    "import plotly.graph_objects as go\n",
    "import copy\n",
    "import math\n",
    "from itertools import product\n",
    "from llc import *\n",
    "import gc\n",
    "from collections import defaultdict\n",
    "\n",
    "%load_ext autoreload\n",
    "%autoreload 2"
   ]
  },
  {
   "cell_type": "code",
   "execution_count": 2,
   "id": "463ce9d8-d959-4f70-978b-f496b589ae42",
   "metadata": {},
   "outputs": [],
   "source": [
    "device = t.device(\"cuda\" if t.cuda.is_available() else \"cpu\")"
   ]
  },
  {
   "cell_type": "code",
   "execution_count": 39,
   "id": "841a65d7-8b26-4c01-af57-5d37a9740bdc",
   "metadata": {},
   "outputs": [
    {
     "name": "stderr",
     "output_type": "stream",
     "text": [
      "100%|██████████| 1/1 [00:00<00:00, 11.13it/s]\n"
     ]
    }
   ],
   "source": [
    "# path = '/workspace/models/2024_08_05_18_31_53_S_5__times_A_5__Z_2__'\n",
    "#path = '/workspace/models/2024_08_09_02_36_30_S5_MLP3_corrected_inits'\n",
    "# path = '/workspace/wilson/Finite-groups/models/2024-08-09_17-22-34_B_5_'\n",
    "path = '/workspace/wilson/Finite-groups/models/2024-08-09_18-01-35_B5_long'\n",
    "\n",
    "models, params = load_models(path, sel='final')"
   ]
  },
  {
   "cell_type": "code",
   "execution_count": 40,
   "id": "e70d69f2-da5f-4754-a66a-f5d99b368b66",
   "metadata": {},
   "outputs": [
    {
     "name": "stdout",
     "output_type": "stream",
     "text": [
      "Intersection size: 1024/1024 (1.00)\n",
      "Added 1024 elements from intersection\n",
      "Added 0 elements from group 0: B(5)\n",
      "Taking random subset: 409/1024 (0.40)\n",
      "Train set size: 409/1024 (0.40)\n"
     ]
    }
   ],
   "source": [
    "data = GroupData(params)"
   ]
  },
  {
   "cell_type": "code",
   "execution_count": 41,
   "id": "b4c3010a-fd0a-4f0a-bc83-512976c6a6cf",
   "metadata": {},
   "outputs": [],
   "source": [
    "def part_var(x, part, dim):\n",
    "    '''\n",
    "    Computes E[var(x | part)] / var(x), where part is a partition of x along dim.\n",
    "    By the law of total variance, this quantity is in [0, 1].\n",
    "    Stander et al instead compute (\\sum_part var(x | part)) / var(x), which is less principled.\n",
    "    '''\n",
    "    part = list(map(list, part))\n",
    "    assert sorted(sum(part, [])) == list(range(x.shape[dim])), \"part must be a partition of x along dim\"\n",
    "    denom = x.var(dim=dim, correction=0)\n",
    "    num = sum(\n",
    "        x.index_select(dim, t.Tensor(p).int().to(x.device)).var(dim=dim, correction=0) * (len(p) / x.shape[dim])\n",
    "        for p in part\n",
    "    )\n",
    "    return (num / denom).nan_to_num(nan=0.)"
   ]
  },
  {
   "cell_type": "code",
   "execution_count": 42,
   "id": "518e343b-3db5-4c00-9227-91272c8dbb0b",
   "metadata": {},
   "outputs": [],
   "source": [
    "subgroups = {\n",
    "    i: {sg for sg in data.groups[i].get_subgroups_idx()}\n",
    "    for i in range(len(data.groups))\n",
    "}"
   ]
  },
  {
   "cell_type": "code",
   "execution_count": 43,
   "id": "8873b5cc-75cb-4e6a-819d-c3070a84826d",
   "metadata": {},
   "outputs": [],
   "source": [
    "left_cosets = {\n",
    "    i: {\n",
    "        subgroup: data.groups[i].get_cosets_idx(subgroup, left=True)\n",
    "        for subgroup in subgroups[i]\n",
    "    }\n",
    "    for i in range(len(data.groups))\n",
    "}\n",
    "right_cosets = {\n",
    "    i: {\n",
    "        subgroup: data.groups[i].get_cosets_idx(subgroup, left=False)\n",
    "        for subgroup in subgroups[i]\n",
    "    }\n",
    "    for i in range(len(data.groups))\n",
    "}"
   ]
  },
  {
   "cell_type": "code",
   "execution_count": 46,
   "id": "b6868c6b-ce0a-4e64-b06f-4cdfe81b94e6",
   "metadata": {},
   "outputs": [],
   "source": [
    "instance = 70\n",
    "model = models[0][instance]"
   ]
  },
  {
   "cell_type": "code",
   "execution_count": 56,
   "id": "e7d2d946-0367-40e7-8da0-0586bc5017da",
   "metadata": {},
   "outputs": [],
   "source": [
    "left_neurons, right_neurons = model.get_neurons()\n",
    "left_neurons = left_neurons.squeeze(0)\n",
    "right_neurons = right_neurons.squeeze(0)\n",
    "unembed = model.unembedding.data.squeeze(0)"
   ]
  },
  {
   "cell_type": "code",
   "execution_count": 11,
   "id": "8f4851d1-30e9-41ea-a6f5-bea521d1e40a",
   "metadata": {},
   "outputs": [],
   "source": [
    "# hypothesis is that left neurons are constant on *right* cosets\n",
    "left_coset_vars = {\n",
    "    i: {\n",
    "        subgroup: part_var(left_neurons, right_cosets[i][subgroup], dim=0)\n",
    "        for subgroup in right_cosets[i].keys()\n",
    "    }\n",
    "    for i in range(len(data.groups))\n",
    "}"
   ]
  },
  {
   "cell_type": "code",
   "execution_count": 25,
   "id": "5c192b7d-6daa-4174-9b6d-3f7682e611c1",
   "metadata": {},
   "outputs": [],
   "source": [
    "left_neuron_cosets = dict()\n",
    "group = 0\n",
    "for neuron in range(left_neurons.shape[1]):\n",
    "    left_neuron_cosets[neuron] = None\n",
    "    for subgroup in subgroups[group]:\n",
    "        if left_coset_vars[group][subgroup][neuron] < 1e-1:\n",
    "            if left_neuron_cosets[neuron] is None or len(left_neuron_cosets[neuron]) < len(subgroup):\n",
    "                left_neuron_cosets[neuron] = subgroup"
   ]
  },
  {
   "cell_type": "code",
   "execution_count": 26,
   "id": "5411f88d-6c62-4772-87d5-42165b51e66a",
   "metadata": {},
   "outputs": [],
   "source": [
    "named_subgroups = {\n",
    "    # [s for s in subgroups[0] if len(s) == 1][0]: 'e',\n",
    "    # [s for s in subgroups[0] if len(s) == 60][0]: 'A5',\n",
    "    # [s for s in subgroups[0] if len(s) == 120][0]: 'S5',\n",
    "}\n",
    "A4_count = 0\n",
    "S4_count = 0\n",
    "order_counts = defaultdict(lambda: 0)\n",
    "for s in subgroups[0]:\n",
    "    # if len(s) == 24:\n",
    "    #     named_subgroups[s] = f'S_4^{S4_count}'  # not the correct index but whatever\n",
    "    #     S4_count += 1\n",
    "    # elif len(s) == 12:\n",
    "    #     named_subgroups[s] = f'A_4^{A4_count}'  # not the correct index but whatever\n",
    "    #     A4_count += 1\n",
    "    # elif len(s) not in [1, 60, 120]:\n",
    "    named_subgroups[s] = f'{len(s)}^{order_counts[len(s)]}'\n",
    "    order_counts[len(s)] += 1\n",
    "        "
   ]
  },
  {
   "cell_type": "code",
   "execution_count": 27,
   "id": "c579e303-c8a9-446c-8d5d-ee6fa6706da2",
   "metadata": {},
   "outputs": [
    {
     "data": {
      "text/plain": [
       "dict_values(['4^0', '4^1', '4^2', '4^3', '4^4', '8^0', '4^5', '2^0', '2^1', '8^1', '8^2', '8^3', '4^6', '16^0', '2^2', '8^4', '8^5', '8^6', '4^7', '8^7', '8^8', '4^8', '4^9', '16^1', '4^10', '4^11', '4^12', '16^2', '8^9', '4^13', '4^14', '8^10', '4^15', '8^11', '16^3', '4^16', '4^17', '4^18', '4^19', '8^12', '8^13', '8^14', '8^15', '8^16', '8^17', '16^4', '4^20', '4^21', '8^18', '4^22', '8^19', '4^23', '8^20', '8^21', '8^22', '16^5', '8^23', '8^24', '4^24', '4^25', '4^26', '8^25', '4^27', '4^28', '4^29', '16^6', '2^3', '2^4', '16^7', '4^30', '4^31', '4^32', '4^33', '4^34', '8^26', '4^35', '2^5', '8^27', '8^28', '8^29', '8^30', '8^31', '4^36', '4^37', '4^38', '4^39', '4^40', '2^6', '8^32', '8^33', '8^34', '8^35', '8^36', '4^41', '8^37', '8^38', '4^42', '4^43', '4^44', '4^45', '8^39', '4^46', '16^8', '8^40', '8^41', '8^42', '8^43', '4^47', '4^48', '2^7', '8^44', '4^49', '8^45', '8^46', '4^50', '16^9', '16^10', '1^0', '4^51', '8^47', '8^48', '2^8', '8^49', '4^52', '4^53', '4^54', '8^50', '4^55', '4^56', '8^51', '2^9', '4^57', '4^58', '4^59', '4^60', '8^52', '8^53', '8^54', '2^10', '8^55', '8^56', '4^61', '8^57', '8^58', '8^59', '16^11', '4^62', '8^60', '8^61', '4^63', '2^11', '8^62', '8^63', '8^64', '8^65', '4^64', '4^65', '2^12', '8^66', '16^12', '4^66', '8^67', '8^68', '8^69', '4^67', '4^68', '4^69', '2^13', '8^70', '4^70', '4^71', '2^14', '4^72', '8^71', '8^72', '8^73', '8^74', '8^75', '8^76', '8^77', '8^78', '8^79', '8^80', '8^81', '8^82', '4^73', '8^83', '8^84', '2^15', '8^85', '16^13', '8^86', '2^16', '8^87', '8^88', '8^89', '4^74', '2^17', '4^75', '4^76', '8^90', '8^91', '4^77', '4^78', '8^92', '8^93', '4^79', '8^94', '2^18', '4^80', '4^81', '8^95', '8^96', '8^97', '8^98', '2^19', '32^0', '4^82', '8^99', '8^100', '8^101', '8^102', '8^103', '4^83', '8^104', '16^14', '8^105', '8^106', '4^84', '8^107', '4^85', '8^108', '4^86', '4^87', '4^88', '2^20', '4^89', '4^90', '4^91', '8^109', '8^110', '4^92', '4^93', '8^111', '16^15', '4^94', '8^112', '2^21', '4^95', '16^16', '8^113', '4^96', '4^97', '4^98', '4^99', '8^114', '8^115', '4^100', '8^116', '4^101', '4^102', '4^103', '4^104', '4^105', '16^17', '4^106', '16^18', '4^107', '8^117', '8^118', '4^108', '4^109', '4^110', '16^19', '8^119', '8^120', '8^121', '8^122', '4^111', '4^112', '8^123', '8^124', '4^113', '8^125', '4^114', '4^115', '8^126', '4^116', '8^127', '4^117', '4^118', '8^128', '2^22', '4^119', '4^120', '8^129', '4^121', '16^20', '4^122', '4^123', '8^130', '4^124', '4^125', '8^131', '8^132', '2^23', '8^133', '4^126', '16^21', '8^134', '4^127', '2^24', '2^25', '4^128', '4^129', '16^22', '4^130', '16^23', '16^24', '8^135', '4^131', '8^136', '8^137', '4^132', '8^138', '2^26', '8^139', '4^133', '8^140', '4^134', '4^135', '4^136', '4^137', '16^25', '2^27', '4^138', '8^141', '8^142', '4^139', '8^143', '4^140', '4^141', '8^144', '16^26', '16^27', '4^142', '8^145', '4^143', '8^146', '4^144', '8^147', '4^145', '8^148', '2^28', '4^146', '4^147', '8^149', '16^28', '2^29', '4^148', '4^149', '16^29', '4^150', '8^150', '8^151', '4^151', '4^152', '4^153', '4^154', '8^152', '2^30', '8^153', '16^30', '8^154'])"
      ]
     },
     "execution_count": 27,
     "metadata": {},
     "output_type": "execute_result"
    }
   ],
   "source": [
    "named_subgroups.values()"
   ]
  },
  {
   "cell_type": "code",
   "execution_count": 28,
   "id": "d615b336-102b-47b3-8a81-4266ad39e087",
   "metadata": {},
   "outputs": [
    {
     "data": {
      "text/plain": [
       "defaultdict(<function __main__.<lambda>()>,\n",
       "            {'16^25': 4,\n",
       "             '16^11': 6,\n",
       "             '2^6': 1,\n",
       "             '1^0': 22,\n",
       "             '16^5': 3,\n",
       "             '2^7': 2,\n",
       "             '16^30': 2,\n",
       "             '16^24': 2,\n",
       "             '4^46': 1,\n",
       "             '8^108': 1,\n",
       "             '8^50': 1,\n",
       "             '8^118': 1,\n",
       "             '2^4': 1,\n",
       "             '4^40': 1,\n",
       "             '16^3': 3,\n",
       "             '16^8': 3,\n",
       "             '16^29': 3,\n",
       "             '16^23': 3,\n",
       "             '8^89': 1,\n",
       "             '4^33': 1,\n",
       "             '8^23': 1,\n",
       "             '8^70': 1})"
      ]
     },
     "execution_count": 28,
     "metadata": {},
     "output_type": "execute_result"
    }
   ],
   "source": [
    "subgroup_counts = defaultdict(lambda: 0)\n",
    "for subgroup in left_neuron_cosets.values():\n",
    "    subgroup_counts[named_subgroups[subgroup]] += 1    \n",
    "subgroup_counts"
   ]
  },
  {
   "cell_type": "code",
   "execution_count": 38,
   "id": "374bedfb-bcc0-46d2-b987-3a001144225b",
   "metadata": {},
   "outputs": [
    {
     "data": {
      "text/plain": [
       "tensor([0.1821, 0.1497, 0.1556, 0.2028, 0.1807, 0.1509, 0.1881, 0.1328, 0.1375,\n",
       "        0.2120, 0.2166, 0.1889, 0.1325, 0.2089, 0.2264, 0.1576, 0.1482, 0.1087,\n",
       "        0.1322, 0.0988, 0.0862, 0.1892, 0.0561, 0.1250, 0.1220, 0.1690, 0.1899,\n",
       "        0.2104, 0.2252, 0.0892, 0.2040, 0.1021])"
      ]
     },
     "execution_count": 38,
     "metadata": {},
     "output_type": "execute_result"
    }
   ],
   "source": [
    "left_neurons[:,5]"
   ]
  },
  {
   "cell_type": "code",
   "execution_count": 51,
   "id": "be029ce8-72a2-4765-8757-736e586ebdb3",
   "metadata": {},
   "outputs": [
    {
     "data": {
      "text/plain": [
       "<matplotlib.image.AxesImage at 0x7fa6615551b0>"
      ]
     },
     "execution_count": 51,
     "metadata": {},
     "output_type": "execute_result"
    },
    {
     "data": {
      "image/png": "[encoded data removed]",
      "text/plain": [
       "<Figure size 640x480 with 1 Axes>"
      ]
     },
     "metadata": {},
     "output_type": "display_data"
    }
   ],
   "source": [
    "plt.imshow(left_neurons.numpy().T)"
   ]
  },
  {
   "cell_type": "code",
   "execution_count": 53,
   "id": "ac41d987-1baf-4e1b-8620-2cbc2cdde6be",
   "metadata": {},
   "outputs": [
    {
     "data": {
      "text/plain": [
       "<matplotlib.image.AxesImage at 0x7fa661550b80>"
      ]
     },
     "execution_count": 53,
     "metadata": {},
     "output_type": "execute_result"
    },
    {
     "data": {
      "image/png": "[encoded data removed]",
      "text/plain": [
       "<Figure size 640x480 with 1 Axes>"
      ]
     },
     "metadata": {},
     "output_type": "display_data"
    }
   ],
   "source": [
    "plt.imshow(right_neurons.numpy().T)"
   ]
  },
  {
   "cell_type": "code",
   "execution_count": 57,
   "id": "a77cac8e-19be-4bd2-9706-aa33d4ac4887",
   "metadata": {},
   "outputs": [
    {
     "data": {
      "text/plain": [
       "<matplotlib.image.AxesImage at 0x7fa623a15f30>"
      ]
     },
     "execution_count": 57,
     "metadata": {},
     "output_type": "execute_result"
    },
    {
     "data": {
      "image/png": "[encoded data removed]",
      "text/plain": [
       "<Figure size 640x480 with 1 Axes>"
      ]
     },
     "metadata": {},
     "output_type": "display_data"
    }
   ],
   "source": [
    "plt.imshow(unembed.numpy())"
   ]
  },
  {
   "cell_type": "code",
   "execution_count": null,
   "id": "91a52765-4346-4b30-92f0-b7394ab35ba2",
   "metadata": {},
   "outputs": [],
   "source": []
  }
 ],
 "metadata": {
  "kernelspec": {
   "display_name": "Python 3 (ipykernel)",
   "language": "python",
   "name": "python3"
  },
  "language_info": {
   "codemirror_mode": {
    "name": "ipython",
    "version": 3
   },
   "file_extension": ".py",
   "mimetype": "text/x-python",
   "name": "python",
   "nbconvert_exporter": "python",
   "pygments_lexer": "ipython3",
   "version": "3.10.12"
  }
 },
 "nbformat": 4,
 "nbformat_minor": 5
}
