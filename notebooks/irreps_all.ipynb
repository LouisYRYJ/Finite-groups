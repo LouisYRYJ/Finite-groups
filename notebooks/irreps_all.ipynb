{
 "cells": [
  {
   "cell_type": "markdown",
   "id": "5398ebd2-48ab-423a-b560-92e9d2374a0b",
   "metadata": {},
   "source": [
    "### Setup"
   ]
  },
  {
   "cell_type": "code",
   "execution_count": 1,
   "id": "aeaec889-8f37-480c-861d-8a434e24fe26",
   "metadata": {},
   "outputs": [],
   "source": [
    "import os, sys\n",
    "HOME = os.environ['HOME']  # change if necessary\n",
    "sys.path.append(f'{HOME}/Finite-groups/src')"
   ]
  },
  {
   "cell_type": "code",
   "execution_count": 104,
   "id": "8293bd26-5402-4955-a9c6-ed25d4b90d4f",
   "metadata": {},
   "outputs": [
    {
     "name": "stdout",
     "output_type": "stream",
     "text": [
      "The autoreload extension is already loaded. To reload it, use:\n",
      "  %reload_ext autoreload\n"
     ]
    }
   ],
   "source": [
    "import torch as t\n",
    "import numpy as np\n",
    "from matplotlib import pyplot as plt\n",
    "import json\n",
    "from itertools import product\n",
    "from jaxtyping import Float\n",
    "from torch.utils.data import DataLoader\n",
    "from tqdm.notebook import tqdm\n",
    "import plotly.graph_objects as go\n",
    "import copy\n",
    "import math\n",
    "from itertools import product\n",
    "import pandas as pd\n",
    "from typing import Union\n",
    "from einops import repeat\n",
    "from huggingface_hub import snapshot_download\n",
    "from huggingface_hub.utils import disable_progress_bars\n",
    "\n",
    "\n",
    "from model import MLP3, MLP4, InstancedModule\n",
    "from utils import *\n",
    "from group_data import *\n",
    "from model_utils import *\n",
    "from group_utils import *\n",
    "%load_ext autoreload\n",
    "%autoreload 2"
   ]
  },
  {
   "cell_type": "code",
   "execution_count": 105,
   "id": "0f473f11-9236-4bbf-b401-c6e92cd35923",
   "metadata": {},
   "outputs": [
    {
     "name": "stderr",
     "output_type": "stream",
     "text": [
      "  0%|          | 0/15 [00:00<?, ?it/s]/home/wilson/Finite-groups/src/model_utils.py:48: FutureWarning: You are using `torch.load` with `weights_only=False` (the current default value), which uses the default pickle module implicitly. It is possible to construct malicious pickle data which will execute arbitrary code during unpickling (See https://github.com/pytorch/pytorch/blob/main/SECURITY.md#untrusted-models for more details). In a future release, the default value for `weights_only` will be flipped to `True`. This limits the functions that could be executed during unpickling. Arbitrary objects will no longer be allowed to be loaded via this mode unless they are explicitly allowlisted by the user via `torch.serialization.add_safe_globals`. We recommend you start setting `weights_only=True` for any use case where you don't have full control of the loaded file. Please open an issue on GitHub for any issues related to this experimental feature.\n",
      "  model.load_state_dict(t.load(model_path, map_location=device))\n",
      "100%|██████████| 15/15 [00:01<00:00, 12.32it/s]"
     ]
    },
    {
     "name": "stdout",
     "output_type": "stream",
     "text": [
      "Intersection size: 12100/12100 (1.00)\n",
      "Added 12100 elements from intersection\n",
      "Added 0 elements from group 0: smallgrp(110, 1)\n",
      "Taking random subset: 4840/12100 (0.40)\n",
      "Train set size: 4840/12100 (0.40)\n"
     ]
    },
    {
     "name": "stderr",
     "output_type": "stream",
     "text": [
      "\n"
     ]
    }
   ],
   "source": [
    "device = t.device(\"cuda\" if t.cuda.is_available() else \"cpu\")\n",
    "# MODEL_DIR = '2024-08-16_22-53-29_SL2_5_MLP3_256'\n",
    "# MODEL_DIR = '2024-08-14_21-24-30_gapS_5_'\n",
    "#MODEL_DIR = '2024-08-27_16-32-46_Dic30_MLP3_128'\n",
    "MODEL_DIR = '2024-08-27_23-16-05_F11_MLP3_256'\n",
    "disable_progress_bars()\n",
    "local_dir = f'{HOME}/models/{MODEL_DIR}'\n",
    "snapshot_download(repo_id=f'wiwu2390/{MODEL_DIR}', local_dir=local_dir)\n",
    "models, params = load_models(local_dir)\n",
    "data = GroupData(params)\n",
    "group = data.groups[0]"
   ]
  },
  {
   "cell_type": "markdown",
   "id": "f0f21317-778f-4e55-970c-1ec604f95930",
   "metadata": {},
   "source": [
    "`models` (returned from `load_models`) is a list of InstancedModule objects, one for each training checkpoint that we chose to save. For most runs, we only save the final checkpoints, so `len(models)==1`\n",
    "\n",
    "For efficiency during training, the InstancedModule object contains 100 different instances starting from different random initializations. \n",
    "\n",
    "Here, we look only at the one with best test accuracy."
   ]
  },
  {
   "cell_type": "code",
   "execution_count": 106,
   "id": "ccb4a6de-eabe-4535-9d3f-df78a05f3633",
   "metadata": {},
   "outputs": [
    {
     "name": "stdout",
     "output_type": "stream",
     "text": [
      "tensor(0.0485) tensor(40)\n"
     ]
    }
   ],
   "source": [
    "loss_dict = test_loss(models[-1].to(device), data)\n",
    "print(loss_dict['G0_loss'].min(), loss_dict['G0_loss'].argmin())\n",
    "instance = loss_dict['G0_loss'].argmin().item()\n",
    "model = models[-1][instance].to(device)"
   ]
  },
  {
   "cell_type": "markdown",
   "id": "2e3f6194-2716-46ca-972f-a88fe0f49de4",
   "metadata": {},
   "source": [
    "`MLP3` architecture is\n",
    "$$f(z\\mid x, y) = W_u(z)\\cdot\\text{ReLU}[W_h(W_l(x)+W_r(y))]] = \\sum_i w_u^i(z) \\text{ReLU}[w_l^i(x)+w_r^i(y)]$$\n",
    "where $w_u^i, w_l^i, w_r^i\\in\\mathbb{R}^G$ are the columns of $W_u, (W_hW_l)^{\\top}, (W_hW_r)^{\\top}$ respectively."
   ]
  },
  {
   "cell_type": "code",
   "execution_count": 107,
   "id": "1b3e1c90-45f9-43dc-b2bf-6fa305d7d196",
   "metadata": {},
   "outputs": [
    {
     "data": {
      "text/plain": [
       "(torch.Size([110, 256]), torch.Size([110, 256]), torch.Size([110, 256]))"
      ]
     },
     "execution_count": 107,
     "metadata": {},
     "output_type": "execute_result"
    }
   ],
   "source": [
    "# model.get_neurons() folds the linear map into the embeddings\n",
    "lneurons, rneurons = model.get_neurons()\n",
    "uneurons = model.unembedding.data.detach()\n",
    "lneurons, rneurons, uneurons = lneurons.squeeze(0).to('cpu'), rneurons.squeeze(0).to('cpu'), uneurons.squeeze(0).to('cpu').T\n",
    "lneurons.shape, rneurons.shape, uneurons.shape"
   ]
  },
  {
   "cell_type": "markdown",
   "id": "9fa29f76-c012-4918-be8e-e761813b918d",
   "metadata": {},
   "source": [
    "### Neurons are irrep-sparse"
   ]
  },
  {
   "cell_type": "markdown",
   "id": "81da1cb7-4ee6-4e51-a1b8-872b3b594e1c",
   "metadata": {},
   "source": [
    "I.e., each neuron is a linear combination of matrix entries of some irrep.\n",
    "\n",
    "That is, for each $i$, there exists an irrep $\\rho_i\\colon G\\to\\text{GL}(\\mathbb{R}^d)$ such that, for some $A_i,B_i,C_i$,\n",
    "$$w_l^i(x) \\approx \\text{tr}(\\rho_i(x) A_i)$$\n",
    "$$w_r^i(y) \\approx \\text{tr}(\\rho_i(y) B_i)$$\n",
    "$$w_u^i(z) \\approx \\text{tr}(\\rho_i(z) C_i)$$\n",
    "\n",
    "(This was first noticed by Chughtai et al.)"
   ]
  },
  {
   "cell_type": "markdown",
   "id": "9decac2b-f6c2-4a90-9ea8-99016c469344",
   "metadata": {},
   "source": [
    "**Notation**: 4d-0 is the 1st degree 4 irrep, 4d-1 is the 2nd, etc. Ordering is arbitrary but is consistent between runs (I think)\n",
    "\n",
    "Note that 4d-2 is a real irrep (Frobenius-Schur indicator = 1) and thus has entries orthogonal over $\\mathbb{R}^G$. This is not true of 4d-0 or 4d-1."
   ]
  },
  {
   "cell_type": "code",
   "execution_count": 108,
   "id": "a38ffde5-1654-45e2-8494-0c7103391bb6",
   "metadata": {},
   "outputs": [
    {
     "name": "stdout",
     "output_type": "stream",
     "text": [
      "Complex irrep 1d-2 -> real irrep 2d-0\n",
      "Complex irrep 1d-3 -> real irrep 2d-1\n",
      "Complex irrep 1d-4 -> real irrep 2d-2\n",
      "Complex irrep 1d-5 -> real irrep 2d-3\n",
      "Complex irrep 1d-6 -> real irrep 2d-4\n",
      "Complex irrep 1d-7 -> real irrep 2d-5\n",
      "Complex irrep 1d-8 -> real irrep 2d-6\n",
      "Complex irrep 1d-9 -> real irrep 2d-7\n",
      "dict_keys(['1d-0', '1d-1', '2d-0', '2d-1', '2d-2', '2d-3', '2d-4', '2d-5', '2d-6', '2d-7', '10d-0'])\n"
     ]
    }
   ],
   "source": [
    "irreps = group.get_real_irreps(verbose=True)\n",
    "print(irreps.keys())"
   ]
  },
  {
   "cell_type": "code",
   "execution_count": 109,
   "id": "103c47dc-865a-4fbe-b9be-1e9d2b63a7e4",
   "metadata": {},
   "outputs": [
    {
     "name": "stdout",
     "output_type": "stream",
     "text": [
      "1d-0 torch.Size([110, 1])\n",
      "1d-1 torch.Size([110, 1])\n",
      "2d-0 torch.Size([110, 2])\n",
      "2d-1 torch.Size([110, 2])\n",
      "2d-2 torch.Size([110, 2])\n",
      "2d-3 torch.Size([110, 2])\n",
      "2d-4 torch.Size([110, 2])\n",
      "2d-5 torch.Size([110, 2])\n",
      "2d-6 torch.Size([110, 2])\n",
      "2d-7 torch.Size([110, 2])\n",
      "10d-0 torch.Size([110, 100])\n"
     ]
    }
   ],
   "source": [
    "# Get orthogonal basis for each irrep\n",
    "irrep_bases = dict()\n",
    "for name, irrep in irreps.items():\n",
    "    irrep = einops.rearrange(irrep, 'N d1 d2 -> N (d1 d2)')\n",
    "    U, S, V = t.svd(irrep)\n",
    "    nonzero = S > 1e-5\n",
    "    irrep_bases[name] = U[:,nonzero]\n",
    "\n",
    "# Dimension of subspace spanned by each irrep\n",
    "for k, v in irrep_bases.items():\n",
    "    print(k, v.shape)"
   ]
  },
  {
   "cell_type": "code",
   "execution_count": 110,
   "id": "3d32e6f1-297a-4e02-9a48-0d01e2dfb32a",
   "metadata": {},
   "outputs": [],
   "source": [
    "# Proportion of variance explained by each irrep, for each neuron\n",
    "lexpl, rexpl, uexpl = dict(), dict(), dict()\n",
    "\n",
    "for name, basis in irrep_bases.items():\n",
    "    lproj = basis.T @ lneurons\n",
    "    lexpl[name] = (basis.T @ lneurons).norm(dim=0)**2 / (lneurons.norm(dim=0)**2 + 1e-8)\n",
    "    rexpl[name] = (basis.T @ rneurons).norm(dim=0)**2 / (rneurons.norm(dim=0)**2 + 1e-8)\n",
    "    uexpl[name] = (basis.T @ uneurons).norm(dim=0)**2 / (uneurons.norm(dim=0)**2 + 1e-8)\n",
    "\n",
    "lexpl_max, lirrep = t.stack(list(lexpl.values()), dim=0).max(dim=0)"
   ]
  },
  {
   "cell_type": "code",
   "execution_count": 111,
   "id": "8b5e3ad3-02ca-4de7-ba65-fffdab7d4169",
   "metadata": {},
   "outputs": [
    {
     "data": {
      "image/png": "[encoded data removed]",
      "text/plain": [
       "<Figure size 640x480 with 1 Axes>"
      ]
     },
     "metadata": {},
     "output_type": "display_data"
    }
   ],
   "source": [
    "plt.hist(lexpl_max.tolist())\n",
    "plt.title('Left neurons: variance explained by best irrep')\n",
    "plt.show()"
   ]
  },
  {
   "cell_type": "code",
   "execution_count": 112,
   "id": "391db712-4bde-4137-be62-73ae274463ac",
   "metadata": {},
   "outputs": [
    {
     "name": "stdout",
     "output_type": "stream",
     "text": [
      "1d-0 1\n",
      "1d-1 1\n",
      "2d-0 0\n",
      "2d-1 0\n",
      "2d-2 0\n",
      "2d-3 0\n",
      "2d-4 0\n",
      "2d-5 0\n",
      "2d-6 0\n",
      "2d-7 0\n",
      "10d-0 1\n"
     ]
    }
   ],
   "source": [
    "# Get Frobenius-Schur indicators\n",
    "# +1 means real irrep. Otherwise, complex.\n",
    "for name, irrep in irreps.items():\n",
    "    print(name, group.get_frobenius_schur(irrep))"
   ]
  },
  {
   "cell_type": "code",
   "execution_count": 113,
   "id": "782267d3-ec8a-4a4b-b9b3-7fbbd2fcf0e6",
   "metadata": {},
   "outputs": [
    {
     "name": "stdout",
     "output_type": "stream",
     "text": [
      "1d-0 0\n",
      "1d-1 2\n",
      "2d-0 1\n",
      "2d-1 0\n",
      "2d-2 0\n",
      "2d-3 0\n",
      "2d-4 0\n",
      "2d-5 0\n",
      "2d-6 1\n",
      "2d-7 0\n",
      "10d-0 175\n"
     ]
    }
   ],
   "source": [
    "irrep_idx_dict = {\n",
    "    name: [\n",
    "        i for i in range(lneurons.shape[-1]) \n",
    "        if lexpl[name][i].item() > 0.95 and lneurons[:,i].norm() > 1e-4\n",
    "    ]\n",
    "    for name in irreps\n",
    "}\n",
    "for k, v in irrep_idx_dict.items():\n",
    "    print(k, len(v))"
   ]
  },
  {
   "cell_type": "code",
   "execution_count": 115,
   "id": "b617a2bc-2715-427d-97a9-8e9b5686aaaa",
   "metadata": {},
   "outputs": [],
   "source": [
    "irrep_name = '10d-0'\n",
    "irrep_d = irreps[irrep_name].shape[-1]\n",
    "irrep = irreps[irrep_name]\n",
    "irrep_idxs = irrep_idx_dict[irrep_name]\n",
    "irrep_lneurons = lneurons[:, irrep_idxs]\n",
    "irrep_rneurons = rneurons[:, irrep_idxs]\n",
    "irrep_uneurons = uneurons[:, irrep_idxs]"
   ]
  },
  {
   "cell_type": "code",
   "execution_count": 116,
   "id": "4ae58edd-7e10-4c4d-996d-354758bfed8a",
   "metadata": {},
   "outputs": [
    {
     "name": "stdout",
     "output_type": "stream",
     "text": [
      "tensor(6.4691e-06)\n"
     ]
    },
    {
     "data": {
      "text/plain": [
       "(torch.Size([175, 10, 10]),\n",
       " torch.Size([175, 10, 10]),\n",
       " torch.Size([175, 10, 10]))"
      ]
     },
     "execution_count": 116,
     "metadata": {},
     "output_type": "execute_result"
    }
   ],
   "source": [
    "flat_irrep = einops.rearrange(irrep, 'n d1 d2 -> n (d1 d2)')\n",
    "# Project neurons onto subspace spanned by flat_irrep\n",
    "A_flat = (t.linalg.inv(flat_irrep.T @ flat_irrep) @ flat_irrep.T @ irrep_lneurons)\n",
    "B_flat = (t.linalg.inv(flat_irrep.T @ flat_irrep) @ flat_irrep.T @ irrep_rneurons)\n",
    "C_flat = (t.linalg.inv(flat_irrep.T @ flat_irrep) @ flat_irrep.T @ irrep_uneurons)\n",
    "A = einops.rearrange(A_flat, '(d1 d2) m -> m d1 d2', d1=irrep_d, d2=irrep_d).mT\n",
    "B = einops.rearrange(B_flat, '(d1 d2) m -> m d1 d2', d1=irrep_d, d2=irrep_d).mT\n",
    "C = einops.rearrange(C_flat, '(d1 d2) m -> m d1 d2', d1=irrep_d, d2=irrep_d).mT\n",
    "\n",
    "A_norm = t.linalg.matrix_norm(A)\n",
    "B_norm = t.linalg.matrix_norm(B)\n",
    "(A_norm - B_norm).norm()**2 / B_norm.norm()**2\n",
    "print((A_norm - B_norm).norm()**2 / B_norm.norm()**2)\n",
    "\n",
    "# Normalize A and B to have unit Frobenius norm\n",
    "A = A / A_norm.unsqueeze(1).unsqueeze(1)\n",
    "B = B / A_norm.unsqueeze(1).unsqueeze(1)\n",
    "C = C * ( (A_norm + B_norm) / 2).unsqueeze(1).unsqueeze(1)\n",
    "\n",
    "A.shape, B.shape, C.shape"
   ]
  },
  {
   "cell_type": "markdown",
   "id": "335055bf-39b9-4916-85a1-be957d7602f3",
   "metadata": {},
   "source": [
    "### $C_i\\approx B_iA_i$"
   ]
  },
  {
   "cell_type": "code",
   "execution_count": 117,
   "id": "cdc2e8fe-d9f0-4409-9c32-6e64b7212967",
   "metadata": {},
   "outputs": [
    {
     "data": {
      "image/png": "[encoded data removed]",
      "text/plain": [
       "<Figure size 640x480 with 1 Axes>"
      ]
     },
     "metadata": {},
     "output_type": "display_data"
    }
   ],
   "source": [
    "x = einops.rearrange(B @ A, 'm d1 d2 -> m (d1 d2)')\n",
    "y = einops.rearrange(C, 'm d1 d2 -> m (d1 d2)')\n",
    "coef = (x * y).sum(dim=-1) / (x * x).sum(dim=-1)\n",
    "yhat = coef.unsqueeze(1) * x\n",
    "r2 = (yhat - y).norm(dim=-1).pow(2) / y.norm(dim=-1).pow(2)\n",
    "plt.hist(r2.tolist())\n",
    "plt.title('1-R^2(C, AB)')\n",
    "plt.show()"
   ]
  },
  {
   "cell_type": "code",
   "execution_count": 118,
   "id": "37c20aa6-e889-4139-b4fb-c41e3c588860",
   "metadata": {},
   "outputs": [
    {
     "data": {
      "image/png": "[encoded data removed]",
      "text/plain": [
       "<Figure size 640x480 with 1 Axes>"
      ]
     },
     "metadata": {},
     "output_type": "display_data"
    }
   ],
   "source": [
    "plt.hist(coef.tolist(), bins=100)\n",
    "plt.show()"
   ]
  },
  {
   "cell_type": "markdown",
   "id": "03a5ce16-cce0-4d24-8355-e59da2f73ea9",
   "metadata": {},
   "source": [
    "### $A_i, B_i, C_i$ are almost rank 1"
   ]
  },
  {
   "cell_type": "markdown",
   "id": "feb3c117-a0ce-456c-810d-64ff01175faf",
   "metadata": {},
   "source": [
    "Thus, we can write\n",
    "$$A_i\\approx a_ib_i^\\top$$\n",
    "$$B_i\\approx c_id_i^\\top$$\n",
    "$$C_i\\approx A_iB_i\\approx \\langle b_i, c_i\\rangle a_i d_i^\\top$$"
   ]
  },
  {
   "cell_type": "code",
   "execution_count": 119,
   "id": "56746b1c-9f5b-47cd-b7fa-11f9e84739d7",
   "metadata": {},
   "outputs": [
    {
     "data": {
      "text/plain": [
       "(tensor(0.9993), tensor(0.9994))"
      ]
     },
     "execution_count": 119,
     "metadata": {},
     "output_type": "execute_result"
    }
   ],
   "source": [
    "a, b, c, d, A_expl, B_expl= [], [], [], [], [], []\n",
    "for i in range(len(irrep_idxs)):\n",
    "    lu, ls, lv = t.linalg.svd(A[i])\n",
    "    ru, rs, rv = t.linalg.svd(B[i])\n",
    "    a.append(lu[:,0])\n",
    "    b.append(lv[0])\n",
    "    c.append(ru[:,0])\n",
    "    d.append(rv[0])\n",
    "    A_expl.append(ls[0]**2 / ls.pow(2).sum())\n",
    "    B_expl.append(rs[0]**2 / rs.pow(2).sum())\n",
    "a, b, c, d = t.stack(a, dim=0), t.stack(b, dim=0), t.stack(c, dim=0), t.stack(d, dim=0)\n",
    "min(A_expl), min(B_expl)"
   ]
  },
  {
   "cell_type": "markdown",
   "id": "67fc899f-9cce-4086-a556-ed4bf41b3714",
   "metadata": {},
   "source": [
    "### $a_i,d_i$ are approx. constant and equal"
   ]
  },
  {
   "cell_type": "code",
   "execution_count": 120,
   "id": "853507e0-6c30-4f7a-84ad-d35e56d6d555",
   "metadata": {},
   "outputs": [],
   "source": [
    "# Clear up sign ambiguity from SVD\n",
    "a_sign = t.sign(a[:,0])\n",
    "a = t.diag(a_sign) @ a\n",
    "b = t.diag(a_sign) @ b\n",
    "d_sign = t.sign(d[:,0])\n",
    "c = t.diag(d_sign) @ c\n",
    "d = t.diag(d_sign) @ d"
   ]
  },
  {
   "cell_type": "code",
   "execution_count": 121,
   "id": "7343ec70-fa6b-40eb-95cc-5d9ebd5f16ad",
   "metadata": {},
   "outputs": [
    {
     "name": "stdout",
     "output_type": "stream",
     "text": [
      "tensor(1.2894e-06)\n",
      "tensor(0.9983)\n",
      "tensor(0.9984)\n",
      "tensor(9.2050e-07)\n"
     ]
    }
   ],
   "source": [
    "for v in [a, b, c, d]:\n",
    "    print((v - v.mean(dim=0)).norm()**2 / v.norm()**2)"
   ]
  },
  {
   "cell_type": "code",
   "execution_count": 122,
   "id": "f8ca2a6f-c31c-478f-9662-69295609de0b",
   "metadata": {},
   "outputs": [
    {
     "data": {
      "text/plain": [
       "tensor(9.1115e-08)"
      ]
     },
     "execution_count": 122,
     "metadata": {},
     "output_type": "execute_result"
    }
   ],
   "source": [
    "(a.mean(dim=0) - d.mean(dim=0)).norm()**2 / a.mean(dim=0).norm()**2"
   ]
  },
  {
   "cell_type": "code",
   "execution_count": null,
   "id": "531f5cef-60b3-4cc5-83e4-0d8a260e4f1d",
   "metadata": {},
   "outputs": [],
   "source": [
    "for i, j in product(range(irrep_d), repeat=2):\n",
    "    if i >= j:\n",
    "        continue\n",
    "    print(i, j)\n",
    "    plt.scatter(b[:,i].tolist(), b[:,j].tolist(), alpha=0.5)\n",
    "    plt.scatter(c[:,i].tolist(), c[:,j].tolist(), alpha=0.5)\n",
    "    plt.show()"
   ]
  },
  {
   "cell_type": "markdown",
   "id": "4caf4a34-481d-48a8-9a66-5489f3bbe1cd",
   "metadata": {},
   "source": [
    "### b_i and c_i are clustered"
   ]
  },
  {
   "cell_type": "code",
   "execution_count": 126,
   "id": "c884e2ae-b276-4e3f-91ea-9f598e210489",
   "metadata": {},
   "outputs": [
    {
     "name": "stdout",
     "output_type": "stream",
     "text": [
      "tensor(0.0191)\n",
      "tensor(0.0312)\n"
     ]
    }
   ],
   "source": [
    "n_clusters = 22\n",
    "\n",
    "from sklearn.cluster import KMeans\n",
    "c_kmeans = KMeans(n_clusters=n_clusters, random_state=42).fit(c.numpy())\n",
    "# kmeans.score is negative average squared l2 dist to cluster centroid\n",
    "print(-c_kmeans.score(c.numpy()) / c.norm()**2)\n",
    "c_mean = t.tensor(c_kmeans.cluster_centers_)\n",
    "\n",
    "from sklearn.cluster import KMeans\n",
    "b_kmeans = KMeans(n_clusters=n_clusters, random_state=42).fit(b.numpy())\n",
    "# kmeans.score is negative average squared l2 dist to cluster centroid\n",
    "print(-b_kmeans.score(b.numpy()) / b.norm()**2)\n",
    "b_mean = t.tensor(b_kmeans.cluster_centers_)\n",
    "\n",
    "\n",
    "c_labels = c_kmeans.labels_\n",
    "b_labels = b_kmeans.labels_"
   ]
  },
  {
   "cell_type": "code",
   "execution_count": 128,
   "id": "ff84fdca-0025-45de-ba42-fa38cba0e789",
   "metadata": {},
   "outputs": [
    {
     "ename": "TypeError",
     "evalue": "sorted expected 1 argument, got 0",
     "output_type": "error",
     "traceback": [
      "\u001b[0;31m---------------------------------------------------------------------------\u001b[0m",
      "\u001b[0;31mTypeError\u001b[0m                                 Traceback (most recent call last)",
      "Cell \u001b[0;32mIn[128], line 15\u001b[0m\n\u001b[1;32m     13\u001b[0m         c_parts\u001b[38;5;241m.\u001b[39mappend(c_set)\n\u001b[1;32m     14\u001b[0m         b_parts\u001b[38;5;241m.\u001b[39mappend({i})\n\u001b[0;32m---> 15\u001b[0m     \u001b[38;5;28mprint\u001b[39m(\u001b[38;5;124mf\u001b[39m\u001b[38;5;124m'\u001b[39m\u001b[38;5;124mb=\u001b[39m\u001b[38;5;132;01m{\u001b[39;00mi\u001b[38;5;132;01m}\u001b[39;00m\u001b[38;5;124m, c=\u001b[39m\u001b[38;5;132;01m{\u001b[39;00m\u001b[38;5;28;43msorted\u001b[39;49m\u001b[43m(\u001b[49m\u001b[43m)\u001b[49m\u001b[38;5;132;01m}\u001b[39;00m\u001b[38;5;124m'\u001b[39m)\n\u001b[1;32m     17\u001b[0m \u001b[38;5;28mprint\u001b[39m(b_parts)\n\u001b[1;32m     18\u001b[0m \u001b[38;5;28mprint\u001b[39m(c_parts)\n",
      "\u001b[0;31mTypeError\u001b[0m: sorted expected 1 argument, got 0"
     ]
    }
   ],
   "source": [
    "b_parts = []\n",
    "c_parts = []\n",
    "for i in range(22):\n",
    "    c_set = set(c_labels[b_labels == i].tolist())\n",
    "    done = False\n",
    "    for j in range(len(c_parts)):\n",
    "        if c_set.issubset(c_parts[j]) or c_parts[j].issubset(c_set):\n",
    "            c_parts[j] = c_set.union(c_parts[j])\n",
    "            b_parts[j].add(i)\n",
    "            done = True\n",
    "            break\n",
    "    if not done:\n",
    "        c_parts.append(c_set)\n",
    "        b_parts.append({i})\n",
    "    print(f'b={i}, c={sorted(c_set)}')\n",
    "\n",
    "print(b_parts)\n",
    "print(c_parts)"
   ]
  },
  {
   "cell_type": "code",
   "execution_count": 71,
   "id": "df982f93-37d3-412a-9af2-776d956aaeea",
   "metadata": {},
   "outputs": [],
   "source": [
    "c_part1 = [0, 1, 3, 6, 8]\n",
    "c_part2 = [2, 4, 5, 7, 9]\n",
    "b_part1 = [0, 1, 3, 4, 9]\n",
    "b_part2 = [2, 5, 6, 7, 8]"
   ]
  },
  {
   "cell_type": "code",
   "execution_count": 72,
   "id": "91cdbe94",
   "metadata": {},
   "outputs": [
    {
     "data": {
      "text/plain": [
       "tensor([[ 1.0000, -0.2505, -0.2506,  0.2491, -1.0000],\n",
       "        [-0.2505,  1.0000, -0.2503,  0.2499,  0.2501],\n",
       "        [-0.2506, -0.2503,  1.0000,  0.2493,  0.2530],\n",
       "        [ 0.2491,  0.2499,  0.2493,  1.0000, -0.2477],\n",
       "        [-1.0000,  0.2501,  0.2530, -0.2477,  1.0000]])"
      ]
     },
     "execution_count": 72,
     "metadata": {},
     "output_type": "execute_result"
    }
   ],
   "source": [
    "(b_mean[b_part2] @ b_mean[b_part2].T)"
   ]
  },
  {
   "cell_type": "code",
   "execution_count": 73,
   "id": "7f182980-20f0-4d4c-8c6a-1c221b1b10b1",
   "metadata": {},
   "outputs": [
    {
     "data": {
      "text/plain": [
       "tensor([[ 1.0000,  0.2500, -0.2521, -0.2511,  0.2485],\n",
       "        [ 0.2500,  1.0000,  0.2490,  0.2505, -0.2500],\n",
       "        [-0.2521,  0.2490,  1.0000, -0.2477,  0.2512],\n",
       "        [-0.2511,  0.2505, -0.2477,  1.0000,  0.2501],\n",
       "        [ 0.2485, -0.2500,  0.2512,  0.2501,  1.0000]])"
      ]
     },
     "execution_count": 73,
     "metadata": {},
     "output_type": "execute_result"
    }
   ],
   "source": [
    "(c_mean[c_part1] @ c_mean[c_part1].T)"
   ]
  },
  {
   "cell_type": "code",
   "execution_count": 74,
   "id": "6fa9dd7b-764b-41f7-be66-57c407331744",
   "metadata": {},
   "outputs": [
    {
     "data": {
      "text/plain": [
       "tensor([[ 0.2504, -0.2482, -1.0000,  0.2502, -0.2512],\n",
       "        [-0.2499,  0.2461,  1.0000, -0.2526,  0.2513],\n",
       "        [-0.2531,  0.2481, -0.2500,  1.0000,  0.2481],\n",
       "        [-1.0000, -0.2504,  0.2519,  0.2510, -0.2483],\n",
       "        [-0.2504,  0.2520, -0.2488, -0.2485, -1.0000]])"
      ]
     },
     "execution_count": 74,
     "metadata": {},
     "output_type": "execute_result"
    }
   ],
   "source": [
    "(b_mean[b_part1] @ c_mean[c_part1].T)"
   ]
  },
  {
   "cell_type": "code",
   "execution_count": 75,
   "id": "26d1865a",
   "metadata": {},
   "outputs": [
    {
     "name": "stdout",
     "output_type": "stream",
     "text": [
      "tensor([[-0.2491, -0.2487, -0.2501, -1.0000,  0.2477],\n",
      "        [-0.2499, -0.2505, -0.2499,  0.2500,  0.2492],\n",
      "        [ 1.0000, -0.2497, -0.2495,  0.2506, -1.0000],\n",
      "        [ 0.2502, -1.0000,  0.2508, -0.2503, -0.2498],\n",
      "        [ 0.2515,  0.2473,  0.2494,  1.0000, -0.2502]])\n",
      "tensor([[-0.2499,  0.2504,  1.0000,  0.2505,  0.2482],\n",
      "        [ 0.2514, -0.2490,  0.2504, -0.2465,  1.0000],\n",
      "        [-0.2499, -1.0000, -0.2494,  0.2539,  0.2473],\n",
      "        [-1.0000, -0.2501,  0.2484, -0.2464, -0.2538],\n",
      "        [ 0.2533, -0.2494,  0.2505,  1.0000, -0.2512]])\n",
      "tensor([[-0.2500,  1.0000, -0.2494,  0.2503,  0.2497],\n",
      "        [-0.2495, -0.2496, -0.2499,  0.2513,  0.2488],\n",
      "        [-0.2492, -0.2502, -0.2499, -1.0000,  0.2479],\n",
      "        [-1.0000,  0.2496,  0.2511, -0.2492,  1.0000],\n",
      "        [ 0.2487, -1.0000,  0.2487, -0.2527, -0.2483]])\n",
      "tensor([[-0.2495,  0.2517, -0.2493, -1.0000,  0.2539],\n",
      "        [ 0.2490, -0.2490,  0.2521, -0.2472,  1.0000],\n",
      "        [-0.2509, -1.0000, -0.2497,  0.2527,  0.2473],\n",
      "        [ 0.2479, -0.2505, -1.0000, -0.2493, -0.2513],\n",
      "        [-1.0000, -0.2477,  0.2533, -0.2495, -0.2481]])\n",
      "tensor([[-0.2490, -0.2519, -0.2480,  0.2514,  0.2483],\n",
      "        [-0.2519,  1.0000, -0.2499,  0.2502,  0.2516],\n",
      "        [-0.2480, -0.2499, -0.2511, -1.0000,  0.2466],\n",
      "        [ 0.2514,  0.2502, -1.0000, -0.2475, -0.2538],\n",
      "        [ 0.2483,  0.2516,  0.2466, -0.2538, -0.2476]])\n",
      "tensor([[-0.2502, -1.0000, -0.2494,  0.2535,  0.2475],\n",
      "        [-1.0000, -0.2493,  0.2509, -0.2489, -0.2496],\n",
      "        [-0.2494,  0.2509, -0.2496, -1.0000,  0.2545],\n",
      "        [ 0.2535, -0.2489, -1.0000, -0.2509, -0.2456],\n",
      "        [ 0.2475, -0.2496,  0.2545, -0.2456,  1.0000]])\n"
     ]
    }
   ],
   "source": [
    "for _ in range(3):\n",
    "    i = random.choice(range(irrep.shape[0]))\n",
    "    print(b_mean[b_part2] @ irrep[i] @ b_mean[b_part2].T)\n",
    "    print(c_mean[c_part2] @ irrep[i].T @ c_mean[c_part2].T)"
   ]
  },
  {
   "cell_type": "markdown",
   "id": "c00edddf-6ece-4254-8daa-2edcda98ed63",
   "metadata": {},
   "source": [
    "### Activations are clustered"
   ]
  },
  {
   "cell_type": "code",
   "execution_count": 77,
   "id": "652e3ada-3f49-4b25-b0be-f151d3643db8",
   "metadata": {},
   "outputs": [],
   "source": [
    "embedding_left = model.embedding_left.squeeze(0)\n",
    "embedding_right = model.embedding_right.squeeze(0)\n",
    "linear = model.linear.squeeze(0)\n",
    "unembedding = model.unembedding.squeeze(0).T\n",
    "# There's a degree of freedom with embedding/unembedding norm.\n",
    "# Rescale so that each unembedding column is norm 1\n",
    "u_norm = unembedding.norm(dim=0)\n",
    "unembedding = unembedding / u_norm\n",
    "linear = linear * u_norm"
   ]
  },
  {
   "cell_type": "code",
   "execution_count": 78,
   "id": "983e5927-3ff9-491d-bc03-60ad4c265c9a",
   "metadata": {},
   "outputs": [],
   "source": [
    "N = len(group)\n",
    "inputs = t.tensor(list(product(range(N), repeat=2)), device=device)\n",
    "l_in, r_in = inputs[..., 0], inputs[..., 1]\n",
    "l_onehot = F.one_hot(l_in, num_classes=N).float()\n",
    "r_onehot = F.one_hot(r_in, num_classes=N).float()\n",
    "l_embed = einops.einsum(l_onehot, embedding_left, 'batch group, group embed -> batch embed')\n",
    "r_embed = einops.einsum(r_onehot, embedding_right, 'batch group, group embed -> batch embed')\n",
    "l_act = einops.einsum(l_embed, linear, 'batch embed, embed hid -> batch hid')\n",
    "r_act = einops.einsum(r_embed, linear, 'batch embed, embed hid -> batch hid')\n",
    "l_act = l_act[:, irrep_idxs]\n",
    "r_act = r_act[:, irrep_idxs]"
   ]
  },
  {
   "cell_type": "code",
   "execution_count": null,
   "id": "dbb533c7-f398-4029-a40d-7982277c0e5b",
   "metadata": {},
   "outputs": [],
   "source": [
    "for i in range(15):\n",
    "    plt.hist(l_act[:,i].tolist(), alpha=0.4)\n",
    "    plt.hist(r_act[:,i].tolist(), alpha=0.4)\n",
    "    plt.show()"
   ]
  },
  {
   "cell_type": "code",
   "execution_count": 80,
   "id": "50ccb435",
   "metadata": {},
   "outputs": [
    {
     "data": {
      "image/png": "[encoded data removed]",
      "text/plain": [
       "<Figure size 640x480 with 1 Axes>"
      ]
     },
     "metadata": {},
     "output_type": "display_data"
    }
   ],
   "source": [
    "plt.scatter(coef.tolist(), l_act.max(dim=0)[0].tolist())\n",
    "plt.show()"
   ]
  },
  {
   "cell_type": "code",
   "execution_count": 81,
   "id": "dfb92c44",
   "metadata": {},
   "outputs": [],
   "source": [
    "big_neurons = (l_act.max(dim=0)[0] > 15).nonzero()"
   ]
  },
  {
   "cell_type": "code",
   "execution_count": 82,
   "id": "fbdc8d34",
   "metadata": {},
   "outputs": [
    {
     "data": {
      "text/plain": [
       "[0, 1, 3, 4, 9]"
      ]
     },
     "execution_count": 82,
     "metadata": {},
     "output_type": "execute_result"
    }
   ],
   "source": [
    "b_part1"
   ]
  },
  {
   "cell_type": "code",
   "execution_count": 83,
   "id": "0aa6d40b",
   "metadata": {},
   "outputs": [
    {
     "data": {
      "text/plain": [
       "array([[4],\n",
       "       [5],\n",
       "       [6],\n",
       "       [2],\n",
       "       [6],\n",
       "       [4],\n",
       "       [2],\n",
       "       [6],\n",
       "       [0],\n",
       "       [0],\n",
       "       [6],\n",
       "       [2],\n",
       "       [5],\n",
       "       [5],\n",
       "       [4],\n",
       "       [4],\n",
       "       [2],\n",
       "       [4],\n",
       "       [0],\n",
       "       [5],\n",
       "       [6],\n",
       "       [0],\n",
       "       [0]], dtype=int32)"
      ]
     },
     "execution_count": 83,
     "metadata": {},
     "output_type": "execute_result"
    }
   ],
   "source": [
    "b_labels[big_neurons]"
   ]
  },
  {
   "cell_type": "code",
   "execution_count": 85,
   "id": "a3f5be04",
   "metadata": {},
   "outputs": [],
   "source": [
    "def ablate_loss(ln, rn, un):\n",
    "    ablate_model = copy.deepcopy(model)\n",
    "    ablate_model.linear.data = t.eye(ln.shape[1]).unsqueeze(0)\n",
    "    ablate_model.embedding_left.data = ln.unsqueeze(0)\n",
    "    ablate_model.embedding_right.data = rn.unsqueeze(0)\n",
    "    ablate_model.unembedding.data = un.unsqueeze(0).mT\n",
    "    return test_loss(ablate_model.to(device), data)"
   ]
  },
  {
   "cell_type": "code",
   "execution_count": 88,
   "id": "6e5c5b50",
   "metadata": {},
   "outputs": [],
   "source": [
    "big_mask = l_act.max(dim=0)[0] > 15\n",
    "small_mask = l_act.max(dim=0)[0] < 3\n",
    "part1_mask = t.tensor([i in b_part1 for i in b_labels], device=device)\n",
    "part2_mask = t.tensor([i in b_part2 for i in b_labels], device=device)"
   ]
  },
  {
   "cell_type": "code",
   "execution_count": 102,
   "id": "ff4e03fb",
   "metadata": {},
   "outputs": [
    {
     "name": "stdout",
     "output_type": "stream",
     "text": [
      "{'G0_loss': tensor([0.8658]), 'G0_acc': tensor([0.5001])}\n",
      "{'G0_loss': tensor([1.4867]), 'G0_acc': tensor([0.3433])}\n",
      "{'G0_loss': tensor([4.2793]), 'G0_acc': tensor([0.3035])}\n",
      "{'G0_loss': tensor([3.3410]), 'G0_acc': tensor([0.1060])}\n",
      "{'G0_loss': tensor([2.6429]), 'G0_acc': tensor([0.1717])}\n",
      "{'G0_loss': tensor([3.5448]), 'G0_acc': tensor([0.0409])}\n",
      "{'G0_loss': tensor([4.5008]), 'G0_acc': tensor([0.0628])}\n",
      "{'G0_loss': tensor([3.2302]), 'G0_acc': tensor([0.0570])}\n",
      "{'G0_loss': tensor([4.5770]), 'G0_acc': tensor([0.0439])}\n"
     ]
    }
   ],
   "source": [
    "print(ablate_loss(irrep_lneurons, irrep_rneurons, irrep_uneurons))\n",
    "print(ablate_loss(irrep_lneurons[:,big_mask], irrep_rneurons[:,big_mask], irrep_uneurons[:,big_mask]))\n",
    "print(ablate_loss(irrep_lneurons[:,small_mask], irrep_rneurons[:,small_mask], irrep_uneurons[:,small_mask]))\n",
    "print(ablate_loss(irrep_lneurons[:,part1_mask], irrep_rneurons[:,part1_mask], irrep_uneurons[:,part1_mask]))\n",
    "print(ablate_loss(irrep_lneurons[:,part2_mask], irrep_rneurons[:,part2_mask], irrep_uneurons[:,part2_mask]))\n",
    "print(ablate_loss(irrep_lneurons[:,part1_mask & big_mask], irrep_rneurons[:,part1_mask & big_mask], irrep_uneurons[:,part1_mask & big_mask]))\n",
    "print(ablate_loss(irrep_lneurons[:,part1_mask & small_mask], irrep_rneurons[:,part1_mask & small_mask], irrep_uneurons[:,part1_mask & small_mask]))\n",
    "print(ablate_loss(irrep_lneurons[:,part2_mask & big_mask], irrep_rneurons[:,part2_mask & big_mask], irrep_uneurons[:,part2_mask & big_mask]))\n",
    "print(ablate_loss(irrep_lneurons[:,part2_mask & small_mask], irrep_rneurons[:,part2_mask & small_mask], irrep_uneurons[:,part2_mask & small_mask]))\n"
   ]
  },
  {
   "cell_type": "code",
   "execution_count": 103,
   "id": "117958d7",
   "metadata": {},
   "outputs": [
    {
     "data": {
      "text/plain": [
       "{'G0_loss': tensor([29.3090]), 'G0_acc': tensor([0.5001])}"
      ]
     },
     "execution_count": 103,
     "metadata": {},
     "output_type": "execute_result"
    }
   ],
   "source": [
    "ablate_loss(10*irrep_lneurons, 10*irrep_rneurons, 10*irrep_uneurons)"
   ]
  },
  {
   "cell_type": "code",
   "execution_count": 94,
   "id": "9607b4c8",
   "metadata": {},
   "outputs": [
    {
     "data": {
      "text/plain": [
       "torch.Size([120, 52])"
      ]
     },
     "execution_count": 94,
     "metadata": {},
     "output_type": "execute_result"
    }
   ],
   "source": [
    "irrep_lneurons.shape"
   ]
  },
  {
   "cell_type": "code",
   "execution_count": 101,
   "id": "92c393d7",
   "metadata": {},
   "outputs": [
    {
     "data": {
      "text/plain": [
       "(tensor(23), tensor(25))"
      ]
     },
     "execution_count": 101,
     "metadata": {},
     "output_type": "execute_result"
    }
   ],
   "source": [
    "big_mask.sum(), small_mask.sum() "
   ]
  },
  {
   "cell_type": "code",
   "execution_count": null,
   "id": "a71abab3",
   "metadata": {},
   "outputs": [],
   "source": []
  }
 ],
 "metadata": {
  "kernelspec": {
   "display_name": "Python 3 (ipykernel)",
   "language": "python",
   "name": "python3"
  },
  "language_info": {
   "codemirror_mode": {
    "name": "ipython",
    "version": 3
   },
   "file_extension": ".py",
   "mimetype": "text/x-python",
   "name": "python",
   "nbconvert_exporter": "python",
   "pygments_lexer": "ipython3",
   "version": "3.10.12"
  }
 },
 "nbformat": 4,
 "nbformat_minor": 5
}
