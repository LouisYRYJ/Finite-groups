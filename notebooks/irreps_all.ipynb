{
 "cells": [
  {
   "cell_type": "markdown",
   "id": "5398ebd2-48ab-423a-b560-92e9d2374a0b",
   "metadata": {},
   "source": [
    "### Setup"
   ]
  },
  {
   "cell_type": "code",
   "execution_count": 3,
   "id": "aeaec889-8f37-480c-861d-8a434e24fe26",
   "metadata": {},
   "outputs": [],
   "source": [
    "import os, sys\n",
    "HOME = os.environ['HOME']  # change if necessary\n",
    "sys.path.append(f'{HOME}/Finite-groups/src')"
   ]
  },
  {
   "cell_type": "code",
   "execution_count": 4,
   "id": "8293bd26-5402-4955-a9c6-ed25d4b90d4f",
   "metadata": {},
   "outputs": [
    {
     "name": "stderr",
     "output_type": "stream",
     "text": [
      "Syntax warning: Unbound global variable in /usr/share/gap/pkg/browse/PackageIn\\\n",
      "fo.g:73\n",
      "  if not IsKernelExtensionAvailable(\"Browse\", \"ncurses\") then\n",
      "         ^^^^^^^^^^^^^^^^^^^^^^^^^^\n",
      "Syntax warning: Unbound global variable in /usr/share/gap/pkg/edim/PackageInfo\\\n",
      ".g:60\n",
      "  if not IsKernelExtensionAvailable(\"EDIM\",\"ediv\") then\n",
      "         ^^^^^^^^^^^^^^^^^^^^^^^^^^\n"
     ]
    }
   ],
   "source": [
    "import torch as t\n",
    "import numpy as np\n",
    "from matplotlib import pyplot as plt\n",
    "import json\n",
    "from itertools import product\n",
    "from jaxtyping import Float\n",
    "from torch.utils.data import DataLoader\n",
    "from tqdm.notebook import tqdm\n",
    "import plotly.graph_objects as go\n",
    "import copy\n",
    "import math\n",
    "from itertools import product\n",
    "import pandas as pd\n",
    "from typing import Union\n",
    "from einops import repeat\n",
    "from huggingface_hub import snapshot_download\n",
    "from huggingface_hub.utils import disable_progress_bars\n",
    "\n",
    "\n",
    "from model import MLP3, MLP4, InstancedModule\n",
    "from utils import *\n",
    "from group_data import *\n",
    "from model_utils import *\n",
    "from group_utils import *\n",
    "%load_ext autoreload\n",
    "%autoreload 2"
   ]
  },
  {
   "cell_type": "code",
   "execution_count": 5,
   "id": "0f473f11-9236-4bbf-b401-c6e92cd35923",
   "metadata": {},
   "outputs": [
    {
     "name": "stdout",
     "output_type": "stream",
     "text": [
      "Intersection size: 14400/14400 (1.00)\n",
      "Added 14400 elements from intersection\n",
      "Added 0 elements from group 0: smallgrp(120, 5)\n",
      "Taking random subset: 5760/14400 (0.40)\n",
      "Train set size: 5760/14400 (0.40)\n"
     ]
    },
    {
     "name": "stderr",
     "output_type": "stream",
     "text": [
      "/home/wilson/Finite-groups/src/model_utils.py:48: FutureWarning: You are using `torch.load` with `weights_only=False` (the current default value), which uses the default pickle module implicitly. It is possible to construct malicious pickle data which will execute arbitrary code during unpickling (See https://github.com/pytorch/pytorch/blob/main/SECURITY.md#untrusted-models for more details). In a future release, the default value for `weights_only` will be flipped to `True`. This limits the functions that could be executed during unpickling. Arbitrary objects will no longer be allowed to be loaded via this mode unless they are explicitly allowlisted by the user via `torch.serialization.add_safe_globals`. We recommend you start setting `weights_only=True` for any use case where you don't have full control of the loaded file. Please open an issue on GitHub for any issues related to this experimental feature.\n",
      "  model.load_state_dict(t.load(model_path, map_location=device))\n"
     ]
    }
   ],
   "source": [
    "device = t.device(\"cuda\" if t.cuda.is_available() else \"cpu\")\n",
    "MODEL_DIR = '2024-08-16_22-53-29_SL2_5_MLP3_256'\n",
    "# MODEL_DIR = '2024-08-14_21-24-30_gapS_5_'\n",
    "#MODEL_DIR = '2024-08-27_16-32-46_Dic30_MLP3_128'\n",
    "# MODEL_DIR = '2024-08-27_23-16-05_F11_MLP3_256'\n",
    "disable_progress_bars()\n",
    "local_dir = f'{HOME}/models/{MODEL_DIR}'\n",
    "snapshot_download(repo_id=f'wiwu2390/{MODEL_DIR}', local_dir=local_dir)\n",
    "models, params = load_models(local_dir)\n",
    "data = GroupData(params)\n",
    "group = data.groups[0]"
   ]
  },
  {
   "cell_type": "markdown",
   "id": "f0f21317-778f-4e55-970c-1ec604f95930",
   "metadata": {},
   "source": [
    "`models` (returned from `load_models`) is a list of InstancedModule objects, one for each training checkpoint that we chose to save. For most runs, we only save the final checkpoints, so `len(models)==1`\n",
    "\n",
    "For efficiency during training, the InstancedModule object contains 100 different instances starting from different random initializations. \n",
    "\n",
    "Here, we look only at the one with best test accuracy."
   ]
  },
  {
   "cell_type": "code",
   "execution_count": 6,
   "id": "ccb4a6de-eabe-4535-9d3f-df78a05f3633",
   "metadata": {},
   "outputs": [
    {
     "name": "stdout",
     "output_type": "stream",
     "text": [
      "tensor(0.0567) tensor(19)\n"
     ]
    }
   ],
   "source": [
    "loss_dict = test_loss(models[-1].to(device), data)\n",
    "print(loss_dict['G0_loss'].min(), loss_dict['G0_loss'].argmin())\n",
    "instance = loss_dict['G0_loss'].argmin().item()\n",
    "model = models[-1][instance].to(device)"
   ]
  },
  {
   "cell_type": "markdown",
   "id": "2e3f6194-2716-46ca-972f-a88fe0f49de4",
   "metadata": {},
   "source": [
    "`MLP3` architecture is\n",
    "$$f(z\\mid x, y) = W_u(z)\\cdot\\text{ReLU}[W_h(W_l(x)+W_r(y))]] = \\sum_i w_u^i(z) \\text{ReLU}[w_l^i(x)+w_r^i(y)]$$\n",
    "where $w_u^i, w_l^i, w_r^i\\in\\mathbb{R}^G$ are the columns of $W_u, (W_hW_l)^{\\top}, (W_hW_r)^{\\top}$ respectively."
   ]
  },
  {
   "cell_type": "code",
   "execution_count": 7,
   "id": "1b3e1c90-45f9-43dc-b2bf-6fa305d7d196",
   "metadata": {},
   "outputs": [
    {
     "data": {
      "text/plain": [
       "(torch.Size([120, 256]), torch.Size([120, 256]), torch.Size([120, 256]))"
      ]
     },
     "execution_count": 7,
     "metadata": {},
     "output_type": "execute_result"
    }
   ],
   "source": [
    "# model.get_neurons() folds the linear map into the embeddings\n",
    "lneurons, rneurons = model.get_neurons()\n",
    "uneurons = model.unembedding.data.detach()\n",
    "lneurons, rneurons, uneurons = lneurons.squeeze(0).to('cpu'), rneurons.squeeze(0).to('cpu'), uneurons.squeeze(0).to('cpu').T\n",
    "# lneurons = t.complex(lneurons, t.zeros_like(lneurons))\n",
    "# rneurons = t.complex(rneurons, t.zeros_like(rneurons))\n",
    "# uneurons = t.complex(uneurons, t.zeros_like(uneurons))\n",
    "lneurons = t.complex(t.zeros_like(lneurons), lneurons)\n",
    "rneurons = t.complex(t.zeros_like(rneurons), rneurons)\n",
    "uneurons = t.complex(t.zeros_like(uneurons), uneurons)\n",
    "lneurons.shape, rneurons.shape, uneurons.shape"
   ]
  },
  {
   "cell_type": "markdown",
   "id": "9fa29f76-c012-4918-be8e-e761813b918d",
   "metadata": {},
   "source": [
    "### Neurons are irrep-sparse"
   ]
  },
  {
   "cell_type": "markdown",
   "id": "81da1cb7-4ee6-4e51-a1b8-872b3b594e1c",
   "metadata": {},
   "source": [
    "I.e., each neuron is a linear combination of matrix entries of some irrep.\n",
    "\n",
    "That is, for each $i$, there exists an irrep $\\rho_i\\colon G\\to\\text{GL}(\\mathbb{R}^d)$ such that, for some $A_i,B_i,C_i$,\n",
    "$$w_l^i(x) \\approx \\text{tr}(\\rho_i(x) A_i)$$\n",
    "$$w_r^i(y) \\approx \\text{tr}(\\rho_i(y) B_i)$$\n",
    "$$w_u^i(z) \\approx \\text{tr}(\\rho_i(z) C_i)$$\n",
    "\n",
    "(This was first noticed by Chughtai et al.)"
   ]
  },
  {
   "cell_type": "markdown",
   "id": "9decac2b-f6c2-4a90-9ea8-99016c469344",
   "metadata": {},
   "source": [
    "**Notation**: 4d-0 is the 1st degree 4 irrep, 4d-1 is the 2nd, etc. Ordering is arbitrary but is consistent between runs (I think)\n",
    "\n",
    "Note that 4d-2 is a real irrep (Frobenius-Schur indicator = 1) and thus has entries orthogonal over $\\mathbb{R}^G$. This is not true of 4d-0 or 4d-1."
   ]
  },
  {
   "cell_type": "code",
   "execution_count": 17,
   "id": "a38ffde5-1654-45e2-8494-0c7103391bb6",
   "metadata": {},
   "outputs": [
    {
     "name": "stdout",
     "output_type": "stream",
     "text": [
      "dict_keys(['1d-0', '2d-0', '2d-1', '3d-0', '3d-1', '4d-0', '4d-1', '5d-0', '6d-0'])\n"
     ]
    }
   ],
   "source": [
    "# irreps = group.get_real_irreps(verbose=True)\n",
    "irreps = group.get_irreps()\n",
    "print(irreps.keys())"
   ]
  },
  {
   "cell_type": "code",
   "execution_count": 18,
   "id": "103c47dc-865a-4fbe-b9be-1e9d2b63a7e4",
   "metadata": {},
   "outputs": [
    {
     "name": "stdout",
     "output_type": "stream",
     "text": [
      "1d-0 torch.Size([120, 1])\n",
      "2d-0 torch.Size([120, 4])\n",
      "2d-1 torch.Size([120, 4])\n",
      "3d-0 torch.Size([120, 9])\n",
      "3d-1 torch.Size([120, 9])\n",
      "4d-0 torch.Size([120, 16])\n",
      "4d-1 torch.Size([120, 16])\n",
      "5d-0 torch.Size([120, 25])\n",
      "6d-0 torch.Size([120, 36])\n"
     ]
    }
   ],
   "source": [
    "# Get orthogonal basis for each irrep\n",
    "irrep_bases = dict()\n",
    "for name, irrep in irreps.items():\n",
    "    irrep = einops.rearrange(irrep, 'N d1 d2 -> N (d1 d2)')\n",
    "    U, S, V = t.svd(irrep)\n",
    "    nonzero = S > 1e-5\n",
    "    irrep_bases[name] = U[:,nonzero]\n",
    "\n",
    "# Dimension of subspace spanned by each irrep\n",
    "for k, v in irrep_bases.items():\n",
    "    print(k, v.shape)"
   ]
  },
  {
   "cell_type": "code",
   "execution_count": 19,
   "id": "3d32e6f1-297a-4e02-9a48-0d01e2dfb32a",
   "metadata": {},
   "outputs": [],
   "source": [
    "# Proportion of variance explained by each irrep, for each neuron\n",
    "lexpl, rexpl, uexpl = dict(), dict(), dict()\n",
    "\n",
    "for name, basis in irrep_bases.items():\n",
    "    lproj = basis.T @ lneurons\n",
    "    lexpl[name] = (basis.T @ lneurons).norm(dim=0)**2 / (lneurons.norm(dim=0)**2 + 1e-8)\n",
    "    rexpl[name] = (basis.T @ rneurons).norm(dim=0)**2 / (rneurons.norm(dim=0)**2 + 1e-8)\n",
    "    uexpl[name] = (basis.T @ uneurons).norm(dim=0)**2 / (uneurons.norm(dim=0)**2 + 1e-8)\n",
    "\n",
    "lexpl_max, lirrep = t.stack(list(lexpl.values()), dim=0).max(dim=0)"
   ]
  },
  {
   "cell_type": "code",
   "execution_count": 20,
   "id": "83c01cf5",
   "metadata": {},
   "outputs": [
    {
     "data": {
      "text/plain": [
       "tensor([9.6526e-01, 9.6479e-01, 5.3398e-06, 2.1284e-12, 9.8065e-06, 4.3271e-07,\n",
       "        1.3073e-03, 4.6958e-07, 2.3386e-10, 0.0000e+00, 6.6564e-05, 1.0090e-07,\n",
       "        3.2989e-06, 1.8392e-05, 4.6918e-06, 1.6729e-05, 9.6624e-01, 9.6942e-01,\n",
       "        9.6445e-01, 4.9134e-07, 2.9427e-36, 8.4965e-06, 9.7221e-01, 1.5505e-01,\n",
       "        2.0718e-08, 4.4040e-06, 9.6206e-01, 0.0000e+00, 1.4253e-02, 0.0000e+00,\n",
       "        9.6459e-01, 5.8649e-27, 9.6873e-01, 9.6685e-01, 7.1095e-03, 9.6357e-01,\n",
       "        9.4334e-01, 9.7287e-01, 9.6502e-01, 9.6087e-01, 9.7725e-01, 9.6819e-01,\n",
       "        7.0039e-18, 9.6431e-01, 2.3780e-06, 9.3428e-07, 0.0000e+00, 9.6488e-01,\n",
       "        9.7382e-15, 9.6426e-01, 7.5480e-06, 9.7209e-01, 7.6932e-06, 2.8643e-05,\n",
       "        1.1178e-32, 3.4625e-06, 8.7067e-32, 3.6154e-06, 9.6504e-01, 8.9453e-27,\n",
       "        9.7123e-01, 2.6629e-02, 1.8293e-03, 0.0000e+00, 5.1622e-01, 2.0198e-06,\n",
       "        9.6935e-01, 9.6175e-01, 3.9526e-06, 1.3225e-02, 9.6642e-01, 9.6330e-01,\n",
       "        5.3142e-07, 9.7611e-01, 9.6535e-01, 9.6719e-01, 0.0000e+00, 9.6934e-01,\n",
       "        4.0572e-28, 5.9557e-07, 9.7591e-01, 9.6472e-01, 9.6144e-01, 9.7017e-01,\n",
       "        9.6540e-01, 9.6982e-01, 9.6637e-01, 9.6573e-01, 9.6913e-01, 9.6811e-01,\n",
       "        9.6822e-01, 9.7881e-01, 1.4264e-06, 9.6393e-01, 1.1099e-02, 9.7051e-01,\n",
       "        3.9958e-06, 9.6404e-01, 1.0550e-06, 9.7393e-01, 9.5724e-01, 9.6910e-01,\n",
       "        9.6750e-01, 9.6849e-01, 4.9064e-17, 5.4398e-04, 6.6549e-31, 9.7249e-18,\n",
       "        9.6552e-01, 9.6839e-01, 9.6356e-01, 4.9256e-22, 9.6107e-01, 3.0219e-31,\n",
       "        9.6030e-01, 9.7039e-01, 9.6556e-01, 9.7365e-01, 8.9848e-06, 3.0545e-06,\n",
       "        9.6845e-01, 8.7721e-35, 9.7084e-01, 9.7328e-01, 9.6055e-01, 1.5175e-01,\n",
       "        9.5924e-01, 9.6636e-01, 5.0593e-06, 9.6194e-01, 9.6464e-01, 9.6920e-01,\n",
       "        1.8537e-06, 9.7079e-01, 9.6667e-01, 9.5799e-01, 1.5005e-06, 9.6548e-01,\n",
       "        5.0360e-33, 9.9375e-07, 9.7085e-01, 9.6873e-01, 7.2946e-06, 1.1453e-05,\n",
       "        4.0310e-05, 1.1340e-02, 1.5672e-05, 3.8426e-25, 3.2718e-06, 1.6149e-05,\n",
       "        9.5277e-02, 6.5014e-10, 9.6171e-01, 1.1231e-06, 9.6659e-01, 9.5714e-01,\n",
       "        9.6751e-01, 9.6775e-01, 9.6958e-01, 9.5892e-01, 9.6297e-01, 9.6725e-01,\n",
       "        9.6065e-01, 6.7427e-01, 1.1757e-08, 9.6607e-01, 9.6175e-01, 9.1957e-01,\n",
       "        9.7556e-01, 9.6248e-01, 9.7040e-01, 9.6576e-01, 1.4482e-04, 9.5912e-01,\n",
       "        1.1045e-30, 9.5823e-01, 9.6985e-01, 9.6488e-01, 9.0877e-07, 9.6557e-01,\n",
       "        4.4929e-29, 9.7585e-01, 9.6767e-01, 9.6750e-01, 9.6442e-01, 9.6569e-01,\n",
       "        9.6406e-01, 0.0000e+00, 9.7101e-01, 9.6790e-01, 6.7189e-01, 9.4576e-01,\n",
       "        9.6992e-01, 9.4588e-01, 9.6026e-01, 9.7238e-01, 9.5750e-01, 1.3788e-06,\n",
       "        1.3693e-04, 9.6912e-01, 1.2942e-05, 9.7620e-01, 9.7661e-01, 9.6098e-01,\n",
       "        6.0643e-01, 7.8780e-06, 9.7137e-01, 2.5557e-06, 1.4949e-12, 8.7126e-07,\n",
       "        9.2607e-01, 7.1118e-07, 9.6516e-01, 3.0293e-05, 6.7282e-06, 6.4503e-06,\n",
       "        9.6876e-01, 3.0560e-06, 9.6509e-01, 9.6017e-01, 9.5896e-01, 3.3520e-03,\n",
       "        5.4565e-07, 9.7134e-01, 3.6748e-15, 2.2697e-06, 2.3486e-06, 9.6837e-01,\n",
       "        7.2571e-06, 3.5916e-08, 4.3886e-12, 3.9511e-07, 9.6669e-01, 9.6867e-01,\n",
       "        1.0169e-02, 3.2549e-05, 9.6852e-01, 9.6768e-01, 9.6527e-01, 1.8060e-32,\n",
       "        9.6334e-01, 8.2085e-23, 2.3234e-19, 0.0000e+00, 1.0098e-06, 2.2210e-06,\n",
       "        9.6563e-01, 9.6315e-01, 6.3009e-07, 2.3103e-16, 9.6115e-01, 0.0000e+00,\n",
       "        2.6963e-06, 9.6545e-01, 1.6941e-05, 9.7130e-01])"
      ]
     },
     "execution_count": 20,
     "metadata": {},
     "output_type": "execute_result"
    }
   ],
   "source": [
    "lexpl['2d-1']"
   ]
  },
  {
   "cell_type": "code",
   "execution_count": 21,
   "id": "8b5e3ad3-02ca-4de7-ba65-fffdab7d4169",
   "metadata": {},
   "outputs": [
    {
     "data": {
      "image/png": "[encoded data removed]",
      "text/plain": [
       "<Figure size 640x480 with 1 Axes>"
      ]
     },
     "metadata": {},
     "output_type": "display_data"
    }
   ],
   "source": [
    "plt.hist(lexpl_max.tolist())\n",
    "plt.title('Left neurons: variance explained by best irrep')\n",
    "plt.show()"
   ]
  },
  {
   "cell_type": "code",
   "execution_count": 22,
   "id": "391db712-4bde-4137-be62-73ae274463ac",
   "metadata": {},
   "outputs": [
    {
     "name": "stdout",
     "output_type": "stream",
     "text": [
      "1d-0 1\n",
      "2d-0 -1\n",
      "2d-1 -1\n",
      "3d-0 1\n",
      "3d-1 1\n",
      "4d-0 1\n",
      "4d-1 -1\n",
      "5d-0 1\n",
      "6d-0 -1\n"
     ]
    }
   ],
   "source": [
    "# Get Frobenius-Schur indicators\n",
    "# +1 means real irrep. Otherwise, complex.\n",
    "for name, irrep in irreps.items():\n",
    "    print(name, group.get_frobenius_schur(irrep))"
   ]
  },
  {
   "cell_type": "code",
   "execution_count": 23,
   "id": "782267d3-ec8a-4a4b-b9b3-7fbbd2fcf0e6",
   "metadata": {},
   "outputs": [
    {
     "name": "stdout",
     "output_type": "stream",
     "text": [
      "1d-0 0\n",
      "2d-0 0\n",
      "2d-1 129\n",
      "3d-0 0\n",
      "3d-1 0\n",
      "4d-0 52\n",
      "4d-1 0\n",
      "5d-0 0\n",
      "6d-0 0\n",
      "none 75\n"
     ]
    }
   ],
   "source": [
    "irrep_idx_dict = {\n",
    "    name: [\n",
    "        i for i in range(lneurons.shape[-1]) \n",
    "        if lexpl[name][i].item() > 0.95 and lneurons[:,i].norm() > 1e-4\n",
    "    ]\n",
    "    for name in irreps\n",
    "}\n",
    "irrep_idx_dict['none'] = {\n",
    "    i for i in range(lneurons.shape[-1])\n",
    "    if all(lexpl[name][i].item() < 0.95 for name in irreps)\n",
    "}\n",
    "for k, v in irrep_idx_dict.items():\n",
    "    print(k, len(v))"
   ]
  },
  {
   "cell_type": "code",
   "execution_count": 24,
   "id": "b617a2bc-2715-427d-97a9-8e9b5686aaaa",
   "metadata": {},
   "outputs": [],
   "source": [
    "irrep_name = '2d-1'\n",
    "irrep_d = irreps[irrep_name].shape[-1]\n",
    "irrep = irreps[irrep_name]\n",
    "irrep_idxs = irrep_idx_dict[irrep_name]\n",
    "irrep_lneurons = lneurons[:, irrep_idxs]\n",
    "irrep_rneurons = rneurons[:, irrep_idxs]\n",
    "irrep_uneurons = uneurons[:, irrep_idxs]"
   ]
  },
  {
   "cell_type": "code",
   "execution_count": 25,
   "id": "4ae58edd-7e10-4c4d-996d-354758bfed8a",
   "metadata": {},
   "outputs": [
    {
     "name": "stdout",
     "output_type": "stream",
     "text": [
      "tensor(0.0003)\n"
     ]
    },
    {
     "data": {
      "text/plain": [
       "(torch.Size([129, 2, 2]), torch.Size([129, 2, 2]), torch.Size([129, 2, 2]))"
      ]
     },
     "execution_count": 25,
     "metadata": {},
     "output_type": "execute_result"
    }
   ],
   "source": [
    "flat_irrep = einops.rearrange(irrep, 'n d1 d2 -> n (d1 d2)')\n",
    "# Project neurons onto subspace spanned by flat_irrep\n",
    "A_flat = (t.linalg.inv(flat_irrep.H @ flat_irrep) @ flat_irrep.T @ irrep_lneurons)\n",
    "B_flat = (t.linalg.inv(flat_irrep.H @ flat_irrep) @ flat_irrep.T @ irrep_rneurons)\n",
    "C_flat = (t.linalg.inv(flat_irrep.H @ flat_irrep) @ flat_irrep.T @ irrep_uneurons)\n",
    "A = einops.rearrange(A_flat, '(d1 d2) m -> m d1 d2', d1=irrep_d, d2=irrep_d).mT\n",
    "B = einops.rearrange(B_flat, '(d1 d2) m -> m d1 d2', d1=irrep_d, d2=irrep_d).mT\n",
    "C = einops.rearrange(C_flat, '(d1 d2) m -> m d1 d2', d1=irrep_d, d2=irrep_d).mT\n",
    "\n",
    "A_norm = t.linalg.matrix_norm(A)\n",
    "B_norm = t.linalg.matrix_norm(B)\n",
    "(A_norm - B_norm).norm()**2 / B_norm.norm()**2\n",
    "print((A_norm - B_norm).norm()**2 / B_norm.norm()**2)\n",
    "\n",
    "# Normalize A and B to have unit Frobenius norm\n",
    "A = A / A_norm.unsqueeze(1).unsqueeze(1)\n",
    "B = B / A_norm.unsqueeze(1).unsqueeze(1)\n",
    "C = C * ( (A_norm + B_norm) / 2).unsqueeze(1).unsqueeze(1)\n",
    "\n",
    "A.shape, B.shape, C.shape"
   ]
  },
  {
   "cell_type": "code",
   "execution_count": 30,
   "id": "d2575542",
   "metadata": {},
   "outputs": [
    {
     "data": {
      "text/plain": [
       "torch.Size([129, 2, 2])"
      ]
     },
     "execution_count": 30,
     "metadata": {},
     "output_type": "execute_result"
    }
   ],
   "source": [
    "A.shape"
   ]
  },
  {
   "cell_type": "code",
   "execution_count": 31,
   "id": "9d9bfe8b",
   "metadata": {},
   "outputs": [
    {
     "data": {
      "text/plain": [
       "tensor([-0.1555+0.0000e+00j, -0.1152-2.6822e-07j,  0.3668+2.0862e-07j,\n",
       "        -0.4380-4.1723e-07j,  0.3419+4.3213e-07j, -0.0918+2.4971e-07j,\n",
       "        -0.7142-1.8626e-07j,  0.8627-2.8312e-07j, -1.3041+1.6391e-07j,\n",
       "         1.2474-5.2154e-08j,  1.0540+3.1580e-07j, -0.8033-1.6391e-07j,\n",
       "        -0.9021-3.1292e-07j,  0.2458-2.9802e-08j,  0.4056+2.6822e-07j,\n",
       "         0.1152+2.6822e-07j,  0.1555+0.0000e+00j, -0.3668-2.0862e-07j,\n",
       "         0.4380+4.1723e-07j, -0.3419-4.3213e-07j,  0.9255-3.5763e-07j,\n",
       "        -0.6548+1.7881e-07j, -0.8427+3.9488e-07j,  0.1340+5.9605e-08j,\n",
       "         0.4380-2.8312e-07j, -0.9255+3.5763e-07j,  0.6548-1.7881e-07j,\n",
       "         0.8427-3.9488e-07j, -0.1340-5.9605e-08j, -0.4380+2.8312e-07j,\n",
       "         0.9588+1.9372e-07j, -0.9388+0.0000e+00j,  0.0324+2.2352e-07j,\n",
       "         0.5602-8.9407e-08j, -0.6126-1.8813e-07j,  0.0918-2.4971e-07j,\n",
       "         0.7142+1.8626e-07j, -0.8627+2.8312e-07j,  1.3041-1.6391e-07j,\n",
       "        -1.2474+5.2154e-08j, -1.0540-3.1580e-07j,  0.8033+1.6391e-07j,\n",
       "         0.9021+3.1292e-07j, -0.2458+2.9802e-08j, -0.4056-2.6822e-07j,\n",
       "        -0.2113+4.9546e-07j,  0.7466-4.3213e-07j,  0.8661+5.9605e-08j,\n",
       "        -0.4047-3.5763e-07j, -0.9967+2.0862e-07j, -0.7466+4.3213e-07j,\n",
       "         0.2113-4.9546e-07j, -0.8661-5.9605e-08j,  0.4047+3.5763e-07j,\n",
       "         0.9967-2.0862e-07j, -0.7509+1.5646e-07j,  0.0628-2.6077e-08j,\n",
       "        -1.1134+1.0431e-07j,  1.1522-2.2352e-07j,  0.6493-5.9605e-08j,\n",
       "         0.9388+0.0000e+00j, -0.9588-1.9372e-07j, -0.0324-2.2352e-07j,\n",
       "        -0.5602+8.9407e-08j,  0.6126+1.8813e-07j,  0.7466+2.8312e-07j,\n",
       "        -0.6872-5.9605e-08j,  0.0961+4.4703e-07j, -0.5208-4.0606e-07j,\n",
       "         0.3653-2.6822e-07j, -0.7466-2.8312e-07j,  0.6872+5.9605e-08j,\n",
       "        -0.0961-4.4703e-07j, -0.3653+2.6822e-07j,  0.5208+4.0606e-07j,\n",
       "        -0.1540-2.0862e-07j,  0.2501-4.9919e-07j, -0.3453+3.2783e-07j,\n",
       "         0.3086-1.1921e-07j, -0.0594+4.1723e-07j, -0.0628+2.6077e-08j,\n",
       "         0.7509-1.5646e-07j,  1.1134-1.0431e-07j, -1.1522+2.2352e-07j,\n",
       "        -0.6493+5.9605e-08j, -1.3635-7.4506e-08j,  1.1846+5.2154e-08j,\n",
       "        -0.2895-7.4506e-08j, -0.5532+5.9605e-08j,  1.0216+7.4506e-08j,\n",
       "         0.2895+7.4506e-08j,  1.3635+7.4506e-08j,  0.5532-5.9605e-08j,\n",
       "        -1.1846-5.2154e-08j, -1.0216-7.4506e-08j,  0.2825-2.9802e-07j,\n",
       "         1.2674+7.4506e-08j,  0.5008+3.8743e-07j, -1.0928-2.7008e-07j,\n",
       "        -0.9579+1.4901e-07j,  0.1540+2.0862e-07j, -0.2501+4.9919e-07j,\n",
       "         0.3453-3.2783e-07j, -0.3086+1.1921e-07j,  0.0594-4.1723e-07j,\n",
       "        -0.4974+0.0000e+00j,  0.1934-3.8743e-07j,  0.6169-2.0862e-07j,\n",
       "        -0.5008+3.1292e-07j,  0.1879+2.3842e-07j,  0.4974+0.0000e+00j,\n",
       "        -0.1934+3.8743e-07j, -0.6169+2.0862e-07j, -0.1879-2.3842e-07j,\n",
       "         0.5008-3.1292e-07j, -0.2825+2.9802e-07j, -1.2674-7.4506e-08j,\n",
       "        -0.5008-3.8743e-07j,  1.0928+2.7008e-07j,  0.9579-1.4901e-07j])"
      ]
     },
     "execution_count": 31,
     "metadata": {},
     "output_type": "execute_result"
    }
   ],
   "source": [
    "einops.einsum(irrep, A[0], 'n d1 d2, d1 d2 -> n')"
   ]
  },
  {
   "cell_type": "markdown",
   "id": "335055bf-39b9-4916-85a1-be957d7602f3",
   "metadata": {},
   "source": [
    "### $C_i\\approx B_iA_i$"
   ]
  },
  {
   "cell_type": "code",
   "execution_count": 35,
   "id": "cdc2e8fe-d9f0-4409-9c32-6e64b7212967",
   "metadata": {},
   "outputs": [
    {
     "data": {
      "image/png": "[encoded data removed]",
      "text/plain": [
       "<Figure size 640x480 with 1 Axes>"
      ]
     },
     "metadata": {},
     "output_type": "display_data"
    }
   ],
   "source": [
    "x = einops.rearrange(B @ A, 'm d1 d2 -> m (d1 d2)')\n",
    "y = einops.rearrange(C, 'm d1 d2 -> m (d1 d2)')\n",
    "coef = (x.conj() * y).sum(dim=-1) / (x.conj() * x).sum(dim=-1)\n",
    "yhat = coef.unsqueeze(1) * x\n",
    "r2 = (yhat - y).norm(dim=-1).pow(2) / y.norm(dim=-1).pow(2)\n",
    "plt.hist(r2.tolist(), bins=100)\n",
    "plt.title('1-R^2(C, BA)')\n",
    "plt.show()\n",
    "good = r2 < 0.2"
   ]
  },
  {
   "cell_type": "code",
   "execution_count": 23,
   "id": "65caae5f",
   "metadata": {},
   "outputs": [
    {
     "data": {
      "text/plain": [
       "(tensor(7.4813), tensor(nan))"
      ]
     },
     "execution_count": 23,
     "metadata": {},
     "output_type": "execute_result"
    }
   ],
   "source": [
    "(~good).sum()\n",
    "irrep_lneurons[:,good].norm(dim=0).mean(), irrep_lneurons[:,~good].norm(dim=0).mean()"
   ]
  },
  {
   "cell_type": "code",
   "execution_count": 24,
   "id": "37c20aa6-e889-4139-b4fb-c41e3c588860",
   "metadata": {},
   "outputs": [
    {
     "name": "stderr",
     "output_type": "stream",
     "text": [
      "/home/wilson/.cache/pypoetry/virtualenvs/group_addition-BDyFuYvs-py3.10/lib/python3.10/site-packages/matplotlib/cbook.py:1762: ComplexWarning: Casting complex values to real discards the imaginary part\n",
      "  return math.isfinite(val)\n",
      "/home/wilson/.cache/pypoetry/virtualenvs/group_addition-BDyFuYvs-py3.10/lib/python3.10/site-packages/numpy/lib/_histograms_impl.py:851: ComplexWarning: Casting complex values to real discards the imaginary part\n",
      "  indices = f_indices.astype(np.intp)\n",
      "/home/wilson/.cache/pypoetry/virtualenvs/group_addition-BDyFuYvs-py3.10/lib/python3.10/site-packages/matplotlib/axes/_axes.py:7004: ComplexWarning: Casting complex values to real discards the imaginary part\n",
      "  bins = np.array(bins, float)  # causes problems if float16\n"
     ]
    },
    {
     "data": {
      "image/png": "[encoded data removed]",
      "text/plain": [
       "<Figure size 640x480 with 1 Axes>"
      ]
     },
     "metadata": {},
     "output_type": "display_data"
    }
   ],
   "source": [
    "plt.hist(coef.tolist(), bins=100)\n",
    "plt.show()"
   ]
  },
  {
   "cell_type": "markdown",
   "id": "03a5ce16-cce0-4d24-8355-e59da2f73ea9",
   "metadata": {},
   "source": [
    "### $A_i, B_i, C_i$ are almost rank 1"
   ]
  },
  {
   "cell_type": "markdown",
   "id": "feb3c117-a0ce-456c-810d-64ff01175faf",
   "metadata": {},
   "source": [
    "Thus, we can write\n",
    "$$A_i\\approx a_ib_i^\\top$$\n",
    "$$B_i\\approx c_id_i^\\top$$\n",
    "$$C_i\\approx A_iB_i\\approx \\langle b_i, c_i\\rangle a_i d_i^\\top$$"
   ]
  },
  {
   "cell_type": "code",
   "execution_count": 33,
   "id": "56746b1c-9f5b-47cd-b7fa-11f9e84739d7",
   "metadata": {},
   "outputs": [
    {
     "name": "stdout",
     "output_type": "stream",
     "text": [
      "tensor(0.5000) tensor(0.5000)\n"
     ]
    }
   ],
   "source": [
    "a, b, c, d, A_expl, B_expl= [], [], [], [], [], []\n",
    "for i in range(len(irrep_idxs)):\n",
    "    lu, ls, lv = t.linalg.svd(A[i])\n",
    "    ru, rs, rv = t.linalg.svd(B[i])\n",
    "    a.append(lu[:,0])\n",
    "    b.append(lv[0])\n",
    "    c.append(ru[:,0])\n",
    "    d.append(rv[0])\n",
    "    A_expl.append(ls[0]**2 / ls.pow(2).sum())\n",
    "    B_expl.append(rs[0]**2 / rs.pow(2).sum())\n",
    "a, b, c, d = t.stack(a, dim=0), t.stack(b, dim=0), t.stack(c, dim=0), t.stack(d, dim=0)\n",
    "print(min(A_expl), min(B_expl))\n",
    "\n",
    "# Clear up sign ambiguity from SVD\n",
    "a_sign = t.sgn(a[:,0])\n",
    "a = t.diag(a_sign) @ a\n",
    "b = t.diag(a_sign) @ b\n",
    "d_sign = t.sgn(d[:,0])\n",
    "c = t.diag(d_sign) @ c\n",
    "d = t.diag(d_sign) @ d\n",
    "\n",
    "# Remove points with bad C=BA r^2\n",
    "a, b, c, d = a[good], b[good], c[good], d[good]\n",
    "\n",
    "coef_good = coef[good]"
   ]
  },
  {
   "cell_type": "code",
   "execution_count": 32,
   "id": "f697ca82",
   "metadata": {},
   "outputs": [
    {
     "data": {
      "text/plain": [
       "tensor([[ 1.0000+0.0000j, -0.8497+0.5084j, -0.7657-0.3004j,  ...,\n",
       "          0.3808-0.8573j,  0.2057+0.9026j,  0.8990-0.2401j],\n",
       "        [-0.8497-0.5084j,  1.0000+0.0000j,  0.5649+0.6016j,  ...,\n",
       "         -0.7117+0.5434j,  0.3347-0.8870j, -0.8488-0.2883j],\n",
       "        [-0.7657+0.3004j,  0.5649-0.6016j,  1.0000+0.0000j,  ...,\n",
       "          0.1106+0.9046j, -0.2217-0.5711j, -0.4117+0.4145j],\n",
       "        ...,\n",
       "        [ 0.3808+0.8573j, -0.7117-0.5434j,  0.1106-0.9046j,  ...,\n",
       "          1.0000+0.0000j, -0.5789+0.4606j,  0.6234+0.5772j],\n",
       "        [ 0.2057-0.9026j,  0.3347+0.8870j, -0.2217+0.5711j,  ...,\n",
       "         -0.5789-0.4606j,  1.0000+0.0000j,  0.0920-0.9229j],\n",
       "        [ 0.8990+0.2401j, -0.8488+0.2883j, -0.4117-0.4145j,  ...,\n",
       "          0.6234-0.5772j,  0.0920+0.9229j,  1.0000+0.0000j]])"
      ]
     },
     "execution_count": 32,
     "metadata": {},
     "output_type": "execute_result"
    }
   ],
   "source": [
    "a @ a.H"
   ]
  },
  {
   "cell_type": "markdown",
   "id": "67fc899f-9cce-4086-a556-ed4bf41b3714",
   "metadata": {},
   "source": [
    "### $a_i,d_i$ are approx. constant and equal"
   ]
  },
  {
   "cell_type": "code",
   "execution_count": 28,
   "id": "7343ec70-fa6b-40eb-95cc-5d9ebd5f16ad",
   "metadata": {},
   "outputs": [
    {
     "name": "stdout",
     "output_type": "stream",
     "text": [
      "tensor(0.9566)\n",
      "tensor(0.9972)\n",
      "tensor(0.9972)\n",
      "tensor(0.3826)\n"
     ]
    }
   ],
   "source": [
    "for v in [a, b, c, d]:\n",
    "    print((v - v.mean(dim=0)).norm()**2 / v.norm()**2)"
   ]
  },
  {
   "cell_type": "code",
   "execution_count": 29,
   "id": "f8ca2a6f-c31c-478f-9662-69295609de0b",
   "metadata": {},
   "outputs": [
    {
     "data": {
      "text/plain": [
       "tensor(8.0718)"
      ]
     },
     "execution_count": 29,
     "metadata": {},
     "output_type": "execute_result"
    }
   ],
   "source": [
    "(a.mean(dim=0) - d.mean(dim=0)).norm()**2 / a.mean(dim=0).norm()**2"
   ]
  },
  {
   "cell_type": "code",
   "execution_count": null,
   "id": "531f5cef-60b3-4cc5-83e4-0d8a260e4f1d",
   "metadata": {},
   "outputs": [],
   "source": [
    "for i, j in product(range(irrep_d), repeat=2):\n",
    "    if i >= j:\n",
    "        continue\n",
    "    print(i, j)\n",
    "    plt.scatter(b[:,i].tolist(), b[:,j].tolist(), alpha=0.5)\n",
    "    plt.scatter(c[:,i].tolist(), c[:,j].tolist(), alpha=0.5)\n",
    "    plt.show()"
   ]
  },
  {
   "cell_type": "markdown",
   "id": "4caf4a34-481d-48a8-9a66-5489f3bbe1cd",
   "metadata": {},
   "source": [
    "### b_i and c_i are clustered"
   ]
  },
  {
   "cell_type": "code",
   "execution_count": 52,
   "id": "c884e2ae-b276-4e3f-91ea-9f598e210489",
   "metadata": {},
   "outputs": [
    {
     "name": "stdout",
     "output_type": "stream",
     "text": [
      "tensor(6.0984e-06)\n",
      "tensor(4.9849e-06)\n"
     ]
    }
   ],
   "source": [
    "n_clusters = 10\n",
    "\n",
    "from sklearn.cluster import KMeans\n",
    "c_kmeans = KMeans(n_clusters=n_clusters, random_state=42).fit(c.numpy())\n",
    "# kmeans.score is negative average squared l2 dist to cluster centroid\n",
    "print(-c_kmeans.score(c.numpy()) / c.norm()**2)\n",
    "c_mean = t.tensor(c_kmeans.cluster_centers_)\n",
    "\n",
    "from sklearn.cluster import KMeans\n",
    "b_kmeans = KMeans(n_clusters=n_clusters, random_state=42).fit(b.numpy())\n",
    "# kmeans.score is negative average squared l2 dist to cluster centroid\n",
    "print(-b_kmeans.score(b.numpy()) / b.norm()**2)\n",
    "b_mean = t.tensor(b_kmeans.cluster_centers_)\n",
    "\n",
    "\n",
    "c_labels = c_kmeans.labels_\n",
    "b_labels = b_kmeans.labels_"
   ]
  },
  {
   "cell_type": "code",
   "execution_count": 55,
   "id": "dc0a500b",
   "metadata": {},
   "outputs": [
    {
     "name": "stdout",
     "output_type": "stream",
     "text": [
      "b=0, c=[2, 0, 5, 3, 6]\n",
      "b=0, coef=[48, 49, 49, 49, 49]\n",
      "\n",
      "b=1, c=[7, 1, 8, 4]\n",
      "b=1, coef=[3, 4, 3, 2]\n",
      "\n",
      "b=2, c=[5, 2, 6, 3, 3, 0, 3]\n",
      "b=2, coef=[49, 49, 50, 0, 30, 49, 17]\n",
      "\n",
      "b=3, c=[1, 4, 9, 4, 7, 8]\n",
      "b=3, coef=[4, 2, 3, 0, 3, 3]\n",
      "\n",
      "b=4, c=[5, 0, 6, 2, 3, 2]\n",
      "b=4, coef=[49, 49, 49, 46, 49, 3]\n",
      "\n",
      "b=5, c=[6, 0, 0, 5, 2, 0, 3]\n",
      "b=5, coef=[48, 15, 31, 49, 48, 2, 49]\n",
      "\n",
      "b=6, c=[2, 3, 5, 0, 6]\n",
      "b=6, coef=[48, 49, 50, 48, 50]\n",
      "\n",
      "b=7, c=[7, 9, 4, 1, 8]\n",
      "b=7, coef=[3, 3, 3, 3, 3]\n",
      "\n",
      "b=8, c=[7, 8, 4, 1]\n",
      "b=8, coef=[3, 3, 3, 2]\n",
      "\n",
      "b=9, c=[4, 1, 7]\n",
      "b=9, coef=[4, 3, 2]\n",
      "\n"
     ]
    }
   ],
   "source": [
    "for i in range(n_clusters):\n",
    "    print(f'b={i}, c={c_labels[b_labels==i].tolist()}')\n",
    "    print(f'b={i}, coef={(10*coef_good[b_labels==i]).int().tolist()}')\n",
    "    print()"
   ]
  },
  {
   "cell_type": "code",
   "execution_count": 23,
   "id": "ff84fdca-0025-45de-ba42-fa38cba0e789",
   "metadata": {},
   "outputs": [
    {
     "name": "stdout",
     "output_type": "stream",
     "text": [
      "b=0, c=[0, 5, 13, 14, 15, 16, 17, 18]\n",
      "b=1, c=[1, 2, 3, 4, 6, 7, 8, 9, 10, 11, 12]\n",
      "b=2, c=[1, 2, 3, 4, 6, 7, 8, 9, 10, 11, 12]\n",
      "b=3, c=[1, 2, 3, 4, 6, 7, 8, 9, 10, 11, 12]\n",
      "b=4, c=[1, 2, 3, 4, 6, 7, 8, 9, 10, 11, 12]\n",
      "b=5, c=[1, 2, 3, 4, 6, 7, 8, 9, 10, 11, 12]\n",
      "b=6, c=[1, 2, 3, 4, 6, 7, 8, 9, 10, 11, 12]\n",
      "b=7, c=[1, 2, 3, 4, 6, 7, 8, 9, 10, 11, 12]\n",
      "b=8, c=[1, 2, 3, 4, 6, 7, 8, 9, 10, 11, 12]\n",
      "b=9, c=[0, 5, 13, 14, 18, 19, 20, 21]\n",
      "b=10, c=[1, 2, 3, 4, 6, 7, 8, 9, 10, 11, 12]\n",
      "b=11, c=[1, 2, 3, 4, 6, 7, 8, 9, 10, 11, 12]\n",
      "b=12, c=[0, 5, 13, 14, 16, 17]\n",
      "b=13, c=[1, 2, 3, 4, 6, 7, 8, 9, 10, 11, 12]\n",
      "b=14, c=[0, 5, 14, 18, 19]\n",
      "b=15, c=[0, 5, 13, 14, 15]\n",
      "b=16, c=[0, 5, 14, 19]\n",
      "b=17, c=[5, 13, 16, 17]\n",
      "b=18, c=[5, 15]\n",
      "b=19, c=[0, 5]\n",
      "b=20, c=[13, 17]\n",
      "b=21, c=[14, 15]\n",
      "[{0, 9, 12, 14, 15, 16, 17, 18, 19, 20, 21}, {1, 2, 3, 4, 5, 6, 7, 8, 10, 11, 13}]\n",
      "[{0, 5, 13, 14, 15, 16, 17, 18, 19, 20, 21}, {1, 2, 3, 4, 6, 7, 8, 9, 10, 11, 12}]\n"
     ]
    }
   ],
   "source": [
    "b_parts = []\n",
    "c_parts = []\n",
    "for i in range(22):\n",
    "    c_set = set(c_labels[b_labels == i].tolist())\n",
    "    done = False\n",
    "    for j in range(len(c_parts)):\n",
    "        if len(c_set & c_parts[j]) > 0:\n",
    "            c_parts[j] = c_set.union(c_parts[j])\n",
    "            b_parts[j].add(i)\n",
    "            done = True\n",
    "            break\n",
    "    if not done:\n",
    "        c_parts.append(c_set)\n",
    "        b_parts.append({i})\n",
    "    print(f'b={i}, c={sorted(c_set)}')\n",
    "\n",
    "print(b_parts)\n",
    "print(c_parts)\n",
    "\n",
    "b_parts = list(map(list, b_parts))\n",
    "c_parts = list(map(list, c_parts))"
   ]
  },
  {
   "cell_type": "code",
   "execution_count": 32,
   "id": "e3c2aa6f",
   "metadata": {},
   "outputs": [
    {
     "data": {
      "text/plain": [
       "[0, 9, 12, 14, 15, 16, 17, 18, 19, 20, 21]"
      ]
     },
     "execution_count": 32,
     "metadata": {},
     "output_type": "execute_result"
    }
   ],
   "source": [
    "b_parts[0]"
   ]
  },
  {
   "cell_type": "code",
   "execution_count": null,
   "id": "d4f79059",
   "metadata": {},
   "outputs": [],
   "source": []
  },
  {
   "cell_type": "code",
   "execution_count": 36,
   "id": "f5bd8368",
   "metadata": {},
   "outputs": [
    {
     "data": {
      "image/png": "[encoded data removed]",
      "text/plain": [
       "<Figure size 640x480 with 1 Axes>"
      ]
     },
     "metadata": {},
     "output_type": "display_data"
    }
   ],
   "source": [
    "plt.scatter(sorted((b_mean[b_parts[1]] * a.mean(dim=0)).sum(dim=1).tolist()), [0] * 11)\n",
    "plt.grid()\n",
    "plt.show()"
   ]
  },
  {
   "cell_type": "code",
   "execution_count": 177,
   "id": "86374df9",
   "metadata": {},
   "outputs": [
    {
     "data": {
      "text/plain": [
       "tensor([[ 1.0000, -0.0997, -0.1005, -0.1019, -0.0983, -0.0997, -0.0995, -0.1003,\n",
       "         -0.0991, -0.0990, -0.0992],\n",
       "        [-0.0997,  1.0000, -0.1006, -0.1000, -0.0995, -0.1006, -0.1015, -0.0991,\n",
       "         -0.0994, -0.1019, -0.0987],\n",
       "        [-0.1005, -0.1006,  1.0000, -0.1001, -0.1003, -0.0992, -0.0995, -0.1005,\n",
       "         -0.1011, -0.1005, -0.0978],\n",
       "        [-0.1019, -0.1000, -0.1001,  1.0000, -0.0995, -0.0987, -0.0975, -0.1009,\n",
       "         -0.1009, -0.1003, -0.1005],\n",
       "        [-0.0983, -0.0995, -0.1003, -0.0995,  1.0000, -0.1005, -0.0973, -0.1003,\n",
       "         -0.1012, -0.0995, -0.1003],\n",
       "        [-0.0997, -0.1006, -0.0992, -0.0987, -0.1005,  1.0000, -0.1001, -0.1000,\n",
       "         -0.1009, -0.0988, -0.1008],\n",
       "        [-0.0995, -0.1015, -0.0995, -0.0975, -0.0973, -0.1001,  1.0000, -0.1004,\n",
       "         -0.0987, -0.1011, -0.1004],\n",
       "        [-0.1003, -0.0991, -0.1005, -0.1009, -0.1003, -0.1000, -0.1004,  1.0000,\n",
       "         -0.1006, -0.0989, -0.1052],\n",
       "        [-0.0991, -0.0994, -0.1011, -0.1009, -0.1012, -0.1009, -0.0987, -0.1006,\n",
       "          1.0000, -0.0996, -0.1008],\n",
       "        [-0.0990, -0.1019, -0.1005, -0.1003, -0.0995, -0.0988, -0.1011, -0.0989,\n",
       "         -0.0996,  1.0000, -0.0984],\n",
       "        [-0.0992, -0.0987, -0.0978, -0.1005, -0.1003, -0.1008, -0.1004, -0.1052,\n",
       "         -0.1008, -0.0984,  1.0000]])"
      ]
     },
     "execution_count": 177,
     "metadata": {},
     "output_type": "execute_result"
    }
   ],
   "source": [
    "(b_mean[b_parts[0]] @ b_mean[b_parts[0]].T)"
   ]
  },
  {
   "cell_type": "code",
   "execution_count": 179,
   "id": "91cdbe94",
   "metadata": {},
   "outputs": [
    {
     "data": {
      "text/plain": [
       "tensor([[ 1.0000, -0.1010, -0.0998, -0.1004, -0.0996, -0.0982, -0.0989, -0.0987,\n",
       "         -0.1014, -0.0987, -0.1000],\n",
       "        [-0.1010,  1.0000, -0.0999, -0.1016, -0.0998, -0.1010, -0.0989, -0.1005,\n",
       "         -0.1001, -0.1009, -0.0991],\n",
       "        [-0.0998, -0.0999,  1.0000, -0.1001, -0.0990, -0.0997, -0.1009, -0.1014,\n",
       "         -0.1004, -0.1000, -0.1002],\n",
       "        [-0.1004, -0.1016, -0.1001,  1.0000, -0.1003, -0.1002, -0.0998, -0.1017,\n",
       "         -0.0974, -0.1010, -0.0973],\n",
       "        [-0.0996, -0.0998, -0.0990, -0.1003,  1.0000, -0.1003, -0.0999, -0.0975,\n",
       "         -0.1010, -0.1007, -0.0990],\n",
       "        [-0.0982, -0.1010, -0.0997, -0.1002, -0.1003,  1.0000, -0.1017, -0.0973,\n",
       "         -0.0987, -0.1020, -0.1017],\n",
       "        [-0.0989, -0.0989, -0.1009, -0.0998, -0.0999, -0.1017,  1.0000, -0.1016,\n",
       "         -0.0982, -0.0997, -0.0993],\n",
       "        [-0.0987, -0.1005, -0.1014, -0.1017, -0.0975, -0.0973, -0.1016,  1.0000,\n",
       "         -0.0996, -0.1018, -0.0984],\n",
       "        [-0.1014, -0.1001, -0.1004, -0.0974, -0.1010, -0.0987, -0.0982, -0.0996,\n",
       "          1.0000, -0.0978, -0.1029],\n",
       "        [-0.0987, -0.1009, -0.1000, -0.1010, -0.1007, -0.1020, -0.0997, -0.1018,\n",
       "         -0.0978,  1.0000, -0.1029],\n",
       "        [-0.1000, -0.0991, -0.1002, -0.0973, -0.0990, -0.1017, -0.0993, -0.0984,\n",
       "         -0.1029, -0.1029,  1.0000]])"
      ]
     },
     "execution_count": 179,
     "metadata": {},
     "output_type": "execute_result"
    }
   ],
   "source": [
    "(c_mean[c_parts[0]] @ c_mean[c_parts[0]].T)"
   ]
  },
  {
   "cell_type": "code",
   "execution_count": 181,
   "id": "6fa9dd7b-764b-41f7-be66-57c407331744",
   "metadata": {},
   "outputs": [
    {
     "data": {
      "text/plain": [
       "tensor([[ 0.1004,  0.1003,  0.0995,  0.1003,  0.1001,  0.0982,  0.1001, -1.0000,\n",
       "          0.1008,  0.1007,  0.0981],\n",
       "        [ 0.0997,  0.1000, -1.0000,  0.0987,  0.1004,  0.1014,  0.1010,  0.1016,\n",
       "          0.0986,  0.1001,  0.0998],\n",
       "        [ 0.0996,  0.1007,  0.0989,  0.0995,  0.0990, -1.0000,  0.1012,  0.0996,\n",
       "          0.0989,  0.1019,  0.1015],\n",
       "        [-1.0000,  0.1012,  0.1001,  0.1012,  0.0974,  0.0987,  0.0970,  0.1002,\n",
       "          0.1012,  0.0994,  0.1002],\n",
       "        [ 0.0996,  0.0992,  0.1012,  0.0996,  0.0996,  0.1001,  0.0999,  0.0971,\n",
       "         -1.0000,  0.1002,  0.1008],\n",
       "        [ 0.1009,  0.1001,  0.0993,  0.1009, -1.0000,  0.1005,  0.0997,  0.0971,\n",
       "          0.1019,  0.0977,  0.0993],\n",
       "        [ 0.0994,  0.1008,  0.1014,  0.0991,  0.1003,  0.1000, -1.0000,  0.1010,\n",
       "          0.0956,  0.1014,  0.0998],\n",
       "        [ 0.1007, -1.0000,  0.0990,  0.1022,  0.0998,  0.1008,  0.0985,  0.1005,\n",
       "          0.1012,  0.1012,  0.0990],\n",
       "        [ 0.1001,  0.0999,  0.1008, -1.0000,  0.1004,  0.1019,  0.0994,  0.1006,\n",
       "          0.0989,  0.0997,  0.0982],\n",
       "        [ 0.1001,  0.0990,  0.1023,  0.0987,  0.0985,  0.1007,  0.1006,  0.0993,\n",
       "          0.1016,  0.1000, -1.0000],\n",
       "        [ 0.0999,  0.1049,  0.0986,  0.1021,  0.1038,  0.0979,  0.0987,  0.1003,\n",
       "          0.0979, -1.0000,  0.1012]])"
      ]
     },
     "execution_count": 181,
     "metadata": {},
     "output_type": "execute_result"
    }
   ],
   "source": [
    "(b_mean[b_parts[0]] @ c_mean[c_parts[0]].T)"
   ]
  },
  {
   "cell_type": "code",
   "execution_count": 75,
   "id": "26d1865a",
   "metadata": {},
   "outputs": [
    {
     "name": "stdout",
     "output_type": "stream",
     "text": [
      "tensor([[-0.2491, -0.2487, -0.2501, -1.0000,  0.2477],\n",
      "        [-0.2499, -0.2505, -0.2499,  0.2500,  0.2492],\n",
      "        [ 1.0000, -0.2497, -0.2495,  0.2506, -1.0000],\n",
      "        [ 0.2502, -1.0000,  0.2508, -0.2503, -0.2498],\n",
      "        [ 0.2515,  0.2473,  0.2494,  1.0000, -0.2502]])\n",
      "tensor([[-0.2499,  0.2504,  1.0000,  0.2505,  0.2482],\n",
      "        [ 0.2514, -0.2490,  0.2504, -0.2465,  1.0000],\n",
      "        [-0.2499, -1.0000, -0.2494,  0.2539,  0.2473],\n",
      "        [-1.0000, -0.2501,  0.2484, -0.2464, -0.2538],\n",
      "        [ 0.2533, -0.2494,  0.2505,  1.0000, -0.2512]])\n",
      "tensor([[-0.2500,  1.0000, -0.2494,  0.2503,  0.2497],\n",
      "        [-0.2495, -0.2496, -0.2499,  0.2513,  0.2488],\n",
      "        [-0.2492, -0.2502, -0.2499, -1.0000,  0.2479],\n",
      "        [-1.0000,  0.2496,  0.2511, -0.2492,  1.0000],\n",
      "        [ 0.2487, -1.0000,  0.2487, -0.2527, -0.2483]])\n",
      "tensor([[-0.2495,  0.2517, -0.2493, -1.0000,  0.2539],\n",
      "        [ 0.2490, -0.2490,  0.2521, -0.2472,  1.0000],\n",
      "        [-0.2509, -1.0000, -0.2497,  0.2527,  0.2473],\n",
      "        [ 0.2479, -0.2505, -1.0000, -0.2493, -0.2513],\n",
      "        [-1.0000, -0.2477,  0.2533, -0.2495, -0.2481]])\n",
      "tensor([[-0.2490, -0.2519, -0.2480,  0.2514,  0.2483],\n",
      "        [-0.2519,  1.0000, -0.2499,  0.2502,  0.2516],\n",
      "        [-0.2480, -0.2499, -0.2511, -1.0000,  0.2466],\n",
      "        [ 0.2514,  0.2502, -1.0000, -0.2475, -0.2538],\n",
      "        [ 0.2483,  0.2516,  0.2466, -0.2538, -0.2476]])\n",
      "tensor([[-0.2502, -1.0000, -0.2494,  0.2535,  0.2475],\n",
      "        [-1.0000, -0.2493,  0.2509, -0.2489, -0.2496],\n",
      "        [-0.2494,  0.2509, -0.2496, -1.0000,  0.2545],\n",
      "        [ 0.2535, -0.2489, -1.0000, -0.2509, -0.2456],\n",
      "        [ 0.2475, -0.2496,  0.2545, -0.2456,  1.0000]])\n"
     ]
    }
   ],
   "source": [
    "for _ in range(3):\n",
    "    i = random.choice(range(irrep.shape[0]))\n",
    "    print(b_mean[b_part2] @ irrep[i] @ b_mean[b_part2].T)\n",
    "    print(c_mean[c_part2] @ irrep[i].T @ c_mean[c_part2].T)"
   ]
  },
  {
   "cell_type": "markdown",
   "id": "c00edddf-6ece-4254-8daa-2edcda98ed63",
   "metadata": {},
   "source": [
    "### Activations are clustered"
   ]
  },
  {
   "cell_type": "code",
   "execution_count": 36,
   "id": "652e3ada-3f49-4b25-b0be-f151d3643db8",
   "metadata": {},
   "outputs": [],
   "source": [
    "embedding_left = model.embedding_left.squeeze(0)\n",
    "embedding_right = model.embedding_right.squeeze(0)\n",
    "linear = model.linear.squeeze(0)\n",
    "unembedding = model.unembedding.squeeze(0).T\n",
    "# There's a degree of freedom with embedding/unembedding norm.\n",
    "# Rescale so that each unembedding column is norm 1\n",
    "u_norm = unembedding.norm(dim=0)\n",
    "unembedding = unembedding / u_norm\n",
    "linear = linear * u_norm"
   ]
  },
  {
   "cell_type": "code",
   "execution_count": 37,
   "id": "983e5927-3ff9-491d-bc03-60ad4c265c9a",
   "metadata": {},
   "outputs": [],
   "source": [
    "N = len(group)\n",
    "inputs = t.tensor(list(product(range(N), repeat=2)), device=device)\n",
    "l_in, r_in = inputs[..., 0], inputs[..., 1]\n",
    "l_onehot = F.one_hot(l_in, num_classes=N).float()\n",
    "r_onehot = F.one_hot(r_in, num_classes=N).float()\n",
    "l_embed = einops.einsum(l_onehot, embedding_left, 'batch group, group embed -> batch embed')\n",
    "r_embed = einops.einsum(r_onehot, embedding_right, 'batch group, group embed -> batch embed')\n",
    "l_act = einops.einsum(l_embed, linear, 'batch embed, embed hid -> batch hid')\n",
    "r_act = einops.einsum(r_embed, linear, 'batch embed, embed hid -> batch hid')\n",
    "l_act = l_act[:, irrep_idxs]\n",
    "r_act = r_act[:, irrep_idxs]"
   ]
  },
  {
   "cell_type": "code",
   "execution_count": 38,
   "id": "dbb533c7-f398-4029-a40d-7982277c0e5b",
   "metadata": {},
   "outputs": [
    {
     "data": {
      "image/png": "[encoded data removed]",
      "text/plain": [
       "<Figure size 640x480 with 1 Axes>"
      ]
     },
     "metadata": {},
     "output_type": "display_data"
    },
    {
     "data": {
      "image/png": "[encoded data removed]",
      "text/plain": [
       "<Figure size 640x480 with 1 Axes>"
      ]
     },
     "metadata": {},
     "output_type": "display_data"
    },
    {
     "data": {
      "image/png": "[encoded data removed]",
      "text/plain": [
       "<Figure size 640x480 with 1 Axes>"
      ]
     },
     "metadata": {},
     "output_type": "display_data"
    },
    {
     "data": {
      "image/png": "[encoded data removed]",
      "text/plain": [
       "<Figure size 640x480 with 1 Axes>"
      ]
     },
     "metadata": {},
     "output_type": "display_data"
    },
    {
     "data": {
      "image/png": "[encoded data removed]",
      "text/plain": [
       "<Figure size 640x480 with 1 Axes>"
      ]
     },
     "metadata": {},
     "output_type": "display_data"
    },
    {
     "data": {
      "image/png": "[encoded data removed]",
      "text/plain": [
       "<Figure size 640x480 with 1 Axes>"
      ]
     },
     "metadata": {},
     "output_type": "display_data"
    },
    {
     "data": {
      "image/png": "[encoded data removed]",
      "text/plain": [
       "<Figure size 640x480 with 1 Axes>"
      ]
     },
     "metadata": {},
     "output_type": "display_data"
    },
    {
     "data": {
      "image/png": "[encoded data removed]",
      "text/plain": [
       "<Figure size 640x480 with 1 Axes>"
      ]
     },
     "metadata": {},
     "output_type": "display_data"
    },
    {
     "data": {
      "image/png": "[encoded data removed]",
      "text/plain": [
       "<Figure size 640x480 with 1 Axes>"
      ]
     },
     "metadata": {},
     "output_type": "display_data"
    },
    {
     "data": {
      "image/png": "[encoded data removed]",
      "text/plain": [
       "<Figure size 640x480 with 1 Axes>"
      ]
     },
     "metadata": {},
     "output_type": "display_data"
    },
    {
     "data": {
      "image/png": "[encoded data removed]",
      "text/plain": [
       "<Figure size 640x480 with 1 Axes>"
      ]
     },
     "metadata": {},
     "output_type": "display_data"
    },
    {
     "data": {
      "image/png": "[encoded data removed]",
      "text/plain": [
       "<Figure size 640x480 with 1 Axes>"
      ]
     },
     "metadata": {},
     "output_type": "display_data"
    },
    {
     "data": {
      "image/png": "[encoded data removed]",
      "text/plain": [
       "<Figure size 640x480 with 1 Axes>"
      ]
     },
     "metadata": {},
     "output_type": "display_data"
    },
    {
     "data": {
      "image/png": "[encoded data removed]",
      "text/plain": [
       "<Figure size 640x480 with 1 Axes>"
      ]
     },
     "metadata": {},
     "output_type": "display_data"
    },
    {
     "data": {
      "image/png": "[encoded data removed]",
      "text/plain": [
       "<Figure size 640x480 with 1 Axes>"
      ]
     },
     "metadata": {},
     "output_type": "display_data"
    }
   ],
   "source": [
    "for i in range(15):\n",
    "    plt.hist(l_act[:,i].tolist(), alpha=0.4)\n",
    "    plt.hist(r_act[:,i].tolist(), alpha=0.4)\n",
    "    plt.show()"
   ]
  },
  {
   "cell_type": "code",
   "execution_count": 80,
   "id": "50ccb435",
   "metadata": {},
   "outputs": [
    {
     "data": {
      "image/png": "[encoded data removed]",
      "text/plain": [
       "<Figure size 640x480 with 1 Axes>"
      ]
     },
     "metadata": {},
     "output_type": "display_data"
    }
   ],
   "source": [
    "plt.scatter(coef.tolist(), l_act.max(dim=0)[0].tolist())\n",
    "plt.show()"
   ]
  },
  {
   "cell_type": "code",
   "execution_count": 81,
   "id": "dfb92c44",
   "metadata": {},
   "outputs": [],
   "source": [
    "big_neurons = (l_act.max(dim=0)[0] > 15).nonzero()"
   ]
  },
  {
   "cell_type": "code",
   "execution_count": 82,
   "id": "fbdc8d34",
   "metadata": {},
   "outputs": [
    {
     "data": {
      "text/plain": [
       "[0, 1, 3, 4, 9]"
      ]
     },
     "execution_count": 82,
     "metadata": {},
     "output_type": "execute_result"
    }
   ],
   "source": [
    "b_part1"
   ]
  },
  {
   "cell_type": "code",
   "execution_count": 83,
   "id": "0aa6d40b",
   "metadata": {},
   "outputs": [
    {
     "data": {
      "text/plain": [
       "array([[4],\n",
       "       [5],\n",
       "       [6],\n",
       "       [2],\n",
       "       [6],\n",
       "       [4],\n",
       "       [2],\n",
       "       [6],\n",
       "       [0],\n",
       "       [0],\n",
       "       [6],\n",
       "       [2],\n",
       "       [5],\n",
       "       [5],\n",
       "       [4],\n",
       "       [4],\n",
       "       [2],\n",
       "       [4],\n",
       "       [0],\n",
       "       [5],\n",
       "       [6],\n",
       "       [0],\n",
       "       [0]], dtype=int32)"
      ]
     },
     "execution_count": 83,
     "metadata": {},
     "output_type": "execute_result"
    }
   ],
   "source": [
    "b_labels[big_neurons]"
   ]
  },
  {
   "cell_type": "code",
   "execution_count": 85,
   "id": "a3f5be04",
   "metadata": {},
   "outputs": [],
   "source": [
    "def ablate_loss(ln, rn, un):\n",
    "    ablate_model = copy.deepcopy(model)\n",
    "    ablate_model.linear.data = t.eye(ln.shape[1]).unsqueeze(0)\n",
    "    ablate_model.embedding_left.data = ln.unsqueeze(0)\n",
    "    ablate_model.embedding_right.data = rn.unsqueeze(0)\n",
    "    ablate_model.unembedding.data = un.unsqueeze(0).mT\n",
    "    return test_loss(ablate_model.to(device), data)"
   ]
  },
  {
   "cell_type": "code",
   "execution_count": 88,
   "id": "6e5c5b50",
   "metadata": {},
   "outputs": [],
   "source": [
    "big_mask = l_act.max(dim=0)[0] > 15\n",
    "small_mask = l_act.max(dim=0)[0] < 3\n",
    "part1_mask = t.tensor([i in b_part1 for i in b_labels], device=device)\n",
    "part2_mask = t.tensor([i in b_part2 for i in b_labels], device=device)"
   ]
  },
  {
   "cell_type": "code",
   "execution_count": 102,
   "id": "ff4e03fb",
   "metadata": {},
   "outputs": [
    {
     "name": "stdout",
     "output_type": "stream",
     "text": [
      "{'G0_loss': tensor([0.8658]), 'G0_acc': tensor([0.5001])}\n",
      "{'G0_loss': tensor([1.4867]), 'G0_acc': tensor([0.3433])}\n",
      "{'G0_loss': tensor([4.2793]), 'G0_acc': tensor([0.3035])}\n",
      "{'G0_loss': tensor([3.3410]), 'G0_acc': tensor([0.1060])}\n",
      "{'G0_loss': tensor([2.6429]), 'G0_acc': tensor([0.1717])}\n",
      "{'G0_loss': tensor([3.5448]), 'G0_acc': tensor([0.0409])}\n",
      "{'G0_loss': tensor([4.5008]), 'G0_acc': tensor([0.0628])}\n",
      "{'G0_loss': tensor([3.2302]), 'G0_acc': tensor([0.0570])}\n",
      "{'G0_loss': tensor([4.5770]), 'G0_acc': tensor([0.0439])}\n"
     ]
    }
   ],
   "source": [
    "print(ablate_loss(irrep_lneurons, irrep_rneurons, irrep_uneurons))\n",
    "print(ablate_loss(irrep_lneurons[:,big_mask], irrep_rneurons[:,big_mask], irrep_uneurons[:,big_mask]))\n",
    "print(ablate_loss(irrep_lneurons[:,small_mask], irrep_rneurons[:,small_mask], irrep_uneurons[:,small_mask]))\n",
    "print(ablate_loss(irrep_lneurons[:,part1_mask], irrep_rneurons[:,part1_mask], irrep_uneurons[:,part1_mask]))\n",
    "print(ablate_loss(irrep_lneurons[:,part2_mask], irrep_rneurons[:,part2_mask], irrep_uneurons[:,part2_mask]))\n",
    "print(ablate_loss(irrep_lneurons[:,part1_mask & big_mask], irrep_rneurons[:,part1_mask & big_mask], irrep_uneurons[:,part1_mask & big_mask]))\n",
    "print(ablate_loss(irrep_lneurons[:,part1_mask & small_mask], irrep_rneurons[:,part1_mask & small_mask], irrep_uneurons[:,part1_mask & small_mask]))\n",
    "print(ablate_loss(irrep_lneurons[:,part2_mask & big_mask], irrep_rneurons[:,part2_mask & big_mask], irrep_uneurons[:,part2_mask & big_mask]))\n",
    "print(ablate_loss(irrep_lneurons[:,part2_mask & small_mask], irrep_rneurons[:,part2_mask & small_mask], irrep_uneurons[:,part2_mask & small_mask]))\n"
   ]
  },
  {
   "cell_type": "code",
   "execution_count": 103,
   "id": "117958d7",
   "metadata": {},
   "outputs": [
    {
     "data": {
      "text/plain": [
       "{'G0_loss': tensor([29.3090]), 'G0_acc': tensor([0.5001])}"
      ]
     },
     "execution_count": 103,
     "metadata": {},
     "output_type": "execute_result"
    }
   ],
   "source": [
    "ablate_loss(10*irrep_lneurons, 10*irrep_rneurons, 10*irrep_uneurons)"
   ]
  },
  {
   "cell_type": "code",
   "execution_count": 94,
   "id": "9607b4c8",
   "metadata": {},
   "outputs": [
    {
     "data": {
      "text/plain": [
       "torch.Size([120, 52])"
      ]
     },
     "execution_count": 94,
     "metadata": {},
     "output_type": "execute_result"
    }
   ],
   "source": [
    "irrep_lneurons.shape"
   ]
  },
  {
   "cell_type": "code",
   "execution_count": 101,
   "id": "92c393d7",
   "metadata": {},
   "outputs": [
    {
     "data": {
      "text/plain": [
       "(tensor(23), tensor(25))"
      ]
     },
     "execution_count": 101,
     "metadata": {},
     "output_type": "execute_result"
    }
   ],
   "source": [
    "big_mask.sum(), small_mask.sum() "
   ]
  },
  {
   "cell_type": "code",
   "execution_count": null,
   "id": "a71abab3",
   "metadata": {},
   "outputs": [],
   "source": []
  }
 ],
 "metadata": {
  "kernelspec": {
   "display_name": "Python 3 (ipykernel)",
   "language": "python",
   "name": "python3"
  },
  "language_info": {
   "codemirror_mode": {
    "name": "ipython",
    "version": 3
   },
   "file_extension": ".py",
   "mimetype": "text/x-python",
   "name": "python",
   "nbconvert_exporter": "python",
   "pygments_lexer": "ipython3",
   "version": "3.10.12"
  }
 },
 "nbformat": 4,
 "nbformat_minor": 5
}
