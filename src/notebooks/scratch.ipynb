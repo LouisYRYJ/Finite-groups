{
 "cells": [
  {
   "cell_type": "code",
   "execution_count": 1,
   "id": "8da0febb-4823-4899-b2b1-09f2cfb18526",
   "metadata": {},
   "outputs": [],
   "source": [
    "import torch"
   ]
  },
  {
   "cell_type": "code",
   "execution_count": 7,
   "id": "899136a4-c9d0-46ed-8dda-d09c52034266",
   "metadata": {},
   "outputs": [],
   "source": [
    "a = torch.tensor([5.])\n",
    "b = torch.tensor([6.])\n",
    "a.requires_grad = True\n",
    "b.requires_grad = True\n",
    "c = a * b"
   ]
  },
  {
   "cell_type": "code",
   "execution_count": 29,
   "id": "5329f0d4-2e14-45a4-8d1d-aec334959cf3",
   "metadata": {},
   "outputs": [],
   "source": [
    "c = a * b"
   ]
  },
  {
   "cell_type": "code",
   "execution_count": 30,
   "id": "4ef526ec-4dc0-4627-9b6f-71519c218704",
   "metadata": {},
   "outputs": [],
   "source": [
    "c.backward()"
   ]
  },
  {
   "cell_type": "code",
   "execution_count": 26,
   "id": "f1955d61-89c9-461f-97bd-5839c7daddc0",
   "metadata": {},
   "outputs": [
    {
     "data": {
      "text/plain": [
       "tensor([17.])"
      ]
     },
     "execution_count": 26,
     "metadata": {},
     "output_type": "execute_result"
    }
   ],
   "source": [
    "g = a.grad.data\n",
    "a.data.add_(g)"
   ]
  },
  {
   "cell_type": "code",
   "execution_count": 28,
   "id": "e5ba1c37-e548-46a1-a936-57192c69aa77",
   "metadata": {},
   "outputs": [
    {
     "data": {
      "text/plain": [
       "tensor([0.])"
      ]
     },
     "execution_count": 28,
     "metadata": {},
     "output_type": "execute_result"
    }
   ],
   "source": [
    "a.grad"
   ]
  },
  {
   "cell_type": "code",
   "execution_count": 27,
   "id": "eb01664c-7b44-4105-bf8e-01c2857eb0de",
   "metadata": {},
   "outputs": [
    {
     "data": {
      "text/plain": [
       "tensor([0.])"
      ]
     },
     "execution_count": 27,
     "metadata": {},
     "output_type": "execute_result"
    }
   ],
   "source": [
    "a.grad.data.zero_()"
   ]
  },
  {
   "cell_type": "code",
   "execution_count": 22,
   "id": "dc675dc6-1453-4776-9911-247dd76d5cf3",
   "metadata": {},
   "outputs": [
    {
     "data": {
      "text/plain": [
       "tensor([0.])"
      ]
     },
     "execution_count": 22,
     "metadata": {},
     "output_type": "execute_result"
    }
   ],
   "source": [
    "a.grad"
   ]
  },
  {
   "cell_type": "code",
   "execution_count": null,
   "id": "a0ce888e-ea3a-47a5-8436-39d31da45dac",
   "metadata": {},
   "outputs": [],
   "source": []
  }
 ],
 "metadata": {
  "kernelspec": {
   "display_name": "Python 3 (ipykernel)",
   "language": "python",
   "name": "python3"
  },
  "language_info": {
   "codemirror_mode": {
    "name": "ipython",
    "version": 3
   },
   "file_extension": ".py",
   "mimetype": "text/x-python",
   "name": "python",
   "nbconvert_exporter": "python",
   "pygments_lexer": "ipython3",
   "version": "3.10.12"
  }
 },
 "nbformat": 4,
 "nbformat_minor": 5
}
