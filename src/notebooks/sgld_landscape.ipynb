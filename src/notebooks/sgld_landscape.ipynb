{
 "cells": [
  {
   "cell_type": "code",
   "execution_count": 1,
   "id": "db24e510-243e-4f7f-896d-ffd69649d7be",
   "metadata": {},
   "outputs": [],
   "source": [
    "import sys\n",
    "import torch as t\n",
    "import numpy as np\n",
    "from matplotlib import pyplot as plt\n",
    "import json\n",
    "from itertools import product\n",
    "sys.path.append('/workspace/wilson/Finite-groups/src')\n",
    "from model import MLP3, MLP4, InstancedModule\n",
    "from evals import load_models\n",
    "from utils import *\n",
    "from group_data import *\n",
    "from jaxtyping import Float\n",
    "from typing import Union\n",
    "from einops import repeat\n",
    "from torch.utils.data import DataLoader\n",
    "from tqdm.notebook import tqdm\n",
    "import plotly.graph_objects as go\n",
    "import copy\n",
    "import math\n",
    "from itertools import product\n",
    "from llc import *\n",
    "from sklearn.decomposition import PCA\n",
    "%load_ext autoreload\n",
    "%autoreload 2\n",
    "\n",
    "device = t.device(\"cuda\" if t.cuda.is_available() else \"cpu\")"
   ]
  },
  {
   "cell_type": "code",
   "execution_count": 2,
   "id": "0c44a7c7-1ab4-4243-bfd5-4bf8cd29a69a",
   "metadata": {},
   "outputs": [
    {
     "name": "stderr",
     "output_type": "stream",
     "text": [
      "100%|██████████| 1/1 [00:00<00:00,  6.30it/s]\n"
     ]
    }
   ],
   "source": [
    "#path = '/workspace/models/2024_08_02_02_17_18_S_5_'\n",
    "path = '/workspace/models/2024_08_03_00_04_30_Z_48_2_'\n",
    "models, params = load_models(path, final=True)"
   ]
  },
  {
   "cell_type": "code",
   "execution_count": 3,
   "id": "02b7067d-9725-4c88-8e73-ed3d90764f25",
   "metadata": {},
   "outputs": [
    {
     "name": "stdout",
     "output_type": "stream",
     "text": [
      "Intersection size: 9216/9216 (1.00)\n",
      "Added 9216 elements from intersection\n",
      "Added 0 elements from group 0: Z(48,2)\n",
      "Taking random subset: 3686/9216 (0.40)\n",
      "Train set size: 3686/9216 (0.40)\n"
     ]
    }
   ],
   "source": [
    "dataset = GroupData(params)"
   ]
  },
  {
   "cell_type": "code",
   "execution_count": 6,
   "id": "ebade2a5-96a9-447e-a4ae-f5e548fa7d27",
   "metadata": {},
   "outputs": [],
   "source": [
    "model = models[-1][1].to(device)"
   ]
  },
  {
   "cell_type": "code",
   "execution_count": 7,
   "id": "91fb757f-c729-4b1a-ba35-441883a951e3",
   "metadata": {},
   "outputs": [],
   "source": [
    "# make this constant to avoid accidentally reordering\n",
    "PARAM_NAMES = [name for name, _ in model.named_parameters()]"
   ]
  },
  {
   "cell_type": "code",
   "execution_count": 9,
   "id": "aa84fd68-be16-4b6e-af18-68ba378116be",
   "metadata": {},
   "outputs": [
    {
     "data": {
      "application/vnd.jupyter.widget-view+json": {
       "model_id": "db44c5c5522c41b9bf42b1f6e0429923",
       "version_major": 2,
       "version_minor": 0
      },
      "text/plain": [
       "SGLD:   0%|          | 0/10000 [00:00<?, ?it/s]"
      ]
     },
     "metadata": {},
     "output_type": "display_data"
    }
   ],
   "source": [
    "eps = 3e-3\n",
    "beta = 1e3\n",
    "gamma = 1.\n",
    "\n",
    "trace, traj = sgld_trace(model, dataset, eps, beta, gamma, epochs=10_000, behavioral=True, return_traj=True)"
   ]
  },
  {
   "cell_type": "code",
   "execution_count": 10,
   "id": "9e818c93-6a00-4c16-8ed3-d3b31d480250",
   "metadata": {},
   "outputs": [
    {
     "data": {
      "image/png": "[encoded data removed]",
      "text/plain": [
       "<Figure size 640x480 with 1 Axes>"
      ]
     },
     "metadata": {},
     "output_type": "display_data"
    }
   ],
   "source": [
    "plt.plot(trace.detach().cpu().numpy().flatten())\n",
    "plt.show()"
   ]
  },
  {
   "cell_type": "code",
   "execution_count": 11,
   "id": "5fbe58cf-9ea2-45fe-9347-9cab76b3c872",
   "metadata": {},
   "outputs": [],
   "source": [
    "def flatten_model(model):\n",
    "    return t.concat([model.get_parameter(name).flatten() for name in PARAM_NAMES])"
   ]
  },
  {
   "cell_type": "code",
   "execution_count": 12,
   "id": "dd43af58-b496-4ed7-a3ea-7d7d8edf5e38",
   "metadata": {},
   "outputs": [],
   "source": [
    "def form_model(model, weights):\n",
    "    numels = [model.get_parameter(name).numel() for name in PARAM_NAMES]\n",
    "    bounds = [0] + list(np.cumsum(numels))\n",
    "    shapes = [model.get_parameter(name).shape for name in PARAM_NAMES]\n",
    "    ret = copy.deepcopy(model)\n",
    "    for i, name in enumerate(PARAM_NAMES):\n",
    "        p = ret.get_parameter(name)\n",
    "        p.data = t.tensor(weights[bounds[i]:bounds[i + 1]]).reshape(shapes[i])\n",
    "    return ret"
   ]
  },
  {
   "cell_type": "code",
   "execution_count": 13,
   "id": "2719e715-0c06-4f74-b5ee-2fb1acf6df63",
   "metadata": {},
   "outputs": [],
   "source": [
    "orig_weights = flatten_model(model).cpu().detach().numpy()\n",
    "weights = t.stack([flatten_model(m) for m in traj]).cpu().detach().numpy()\n",
    "weights -= orig_weights\n",
    "pca = PCA(n_components=20)\n",
    "pca.fit(weights)\n",
    "pca0 = pca.components_[0]\n",
    "pca1 = pca.components_[1]\n",
    "t0 = weights @ pca0.reshape((-1, 1))\n",
    "t1 = weights @ pca1.reshape((-1, 1))\n",
    "bound0 = np.abs(t0).max() * 1.2\n",
    "bound1 = np.abs(t1).max() * 1.2"
   ]
  },
  {
   "cell_type": "code",
   "execution_count": 14,
   "id": "6cebf166-3d69-46e2-921f-1ff27035aee3",
   "metadata": {},
   "outputs": [],
   "source": [
    "steps = 10\n",
    "grid = np.stack(\n",
    "    [pca0 * a + pca1 * b for a, b in product(np.arange(-bound0, bound0, bound0 / steps), np.arange(-bound1, bound1, bound1 / steps))]\n",
    ")"
   ]
  },
  {
   "cell_type": "code",
   "execution_count": 15,
   "id": "e4b7b3fb-546c-4602-af42-4730fcc6c4da",
   "metadata": {},
   "outputs": [],
   "source": [
    "grid_model = model.stack(\n",
    "    [form_model(model, orig_weights + grid[i]).float() for i in range(len(grid))]\n",
    ")"
   ]
  },
  {
   "cell_type": "code",
   "execution_count": 16,
   "id": "031bd8c6-3404-498b-bd1e-e9add84502e5",
   "metadata": {},
   "outputs": [],
   "source": [
    "# BEHAVORIAL\n",
    "X = t.tensor(list(dataset.train_data))[:, :2].to(device)\n",
    "Y = model.to(device)(X)\n",
    "out = grid_model.to(device)(X)\n",
    "Y = einops.repeat(Y, \"batch instance vocab -> batch (n instance) vocab\", n = len(grid_model))\n",
    "loss = (Y.softmax(dim=-1) * (Y.log_softmax(dim=-1) - out.log_softmax(dim=-1))).sum(dim=-1).mean(dim=0)\n",
    "loss = loss.reshape((2*steps, 2*steps)).detach().cpu().numpy()"
   ]
  },
  {
   "cell_type": "code",
   "execution_count": 13,
   "id": "13eb5a75-53e6-403b-bba8-2d904538414b",
   "metadata": {},
   "outputs": [],
   "source": [
    "# STANDARD\n",
    "X = t.tensor(list(dataset.train_data))[:, :2].to(device)\n",
    "Z = t.tensor(list(dataset.train_data))[:, 2].to(device)\n",
    "out = grid_model.to(device)(X)\n",
    "loss = get_cross_entropy(out, Z)\n",
    "loss = loss.reshape((2*steps, 2*steps)).detach().cpu().numpy()"
   ]
  },
  {
   "cell_type": "code",
   "execution_count": 17,
   "id": "21770da2-f99f-44a3-8be5-0cb1287997c2",
   "metadata": {},
   "outputs": [
    {
     "data": {
      "image/png": "[encoded data removed]",
      "text/plain": [
       "<Figure size 640x480 with 2 Axes>"
      ]
     },
     "metadata": {},
     "output_type": "display_data"
    }
   ],
   "source": [
    "a = np.linspace(-bound0, bound0, 2*steps)\n",
    "b = np.linspace(-bound1, bound1, 2*steps)\n",
    "A, B = np.meshgrid(a, b)\n",
    "plt.contourf(A, B, loss, levels=20, cmap='viridis')\n",
    "plt.plot(t0.flatten(), t1.flatten(), 'r')\n",
    "plt.colorbar(label='loss')\n",
    "plt.show()"
   ]
  },
  {
   "cell_type": "code",
   "execution_count": 121,
   "id": "6891a086-c65c-4a65-af08-e6402a96086a",
   "metadata": {},
   "outputs": [],
   "source": [
    "x = np.array([a*10 + b for a, b in product(range(10), repeat=2)])"
   ]
  },
  {
   "cell_type": "code",
   "execution_count": 123,
   "id": "afbd70b2-e5ff-4fef-aefd-366569b76adb",
   "metadata": {},
   "outputs": [
    {
     "data": {
      "text/plain": [
       "array([[ 0,  1,  2,  3,  4,  5,  6,  7,  8,  9],\n",
       "       [10, 11, 12, 13, 14, 15, 16, 17, 18, 19],\n",
       "       [20, 21, 22, 23, 24, 25, 26, 27, 28, 29],\n",
       "       [30, 31, 32, 33, 34, 35, 36, 37, 38, 39],\n",
       "       [40, 41, 42, 43, 44, 45, 46, 47, 48, 49],\n",
       "       [50, 51, 52, 53, 54, 55, 56, 57, 58, 59],\n",
       "       [60, 61, 62, 63, 64, 65, 66, 67, 68, 69],\n",
       "       [70, 71, 72, 73, 74, 75, 76, 77, 78, 79],\n",
       "       [80, 81, 82, 83, 84, 85, 86, 87, 88, 89],\n",
       "       [90, 91, 92, 93, 94, 95, 96, 97, 98, 99]])"
      ]
     },
     "execution_count": 123,
     "metadata": {},
     "output_type": "execute_result"
    }
   ],
   "source": [
    "x.reshape(10, 10)"
   ]
  },
  {
   "cell_type": "code",
   "execution_count": 203,
   "id": "8e14482b-8050-4fe1-ba7f-a776b93a4da4",
   "metadata": {},
   "outputs": [
    {
     "data": {
      "text/plain": [
       "1636"
      ]
     },
     "execution_count": 203,
     "metadata": {},
     "output_type": "execute_result"
    }
   ],
   "source": [
    "import gc\n",
    "t.cuda.empty_cache()\n",
    "gc.collect()"
   ]
  },
  {
   "cell_type": "code",
   "execution_count": 79,
   "id": "9fb61795-9e3b-46a6-844a-7425cfd5b026",
   "metadata": {},
   "outputs": [],
   "source": [
    "prods = [np.inner(pca1, weights[i].detach().numpy()) for i in range(3000)]"
   ]
  },
  {
   "cell_type": "code",
   "execution_count": 77,
   "id": "5bb3c329-d06c-42e9-9ba2-1a09feb93b0b",
   "metadata": {},
   "outputs": [
    {
     "data": {
      "text/plain": [
       "array([1199.3876  ,  598.91547 ,  401.58405 ,  300.07877 ,  239.94913 ,\n",
       "        199.4039  ,  171.28145 ,  150.01237 ,  133.04556 ,  120.010475,\n",
       "        109.09311 ,   99.89379 ,   92.23335 ,   85.586586,   80.196915,\n",
       "         75.20208 ,   70.63641 ,   66.626724,   63.153687,   59.965176],\n",
       "      dtype=float32)"
      ]
     },
     "execution_count": 77,
     "metadata": {},
     "output_type": "execute_result"
    }
   ],
   "source": [
    "pca.singular_values_"
   ]
  },
  {
   "cell_type": "code",
   "execution_count": 78,
   "id": "c3049b24-cda1-4017-8e39-87e2070024cd",
   "metadata": {},
   "outputs": [
    {
     "data": {
      "text/plain": [
       "np.float64(34.64101615137755)"
      ]
     },
     "execution_count": 78,
     "metadata": {},
     "output_type": "execute_result"
    }
   ],
   "source": [
    "np.sqrt(1200)"
   ]
  },
  {
   "cell_type": "code",
   "execution_count": 81,
   "id": "47c44e8c-0d5a-4d1c-b09f-a3f9c462a1b3",
   "metadata": {},
   "outputs": [
    {
     "data": {
      "text/plain": [
       "np.float32(-31.185738)"
      ]
     },
     "execution_count": 81,
     "metadata": {},
     "output_type": "execute_result"
    }
   ],
   "source": [
    "min(prods)"
   ]
  },
  {
   "cell_type": "code",
   "execution_count": 83,
   "id": "f1c01d24-81b5-41bb-ac9d-0d0bcaddc27d",
   "metadata": {},
   "outputs": [
    {
     "data": {
      "text/plain": [
       "torch.Size([3000, 157696])"
      ]
     },
     "execution_count": 83,
     "metadata": {},
     "output_type": "execute_result"
    }
   ],
   "source": [
    "weights.shape"
   ]
  },
  {
   "cell_type": "code",
   "execution_count": 86,
   "id": "d9055a09-5532-4570-8653-9febe7f1c602",
   "metadata": {},
   "outputs": [],
   "source": [
    "r = weights.detach().numpy() @ pca0.reshape((-1, 1))"
   ]
  },
  {
   "cell_type": "code",
   "execution_count": 92,
   "id": "481e4119-f864-4c27-bb7b-dee11528da6b",
   "metadata": {},
   "outputs": [
    {
     "data": {
      "text/plain": [
       "np.float32(61.71155)"
      ]
     },
     "execution_count": 92,
     "metadata": {},
     "output_type": "execute_result"
    }
   ],
   "source": [
    "np.abs(r).max()"
   ]
  },
  {
   "cell_type": "code",
   "execution_count": 32,
   "id": "83088459-a31b-4457-adac-917a0a92ec94",
   "metadata": {},
   "outputs": [
    {
     "data": {
      "text/plain": [
       "(157696,)"
      ]
     },
     "execution_count": 32,
     "metadata": {},
     "output_type": "execute_result"
    }
   ],
   "source": [
    "pca.components_[0].shape"
   ]
  },
  {
   "cell_type": "code",
   "execution_count": 33,
   "id": "0b595719-0efd-49c8-a0a0-14151d8012df",
   "metadata": {},
   "outputs": [
    {
     "data": {
      "text/plain": [
       "[30720, 30720, 65536, 30720]"
      ]
     },
     "execution_count": 33,
     "metadata": {},
     "output_type": "execute_result"
    }
   ],
   "source": [
    "[p.numel() for p in model.parameters()]"
   ]
  },
  {
   "cell_type": "code",
   "execution_count": 34,
   "id": "5c0f77a4-f18c-4f35-8888-ab4199f53af3",
   "metadata": {},
   "outputs": [
    {
     "data": {
      "text/plain": [
       "['embedding_left', 'embedding_right', 'linear', 'unembedding']"
      ]
     },
     "execution_count": 34,
     "metadata": {},
     "output_type": "execute_result"
    }
   ],
   "source": [
    "[name for name, _ in model.named_parameters()]"
   ]
  },
  {
   "cell_type": "code",
   "execution_count": 35,
   "id": "22e4ab4f-a229-4f30-987f-89877b745a80",
   "metadata": {},
   "outputs": [
    {
     "data": {
      "text/plain": [
       "30720"
      ]
     },
     "execution_count": 35,
     "metadata": {},
     "output_type": "execute_result"
    }
   ],
   "source": [
    "256*120"
   ]
  },
  {
   "cell_type": "code",
   "execution_count": 36,
   "id": "56d207c9-6f48-4d84-a722-8bda8def7a50",
   "metadata": {},
   "outputs": [
    {
     "data": {
      "text/plain": [
       "array([ 1,  3,  6, 10, 15])"
      ]
     },
     "execution_count": 36,
     "metadata": {},
     "output_type": "execute_result"
    }
   ],
   "source": [
    "np.cumsum([1, 2, 3, 4, 5])"
   ]
  },
  {
   "cell_type": "code",
   "execution_count": 40,
   "id": "23b81e99-db37-4cb8-aeeb-b61381bb76c4",
   "metadata": {},
   "outputs": [
    {
     "data": {
      "text/plain": [
       "torch.Size([1, 256, 256])"
      ]
     },
     "execution_count": 40,
     "metadata": {},
     "output_type": "execute_result"
    }
   ],
   "source": [
    "model.get_parameter('linear').shape"
   ]
  },
  {
   "cell_type": "code",
   "execution_count": 53,
   "id": "47e7485f-91ba-4b6a-9cb9-c7398598fe7e",
   "metadata": {},
   "outputs": [
    {
     "name": "stdout",
     "output_type": "stream",
     "text": [
      "[30720, 30720, 65536, 30720]\n",
      "[0, np.int64(30720), np.int64(61440), np.int64(126976), np.int64(157696)]\n",
      "[torch.Size([1, 120, 256]), torch.Size([1, 120, 256]), torch.Size([1, 256, 256]), torch.Size([1, 256, 120])]\n"
     ]
    },
    {
     "name": "stderr",
     "output_type": "stream",
     "text": [
      "/tmp/ipykernel_9749/1820372507.py:11: UserWarning: To copy construct from a tensor, it is recommended to use sourceTensor.clone().detach() or sourceTensor.clone().detach().requires_grad_(True), rather than torch.tensor(sourceTensor).\n",
      "  p.data = t.tensor(weights[bounds[i]:bounds[i + 1]]).reshape(shapes[i])\n"
     ]
    }
   ],
   "source": []
  },
  {
   "cell_type": "code",
   "execution_count": 66,
   "id": "571f0308-99dd-4dfb-afaa-97aebde98b93",
   "metadata": {},
   "outputs": [
    {
     "name": "stdout",
     "output_type": "stream",
     "text": [
      "[30720, 30720, 65536, 30720]\n",
      "[0, np.int64(30720), np.int64(61440), np.int64(126976), np.int64(157696)]\n",
      "[torch.Size([1, 120, 256]), torch.Size([1, 120, 256]), torch.Size([1, 256, 256]), torch.Size([1, 256, 120])]\n",
      "embedding_left 5.525967597961426\n",
      "embedding_right 5.547910213470459\n",
      "linear 8.06786060333252\n",
      "unembedding 5.5435380935668945\n"
     ]
    },
    {
     "name": "stderr",
     "output_type": "stream",
     "text": [
      "/tmp/ipykernel_9749/1820372507.py:11: UserWarning: To copy construct from a tensor, it is recommended to use sourceTensor.clone().detach() or sourceTensor.clone().detach().requires_grad_(True), rather than torch.tensor(sourceTensor).\n",
      "  p.data = t.tensor(weights[bounds[i]:bounds[i + 1]]).reshape(shapes[i])\n"
     ]
    }
   ],
   "source": [
    "idx = 500\n",
    "a = form_model(model, weights[idx])\n",
    "for name in PARAM_NAMES:\n",
    "    print(name, (a.get_parameter(name) - traj[idx].get_parameter(name)).norm().item())"
   ]
  },
  {
   "cell_type": "code",
   "execution_count": 58,
   "id": "ff400526-ae4c-4b50-ac25-fcfa45d0527b",
   "metadata": {},
   "outputs": [
    {
     "data": {
      "text/plain": [
       "Parameter containing:\n",
       "tensor([[[ 1.7425e-23,  3.1198e-12,  8.6314e-06,  ..., -8.4923e-02,\n",
       "           1.9196e-14,  7.7403e-10],\n",
       "         [-5.0651e-23, -8.2180e-12, -2.0085e-05,  ..., -1.9541e-02,\n",
       "          -1.0730e-14,  4.5809e-09],\n",
       "         [-3.1173e-23, -9.3005e-12, -5.3586e-07,  ..., -3.0710e-01,\n",
       "          -1.3525e-14, -3.1426e-09],\n",
       "         ...,\n",
       "         [ 2.0064e-22,  2.7726e-12,  1.5972e-05,  ..., -1.9245e-01,\n",
       "           6.9926e-15,  9.1588e-09],\n",
       "         [-2.4655e-22,  4.1875e-12,  1.3858e-05,  ...,  2.8031e-01,\n",
       "           1.6148e-15,  2.3248e-09],\n",
       "         [-1.2222e-22, -4.2205e-12,  6.5678e-06,  ..., -4.5659e-01,\n",
       "          -1.4531e-15, -4.5126e-09]]], requires_grad=True)"
      ]
     },
     "execution_count": 58,
     "metadata": {},
     "output_type": "execute_result"
    }
   ],
   "source": [
    "a.linear"
   ]
  },
  {
   "cell_type": "code",
   "execution_count": 59,
   "id": "dba252ba-5810-40a0-b843-4953aa0f4173",
   "metadata": {},
   "outputs": [
    {
     "data": {
      "text/plain": [
       "Parameter containing:\n",
       "tensor([[[ 1.7425e-23,  3.1198e-12,  8.6314e-06,  ..., -8.4923e-02,\n",
       "           1.9196e-14,  7.7403e-10],\n",
       "         [-5.0651e-23, -8.2180e-12, -2.0085e-05,  ..., -1.9541e-02,\n",
       "          -1.0730e-14,  4.5809e-09],\n",
       "         [-3.1173e-23, -9.3005e-12, -5.3586e-07,  ..., -3.0710e-01,\n",
       "          -1.3525e-14, -3.1426e-09],\n",
       "         ...,\n",
       "         [ 2.0064e-22,  2.7726e-12,  1.5972e-05,  ..., -1.9245e-01,\n",
       "           6.9926e-15,  9.1588e-09],\n",
       "         [-2.4655e-22,  4.1875e-12,  1.3858e-05,  ...,  2.8031e-01,\n",
       "           1.6148e-15,  2.3248e-09],\n",
       "         [-1.2222e-22, -4.2205e-12,  6.5678e-06,  ..., -4.5659e-01,\n",
       "          -1.4531e-15, -4.5126e-09]]], requires_grad=True)"
      ]
     },
     "execution_count": 59,
     "metadata": {},
     "output_type": "execute_result"
    }
   ],
   "source": [
    "traj[0].linear"
   ]
  },
  {
   "cell_type": "code",
   "execution_count": null,
   "id": "fdb154f2-af7c-4281-8ea7-6ffa895e430d",
   "metadata": {},
   "outputs": [],
   "source": []
  }
 ],
 "metadata": {
  "kernelspec": {
   "display_name": "Python 3 (ipykernel)",
   "language": "python",
   "name": "python3"
  },
  "language_info": {
   "codemirror_mode": {
    "name": "ipython",
    "version": 3
   },
   "file_extension": ".py",
   "mimetype": "text/x-python",
   "name": "python",
   "nbconvert_exporter": "python",
   "pygments_lexer": "ipython3",
   "version": "3.10.12"
  }
 },
 "nbformat": 4,
 "nbformat_minor": 5
}
