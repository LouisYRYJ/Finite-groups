{
 "cells": [
  {
   "cell_type": "code",
   "execution_count": 1,
   "id": "bbac5d78-30ae-4d0d-8099-6b9893e817b6",
   "metadata": {},
   "outputs": [],
   "source": [
    "import sys\n",
    "import torch\n",
    "import numpy as np\n",
    "from matplotlib import pyplot as plt\n",
    "import json\n",
    "from itertools import product\n",
    "sys.path.append('/home/wilson/Finite-groups/src')\n",
    "from model import MLP3\n",
    "from evals import load_models, load_model_paths\n",
    "from utils import dotdict\n",
    "from group_data import *\n",
    "from train import Parameters\n",
    "from model_viz import model_table, plot_table, plot_indicator_table\n",
    "from plotly import graph_objs as go\n",
    "%load_ext autoreload\n",
    "%autoreload 2"
   ]
  },
  {
   "cell_type": "code",
   "execution_count": 37,
   "id": "4fecde5e-af24-408b-a829-b39f1852be40",
   "metadata": {},
   "outputs": [],
   "source": [
    "#path = '/home/wilson/Finite-groups/src/models/2024_07_24_17_31_02_Z_100__Z_2_50_'\n",
    "#path = '/home/wilson/Finite-groups/src/models/2024_07_24_17_51_00_Z_100__clamped_100_'\n",
    "#path = '/home/wilson/Finite-groups/src/models/2024_07_24_18_12_27_Z_48_2__twZ_48_'     #delta_frac 0;0.3\n",
    "#path = '/home/wilson/Finite-groups/src/models/2024_07_24_18_23_16_Z_48_2__twZ_48_'      #delta_frac 0;0.1\n",
    "path = '/home/wilson/Finite-groups/src/models/2024_07_24_19_14_31_Z_100__Z_50_2_'\n",
    "models, params = load_models(path)"
   ]
  },
  {
   "cell_type": "code",
   "execution_count": 42,
   "id": "c3f236c4-7164-4c65-aea2-84d183aa77ca",
   "metadata": {},
   "outputs": [],
   "source": [
    "instance=2\n",
    "plot_indicator_table(models[-1][instance], params, instance)"
   ]
  },
  {
   "cell_type": "code",
   "execution_count": 43,
   "id": "44219481-0c3e-43ca-b593-81bfbb11fb06",
   "metadata": {},
   "outputs": [
    {
     "name": "stderr",
     "output_type": "stream",
     "text": [
      "100%|██████████████████████████████████████████████████████████████████████████████████████████████████| 667/667 [00:27<00:00, 24.39it/s]\n"
     ]
    }
   ],
   "source": [
    "fig = plot_table(models, params, save=True, instance=instance)\n",
    "fig.show()"
   ]
  },
  {
   "cell_type": "code",
   "execution_count": null,
   "id": "02f3351d-8be5-4b56-a9be-b859b133eeb8",
   "metadata": {},
   "outputs": [],
   "source": []
  },
  {
   "cell_type": "code",
   "execution_count": null,
   "id": "1adc33b0-994b-49f6-9759-a5a1bf8b6df2",
   "metadata": {},
   "outputs": [],
   "source": []
  },
  {
   "cell_type": "code",
   "execution_count": null,
   "id": "6b56de2c-e386-4289-b3d6-7cabbe64f8c1",
   "metadata": {},
   "outputs": [],
   "source": []
  },
  {
   "cell_type": "code",
   "execution_count": 45,
   "id": "a178601f-6eb7-40a6-9794-fa0e4c4de3af",
   "metadata": {},
   "outputs": [],
   "source": [
    "params = Parameters()\n",
    "params.group_string = 'Z(5)'\n",
    "params.instances = 20\n",
    "model = MLP3(5, params)"
   ]
  },
  {
   "cell_type": "code",
   "execution_count": 46,
   "id": "f92d3ac5-2b14-48f4-b111-a8cc444e3c9c",
   "metadata": {},
   "outputs": [],
   "source": [
    "models = [model[i] for i in range(params.instances)]"
   ]
  },
  {
   "cell_type": "code",
   "execution_count": 53,
   "id": "6ca32c00-7052-457e-a9d8-9a4e9c0523fc",
   "metadata": {},
   "outputs": [],
   "source": [
    "fig = plot_table(models, params)\n",
    "fig.show()"
   ]
  },
  {
   "cell_type": "code",
   "execution_count": 32,
   "id": "df86adde-342c-4663-b853-759d9c0d96b3",
   "metadata": {},
   "outputs": [],
   "source": [
    "x = ['a', 'b', 'c', 'd', 'e']\n",
    "y = [1, 2, 3, 4, 5]\n",
    "fig = go.Figure(go.Heatmap(z=table, x=x, y=y, ))\n",
    "fig.update_layout(\n",
    "    # yaxis = dict(\n",
    "    #     scaleanchor = 'x',\n",
    "    #     scaleratio = 1,\n",
    "    # ),\n",
    "    # xaxis = dict(\n",
    "    #     constrain = 'domain'\n",
    "    # ),\n",
    "    width = 500,  # You can adjust this value\n",
    "    height = 500  # Make sure width and height are the same for a square plot\n",
    ")\n",
    "fig.show()"
   ]
  },
  {
   "cell_type": "code",
   "execution_count": null,
   "id": "db50259b-eb32-42b6-878f-2c1618eef8d0",
   "metadata": {},
   "outputs": [],
   "source": []
  }
 ],
 "metadata": {
  "kernelspec": {
   "display_name": "Python 3 (ipykernel)",
   "language": "python",
   "name": "python3"
  },
  "language_info": {
   "codemirror_mode": {
    "name": "ipython",
    "version": 3
   },
   "file_extension": ".py",
   "mimetype": "text/x-python",
   "name": "python",
   "nbconvert_exporter": "python",
   "pygments_lexer": "ipython3",
   "version": "3.12.4"
  }
 },
 "nbformat": 4,
 "nbformat_minor": 5
}
