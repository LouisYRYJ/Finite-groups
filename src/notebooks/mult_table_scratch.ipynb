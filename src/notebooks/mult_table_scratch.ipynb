{
 "cells": [
  {
   "cell_type": "code",
   "execution_count": 35,
   "id": "bbac5d78-30ae-4d0d-8099-6b9893e817b6",
   "metadata": {},
   "outputs": [
    {
     "name": "stdout",
     "output_type": "stream",
     "text": [
      "The autoreload extension is already loaded. To reload it, use:\n",
      "  %reload_ext autoreload\n"
     ]
    }
   ],
   "source": [
    "import sys\n",
    "import torch\n",
    "import numpy as np\n",
    "from matplotlib import pyplot as plt\n",
    "import json\n",
    "from itertools import product\n",
    "sys.path.append('/home/wilson/Finite-groups/src')\n",
    "from model import MLP3\n",
    "from evals import load_model\n",
    "from utils import dotdict\n",
    "from group_data import *\n",
    "from train import Parameters\n",
    "from model_viz import model_table, plot_table\n",
    "from plotly import graph_objs as go\n",
    "%load_ext autoreload\n",
    "%autoreload 2"
   ]
  },
  {
   "cell_type": "code",
   "execution_count": 45,
   "id": "a178601f-6eb7-40a6-9794-fa0e4c4de3af",
   "metadata": {},
   "outputs": [],
   "source": [
    "params = Parameters()\n",
    "params.group_string = 'Z(5)'\n",
    "params.instances = 20\n",
    "model = MLP3(5, params)"
   ]
  },
  {
   "cell_type": "code",
   "execution_count": 46,
   "id": "f92d3ac5-2b14-48f4-b111-a8cc444e3c9c",
   "metadata": {},
   "outputs": [],
   "source": [
    "models = [model[i] for i in range(params.instances)]"
   ]
  },
  {
   "cell_type": "code",
   "execution_count": 51,
   "id": "6ca32c00-7052-457e-a9d8-9a4e9c0523fc",
   "metadata": {},
   "outputs": [
    {
     "data": {
      "application/vnd.plotly.v1+json": {
       "config": {
        "plotlyServerURL": "https://plot.ly"
       },
       "data": [
        {
         "customdata": [
          [
           4,
           4,
           4,
           4,
           4
          ],
          [
           1,
           4,
           4,
           4,
           4
          ],
          [
           4,
           4,
           4,
           3,
           4
          ],
          [
           4,
           4,
           4,
           4,
           0
          ],
          [
           0,
           4,
           4,
           4,
           0
          ]
         ],
         "hovertemplate": "x=%{x}<br>y=%{y}<br>z=%{customdata}<extra></extra>",
         "showscale": false,
         "type": "heatmap",
         "x": [
          "0",
          "1",
          "2",
          "3",
          "4"
         ],
         "y": [
          "0",
          "1",
          "2",
          "3",
          "4"
         ],
         "z": [
          [
           4,
           4,
           4,
           4,
           4
          ],
          [
           1,
           4,
           4,
           4,
           4
          ],
          [
           4,
           4,
           4,
           3,
           4
          ],
          [
           4,
           4,
           4,
           4,
           0
          ],
          [
           0,
           4,
           4,
           4,
           0
          ]
         ]
        }
       ],
       "frames": [
        {
         "data": [
          {
           "customdata": [
            [
             4,
             4,
             4,
             4,
             4
            ],
            [
             1,
             4,
             4,
             4,
             4
            ],
            [
             4,
             4,
             4,
             3,
             4
            ],
            [
             4,
             4,
             4,
             4,
             0
            ],
            [
             0,
             4,
             4,
             4,
             0
            ]
           ],
           "hovertemplate": "x=%{x}<br>y=%{y}<br>z=%{customdata}<extra></extra>",
           "showscale": false,
           "type": "heatmap",
           "x": [
            "0",
            "1",
            "2",
            "3",
            "4"
           ],
           "y": [
            "0",
            "1",
            "2",
            "3",
            "4"
           ],
           "z": [
            [
             4,
             4,
             4,
             4,
             4
            ],
            [
             1,
             4,
             4,
             4,
             4
            ],
            [
             4,
             4,
             4,
             3,
             4
            ],
            [
             4,
             4,
             4,
             4,
             0
            ],
            [
             0,
             4,
             4,
             4,
             0
            ]
           ]
          }
         ],
         "name": "frame0"
        },
        {
         "data": [
          {
           "customdata": [
            [
             4,
             1,
             4,
             4,
             1
            ],
            [
             1,
             1,
             3,
             1,
             1
            ],
            [
             1,
             1,
             1,
             1,
             1
            ],
            [
             1,
             1,
             1,
             1,
             2
            ],
            [
             1,
             1,
             1,
             2,
             2
            ]
           ],
           "hovertemplate": "x=%{x}<br>y=%{y}<br>z=%{customdata}<extra></extra>",
           "showscale": false,
           "type": "heatmap",
           "x": [
            "0",
            "1",
            "2",
            "3",
            "4"
           ],
           "y": [
            "0",
            "1",
            "2",
            "3",
            "4"
           ],
           "z": [
            [
             4,
             1,
             4,
             4,
             1
            ],
            [
             1,
             1,
             3,
             1,
             1
            ],
            [
             1,
             1,
             1,
             1,
             1
            ],
            [
             1,
             1,
             1,
             1,
             2
            ],
            [
             1,
             1,
             1,
             2,
             2
            ]
           ]
          }
         ],
         "name": "frame1"
        },
        {
         "data": [
          {
           "customdata": [
            [
             0,
             4,
             0,
             0,
             0
            ],
            [
             0,
             4,
             4,
             0,
             4
            ],
            [
             3,
             3,
             0,
             0,
             0
            ],
            [
             0,
             0,
             0,
             0,
             0
            ],
            [
             3,
             4,
             0,
             0,
             4
            ]
           ],
           "hovertemplate": "x=%{x}<br>y=%{y}<br>z=%{customdata}<extra></extra>",
           "showscale": false,
           "type": "heatmap",
           "x": [
            "0",
            "1",
            "2",
            "3",
            "4"
           ],
           "y": [
            "0",
            "1",
            "2",
            "3",
            "4"
           ],
           "z": [
            [
             0,
             4,
             0,
             0,
             0
            ],
            [
             0,
             4,
             4,
             0,
             4
            ],
            [
             3,
             3,
             0,
             0,
             0
            ],
            [
             0,
             0,
             0,
             0,
             0
            ],
            [
             3,
             4,
             0,
             0,
             4
            ]
           ]
          }
         ],
         "name": "frame2"
        },
        {
         "data": [
          {
           "customdata": [
            [
             0,
             2,
             2,
             4,
             4
            ],
            [
             3,
             4,
             4,
             4,
             4
            ],
            [
             2,
             2,
             0,
             4,
             4
            ],
            [
             4,
             4,
             0,
             4,
             4
            ],
            [
             1,
             4,
             4,
             4,
             4
            ]
           ],
           "hovertemplate": "x=%{x}<br>y=%{y}<br>z=%{customdata}<extra></extra>",
           "showscale": false,
           "type": "heatmap",
           "x": [
            "0",
            "1",
            "2",
            "3",
            "4"
           ],
           "y": [
            "0",
            "1",
            "2",
            "3",
            "4"
           ],
           "z": [
            [
             0,
             2,
             2,
             4,
             4
            ],
            [
             3,
             4,
             4,
             4,
             4
            ],
            [
             2,
             2,
             0,
             4,
             4
            ],
            [
             4,
             4,
             0,
             4,
             4
            ],
            [
             1,
             4,
             4,
             4,
             4
            ]
           ]
          }
         ],
         "name": "frame3"
        },
        {
         "data": [
          {
           "customdata": [
            [
             1,
             1,
             1,
             1,
             4
            ],
            [
             2,
             2,
             2,
             2,
             2
            ],
            [
             2,
             1,
             1,
             1,
             2
            ],
            [
             2,
             1,
             1,
             1,
             2
            ],
            [
             2,
             3,
             1,
             1,
             2
            ]
           ],
           "hovertemplate": "x=%{x}<br>y=%{y}<br>z=%{customdata}<extra></extra>",
           "showscale": false,
           "type": "heatmap",
           "x": [
            "0",
            "1",
            "2",
            "3",
            "4"
           ],
           "y": [
            "0",
            "1",
            "2",
            "3",
            "4"
           ],
           "z": [
            [
             1,
             1,
             1,
             1,
             4
            ],
            [
             2,
             2,
             2,
             2,
             2
            ],
            [
             2,
             1,
             1,
             1,
             2
            ],
            [
             2,
             1,
             1,
             1,
             2
            ],
            [
             2,
             3,
             1,
             1,
             2
            ]
           ]
          }
         ],
         "name": "frame4"
        },
        {
         "data": [
          {
           "customdata": [
            [
             4,
             4,
             4,
             4,
             4
            ],
            [
             4,
             4,
             4,
             4,
             4
            ],
            [
             4,
             4,
             4,
             4,
             4
            ],
            [
             3,
             4,
             4,
             4,
             4
            ],
            [
             3,
             0,
             0,
             0,
             4
            ]
           ],
           "hovertemplate": "x=%{x}<br>y=%{y}<br>z=%{customdata}<extra></extra>",
           "showscale": false,
           "type": "heatmap",
           "x": [
            "0",
            "1",
            "2",
            "3",
            "4"
           ],
           "y": [
            "0",
            "1",
            "2",
            "3",
            "4"
           ],
           "z": [
            [
             4,
             4,
             4,
             4,
             4
            ],
            [
             4,
             4,
             4,
             4,
             4
            ],
            [
             4,
             4,
             4,
             4,
             4
            ],
            [
             3,
             4,
             4,
             4,
             4
            ],
            [
             3,
             0,
             0,
             0,
             4
            ]
           ]
          }
         ],
         "name": "frame5"
        },
        {
         "data": [
          {
           "customdata": [
            [
             3,
             1,
             1,
             1,
             1
            ],
            [
             3,
             3,
             3,
             3,
             3
            ],
            [
             3,
             3,
             2,
             0,
             2
            ],
            [
             2,
             0,
             0,
             0,
             1
            ],
            [
             2,
             2,
             2,
             4,
             2
            ]
           ],
           "hovertemplate": "x=%{x}<br>y=%{y}<br>z=%{customdata}<extra></extra>",
           "showscale": false,
           "type": "heatmap",
           "x": [
            "0",
            "1",
            "2",
            "3",
            "4"
           ],
           "y": [
            "0",
            "1",
            "2",
            "3",
            "4"
           ],
           "z": [
            [
             3,
             1,
             1,
             1,
             1
            ],
            [
             3,
             3,
             3,
             3,
             3
            ],
            [
             3,
             3,
             2,
             0,
             2
            ],
            [
             2,
             0,
             0,
             0,
             1
            ],
            [
             2,
             2,
             2,
             4,
             2
            ]
           ]
          }
         ],
         "name": "frame6"
        },
        {
         "data": [
          {
           "customdata": [
            [
             4,
             1,
             3,
             4,
             1
            ],
            [
             3,
             1,
             3,
             4,
             1
            ],
            [
             2,
             3,
             3,
             3,
             3
            ],
            [
             3,
             1,
             3,
             1,
             1
            ],
            [
             3,
             3,
             3,
             3,
             3
            ]
           ],
           "hovertemplate": "x=%{x}<br>y=%{y}<br>z=%{customdata}<extra></extra>",
           "showscale": false,
           "type": "heatmap",
           "x": [
            "0",
            "1",
            "2",
            "3",
            "4"
           ],
           "y": [
            "0",
            "1",
            "2",
            "3",
            "4"
           ],
           "z": [
            [
             4,
             1,
             3,
             4,
             1
            ],
            [
             3,
             1,
             3,
             4,
             1
            ],
            [
             2,
             3,
             3,
             3,
             3
            ],
            [
             3,
             1,
             3,
             1,
             1
            ],
            [
             3,
             3,
             3,
             3,
             3
            ]
           ]
          }
         ],
         "name": "frame7"
        },
        {
         "data": [
          {
           "customdata": [
            [
             0,
             0,
             4,
             4,
             4
            ],
            [
             3,
             3,
             3,
             3,
             3
            ],
            [
             3,
             4,
             4,
             4,
             4
            ],
            [
             4,
             4,
             4,
             4,
             4
            ],
            [
             4,
             4,
             3,
             4,
             3
            ]
           ],
           "hovertemplate": "x=%{x}<br>y=%{y}<br>z=%{customdata}<extra></extra>",
           "showscale": false,
           "type": "heatmap",
           "x": [
            "0",
            "1",
            "2",
            "3",
            "4"
           ],
           "y": [
            "0",
            "1",
            "2",
            "3",
            "4"
           ],
           "z": [
            [
             0,
             0,
             4,
             4,
             4
            ],
            [
             3,
             3,
             3,
             3,
             3
            ],
            [
             3,
             4,
             4,
             4,
             4
            ],
            [
             4,
             4,
             4,
             4,
             4
            ],
            [
             4,
             4,
             3,
             4,
             3
            ]
           ]
          }
         ],
         "name": "frame8"
        },
        {
         "data": [
          {
           "customdata": [
            [
             0,
             2,
             2,
             2,
             2
            ],
            [
             4,
             4,
             4,
             4,
             4
            ],
            [
             0,
             3,
             1,
             2,
             3
            ],
            [
             2,
             4,
             3,
             4,
             4
            ],
            [
             2,
             4,
             4,
             4,
             4
            ]
           ],
           "hovertemplate": "x=%{x}<br>y=%{y}<br>z=%{customdata}<extra></extra>",
           "showscale": false,
           "type": "heatmap",
           "x": [
            "0",
            "1",
            "2",
            "3",
            "4"
           ],
           "y": [
            "0",
            "1",
            "2",
            "3",
            "4"
           ],
           "z": [
            [
             0,
             2,
             2,
             2,
             2
            ],
            [
             4,
             4,
             4,
             4,
             4
            ],
            [
             0,
             3,
             1,
             2,
             3
            ],
            [
             2,
             4,
             3,
             4,
             4
            ],
            [
             2,
             4,
             4,
             4,
             4
            ]
           ]
          }
         ],
         "name": "frame9"
        },
        {
         "data": [
          {
           "customdata": [
            [
             2,
             4,
             1,
             0,
             0
            ],
            [
             1,
             4,
             1,
             0,
             1
            ],
            [
             2,
             0,
             0,
             0,
             0
            ],
            [
             3,
             1,
             1,
             0,
             4
            ],
            [
             3,
             3,
             3,
             3,
             3
            ]
           ],
           "hovertemplate": "x=%{x}<br>y=%{y}<br>z=%{customdata}<extra></extra>",
           "showscale": false,
           "type": "heatmap",
           "x": [
            "0",
            "1",
            "2",
            "3",
            "4"
           ],
           "y": [
            "0",
            "1",
            "2",
            "3",
            "4"
           ],
           "z": [
            [
             2,
             4,
             1,
             0,
             0
            ],
            [
             1,
             4,
             1,
             0,
             1
            ],
            [
             2,
             0,
             0,
             0,
             0
            ],
            [
             3,
             1,
             1,
             0,
             4
            ],
            [
             3,
             3,
             3,
             3,
             3
            ]
           ]
          }
         ],
         "name": "frame10"
        },
        {
         "data": [
          {
           "customdata": [
            [
             1,
             1,
             0,
             0,
             1
            ],
            [
             1,
             1,
             1,
             0,
             1
            ],
            [
             4,
             1,
             0,
             0,
             0
            ],
            [
             1,
             1,
             1,
             4,
             1
            ],
            [
             1,
             1,
             3,
             3,
             1
            ]
           ],
           "hovertemplate": "x=%{x}<br>y=%{y}<br>z=%{customdata}<extra></extra>",
           "showscale": false,
           "type": "heatmap",
           "x": [
            "0",
            "1",
            "2",
            "3",
            "4"
           ],
           "y": [
            "0",
            "1",
            "2",
            "3",
            "4"
           ],
           "z": [
            [
             1,
             1,
             0,
             0,
             1
            ],
            [
             1,
             1,
             1,
             0,
             1
            ],
            [
             4,
             1,
             0,
             0,
             0
            ],
            [
             1,
             1,
             1,
             4,
             1
            ],
            [
             1,
             1,
             3,
             3,
             1
            ]
           ]
          }
         ],
         "name": "frame11"
        },
        {
         "data": [
          {
           "customdata": [
            [
             0,
             3,
             0,
             3,
             3
            ],
            [
             2,
             3,
             3,
             3,
             2
            ],
            [
             0,
             3,
             4,
             0,
             2
            ],
            [
             0,
             3,
             3,
             3,
             2
            ],
            [
             0,
             3,
             3,
             3,
             3
            ]
           ],
           "hovertemplate": "x=%{x}<br>y=%{y}<br>z=%{customdata}<extra></extra>",
           "showscale": false,
           "type": "heatmap",
           "x": [
            "0",
            "1",
            "2",
            "3",
            "4"
           ],
           "y": [
            "0",
            "1",
            "2",
            "3",
            "4"
           ],
           "z": [
            [
             0,
             3,
             0,
             3,
             3
            ],
            [
             2,
             3,
             3,
             3,
             2
            ],
            [
             0,
             3,
             4,
             0,
             2
            ],
            [
             0,
             3,
             3,
             3,
             2
            ],
            [
             0,
             3,
             3,
             3,
             3
            ]
           ]
          }
         ],
         "name": "frame12"
        },
        {
         "data": [
          {
           "customdata": [
            [
             3,
             2,
             3,
             2,
             3
            ],
            [
             3,
             2,
             3,
             3,
             3
            ],
            [
             0,
             2,
             3,
             3,
             3
            ],
            [
             2,
             2,
             2,
             2,
             2
            ],
            [
             3,
             2,
             3,
             0,
             4
            ]
           ],
           "hovertemplate": "x=%{x}<br>y=%{y}<br>z=%{customdata}<extra></extra>",
           "showscale": false,
           "type": "heatmap",
           "x": [
            "0",
            "1",
            "2",
            "3",
            "4"
           ],
           "y": [
            "0",
            "1",
            "2",
            "3",
            "4"
           ],
           "z": [
            [
             3,
             2,
             3,
             2,
             3
            ],
            [
             3,
             2,
             3,
             3,
             3
            ],
            [
             0,
             2,
             3,
             3,
             3
            ],
            [
             2,
             2,
             2,
             2,
             2
            ],
            [
             3,
             2,
             3,
             0,
             4
            ]
           ]
          }
         ],
         "name": "frame13"
        },
        {
         "data": [
          {
           "customdata": [
            [
             2,
             4,
             3,
             3,
             3
            ],
            [
             2,
             4,
             1,
             4,
             2
            ],
            [
             1,
             4,
             1,
             1,
             1
            ],
            [
             4,
             4,
             4,
             4,
             3
            ],
            [
             2,
             4,
             1,
             4,
             2
            ]
           ],
           "hovertemplate": "x=%{x}<br>y=%{y}<br>z=%{customdata}<extra></extra>",
           "showscale": false,
           "type": "heatmap",
           "x": [
            "0",
            "1",
            "2",
            "3",
            "4"
           ],
           "y": [
            "0",
            "1",
            "2",
            "3",
            "4"
           ],
           "z": [
            [
             2,
             4,
             3,
             3,
             3
            ],
            [
             2,
             4,
             1,
             4,
             2
            ],
            [
             1,
             4,
             1,
             1,
             1
            ],
            [
             4,
             4,
             4,
             4,
             3
            ],
            [
             2,
             4,
             1,
             4,
             2
            ]
           ]
          }
         ],
         "name": "frame14"
        },
        {
         "data": [
          {
           "customdata": [
            [
             4,
             1,
             3,
             4,
             0
            ],
            [
             0,
             0,
             3,
             3,
             0
            ],
            [
             0,
             0,
             0,
             0,
             0
            ],
            [
             0,
             3,
             3,
             3,
             0
            ],
            [
             4,
             4,
             4,
             4,
             0
            ]
           ],
           "hovertemplate": "x=%{x}<br>y=%{y}<br>z=%{customdata}<extra></extra>",
           "showscale": false,
           "type": "heatmap",
           "x": [
            "0",
            "1",
            "2",
            "3",
            "4"
           ],
           "y": [
            "0",
            "1",
            "2",
            "3",
            "4"
           ],
           "z": [
            [
             4,
             1,
             3,
             4,
             0
            ],
            [
             0,
             0,
             3,
             3,
             0
            ],
            [
             0,
             0,
             0,
             0,
             0
            ],
            [
             0,
             3,
             3,
             3,
             0
            ],
            [
             4,
             4,
             4,
             4,
             0
            ]
           ]
          }
         ],
         "name": "frame15"
        },
        {
         "data": [
          {
           "customdata": [
            [
             0,
             2,
             0,
             4,
             4
            ],
            [
             2,
             2,
             1,
             2,
             2
            ],
            [
             1,
             1,
             1,
             4,
             4
            ],
            [
             2,
             2,
             1,
             2,
             2
            ],
            [
             4,
             4,
             1,
             4,
             4
            ]
           ],
           "hovertemplate": "x=%{x}<br>y=%{y}<br>z=%{customdata}<extra></extra>",
           "showscale": false,
           "type": "heatmap",
           "x": [
            "0",
            "1",
            "2",
            "3",
            "4"
           ],
           "y": [
            "0",
            "1",
            "2",
            "3",
            "4"
           ],
           "z": [
            [
             0,
             2,
             0,
             4,
             4
            ],
            [
             2,
             2,
             1,
             2,
             2
            ],
            [
             1,
             1,
             1,
             4,
             4
            ],
            [
             2,
             2,
             1,
             2,
             2
            ],
            [
             4,
             4,
             1,
             4,
             4
            ]
           ]
          }
         ],
         "name": "frame16"
        },
        {
         "data": [
          {
           "customdata": [
            [
             1,
             1,
             1,
             1,
             1
            ],
            [
             1,
             1,
             4,
             1,
             1
            ],
            [
             1,
             1,
             4,
             0,
             1
            ],
            [
             1,
             1,
             4,
             1,
             1
            ],
            [
             1,
             1,
             4,
             0,
             1
            ]
           ],
           "hovertemplate": "x=%{x}<br>y=%{y}<br>z=%{customdata}<extra></extra>",
           "showscale": false,
           "type": "heatmap",
           "x": [
            "0",
            "1",
            "2",
            "3",
            "4"
           ],
           "y": [
            "0",
            "1",
            "2",
            "3",
            "4"
           ],
           "z": [
            [
             1,
             1,
             1,
             1,
             1
            ],
            [
             1,
             1,
             4,
             1,
             1
            ],
            [
             1,
             1,
             4,
             0,
             1
            ],
            [
             1,
             1,
             4,
             1,
             1
            ],
            [
             1,
             1,
             4,
             0,
             1
            ]
           ]
          }
         ],
         "name": "frame17"
        },
        {
         "data": [
          {
           "customdata": [
            [
             3,
             2,
             2,
             2,
             2
            ],
            [
             0,
             2,
             0,
             0,
             3
            ],
            [
             2,
             2,
             2,
             2,
             2
            ],
            [
             2,
             2,
             0,
             0,
             2
            ],
            [
             3,
             2,
             2,
             2,
             2
            ]
           ],
           "hovertemplate": "x=%{x}<br>y=%{y}<br>z=%{customdata}<extra></extra>",
           "showscale": false,
           "type": "heatmap",
           "x": [
            "0",
            "1",
            "2",
            "3",
            "4"
           ],
           "y": [
            "0",
            "1",
            "2",
            "3",
            "4"
           ],
           "z": [
            [
             3,
             2,
             2,
             2,
             2
            ],
            [
             0,
             2,
             0,
             0,
             3
            ],
            [
             2,
             2,
             2,
             2,
             2
            ],
            [
             2,
             2,
             0,
             0,
             2
            ],
            [
             3,
             2,
             2,
             2,
             2
            ]
           ]
          }
         ],
         "name": "frame18"
        },
        {
         "data": [
          {
           "customdata": [
            [
             2,
             1,
             2,
             1,
             2
            ],
            [
             0,
             2,
             3,
             3,
             2
            ],
            [
             2,
             2,
             2,
             1,
             2
            ],
            [
             2,
             2,
             2,
             2,
             2
            ],
            [
             2,
             2,
             2,
             3,
             2
            ]
           ],
           "hovertemplate": "x=%{x}<br>y=%{y}<br>z=%{customdata}<extra></extra>",
           "showscale": false,
           "type": "heatmap",
           "x": [
            "0",
            "1",
            "2",
            "3",
            "4"
           ],
           "y": [
            "0",
            "1",
            "2",
            "3",
            "4"
           ],
           "z": [
            [
             2,
             1,
             2,
             1,
             2
            ],
            [
             0,
             2,
             3,
             3,
             2
            ],
            [
             2,
             2,
             2,
             1,
             2
            ],
            [
             2,
             2,
             2,
             2,
             2
            ],
            [
             2,
             2,
             2,
             3,
             2
            ]
           ]
          }
         ],
         "name": "frame19"
        }
       ],
       "layout": {
        "height": 600,
        "sliders": [
         {
          "active": 0,
          "currentvalue": {
           "font": {
            "size": 12
           },
           "prefix": "Frame: ",
           "visible": true,
           "xanchor": "center"
          },
          "len": 1,
          "steps": [
           {
            "args": [
             [
              "frame0"
             ],
             {
              "frame": {
               "duration": 300,
               "redraw": true
              },
              "mode": "immediate",
              "transition": {
               "duration": 300
              }
             }
            ],
            "label": "1",
            "method": "animate"
           },
           {
            "args": [
             [
              "frame1"
             ],
             {
              "frame": {
               "duration": 300,
               "redraw": true
              },
              "mode": "immediate",
              "transition": {
               "duration": 300
              }
             }
            ],
            "label": "2",
            "method": "animate"
           },
           {
            "args": [
             [
              "frame2"
             ],
             {
              "frame": {
               "duration": 300,
               "redraw": true
              },
              "mode": "immediate",
              "transition": {
               "duration": 300
              }
             }
            ],
            "label": "3",
            "method": "animate"
           },
           {
            "args": [
             [
              "frame3"
             ],
             {
              "frame": {
               "duration": 300,
               "redraw": true
              },
              "mode": "immediate",
              "transition": {
               "duration": 300
              }
             }
            ],
            "label": "4",
            "method": "animate"
           },
           {
            "args": [
             [
              "frame4"
             ],
             {
              "frame": {
               "duration": 300,
               "redraw": true
              },
              "mode": "immediate",
              "transition": {
               "duration": 300
              }
             }
            ],
            "label": "5",
            "method": "animate"
           },
           {
            "args": [
             [
              "frame5"
             ],
             {
              "frame": {
               "duration": 300,
               "redraw": true
              },
              "mode": "immediate",
              "transition": {
               "duration": 300
              }
             }
            ],
            "label": "6",
            "method": "animate"
           },
           {
            "args": [
             [
              "frame6"
             ],
             {
              "frame": {
               "duration": 300,
               "redraw": true
              },
              "mode": "immediate",
              "transition": {
               "duration": 300
              }
             }
            ],
            "label": "7",
            "method": "animate"
           },
           {
            "args": [
             [
              "frame7"
             ],
             {
              "frame": {
               "duration": 300,
               "redraw": true
              },
              "mode": "immediate",
              "transition": {
               "duration": 300
              }
             }
            ],
            "label": "8",
            "method": "animate"
           },
           {
            "args": [
             [
              "frame8"
             ],
             {
              "frame": {
               "duration": 300,
               "redraw": true
              },
              "mode": "immediate",
              "transition": {
               "duration": 300
              }
             }
            ],
            "label": "9",
            "method": "animate"
           },
           {
            "args": [
             [
              "frame9"
             ],
             {
              "frame": {
               "duration": 300,
               "redraw": true
              },
              "mode": "immediate",
              "transition": {
               "duration": 300
              }
             }
            ],
            "label": "10",
            "method": "animate"
           },
           {
            "args": [
             [
              "frame10"
             ],
             {
              "frame": {
               "duration": 300,
               "redraw": true
              },
              "mode": "immediate",
              "transition": {
               "duration": 300
              }
             }
            ],
            "label": "11",
            "method": "animate"
           },
           {
            "args": [
             [
              "frame11"
             ],
             {
              "frame": {
               "duration": 300,
               "redraw": true
              },
              "mode": "immediate",
              "transition": {
               "duration": 300
              }
             }
            ],
            "label": "12",
            "method": "animate"
           },
           {
            "args": [
             [
              "frame12"
             ],
             {
              "frame": {
               "duration": 300,
               "redraw": true
              },
              "mode": "immediate",
              "transition": {
               "duration": 300
              }
             }
            ],
            "label": "13",
            "method": "animate"
           },
           {
            "args": [
             [
              "frame13"
             ],
             {
              "frame": {
               "duration": 300,
               "redraw": true
              },
              "mode": "immediate",
              "transition": {
               "duration": 300
              }
             }
            ],
            "label": "14",
            "method": "animate"
           },
           {
            "args": [
             [
              "frame14"
             ],
             {
              "frame": {
               "duration": 300,
               "redraw": true
              },
              "mode": "immediate",
              "transition": {
               "duration": 300
              }
             }
            ],
            "label": "15",
            "method": "animate"
           },
           {
            "args": [
             [
              "frame15"
             ],
             {
              "frame": {
               "duration": 300,
               "redraw": true
              },
              "mode": "immediate",
              "transition": {
               "duration": 300
              }
             }
            ],
            "label": "16",
            "method": "animate"
           },
           {
            "args": [
             [
              "frame16"
             ],
             {
              "frame": {
               "duration": 300,
               "redraw": true
              },
              "mode": "immediate",
              "transition": {
               "duration": 300
              }
             }
            ],
            "label": "17",
            "method": "animate"
           },
           {
            "args": [
             [
              "frame17"
             ],
             {
              "frame": {
               "duration": 300,
               "redraw": true
              },
              "mode": "immediate",
              "transition": {
               "duration": 300
              }
             }
            ],
            "label": "18",
            "method": "animate"
           },
           {
            "args": [
             [
              "frame18"
             ],
             {
              "frame": {
               "duration": 300,
               "redraw": true
              },
              "mode": "immediate",
              "transition": {
               "duration": 300
              }
             }
            ],
            "label": "19",
            "method": "animate"
           },
           {
            "args": [
             [
              "frame19"
             ],
             {
              "frame": {
               "duration": 300,
               "redraw": true
              },
              "mode": "immediate",
              "transition": {
               "duration": 300
              }
             }
            ],
            "label": "20",
            "method": "animate"
           }
          ],
          "transition": {
           "duration": 300
          },
          "x": 0,
          "y": 0
         }
        ],
        "template": {
         "data": {
          "bar": [
           {
            "error_x": {
             "color": "#2a3f5f"
            },
            "error_y": {
             "color": "#2a3f5f"
            },
            "marker": {
             "line": {
              "color": "#E5ECF6",
              "width": 0.5
             },
             "pattern": {
              "fillmode": "overlay",
              "size": 10,
              "solidity": 0.2
             }
            },
            "type": "bar"
           }
          ],
          "barpolar": [
           {
            "marker": {
             "line": {
              "color": "#E5ECF6",
              "width": 0.5
             },
             "pattern": {
              "fillmode": "overlay",
              "size": 10,
              "solidity": 0.2
             }
            },
            "type": "barpolar"
           }
          ],
          "carpet": [
           {
            "aaxis": {
             "endlinecolor": "#2a3f5f",
             "gridcolor": "white",
             "linecolor": "white",
             "minorgridcolor": "white",
             "startlinecolor": "#2a3f5f"
            },
            "baxis": {
             "endlinecolor": "#2a3f5f",
             "gridcolor": "white",
             "linecolor": "white",
             "minorgridcolor": "white",
             "startlinecolor": "#2a3f5f"
            },
            "type": "carpet"
           }
          ],
          "choropleth": [
           {
            "colorbar": {
             "outlinewidth": 0,
             "ticks": ""
            },
            "type": "choropleth"
           }
          ],
          "contour": [
           {
            "colorbar": {
             "outlinewidth": 0,
             "ticks": ""
            },
            "colorscale": [
             [
              0,
              "#0d0887"
             ],
             [
              0.1111111111111111,
              "#46039f"
             ],
             [
              0.2222222222222222,
              "#7201a8"
             ],
             [
              0.3333333333333333,
              "#9c179e"
             ],
             [
              0.4444444444444444,
              "#bd3786"
             ],
             [
              0.5555555555555556,
              "#d8576b"
             ],
             [
              0.6666666666666666,
              "#ed7953"
             ],
             [
              0.7777777777777778,
              "#fb9f3a"
             ],
             [
              0.8888888888888888,
              "#fdca26"
             ],
             [
              1,
              "#f0f921"
             ]
            ],
            "type": "contour"
           }
          ],
          "contourcarpet": [
           {
            "colorbar": {
             "outlinewidth": 0,
             "ticks": ""
            },
            "type": "contourcarpet"
           }
          ],
          "heatmap": [
           {
            "colorbar": {
             "outlinewidth": 0,
             "ticks": ""
            },
            "colorscale": [
             [
              0,
              "#0d0887"
             ],
             [
              0.1111111111111111,
              "#46039f"
             ],
             [
              0.2222222222222222,
              "#7201a8"
             ],
             [
              0.3333333333333333,
              "#9c179e"
             ],
             [
              0.4444444444444444,
              "#bd3786"
             ],
             [
              0.5555555555555556,
              "#d8576b"
             ],
             [
              0.6666666666666666,
              "#ed7953"
             ],
             [
              0.7777777777777778,
              "#fb9f3a"
             ],
             [
              0.8888888888888888,
              "#fdca26"
             ],
             [
              1,
              "#f0f921"
             ]
            ],
            "type": "heatmap"
           }
          ],
          "heatmapgl": [
           {
            "colorbar": {
             "outlinewidth": 0,
             "ticks": ""
            },
            "colorscale": [
             [
              0,
              "#0d0887"
             ],
             [
              0.1111111111111111,
              "#46039f"
             ],
             [
              0.2222222222222222,
              "#7201a8"
             ],
             [
              0.3333333333333333,
              "#9c179e"
             ],
             [
              0.4444444444444444,
              "#bd3786"
             ],
             [
              0.5555555555555556,
              "#d8576b"
             ],
             [
              0.6666666666666666,
              "#ed7953"
             ],
             [
              0.7777777777777778,
              "#fb9f3a"
             ],
             [
              0.8888888888888888,
              "#fdca26"
             ],
             [
              1,
              "#f0f921"
             ]
            ],
            "type": "heatmapgl"
           }
          ],
          "histogram": [
           {
            "marker": {
             "pattern": {
              "fillmode": "overlay",
              "size": 10,
              "solidity": 0.2
             }
            },
            "type": "histogram"
           }
          ],
          "histogram2d": [
           {
            "colorbar": {
             "outlinewidth": 0,
             "ticks": ""
            },
            "colorscale": [
             [
              0,
              "#0d0887"
             ],
             [
              0.1111111111111111,
              "#46039f"
             ],
             [
              0.2222222222222222,
              "#7201a8"
             ],
             [
              0.3333333333333333,
              "#9c179e"
             ],
             [
              0.4444444444444444,
              "#bd3786"
             ],
             [
              0.5555555555555556,
              "#d8576b"
             ],
             [
              0.6666666666666666,
              "#ed7953"
             ],
             [
              0.7777777777777778,
              "#fb9f3a"
             ],
             [
              0.8888888888888888,
              "#fdca26"
             ],
             [
              1,
              "#f0f921"
             ]
            ],
            "type": "histogram2d"
           }
          ],
          "histogram2dcontour": [
           {
            "colorbar": {
             "outlinewidth": 0,
             "ticks": ""
            },
            "colorscale": [
             [
              0,
              "#0d0887"
             ],
             [
              0.1111111111111111,
              "#46039f"
             ],
             [
              0.2222222222222222,
              "#7201a8"
             ],
             [
              0.3333333333333333,
              "#9c179e"
             ],
             [
              0.4444444444444444,
              "#bd3786"
             ],
             [
              0.5555555555555556,
              "#d8576b"
             ],
             [
              0.6666666666666666,
              "#ed7953"
             ],
             [
              0.7777777777777778,
              "#fb9f3a"
             ],
             [
              0.8888888888888888,
              "#fdca26"
             ],
             [
              1,
              "#f0f921"
             ]
            ],
            "type": "histogram2dcontour"
           }
          ],
          "mesh3d": [
           {
            "colorbar": {
             "outlinewidth": 0,
             "ticks": ""
            },
            "type": "mesh3d"
           }
          ],
          "parcoords": [
           {
            "line": {
             "colorbar": {
              "outlinewidth": 0,
              "ticks": ""
             }
            },
            "type": "parcoords"
           }
          ],
          "pie": [
           {
            "automargin": true,
            "type": "pie"
           }
          ],
          "scatter": [
           {
            "fillpattern": {
             "fillmode": "overlay",
             "size": 10,
             "solidity": 0.2
            },
            "type": "scatter"
           }
          ],
          "scatter3d": [
           {
            "line": {
             "colorbar": {
              "outlinewidth": 0,
              "ticks": ""
             }
            },
            "marker": {
             "colorbar": {
              "outlinewidth": 0,
              "ticks": ""
             }
            },
            "type": "scatter3d"
           }
          ],
          "scattercarpet": [
           {
            "marker": {
             "colorbar": {
              "outlinewidth": 0,
              "ticks": ""
             }
            },
            "type": "scattercarpet"
           }
          ],
          "scattergeo": [
           {
            "marker": {
             "colorbar": {
              "outlinewidth": 0,
              "ticks": ""
             }
            },
            "type": "scattergeo"
           }
          ],
          "scattergl": [
           {
            "marker": {
             "colorbar": {
              "outlinewidth": 0,
              "ticks": ""
             }
            },
            "type": "scattergl"
           }
          ],
          "scattermapbox": [
           {
            "marker": {
             "colorbar": {
              "outlinewidth": 0,
              "ticks": ""
             }
            },
            "type": "scattermapbox"
           }
          ],
          "scatterpolar": [
           {
            "marker": {
             "colorbar": {
              "outlinewidth": 0,
              "ticks": ""
             }
            },
            "type": "scatterpolar"
           }
          ],
          "scatterpolargl": [
           {
            "marker": {
             "colorbar": {
              "outlinewidth": 0,
              "ticks": ""
             }
            },
            "type": "scatterpolargl"
           }
          ],
          "scatterternary": [
           {
            "marker": {
             "colorbar": {
              "outlinewidth": 0,
              "ticks": ""
             }
            },
            "type": "scatterternary"
           }
          ],
          "surface": [
           {
            "colorbar": {
             "outlinewidth": 0,
             "ticks": ""
            },
            "colorscale": [
             [
              0,
              "#0d0887"
             ],
             [
              0.1111111111111111,
              "#46039f"
             ],
             [
              0.2222222222222222,
              "#7201a8"
             ],
             [
              0.3333333333333333,
              "#9c179e"
             ],
             [
              0.4444444444444444,
              "#bd3786"
             ],
             [
              0.5555555555555556,
              "#d8576b"
             ],
             [
              0.6666666666666666,
              "#ed7953"
             ],
             [
              0.7777777777777778,
              "#fb9f3a"
             ],
             [
              0.8888888888888888,
              "#fdca26"
             ],
             [
              1,
              "#f0f921"
             ]
            ],
            "type": "surface"
           }
          ],
          "table": [
           {
            "cells": {
             "fill": {
              "color": "#EBF0F8"
             },
             "line": {
              "color": "white"
             }
            },
            "header": {
             "fill": {
              "color": "#C8D4E3"
             },
             "line": {
              "color": "white"
             }
            },
            "type": "table"
           }
          ]
         },
         "layout": {
          "annotationdefaults": {
           "arrowcolor": "#2a3f5f",
           "arrowhead": 0,
           "arrowwidth": 1
          },
          "autotypenumbers": "strict",
          "coloraxis": {
           "colorbar": {
            "outlinewidth": 0,
            "ticks": ""
           }
          },
          "colorscale": {
           "diverging": [
            [
             0,
             "#8e0152"
            ],
            [
             0.1,
             "#c51b7d"
            ],
            [
             0.2,
             "#de77ae"
            ],
            [
             0.3,
             "#f1b6da"
            ],
            [
             0.4,
             "#fde0ef"
            ],
            [
             0.5,
             "#f7f7f7"
            ],
            [
             0.6,
             "#e6f5d0"
            ],
            [
             0.7,
             "#b8e186"
            ],
            [
             0.8,
             "#7fbc41"
            ],
            [
             0.9,
             "#4d9221"
            ],
            [
             1,
             "#276419"
            ]
           ],
           "sequential": [
            [
             0,
             "#0d0887"
            ],
            [
             0.1111111111111111,
             "#46039f"
            ],
            [
             0.2222222222222222,
             "#7201a8"
            ],
            [
             0.3333333333333333,
             "#9c179e"
            ],
            [
             0.4444444444444444,
             "#bd3786"
            ],
            [
             0.5555555555555556,
             "#d8576b"
            ],
            [
             0.6666666666666666,
             "#ed7953"
            ],
            [
             0.7777777777777778,
             "#fb9f3a"
            ],
            [
             0.8888888888888888,
             "#fdca26"
            ],
            [
             1,
             "#f0f921"
            ]
           ],
           "sequentialminus": [
            [
             0,
             "#0d0887"
            ],
            [
             0.1111111111111111,
             "#46039f"
            ],
            [
             0.2222222222222222,
             "#7201a8"
            ],
            [
             0.3333333333333333,
             "#9c179e"
            ],
            [
             0.4444444444444444,
             "#bd3786"
            ],
            [
             0.5555555555555556,
             "#d8576b"
            ],
            [
             0.6666666666666666,
             "#ed7953"
            ],
            [
             0.7777777777777778,
             "#fb9f3a"
            ],
            [
             0.8888888888888888,
             "#fdca26"
            ],
            [
             1,
             "#f0f921"
            ]
           ]
          },
          "colorway": [
           "#636efa",
           "#EF553B",
           "#00cc96",
           "#ab63fa",
           "#FFA15A",
           "#19d3f3",
           "#FF6692",
           "#B6E880",
           "#FF97FF",
           "#FECB52"
          ],
          "font": {
           "color": "#2a3f5f"
          },
          "geo": {
           "bgcolor": "white",
           "lakecolor": "white",
           "landcolor": "#E5ECF6",
           "showlakes": true,
           "showland": true,
           "subunitcolor": "white"
          },
          "hoverlabel": {
           "align": "left"
          },
          "hovermode": "closest",
          "mapbox": {
           "style": "light"
          },
          "paper_bgcolor": "white",
          "plot_bgcolor": "#E5ECF6",
          "polar": {
           "angularaxis": {
            "gridcolor": "white",
            "linecolor": "white",
            "ticks": ""
           },
           "bgcolor": "#E5ECF6",
           "radialaxis": {
            "gridcolor": "white",
            "linecolor": "white",
            "ticks": ""
           }
          },
          "scene": {
           "xaxis": {
            "backgroundcolor": "#E5ECF6",
            "gridcolor": "white",
            "gridwidth": 2,
            "linecolor": "white",
            "showbackground": true,
            "ticks": "",
            "zerolinecolor": "white"
           },
           "yaxis": {
            "backgroundcolor": "#E5ECF6",
            "gridcolor": "white",
            "gridwidth": 2,
            "linecolor": "white",
            "showbackground": true,
            "ticks": "",
            "zerolinecolor": "white"
           },
           "zaxis": {
            "backgroundcolor": "#E5ECF6",
            "gridcolor": "white",
            "gridwidth": 2,
            "linecolor": "white",
            "showbackground": true,
            "ticks": "",
            "zerolinecolor": "white"
           }
          },
          "shapedefaults": {
           "line": {
            "color": "#2a3f5f"
           }
          },
          "ternary": {
           "aaxis": {
            "gridcolor": "white",
            "linecolor": "white",
            "ticks": ""
           },
           "baxis": {
            "gridcolor": "white",
            "linecolor": "white",
            "ticks": ""
           },
           "bgcolor": "#E5ECF6",
           "caxis": {
            "gridcolor": "white",
            "linecolor": "white",
            "ticks": ""
           }
          },
          "title": {
           "x": 0.05
          },
          "xaxis": {
           "automargin": true,
           "gridcolor": "white",
           "linecolor": "white",
           "ticks": "",
           "title": {
            "standoff": 15
           },
           "zerolinecolor": "white",
           "zerolinewidth": 2
          },
          "yaxis": {
           "automargin": true,
           "gridcolor": "white",
           "linecolor": "white",
           "ticks": "",
           "title": {
            "standoff": 15
           },
           "zerolinecolor": "white",
           "zerolinewidth": 2
          }
         }
        },
        "title": {
         "text": "Model multiplication table"
        },
        "width": 600,
        "xaxis": {
         "autorange": true,
         "range": [
          -0.5,
          4.5
         ],
         "showgrid": true,
         "side": "top",
         "tickmode": "array",
         "ticks": "outside",
         "ticktext": [
          "0",
          "1",
          "2",
          "3",
          "4"
         ],
         "tickvals": [
          0,
          1,
          2,
          3,
          4
         ],
         "type": "category"
        },
        "yaxis": {
         "autorange": true,
         "range": [
          -0.5,
          4.5
         ],
         "showgrid": true,
         "side": "left",
         "tickmode": "array",
         "ticks": "outside",
         "ticktext": [
          "0",
          "1",
          "2",
          "3",
          "4"
         ],
         "tickvals": [
          0,
          1,
          2,
          3,
          4
         ],
         "type": "category"
        }
       }
      },
      "image/png": "[encoded data removed]",
      "text/html": [
       "<div>                            <div id=\"eecc6c1b-670e-420a-9c71-120a7e8d196d\" class=\"plotly-graph-div\" style=\"height:600px; width:600px;\"></div>            <script type=\"text/javascript\">                require([\"plotly\"], function(Plotly) {                    window.PLOTLYENV=window.PLOTLYENV || {};                                    if (document.getElementById(\"eecc6c1b-670e-420a-9c71-120a7e8d196d\")) {                    Plotly.newPlot(                        \"eecc6c1b-670e-420a-9c71-120a7e8d196d\",                        [{\"customdata\":[[4,4,4,4,4],[1,4,4,4,4],[4,4,4,3,4],[4,4,4,4,0],[0,4,4,4,0]],\"hovertemplate\":\"x=%{x}\\u003cbr\\u003ey=%{y}\\u003cbr\\u003ez=%{customdata}\\u003cextra\\u003e\\u003c\\u002fextra\\u003e\",\"showscale\":false,\"x\":[\"0\",\"1\",\"2\",\"3\",\"4\"],\"y\":[\"0\",\"1\",\"2\",\"3\",\"4\"],\"z\":[[4,4,4,4,4],[1,4,4,4,4],[4,4,4,3,4],[4,4,4,4,0],[0,4,4,4,0]],\"type\":\"heatmap\"}],                        {\"template\":{\"data\":{\"histogram2dcontour\":[{\"type\":\"histogram2dcontour\",\"colorbar\":{\"outlinewidth\":0,\"ticks\":\"\"},\"colorscale\":[[0.0,\"#0d0887\"],[0.1111111111111111,\"#46039f\"],[0.2222222222222222,\"#7201a8\"],[0.3333333333333333,\"#9c179e\"],[0.4444444444444444,\"#bd3786\"],[0.5555555555555556,\"#d8576b\"],[0.6666666666666666,\"#ed7953\"],[0.7777777777777778,\"#fb9f3a\"],[0.8888888888888888,\"#fdca26\"],[1.0,\"#f0f921\"]]}],\"choropleth\":[{\"type\":\"choropleth\",\"colorbar\":{\"outlinewidth\":0,\"ticks\":\"\"}}],\"histogram2d\":[{\"type\":\"histogram2d\",\"colorbar\":{\"outlinewidth\":0,\"ticks\":\"\"},\"colorscale\":[[0.0,\"#0d0887\"],[0.1111111111111111,\"#46039f\"],[0.2222222222222222,\"#7201a8\"],[0.3333333333333333,\"#9c179e\"],[0.4444444444444444,\"#bd3786\"],[0.5555555555555556,\"#d8576b\"],[0.6666666666666666,\"#ed7953\"],[0.7777777777777778,\"#fb9f3a\"],[0.8888888888888888,\"#fdca26\"],[1.0,\"#f0f921\"]]}],\"heatmap\":[{\"type\":\"heatmap\",\"colorbar\":{\"outlinewidth\":0,\"ticks\":\"\"},\"colorscale\":[[0.0,\"#0d0887\"],[0.1111111111111111,\"#46039f\"],[0.2222222222222222,\"#7201a8\"],[0.3333333333333333,\"#9c179e\"],[0.4444444444444444,\"#bd3786\"],[0.5555555555555556,\"#d8576b\"],[0.6666666666666666,\"#ed7953\"],[0.7777777777777778,\"#fb9f3a\"],[0.8888888888888888,\"#fdca26\"],[1.0,\"#f0f921\"]]}],\"heatmapgl\":[{\"type\":\"heatmapgl\",\"colorbar\":{\"outlinewidth\":0,\"ticks\":\"\"},\"colorscale\":[[0.0,\"#0d0887\"],[0.1111111111111111,\"#46039f\"],[0.2222222222222222,\"#7201a8\"],[0.3333333333333333,\"#9c179e\"],[0.4444444444444444,\"#bd3786\"],[0.5555555555555556,\"#d8576b\"],[0.6666666666666666,\"#ed7953\"],[0.7777777777777778,\"#fb9f3a\"],[0.8888888888888888,\"#fdca26\"],[1.0,\"#f0f921\"]]}],\"contourcarpet\":[{\"type\":\"contourcarpet\",\"colorbar\":{\"outlinewidth\":0,\"ticks\":\"\"}}],\"contour\":[{\"type\":\"contour\",\"colorbar\":{\"outlinewidth\":0,\"ticks\":\"\"},\"colorscale\":[[0.0,\"#0d0887\"],[0.1111111111111111,\"#46039f\"],[0.2222222222222222,\"#7201a8\"],[0.3333333333333333,\"#9c179e\"],[0.4444444444444444,\"#bd3786\"],[0.5555555555555556,\"#d8576b\"],[0.6666666666666666,\"#ed7953\"],[0.7777777777777778,\"#fb9f3a\"],[0.8888888888888888,\"#fdca26\"],[1.0,\"#f0f921\"]]}],\"surface\":[{\"type\":\"surface\",\"colorbar\":{\"outlinewidth\":0,\"ticks\":\"\"},\"colorscale\":[[0.0,\"#0d0887\"],[0.1111111111111111,\"#46039f\"],[0.2222222222222222,\"#7201a8\"],[0.3333333333333333,\"#9c179e\"],[0.4444444444444444,\"#bd3786\"],[0.5555555555555556,\"#d8576b\"],[0.6666666666666666,\"#ed7953\"],[0.7777777777777778,\"#fb9f3a\"],[0.8888888888888888,\"#fdca26\"],[1.0,\"#f0f921\"]]}],\"mesh3d\":[{\"type\":\"mesh3d\",\"colorbar\":{\"outlinewidth\":0,\"ticks\":\"\"}}],\"scatter\":[{\"fillpattern\":{\"fillmode\":\"overlay\",\"size\":10,\"solidity\":0.2},\"type\":\"scatter\"}],\"parcoords\":[{\"type\":\"parcoords\",\"line\":{\"colorbar\":{\"outlinewidth\":0,\"ticks\":\"\"}}}],\"scatterpolargl\":[{\"type\":\"scatterpolargl\",\"marker\":{\"colorbar\":{\"outlinewidth\":0,\"ticks\":\"\"}}}],\"bar\":[{\"error_x\":{\"color\":\"#2a3f5f\"},\"error_y\":{\"color\":\"#2a3f5f\"},\"marker\":{\"line\":{\"color\":\"#E5ECF6\",\"width\":0.5},\"pattern\":{\"fillmode\":\"overlay\",\"size\":10,\"solidity\":0.2}},\"type\":\"bar\"}],\"scattergeo\":[{\"type\":\"scattergeo\",\"marker\":{\"colorbar\":{\"outlinewidth\":0,\"ticks\":\"\"}}}],\"scatterpolar\":[{\"type\":\"scatterpolar\",\"marker\":{\"colorbar\":{\"outlinewidth\":0,\"ticks\":\"\"}}}],\"histogram\":[{\"marker\":{\"pattern\":{\"fillmode\":\"overlay\",\"size\":10,\"solidity\":0.2}},\"type\":\"histogram\"}],\"scattergl\":[{\"type\":\"scattergl\",\"marker\":{\"colorbar\":{\"outlinewidth\":0,\"ticks\":\"\"}}}],\"scatter3d\":[{\"type\":\"scatter3d\",\"line\":{\"colorbar\":{\"outlinewidth\":0,\"ticks\":\"\"}},\"marker\":{\"colorbar\":{\"outlinewidth\":0,\"ticks\":\"\"}}}],\"scattermapbox\":[{\"type\":\"scattermapbox\",\"marker\":{\"colorbar\":{\"outlinewidth\":0,\"ticks\":\"\"}}}],\"scatterternary\":[{\"type\":\"scatterternary\",\"marker\":{\"colorbar\":{\"outlinewidth\":0,\"ticks\":\"\"}}}],\"scattercarpet\":[{\"type\":\"scattercarpet\",\"marker\":{\"colorbar\":{\"outlinewidth\":0,\"ticks\":\"\"}}}],\"carpet\":[{\"aaxis\":{\"endlinecolor\":\"#2a3f5f\",\"gridcolor\":\"white\",\"linecolor\":\"white\",\"minorgridcolor\":\"white\",\"startlinecolor\":\"#2a3f5f\"},\"baxis\":{\"endlinecolor\":\"#2a3f5f\",\"gridcolor\":\"white\",\"linecolor\":\"white\",\"minorgridcolor\":\"white\",\"startlinecolor\":\"#2a3f5f\"},\"type\":\"carpet\"}],\"table\":[{\"cells\":{\"fill\":{\"color\":\"#EBF0F8\"},\"line\":{\"color\":\"white\"}},\"header\":{\"fill\":{\"color\":\"#C8D4E3\"},\"line\":{\"color\":\"white\"}},\"type\":\"table\"}],\"barpolar\":[{\"marker\":{\"line\":{\"color\":\"#E5ECF6\",\"width\":0.5},\"pattern\":{\"fillmode\":\"overlay\",\"size\":10,\"solidity\":0.2}},\"type\":\"barpolar\"}],\"pie\":[{\"automargin\":true,\"type\":\"pie\"}]},\"layout\":{\"autotypenumbers\":\"strict\",\"colorway\":[\"#636efa\",\"#EF553B\",\"#00cc96\",\"#ab63fa\",\"#FFA15A\",\"#19d3f3\",\"#FF6692\",\"#B6E880\",\"#FF97FF\",\"#FECB52\"],\"font\":{\"color\":\"#2a3f5f\"},\"hovermode\":\"closest\",\"hoverlabel\":{\"align\":\"left\"},\"paper_bgcolor\":\"white\",\"plot_bgcolor\":\"#E5ECF6\",\"polar\":{\"bgcolor\":\"#E5ECF6\",\"angularaxis\":{\"gridcolor\":\"white\",\"linecolor\":\"white\",\"ticks\":\"\"},\"radialaxis\":{\"gridcolor\":\"white\",\"linecolor\":\"white\",\"ticks\":\"\"}},\"ternary\":{\"bgcolor\":\"#E5ECF6\",\"aaxis\":{\"gridcolor\":\"white\",\"linecolor\":\"white\",\"ticks\":\"\"},\"baxis\":{\"gridcolor\":\"white\",\"linecolor\":\"white\",\"ticks\":\"\"},\"caxis\":{\"gridcolor\":\"white\",\"linecolor\":\"white\",\"ticks\":\"\"}},\"coloraxis\":{\"colorbar\":{\"outlinewidth\":0,\"ticks\":\"\"}},\"colorscale\":{\"sequential\":[[0.0,\"#0d0887\"],[0.1111111111111111,\"#46039f\"],[0.2222222222222222,\"#7201a8\"],[0.3333333333333333,\"#9c179e\"],[0.4444444444444444,\"#bd3786\"],[0.5555555555555556,\"#d8576b\"],[0.6666666666666666,\"#ed7953\"],[0.7777777777777778,\"#fb9f3a\"],[0.8888888888888888,\"#fdca26\"],[1.0,\"#f0f921\"]],\"sequentialminus\":[[0.0,\"#0d0887\"],[0.1111111111111111,\"#46039f\"],[0.2222222222222222,\"#7201a8\"],[0.3333333333333333,\"#9c179e\"],[0.4444444444444444,\"#bd3786\"],[0.5555555555555556,\"#d8576b\"],[0.6666666666666666,\"#ed7953\"],[0.7777777777777778,\"#fb9f3a\"],[0.8888888888888888,\"#fdca26\"],[1.0,\"#f0f921\"]],\"diverging\":[[0,\"#8e0152\"],[0.1,\"#c51b7d\"],[0.2,\"#de77ae\"],[0.3,\"#f1b6da\"],[0.4,\"#fde0ef\"],[0.5,\"#f7f7f7\"],[0.6,\"#e6f5d0\"],[0.7,\"#b8e186\"],[0.8,\"#7fbc41\"],[0.9,\"#4d9221\"],[1,\"#276419\"]]},\"xaxis\":{\"gridcolor\":\"white\",\"linecolor\":\"white\",\"ticks\":\"\",\"title\":{\"standoff\":15},\"zerolinecolor\":\"white\",\"automargin\":true,\"zerolinewidth\":2},\"yaxis\":{\"gridcolor\":\"white\",\"linecolor\":\"white\",\"ticks\":\"\",\"title\":{\"standoff\":15},\"zerolinecolor\":\"white\",\"automargin\":true,\"zerolinewidth\":2},\"scene\":{\"xaxis\":{\"backgroundcolor\":\"#E5ECF6\",\"gridcolor\":\"white\",\"linecolor\":\"white\",\"showbackground\":true,\"ticks\":\"\",\"zerolinecolor\":\"white\",\"gridwidth\":2},\"yaxis\":{\"backgroundcolor\":\"#E5ECF6\",\"gridcolor\":\"white\",\"linecolor\":\"white\",\"showbackground\":true,\"ticks\":\"\",\"zerolinecolor\":\"white\",\"gridwidth\":2},\"zaxis\":{\"backgroundcolor\":\"#E5ECF6\",\"gridcolor\":\"white\",\"linecolor\":\"white\",\"showbackground\":true,\"ticks\":\"\",\"zerolinecolor\":\"white\",\"gridwidth\":2}},\"shapedefaults\":{\"line\":{\"color\":\"#2a3f5f\"}},\"annotationdefaults\":{\"arrowcolor\":\"#2a3f5f\",\"arrowhead\":0,\"arrowwidth\":1},\"geo\":{\"bgcolor\":\"white\",\"landcolor\":\"#E5ECF6\",\"subunitcolor\":\"white\",\"showland\":true,\"showlakes\":true,\"lakecolor\":\"white\"},\"title\":{\"x\":0.05},\"mapbox\":{\"style\":\"light\"}}},\"xaxis\":{\"showgrid\":true,\"side\":\"top\",\"ticks\":\"outside\",\"tickmode\":\"array\",\"tickvals\":[0,1,2,3,4],\"ticktext\":[\"0\",\"1\",\"2\",\"3\",\"4\"]},\"yaxis\":{\"showgrid\":true,\"side\":\"left\",\"ticks\":\"outside\",\"tickmode\":\"array\",\"tickvals\":[0,1,2,3,4],\"ticktext\":[\"0\",\"1\",\"2\",\"3\",\"4\"]},\"title\":{\"text\":\"Model multiplication table\"},\"height\":600,\"width\":600,\"sliders\":[{\"currentvalue\":{\"font\":{\"size\":12},\"prefix\":\"Frame: \",\"visible\":true,\"xanchor\":\"center\"},\"len\":1.0,\"steps\":[{\"args\":[[\"frame0\"],{\"mode\":\"immediate\",\"frame\":{\"duration\":300,\"redraw\":true},\"transition\":{\"duration\":300}}],\"label\":\"1\",\"method\":\"animate\"},{\"args\":[[\"frame1\"],{\"mode\":\"immediate\",\"frame\":{\"duration\":300,\"redraw\":true},\"transition\":{\"duration\":300}}],\"label\":\"2\",\"method\":\"animate\"},{\"args\":[[\"frame2\"],{\"mode\":\"immediate\",\"frame\":{\"duration\":300,\"redraw\":true},\"transition\":{\"duration\":300}}],\"label\":\"3\",\"method\":\"animate\"},{\"args\":[[\"frame3\"],{\"mode\":\"immediate\",\"frame\":{\"duration\":300,\"redraw\":true},\"transition\":{\"duration\":300}}],\"label\":\"4\",\"method\":\"animate\"},{\"args\":[[\"frame4\"],{\"mode\":\"immediate\",\"frame\":{\"duration\":300,\"redraw\":true},\"transition\":{\"duration\":300}}],\"label\":\"5\",\"method\":\"animate\"},{\"args\":[[\"frame5\"],{\"mode\":\"immediate\",\"frame\":{\"duration\":300,\"redraw\":true},\"transition\":{\"duration\":300}}],\"label\":\"6\",\"method\":\"animate\"},{\"args\":[[\"frame6\"],{\"mode\":\"immediate\",\"frame\":{\"duration\":300,\"redraw\":true},\"transition\":{\"duration\":300}}],\"label\":\"7\",\"method\":\"animate\"},{\"args\":[[\"frame7\"],{\"mode\":\"immediate\",\"frame\":{\"duration\":300,\"redraw\":true},\"transition\":{\"duration\":300}}],\"label\":\"8\",\"method\":\"animate\"},{\"args\":[[\"frame8\"],{\"mode\":\"immediate\",\"frame\":{\"duration\":300,\"redraw\":true},\"transition\":{\"duration\":300}}],\"label\":\"9\",\"method\":\"animate\"},{\"args\":[[\"frame9\"],{\"mode\":\"immediate\",\"frame\":{\"duration\":300,\"redraw\":true},\"transition\":{\"duration\":300}}],\"label\":\"10\",\"method\":\"animate\"},{\"args\":[[\"frame10\"],{\"mode\":\"immediate\",\"frame\":{\"duration\":300,\"redraw\":true},\"transition\":{\"duration\":300}}],\"label\":\"11\",\"method\":\"animate\"},{\"args\":[[\"frame11\"],{\"mode\":\"immediate\",\"frame\":{\"duration\":300,\"redraw\":true},\"transition\":{\"duration\":300}}],\"label\":\"12\",\"method\":\"animate\"},{\"args\":[[\"frame12\"],{\"mode\":\"immediate\",\"frame\":{\"duration\":300,\"redraw\":true},\"transition\":{\"duration\":300}}],\"label\":\"13\",\"method\":\"animate\"},{\"args\":[[\"frame13\"],{\"mode\":\"immediate\",\"frame\":{\"duration\":300,\"redraw\":true},\"transition\":{\"duration\":300}}],\"label\":\"14\",\"method\":\"animate\"},{\"args\":[[\"frame14\"],{\"mode\":\"immediate\",\"frame\":{\"duration\":300,\"redraw\":true},\"transition\":{\"duration\":300}}],\"label\":\"15\",\"method\":\"animate\"},{\"args\":[[\"frame15\"],{\"mode\":\"immediate\",\"frame\":{\"duration\":300,\"redraw\":true},\"transition\":{\"duration\":300}}],\"label\":\"16\",\"method\":\"animate\"},{\"args\":[[\"frame16\"],{\"mode\":\"immediate\",\"frame\":{\"duration\":300,\"redraw\":true},\"transition\":{\"duration\":300}}],\"label\":\"17\",\"method\":\"animate\"},{\"args\":[[\"frame17\"],{\"mode\":\"immediate\",\"frame\":{\"duration\":300,\"redraw\":true},\"transition\":{\"duration\":300}}],\"label\":\"18\",\"method\":\"animate\"},{\"args\":[[\"frame18\"],{\"mode\":\"immediate\",\"frame\":{\"duration\":300,\"redraw\":true},\"transition\":{\"duration\":300}}],\"label\":\"19\",\"method\":\"animate\"},{\"args\":[[\"frame19\"],{\"mode\":\"immediate\",\"frame\":{\"duration\":300,\"redraw\":true},\"transition\":{\"duration\":300}}],\"label\":\"20\",\"method\":\"animate\"}],\"transition\":{\"duration\":300},\"x\":0,\"y\":0}]},                        {\"responsive\": true}                    ).then(function(){\n",
       "                            Plotly.addFrames('eecc6c1b-670e-420a-9c71-120a7e8d196d', [{\"data\":[{\"customdata\":[[4,4,4,4,4],[1,4,4,4,4],[4,4,4,3,4],[4,4,4,4,0],[0,4,4,4,0]],\"hovertemplate\":\"x=%{x}\\u003cbr\\u003ey=%{y}\\u003cbr\\u003ez=%{customdata}\\u003cextra\\u003e\\u003c\\u002fextra\\u003e\",\"showscale\":false,\"x\":[\"0\",\"1\",\"2\",\"3\",\"4\"],\"y\":[\"0\",\"1\",\"2\",\"3\",\"4\"],\"z\":[[4,4,4,4,4],[1,4,4,4,4],[4,4,4,3,4],[4,4,4,4,0],[0,4,4,4,0]],\"type\":\"heatmap\"}],\"name\":\"frame0\"},{\"data\":[{\"customdata\":[[4,1,4,4,1],[1,1,3,1,1],[1,1,1,1,1],[1,1,1,1,2],[1,1,1,2,2]],\"hovertemplate\":\"x=%{x}\\u003cbr\\u003ey=%{y}\\u003cbr\\u003ez=%{customdata}\\u003cextra\\u003e\\u003c\\u002fextra\\u003e\",\"showscale\":false,\"x\":[\"0\",\"1\",\"2\",\"3\",\"4\"],\"y\":[\"0\",\"1\",\"2\",\"3\",\"4\"],\"z\":[[4,1,4,4,1],[1,1,3,1,1],[1,1,1,1,1],[1,1,1,1,2],[1,1,1,2,2]],\"type\":\"heatmap\"}],\"name\":\"frame1\"},{\"data\":[{\"customdata\":[[0,4,0,0,0],[0,4,4,0,4],[3,3,0,0,0],[0,0,0,0,0],[3,4,0,0,4]],\"hovertemplate\":\"x=%{x}\\u003cbr\\u003ey=%{y}\\u003cbr\\u003ez=%{customdata}\\u003cextra\\u003e\\u003c\\u002fextra\\u003e\",\"showscale\":false,\"x\":[\"0\",\"1\",\"2\",\"3\",\"4\"],\"y\":[\"0\",\"1\",\"2\",\"3\",\"4\"],\"z\":[[0,4,0,0,0],[0,4,4,0,4],[3,3,0,0,0],[0,0,0,0,0],[3,4,0,0,4]],\"type\":\"heatmap\"}],\"name\":\"frame2\"},{\"data\":[{\"customdata\":[[0,2,2,4,4],[3,4,4,4,4],[2,2,0,4,4],[4,4,0,4,4],[1,4,4,4,4]],\"hovertemplate\":\"x=%{x}\\u003cbr\\u003ey=%{y}\\u003cbr\\u003ez=%{customdata}\\u003cextra\\u003e\\u003c\\u002fextra\\u003e\",\"showscale\":false,\"x\":[\"0\",\"1\",\"2\",\"3\",\"4\"],\"y\":[\"0\",\"1\",\"2\",\"3\",\"4\"],\"z\":[[0,2,2,4,4],[3,4,4,4,4],[2,2,0,4,4],[4,4,0,4,4],[1,4,4,4,4]],\"type\":\"heatmap\"}],\"name\":\"frame3\"},{\"data\":[{\"customdata\":[[1,1,1,1,4],[2,2,2,2,2],[2,1,1,1,2],[2,1,1,1,2],[2,3,1,1,2]],\"hovertemplate\":\"x=%{x}\\u003cbr\\u003ey=%{y}\\u003cbr\\u003ez=%{customdata}\\u003cextra\\u003e\\u003c\\u002fextra\\u003e\",\"showscale\":false,\"x\":[\"0\",\"1\",\"2\",\"3\",\"4\"],\"y\":[\"0\",\"1\",\"2\",\"3\",\"4\"],\"z\":[[1,1,1,1,4],[2,2,2,2,2],[2,1,1,1,2],[2,1,1,1,2],[2,3,1,1,2]],\"type\":\"heatmap\"}],\"name\":\"frame4\"},{\"data\":[{\"customdata\":[[4,4,4,4,4],[4,4,4,4,4],[4,4,4,4,4],[3,4,4,4,4],[3,0,0,0,4]],\"hovertemplate\":\"x=%{x}\\u003cbr\\u003ey=%{y}\\u003cbr\\u003ez=%{customdata}\\u003cextra\\u003e\\u003c\\u002fextra\\u003e\",\"showscale\":false,\"x\":[\"0\",\"1\",\"2\",\"3\",\"4\"],\"y\":[\"0\",\"1\",\"2\",\"3\",\"4\"],\"z\":[[4,4,4,4,4],[4,4,4,4,4],[4,4,4,4,4],[3,4,4,4,4],[3,0,0,0,4]],\"type\":\"heatmap\"}],\"name\":\"frame5\"},{\"data\":[{\"customdata\":[[3,1,1,1,1],[3,3,3,3,3],[3,3,2,0,2],[2,0,0,0,1],[2,2,2,4,2]],\"hovertemplate\":\"x=%{x}\\u003cbr\\u003ey=%{y}\\u003cbr\\u003ez=%{customdata}\\u003cextra\\u003e\\u003c\\u002fextra\\u003e\",\"showscale\":false,\"x\":[\"0\",\"1\",\"2\",\"3\",\"4\"],\"y\":[\"0\",\"1\",\"2\",\"3\",\"4\"],\"z\":[[3,1,1,1,1],[3,3,3,3,3],[3,3,2,0,2],[2,0,0,0,1],[2,2,2,4,2]],\"type\":\"heatmap\"}],\"name\":\"frame6\"},{\"data\":[{\"customdata\":[[4,1,3,4,1],[3,1,3,4,1],[2,3,3,3,3],[3,1,3,1,1],[3,3,3,3,3]],\"hovertemplate\":\"x=%{x}\\u003cbr\\u003ey=%{y}\\u003cbr\\u003ez=%{customdata}\\u003cextra\\u003e\\u003c\\u002fextra\\u003e\",\"showscale\":false,\"x\":[\"0\",\"1\",\"2\",\"3\",\"4\"],\"y\":[\"0\",\"1\",\"2\",\"3\",\"4\"],\"z\":[[4,1,3,4,1],[3,1,3,4,1],[2,3,3,3,3],[3,1,3,1,1],[3,3,3,3,3]],\"type\":\"heatmap\"}],\"name\":\"frame7\"},{\"data\":[{\"customdata\":[[0,0,4,4,4],[3,3,3,3,3],[3,4,4,4,4],[4,4,4,4,4],[4,4,3,4,3]],\"hovertemplate\":\"x=%{x}\\u003cbr\\u003ey=%{y}\\u003cbr\\u003ez=%{customdata}\\u003cextra\\u003e\\u003c\\u002fextra\\u003e\",\"showscale\":false,\"x\":[\"0\",\"1\",\"2\",\"3\",\"4\"],\"y\":[\"0\",\"1\",\"2\",\"3\",\"4\"],\"z\":[[0,0,4,4,4],[3,3,3,3,3],[3,4,4,4,4],[4,4,4,4,4],[4,4,3,4,3]],\"type\":\"heatmap\"}],\"name\":\"frame8\"},{\"data\":[{\"customdata\":[[0,2,2,2,2],[4,4,4,4,4],[0,3,1,2,3],[2,4,3,4,4],[2,4,4,4,4]],\"hovertemplate\":\"x=%{x}\\u003cbr\\u003ey=%{y}\\u003cbr\\u003ez=%{customdata}\\u003cextra\\u003e\\u003c\\u002fextra\\u003e\",\"showscale\":false,\"x\":[\"0\",\"1\",\"2\",\"3\",\"4\"],\"y\":[\"0\",\"1\",\"2\",\"3\",\"4\"],\"z\":[[0,2,2,2,2],[4,4,4,4,4],[0,3,1,2,3],[2,4,3,4,4],[2,4,4,4,4]],\"type\":\"heatmap\"}],\"name\":\"frame9\"},{\"data\":[{\"customdata\":[[2,4,1,0,0],[1,4,1,0,1],[2,0,0,0,0],[3,1,1,0,4],[3,3,3,3,3]],\"hovertemplate\":\"x=%{x}\\u003cbr\\u003ey=%{y}\\u003cbr\\u003ez=%{customdata}\\u003cextra\\u003e\\u003c\\u002fextra\\u003e\",\"showscale\":false,\"x\":[\"0\",\"1\",\"2\",\"3\",\"4\"],\"y\":[\"0\",\"1\",\"2\",\"3\",\"4\"],\"z\":[[2,4,1,0,0],[1,4,1,0,1],[2,0,0,0,0],[3,1,1,0,4],[3,3,3,3,3]],\"type\":\"heatmap\"}],\"name\":\"frame10\"},{\"data\":[{\"customdata\":[[1,1,0,0,1],[1,1,1,0,1],[4,1,0,0,0],[1,1,1,4,1],[1,1,3,3,1]],\"hovertemplate\":\"x=%{x}\\u003cbr\\u003ey=%{y}\\u003cbr\\u003ez=%{customdata}\\u003cextra\\u003e\\u003c\\u002fextra\\u003e\",\"showscale\":false,\"x\":[\"0\",\"1\",\"2\",\"3\",\"4\"],\"y\":[\"0\",\"1\",\"2\",\"3\",\"4\"],\"z\":[[1,1,0,0,1],[1,1,1,0,1],[4,1,0,0,0],[1,1,1,4,1],[1,1,3,3,1]],\"type\":\"heatmap\"}],\"name\":\"frame11\"},{\"data\":[{\"customdata\":[[0,3,0,3,3],[2,3,3,3,2],[0,3,4,0,2],[0,3,3,3,2],[0,3,3,3,3]],\"hovertemplate\":\"x=%{x}\\u003cbr\\u003ey=%{y}\\u003cbr\\u003ez=%{customdata}\\u003cextra\\u003e\\u003c\\u002fextra\\u003e\",\"showscale\":false,\"x\":[\"0\",\"1\",\"2\",\"3\",\"4\"],\"y\":[\"0\",\"1\",\"2\",\"3\",\"4\"],\"z\":[[0,3,0,3,3],[2,3,3,3,2],[0,3,4,0,2],[0,3,3,3,2],[0,3,3,3,3]],\"type\":\"heatmap\"}],\"name\":\"frame12\"},{\"data\":[{\"customdata\":[[3,2,3,2,3],[3,2,3,3,3],[0,2,3,3,3],[2,2,2,2,2],[3,2,3,0,4]],\"hovertemplate\":\"x=%{x}\\u003cbr\\u003ey=%{y}\\u003cbr\\u003ez=%{customdata}\\u003cextra\\u003e\\u003c\\u002fextra\\u003e\",\"showscale\":false,\"x\":[\"0\",\"1\",\"2\",\"3\",\"4\"],\"y\":[\"0\",\"1\",\"2\",\"3\",\"4\"],\"z\":[[3,2,3,2,3],[3,2,3,3,3],[0,2,3,3,3],[2,2,2,2,2],[3,2,3,0,4]],\"type\":\"heatmap\"}],\"name\":\"frame13\"},{\"data\":[{\"customdata\":[[2,4,3,3,3],[2,4,1,4,2],[1,4,1,1,1],[4,4,4,4,3],[2,4,1,4,2]],\"hovertemplate\":\"x=%{x}\\u003cbr\\u003ey=%{y}\\u003cbr\\u003ez=%{customdata}\\u003cextra\\u003e\\u003c\\u002fextra\\u003e\",\"showscale\":false,\"x\":[\"0\",\"1\",\"2\",\"3\",\"4\"],\"y\":[\"0\",\"1\",\"2\",\"3\",\"4\"],\"z\":[[2,4,3,3,3],[2,4,1,4,2],[1,4,1,1,1],[4,4,4,4,3],[2,4,1,4,2]],\"type\":\"heatmap\"}],\"name\":\"frame14\"},{\"data\":[{\"customdata\":[[4,1,3,4,0],[0,0,3,3,0],[0,0,0,0,0],[0,3,3,3,0],[4,4,4,4,0]],\"hovertemplate\":\"x=%{x}\\u003cbr\\u003ey=%{y}\\u003cbr\\u003ez=%{customdata}\\u003cextra\\u003e\\u003c\\u002fextra\\u003e\",\"showscale\":false,\"x\":[\"0\",\"1\",\"2\",\"3\",\"4\"],\"y\":[\"0\",\"1\",\"2\",\"3\",\"4\"],\"z\":[[4,1,3,4,0],[0,0,3,3,0],[0,0,0,0,0],[0,3,3,3,0],[4,4,4,4,0]],\"type\":\"heatmap\"}],\"name\":\"frame15\"},{\"data\":[{\"customdata\":[[0,2,0,4,4],[2,2,1,2,2],[1,1,1,4,4],[2,2,1,2,2],[4,4,1,4,4]],\"hovertemplate\":\"x=%{x}\\u003cbr\\u003ey=%{y}\\u003cbr\\u003ez=%{customdata}\\u003cextra\\u003e\\u003c\\u002fextra\\u003e\",\"showscale\":false,\"x\":[\"0\",\"1\",\"2\",\"3\",\"4\"],\"y\":[\"0\",\"1\",\"2\",\"3\",\"4\"],\"z\":[[0,2,0,4,4],[2,2,1,2,2],[1,1,1,4,4],[2,2,1,2,2],[4,4,1,4,4]],\"type\":\"heatmap\"}],\"name\":\"frame16\"},{\"data\":[{\"customdata\":[[1,1,1,1,1],[1,1,4,1,1],[1,1,4,0,1],[1,1,4,1,1],[1,1,4,0,1]],\"hovertemplate\":\"x=%{x}\\u003cbr\\u003ey=%{y}\\u003cbr\\u003ez=%{customdata}\\u003cextra\\u003e\\u003c\\u002fextra\\u003e\",\"showscale\":false,\"x\":[\"0\",\"1\",\"2\",\"3\",\"4\"],\"y\":[\"0\",\"1\",\"2\",\"3\",\"4\"],\"z\":[[1,1,1,1,1],[1,1,4,1,1],[1,1,4,0,1],[1,1,4,1,1],[1,1,4,0,1]],\"type\":\"heatmap\"}],\"name\":\"frame17\"},{\"data\":[{\"customdata\":[[3,2,2,2,2],[0,2,0,0,3],[2,2,2,2,2],[2,2,0,0,2],[3,2,2,2,2]],\"hovertemplate\":\"x=%{x}\\u003cbr\\u003ey=%{y}\\u003cbr\\u003ez=%{customdata}\\u003cextra\\u003e\\u003c\\u002fextra\\u003e\",\"showscale\":false,\"x\":[\"0\",\"1\",\"2\",\"3\",\"4\"],\"y\":[\"0\",\"1\",\"2\",\"3\",\"4\"],\"z\":[[3,2,2,2,2],[0,2,0,0,3],[2,2,2,2,2],[2,2,0,0,2],[3,2,2,2,2]],\"type\":\"heatmap\"}],\"name\":\"frame18\"},{\"data\":[{\"customdata\":[[2,1,2,1,2],[0,2,3,3,2],[2,2,2,1,2],[2,2,2,2,2],[2,2,2,3,2]],\"hovertemplate\":\"x=%{x}\\u003cbr\\u003ey=%{y}\\u003cbr\\u003ez=%{customdata}\\u003cextra\\u003e\\u003c\\u002fextra\\u003e\",\"showscale\":false,\"x\":[\"0\",\"1\",\"2\",\"3\",\"4\"],\"y\":[\"0\",\"1\",\"2\",\"3\",\"4\"],\"z\":[[2,1,2,1,2],[0,2,3,3,2],[2,2,2,1,2],[2,2,2,2,2],[2,2,2,3,2]],\"type\":\"heatmap\"}],\"name\":\"frame19\"}]);\n",
       "                        }).then(function(){\n",
       "                            \n",
       "var gd = document.getElementById('eecc6c1b-670e-420a-9c71-120a7e8d196d');\n",
       "var x = new MutationObserver(function (mutations, observer) {{\n",
       "        var display = window.getComputedStyle(gd).display;\n",
       "        if (!display || display === 'none') {{\n",
       "            console.log([gd, 'removed!']);\n",
       "            Plotly.purge(gd);\n",
       "            observer.disconnect();\n",
       "        }}\n",
       "}});\n",
       "\n",
       "// Listen for the removal of the full notebook cells\n",
       "var notebookContainer = gd.closest('#notebook-container');\n",
       "if (notebookContainer) {{\n",
       "    x.observe(notebookContainer, {childList: true});\n",
       "}}\n",
       "\n",
       "// Listen for the clearing of the current output cell\n",
       "var outputEl = gd.closest('.output');\n",
       "if (outputEl) {{\n",
       "    x.observe(outputEl, {childList: true});\n",
       "}}\n",
       "\n",
       "                        })                };                });            </script>        </div>"
      ]
     },
     "metadata": {},
     "output_type": "display_data"
    }
   ],
   "source": [
    "fig = plot_table(models, params)\n",
    "fig.show()"
   ]
  },
  {
   "cell_type": "code",
   "execution_count": 32,
   "id": "df86adde-342c-4663-b853-759d9c0d96b3",
   "metadata": {},
   "outputs": [
    {
     "data": {
      "application/vnd.plotly.v1+json": {
       "config": {
        "plotlyServerURL": "https://plot.ly"
       },
       "data": [
        {
         "type": "heatmap",
         "x": [
          "a",
          "b",
          "c",
          "d",
          "e"
         ],
         "y": [
          1,
          2,
          3,
          4,
          5
         ],
         "z": [
          [
           2,
           2,
           2,
           3,
           2
          ],
          [
           2,
           2,
           2,
           2,
           2
          ],
          [
           2,
           2,
           0,
           0,
           2
          ],
          [
           4,
           2,
           2,
           3,
           2
          ],
          [
           2,
           2,
           4,
           1,
           1
          ]
         ]
        }
       ],
       "layout": {
        "height": 500,
        "template": {
         "data": {
          "bar": [
           {
            "error_x": {
             "color": "#2a3f5f"
            },
            "error_y": {
             "color": "#2a3f5f"
            },
            "marker": {
             "line": {
              "color": "#E5ECF6",
              "width": 0.5
             },
             "pattern": {
              "fillmode": "overlay",
              "size": 10,
              "solidity": 0.2
             }
            },
            "type": "bar"
           }
          ],
          "barpolar": [
           {
            "marker": {
             "line": {
              "color": "#E5ECF6",
              "width": 0.5
             },
             "pattern": {
              "fillmode": "overlay",
              "size": 10,
              "solidity": 0.2
             }
            },
            "type": "barpolar"
           }
          ],
          "carpet": [
           {
            "aaxis": {
             "endlinecolor": "#2a3f5f",
             "gridcolor": "white",
             "linecolor": "white",
             "minorgridcolor": "white",
             "startlinecolor": "#2a3f5f"
            },
            "baxis": {
             "endlinecolor": "#2a3f5f",
             "gridcolor": "white",
             "linecolor": "white",
             "minorgridcolor": "white",
             "startlinecolor": "#2a3f5f"
            },
            "type": "carpet"
           }
          ],
          "choropleth": [
           {
            "colorbar": {
             "outlinewidth": 0,
             "ticks": ""
            },
            "type": "choropleth"
           }
          ],
          "contour": [
           {
            "colorbar": {
             "outlinewidth": 0,
             "ticks": ""
            },
            "colorscale": [
             [
              0,
              "#0d0887"
             ],
             [
              0.1111111111111111,
              "#46039f"
             ],
             [
              0.2222222222222222,
              "#7201a8"
             ],
             [
              0.3333333333333333,
              "#9c179e"
             ],
             [
              0.4444444444444444,
              "#bd3786"
             ],
             [
              0.5555555555555556,
              "#d8576b"
             ],
             [
              0.6666666666666666,
              "#ed7953"
             ],
             [
              0.7777777777777778,
              "#fb9f3a"
             ],
             [
              0.8888888888888888,
              "#fdca26"
             ],
             [
              1,
              "#f0f921"
             ]
            ],
            "type": "contour"
           }
          ],
          "contourcarpet": [
           {
            "colorbar": {
             "outlinewidth": 0,
             "ticks": ""
            },
            "type": "contourcarpet"
           }
          ],
          "heatmap": [
           {
            "colorbar": {
             "outlinewidth": 0,
             "ticks": ""
            },
            "colorscale": [
             [
              0,
              "#0d0887"
             ],
             [
              0.1111111111111111,
              "#46039f"
             ],
             [
              0.2222222222222222,
              "#7201a8"
             ],
             [
              0.3333333333333333,
              "#9c179e"
             ],
             [
              0.4444444444444444,
              "#bd3786"
             ],
             [
              0.5555555555555556,
              "#d8576b"
             ],
             [
              0.6666666666666666,
              "#ed7953"
             ],
             [
              0.7777777777777778,
              "#fb9f3a"
             ],
             [
              0.8888888888888888,
              "#fdca26"
             ],
             [
              1,
              "#f0f921"
             ]
            ],
            "type": "heatmap"
           }
          ],
          "heatmapgl": [
           {
            "colorbar": {
             "outlinewidth": 0,
             "ticks": ""
            },
            "colorscale": [
             [
              0,
              "#0d0887"
             ],
             [
              0.1111111111111111,
              "#46039f"
             ],
             [
              0.2222222222222222,
              "#7201a8"
             ],
             [
              0.3333333333333333,
              "#9c179e"
             ],
             [
              0.4444444444444444,
              "#bd3786"
             ],
             [
              0.5555555555555556,
              "#d8576b"
             ],
             [
              0.6666666666666666,
              "#ed7953"
             ],
             [
              0.7777777777777778,
              "#fb9f3a"
             ],
             [
              0.8888888888888888,
              "#fdca26"
             ],
             [
              1,
              "#f0f921"
             ]
            ],
            "type": "heatmapgl"
           }
          ],
          "histogram": [
           {
            "marker": {
             "pattern": {
              "fillmode": "overlay",
              "size": 10,
              "solidity": 0.2
             }
            },
            "type": "histogram"
           }
          ],
          "histogram2d": [
           {
            "colorbar": {
             "outlinewidth": 0,
             "ticks": ""
            },
            "colorscale": [
             [
              0,
              "#0d0887"
             ],
             [
              0.1111111111111111,
              "#46039f"
             ],
             [
              0.2222222222222222,
              "#7201a8"
             ],
             [
              0.3333333333333333,
              "#9c179e"
             ],
             [
              0.4444444444444444,
              "#bd3786"
             ],
             [
              0.5555555555555556,
              "#d8576b"
             ],
             [
              0.6666666666666666,
              "#ed7953"
             ],
             [
              0.7777777777777778,
              "#fb9f3a"
             ],
             [
              0.8888888888888888,
              "#fdca26"
             ],
             [
              1,
              "#f0f921"
             ]
            ],
            "type": "histogram2d"
           }
          ],
          "histogram2dcontour": [
           {
            "colorbar": {
             "outlinewidth": 0,
             "ticks": ""
            },
            "colorscale": [
             [
              0,
              "#0d0887"
             ],
             [
              0.1111111111111111,
              "#46039f"
             ],
             [
              0.2222222222222222,
              "#7201a8"
             ],
             [
              0.3333333333333333,
              "#9c179e"
             ],
             [
              0.4444444444444444,
              "#bd3786"
             ],
             [
              0.5555555555555556,
              "#d8576b"
             ],
             [
              0.6666666666666666,
              "#ed7953"
             ],
             [
              0.7777777777777778,
              "#fb9f3a"
             ],
             [
              0.8888888888888888,
              "#fdca26"
             ],
             [
              1,
              "#f0f921"
             ]
            ],
            "type": "histogram2dcontour"
           }
          ],
          "mesh3d": [
           {
            "colorbar": {
             "outlinewidth": 0,
             "ticks": ""
            },
            "type": "mesh3d"
           }
          ],
          "parcoords": [
           {
            "line": {
             "colorbar": {
              "outlinewidth": 0,
              "ticks": ""
             }
            },
            "type": "parcoords"
           }
          ],
          "pie": [
           {
            "automargin": true,
            "type": "pie"
           }
          ],
          "scatter": [
           {
            "fillpattern": {
             "fillmode": "overlay",
             "size": 10,
             "solidity": 0.2
            },
            "type": "scatter"
           }
          ],
          "scatter3d": [
           {
            "line": {
             "colorbar": {
              "outlinewidth": 0,
              "ticks": ""
             }
            },
            "marker": {
             "colorbar": {
              "outlinewidth": 0,
              "ticks": ""
             }
            },
            "type": "scatter3d"
           }
          ],
          "scattercarpet": [
           {
            "marker": {
             "colorbar": {
              "outlinewidth": 0,
              "ticks": ""
             }
            },
            "type": "scattercarpet"
           }
          ],
          "scattergeo": [
           {
            "marker": {
             "colorbar": {
              "outlinewidth": 0,
              "ticks": ""
             }
            },
            "type": "scattergeo"
           }
          ],
          "scattergl": [
           {
            "marker": {
             "colorbar": {
              "outlinewidth": 0,
              "ticks": ""
             }
            },
            "type": "scattergl"
           }
          ],
          "scattermapbox": [
           {
            "marker": {
             "colorbar": {
              "outlinewidth": 0,
              "ticks": ""
             }
            },
            "type": "scattermapbox"
           }
          ],
          "scatterpolar": [
           {
            "marker": {
             "colorbar": {
              "outlinewidth": 0,
              "ticks": ""
             }
            },
            "type": "scatterpolar"
           }
          ],
          "scatterpolargl": [
           {
            "marker": {
             "colorbar": {
              "outlinewidth": 0,
              "ticks": ""
             }
            },
            "type": "scatterpolargl"
           }
          ],
          "scatterternary": [
           {
            "marker": {
             "colorbar": {
              "outlinewidth": 0,
              "ticks": ""
             }
            },
            "type": "scatterternary"
           }
          ],
          "surface": [
           {
            "colorbar": {
             "outlinewidth": 0,
             "ticks": ""
            },
            "colorscale": [
             [
              0,
              "#0d0887"
             ],
             [
              0.1111111111111111,
              "#46039f"
             ],
             [
              0.2222222222222222,
              "#7201a8"
             ],
             [
              0.3333333333333333,
              "#9c179e"
             ],
             [
              0.4444444444444444,
              "#bd3786"
             ],
             [
              0.5555555555555556,
              "#d8576b"
             ],
             [
              0.6666666666666666,
              "#ed7953"
             ],
             [
              0.7777777777777778,
              "#fb9f3a"
             ],
             [
              0.8888888888888888,
              "#fdca26"
             ],
             [
              1,
              "#f0f921"
             ]
            ],
            "type": "surface"
           }
          ],
          "table": [
           {
            "cells": {
             "fill": {
              "color": "#EBF0F8"
             },
             "line": {
              "color": "white"
             }
            },
            "header": {
             "fill": {
              "color": "#C8D4E3"
             },
             "line": {
              "color": "white"
             }
            },
            "type": "table"
           }
          ]
         },
         "layout": {
          "annotationdefaults": {
           "arrowcolor": "#2a3f5f",
           "arrowhead": 0,
           "arrowwidth": 1
          },
          "autotypenumbers": "strict",
          "coloraxis": {
           "colorbar": {
            "outlinewidth": 0,
            "ticks": ""
           }
          },
          "colorscale": {
           "diverging": [
            [
             0,
             "#8e0152"
            ],
            [
             0.1,
             "#c51b7d"
            ],
            [
             0.2,
             "#de77ae"
            ],
            [
             0.3,
             "#f1b6da"
            ],
            [
             0.4,
             "#fde0ef"
            ],
            [
             0.5,
             "#f7f7f7"
            ],
            [
             0.6,
             "#e6f5d0"
            ],
            [
             0.7,
             "#b8e186"
            ],
            [
             0.8,
             "#7fbc41"
            ],
            [
             0.9,
             "#4d9221"
            ],
            [
             1,
             "#276419"
            ]
           ],
           "sequential": [
            [
             0,
             "#0d0887"
            ],
            [
             0.1111111111111111,
             "#46039f"
            ],
            [
             0.2222222222222222,
             "#7201a8"
            ],
            [
             0.3333333333333333,
             "#9c179e"
            ],
            [
             0.4444444444444444,
             "#bd3786"
            ],
            [
             0.5555555555555556,
             "#d8576b"
            ],
            [
             0.6666666666666666,
             "#ed7953"
            ],
            [
             0.7777777777777778,
             "#fb9f3a"
            ],
            [
             0.8888888888888888,
             "#fdca26"
            ],
            [
             1,
             "#f0f921"
            ]
           ],
           "sequentialminus": [
            [
             0,
             "#0d0887"
            ],
            [
             0.1111111111111111,
             "#46039f"
            ],
            [
             0.2222222222222222,
             "#7201a8"
            ],
            [
             0.3333333333333333,
             "#9c179e"
            ],
            [
             0.4444444444444444,
             "#bd3786"
            ],
            [
             0.5555555555555556,
             "#d8576b"
            ],
            [
             0.6666666666666666,
             "#ed7953"
            ],
            [
             0.7777777777777778,
             "#fb9f3a"
            ],
            [
             0.8888888888888888,
             "#fdca26"
            ],
            [
             1,
             "#f0f921"
            ]
           ]
          },
          "colorway": [
           "#636efa",
           "#EF553B",
           "#00cc96",
           "#ab63fa",
           "#FFA15A",
           "#19d3f3",
           "#FF6692",
           "#B6E880",
           "#FF97FF",
           "#FECB52"
          ],
          "font": {
           "color": "#2a3f5f"
          },
          "geo": {
           "bgcolor": "white",
           "lakecolor": "white",
           "landcolor": "#E5ECF6",
           "showlakes": true,
           "showland": true,
           "subunitcolor": "white"
          },
          "hoverlabel": {
           "align": "left"
          },
          "hovermode": "closest",
          "mapbox": {
           "style": "light"
          },
          "paper_bgcolor": "white",
          "plot_bgcolor": "#E5ECF6",
          "polar": {
           "angularaxis": {
            "gridcolor": "white",
            "linecolor": "white",
            "ticks": ""
           },
           "bgcolor": "#E5ECF6",
           "radialaxis": {
            "gridcolor": "white",
            "linecolor": "white",
            "ticks": ""
           }
          },
          "scene": {
           "xaxis": {
            "backgroundcolor": "#E5ECF6",
            "gridcolor": "white",
            "gridwidth": 2,
            "linecolor": "white",
            "showbackground": true,
            "ticks": "",
            "zerolinecolor": "white"
           },
           "yaxis": {
            "backgroundcolor": "#E5ECF6",
            "gridcolor": "white",
            "gridwidth": 2,
            "linecolor": "white",
            "showbackground": true,
            "ticks": "",
            "zerolinecolor": "white"
           },
           "zaxis": {
            "backgroundcolor": "#E5ECF6",
            "gridcolor": "white",
            "gridwidth": 2,
            "linecolor": "white",
            "showbackground": true,
            "ticks": "",
            "zerolinecolor": "white"
           }
          },
          "shapedefaults": {
           "line": {
            "color": "#2a3f5f"
           }
          },
          "ternary": {
           "aaxis": {
            "gridcolor": "white",
            "linecolor": "white",
            "ticks": ""
           },
           "baxis": {
            "gridcolor": "white",
            "linecolor": "white",
            "ticks": ""
           },
           "bgcolor": "#E5ECF6",
           "caxis": {
            "gridcolor": "white",
            "linecolor": "white",
            "ticks": ""
           }
          },
          "title": {
           "x": 0.05
          },
          "xaxis": {
           "automargin": true,
           "gridcolor": "white",
           "linecolor": "white",
           "ticks": "",
           "title": {
            "standoff": 15
           },
           "zerolinecolor": "white",
           "zerolinewidth": 2
          },
          "yaxis": {
           "automargin": true,
           "gridcolor": "white",
           "linecolor": "white",
           "ticks": "",
           "title": {
            "standoff": 15
           },
           "zerolinecolor": "white",
           "zerolinewidth": 2
          }
         }
        },
        "width": 500,
        "xaxis": {
         "autorange": true,
         "range": [
          -0.5,
          4.5
         ],
         "type": "category"
        },
        "yaxis": {
         "autorange": true,
         "range": [
          0.5,
          5.5
         ],
         "type": "linear"
        }
       }
      },
      "image/png": "[encoded data removed]",
      "text/html": [
       "<div>                            <div id=\"caddd5a0-4b10-448f-ad89-6fb10673f7d9\" class=\"plotly-graph-div\" style=\"height:500px; width:500px;\"></div>            <script type=\"text/javascript\">                require([\"plotly\"], function(Plotly) {                    window.PLOTLYENV=window.PLOTLYENV || {};                                    if (document.getElementById(\"caddd5a0-4b10-448f-ad89-6fb10673f7d9\")) {                    Plotly.newPlot(                        \"caddd5a0-4b10-448f-ad89-6fb10673f7d9\",                        [{\"x\":[\"a\",\"b\",\"c\",\"d\",\"e\"],\"y\":[1,2,3,4,5],\"z\":[[2,2,2,3,2],[2,2,2,2,2],[2,2,0,0,2],[4,2,2,3,2],[2,2,4,1,1]],\"type\":\"heatmap\"}],                        {\"template\":{\"data\":{\"histogram2dcontour\":[{\"type\":\"histogram2dcontour\",\"colorbar\":{\"outlinewidth\":0,\"ticks\":\"\"},\"colorscale\":[[0.0,\"#0d0887\"],[0.1111111111111111,\"#46039f\"],[0.2222222222222222,\"#7201a8\"],[0.3333333333333333,\"#9c179e\"],[0.4444444444444444,\"#bd3786\"],[0.5555555555555556,\"#d8576b\"],[0.6666666666666666,\"#ed7953\"],[0.7777777777777778,\"#fb9f3a\"],[0.8888888888888888,\"#fdca26\"],[1.0,\"#f0f921\"]]}],\"choropleth\":[{\"type\":\"choropleth\",\"colorbar\":{\"outlinewidth\":0,\"ticks\":\"\"}}],\"histogram2d\":[{\"type\":\"histogram2d\",\"colorbar\":{\"outlinewidth\":0,\"ticks\":\"\"},\"colorscale\":[[0.0,\"#0d0887\"],[0.1111111111111111,\"#46039f\"],[0.2222222222222222,\"#7201a8\"],[0.3333333333333333,\"#9c179e\"],[0.4444444444444444,\"#bd3786\"],[0.5555555555555556,\"#d8576b\"],[0.6666666666666666,\"#ed7953\"],[0.7777777777777778,\"#fb9f3a\"],[0.8888888888888888,\"#fdca26\"],[1.0,\"#f0f921\"]]}],\"heatmap\":[{\"type\":\"heatmap\",\"colorbar\":{\"outlinewidth\":0,\"ticks\":\"\"},\"colorscale\":[[0.0,\"#0d0887\"],[0.1111111111111111,\"#46039f\"],[0.2222222222222222,\"#7201a8\"],[0.3333333333333333,\"#9c179e\"],[0.4444444444444444,\"#bd3786\"],[0.5555555555555556,\"#d8576b\"],[0.6666666666666666,\"#ed7953\"],[0.7777777777777778,\"#fb9f3a\"],[0.8888888888888888,\"#fdca26\"],[1.0,\"#f0f921\"]]}],\"heatmapgl\":[{\"type\":\"heatmapgl\",\"colorbar\":{\"outlinewidth\":0,\"ticks\":\"\"},\"colorscale\":[[0.0,\"#0d0887\"],[0.1111111111111111,\"#46039f\"],[0.2222222222222222,\"#7201a8\"],[0.3333333333333333,\"#9c179e\"],[0.4444444444444444,\"#bd3786\"],[0.5555555555555556,\"#d8576b\"],[0.6666666666666666,\"#ed7953\"],[0.7777777777777778,\"#fb9f3a\"],[0.8888888888888888,\"#fdca26\"],[1.0,\"#f0f921\"]]}],\"contourcarpet\":[{\"type\":\"contourcarpet\",\"colorbar\":{\"outlinewidth\":0,\"ticks\":\"\"}}],\"contour\":[{\"type\":\"contour\",\"colorbar\":{\"outlinewidth\":0,\"ticks\":\"\"},\"colorscale\":[[0.0,\"#0d0887\"],[0.1111111111111111,\"#46039f\"],[0.2222222222222222,\"#7201a8\"],[0.3333333333333333,\"#9c179e\"],[0.4444444444444444,\"#bd3786\"],[0.5555555555555556,\"#d8576b\"],[0.6666666666666666,\"#ed7953\"],[0.7777777777777778,\"#fb9f3a\"],[0.8888888888888888,\"#fdca26\"],[1.0,\"#f0f921\"]]}],\"surface\":[{\"type\":\"surface\",\"colorbar\":{\"outlinewidth\":0,\"ticks\":\"\"},\"colorscale\":[[0.0,\"#0d0887\"],[0.1111111111111111,\"#46039f\"],[0.2222222222222222,\"#7201a8\"],[0.3333333333333333,\"#9c179e\"],[0.4444444444444444,\"#bd3786\"],[0.5555555555555556,\"#d8576b\"],[0.6666666666666666,\"#ed7953\"],[0.7777777777777778,\"#fb9f3a\"],[0.8888888888888888,\"#fdca26\"],[1.0,\"#f0f921\"]]}],\"mesh3d\":[{\"type\":\"mesh3d\",\"colorbar\":{\"outlinewidth\":0,\"ticks\":\"\"}}],\"scatter\":[{\"fillpattern\":{\"fillmode\":\"overlay\",\"size\":10,\"solidity\":0.2},\"type\":\"scatter\"}],\"parcoords\":[{\"type\":\"parcoords\",\"line\":{\"colorbar\":{\"outlinewidth\":0,\"ticks\":\"\"}}}],\"scatterpolargl\":[{\"type\":\"scatterpolargl\",\"marker\":{\"colorbar\":{\"outlinewidth\":0,\"ticks\":\"\"}}}],\"bar\":[{\"error_x\":{\"color\":\"#2a3f5f\"},\"error_y\":{\"color\":\"#2a3f5f\"},\"marker\":{\"line\":{\"color\":\"#E5ECF6\",\"width\":0.5},\"pattern\":{\"fillmode\":\"overlay\",\"size\":10,\"solidity\":0.2}},\"type\":\"bar\"}],\"scattergeo\":[{\"type\":\"scattergeo\",\"marker\":{\"colorbar\":{\"outlinewidth\":0,\"ticks\":\"\"}}}],\"scatterpolar\":[{\"type\":\"scatterpolar\",\"marker\":{\"colorbar\":{\"outlinewidth\":0,\"ticks\":\"\"}}}],\"histogram\":[{\"marker\":{\"pattern\":{\"fillmode\":\"overlay\",\"size\":10,\"solidity\":0.2}},\"type\":\"histogram\"}],\"scattergl\":[{\"type\":\"scattergl\",\"marker\":{\"colorbar\":{\"outlinewidth\":0,\"ticks\":\"\"}}}],\"scatter3d\":[{\"type\":\"scatter3d\",\"line\":{\"colorbar\":{\"outlinewidth\":0,\"ticks\":\"\"}},\"marker\":{\"colorbar\":{\"outlinewidth\":0,\"ticks\":\"\"}}}],\"scattermapbox\":[{\"type\":\"scattermapbox\",\"marker\":{\"colorbar\":{\"outlinewidth\":0,\"ticks\":\"\"}}}],\"scatterternary\":[{\"type\":\"scatterternary\",\"marker\":{\"colorbar\":{\"outlinewidth\":0,\"ticks\":\"\"}}}],\"scattercarpet\":[{\"type\":\"scattercarpet\",\"marker\":{\"colorbar\":{\"outlinewidth\":0,\"ticks\":\"\"}}}],\"carpet\":[{\"aaxis\":{\"endlinecolor\":\"#2a3f5f\",\"gridcolor\":\"white\",\"linecolor\":\"white\",\"minorgridcolor\":\"white\",\"startlinecolor\":\"#2a3f5f\"},\"baxis\":{\"endlinecolor\":\"#2a3f5f\",\"gridcolor\":\"white\",\"linecolor\":\"white\",\"minorgridcolor\":\"white\",\"startlinecolor\":\"#2a3f5f\"},\"type\":\"carpet\"}],\"table\":[{\"cells\":{\"fill\":{\"color\":\"#EBF0F8\"},\"line\":{\"color\":\"white\"}},\"header\":{\"fill\":{\"color\":\"#C8D4E3\"},\"line\":{\"color\":\"white\"}},\"type\":\"table\"}],\"barpolar\":[{\"marker\":{\"line\":{\"color\":\"#E5ECF6\",\"width\":0.5},\"pattern\":{\"fillmode\":\"overlay\",\"size\":10,\"solidity\":0.2}},\"type\":\"barpolar\"}],\"pie\":[{\"automargin\":true,\"type\":\"pie\"}]},\"layout\":{\"autotypenumbers\":\"strict\",\"colorway\":[\"#636efa\",\"#EF553B\",\"#00cc96\",\"#ab63fa\",\"#FFA15A\",\"#19d3f3\",\"#FF6692\",\"#B6E880\",\"#FF97FF\",\"#FECB52\"],\"font\":{\"color\":\"#2a3f5f\"},\"hovermode\":\"closest\",\"hoverlabel\":{\"align\":\"left\"},\"paper_bgcolor\":\"white\",\"plot_bgcolor\":\"#E5ECF6\",\"polar\":{\"bgcolor\":\"#E5ECF6\",\"angularaxis\":{\"gridcolor\":\"white\",\"linecolor\":\"white\",\"ticks\":\"\"},\"radialaxis\":{\"gridcolor\":\"white\",\"linecolor\":\"white\",\"ticks\":\"\"}},\"ternary\":{\"bgcolor\":\"#E5ECF6\",\"aaxis\":{\"gridcolor\":\"white\",\"linecolor\":\"white\",\"ticks\":\"\"},\"baxis\":{\"gridcolor\":\"white\",\"linecolor\":\"white\",\"ticks\":\"\"},\"caxis\":{\"gridcolor\":\"white\",\"linecolor\":\"white\",\"ticks\":\"\"}},\"coloraxis\":{\"colorbar\":{\"outlinewidth\":0,\"ticks\":\"\"}},\"colorscale\":{\"sequential\":[[0.0,\"#0d0887\"],[0.1111111111111111,\"#46039f\"],[0.2222222222222222,\"#7201a8\"],[0.3333333333333333,\"#9c179e\"],[0.4444444444444444,\"#bd3786\"],[0.5555555555555556,\"#d8576b\"],[0.6666666666666666,\"#ed7953\"],[0.7777777777777778,\"#fb9f3a\"],[0.8888888888888888,\"#fdca26\"],[1.0,\"#f0f921\"]],\"sequentialminus\":[[0.0,\"#0d0887\"],[0.1111111111111111,\"#46039f\"],[0.2222222222222222,\"#7201a8\"],[0.3333333333333333,\"#9c179e\"],[0.4444444444444444,\"#bd3786\"],[0.5555555555555556,\"#d8576b\"],[0.6666666666666666,\"#ed7953\"],[0.7777777777777778,\"#fb9f3a\"],[0.8888888888888888,\"#fdca26\"],[1.0,\"#f0f921\"]],\"diverging\":[[0,\"#8e0152\"],[0.1,\"#c51b7d\"],[0.2,\"#de77ae\"],[0.3,\"#f1b6da\"],[0.4,\"#fde0ef\"],[0.5,\"#f7f7f7\"],[0.6,\"#e6f5d0\"],[0.7,\"#b8e186\"],[0.8,\"#7fbc41\"],[0.9,\"#4d9221\"],[1,\"#276419\"]]},\"xaxis\":{\"gridcolor\":\"white\",\"linecolor\":\"white\",\"ticks\":\"\",\"title\":{\"standoff\":15},\"zerolinecolor\":\"white\",\"automargin\":true,\"zerolinewidth\":2},\"yaxis\":{\"gridcolor\":\"white\",\"linecolor\":\"white\",\"ticks\":\"\",\"title\":{\"standoff\":15},\"zerolinecolor\":\"white\",\"automargin\":true,\"zerolinewidth\":2},\"scene\":{\"xaxis\":{\"backgroundcolor\":\"#E5ECF6\",\"gridcolor\":\"white\",\"linecolor\":\"white\",\"showbackground\":true,\"ticks\":\"\",\"zerolinecolor\":\"white\",\"gridwidth\":2},\"yaxis\":{\"backgroundcolor\":\"#E5ECF6\",\"gridcolor\":\"white\",\"linecolor\":\"white\",\"showbackground\":true,\"ticks\":\"\",\"zerolinecolor\":\"white\",\"gridwidth\":2},\"zaxis\":{\"backgroundcolor\":\"#E5ECF6\",\"gridcolor\":\"white\",\"linecolor\":\"white\",\"showbackground\":true,\"ticks\":\"\",\"zerolinecolor\":\"white\",\"gridwidth\":2}},\"shapedefaults\":{\"line\":{\"color\":\"#2a3f5f\"}},\"annotationdefaults\":{\"arrowcolor\":\"#2a3f5f\",\"arrowhead\":0,\"arrowwidth\":1},\"geo\":{\"bgcolor\":\"white\",\"landcolor\":\"#E5ECF6\",\"subunitcolor\":\"white\",\"showland\":true,\"showlakes\":true,\"lakecolor\":\"white\"},\"title\":{\"x\":0.05},\"mapbox\":{\"style\":\"light\"}}},\"width\":500,\"height\":500},                        {\"responsive\": true}                    ).then(function(){\n",
       "                            \n",
       "var gd = document.getElementById('caddd5a0-4b10-448f-ad89-6fb10673f7d9');\n",
       "var x = new MutationObserver(function (mutations, observer) {{\n",
       "        var display = window.getComputedStyle(gd).display;\n",
       "        if (!display || display === 'none') {{\n",
       "            console.log([gd, 'removed!']);\n",
       "            Plotly.purge(gd);\n",
       "            observer.disconnect();\n",
       "        }}\n",
       "}});\n",
       "\n",
       "// Listen for the removal of the full notebook cells\n",
       "var notebookContainer = gd.closest('#notebook-container');\n",
       "if (notebookContainer) {{\n",
       "    x.observe(notebookContainer, {childList: true});\n",
       "}}\n",
       "\n",
       "// Listen for the clearing of the current output cell\n",
       "var outputEl = gd.closest('.output');\n",
       "if (outputEl) {{\n",
       "    x.observe(outputEl, {childList: true});\n",
       "}}\n",
       "\n",
       "                        })                };                });            </script>        </div>"
      ]
     },
     "metadata": {},
     "output_type": "display_data"
    }
   ],
   "source": [
    "x = ['a', 'b', 'c', 'd', 'e']\n",
    "y = [1, 2, 3, 4, 5]\n",
    "fig = go.Figure(go.Heatmap(z=table, x=x, y=y, ))\n",
    "fig.update_layout(\n",
    "    # yaxis = dict(\n",
    "    #     scaleanchor = 'x',\n",
    "    #     scaleratio = 1,\n",
    "    # ),\n",
    "    # xaxis = dict(\n",
    "    #     constrain = 'domain'\n",
    "    # ),\n",
    "    width = 500,  # You can adjust this value\n",
    "    height = 500  # Make sure width and height are the same for a square plot\n",
    ")\n",
    "fig.show()"
   ]
  },
  {
   "cell_type": "code",
   "execution_count": null,
   "id": "db50259b-eb32-42b6-878f-2c1618eef8d0",
   "metadata": {},
   "outputs": [],
   "source": []
  }
 ],
 "metadata": {
  "kernelspec": {
   "display_name": "Python 3 (ipykernel)",
   "language": "python",
   "name": "python3"
  },
  "language_info": {
   "codemirror_mode": {
    "name": "ipython",
    "version": 3
   },
   "file_extension": ".py",
   "mimetype": "text/x-python",
   "name": "python",
   "nbconvert_exporter": "python",
   "pygments_lexer": "ipython3",
   "version": "3.12.4"
  }
 },
 "nbformat": 4,
 "nbformat_minor": 5
}
