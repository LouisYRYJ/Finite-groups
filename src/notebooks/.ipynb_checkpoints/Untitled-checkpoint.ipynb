{
 "cells": [
  {
   "cell_type": "code",
   "execution_count": 23,
   "id": "68de9170-e954-4358-911c-a8d54e21a84a",
   "metadata": {},
   "outputs": [
    {
     "ename": "ModuleNotFoundError",
     "evalue": "No module named 'jaxtyping'",
     "output_type": "error",
     "traceback": [
      "\u001b[0;31m---------------------------------------------------------------------------\u001b[0m",
      "\u001b[0;31mModuleNotFoundError\u001b[0m                       Traceback (most recent call last)",
      "Cell \u001b[0;32mIn[23], line 8\u001b[0m\n\u001b[1;32m      6\u001b[0m \u001b[38;5;28;01mfrom\u001b[39;00m \u001b[38;5;21;01mitertools\u001b[39;00m \u001b[38;5;28;01mimport\u001b[39;00m product\n\u001b[1;32m      7\u001b[0m sys\u001b[38;5;241m.\u001b[39mpath\u001b[38;5;241m.\u001b[39mappend(\u001b[38;5;124m'\u001b[39m\u001b[38;5;124m/home/wilson/Finite-groups/src\u001b[39m\u001b[38;5;124m'\u001b[39m)\n\u001b[0;32m----> 8\u001b[0m \u001b[38;5;28;01mfrom\u001b[39;00m \u001b[38;5;21;01mmodel\u001b[39;00m \u001b[38;5;28;01mimport\u001b[39;00m MLP3\n",
      "File \u001b[0;32m~/Finite-groups/src/model.py:4\u001b[0m\n\u001b[1;32m      2\u001b[0m \u001b[38;5;28;01mimport\u001b[39;00m \u001b[38;5;21;01mtorch\u001b[39;00m\u001b[38;5;21;01m.\u001b[39;00m\u001b[38;5;21;01mnn\u001b[39;00m\u001b[38;5;21;01m.\u001b[39;00m\u001b[38;5;21;01mfunctional\u001b[39;00m \u001b[38;5;28;01mas\u001b[39;00m \u001b[38;5;21;01mF\u001b[39;00m\n\u001b[1;32m      3\u001b[0m \u001b[38;5;28;01mfrom\u001b[39;00m \u001b[38;5;21;01mtorch\u001b[39;00m \u001b[38;5;28;01mimport\u001b[39;00m nn\n\u001b[0;32m----> 4\u001b[0m \u001b[38;5;28;01mfrom\u001b[39;00m \u001b[38;5;21;01mjaxtyping\u001b[39;00m \u001b[38;5;28;01mimport\u001b[39;00m Float, Int, jaxtyped\n\u001b[1;32m      5\u001b[0m \u001b[38;5;28;01mfrom\u001b[39;00m \u001b[38;5;21;01mtyping\u001b[39;00m \u001b[38;5;28;01mimport\u001b[39;00m Optional, Callable, Union, List, Tuple\n\u001b[1;32m      6\u001b[0m \u001b[38;5;28;01mimport\u001b[39;00m \u001b[38;5;21;01meinops\u001b[39;00m\n",
      "\u001b[0;31mModuleNotFoundError\u001b[0m: No module named 'jaxtyping'"
     ]
    }
   ],
   "source": [
    "import sys\n",
    "import torch\n",
    "import numpy as np\n",
    "from matplotlib import pyplot as plt\n",
    "import json\n",
    "from itertools import product\n",
    "sys.path.append('/home/wilson/Finite-groups/src')\n",
    "from model import MLP3"
   ]
  },
  {
   "cell_type": "code",
   "execution_count": 29,
   "id": "e18b7fa1-38b5-41aa-aec2-fdd788793847",
   "metadata": {},
   "outputs": [
    {
     "name": "stdout",
     "output_type": "stream",
     "text": [
      "zsh:1: command not found: jax\n",
      "ERROR: Pipe to stdout was broken\n",
      "\n",
      "\u001b[1m[\u001b[0m\u001b[34;49mnotice\u001b[0m\u001b[1;39;49m]\u001b[0m\u001b[39;49m A new release of pip is available: \u001b[0m\u001b[31;49m24.0\u001b[0m\u001b[39;49m -> \u001b[0m\u001b[32;49m24.1.2\u001b[0m\n",
      "\u001b[1m[\u001b[0m\u001b[34;49mnotice\u001b[0m\u001b[1;39;49m]\u001b[0m\u001b[39;49m To update, run: \u001b[0m\u001b[32;49mpip install --upgrade pip\u001b[0m\n",
      "Exception ignored in: <_io.TextIOWrapper name='<stdout>' mode='w' encoding='utf-8'>\n",
      "BrokenPipeError: [Errno 32] Broken pipe\n"
     ]
    }
   ],
   "source": [
    "!pip list | jax"
   ]
  },
  {
   "cell_type": "code",
   "execution_count": 26,
   "id": "1a0a1ba1-02d2-424e-88d0-93a02019e60c",
   "metadata": {},
   "outputs": [
    {
     "ename": "ModuleNotFoundError",
     "evalue": "No module named 'jaxtyping'",
     "output_type": "error",
     "traceback": [
      "\u001b[0;31m---------------------------------------------------------------------------\u001b[0m",
      "\u001b[0;31mModuleNotFoundError\u001b[0m                       Traceback (most recent call last)",
      "Cell \u001b[0;32mIn[26], line 1\u001b[0m\n\u001b[0;32m----> 1\u001b[0m \u001b[38;5;28;01mimport\u001b[39;00m \u001b[38;5;21;01mjaxtyping\u001b[39;00m\n",
      "\u001b[0;31mModuleNotFoundError\u001b[0m: No module named 'jaxtyping'"
     ]
    }
   ],
   "source": [
    "import jaxtyping"
   ]
  },
  {
   "cell_type": "code",
   "execution_count": 25,
   "id": "c7d69952-e094-471a-a5fe-94fb2def86c3",
   "metadata": {},
   "outputs": [
    {
     "name": "stdout",
     "output_type": "stream",
     "text": [
      "Requirement already satisfied: jaxtyping in /home/wilson/.cache/pypoetry/virtualenvs/group_addition-NwPnJmHb-py3.12/lib/python3.12/site-packages (0.2.33)\n",
      "Requirement already satisfied: typeguard==2.13.3 in /home/wilson/.cache/pypoetry/virtualenvs/group_addition-NwPnJmHb-py3.12/lib/python3.12/site-packages (from jaxtyping) (2.13.3)\n",
      "\n",
      "\u001b[1m[\u001b[0m\u001b[34;49mnotice\u001b[0m\u001b[1;39;49m]\u001b[0m\u001b[39;49m A new release of pip is available: \u001b[0m\u001b[31;49m24.0\u001b[0m\u001b[39;49m -> \u001b[0m\u001b[32;49m24.1.2\u001b[0m\n",
      "\u001b[1m[\u001b[0m\u001b[34;49mnotice\u001b[0m\u001b[1;39;49m]\u001b[0m\u001b[39;49m To update, run: \u001b[0m\u001b[32;49mpip install --upgrade pip\u001b[0m\n"
     ]
    }
   ],
   "source": [
    "!pip install jaxtyping"
   ]
  },
  {
   "cell_type": "code",
   "execution_count": 9,
   "id": "5693d4ab-5b5b-477e-a26d-b8958a18d13c",
   "metadata": {},
   "outputs": [],
   "source": [
    "class dotdict(dict):\n",
    "    __getattr__ = dict.__getitem__\n",
    "    __setattr__ = dict.__setitem__\n",
    "    __delattr__ = dict.__delitem__"
   ]
  },
  {
   "cell_type": "code",
   "execution_count": 9,
   "id": "5a7d87bc-e44c-49ad-a8ad-50a2b46b5080",
   "metadata": {},
   "outputs": [],
   "source": [
    "loss_dict = torch.load('/workspace/Finite-groups/src/models/2024-07-13_00-37-04_long_run/losses/007940.pt')\n",
    "loss_dict = {k: v.detach().cpu().numpy() for k, v in loss_dict.items()}"
   ]
  },
  {
   "cell_type": "code",
   "execution_count": 10,
   "id": "96abb17b-043a-45e2-b469-bd1015c1cbc3",
   "metadata": {},
   "outputs": [
    {
     "data": {
      "text/plain": [
       "dict_keys(['G1_loss', 'G2_loss', 'G1_accuracy', 'G2_accuracy', 'epoch_train_loss', 'epoch_train_acc', 'epoch_train_margin'])"
      ]
     },
     "execution_count": 10,
     "metadata": {},
     "output_type": "execute_result"
    }
   ],
   "source": [
    "loss_dict.keys()"
   ]
  },
  {
   "cell_type": "code",
   "execution_count": 17,
   "id": "dcd7a412-46e8-4767-8c51-18a3f6543c98",
   "metadata": {},
   "outputs": [
    {
     "data": {
      "image/png": "[encoded data removed]",
      "text/plain": [
       "<Figure size 640x480 with 1 Axes>"
      ]
     },
     "metadata": {},
     "output_type": "display_data"
    }
   ],
   "source": [
    "plt.scatter(loss_dict['G1_loss'], loss_dict['epoch_train_loss'])\n",
    "plt.show()"
   ]
  },
  {
   "cell_type": "code",
   "execution_count": 7,
   "id": "e7d39bce-0448-4dfd-af65-32a712e39e13",
   "metadata": {},
   "outputs": [],
   "source": [
    "params = json.load(open('/home/wilson/Finite-groups/src/models/2024-07-13_15-01-18_four/params.json', 'r'))"
   ]
  },
  {
   "cell_type": "code",
   "execution_count": 10,
   "id": "f3a357bd-e526-49e5-9ba9-5da31956ac16",
   "metadata": {},
   "outputs": [],
   "source": [
    "params = dotdict(params)"
   ]
  },
  {
   "cell_type": "code",
   "execution_count": 14,
   "id": "15b15cf4-7d24-488e-ba67-5b57a57a563c",
   "metadata": {},
   "outputs": [],
   "source": [
    "test_inputs = torch.tensor(list(product(range(params.N), repeat=2)), device='cpu')"
   ]
  },
  {
   "cell_type": "code",
   "execution_count": 15,
   "id": "715f5f80-f6a6-4f67-b5fa-41d3b18c6ed2",
   "metadata": {},
   "outputs": [
    {
     "ename": "NameError",
     "evalue": "name 'MLP3' is not defined",
     "output_type": "error",
     "traceback": [
      "\u001b[0;31m---------------------------------------------------------------------------\u001b[0m",
      "\u001b[0;31mNameError\u001b[0m                                 Traceback (most recent call last)",
      "Cell \u001b[0;32mIn[15], line 1\u001b[0m\n\u001b[0;32m----> 1\u001b[0m model \u001b[38;5;241m=\u001b[39m \u001b[43mMLP3\u001b[49m(params)\u001b[38;5;241m.\u001b[39mto(\u001b[38;5;124m'\u001b[39m\u001b[38;5;124mcuda\u001b[39m\u001b[38;5;124m'\u001b[39m)\n",
      "\u001b[0;31mNameError\u001b[0m: name 'MLP3' is not defined"
     ]
    }
   ],
   "source": [
    "model = MLP3(params).to('cuda')"
   ]
  },
  {
   "cell_type": "code",
   "execution_count": 43,
   "id": "695f07c7-5c06-43cb-a1b2-a87cbcdb5206",
   "metadata": {},
   "outputs": [],
   "source": [
    "logits = model(test_inputs)"
   ]
  },
  {
   "cell_type": "code",
   "execution_count": 45,
   "id": "20ff6688-5b71-47dc-a242-5a026b098793",
   "metadata": {},
   "outputs": [
    {
     "data": {
      "text/plain": [
       "torch.Size([9216, 100, 96])"
      ]
     },
     "execution_count": 45,
     "metadata": {},
     "output_type": "execute_result"
    }
   ],
   "source": [
    "logits.shape"
   ]
  },
  {
   "cell_type": "code",
   "execution_count": 47,
   "id": "dba5ac08-8b1a-4ed4-9919-5689fad7d9f7",
   "metadata": {},
   "outputs": [
    {
     "data": {
      "text/plain": [
       "tensor([0, 0], device='cuda:0')"
      ]
     },
     "execution_count": 47,
     "metadata": {},
     "output_type": "execute_result"
    }
   ],
   "source": [
    "test_inputs[0]"
   ]
  },
  {
   "cell_type": "code",
   "execution_count": 51,
   "id": "ebb66e7f-08a6-45d0-8fee-6bcfdfe397a8",
   "metadata": {},
   "outputs": [],
   "source": [
    "mult_table = np.zeros((96, 96))"
   ]
  },
  {
   "cell_type": "code",
   "execution_count": 53,
   "id": "32d33b3b-5ab1-4f2a-beeb-7ef754620ef2",
   "metadata": {},
   "outputs": [
    {
     "ename": "RuntimeError",
     "evalue": "a Tensor with 96 elements cannot be converted to Scalar",
     "output_type": "error",
     "traceback": [
      "\u001b[0;31m---------------------------------------------------------------------------\u001b[0m",
      "\u001b[0;31mRuntimeError\u001b[0m                              Traceback (most recent call last)",
      "Cell \u001b[0;32mIn[53], line 5\u001b[0m\n\u001b[1;32m      3\u001b[0m i \u001b[38;5;241m=\u001b[39m i\u001b[38;5;241m.\u001b[39mitem()\n\u001b[1;32m      4\u001b[0m j \u001b[38;5;241m=\u001b[39m j\u001b[38;5;241m.\u001b[39mitem()\n\u001b[0;32m----> 5\u001b[0m mult_table[i, j] \u001b[38;5;241m=\u001b[39m \u001b[43mlogits\u001b[49m\u001b[43m[\u001b[49m\u001b[43mn\u001b[49m\u001b[43m,\u001b[49m\u001b[43m \u001b[49m\u001b[43minstance\u001b[49m\u001b[43m]\u001b[49m\u001b[38;5;241;43m.\u001b[39;49m\u001b[43mitem\u001b[49m\u001b[43m(\u001b[49m\u001b[43m)\u001b[49m\n",
      "\u001b[0;31mRuntimeError\u001b[0m: a Tensor with 96 elements cannot be converted to Scalar"
     ]
    }
   ],
   "source": [
    "instance = 0\n",
    "for n, (i, j) in enumerate(test_inputs):\n",
    "    i = i.item()\n",
    "    j = j.item()\n",
    "    mult_table[i, j] = logits[n, instance].item()"
   ]
  },
  {
   "cell_type": "code",
   "execution_count": null,
   "id": "465b74f3-bf6c-429a-b3cf-0a52fb09beb3",
   "metadata": {},
   "outputs": [],
   "source": []
  },
  {
   "cell_type": "code",
   "execution_count": null,
   "id": "277304e0-8886-4d81-9409-693ec7459774",
   "metadata": {},
   "outputs": [],
   "source": []
  },
  {
   "cell_type": "code",
   "execution_count": null,
   "id": "337d0370-0923-4bba-b908-2828416a5d98",
   "metadata": {},
   "outputs": [],
   "source": []
  },
  {
   "cell_type": "code",
   "execution_count": null,
   "id": "2a59fa27-5c8c-4d3a-aeb8-4cefd680aa79",
   "metadata": {},
   "outputs": [],
   "source": []
  }
 ],
 "metadata": {
  "kernelspec": {
   "display_name": "Python 3 (ipykernel)",
   "language": "python",
   "name": "python3"
  },
  "language_info": {
   "codemirror_mode": {
    "name": "ipython",
    "version": 3
   },
   "file_extension": ".py",
   "mimetype": "text/x-python",
   "name": "python",
   "nbconvert_exporter": "python",
   "pygments_lexer": "ipython3",
   "version": "3.12.4"
  }
 },
 "nbformat": 4,
 "nbformat_minor": 5
}
